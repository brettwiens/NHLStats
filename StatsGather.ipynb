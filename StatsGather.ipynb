{
 "cells": [
  {
   "cell_type": "code",
   "execution_count": null,
   "metadata": {},
   "outputs": [],
   "source": [
    "## docker build -f c:\\NHLStatistics\\Dockerfile -t nhlstatistics:latest .\n",
    "## docker run -p 8501:8501 nhlstatistics:latest"
   ]
  },
  {
   "cell_type": "code",
   "execution_count": 2,
   "metadata": {},
   "outputs": [],
   "source": [
    "import streamlit as st\n",
    "import pandas as pd\n",
    "import numpy as np\n",
    "# from urllib2 import Request, urlopen\n",
    "\n",
    "import requests\n",
    "import pickle\n",
    "import itertools\n",
    "import json\n",
    "from itertools import chain\n",
    "from io import StringIO\n",
    "import ast\n",
    "import datetime\n",
    "\n",
    "from tqdm.notebook import tqdm, trange\n",
    "import time\n",
    "\n",
    "from pandas.io.json import json_normalize"
   ]
  },
  {
   "cell_type": "code",
   "execution_count": 2,
   "metadata": {},
   "outputs": [],
   "source": [
    "# year = '2019'\n",
    "# season_type = '02' ## Regular Season = 02 / Playoffs = 03 / Pre-Season = 01\n",
    "# max_game_ID = 1290 ## 1290 Games/Season"
   ]
  },
  {
   "cell_type": "markdown",
   "metadata": {},
   "source": [
    "## Collect Information about Each Team"
   ]
  },
  {
   "cell_type": "code",
   "execution_count": 3,
   "metadata": {},
   "outputs": [
    {
     "name": "stdout",
     "output_type": "stream",
     "text": [
      "    id  locationName        teamName                   name abbreviation  \\\n",
      "0    1    New Jersey          Devils      New Jersey Devils          NJD   \n",
      "1    2      New York       Islanders     New York Islanders          NYI   \n",
      "2    3      New York         Rangers       New York Rangers          NYR   \n",
      "3    4  Philadelphia          Flyers    Philadelphia Flyers          PHI   \n",
      "4    5    Pittsburgh        Penguins    Pittsburgh Penguins          PIT   \n",
      "5    6        Boston          Bruins          Boston Bruins          BOS   \n",
      "6    7       Buffalo          Sabres         Buffalo Sabres          BUF   \n",
      "7    8      Montréal       Canadiens     Montréal Canadiens          MTL   \n",
      "8    9        Ottawa        Senators        Ottawa Senators          OTT   \n",
      "9   10       Toronto     Maple Leafs    Toronto Maple Leafs          TOR   \n",
      "10  12      Carolina      Hurricanes    Carolina Hurricanes          CAR   \n",
      "11  13       Florida        Panthers       Florida Panthers          FLA   \n",
      "12  14     Tampa Bay       Lightning    Tampa Bay Lightning          TBL   \n",
      "13  15    Washington        Capitals    Washington Capitals          WSH   \n",
      "14  16       Chicago      Blackhawks     Chicago Blackhawks          CHI   \n",
      "15  17       Detroit       Red Wings      Detroit Red Wings          DET   \n",
      "16  18     Nashville       Predators    Nashville Predators          NSH   \n",
      "17  19     St. Louis           Blues        St. Louis Blues          STL   \n",
      "18  20       Calgary          Flames         Calgary Flames          CGY   \n",
      "19  21      Colorado       Avalanche     Colorado Avalanche          COL   \n",
      "20  22      Edmonton          Oilers        Edmonton Oilers          EDM   \n",
      "21  23     Vancouver         Canucks      Vancouver Canucks          VAN   \n",
      "22  24       Anaheim           Ducks          Anaheim Ducks          ANA   \n",
      "23  25        Dallas           Stars           Dallas Stars          DAL   \n",
      "24  26   Los Angeles           Kings      Los Angeles Kings          LAK   \n",
      "25  28      San Jose          Sharks        San Jose Sharks          SJS   \n",
      "26  29      Columbus    Blue Jackets  Columbus Blue Jackets          CBJ   \n",
      "27  30     Minnesota            Wild         Minnesota Wild          MIN   \n",
      "28  52      Winnipeg            Jets          Winnipeg Jets          WPG   \n",
      "29  53       Arizona         Coyotes        Arizona Coyotes          ARI   \n",
      "30  54         Vegas  Golden Knights   Vegas Golden Knights          VGK   \n",
      "\n",
      "                link  \n",
      "0    /api/v1/teams/1  \n",
      "1    /api/v1/teams/2  \n",
      "2    /api/v1/teams/3  \n",
      "3    /api/v1/teams/4  \n",
      "4    /api/v1/teams/5  \n",
      "5    /api/v1/teams/6  \n",
      "6    /api/v1/teams/7  \n",
      "7    /api/v1/teams/8  \n",
      "8    /api/v1/teams/9  \n",
      "9   /api/v1/teams/10  \n",
      "10  /api/v1/teams/12  \n",
      "11  /api/v1/teams/13  \n",
      "12  /api/v1/teams/14  \n",
      "13  /api/v1/teams/15  \n",
      "14  /api/v1/teams/16  \n",
      "15  /api/v1/teams/17  \n",
      "16  /api/v1/teams/18  \n",
      "17  /api/v1/teams/19  \n",
      "18  /api/v1/teams/20  \n",
      "19  /api/v1/teams/21  \n",
      "20  /api/v1/teams/22  \n",
      "21  /api/v1/teams/23  \n",
      "22  /api/v1/teams/24  \n",
      "23  /api/v1/teams/25  \n",
      "24  /api/v1/teams/26  \n",
      "25  /api/v1/teams/28  \n",
      "26  /api/v1/teams/29  \n",
      "27  /api/v1/teams/30  \n",
      "28  /api/v1/teams/52  \n",
      "29  /api/v1/teams/53  \n",
      "30  /api/v1/teams/54  \n"
     ]
    }
   ],
   "source": [
    "Teams = requests.get(url='https://statsapi.web.nhl.com/api/v1/teams')\n",
    "Teams = Teams.json()\n",
    "Teams = pd.concat([pd.DataFrame(Teams['teams'])['id'],\n",
    "                   pd.DataFrame(Teams['teams'])['locationName'],\n",
    "                   pd.DataFrame(Teams['teams'])['teamName'],\n",
    "                   pd.DataFrame(Teams['teams'])['name'],\n",
    "                   pd.DataFrame(Teams['teams'])['abbreviation'] ,\n",
    "                   pd.DataFrame(Teams['teams'])['link'],\n",
    "], axis = 1)\n",
    "\n",
    "print(Teams)"
   ]
  },
  {
   "cell_type": "markdown",
   "metadata": {},
   "source": [
    "## Collect the Whole League Roster"
   ]
  },
  {
   "cell_type": "code",
   "execution_count": 4,
   "metadata": {},
   "outputs": [
    {
     "data": {
      "application/vnd.jupyter.widget-view+json": {
       "model_id": "1c406e5eb23c469e8325e3802d700576",
       "version_major": 2,
       "version_minor": 0
      },
      "text/plain": [
       "HBox(children=(HTML(value=''), FloatProgress(value=0.0, max=31.0), HTML(value='')))"
      ]
     },
     "metadata": {},
     "output_type": "display_data"
    },
    {
     "name": "stdout",
     "output_type": "stream",
     "text": [
      "\n",
      "          ID         FullName                    Link PosCode     PosName  \\\n",
      "0    8470645   Corey Crawford  /api/v1/people/8470645       G      Goalie   \n",
      "1    8471233     Travis Zajac  /api/v1/people/8471233       C      Center   \n",
      "2    8474056      P.K. Subban  /api/v1/people/8474056       D  Defenseman   \n",
      "3    8475151    Kyle Palmieri  /api/v1/people/8475151       R  Right Wing   \n",
      "4    8475179   Dmitry Kulikov  /api/v1/people/8475179       D  Defenseman   \n",
      "..       ...              ...                     ...     ...         ...   \n",
      "763  8478097        Reid Duke  /api/v1/people/8478097       C      Center   \n",
      "764  8478106     Dylan Sikura  /api/v1/people/8478106       R  Right Wing   \n",
      "765  8478462      Nicolas Roy  /api/v1/people/8478462       C      Center   \n",
      "766  8479639    Dylan Coghlan  /api/v1/people/8479639       D  Defenseman   \n",
      "767  8480727  Zach Whitecloud  /api/v1/people/8480727       D  Defenseman   \n",
      "\n",
      "        PosType PosAbbreviation                  Team  \n",
      "0        Goalie               G     New Jersey Devils  \n",
      "1       Forward               C     New Jersey Devils  \n",
      "2    Defenseman               D     New Jersey Devils  \n",
      "3       Forward              RW     New Jersey Devils  \n",
      "4    Defenseman               D     New Jersey Devils  \n",
      "..          ...             ...                   ...  \n",
      "763     Forward               C  Vegas Golden Knights  \n",
      "764     Forward              RW  Vegas Golden Knights  \n",
      "765     Forward               C  Vegas Golden Knights  \n",
      "766  Defenseman               D  Vegas Golden Knights  \n",
      "767  Defenseman               D  Vegas Golden Knights  \n",
      "\n",
      "[768 rows x 8 columns]\n"
     ]
    }
   ],
   "source": [
    "FullRoster = pd.DataFrame()\n",
    "\n",
    "intCounter = 0\n",
    "for teamLink in tqdm(Teams['link']):\n",
    "    SourceData = pd.DataFrame.from_dict(requests.get(url='https://statsapi.web.nhl.com' + teamLink + '/roster').json())['roster'].to_dict()\n",
    "    for Player in SourceData:\n",
    "        Person = SourceData[Player]['person']\n",
    "        Position = SourceData[Player]['position']\n",
    "        \n",
    "        CurrentPlayer = StringIO(\"\"\"ID;FullName;Link;PosCode;PosName;PosType;PosAbbreviation;Team\n",
    "        \"\"\" +\n",
    "                                 str(Person['id']) + \";\" +\n",
    "                                 Person['fullName'] + \";\" +\n",
    "                                 Person['link'] + \";\" +\n",
    "                                 Position['code'] + \";\" +\n",
    "                                 Position['name'] + \";\" +\n",
    "                                 Position['type'] + \";\" +\n",
    "                                 Position['abbreviation'] + \";\" +\n",
    "                                 Teams['name'][intCounter])\n",
    "        CurrentPlayer = pd.read_csv(CurrentPlayer, sep = \";\")\n",
    "        \n",
    "        FullRoster = FullRoster.append(CurrentPlayer, ignore_index=True)\n",
    "    intCounter += 1\n",
    "    \n",
    "print(FullRoster)"
   ]
  },
  {
   "cell_type": "code",
   "execution_count": 7,
   "metadata": {},
   "outputs": [],
   "source": [
    "# PlayerLinks = FullRoster['Link']\n",
    "# print(PlayerLinks)"
   ]
  },
  {
   "cell_type": "markdown",
   "metadata": {},
   "source": [
    "## Player Details"
   ]
  },
  {
   "cell_type": "code",
   "execution_count": 8,
   "metadata": {},
   "outputs": [
    {
     "data": {
      "application/vnd.jupyter.widget-view+json": {
       "model_id": "8fe2b68a51704a498e371e86e65d9f22",
       "version_major": 2,
       "version_minor": 0
      },
      "text/plain": [
       "HBox(children=(HTML(value=''), FloatProgress(value=0.0, max=767.0), HTML(value='')))"
      ]
     },
     "metadata": {},
     "output_type": "display_data"
    },
    {
     "name": "stdout",
     "output_type": "stream",
     "text": [
      "\n",
      "          ID Position         FullName                    Link FirstName  \\\n",
      "0    8470645        G   Corey Crawford  /api/v1/people/8470645     Corey   \n",
      "1    8471233        C     Travis Zajac  /api/v1/people/8471233    Travis   \n",
      "2    8474056        D      P.K. Subban  /api/v1/people/8474056      P.K.   \n",
      "3    8475151       RW    Kyle Palmieri  /api/v1/people/8475151      Kyle   \n",
      "4    8475179        D   Dmitry Kulikov  /api/v1/people/8475179    Dmitry   \n",
      "..       ...      ...              ...                     ...       ...   \n",
      "762  8478097        C        Reid Duke  /api/v1/people/8478097      Reid   \n",
      "763  8478106       RW     Dylan Sikura  /api/v1/people/8478106     Dylan   \n",
      "764  8478462        C      Nicolas Roy  /api/v1/people/8478462   Nicolas   \n",
      "765  8479639        D    Dylan Coghlan  /api/v1/people/8479639     Dylan   \n",
      "766  8480727        D  Zach Whitecloud  /api/v1/people/8480727      Zach   \n",
      "\n",
      "       LastName  PrimaryNumber   BirthDate  CurrentAge  BirthCity  ...  \\\n",
      "0      Crawford             50  1984-12-31          35   Montreal  ...   \n",
      "1         Zajac             19  1985-05-13          35   Winnipeg  ...   \n",
      "2        Subban             76  1989-05-13          31    Toronto  ...   \n",
      "3      Palmieri             21  1991-02-01          29  Smithtown  ...   \n",
      "4       Kulikov              7  1990-10-29          30    Lipetsk  ...   \n",
      "..          ...            ...         ...         ...        ...  ...   \n",
      "762        Duke             37  1996-01-28          24    Calgary  ...   \n",
      "763      Sikura             95  1995-06-01          25     Aurora  ...   \n",
      "764         Roy             10  1997-02-05          23       Amos  ...   \n",
      "765     Coghlan             52  1998-02-19          22     Duncan  ...   \n",
      "766  Whitecloud              2  1996-11-28          24    Brandon  ...   \n",
      "\n",
      "    BirthCountry Nationality  Height Weight  Active  AlternateCaptain  \\\n",
      "0            CAN         CAN   6' 2\"    216    True             False   \n",
      "1            CAN         CAN   6' 2\"    185    True              True   \n",
      "2            CAN         CAN   6' 0\"    210    True             False   \n",
      "3            USA         USA  5' 11\"    185    True              True   \n",
      "4            RUS         RUS   6' 1\"    204    True             False   \n",
      "..           ...         ...     ...    ...     ...               ...   \n",
      "762          CAN         CAN   6' 0\"    191    True             False   \n",
      "763          CAN         CAN  5' 11\"    166    True             False   \n",
      "764          CAN         CAN   6' 4\"    200    True             False   \n",
      "765          CAN         CAN   6' 2\"    190    True             False   \n",
      "766          CAN         CAN   6' 2\"    209    True             False   \n",
      "\n",
      "     Captain  Rookie  ShootsCatches RosterStatus  \n",
      "0      False   False              L            Y  \n",
      "1      False   False              R            Y  \n",
      "2      False   False              R            Y  \n",
      "3      False   False              R            Y  \n",
      "4      False   False              L            Y  \n",
      "..       ...     ...            ...          ...  \n",
      "762    False    True              R            Y  \n",
      "763    False   False              L            Y  \n",
      "764    False    True              R            Y  \n",
      "765    False    True              R            Y  \n",
      "766    False    True              R            Y  \n",
      "\n",
      "[767 rows x 21 columns]\n"
     ]
    }
   ],
   "source": [
    "PlayerDetails = pd.DataFrame()\n",
    "\n",
    "intCounter = 0\n",
    "for playerLink in tqdm(FullRoster['Link']):\n",
    "    SourceData = pd.DataFrame.from_dict(requests.get(url='https://statsapi.web.nhl.com' + playerLink).json()).to_dict()['people'][0]\n",
    "    \n",
    "    try:\n",
    "        primaryNumber = str(SourceData['primaryNumber'])\n",
    "    except:\n",
    "        primaryNumber = \"0\"\n",
    "    try:\n",
    "        birthStateProvince = SourceData['birthStateProvince']\n",
    "    except: \n",
    "        birthStateProvince = \"NA\"\n",
    "    \n",
    "    CurrentPlayer = StringIO(\"\"\"ID;Position;FullName;Link;FirstName;LastName;PrimaryNumber;BirthDate;CurrentAge;BirthCity;BirthProvState;BirthCountry;Nationality;Height;Weight;Active;AlternateCaptain;Captain;Rookie;ShootsCatches;RosterStatus\n",
    "    \"\"\" +\n",
    "                    str(SourceData['id']) + \";\" +\n",
    "                    FullRoster['PosAbbreviation'][intCounter] + \";\" +\n",
    "                    SourceData['fullName'] + \";\" +\n",
    "                    SourceData['link'] + \";\" +\n",
    "                    SourceData['firstName'] + \";\" +\n",
    "                    SourceData['lastName'] + \";\" +\n",
    "                    primaryNumber + \";\" +\n",
    "                    SourceData['birthDate'] + \";\" +\n",
    "                    str(SourceData['currentAge']) + \";\" +\n",
    "                    SourceData['birthCity'] + \";\" +\n",
    "                    birthStateProvince + \";\" +\n",
    "                    SourceData['birthCountry'] + \";\" +\n",
    "                    SourceData['nationality'] + \";\" +\n",
    "                    SourceData['height'] + \";\" +\n",
    "                    str(SourceData['weight']) + \";\" +\n",
    "                    str(SourceData['active']) + \";\" +\n",
    "                    str(SourceData['alternateCaptain']) + \";\" +\n",
    "                    str(SourceData['captain']) + \";\" +\n",
    "                    str(SourceData['rookie']) + \";\" +\n",
    "                    SourceData['shootsCatches'] + \";\" +\n",
    "                    SourceData['rosterStatus'])\n",
    "                             \n",
    "    CurrentPlayer = pd.read_csv(CurrentPlayer, sep = \";\")\n",
    "    \n",
    "    PlayerDetails = PlayerDetails.append(CurrentPlayer, ignore_index=True)\n",
    "    \n",
    "    intCounter += 1\n",
    "    \n",
    "print(PlayerDetails)"
   ]
  },
  {
   "cell_type": "markdown",
   "metadata": {},
   "source": [
    "## Split Skaters and Goalies - Different Statistics"
   ]
  },
  {
   "cell_type": "code",
   "execution_count": 9,
   "metadata": {},
   "outputs": [
    {
     "name": "stdout",
     "output_type": "stream",
     "text": [
      "0      8471233\n",
      "1      8474056\n",
      "2      8475151\n",
      "3      8475179\n",
      "4      8476850\n",
      "        ...   \n",
      "676    8478097\n",
      "677    8478106\n",
      "678    8478462\n",
      "679    8479639\n",
      "680    8480727\n",
      "Name: ID, Length: 681, dtype: int64\n",
      "0     8470645\n",
      "1     8478406\n",
      "2     8473575\n",
      "3     8480382\n",
      "4     8478048\n",
      "       ...   \n",
      "81    8477293\n",
      "82    8478499\n",
      "83    8470594\n",
      "84    8475215\n",
      "85    8476861\n",
      "Name: ID, Length: 86, dtype: int64\n"
     ]
    }
   ],
   "source": [
    "GoalieDetails = PlayerDetails.loc[PlayerDetails['Position'] == 'G']\n",
    "SkaterDetails = PlayerDetails.loc[PlayerDetails['Position'] != 'G']\n",
    "\n",
    "GoalieDetails = GoalieDetails.reset_index()\n",
    "SkaterDetails = SkaterDetails.reset_index()\n",
    "\n",
    "GoalieRoster = FullRoster.loc[FullRoster['PosCode'] == 'G']\n",
    "SkaterRoster = FullRoster.loc[FullRoster['PosCode'] != 'G']\n",
    "\n",
    "SkaterRoster = SkaterRoster.reset_index()\n",
    "GoalieRoster = GoalieRoster.reset_index()\n",
    "\n",
    "print(SkaterRoster['ID'])\n",
    "print(GoalieRoster['ID'])"
   ]
  },
  {
   "cell_type": "markdown",
   "metadata": {},
   "source": [
    "## Skater Statistics"
   ]
  },
  {
   "cell_type": "code",
   "execution_count": 30,
   "metadata": {},
   "outputs": [
    {
     "name": "stderr",
     "output_type": "stream",
     "text": [
      "2020-12-18 09:02:35.127 INFO    numexpr.utils: NumExpr defaulting to 8 threads.\n"
     ]
    }
   ],
   "source": [
    "# SkaterStatistics.to_hdf(\"SkaterStats.h5\", key = \"SkaterStatistics\")"
   ]
  },
  {
   "cell_type": "code",
   "execution_count": 29,
   "metadata": {},
   "outputs": [
    {
     "data": {
      "application/vnd.jupyter.widget-view+json": {
       "model_id": "1e48b4e0648f493496023e15f3529a82",
       "version_major": 2,
       "version_minor": 0
      },
      "text/plain": [
       "HBox(children=(HTML(value=''), FloatProgress(value=0.0, max=681.0), HTML(value='')))"
      ]
     },
     "metadata": {},
     "output_type": "display_data"
    },
    {
     "name": "stdout",
     "output_type": "stream",
     "text": [
      "Missing Stats for Player /api/v1/people/8474066 Thomas Hickey\n",
      "Missing Stats for Player /api/v1/people/8480222 Sebastian Aho\n",
      "Missing Stats for Player /api/v1/people/8481178 Egor Zamula\n",
      "Missing Stats for Player /api/v1/people/8476191 Kevan Miller\n",
      "Missing Stats for Player /api/v1/people/8477460 Laurent Dauphin\n",
      "Missing Stats for Player /api/v1/people/8479990 Josh Brook\n",
      "Missing Stats for Player /api/v1/people/8475968 Alex Belzile\n",
      "Missing Stats for Player /api/v1/people/8478454 Noah Juulsen\n",
      "Missing Stats for Player /api/v1/people/8481582 Nicholas Robertson\n",
      "Missing Stats for Player /api/v1/people/8476323 Max McCormick\n",
      "Missing Stats for Player /api/v1/people/8477981 Roland McKeown\n",
      "Missing Stats for Player /api/v1/people/8479402 Jake Bean\n",
      "Missing Stats for Player /api/v1/people/8479066 Ryan Lomberg\n",
      "Missing Stats for Player /api/v1/people/8479597 Chase Priskie\n",
      "Missing Stats for Player /api/v1/people/8480015 Owen Tippett\n",
      "Missing Stats for Player /api/v1/people/8481442 Brady Keeper\n",
      "Missing Stats for Player /api/v1/people/8480025 MacKenzie Entwistle\n",
      "Missing Stats for Player /api/v1/people/8480831 Alec Regula\n",
      "Missing Stats for Player /api/v1/people/8480009 Eeli Tolvanen\n",
      "Missing Stats for Player /api/v1/people/8481577 Philip Tomasino\n",
      "Missing Stats for Player /api/v1/people/8477446 Michael McCarron\n",
      "Missing Stats for Player /api/v1/people/8479976 Juuso Valimaki\n",
      "Missing Stats for Player /api/v1/people/8481625 Carl-Johan Lerby\n",
      "Missing Stats for Player /api/v1/people/8482244 Johannes Kinnvall\n",
      "Missing Stats for Player /api/v1/people/8475278 Byron Froese\n",
      "Missing Stats for Player /api/v1/people/8476300 Nikita Nesterov\n",
      "Missing Stats for Player /api/v1/people/8481524 Bowen Byram\n",
      "Missing Stats for Player /api/v1/people/8480032 Shane Bowers\n",
      "Missing Stats for Player /api/v1/people/8471490 Adam Cracknell\n",
      "Missing Stats for Player /api/v1/people/8476495 Seth Griffith\n",
      "Missing Stats for Player /api/v1/people/8478442 Cooper Marody\n",
      "Missing Stats for Player /api/v1/people/8479344 Jesse Puljujarvi\n",
      "Missing Stats for Player /api/v1/people/8480802 Ryan McLeod\n",
      "Missing Stats for Player /api/v1/people/8480803 Evan Bouchard\n",
      "Missing Stats for Player /api/v1/people/8481598 Philip Broberg\n",
      "Missing Stats for Player /api/v1/people/8477353 Tyler Motte\n",
      "Missing Stats for Player /api/v1/people/8478970 Jalen Chatfield\n",
      "Missing Stats for Player /api/v1/people/8479355 Olli Juolevi\n",
      "Missing Stats for Player /api/v1/people/8481479 Brogan Rafferty\n",
      "Missing Stats for Player /api/v1/people/8476407 Andy Welinski\n",
      "Missing Stats for Player /api/v1/people/8479968 Vinni Lettieri\n",
      "Missing Stats for Player /api/v1/people/8480848 Ty Dellandrea\n",
      "Missing Stats for Player /api/v1/people/8471273 Brandon Dubinsky\n",
      "Missing Stats for Player /api/v1/people/8479945 Gavin Bayreuther\n",
      "Missing Stats for Player /api/v1/people/8478864 Kirill Kaprizov\n",
      "Missing Stats for Player /api/v1/people/8481522 Peyton Krebs\n",
      "Missing Stats for Player /api/v1/people/8476982 Danny O'Regan\n",
      "Missing Stats for Player /api/v1/people/8478097 Reid Duke\n",
      "Missing Stats for Player /api/v1/people/8479639 Dylan Coghlan\n",
      "\n",
      "          ID Position         FullName                  Team      TOI   A   G  \\\n",
      "0    8471233        C     Travis Zajac     New Jersey Devils  1179:36  16   9   \n",
      "1    8474056        D      P.K. Subban     New Jersey Devils  1504:25  11   7   \n",
      "2    8475151       RW    Kyle Palmieri     New Jersey Devils  1112:11  20  25   \n",
      "3    8475179        D   Dmitry Kulikov     New Jersey Devils  1020:59   8   2   \n",
      "4    8476850        D      Ryan Murray     New Jersey Devils   538:48   7   2   \n",
      "..       ...      ...              ...                   ...      ...  ..  ..   \n",
      "627  8477931       LW      Tomas Nosek  Vegas Golden Knights   777:35   7   8   \n",
      "628  8477949       RW        Alex Tuch  Vegas Golden Knights   614:04   9   8   \n",
      "629  8478106       RW     Dylan Sikura  Vegas Golden Knights    89:05   2   1   \n",
      "630  8478462        C      Nicolas Roy  Vegas Golden Knights   320:01   5   5   \n",
      "631  8480727        D  Zach Whitecloud  Vegas Golden Knights   229:01   1   0   \n",
      "\n",
      "      P  PIM  Shots  ...  SHP   SHTOI  Blocks  PlusMinus Pts Shifts  \\\n",
      "0    25   28     72  ...    3  197:05      39        -12  25   1476   \n",
      "1    18   79    151  ...    0  111:30      90        -21  18   1883   \n",
      "2    45   41    155  ...    0   14:00      36         -4  45   1374   \n",
      "3    10   32     54  ...    0   69:48      77         -4  10   1241   \n",
      "4     9    4     32  ...    0   55:08      50         -9   9    708   \n",
      "..   ..  ...    ...  ...  ...     ...     ...        ...  ..    ...   \n",
      "627  15   20     93  ...    1   86:13      38         -2  15   1074   \n",
      "628  17    8     98  ...    0   04:23      20        -10  17    725   \n",
      "629   3    0     10  ...    0   00:00       2          1   3    116   \n",
      "630  10    8     42  ...    0   15:10       7          3  10    439   \n",
      "631   1    4      9  ...    0   15:59      16          3   1    309   \n",
      "\n",
      "     TOIperGame  EVTOIperGame  SHTOIperGame  PPTOIperGame  \n",
      "0         17:05         13:39         02:51         00:34  \n",
      "1         22:07         18:07         01:38         02:21  \n",
      "2         17:06         13:43         00:12         03:10  \n",
      "3         20:01         18:31         01:22         00:07  \n",
      "4         19:57         17:03         02:02         00:51  \n",
      "..          ...           ...           ...           ...  \n",
      "627       11:36         10:15         01:17         00:03  \n",
      "628       14:37         12:44         00:06         01:46  \n",
      "629       09:53         09:53         00:00         00:00  \n",
      "630       11:25         10:47         00:32         00:05  \n",
      "631       14:18         13:18         00:59         00:00  \n",
      "\n",
      "[632 rows x 32 columns]\n"
     ]
    }
   ],
   "source": [
    "Season = str(20192020)\n",
    "\n",
    "SkaterStatistics = pd.DataFrame()\n",
    "\n",
    "intCounter = 0\n",
    "for PlayerLink in tqdm(SkaterDetails['Link']):\n",
    "    SourceData = pd.DataFrame.from_dict(requests.get(url=\"https://statsapi.web.nhl.com\" + PlayerLink + \"/stats?stats=statsSingleSeason&season=\" + Season).json()).to_dict()['stats'][0]['splits']\n",
    "    # print(PlayerLink)\n",
    "    try:\n",
    "        SD = pd.DataFrame.from_dict(SourceData)['stat']\n",
    "        SD = SD.to_dict()[0]\n",
    "        CurrentPlayer = StringIO(\"\"\"ID;Position;FullName;Team;TOI;A;G;P;PIM;Shots;Games;Hits;PPG;PPP;PPTOI;EVTOI;PIM2;FaceOffPCT;ShtPercent;GWG;OTG;SHG;SHP;SHTOI;Blocks;PlusMinus;Pts;Shifts;TOIperGame;EVTOIperGame;SHTOIperGame;PPTOIperGame\n",
    "        \"\"\" +\n",
    "                                 str(SkaterRoster['ID'][intCounter]) + \";\" +\n",
    "                                 SkaterRoster['PosAbbreviation'][intCounter] + \";\" +\n",
    "                                 SkaterRoster['FullName'][intCounter] + \";\" +\n",
    "                                 SkaterRoster['Team'][intCounter] + \";\" +\n",
    "                                 str(SD['timeOnIce']) + \";\" +\n",
    "                                 str(SD['assists']) + \";\" +\n",
    "                                 str(SD['goals']) + \";\" +\n",
    "                                 str(SD['points']) + \";\" +\n",
    "                                 str(SD['pim']) + \";\" +\n",
    "                                 str(SD['shots']) + \";\" +\n",
    "                                 str(SD['games']) + \";\" +\n",
    "                                 str(SD['hits']) + \";\" +\n",
    "                                 str(SD['powerPlayGoals']) + \";\" +\n",
    "                                 str(SD['powerPlayPoints']) + \";\" +\n",
    "                                 str(SD['powerPlayTimeOnIce']) + \";\" +\n",
    "                                 str(SD['evenTimeOnIce']) + \";\" +\n",
    "                                 str(SD['penaltyMinutes']) + \";\" +\n",
    "                                 str(SD['faceOffPct']) + \";\" +\n",
    "                                 str(SD['shotPct']) + \";\" +\n",
    "                                 str(SD['gameWinningGoals']) + \";\" +\n",
    "                                 str(SD['overTimeGoals']) + \";\" +\n",
    "                                 str(SD['shortHandedGoals']) + \";\" +\n",
    "                                 str(SD['shortHandedPoints']) + \";\" +\n",
    "                                 str(SD['shortHandedTimeOnIce']) + \";\" +\n",
    "                                 str(SD['blocked']) + \";\" +\n",
    "                                 str(SD['plusMinus']) + \";\" +\n",
    "                                 str(SD['points']) + \";\" +\n",
    "                                 str(SD['shifts']) + \";\" +\n",
    "                                 str(SD['timeOnIcePerGame']) + \";\" +\n",
    "                                 str(SD['evenTimeOnIcePerGame']) + \";\" +\n",
    "                                 str(SD['shortHandedTimeOnIcePerGame']) + \";\" +\n",
    "                                 str(SD['powerPlayTimeOnIcePerGame']))\n",
    "        \n",
    "        CurrentPlayer = pd.read_csv(CurrentPlayer, sep = \";\")\n",
    "        \n",
    "        SkaterStatistics = SkaterStatistics.append(CurrentPlayer, ignore_index=True)\n",
    "        intCounter += 1\n",
    "    except:\n",
    "        print(\"Missing Stats for Player \" + PlayerLink + \" \" + SkaterRoster['FullName'][intCounter])\n",
    "        intCounter += 1\n",
    "\n",
    "print(SkaterStatistics)\n"
   ]
  },
  {
   "cell_type": "markdown",
   "metadata": {},
   "source": [
    "## Goalie Statistics"
   ]
  },
  {
   "cell_type": "code",
   "execution_count": 26,
   "metadata": {},
   "outputs": [
    {
     "data": {
      "application/vnd.jupyter.widget-view+json": {
       "model_id": "65b43bccc8ca4c808ff18c1c3762a140",
       "version_major": 2,
       "version_minor": 0
      },
      "text/plain": [
       "HBox(children=(HTML(value=''), FloatProgress(value=0.0, max=86.0), HTML(value='')))"
      ]
     },
     "metadata": {},
     "output_type": "display_data"
    },
    {
     "name": "stdout",
     "output_type": "stream",
     "text": [
      "Missing Stats for Player /api/v1/people/8478933 Michael McNiven\n",
      "Missing Stats for Player /api/v1/people/8479361 Joseph Woll\n",
      "Missing Stats for Player /api/v1/people/8477475 Philippe Desrosiers\n",
      "Missing Stats for Player /api/v1/people/8476444 Christopher Gibson\n",
      "Missing Stats for Player /api/v1/people/8480420 Collin Delia\n",
      "Missing Stats for Player /api/v1/people/8480947 Kevin Lankinen\n",
      "Missing Stats for Player /api/v1/people/8478971 Connor Ingram\n",
      "Missing Stats for Player /api/v1/people/8478024 Ville Husso\n",
      "Missing Stats for Player /api/v1/people/8481501 Artyom Zagidulin\n",
      "Missing Stats for Player /api/v1/people/8480112 Hunter Miska\n",
      "Missing Stats for Player /api/v1/people/8476341 Anton Forsberg\n",
      "Missing Stats for Player /api/v1/people/8479973 Stuart Skinner\n",
      "Missing Stats for Player /api/v1/people/8481478 Jake Kielly\n",
      "Missing Stats for Player /api/v1/people/8479979 Jake Oettinger\n",
      "Missing Stats for Player /api/v1/people/8477234 Troy Grosenick\n",
      "Missing Stats for Player /api/v1/people/8476861 Oscar Dansk\n",
      "\n",
      "         ID Position             FullName                  Team      TOI  OT  \\\n",
      "0   8470645        G       Corey Crawford     New Jersey Devils  2340:03   3   \n",
      "1   8478406        G  Mackenzie Blackwood     New Jersey Devils  2684:01   8   \n",
      "2   8473575        G      Semyon Varlamov    New York Islanders  2517:19   6   \n",
      "3   8480382        G   Alexandar Georgiev      New York Rangers  1891:44   2   \n",
      "4   8478048        G      Igor Shesterkin      New York Rangers   691:35   0   \n",
      "..      ...      ...                  ...                   ...      ...  ..   \n",
      "65  8475311        G        Darcy Kuemper       Arizona Coyotes  1753:24   2   \n",
      "66  8477293        G         Antti Raanta       Arizona Coyotes  1822:54   3   \n",
      "67  8478499        G            Adin Hill       Arizona Coyotes   640:46   3   \n",
      "68  8470594        G    Marc-Andre Fleury  Vegas Golden Knights  2880:06   5   \n",
      "69  8475215        G         Robin Lehner  Vegas Golden Knights  2055:28   5   \n",
      "\n",
      "    SO  T   W   L  ...  SvPct     GAA   G  GS  ShotsAgainst  GoalsAgainst  \\\n",
      "0    1  0  16  20  ...  0.917  2.7692  40  39          1294           108   \n",
      "1    3  0  22  14  ...  0.915  2.7720  47  43          1452           124   \n",
      "2    2  0  19  14  ...  0.914  2.6218  45  39          1278           110   \n",
      "3    2  0  17  14  ...  0.910  3.0448  34  32          1063            96   \n",
      "4    0  0  10   2  ...  0.932  2.5160  12  12           424            29   \n",
      "..  .. ..  ..  ..  ...    ...     ...  ..  ..           ...           ...   \n",
      "65   2  0  16  11  ...  0.928  2.2243  29  29           903            65   \n",
      "66   2  0  15  14  ...  0.921  2.6332  33  32          1014            80   \n",
      "67   0  0   2   4  ...  0.918  2.6219  13   9           343            28   \n",
      "68   5  0  27  16  ...  0.905  2.7707  49  48          1399           133   \n",
      "69   1  0  19  10  ...  0.920  2.8899  36  34          1235            99   \n",
      "\n",
      "    TOIperGame    PPSvPct     SHSvPct    EVSvPct  \n",
      "0        58:30  85.161290   89.655172  92.612613  \n",
      "1        57:06  86.486486   85.714286  92.408163  \n",
      "2        55:56  87.500000   88.461538  92.066421  \n",
      "3        55:38  88.832487   93.103448  91.397849  \n",
      "4        57:37  91.525424   91.666667  93.484419  \n",
      "..         ...        ...         ...        ...  \n",
      "65       60:27  88.800000   94.444444  93.421053  \n",
      "66       55:14  91.666667   92.857143  92.142857  \n",
      "67       49:17  80.000000  100.000000  93.309859  \n",
      "68       58:46  84.545455   95.833333  91.515152  \n",
      "69       57:05  91.758242   87.500000  92.201382  \n",
      "\n",
      "[70 rows x 27 columns]\n"
     ]
    }
   ],
   "source": [
    "Season = str(20192020)\n",
    "\n",
    "GoalieStatistics = pd.DataFrame()\n",
    "\n",
    "intCounter = 0\n",
    "for PlayerLink in tqdm(GoalieDetails['Link']):\n",
    "    SourceData = pd.DataFrame.from_dict(requests.get(url=\"https://statsapi.web.nhl.com\" + PlayerLink + \"/stats?stats=statsSingleSeason&season=\" + Season).json()).to_dict()['stats'][0]['splits']\n",
    "    # print(PlayerLink)\n",
    "    try:\n",
    "        SD = pd.DataFrame.from_dict(SourceData)['stat']\n",
    "        SD = SD.to_dict()[0]\n",
    "        CurrentPlayer = StringIO(\"\"\"ID;Position;FullName;Team;TOI;OT;SO;T;W;L;Saves;PPSaves;SHSaves;EVSaves;SHShots;EVShots;PPShots;SvPct;GAA;G;GS;ShotsAgainst;GoalsAgainst;TOIperGame;PPSvPct;SHSvPct;EVSvPct\n",
    "        \"\"\" +\n",
    "                                 str(GoalieRoster['ID'][intCounter]) + \";\" +\n",
    "                                 GoalieRoster['PosAbbreviation'][intCounter] + \";\" +\n",
    "                                 GoalieRoster['FullName'][intCounter] + \";\" +\n",
    "                                 GoalieRoster['Team'][intCounter] + \";\" +\n",
    "                                 str(SD['timeOnIce']) + \";\" +\n",
    "                                 str(SD['ot']) + \";\" +\n",
    "                                 str(SD['shutouts']) + \";\" +\n",
    "                                 str(SD['ties']) + \";\" +\n",
    "                                 str(SD['wins']) + \";\" +\n",
    "                                 str(SD['losses']) + \";\" +\n",
    "                                 str(SD['saves']) + \";\" +\n",
    "                                 str(SD['powerPlaySaves']) + \";\" +\n",
    "                                 str(SD['shortHandedSaves']) + \";\" +\n",
    "                                 str(SD['evenSaves']) + \";\" +\n",
    "                                 str(SD['shortHandedShots']) + \";\" +\n",
    "                                 str(SD['evenShots']) + \";\" +\n",
    "                                 str(SD['powerPlayShots']) + \";\" +\n",
    "                                 str(SD['savePercentage']) + \";\" +\n",
    "                                 str(SD['goalAgainstAverage']) + \";\" +\n",
    "                                 str(SD['games']) + \";\" +\n",
    "                                 str(SD['gamesStarted']) + \";\" +\n",
    "                                 str(SD['shotsAgainst']) + \";\" +\n",
    "                                 str(SD['goalsAgainst']) + \";\" +\n",
    "                                 str(SD['timeOnIcePerGame']) + \";\" +\n",
    "                                 str(SD['powerPlaySavePercentage']) + \";\" +\n",
    "                                 str(SD['shortHandedSavePercentage']) + \";\" +\n",
    "                                 str(SD['evenStrengthSavePercentage']))\n",
    "        \n",
    "        CurrentPlayer = pd.read_csv(CurrentPlayer, sep = \";\")\n",
    "        \n",
    "        GoalieStatistics = GoalieStatistics.append(CurrentPlayer, ignore_index=True)\n",
    "        intCounter += 1\n",
    "    except:\n",
    "        print(\"Missing Stats for Player \" + PlayerLink + \" \" + GoalieRoster['FullName'][intCounter])\n",
    "        intCounter += 1\n",
    "\n",
    "print(GoalieStatistics)\n"
   ]
  },
  {
   "cell_type": "markdown",
   "metadata": {},
   "source": [
    "## Game Statistics"
   ]
  },
  {
   "cell_type": "markdown",
   "metadata": {},
   "source": [
    "## Complete List of Games"
   ]
  },
  {
   "cell_type": "code",
   "execution_count": 10,
   "metadata": {},
   "outputs": [
    {
     "data": {
      "application/vnd.jupyter.widget-view+json": {
       "model_id": "ae61bf2f4f2942d5861b9fdb6eaf4c1c",
       "version_major": 2,
       "version_minor": 0
      },
      "text/plain": [
       "HBox(children=(HTML(value=''), FloatProgress(value=0.0, max=31.0), HTML(value='')))"
      ]
     },
     "metadata": {},
     "output_type": "display_data"
    },
    {
     "name": "stdout",
     "output_type": "stream",
     "text": [
      "\n",
      "                                           Link\n",
      "0             /api/v1/game/2019020013/feed/live\n",
      "1             /api/v1/game/2019020018/feed/live\n",
      "2             /api/v1/game/2019020045/feed/live\n",
      "3             /api/v1/game/2019020049/feed/live\n",
      "4             /api/v1/game/2019020064/feed/live\n",
      "...                                         ...\n",
      "1094          /api/v1/game/2019021067/feed/live\n",
      "1095          /api/v1/game/2019020057/feed/live\n",
      "1096          /api/v1/game/2019020399/feed/live\n",
      "1097          /api/v1/game/2019020600/feed/live\n",
      "1098          /api/v1/game/2019011012/feed/live\n",
      "\n",
      "[1099 rows x 1 columns]\n"
     ]
    }
   ],
   "source": [
    "GameList = pd.DataFrame()\n",
    "# print(Teams['id'])\n",
    "Team = 1\n",
    "for Team in tqdm(Teams['id']):\n",
    "    TeamGames = pd.DataFrame.from_dict(requests.get(url='http://statsapi.web.nhl.com/api/v1/schedule?teamId=' + str(Team) + '&startDate=2019-10-01&endDate=2020-08-01').json()).to_dict()['dates']\n",
    "    CurrentTeamGames = pd.DataFrame()\n",
    "    for Game in TeamGames:\n",
    "        CurrentGame = StringIO(\"\"\"Link\n",
    "        \"\"\" +\n",
    "                               str(TeamGames[Game]['games'][0]['link']))\n",
    "\n",
    "        CurrentGame = pd.read_csv(CurrentGame, sep = \";\")\n",
    "        CurrentTeamGames = CurrentTeamGames.append(CurrentGame, ignore_index = True)\n",
    "\n",
    "    GameList = GameList.append(CurrentTeamGames, ignore_index = True)\n",
    "    GameList = GameList.drop_duplicates()\n",
    "print(GameList)"
   ]
  },
  {
   "cell_type": "markdown",
   "metadata": {},
   "source": [
    "## Details of All Games"
   ]
  },
  {
   "cell_type": "code",
   "execution_count": 11,
   "metadata": {},
   "outputs": [
    {
     "data": {
      "application/vnd.jupyter.widget-view+json": {
       "model_id": "a101ef78b05b48d5a7439c111b76b7de",
       "version_major": 2,
       "version_minor": 0
      },
      "text/plain": [
       "HBox(children=(HTML(value=''), FloatProgress(value=0.0, max=1099.0), HTML(value='')))"
      ]
     },
     "metadata": {},
     "output_type": "display_data"
    },
    {
     "data": {
      "application/vnd.jupyter.widget-view+json": {
       "model_id": "f8c8601106cb4d5c8cc8232ae2121d76",
       "version_major": 2,
       "version_minor": 0
      },
      "text/plain": [
       "HBox(children=(HTML(value=''), FloatProgress(value=0.0, max=307.0), HTML(value='')))"
      ]
     },
     "metadata": {},
     "output_type": "display_data"
    },
    {
     "name": "stdout",
     "output_type": "stream",
     "text": [
      "\n"
     ]
    },
    {
     "data": {
      "application/vnd.jupyter.widget-view+json": {
       "model_id": "63fac4e6e92e4cbaaacfc2d7ac3e4f40",
       "version_major": 2,
       "version_minor": 0
      },
      "text/plain": [
       "HBox(children=(HTML(value=''), FloatProgress(value=0.0, max=251.0), HTML(value='')))"
      ]
     },
     "metadata": {},
     "output_type": "display_data"
    },
    {
     "name": "stdout",
     "output_type": "stream",
     "text": [
      "\n"
     ]
    },
    {
     "data": {
      "application/vnd.jupyter.widget-view+json": {
       "model_id": "08c5ec466e6e4133b3395fe20205aa3a",
       "version_major": 2,
       "version_minor": 0
      },
      "text/plain": [
       "HBox(children=(HTML(value=''), FloatProgress(value=0.0, max=332.0), HTML(value='')))"
      ]
     },
     "metadata": {},
     "output_type": "display_data"
    },
    {
     "name": "stdout",
     "output_type": "stream",
     "text": [
      "\n"
     ]
    },
    {
     "data": {
      "application/vnd.jupyter.widget-view+json": {
       "model_id": "53279382d5da45ada0072a574e5d04ea",
       "version_major": 2,
       "version_minor": 0
      },
      "text/plain": [
       "HBox(children=(HTML(value=''), FloatProgress(value=0.0, max=315.0), HTML(value='')))"
      ]
     },
     "metadata": {},
     "output_type": "display_data"
    },
    {
     "name": "stdout",
     "output_type": "stream",
     "text": [
      "\n"
     ]
    },
    {
     "data": {
      "application/vnd.jupyter.widget-view+json": {
       "model_id": "35d07f808331404db5d263c9f81ed139",
       "version_major": 2,
       "version_minor": 0
      },
      "text/plain": [
       "HBox(children=(HTML(value=''), FloatProgress(value=0.0, max=286.0), HTML(value='')))"
      ]
     },
     "metadata": {},
     "output_type": "display_data"
    },
    {
     "name": "stdout",
     "output_type": "stream",
     "text": [
      "\n"
     ]
    },
    {
     "data": {
      "application/vnd.jupyter.widget-view+json": {
       "model_id": "f21acc311bba482aaadd0e91ce322c59",
       "version_major": 2,
       "version_minor": 0
      },
      "text/plain": [
       "HBox(children=(HTML(value=''), FloatProgress(value=0.0, max=282.0), HTML(value='')))"
      ]
     },
     "metadata": {},
     "output_type": "display_data"
    },
    {
     "name": "stdout",
     "output_type": "stream",
     "text": [
      "\n"
     ]
    },
    {
     "data": {
      "application/vnd.jupyter.widget-view+json": {
       "model_id": "526d9c4f4fe44e578be5633fa0fbee5c",
       "version_major": 2,
       "version_minor": 0
      },
      "text/plain": [
       "HBox(children=(HTML(value=''), FloatProgress(value=0.0, max=299.0), HTML(value='')))"
      ]
     },
     "metadata": {},
     "output_type": "display_data"
    },
    {
     "name": "stdout",
     "output_type": "stream",
     "text": [
      "\n"
     ]
    },
    {
     "data": {
      "application/vnd.jupyter.widget-view+json": {
       "model_id": "8f416f5ed50440559c092e8f4e4fdcc6",
       "version_major": 2,
       "version_minor": 0
      },
      "text/plain": [
       "HBox(children=(HTML(value=''), FloatProgress(value=0.0, max=302.0), HTML(value='')))"
      ]
     },
     "metadata": {},
     "output_type": "display_data"
    },
    {
     "name": "stdout",
     "output_type": "stream",
     "text": [
      "\n"
     ]
    },
    {
     "data": {
      "application/vnd.jupyter.widget-view+json": {
       "model_id": "99b8b40e88f14f928e31c588083b9d3b",
       "version_major": 2,
       "version_minor": 0
      },
      "text/plain": [
       "HBox(children=(HTML(value=''), FloatProgress(value=0.0, max=288.0), HTML(value='')))"
      ]
     },
     "metadata": {},
     "output_type": "display_data"
    },
    {
     "name": "stdout",
     "output_type": "stream",
     "text": [
      "\n"
     ]
    },
    {
     "data": {
      "application/vnd.jupyter.widget-view+json": {
       "model_id": "32d091f6596f401d97f1050bcf40a999",
       "version_major": 2,
       "version_minor": 0
      },
      "text/plain": [
       "HBox(children=(HTML(value=''), FloatProgress(value=0.0, max=278.0), HTML(value='')))"
      ]
     },
     "metadata": {},
     "output_type": "display_data"
    },
    {
     "name": "stdout",
     "output_type": "stream",
     "text": [
      "\n"
     ]
    },
    {
     "data": {
      "application/vnd.jupyter.widget-view+json": {
       "model_id": "c7c2c302368b4d5ab7596451b59dac61",
       "version_major": 2,
       "version_minor": 0
      },
      "text/plain": [
       "HBox(children=(HTML(value=''), FloatProgress(value=0.0, max=358.0), HTML(value='')))"
      ]
     },
     "metadata": {},
     "output_type": "display_data"
    },
    {
     "name": "stdout",
     "output_type": "stream",
     "text": [
      "\n"
     ]
    },
    {
     "data": {
      "application/vnd.jupyter.widget-view+json": {
       "model_id": "037ee8056f8e4712a914aabaceae9008",
       "version_major": 2,
       "version_minor": 0
      },
      "text/plain": [
       "HBox(children=(HTML(value=''), FloatProgress(value=0.0, max=323.0), HTML(value='')))"
      ]
     },
     "metadata": {},
     "output_type": "display_data"
    },
    {
     "name": "stdout",
     "output_type": "stream",
     "text": [
      "\n"
     ]
    },
    {
     "data": {
      "application/vnd.jupyter.widget-view+json": {
       "model_id": "d4fa68985e414c83836dc71e183f2572",
       "version_major": 2,
       "version_minor": 0
      },
      "text/plain": [
       "HBox(children=(HTML(value=''), FloatProgress(value=0.0, max=328.0), HTML(value='')))"
      ]
     },
     "metadata": {},
     "output_type": "display_data"
    },
    {
     "name": "stdout",
     "output_type": "stream",
     "text": [
      "\n"
     ]
    },
    {
     "data": {
      "application/vnd.jupyter.widget-view+json": {
       "model_id": "a0d0dd3687a34212be2b50811b055cf6",
       "version_major": 2,
       "version_minor": 0
      },
      "text/plain": [
       "HBox(children=(HTML(value=''), FloatProgress(value=0.0, max=326.0), HTML(value='')))"
      ]
     },
     "metadata": {},
     "output_type": "display_data"
    },
    {
     "name": "stdout",
     "output_type": "stream",
     "text": [
      "\n"
     ]
    },
    {
     "data": {
      "application/vnd.jupyter.widget-view+json": {
       "model_id": "1e4ed245aca746bca8df4bec7b7ecc12",
       "version_major": 2,
       "version_minor": 0
      },
      "text/plain": [
       "HBox(children=(HTML(value=''), FloatProgress(value=0.0, max=307.0), HTML(value='')))"
      ]
     },
     "metadata": {},
     "output_type": "display_data"
    },
    {
     "name": "stdout",
     "output_type": "stream",
     "text": [
      "\n"
     ]
    },
    {
     "data": {
      "application/vnd.jupyter.widget-view+json": {
       "model_id": "be9ffd2d77bc40c7994e04386e028259",
       "version_major": 2,
       "version_minor": 0
      },
      "text/plain": [
       "HBox(children=(HTML(value=''), FloatProgress(value=0.0, max=288.0), HTML(value='')))"
      ]
     },
     "metadata": {},
     "output_type": "display_data"
    },
    {
     "name": "stdout",
     "output_type": "stream",
     "text": [
      "\n"
     ]
    },
    {
     "data": {
      "application/vnd.jupyter.widget-view+json": {
       "model_id": "299a0391572845be9fe6d0e509042bb0",
       "version_major": 2,
       "version_minor": 0
      },
      "text/plain": [
       "HBox(children=(HTML(value=''), FloatProgress(value=0.0, max=270.0), HTML(value='')))"
      ]
     },
     "metadata": {},
     "output_type": "display_data"
    },
    {
     "name": "stdout",
     "output_type": "stream",
     "text": [
      "\n"
     ]
    },
    {
     "data": {
      "application/vnd.jupyter.widget-view+json": {
       "model_id": "b439824da7b04af89d497c1299694c04",
       "version_major": 2,
       "version_minor": 0
      },
      "text/plain": [
       "HBox(children=(HTML(value=''), FloatProgress(value=0.0, max=338.0), HTML(value='')))"
      ]
     },
     "metadata": {},
     "output_type": "display_data"
    },
    {
     "name": "stdout",
     "output_type": "stream",
     "text": [
      "\n"
     ]
    },
    {
     "data": {
      "application/vnd.jupyter.widget-view+json": {
       "model_id": "68bcbbc3c4284574bd42c20f4150ce70",
       "version_major": 2,
       "version_minor": 0
      },
      "text/plain": [
       "HBox(children=(HTML(value=''), FloatProgress(value=0.0, max=379.0), HTML(value='')))"
      ]
     },
     "metadata": {},
     "output_type": "display_data"
    },
    {
     "name": "stdout",
     "output_type": "stream",
     "text": [
      "\n"
     ]
    },
    {
     "data": {
      "application/vnd.jupyter.widget-view+json": {
       "model_id": "a4c42bb1108c486fa9a5b3b7a8aa4e02",
       "version_major": 2,
       "version_minor": 0
      },
      "text/plain": [
       "HBox(children=(HTML(value=''), FloatProgress(value=0.0, max=267.0), HTML(value='')))"
      ]
     },
     "metadata": {},
     "output_type": "display_data"
    },
    {
     "name": "stdout",
     "output_type": "stream",
     "text": [
      "\n"
     ]
    },
    {
     "data": {
      "application/vnd.jupyter.widget-view+json": {
       "model_id": "984a82528eef408a8b1c0d8457fa0e9c",
       "version_major": 2,
       "version_minor": 0
      },
      "text/plain": [
       "HBox(children=(HTML(value=''), FloatProgress(value=0.0, max=342.0), HTML(value='')))"
      ]
     },
     "metadata": {},
     "output_type": "display_data"
    },
    {
     "name": "stdout",
     "output_type": "stream",
     "text": [
      "\n"
     ]
    },
    {
     "data": {
      "application/vnd.jupyter.widget-view+json": {
       "model_id": "5d080f0edac3441fbfb1656abe9b4c81",
       "version_major": 2,
       "version_minor": 0
      },
      "text/plain": [
       "HBox(children=(HTML(value=''), FloatProgress(value=0.0, max=292.0), HTML(value='')))"
      ]
     },
     "metadata": {},
     "output_type": "display_data"
    },
    {
     "name": "stdout",
     "output_type": "stream",
     "text": [
      "\n"
     ]
    },
    {
     "data": {
      "application/vnd.jupyter.widget-view+json": {
       "model_id": "fd56ffc8701444da9b8409dee461d0b6",
       "version_major": 2,
       "version_minor": 0
      },
      "text/plain": [
       "HBox(children=(HTML(value=''), FloatProgress(value=0.0, max=305.0), HTML(value='')))"
      ]
     },
     "metadata": {},
     "output_type": "display_data"
    },
    {
     "name": "stdout",
     "output_type": "stream",
     "text": [
      "\n"
     ]
    },
    {
     "data": {
      "application/vnd.jupyter.widget-view+json": {
       "model_id": "f446eeb0beb44b40be968eae55f3d561",
       "version_major": 2,
       "version_minor": 0
      },
      "text/plain": [
       "HBox(children=(HTML(value=''), FloatProgress(value=0.0, max=382.0), HTML(value='')))"
      ]
     },
     "metadata": {},
     "output_type": "display_data"
    },
    {
     "name": "stdout",
     "output_type": "stream",
     "text": [
      "\n"
     ]
    },
    {
     "data": {
      "application/vnd.jupyter.widget-view+json": {
       "model_id": "45467aa456bb4db0a8648557b0e787b6",
       "version_major": 2,
       "version_minor": 0
      },
      "text/plain": [
       "HBox(children=(HTML(value=''), FloatProgress(value=0.0, max=302.0), HTML(value='')))"
      ]
     },
     "metadata": {},
     "output_type": "display_data"
    },
    {
     "name": "stdout",
     "output_type": "stream",
     "text": [
      "\n"
     ]
    },
    {
     "data": {
      "application/vnd.jupyter.widget-view+json": {
       "model_id": "27e0c6d2940749ca985ed82575365f25",
       "version_major": 2,
       "version_minor": 0
      },
      "text/plain": [
       "HBox(children=(HTML(value=''), FloatProgress(value=0.0, max=283.0), HTML(value='')))"
      ]
     },
     "metadata": {},
     "output_type": "display_data"
    },
    {
     "name": "stdout",
     "output_type": "stream",
     "text": [
      "\n"
     ]
    },
    {
     "data": {
      "application/vnd.jupyter.widget-view+json": {
       "model_id": "fa3386f26aff4f4d952f9139bb5dea59",
       "version_major": 2,
       "version_minor": 0
      },
      "text/plain": [
       "HBox(children=(HTML(value=''), FloatProgress(value=0.0, max=319.0), HTML(value='')))"
      ]
     },
     "metadata": {},
     "output_type": "display_data"
    },
    {
     "name": "stdout",
     "output_type": "stream",
     "text": [
      "\n"
     ]
    },
    {
     "data": {
      "application/vnd.jupyter.widget-view+json": {
       "model_id": "feee91edecf34cb4bd252ff3f97b69a5",
       "version_major": 2,
       "version_minor": 0
      },
      "text/plain": [
       "HBox(children=(HTML(value=''), FloatProgress(value=0.0, max=332.0), HTML(value='')))"
      ]
     },
     "metadata": {},
     "output_type": "display_data"
    },
    {
     "name": "stdout",
     "output_type": "stream",
     "text": [
      "\n"
     ]
    },
    {
     "data": {
      "application/vnd.jupyter.widget-view+json": {
       "model_id": "64aba44bc73546eb8031cbc55275b0df",
       "version_major": 2,
       "version_minor": 0
      },
      "text/plain": [
       "HBox(children=(HTML(value=''), FloatProgress(value=0.0, max=304.0), HTML(value='')))"
      ]
     },
     "metadata": {},
     "output_type": "display_data"
    },
    {
     "name": "stdout",
     "output_type": "stream",
     "text": [
      "\n"
     ]
    },
    {
     "data": {
      "application/vnd.jupyter.widget-view+json": {
       "model_id": "34aecedfa2ff442b94d4dcb75cdef7f1",
       "version_major": 2,
       "version_minor": 0
      },
      "text/plain": [
       "HBox(children=(HTML(value=''), FloatProgress(value=0.0, max=335.0), HTML(value='')))"
      ]
     },
     "metadata": {},
     "output_type": "display_data"
    },
    {
     "name": "stdout",
     "output_type": "stream",
     "text": [
      "\n"
     ]
    },
    {
     "data": {
      "application/vnd.jupyter.widget-view+json": {
       "model_id": "ea5a9f7162604403b25f40dbcf40b5be",
       "version_major": 2,
       "version_minor": 0
      },
      "text/plain": [
       "HBox(children=(HTML(value=''), FloatProgress(value=0.0, max=326.0), HTML(value='')))"
      ]
     },
     "metadata": {},
     "output_type": "display_data"
    },
    {
     "name": "stdout",
     "output_type": "stream",
     "text": [
      "\n"
     ]
    },
    {
     "data": {
      "application/vnd.jupyter.widget-view+json": {
       "model_id": "3b8899b9a3124f28a8cb27cf2e93639f",
       "version_major": 2,
       "version_minor": 0
      },
      "text/plain": [
       "HBox(children=(HTML(value=''), FloatProgress(value=0.0, max=333.0), HTML(value='')))"
      ]
     },
     "metadata": {},
     "output_type": "display_data"
    },
    {
     "name": "stdout",
     "output_type": "stream",
     "text": [
      "\n"
     ]
    },
    {
     "data": {
      "application/vnd.jupyter.widget-view+json": {
       "model_id": "67da688da28647909031a1f6f02c5a1b",
       "version_major": 2,
       "version_minor": 0
      },
      "text/plain": [
       "HBox(children=(HTML(value=''), FloatProgress(value=0.0, max=263.0), HTML(value='')))"
      ]
     },
     "metadata": {},
     "output_type": "display_data"
    },
    {
     "name": "stdout",
     "output_type": "stream",
     "text": [
      "\n"
     ]
    },
    {
     "data": {
      "application/vnd.jupyter.widget-view+json": {
       "model_id": "9f61307155cf46bdb25f65fa9b639998",
       "version_major": 2,
       "version_minor": 0
      },
      "text/plain": [
       "HBox(children=(HTML(value=''), FloatProgress(value=0.0, max=274.0), HTML(value='')))"
      ]
     },
     "metadata": {},
     "output_type": "display_data"
    },
    {
     "name": "stdout",
     "output_type": "stream",
     "text": [
      "\n"
     ]
    },
    {
     "data": {
      "application/vnd.jupyter.widget-view+json": {
       "model_id": "b4c0af0ea8204d2796533e848b4e79a8",
       "version_major": 2,
       "version_minor": 0
      },
      "text/plain": [
       "HBox(children=(HTML(value=''), FloatProgress(value=0.0, max=291.0), HTML(value='')))"
      ]
     },
     "metadata": {},
     "output_type": "display_data"
    },
    {
     "name": "stdout",
     "output_type": "stream",
     "text": [
      "\n"
     ]
    },
    {
     "data": {
      "application/vnd.jupyter.widget-view+json": {
       "model_id": "1034cb16393842948b42c5e592cc95ef",
       "version_major": 2,
       "version_minor": 0
      },
      "text/plain": [
       "HBox(children=(HTML(value=''), FloatProgress(value=0.0, max=355.0), HTML(value='')))"
      ]
     },
     "metadata": {},
     "output_type": "display_data"
    },
    {
     "name": "stdout",
     "output_type": "stream",
     "text": [
      "\n"
     ]
    },
    {
     "data": {
      "application/vnd.jupyter.widget-view+json": {
       "model_id": "f6b8edc2e7a5464a8c79dfc8e8c6627a",
       "version_major": 2,
       "version_minor": 0
      },
      "text/plain": [
       "HBox(children=(HTML(value=''), FloatProgress(value=0.0, max=303.0), HTML(value='')))"
      ]
     },
     "metadata": {},
     "output_type": "display_data"
    },
    {
     "name": "stdout",
     "output_type": "stream",
     "text": [
      "\n"
     ]
    },
    {
     "data": {
      "application/vnd.jupyter.widget-view+json": {
       "model_id": "a821dd3d834144408b31d61ce22bcd27",
       "version_major": 2,
       "version_minor": 0
      },
      "text/plain": [
       "HBox(children=(HTML(value=''), FloatProgress(value=0.0, max=340.0), HTML(value='')))"
      ]
     },
     "metadata": {},
     "output_type": "display_data"
    },
    {
     "name": "stdout",
     "output_type": "stream",
     "text": [
      "\n"
     ]
    },
    {
     "data": {
      "application/vnd.jupyter.widget-view+json": {
       "model_id": "1899334d9de4446baf41f24116812565",
       "version_major": 2,
       "version_minor": 0
      },
      "text/plain": [
       "HBox(children=(HTML(value=''), FloatProgress(value=0.0, max=335.0), HTML(value='')))"
      ]
     },
     "metadata": {},
     "output_type": "display_data"
    },
    {
     "name": "stdout",
     "output_type": "stream",
     "text": [
      "\n"
     ]
    },
    {
     "data": {
      "application/vnd.jupyter.widget-view+json": {
       "model_id": "4e43f7db823b4e8fa15353e6a061def3",
       "version_major": 2,
       "version_minor": 0
      },
      "text/plain": [
       "HBox(children=(HTML(value=''), FloatProgress(value=0.0, max=373.0), HTML(value='')))"
      ]
     },
     "metadata": {},
     "output_type": "display_data"
    },
    {
     "name": "stdout",
     "output_type": "stream",
     "text": [
      "\n"
     ]
    },
    {
     "data": {
      "application/vnd.jupyter.widget-view+json": {
       "model_id": "57906586668e4ccbaff0a4fcb662ec1e",
       "version_major": 2,
       "version_minor": 0
      },
      "text/plain": [
       "HBox(children=(HTML(value=''), FloatProgress(value=0.0, max=280.0), HTML(value='')))"
      ]
     },
     "metadata": {},
     "output_type": "display_data"
    },
    {
     "name": "stdout",
     "output_type": "stream",
     "text": [
      "\n"
     ]
    },
    {
     "data": {
      "application/vnd.jupyter.widget-view+json": {
       "model_id": "53de2b4ee90748cdb6ee5fef88c941ea",
       "version_major": 2,
       "version_minor": 0
      },
      "text/plain": [
       "HBox(children=(HTML(value=''), FloatProgress(value=0.0, max=328.0), HTML(value='')))"
      ]
     },
     "metadata": {},
     "output_type": "display_data"
    },
    {
     "name": "stdout",
     "output_type": "stream",
     "text": [
      "\n"
     ]
    },
    {
     "data": {
      "application/vnd.jupyter.widget-view+json": {
       "model_id": "1309dcbc0e6f42fa8ae46555651687a9",
       "version_major": 2,
       "version_minor": 0
      },
      "text/plain": [
       "HBox(children=(HTML(value=''), FloatProgress(value=0.0, max=343.0), HTML(value='')))"
      ]
     },
     "metadata": {},
     "output_type": "display_data"
    },
    {
     "name": "stdout",
     "output_type": "stream",
     "text": [
      "\n"
     ]
    },
    {
     "data": {
      "application/vnd.jupyter.widget-view+json": {
       "model_id": "fd0129ecc37442b38a185c2ad2e58178",
       "version_major": 2,
       "version_minor": 0
      },
      "text/plain": [
       "HBox(children=(HTML(value=''), FloatProgress(value=0.0, max=311.0), HTML(value='')))"
      ]
     },
     "metadata": {},
     "output_type": "display_data"
    },
    {
     "name": "stdout",
     "output_type": "stream",
     "text": [
      "\n"
     ]
    },
    {
     "data": {
      "application/vnd.jupyter.widget-view+json": {
       "model_id": "50edb2e21b424380b2380f599f3cf206",
       "version_major": 2,
       "version_minor": 0
      },
      "text/plain": [
       "HBox(children=(HTML(value=''), FloatProgress(value=0.0, max=276.0), HTML(value='')))"
      ]
     },
     "metadata": {},
     "output_type": "display_data"
    },
    {
     "name": "stdout",
     "output_type": "stream",
     "text": [
      "\n"
     ]
    },
    {
     "data": {
      "application/vnd.jupyter.widget-view+json": {
       "model_id": "c111dee9d83c401795832f4ea9aa5208",
       "version_major": 2,
       "version_minor": 0
      },
      "text/plain": [
       "HBox(children=(HTML(value=''), FloatProgress(value=0.0, max=335.0), HTML(value='')))"
      ]
     },
     "metadata": {},
     "output_type": "display_data"
    },
    {
     "name": "stdout",
     "output_type": "stream",
     "text": [
      "\n"
     ]
    },
    {
     "data": {
      "application/vnd.jupyter.widget-view+json": {
       "model_id": "2fa8b5ade83443658e4b786a2a334a66",
       "version_major": 2,
       "version_minor": 0
      },
      "text/plain": [
       "HBox(children=(HTML(value=''), FloatProgress(value=0.0, max=340.0), HTML(value='')))"
      ]
     },
     "metadata": {},
     "output_type": "display_data"
    },
    {
     "name": "stdout",
     "output_type": "stream",
     "text": [
      "\n"
     ]
    },
    {
     "data": {
      "application/vnd.jupyter.widget-view+json": {
       "model_id": "bb42d0c95bd344fa9c0ac4ffe615d84a",
       "version_major": 2,
       "version_minor": 0
      },
      "text/plain": [
       "HBox(children=(HTML(value=''), FloatProgress(value=0.0, max=308.0), HTML(value='')))"
      ]
     },
     "metadata": {},
     "output_type": "display_data"
    },
    {
     "name": "stdout",
     "output_type": "stream",
     "text": [
      "\n"
     ]
    },
    {
     "data": {
      "application/vnd.jupyter.widget-view+json": {
       "model_id": "38beb38f3a484402bed3f1960a60efc8",
       "version_major": 2,
       "version_minor": 0
      },
      "text/plain": [
       "HBox(children=(HTML(value=''), FloatProgress(value=0.0, max=440.0), HTML(value='')))"
      ]
     },
     "metadata": {},
     "output_type": "display_data"
    },
    {
     "name": "stdout",
     "output_type": "stream",
     "text": [
      "\n"
     ]
    },
    {
     "data": {
      "application/vnd.jupyter.widget-view+json": {
       "model_id": "44f4d041e8234f1abf0683f07de3e498",
       "version_major": 2,
       "version_minor": 0
      },
      "text/plain": [
       "HBox(children=(HTML(value=''), FloatProgress(value=0.0, max=325.0), HTML(value='')))"
      ]
     },
     "metadata": {},
     "output_type": "display_data"
    },
    {
     "name": "stdout",
     "output_type": "stream",
     "text": [
      "\n"
     ]
    },
    {
     "data": {
      "application/vnd.jupyter.widget-view+json": {
       "model_id": "77fd53e6dd2b4a3383eef31bdfb23428",
       "version_major": 2,
       "version_minor": 0
      },
      "text/plain": [
       "HBox(children=(HTML(value=''), FloatProgress(value=0.0, max=286.0), HTML(value='')))"
      ]
     },
     "metadata": {},
     "output_type": "display_data"
    },
    {
     "name": "stdout",
     "output_type": "stream",
     "text": [
      "\n"
     ]
    },
    {
     "data": {
      "application/vnd.jupyter.widget-view+json": {
       "model_id": "6c54a6ddcfd44f5a8966e39eeffc0aaa",
       "version_major": 2,
       "version_minor": 0
      },
      "text/plain": [
       "HBox(children=(HTML(value=''), FloatProgress(value=0.0, max=340.0), HTML(value='')))"
      ]
     },
     "metadata": {},
     "output_type": "display_data"
    },
    {
     "name": "stdout",
     "output_type": "stream",
     "text": [
      "\n"
     ]
    },
    {
     "data": {
      "application/vnd.jupyter.widget-view+json": {
       "model_id": "39da958bf1af46938346313c000bb5bd",
       "version_major": 2,
       "version_minor": 0
      },
      "text/plain": [
       "HBox(children=(HTML(value=''), FloatProgress(value=0.0, max=282.0), HTML(value='')))"
      ]
     },
     "metadata": {},
     "output_type": "display_data"
    },
    {
     "name": "stdout",
     "output_type": "stream",
     "text": [
      "\n"
     ]
    },
    {
     "data": {
      "application/vnd.jupyter.widget-view+json": {
       "model_id": "0a948a5b48204e35bf72f5cf12a17fb8",
       "version_major": 2,
       "version_minor": 0
      },
      "text/plain": [
       "HBox(children=(HTML(value=''), FloatProgress(value=0.0, max=296.0), HTML(value='')))"
      ]
     },
     "metadata": {},
     "output_type": "display_data"
    },
    {
     "name": "stdout",
     "output_type": "stream",
     "text": [
      "\n"
     ]
    },
    {
     "data": {
      "application/vnd.jupyter.widget-view+json": {
       "model_id": "42eb964288094ba39569522158b8a311",
       "version_major": 2,
       "version_minor": 0
      },
      "text/plain": [
       "HBox(children=(HTML(value=''), FloatProgress(value=0.0, max=305.0), HTML(value='')))"
      ]
     },
     "metadata": {},
     "output_type": "display_data"
    },
    {
     "name": "stdout",
     "output_type": "stream",
     "text": [
      "\n"
     ]
    },
    {
     "data": {
      "application/vnd.jupyter.widget-view+json": {
       "model_id": "67721eb89071447a99b238e13e213fa9",
       "version_major": 2,
       "version_minor": 0
      },
      "text/plain": [
       "HBox(children=(HTML(value=''), FloatProgress(value=0.0, max=285.0), HTML(value='')))"
      ]
     },
     "metadata": {},
     "output_type": "display_data"
    },
    {
     "name": "stdout",
     "output_type": "stream",
     "text": [
      "\n"
     ]
    },
    {
     "data": {
      "application/vnd.jupyter.widget-view+json": {
       "model_id": "c5c026568add4b4f85aabde82c2e25de",
       "version_major": 2,
       "version_minor": 0
      },
      "text/plain": [
       "HBox(children=(HTML(value=''), FloatProgress(value=0.0, max=283.0), HTML(value='')))"
      ]
     },
     "metadata": {},
     "output_type": "display_data"
    },
    {
     "name": "stdout",
     "output_type": "stream",
     "text": [
      "\n"
     ]
    },
    {
     "data": {
      "application/vnd.jupyter.widget-view+json": {
       "model_id": "00fb6eb64c5f424daf7b607575edb2ca",
       "version_major": 2,
       "version_minor": 0
      },
      "text/plain": [
       "HBox(children=(HTML(value=''), FloatProgress(value=0.0, max=340.0), HTML(value='')))"
      ]
     },
     "metadata": {},
     "output_type": "display_data"
    },
    {
     "name": "stdout",
     "output_type": "stream",
     "text": [
      "\n"
     ]
    },
    {
     "data": {
      "application/vnd.jupyter.widget-view+json": {
       "model_id": "01f81d20baba48269a7e675ed465be0b",
       "version_major": 2,
       "version_minor": 0
      },
      "text/plain": [
       "HBox(children=(HTML(value=''), FloatProgress(value=0.0, max=275.0), HTML(value='')))"
      ]
     },
     "metadata": {},
     "output_type": "display_data"
    },
    {
     "name": "stdout",
     "output_type": "stream",
     "text": [
      "\n"
     ]
    },
    {
     "data": {
      "application/vnd.jupyter.widget-view+json": {
       "model_id": "4348fdb352f64d1dafbdd9f8e6b097e0",
       "version_major": 2,
       "version_minor": 0
      },
      "text/plain": [
       "HBox(children=(HTML(value=''), FloatProgress(value=0.0, max=308.0), HTML(value='')))"
      ]
     },
     "metadata": {},
     "output_type": "display_data"
    },
    {
     "name": "stdout",
     "output_type": "stream",
     "text": [
      "\n"
     ]
    },
    {
     "data": {
      "application/vnd.jupyter.widget-view+json": {
       "model_id": "964f51b2ca0a4ba383bb654fa87542ef",
       "version_major": 2,
       "version_minor": 0
      },
      "text/plain": [
       "HBox(children=(HTML(value=''), FloatProgress(value=0.0, max=344.0), HTML(value='')))"
      ]
     },
     "metadata": {},
     "output_type": "display_data"
    },
    {
     "name": "stdout",
     "output_type": "stream",
     "text": [
      "\n"
     ]
    },
    {
     "data": {
      "application/vnd.jupyter.widget-view+json": {
       "model_id": "fef5ec64a07349c8b4f4974929246eed",
       "version_major": 2,
       "version_minor": 0
      },
      "text/plain": [
       "HBox(children=(HTML(value=''), FloatProgress(value=0.0, max=264.0), HTML(value='')))"
      ]
     },
     "metadata": {},
     "output_type": "display_data"
    },
    {
     "name": "stdout",
     "output_type": "stream",
     "text": [
      "\n"
     ]
    },
    {
     "data": {
      "application/vnd.jupyter.widget-view+json": {
       "model_id": "0704776c1f794a86a8a9e2d747c7022d",
       "version_major": 2,
       "version_minor": 0
      },
      "text/plain": [
       "HBox(children=(HTML(value=''), FloatProgress(value=0.0, max=310.0), HTML(value='')))"
      ]
     },
     "metadata": {},
     "output_type": "display_data"
    },
    {
     "name": "stdout",
     "output_type": "stream",
     "text": [
      "\n"
     ]
    },
    {
     "data": {
      "application/vnd.jupyter.widget-view+json": {
       "model_id": "5a9914c680be4a7ab60cbdf31dd3e9e1",
       "version_major": 2,
       "version_minor": 0
      },
      "text/plain": [
       "HBox(children=(HTML(value=''), FloatProgress(value=0.0, max=328.0), HTML(value='')))"
      ]
     },
     "metadata": {},
     "output_type": "display_data"
    },
    {
     "name": "stdout",
     "output_type": "stream",
     "text": [
      "\n"
     ]
    },
    {
     "data": {
      "application/vnd.jupyter.widget-view+json": {
       "model_id": "92b5dda0380544bba7a88c023d29d8d7",
       "version_major": 2,
       "version_minor": 0
      },
      "text/plain": [
       "HBox(children=(HTML(value=''), FloatProgress(value=0.0, max=335.0), HTML(value='')))"
      ]
     },
     "metadata": {},
     "output_type": "display_data"
    },
    {
     "name": "stdout",
     "output_type": "stream",
     "text": [
      "\n"
     ]
    },
    {
     "data": {
      "application/vnd.jupyter.widget-view+json": {
       "model_id": "c624716c3dfe4ea7a9e2fd85597693cc",
       "version_major": 2,
       "version_minor": 0
      },
      "text/plain": [
       "HBox(children=(HTML(value=''), FloatProgress(value=0.0, max=321.0), HTML(value='')))"
      ]
     },
     "metadata": {},
     "output_type": "display_data"
    },
    {
     "name": "stdout",
     "output_type": "stream",
     "text": [
      "\n"
     ]
    },
    {
     "data": {
      "application/vnd.jupyter.widget-view+json": {
       "model_id": "3d0a63abd726454ebb54323b47c710af",
       "version_major": 2,
       "version_minor": 0
      },
      "text/plain": [
       "HBox(children=(HTML(value=''), FloatProgress(value=0.0, max=329.0), HTML(value='')))"
      ]
     },
     "metadata": {},
     "output_type": "display_data"
    },
    {
     "name": "stdout",
     "output_type": "stream",
     "text": [
      "\n"
     ]
    },
    {
     "data": {
      "application/vnd.jupyter.widget-view+json": {
       "model_id": "d3df6df2387d496cb08b0b5a4149befe",
       "version_major": 2,
       "version_minor": 0
      },
      "text/plain": [
       "HBox(children=(HTML(value=''), FloatProgress(value=0.0, max=324.0), HTML(value='')))"
      ]
     },
     "metadata": {},
     "output_type": "display_data"
    },
    {
     "name": "stdout",
     "output_type": "stream",
     "text": [
      "\n"
     ]
    },
    {
     "data": {
      "application/vnd.jupyter.widget-view+json": {
       "model_id": "6b90522a9084458d9b1d1eeb79a325ab",
       "version_major": 2,
       "version_minor": 0
      },
      "text/plain": [
       "HBox(children=(HTML(value=''), FloatProgress(value=0.0, max=300.0), HTML(value='')))"
      ]
     },
     "metadata": {},
     "output_type": "display_data"
    },
    {
     "name": "stdout",
     "output_type": "stream",
     "text": [
      "\n"
     ]
    },
    {
     "data": {
      "application/vnd.jupyter.widget-view+json": {
       "model_id": "b2e04d4382004caead434d459151f26b",
       "version_major": 2,
       "version_minor": 0
      },
      "text/plain": [
       "HBox(children=(HTML(value=''), FloatProgress(value=0.0, max=313.0), HTML(value='')))"
      ]
     },
     "metadata": {},
     "output_type": "display_data"
    },
    {
     "name": "stdout",
     "output_type": "stream",
     "text": [
      "\n"
     ]
    },
    {
     "data": {
      "application/vnd.jupyter.widget-view+json": {
       "model_id": "47f05ecac6144db9b4229b81aa9c623d",
       "version_major": 2,
       "version_minor": 0
      },
      "text/plain": [
       "HBox(children=(HTML(value=''), FloatProgress(value=0.0, max=319.0), HTML(value='')))"
      ]
     },
     "metadata": {},
     "output_type": "display_data"
    },
    {
     "name": "stdout",
     "output_type": "stream",
     "text": [
      "\n"
     ]
    },
    {
     "data": {
      "application/vnd.jupyter.widget-view+json": {
       "model_id": "8b8aae4300e341db8a84bb686e7870b3",
       "version_major": 2,
       "version_minor": 0
      },
      "text/plain": [
       "HBox(children=(HTML(value=''), FloatProgress(value=0.0, max=300.0), HTML(value='')))"
      ]
     },
     "metadata": {},
     "output_type": "display_data"
    },
    {
     "name": "stdout",
     "output_type": "stream",
     "text": [
      "\n"
     ]
    },
    {
     "data": {
      "application/vnd.jupyter.widget-view+json": {
       "model_id": "ac0732d17d2d4879b452fad31dd888d8",
       "version_major": 2,
       "version_minor": 0
      },
      "text/plain": [
       "HBox(children=(HTML(value=''), FloatProgress(value=0.0, max=342.0), HTML(value='')))"
      ]
     },
     "metadata": {},
     "output_type": "display_data"
    },
    {
     "name": "stdout",
     "output_type": "stream",
     "text": [
      "\n"
     ]
    },
    {
     "data": {
      "application/vnd.jupyter.widget-view+json": {
       "model_id": "8999321ca32943ffb9af5c5a0ffd5d3f",
       "version_major": 2,
       "version_minor": 0
      },
      "text/plain": [
       "HBox(children=(HTML(value=''), FloatProgress(value=0.0, max=366.0), HTML(value='')))"
      ]
     },
     "metadata": {},
     "output_type": "display_data"
    },
    {
     "name": "stdout",
     "output_type": "stream",
     "text": [
      "\n"
     ]
    },
    {
     "data": {
      "application/vnd.jupyter.widget-view+json": {
       "model_id": "ef9d721e8d6e4c3ea2ab7b930f1dbaf8",
       "version_major": 2,
       "version_minor": 0
      },
      "text/plain": [
       "HBox(children=(HTML(value=''), FloatProgress(value=0.0, max=344.0), HTML(value='')))"
      ]
     },
     "metadata": {},
     "output_type": "display_data"
    },
    {
     "name": "stdout",
     "output_type": "stream",
     "text": [
      "\n"
     ]
    },
    {
     "data": {
      "application/vnd.jupyter.widget-view+json": {
       "model_id": "edc4cdcdd5ac4d3586ee87b6bc730a59",
       "version_major": 2,
       "version_minor": 0
      },
      "text/plain": [
       "HBox(children=(HTML(value=''), FloatProgress(value=0.0, max=329.0), HTML(value='')))"
      ]
     },
     "metadata": {},
     "output_type": "display_data"
    },
    {
     "name": "stdout",
     "output_type": "stream",
     "text": [
      "\n"
     ]
    },
    {
     "data": {
      "application/vnd.jupyter.widget-view+json": {
       "model_id": "63568026bc9740cda1730212c60653a3",
       "version_major": 2,
       "version_minor": 0
      },
      "text/plain": [
       "HBox(children=(HTML(value=''), FloatProgress(value=0.0, max=339.0), HTML(value='')))"
      ]
     },
     "metadata": {},
     "output_type": "display_data"
    },
    {
     "name": "stdout",
     "output_type": "stream",
     "text": [
      "\n"
     ]
    },
    {
     "data": {
      "application/vnd.jupyter.widget-view+json": {
       "model_id": "9c24c8aee49b43658483e7b0334a3889",
       "version_major": 2,
       "version_minor": 0
      },
      "text/plain": [
       "HBox(children=(HTML(value=''), FloatProgress(value=0.0, max=326.0), HTML(value='')))"
      ]
     },
     "metadata": {},
     "output_type": "display_data"
    },
    {
     "name": "stdout",
     "output_type": "stream",
     "text": [
      "\n"
     ]
    },
    {
     "data": {
      "application/vnd.jupyter.widget-view+json": {
       "model_id": "eb1b629f2d8c4b9b9a18467d28554552",
       "version_major": 2,
       "version_minor": 0
      },
      "text/plain": [
       "HBox(children=(HTML(value=''), FloatProgress(value=0.0, max=330.0), HTML(value='')))"
      ]
     },
     "metadata": {},
     "output_type": "display_data"
    },
    {
     "name": "stdout",
     "output_type": "stream",
     "text": [
      "\n"
     ]
    },
    {
     "data": {
      "application/vnd.jupyter.widget-view+json": {
       "model_id": "528f05f04bd346bf851d400ae73d32a0",
       "version_major": 2,
       "version_minor": 0
      },
      "text/plain": [
       "HBox(children=(HTML(value=''), FloatProgress(value=0.0, max=344.0), HTML(value='')))"
      ]
     },
     "metadata": {},
     "output_type": "display_data"
    },
    {
     "name": "stdout",
     "output_type": "stream",
     "text": [
      "\n"
     ]
    },
    {
     "data": {
      "application/vnd.jupyter.widget-view+json": {
       "model_id": "fe95ea8329654e958d90d98d287387f8",
       "version_major": 2,
       "version_minor": 0
      },
      "text/plain": [
       "HBox(children=(HTML(value=''), FloatProgress(value=0.0, max=316.0), HTML(value='')))"
      ]
     },
     "metadata": {},
     "output_type": "display_data"
    },
    {
     "name": "stdout",
     "output_type": "stream",
     "text": [
      "\n"
     ]
    },
    {
     "data": {
      "application/vnd.jupyter.widget-view+json": {
       "model_id": "c1a5fdc2bfa845f88a9c9173ba9e9994",
       "version_major": 2,
       "version_minor": 0
      },
      "text/plain": [
       "HBox(children=(HTML(value=''), FloatProgress(value=0.0, max=240.0), HTML(value='')))"
      ]
     },
     "metadata": {},
     "output_type": "display_data"
    },
    {
     "name": "stdout",
     "output_type": "stream",
     "text": [
      "\n"
     ]
    },
    {
     "data": {
      "application/vnd.jupyter.widget-view+json": {
       "model_id": "1028d883a4b14d54ac5183b17a1a4dee",
       "version_major": 2,
       "version_minor": 0
      },
      "text/plain": [
       "HBox(children=(HTML(value=''), FloatProgress(value=0.0, max=305.0), HTML(value='')))"
      ]
     },
     "metadata": {},
     "output_type": "display_data"
    },
    {
     "name": "stdout",
     "output_type": "stream",
     "text": [
      "\n"
     ]
    },
    {
     "data": {
      "application/vnd.jupyter.widget-view+json": {
       "model_id": "528c5ef84794464f95b4b6ad1b2e870c",
       "version_major": 2,
       "version_minor": 0
      },
      "text/plain": [
       "HBox(children=(HTML(value=''), FloatProgress(value=0.0, max=314.0), HTML(value='')))"
      ]
     },
     "metadata": {},
     "output_type": "display_data"
    },
    {
     "name": "stdout",
     "output_type": "stream",
     "text": [
      "\n"
     ]
    },
    {
     "data": {
      "application/vnd.jupyter.widget-view+json": {
       "model_id": "b10f897673194c1cab92e90df458c790",
       "version_major": 2,
       "version_minor": 0
      },
      "text/plain": [
       "HBox(children=(HTML(value=''), FloatProgress(value=0.0, max=345.0), HTML(value='')))"
      ]
     },
     "metadata": {},
     "output_type": "display_data"
    },
    {
     "name": "stdout",
     "output_type": "stream",
     "text": [
      "\n"
     ]
    },
    {
     "data": {
      "application/vnd.jupyter.widget-view+json": {
       "model_id": "f1ef226a92484810a743f25c8ec14b34",
       "version_major": 2,
       "version_minor": 0
      },
      "text/plain": [
       "HBox(children=(HTML(value=''), FloatProgress(value=0.0, max=336.0), HTML(value='')))"
      ]
     },
     "metadata": {},
     "output_type": "display_data"
    },
    {
     "name": "stdout",
     "output_type": "stream",
     "text": [
      "\n"
     ]
    },
    {
     "data": {
      "application/vnd.jupyter.widget-view+json": {
       "model_id": "6f71fa69522a48adbede5a1c48af2c75",
       "version_major": 2,
       "version_minor": 0
      },
      "text/plain": [
       "HBox(children=(HTML(value=''), FloatProgress(value=0.0, max=333.0), HTML(value='')))"
      ]
     },
     "metadata": {},
     "output_type": "display_data"
    },
    {
     "name": "stdout",
     "output_type": "stream",
     "text": [
      "\n"
     ]
    },
    {
     "data": {
      "application/vnd.jupyter.widget-view+json": {
       "model_id": "ee74217a5f6341efa463c7ad2d1d8d1c",
       "version_major": 2,
       "version_minor": 0
      },
      "text/plain": [
       "HBox(children=(HTML(value=''), FloatProgress(value=0.0, max=398.0), HTML(value='')))"
      ]
     },
     "metadata": {},
     "output_type": "display_data"
    },
    {
     "name": "stdout",
     "output_type": "stream",
     "text": [
      "\n"
     ]
    },
    {
     "data": {
      "application/vnd.jupyter.widget-view+json": {
       "model_id": "bb202965d5474e8a892528f83fc481c8",
       "version_major": 2,
       "version_minor": 0
      },
      "text/plain": [
       "HBox(children=(HTML(value=''), FloatProgress(value=0.0, max=362.0), HTML(value='')))"
      ]
     },
     "metadata": {},
     "output_type": "display_data"
    },
    {
     "name": "stdout",
     "output_type": "stream",
     "text": [
      "\n"
     ]
    },
    {
     "data": {
      "application/vnd.jupyter.widget-view+json": {
       "model_id": "c5f2c7111d46443facba8c1b45bb6cd0",
       "version_major": 2,
       "version_minor": 0
      },
      "text/plain": [
       "HBox(children=(HTML(value=''), FloatProgress(value=0.0, max=304.0), HTML(value='')))"
      ]
     },
     "metadata": {},
     "output_type": "display_data"
    },
    {
     "name": "stdout",
     "output_type": "stream",
     "text": [
      "\n"
     ]
    },
    {
     "data": {
      "application/vnd.jupyter.widget-view+json": {
       "model_id": "9e28bbcfe5e0468290d758b2698b8f68",
       "version_major": 2,
       "version_minor": 0
      },
      "text/plain": [
       "HBox(children=(HTML(value=''), FloatProgress(value=0.0, max=315.0), HTML(value='')))"
      ]
     },
     "metadata": {},
     "output_type": "display_data"
    },
    {
     "name": "stdout",
     "output_type": "stream",
     "text": [
      "\n"
     ]
    },
    {
     "data": {
      "application/vnd.jupyter.widget-view+json": {
       "model_id": "bccf2f07069d4156add7f424cf07b74f",
       "version_major": 2,
       "version_minor": 0
      },
      "text/plain": [
       "HBox(children=(HTML(value=''), FloatProgress(value=0.0, max=311.0), HTML(value='')))"
      ]
     },
     "metadata": {},
     "output_type": "display_data"
    },
    {
     "name": "stdout",
     "output_type": "stream",
     "text": [
      "\n"
     ]
    },
    {
     "data": {
      "application/vnd.jupyter.widget-view+json": {
       "model_id": "8a218672c80d48d5a26365ccf54c0cf6",
       "version_major": 2,
       "version_minor": 0
      },
      "text/plain": [
       "HBox(children=(HTML(value=''), FloatProgress(value=0.0, max=309.0), HTML(value='')))"
      ]
     },
     "metadata": {},
     "output_type": "display_data"
    },
    {
     "name": "stdout",
     "output_type": "stream",
     "text": [
      "\n"
     ]
    },
    {
     "data": {
      "application/vnd.jupyter.widget-view+json": {
       "model_id": "7b35855c65d7476aa0384e0f5170f376",
       "version_major": 2,
       "version_minor": 0
      },
      "text/plain": [
       "HBox(children=(HTML(value=''), FloatProgress(value=0.0, max=275.0), HTML(value='')))"
      ]
     },
     "metadata": {},
     "output_type": "display_data"
    },
    {
     "name": "stdout",
     "output_type": "stream",
     "text": [
      "\n"
     ]
    },
    {
     "data": {
      "application/vnd.jupyter.widget-view+json": {
       "model_id": "605f2d2249304840b54499c50acf3493",
       "version_major": 2,
       "version_minor": 0
      },
      "text/plain": [
       "HBox(children=(HTML(value=''), FloatProgress(value=0.0, max=353.0), HTML(value='')))"
      ]
     },
     "metadata": {},
     "output_type": "display_data"
    },
    {
     "name": "stdout",
     "output_type": "stream",
     "text": [
      "\n"
     ]
    },
    {
     "data": {
      "application/vnd.jupyter.widget-view+json": {
       "model_id": "b26d71a223ac46dc997adce99c9e0586",
       "version_major": 2,
       "version_minor": 0
      },
      "text/plain": [
       "HBox(children=(HTML(value=''), FloatProgress(value=0.0, max=357.0), HTML(value='')))"
      ]
     },
     "metadata": {},
     "output_type": "display_data"
    },
    {
     "name": "stdout",
     "output_type": "stream",
     "text": [
      "\n"
     ]
    },
    {
     "data": {
      "application/vnd.jupyter.widget-view+json": {
       "model_id": "734631d1c33b47248880bf695373ce20",
       "version_major": 2,
       "version_minor": 0
      },
      "text/plain": [
       "HBox(children=(HTML(value=''), FloatProgress(value=0.0, max=338.0), HTML(value='')))"
      ]
     },
     "metadata": {},
     "output_type": "display_data"
    },
    {
     "name": "stdout",
     "output_type": "stream",
     "text": [
      "\n"
     ]
    },
    {
     "data": {
      "application/vnd.jupyter.widget-view+json": {
       "model_id": "fd7bd8c294364a8ca7afd56e504feaa4",
       "version_major": 2,
       "version_minor": 0
      },
      "text/plain": [
       "HBox(children=(HTML(value=''), FloatProgress(value=0.0, max=300.0), HTML(value='')))"
      ]
     },
     "metadata": {},
     "output_type": "display_data"
    },
    {
     "name": "stdout",
     "output_type": "stream",
     "text": [
      "\n"
     ]
    },
    {
     "data": {
      "application/vnd.jupyter.widget-view+json": {
       "model_id": "2806faefa8da468a87836d6f8d916cfd",
       "version_major": 2,
       "version_minor": 0
      },
      "text/plain": [
       "HBox(children=(HTML(value=''), FloatProgress(value=0.0, max=324.0), HTML(value='')))"
      ]
     },
     "metadata": {},
     "output_type": "display_data"
    },
    {
     "name": "stdout",
     "output_type": "stream",
     "text": [
      "\n"
     ]
    },
    {
     "data": {
      "application/vnd.jupyter.widget-view+json": {
       "model_id": "be95d254da1e4c96a8dac24356458e11",
       "version_major": 2,
       "version_minor": 0
      },
      "text/plain": [
       "HBox(children=(HTML(value=''), FloatProgress(value=0.0, max=297.0), HTML(value='')))"
      ]
     },
     "metadata": {},
     "output_type": "display_data"
    },
    {
     "name": "stdout",
     "output_type": "stream",
     "text": [
      "\n"
     ]
    },
    {
     "data": {
      "application/vnd.jupyter.widget-view+json": {
       "model_id": "66ca127a58f64863a69343c591a17b48",
       "version_major": 2,
       "version_minor": 0
      },
      "text/plain": [
       "HBox(children=(HTML(value=''), FloatProgress(value=0.0, max=349.0), HTML(value='')))"
      ]
     },
     "metadata": {},
     "output_type": "display_data"
    },
    {
     "name": "stdout",
     "output_type": "stream",
     "text": [
      "\n"
     ]
    },
    {
     "data": {
      "application/vnd.jupyter.widget-view+json": {
       "model_id": "f8797c9251a24066822ea24c806cc45e",
       "version_major": 2,
       "version_minor": 0
      },
      "text/plain": [
       "HBox(children=(HTML(value=''), FloatProgress(value=0.0, max=354.0), HTML(value='')))"
      ]
     },
     "metadata": {},
     "output_type": "display_data"
    },
    {
     "name": "stdout",
     "output_type": "stream",
     "text": [
      "\n"
     ]
    },
    {
     "data": {
      "application/vnd.jupyter.widget-view+json": {
       "model_id": "f62264e77a6a41f1b1584d311627e27e",
       "version_major": 2,
       "version_minor": 0
      },
      "text/plain": [
       "HBox(children=(HTML(value=''), FloatProgress(value=0.0, max=348.0), HTML(value='')))"
      ]
     },
     "metadata": {},
     "output_type": "display_data"
    },
    {
     "name": "stdout",
     "output_type": "stream",
     "text": [
      "\n"
     ]
    },
    {
     "data": {
      "application/vnd.jupyter.widget-view+json": {
       "model_id": "bedb2f069e0a41f4a1ed9c42f0ceabf4",
       "version_major": 2,
       "version_minor": 0
      },
      "text/plain": [
       "HBox(children=(HTML(value=''), FloatProgress(value=0.0, max=350.0), HTML(value='')))"
      ]
     },
     "metadata": {},
     "output_type": "display_data"
    },
    {
     "name": "stdout",
     "output_type": "stream",
     "text": [
      "\n"
     ]
    },
    {
     "data": {
      "application/vnd.jupyter.widget-view+json": {
       "model_id": "5d319bad2e7d4241b177bdd9be1e5383",
       "version_major": 2,
       "version_minor": 0
      },
      "text/plain": [
       "HBox(children=(HTML(value=''), FloatProgress(value=0.0, max=381.0), HTML(value='')))"
      ]
     },
     "metadata": {},
     "output_type": "display_data"
    },
    {
     "name": "stdout",
     "output_type": "stream",
     "text": [
      "\n"
     ]
    },
    {
     "data": {
      "application/vnd.jupyter.widget-view+json": {
       "model_id": "255f3c9659714dff9607b74d7e185c98",
       "version_major": 2,
       "version_minor": 0
      },
      "text/plain": [
       "HBox(children=(HTML(value=''), FloatProgress(value=0.0, max=257.0), HTML(value='')))"
      ]
     },
     "metadata": {},
     "output_type": "display_data"
    },
    {
     "name": "stdout",
     "output_type": "stream",
     "text": [
      "\n"
     ]
    },
    {
     "data": {
      "application/vnd.jupyter.widget-view+json": {
       "model_id": "228bee5b7a204828a82ad7179a456870",
       "version_major": 2,
       "version_minor": 0
      },
      "text/plain": [
       "HBox(children=(HTML(value=''), FloatProgress(value=0.0, max=356.0), HTML(value='')))"
      ]
     },
     "metadata": {},
     "output_type": "display_data"
    },
    {
     "name": "stdout",
     "output_type": "stream",
     "text": [
      "\n"
     ]
    },
    {
     "data": {
      "application/vnd.jupyter.widget-view+json": {
       "model_id": "be8270464e244807901dc2bc9a1a04a4",
       "version_major": 2,
       "version_minor": 0
      },
      "text/plain": [
       "HBox(children=(HTML(value=''), FloatProgress(value=0.0, max=283.0), HTML(value='')))"
      ]
     },
     "metadata": {},
     "output_type": "display_data"
    },
    {
     "name": "stdout",
     "output_type": "stream",
     "text": [
      "\n"
     ]
    },
    {
     "data": {
      "application/vnd.jupyter.widget-view+json": {
       "model_id": "ff5083715290407d85a0df8255bd00db",
       "version_major": 2,
       "version_minor": 0
      },
      "text/plain": [
       "HBox(children=(HTML(value=''), FloatProgress(value=0.0, max=338.0), HTML(value='')))"
      ]
     },
     "metadata": {},
     "output_type": "display_data"
    },
    {
     "name": "stdout",
     "output_type": "stream",
     "text": [
      "\n"
     ]
    },
    {
     "data": {
      "application/vnd.jupyter.widget-view+json": {
       "model_id": "4b74170ee8f54c0ead578b86c26947a0",
       "version_major": 2,
       "version_minor": 0
      },
      "text/plain": [
       "HBox(children=(HTML(value=''), FloatProgress(value=0.0, max=353.0), HTML(value='')))"
      ]
     },
     "metadata": {},
     "output_type": "display_data"
    },
    {
     "name": "stdout",
     "output_type": "stream",
     "text": [
      "\n"
     ]
    },
    {
     "data": {
      "application/vnd.jupyter.widget-view+json": {
       "model_id": "76ff34abf4af402e910541af4b5a3f7a",
       "version_major": 2,
       "version_minor": 0
      },
      "text/plain": [
       "HBox(children=(HTML(value=''), FloatProgress(value=0.0, max=327.0), HTML(value='')))"
      ]
     },
     "metadata": {},
     "output_type": "display_data"
    },
    {
     "name": "stdout",
     "output_type": "stream",
     "text": [
      "\n"
     ]
    },
    {
     "data": {
      "application/vnd.jupyter.widget-view+json": {
       "model_id": "a141556f3191432f8d2bf0d0876ab7aa",
       "version_major": 2,
       "version_minor": 0
      },
      "text/plain": [
       "HBox(children=(HTML(value=''), FloatProgress(value=0.0, max=313.0), HTML(value='')))"
      ]
     },
     "metadata": {},
     "output_type": "display_data"
    },
    {
     "name": "stdout",
     "output_type": "stream",
     "text": [
      "\n"
     ]
    },
    {
     "data": {
      "application/vnd.jupyter.widget-view+json": {
       "model_id": "841fd4f21d084931b760ac038793e8e3",
       "version_major": 2,
       "version_minor": 0
      },
      "text/plain": [
       "HBox(children=(HTML(value=''), FloatProgress(value=0.0, max=370.0), HTML(value='')))"
      ]
     },
     "metadata": {},
     "output_type": "display_data"
    },
    {
     "name": "stdout",
     "output_type": "stream",
     "text": [
      "\n"
     ]
    },
    {
     "data": {
      "application/vnd.jupyter.widget-view+json": {
       "model_id": "4e3fcf649de04dc8a771a59d1972a50e",
       "version_major": 2,
       "version_minor": 0
      },
      "text/plain": [
       "HBox(children=(HTML(value=''), FloatProgress(value=0.0, max=309.0), HTML(value='')))"
      ]
     },
     "metadata": {},
     "output_type": "display_data"
    },
    {
     "name": "stdout",
     "output_type": "stream",
     "text": [
      "\n"
     ]
    },
    {
     "data": {
      "application/vnd.jupyter.widget-view+json": {
       "model_id": "0a3a5e490f9f4202a840b673d8084fa2",
       "version_major": 2,
       "version_minor": 0
      },
      "text/plain": [
       "HBox(children=(HTML(value=''), FloatProgress(value=0.0, max=330.0), HTML(value='')))"
      ]
     },
     "metadata": {},
     "output_type": "display_data"
    },
    {
     "name": "stdout",
     "output_type": "stream",
     "text": [
      "\n"
     ]
    },
    {
     "data": {
      "application/vnd.jupyter.widget-view+json": {
       "model_id": "cfd1c0076d8a4f5f8ff687f37412dfea",
       "version_major": 2,
       "version_minor": 0
      },
      "text/plain": [
       "HBox(children=(HTML(value=''), FloatProgress(value=0.0, max=309.0), HTML(value='')))"
      ]
     },
     "metadata": {},
     "output_type": "display_data"
    },
    {
     "name": "stdout",
     "output_type": "stream",
     "text": [
      "\n"
     ]
    },
    {
     "data": {
      "application/vnd.jupyter.widget-view+json": {
       "model_id": "084f5b3f3f254719951ad19df4ab2acd",
       "version_major": 2,
       "version_minor": 0
      },
      "text/plain": [
       "HBox(children=(HTML(value=''), FloatProgress(value=0.0, max=312.0), HTML(value='')))"
      ]
     },
     "metadata": {},
     "output_type": "display_data"
    },
    {
     "name": "stdout",
     "output_type": "stream",
     "text": [
      "\n"
     ]
    },
    {
     "data": {
      "application/vnd.jupyter.widget-view+json": {
       "model_id": "a220862ed76342abb9f4fe60ab640d89",
       "version_major": 2,
       "version_minor": 0
      },
      "text/plain": [
       "HBox(children=(HTML(value=''), FloatProgress(value=0.0, max=313.0), HTML(value='')))"
      ]
     },
     "metadata": {},
     "output_type": "display_data"
    },
    {
     "name": "stdout",
     "output_type": "stream",
     "text": [
      "\n"
     ]
    },
    {
     "data": {
      "application/vnd.jupyter.widget-view+json": {
       "model_id": "03ede4c18a814ebe9149eb64b5962d08",
       "version_major": 2,
       "version_minor": 0
      },
      "text/plain": [
       "HBox(children=(HTML(value=''), FloatProgress(value=0.0, max=314.0), HTML(value='')))"
      ]
     },
     "metadata": {},
     "output_type": "display_data"
    },
    {
     "name": "stdout",
     "output_type": "stream",
     "text": [
      "\n"
     ]
    },
    {
     "data": {
      "application/vnd.jupyter.widget-view+json": {
       "model_id": "b9c56d343cc44026814907aa531a9b7b",
       "version_major": 2,
       "version_minor": 0
      },
      "text/plain": [
       "HBox(children=(HTML(value=''), FloatProgress(value=0.0, max=292.0), HTML(value='')))"
      ]
     },
     "metadata": {},
     "output_type": "display_data"
    },
    {
     "name": "stdout",
     "output_type": "stream",
     "text": [
      "\n"
     ]
    },
    {
     "data": {
      "application/vnd.jupyter.widget-view+json": {
       "model_id": "d95abd700d644c268f41ea12c50c2da5",
       "version_major": 2,
       "version_minor": 0
      },
      "text/plain": [
       "HBox(children=(HTML(value=''), FloatProgress(value=0.0, max=336.0), HTML(value='')))"
      ]
     },
     "metadata": {},
     "output_type": "display_data"
    },
    {
     "name": "stdout",
     "output_type": "stream",
     "text": [
      "\n"
     ]
    },
    {
     "data": {
      "application/vnd.jupyter.widget-view+json": {
       "model_id": "7263d65b589848b0a7681d59102aab78",
       "version_major": 2,
       "version_minor": 0
      },
      "text/plain": [
       "HBox(children=(HTML(value=''), FloatProgress(value=0.0, max=280.0), HTML(value='')))"
      ]
     },
     "metadata": {},
     "output_type": "display_data"
    },
    {
     "name": "stdout",
     "output_type": "stream",
     "text": [
      "\n"
     ]
    },
    {
     "data": {
      "application/vnd.jupyter.widget-view+json": {
       "model_id": "c543f001db8f430fb3963c3163501188",
       "version_major": 2,
       "version_minor": 0
      },
      "text/plain": [
       "HBox(children=(HTML(value=''), FloatProgress(value=0.0, max=292.0), HTML(value='')))"
      ]
     },
     "metadata": {},
     "output_type": "display_data"
    },
    {
     "name": "stdout",
     "output_type": "stream",
     "text": [
      "\n"
     ]
    },
    {
     "data": {
      "application/vnd.jupyter.widget-view+json": {
       "model_id": "752a41d7a80449f69608e809d9844604",
       "version_major": 2,
       "version_minor": 0
      },
      "text/plain": [
       "HBox(children=(HTML(value=''), FloatProgress(value=0.0, max=306.0), HTML(value='')))"
      ]
     },
     "metadata": {},
     "output_type": "display_data"
    },
    {
     "name": "stdout",
     "output_type": "stream",
     "text": [
      "\n"
     ]
    },
    {
     "data": {
      "application/vnd.jupyter.widget-view+json": {
       "model_id": "c4935e8199fe4025902f2f10a33e6ba9",
       "version_major": 2,
       "version_minor": 0
      },
      "text/plain": [
       "HBox(children=(HTML(value=''), FloatProgress(value=0.0, max=310.0), HTML(value='')))"
      ]
     },
     "metadata": {},
     "output_type": "display_data"
    },
    {
     "name": "stdout",
     "output_type": "stream",
     "text": [
      "\n"
     ]
    },
    {
     "data": {
      "application/vnd.jupyter.widget-view+json": {
       "model_id": "6b973216feb2413695df7e9681cd9b69",
       "version_major": 2,
       "version_minor": 0
      },
      "text/plain": [
       "HBox(children=(HTML(value=''), FloatProgress(value=0.0, max=298.0), HTML(value='')))"
      ]
     },
     "metadata": {},
     "output_type": "display_data"
    },
    {
     "name": "stdout",
     "output_type": "stream",
     "text": [
      "\n"
     ]
    },
    {
     "data": {
      "application/vnd.jupyter.widget-view+json": {
       "model_id": "a951331d5b2f42a9a43bb12298143a83",
       "version_major": 2,
       "version_minor": 0
      },
      "text/plain": [
       "HBox(children=(HTML(value=''), FloatProgress(value=0.0, max=343.0), HTML(value='')))"
      ]
     },
     "metadata": {},
     "output_type": "display_data"
    },
    {
     "name": "stdout",
     "output_type": "stream",
     "text": [
      "\n"
     ]
    },
    {
     "data": {
      "application/vnd.jupyter.widget-view+json": {
       "model_id": "a6fc1a7234b34799a44a7cf0fe60bbbf",
       "version_major": 2,
       "version_minor": 0
      },
      "text/plain": [
       "HBox(children=(HTML(value=''), FloatProgress(value=0.0, max=342.0), HTML(value='')))"
      ]
     },
     "metadata": {},
     "output_type": "display_data"
    },
    {
     "name": "stdout",
     "output_type": "stream",
     "text": [
      "\n"
     ]
    },
    {
     "data": {
      "application/vnd.jupyter.widget-view+json": {
       "model_id": "9416be2abab948b79c6d3e932f6f1aaa",
       "version_major": 2,
       "version_minor": 0
      },
      "text/plain": [
       "HBox(children=(HTML(value=''), FloatProgress(value=0.0, max=319.0), HTML(value='')))"
      ]
     },
     "metadata": {},
     "output_type": "display_data"
    },
    {
     "name": "stdout",
     "output_type": "stream",
     "text": [
      "\n"
     ]
    },
    {
     "data": {
      "application/vnd.jupyter.widget-view+json": {
       "model_id": "e7be48452c354560b482afd62c3c15a2",
       "version_major": 2,
       "version_minor": 0
      },
      "text/plain": [
       "HBox(children=(HTML(value=''), FloatProgress(value=0.0, max=279.0), HTML(value='')))"
      ]
     },
     "metadata": {},
     "output_type": "display_data"
    },
    {
     "name": "stdout",
     "output_type": "stream",
     "text": [
      "\n"
     ]
    },
    {
     "data": {
      "application/vnd.jupyter.widget-view+json": {
       "model_id": "d0ffbc187eb84d2fb7b0b1f0558b1ced",
       "version_major": 2,
       "version_minor": 0
      },
      "text/plain": [
       "HBox(children=(HTML(value=''), FloatProgress(value=0.0, max=317.0), HTML(value='')))"
      ]
     },
     "metadata": {},
     "output_type": "display_data"
    },
    {
     "name": "stdout",
     "output_type": "stream",
     "text": [
      "\n"
     ]
    },
    {
     "data": {
      "application/vnd.jupyter.widget-view+json": {
       "model_id": "b1c2ac7aba9c444caab6ffe2d21b262c",
       "version_major": 2,
       "version_minor": 0
      },
      "text/plain": [
       "HBox(children=(HTML(value=''), FloatProgress(value=0.0, max=313.0), HTML(value='')))"
      ]
     },
     "metadata": {},
     "output_type": "display_data"
    },
    {
     "name": "stdout",
     "output_type": "stream",
     "text": [
      "\n"
     ]
    },
    {
     "data": {
      "application/vnd.jupyter.widget-view+json": {
       "model_id": "762f8d6a73eb45eaab87dd8348efa193",
       "version_major": 2,
       "version_minor": 0
      },
      "text/plain": [
       "HBox(children=(HTML(value=''), FloatProgress(value=0.0, max=327.0), HTML(value='')))"
      ]
     },
     "metadata": {},
     "output_type": "display_data"
    },
    {
     "name": "stdout",
     "output_type": "stream",
     "text": [
      "\n"
     ]
    },
    {
     "data": {
      "application/vnd.jupyter.widget-view+json": {
       "model_id": "26c532e387394979ae4dbc3e1118a1f1",
       "version_major": 2,
       "version_minor": 0
      },
      "text/plain": [
       "HBox(children=(HTML(value=''), FloatProgress(value=0.0, max=360.0), HTML(value='')))"
      ]
     },
     "metadata": {},
     "output_type": "display_data"
    },
    {
     "name": "stdout",
     "output_type": "stream",
     "text": [
      "\n"
     ]
    },
    {
     "data": {
      "application/vnd.jupyter.widget-view+json": {
       "model_id": "28570f07cb4840999e8f0b139f119fee",
       "version_major": 2,
       "version_minor": 0
      },
      "text/plain": [
       "HBox(children=(HTML(value=''), FloatProgress(value=0.0, max=398.0), HTML(value='')))"
      ]
     },
     "metadata": {},
     "output_type": "display_data"
    },
    {
     "name": "stdout",
     "output_type": "stream",
     "text": [
      "\n"
     ]
    },
    {
     "data": {
      "application/vnd.jupyter.widget-view+json": {
       "model_id": "8c7d30461f8a4c72a5e9ed5d09b4aca9",
       "version_major": 2,
       "version_minor": 0
      },
      "text/plain": [
       "HBox(children=(HTML(value=''), FloatProgress(value=0.0, max=278.0), HTML(value='')))"
      ]
     },
     "metadata": {},
     "output_type": "display_data"
    },
    {
     "name": "stdout",
     "output_type": "stream",
     "text": [
      "\n"
     ]
    },
    {
     "data": {
      "application/vnd.jupyter.widget-view+json": {
       "model_id": "e1615df19a424534aa501ea903376d24",
       "version_major": 2,
       "version_minor": 0
      },
      "text/plain": [
       "HBox(children=(HTML(value=''), FloatProgress(value=0.0, max=309.0), HTML(value='')))"
      ]
     },
     "metadata": {},
     "output_type": "display_data"
    },
    {
     "name": "stdout",
     "output_type": "stream",
     "text": [
      "\n"
     ]
    },
    {
     "data": {
      "application/vnd.jupyter.widget-view+json": {
       "model_id": "30c72e8668204bb8ad42c848e93d53ed",
       "version_major": 2,
       "version_minor": 0
      },
      "text/plain": [
       "HBox(children=(HTML(value=''), FloatProgress(value=0.0, max=364.0), HTML(value='')))"
      ]
     },
     "metadata": {},
     "output_type": "display_data"
    },
    {
     "name": "stdout",
     "output_type": "stream",
     "text": [
      "\n"
     ]
    },
    {
     "data": {
      "application/vnd.jupyter.widget-view+json": {
       "model_id": "dbfb3f9bf86044e8889db51d34a85043",
       "version_major": 2,
       "version_minor": 0
      },
      "text/plain": [
       "HBox(children=(HTML(value=''), FloatProgress(value=0.0, max=348.0), HTML(value='')))"
      ]
     },
     "metadata": {},
     "output_type": "display_data"
    },
    {
     "name": "stdout",
     "output_type": "stream",
     "text": [
      "\n"
     ]
    },
    {
     "data": {
      "application/vnd.jupyter.widget-view+json": {
       "model_id": "f2c024c998114528877644fd9722ad26",
       "version_major": 2,
       "version_minor": 0
      },
      "text/plain": [
       "HBox(children=(HTML(value=''), FloatProgress(value=0.0, max=314.0), HTML(value='')))"
      ]
     },
     "metadata": {},
     "output_type": "display_data"
    },
    {
     "name": "stdout",
     "output_type": "stream",
     "text": [
      "\n"
     ]
    },
    {
     "data": {
      "application/vnd.jupyter.widget-view+json": {
       "model_id": "34dcb0dc026e431b93c23b99f4fde989",
       "version_major": 2,
       "version_minor": 0
      },
      "text/plain": [
       "HBox(children=(HTML(value=''), FloatProgress(value=0.0, max=305.0), HTML(value='')))"
      ]
     },
     "metadata": {},
     "output_type": "display_data"
    },
    {
     "name": "stdout",
     "output_type": "stream",
     "text": [
      "\n"
     ]
    },
    {
     "data": {
      "application/vnd.jupyter.widget-view+json": {
       "model_id": "c5f32f3602984c4cbc52299d2e4c514f",
       "version_major": 2,
       "version_minor": 0
      },
      "text/plain": [
       "HBox(children=(HTML(value=''), FloatProgress(value=0.0, max=334.0), HTML(value='')))"
      ]
     },
     "metadata": {},
     "output_type": "display_data"
    },
    {
     "name": "stdout",
     "output_type": "stream",
     "text": [
      "\n"
     ]
    },
    {
     "data": {
      "application/vnd.jupyter.widget-view+json": {
       "model_id": "a8e7148c6afd4131b24a794f2df7630f",
       "version_major": 2,
       "version_minor": 0
      },
      "text/plain": [
       "HBox(children=(HTML(value=''), FloatProgress(value=0.0, max=313.0), HTML(value='')))"
      ]
     },
     "metadata": {},
     "output_type": "display_data"
    },
    {
     "name": "stdout",
     "output_type": "stream",
     "text": [
      "\n"
     ]
    },
    {
     "data": {
      "application/vnd.jupyter.widget-view+json": {
       "model_id": "9be43d76e5be43a3b4c307d73d39b0b5",
       "version_major": 2,
       "version_minor": 0
      },
      "text/plain": [
       "HBox(children=(HTML(value=''), FloatProgress(value=0.0, max=320.0), HTML(value='')))"
      ]
     },
     "metadata": {},
     "output_type": "display_data"
    },
    {
     "name": "stdout",
     "output_type": "stream",
     "text": [
      "\n"
     ]
    },
    {
     "data": {
      "application/vnd.jupyter.widget-view+json": {
       "model_id": "6318e5390b6c47a9973a672d12638a6e",
       "version_major": 2,
       "version_minor": 0
      },
      "text/plain": [
       "HBox(children=(HTML(value=''), FloatProgress(value=0.0, max=345.0), HTML(value='')))"
      ]
     },
     "metadata": {},
     "output_type": "display_data"
    },
    {
     "name": "stdout",
     "output_type": "stream",
     "text": [
      "\n"
     ]
    },
    {
     "data": {
      "application/vnd.jupyter.widget-view+json": {
       "model_id": "b684a1eaf3d64dc6b2d9e7bc23fa6612",
       "version_major": 2,
       "version_minor": 0
      },
      "text/plain": [
       "HBox(children=(HTML(value=''), FloatProgress(value=0.0, max=354.0), HTML(value='')))"
      ]
     },
     "metadata": {},
     "output_type": "display_data"
    },
    {
     "name": "stdout",
     "output_type": "stream",
     "text": [
      "\n"
     ]
    },
    {
     "data": {
      "application/vnd.jupyter.widget-view+json": {
       "model_id": "5df8879f7c9b4f5c9de1f11a98416320",
       "version_major": 2,
       "version_minor": 0
      },
      "text/plain": [
       "HBox(children=(HTML(value=''), FloatProgress(value=0.0, max=296.0), HTML(value='')))"
      ]
     },
     "metadata": {},
     "output_type": "display_data"
    },
    {
     "name": "stdout",
     "output_type": "stream",
     "text": [
      "\n"
     ]
    },
    {
     "data": {
      "application/vnd.jupyter.widget-view+json": {
       "model_id": "69991f3724c84622bfa5142ca24014a5",
       "version_major": 2,
       "version_minor": 0
      },
      "text/plain": [
       "HBox(children=(HTML(value=''), FloatProgress(value=0.0, max=344.0), HTML(value='')))"
      ]
     },
     "metadata": {},
     "output_type": "display_data"
    },
    {
     "name": "stdout",
     "output_type": "stream",
     "text": [
      "\n"
     ]
    },
    {
     "data": {
      "application/vnd.jupyter.widget-view+json": {
       "model_id": "939aba0aea8a4e8c9e7d1c224dee8b32",
       "version_major": 2,
       "version_minor": 0
      },
      "text/plain": [
       "HBox(children=(HTML(value=''), FloatProgress(value=0.0, max=332.0), HTML(value='')))"
      ]
     },
     "metadata": {},
     "output_type": "display_data"
    },
    {
     "name": "stdout",
     "output_type": "stream",
     "text": [
      "\n"
     ]
    },
    {
     "data": {
      "application/vnd.jupyter.widget-view+json": {
       "model_id": "1e83903688134ae7824ba6c8952f2980",
       "version_major": 2,
       "version_minor": 0
      },
      "text/plain": [
       "HBox(children=(HTML(value=''), FloatProgress(value=0.0, max=323.0), HTML(value='')))"
      ]
     },
     "metadata": {},
     "output_type": "display_data"
    },
    {
     "name": "stdout",
     "output_type": "stream",
     "text": [
      "\n"
     ]
    },
    {
     "data": {
      "application/vnd.jupyter.widget-view+json": {
       "model_id": "407ff9bd914b43e48d72913ca834eb35",
       "version_major": 2,
       "version_minor": 0
      },
      "text/plain": [
       "HBox(children=(HTML(value=''), FloatProgress(value=0.0, max=358.0), HTML(value='')))"
      ]
     },
     "metadata": {},
     "output_type": "display_data"
    },
    {
     "name": "stdout",
     "output_type": "stream",
     "text": [
      "\n"
     ]
    },
    {
     "data": {
      "application/vnd.jupyter.widget-view+json": {
       "model_id": "ae9649cf641d41b58df496a31ba9ce8c",
       "version_major": 2,
       "version_minor": 0
      },
      "text/plain": [
       "HBox(children=(HTML(value=''), FloatProgress(value=0.0, max=334.0), HTML(value='')))"
      ]
     },
     "metadata": {},
     "output_type": "display_data"
    },
    {
     "name": "stdout",
     "output_type": "stream",
     "text": [
      "\n"
     ]
    },
    {
     "data": {
      "application/vnd.jupyter.widget-view+json": {
       "model_id": "cea373cd5fbe43e4b8c2b1bd1bb23dca",
       "version_major": 2,
       "version_minor": 0
      },
      "text/plain": [
       "HBox(children=(HTML(value=''), FloatProgress(value=0.0, max=322.0), HTML(value='')))"
      ]
     },
     "metadata": {},
     "output_type": "display_data"
    },
    {
     "name": "stdout",
     "output_type": "stream",
     "text": [
      "\n"
     ]
    },
    {
     "data": {
      "application/vnd.jupyter.widget-view+json": {
       "model_id": "12cbad86920e42acaca20cfb27f1c117",
       "version_major": 2,
       "version_minor": 0
      },
      "text/plain": [
       "HBox(children=(HTML(value=''), FloatProgress(value=0.0, max=313.0), HTML(value='')))"
      ]
     },
     "metadata": {},
     "output_type": "display_data"
    },
    {
     "name": "stdout",
     "output_type": "stream",
     "text": [
      "\n"
     ]
    },
    {
     "data": {
      "application/vnd.jupyter.widget-view+json": {
       "model_id": "62ee19938c2c430d830b2bda20f1994e",
       "version_major": 2,
       "version_minor": 0
      },
      "text/plain": [
       "HBox(children=(HTML(value=''), FloatProgress(value=0.0, max=319.0), HTML(value='')))"
      ]
     },
     "metadata": {},
     "output_type": "display_data"
    },
    {
     "name": "stdout",
     "output_type": "stream",
     "text": [
      "\n"
     ]
    },
    {
     "data": {
      "application/vnd.jupyter.widget-view+json": {
       "model_id": "778bac6a9a6f4dfdb38d8661a1fbe8cc",
       "version_major": 2,
       "version_minor": 0
      },
      "text/plain": [
       "HBox(children=(HTML(value=''), FloatProgress(value=0.0, max=301.0), HTML(value='')))"
      ]
     },
     "metadata": {},
     "output_type": "display_data"
    },
    {
     "name": "stdout",
     "output_type": "stream",
     "text": [
      "\n"
     ]
    },
    {
     "data": {
      "application/vnd.jupyter.widget-view+json": {
       "model_id": "c0aeb3d1e8b04fb6b46f48b1aae5e498",
       "version_major": 2,
       "version_minor": 0
      },
      "text/plain": [
       "HBox(children=(HTML(value=''), FloatProgress(value=0.0, max=339.0), HTML(value='')))"
      ]
     },
     "metadata": {},
     "output_type": "display_data"
    },
    {
     "name": "stdout",
     "output_type": "stream",
     "text": [
      "\n"
     ]
    },
    {
     "data": {
      "application/vnd.jupyter.widget-view+json": {
       "model_id": "4db6320e3ee04d25b8f638abbf6e2be6",
       "version_major": 2,
       "version_minor": 0
      },
      "text/plain": [
       "HBox(children=(HTML(value=''), FloatProgress(value=0.0, max=331.0), HTML(value='')))"
      ]
     },
     "metadata": {},
     "output_type": "display_data"
    },
    {
     "name": "stdout",
     "output_type": "stream",
     "text": [
      "\n"
     ]
    },
    {
     "data": {
      "application/vnd.jupyter.widget-view+json": {
       "model_id": "69df9ba6fd83447b81292dc755168c31",
       "version_major": 2,
       "version_minor": 0
      },
      "text/plain": [
       "HBox(children=(HTML(value=''), FloatProgress(value=0.0, max=373.0), HTML(value='')))"
      ]
     },
     "metadata": {},
     "output_type": "display_data"
    },
    {
     "name": "stdout",
     "output_type": "stream",
     "text": [
      "\n"
     ]
    },
    {
     "data": {
      "application/vnd.jupyter.widget-view+json": {
       "model_id": "2884576d88da4afcb496d76630f72203",
       "version_major": 2,
       "version_minor": 0
      },
      "text/plain": [
       "HBox(children=(HTML(value=''), FloatProgress(value=0.0, max=295.0), HTML(value='')))"
      ]
     },
     "metadata": {},
     "output_type": "display_data"
    },
    {
     "name": "stdout",
     "output_type": "stream",
     "text": [
      "\n"
     ]
    },
    {
     "data": {
      "application/vnd.jupyter.widget-view+json": {
       "model_id": "2b8f6d9fe3a44be3a950bcd7c6abb5da",
       "version_major": 2,
       "version_minor": 0
      },
      "text/plain": [
       "HBox(children=(HTML(value=''), FloatProgress(value=0.0, max=312.0), HTML(value='')))"
      ]
     },
     "metadata": {},
     "output_type": "display_data"
    },
    {
     "name": "stdout",
     "output_type": "stream",
     "text": [
      "\n"
     ]
    },
    {
     "data": {
      "application/vnd.jupyter.widget-view+json": {
       "model_id": "8db2bb2b12de4fc1a3295bdc29e35a7d",
       "version_major": 2,
       "version_minor": 0
      },
      "text/plain": [
       "HBox(children=(HTML(value=''), FloatProgress(value=0.0, max=315.0), HTML(value='')))"
      ]
     },
     "metadata": {},
     "output_type": "display_data"
    },
    {
     "name": "stdout",
     "output_type": "stream",
     "text": [
      "\n"
     ]
    },
    {
     "data": {
      "application/vnd.jupyter.widget-view+json": {
       "model_id": "9007b292b8254b789525c3637148661e",
       "version_major": 2,
       "version_minor": 0
      },
      "text/plain": [
       "HBox(children=(HTML(value=''), FloatProgress(value=0.0, max=289.0), HTML(value='')))"
      ]
     },
     "metadata": {},
     "output_type": "display_data"
    },
    {
     "name": "stdout",
     "output_type": "stream",
     "text": [
      "\n"
     ]
    },
    {
     "data": {
      "application/vnd.jupyter.widget-view+json": {
       "model_id": "f72044d548064d088592aad9df0fdf29",
       "version_major": 2,
       "version_minor": 0
      },
      "text/plain": [
       "HBox(children=(HTML(value=''), FloatProgress(value=0.0, max=333.0), HTML(value='')))"
      ]
     },
     "metadata": {},
     "output_type": "display_data"
    },
    {
     "name": "stdout",
     "output_type": "stream",
     "text": [
      "\n"
     ]
    },
    {
     "data": {
      "application/vnd.jupyter.widget-view+json": {
       "model_id": "f9f76dbec69642798947d7ca422fee4c",
       "version_major": 2,
       "version_minor": 0
      },
      "text/plain": [
       "HBox(children=(HTML(value=''), FloatProgress(value=0.0, max=296.0), HTML(value='')))"
      ]
     },
     "metadata": {},
     "output_type": "display_data"
    },
    {
     "name": "stdout",
     "output_type": "stream",
     "text": [
      "\n"
     ]
    },
    {
     "data": {
      "application/vnd.jupyter.widget-view+json": {
       "model_id": "305c9b28755641e7a18972100fa48f55",
       "version_major": 2,
       "version_minor": 0
      },
      "text/plain": [
       "HBox(children=(HTML(value=''), FloatProgress(value=0.0, max=291.0), HTML(value='')))"
      ]
     },
     "metadata": {},
     "output_type": "display_data"
    },
    {
     "name": "stdout",
     "output_type": "stream",
     "text": [
      "\n"
     ]
    },
    {
     "data": {
      "application/vnd.jupyter.widget-view+json": {
       "model_id": "48efe8acf9c942a5b100d53f08e914ff",
       "version_major": 2,
       "version_minor": 0
      },
      "text/plain": [
       "HBox(children=(HTML(value=''), FloatProgress(value=0.0, max=351.0), HTML(value='')))"
      ]
     },
     "metadata": {},
     "output_type": "display_data"
    },
    {
     "name": "stdout",
     "output_type": "stream",
     "text": [
      "\n"
     ]
    },
    {
     "data": {
      "application/vnd.jupyter.widget-view+json": {
       "model_id": "f1b01f4bbd3e4bb99a9878a165c0e2f9",
       "version_major": 2,
       "version_minor": 0
      },
      "text/plain": [
       "HBox(children=(HTML(value=''), FloatProgress(value=0.0, max=342.0), HTML(value='')))"
      ]
     },
     "metadata": {},
     "output_type": "display_data"
    },
    {
     "name": "stdout",
     "output_type": "stream",
     "text": [
      "\n"
     ]
    },
    {
     "data": {
      "application/vnd.jupyter.widget-view+json": {
       "model_id": "1344c04c945447faa8f82a5148883529",
       "version_major": 2,
       "version_minor": 0
      },
      "text/plain": [
       "HBox(children=(HTML(value=''), FloatProgress(value=0.0, max=325.0), HTML(value='')))"
      ]
     },
     "metadata": {},
     "output_type": "display_data"
    },
    {
     "name": "stdout",
     "output_type": "stream",
     "text": [
      "\n"
     ]
    },
    {
     "data": {
      "application/vnd.jupyter.widget-view+json": {
       "model_id": "7da79b7c8b9b465c92dbba58f4eed32a",
       "version_major": 2,
       "version_minor": 0
      },
      "text/plain": [
       "HBox(children=(HTML(value=''), FloatProgress(value=0.0, max=347.0), HTML(value='')))"
      ]
     },
     "metadata": {},
     "output_type": "display_data"
    },
    {
     "name": "stdout",
     "output_type": "stream",
     "text": [
      "\n"
     ]
    },
    {
     "data": {
      "application/vnd.jupyter.widget-view+json": {
       "model_id": "0fe038d39f68483d8003fa1eff38baf5",
       "version_major": 2,
       "version_minor": 0
      },
      "text/plain": [
       "HBox(children=(HTML(value=''), FloatProgress(value=0.0, max=305.0), HTML(value='')))"
      ]
     },
     "metadata": {},
     "output_type": "display_data"
    },
    {
     "name": "stdout",
     "output_type": "stream",
     "text": [
      "\n"
     ]
    },
    {
     "data": {
      "application/vnd.jupyter.widget-view+json": {
       "model_id": "3e9e98818ccf456992ffcc1b677ca03a",
       "version_major": 2,
       "version_minor": 0
      },
      "text/plain": [
       "HBox(children=(HTML(value=''), FloatProgress(value=0.0, max=319.0), HTML(value='')))"
      ]
     },
     "metadata": {},
     "output_type": "display_data"
    },
    {
     "name": "stdout",
     "output_type": "stream",
     "text": [
      "\n"
     ]
    },
    {
     "data": {
      "application/vnd.jupyter.widget-view+json": {
       "model_id": "dc58ebccc89c418191cdfc9486de8ed0",
       "version_major": 2,
       "version_minor": 0
      },
      "text/plain": [
       "HBox(children=(HTML(value=''), FloatProgress(value=0.0, max=377.0), HTML(value='')))"
      ]
     },
     "metadata": {},
     "output_type": "display_data"
    },
    {
     "name": "stdout",
     "output_type": "stream",
     "text": [
      "\n"
     ]
    },
    {
     "data": {
      "application/vnd.jupyter.widget-view+json": {
       "model_id": "bcd36ee08b0c45779fef9694bfc99e2c",
       "version_major": 2,
       "version_minor": 0
      },
      "text/plain": [
       "HBox(children=(HTML(value=''), FloatProgress(value=0.0, max=371.0), HTML(value='')))"
      ]
     },
     "metadata": {},
     "output_type": "display_data"
    },
    {
     "name": "stdout",
     "output_type": "stream",
     "text": [
      "\n"
     ]
    },
    {
     "data": {
      "application/vnd.jupyter.widget-view+json": {
       "model_id": "ef49583ad0914e669cd2f1cac67fb85a",
       "version_major": 2,
       "version_minor": 0
      },
      "text/plain": [
       "HBox(children=(HTML(value=''), FloatProgress(value=0.0, max=285.0), HTML(value='')))"
      ]
     },
     "metadata": {},
     "output_type": "display_data"
    },
    {
     "name": "stdout",
     "output_type": "stream",
     "text": [
      "\n"
     ]
    },
    {
     "data": {
      "application/vnd.jupyter.widget-view+json": {
       "model_id": "f79f43f7a2ae4ef68177f96ca8016389",
       "version_major": 2,
       "version_minor": 0
      },
      "text/plain": [
       "HBox(children=(HTML(value=''), FloatProgress(value=0.0, max=338.0), HTML(value='')))"
      ]
     },
     "metadata": {},
     "output_type": "display_data"
    },
    {
     "name": "stdout",
     "output_type": "stream",
     "text": [
      "\n"
     ]
    },
    {
     "data": {
      "application/vnd.jupyter.widget-view+json": {
       "model_id": "b026d912b95c434cba71e5d1bd0ca684",
       "version_major": 2,
       "version_minor": 0
      },
      "text/plain": [
       "HBox(children=(HTML(value=''), FloatProgress(value=0.0, max=311.0), HTML(value='')))"
      ]
     },
     "metadata": {},
     "output_type": "display_data"
    },
    {
     "name": "stdout",
     "output_type": "stream",
     "text": [
      "\n"
     ]
    },
    {
     "data": {
      "application/vnd.jupyter.widget-view+json": {
       "model_id": "ecf070f2c4f643e2a977d7f838f2b408",
       "version_major": 2,
       "version_minor": 0
      },
      "text/plain": [
       "HBox(children=(HTML(value=''), FloatProgress(value=0.0, max=263.0), HTML(value='')))"
      ]
     },
     "metadata": {},
     "output_type": "display_data"
    },
    {
     "name": "stdout",
     "output_type": "stream",
     "text": [
      "\n"
     ]
    },
    {
     "data": {
      "application/vnd.jupyter.widget-view+json": {
       "model_id": "2f17e38d67d44c699793b71ba93dfa06",
       "version_major": 2,
       "version_minor": 0
      },
      "text/plain": [
       "HBox(children=(HTML(value=''), FloatProgress(value=0.0, max=307.0), HTML(value='')))"
      ]
     },
     "metadata": {},
     "output_type": "display_data"
    },
    {
     "name": "stdout",
     "output_type": "stream",
     "text": [
      "\n"
     ]
    },
    {
     "data": {
      "application/vnd.jupyter.widget-view+json": {
       "model_id": "ed876b1facdc478eb84e331f65150dfc",
       "version_major": 2,
       "version_minor": 0
      },
      "text/plain": [
       "HBox(children=(HTML(value=''), FloatProgress(value=0.0, max=300.0), HTML(value='')))"
      ]
     },
     "metadata": {},
     "output_type": "display_data"
    },
    {
     "name": "stdout",
     "output_type": "stream",
     "text": [
      "\n"
     ]
    },
    {
     "data": {
      "application/vnd.jupyter.widget-view+json": {
       "model_id": "a9bf775375f14133bf3652da76c27790",
       "version_major": 2,
       "version_minor": 0
      },
      "text/plain": [
       "HBox(children=(HTML(value=''), FloatProgress(value=0.0, max=281.0), HTML(value='')))"
      ]
     },
     "metadata": {},
     "output_type": "display_data"
    },
    {
     "name": "stdout",
     "output_type": "stream",
     "text": [
      "\n"
     ]
    },
    {
     "data": {
      "application/vnd.jupyter.widget-view+json": {
       "model_id": "77f9d6972d034b65a0fff1af97a1e70e",
       "version_major": 2,
       "version_minor": 0
      },
      "text/plain": [
       "HBox(children=(HTML(value=''), FloatProgress(value=0.0, max=311.0), HTML(value='')))"
      ]
     },
     "metadata": {},
     "output_type": "display_data"
    },
    {
     "name": "stdout",
     "output_type": "stream",
     "text": [
      "\n"
     ]
    },
    {
     "data": {
      "application/vnd.jupyter.widget-view+json": {
       "model_id": "861d5c721c344489afeb7eb7f7b7c29e",
       "version_major": 2,
       "version_minor": 0
      },
      "text/plain": [
       "HBox(children=(HTML(value=''), FloatProgress(value=0.0, max=342.0), HTML(value='')))"
      ]
     },
     "metadata": {},
     "output_type": "display_data"
    },
    {
     "name": "stdout",
     "output_type": "stream",
     "text": [
      "\n"
     ]
    },
    {
     "data": {
      "application/vnd.jupyter.widget-view+json": {
       "model_id": "30ddfec8a2604478bec72b79275cbf05",
       "version_major": 2,
       "version_minor": 0
      },
      "text/plain": [
       "HBox(children=(HTML(value=''), FloatProgress(value=0.0, max=326.0), HTML(value='')))"
      ]
     },
     "metadata": {},
     "output_type": "display_data"
    },
    {
     "name": "stdout",
     "output_type": "stream",
     "text": [
      "\n"
     ]
    },
    {
     "data": {
      "application/vnd.jupyter.widget-view+json": {
       "model_id": "0509828eb128454f8d9797169148a32d",
       "version_major": 2,
       "version_minor": 0
      },
      "text/plain": [
       "HBox(children=(HTML(value=''), FloatProgress(value=0.0, max=367.0), HTML(value='')))"
      ]
     },
     "metadata": {},
     "output_type": "display_data"
    },
    {
     "name": "stdout",
     "output_type": "stream",
     "text": [
      "\n"
     ]
    },
    {
     "data": {
      "application/vnd.jupyter.widget-view+json": {
       "model_id": "c289b78cd1be4e83a0112cdda2ba1227",
       "version_major": 2,
       "version_minor": 0
      },
      "text/plain": [
       "HBox(children=(HTML(value=''), FloatProgress(value=0.0, max=305.0), HTML(value='')))"
      ]
     },
     "metadata": {},
     "output_type": "display_data"
    },
    {
     "name": "stdout",
     "output_type": "stream",
     "text": [
      "\n"
     ]
    },
    {
     "data": {
      "application/vnd.jupyter.widget-view+json": {
       "model_id": "c3635a661f29465488948ba1a68d8c2a",
       "version_major": 2,
       "version_minor": 0
      },
      "text/plain": [
       "HBox(children=(HTML(value=''), FloatProgress(value=0.0, max=311.0), HTML(value='')))"
      ]
     },
     "metadata": {},
     "output_type": "display_data"
    },
    {
     "name": "stdout",
     "output_type": "stream",
     "text": [
      "\n"
     ]
    },
    {
     "data": {
      "application/vnd.jupyter.widget-view+json": {
       "model_id": "53f6a35963364d20b317fb4293ac4075",
       "version_major": 2,
       "version_minor": 0
      },
      "text/plain": [
       "HBox(children=(HTML(value=''), FloatProgress(value=0.0, max=270.0), HTML(value='')))"
      ]
     },
     "metadata": {},
     "output_type": "display_data"
    },
    {
     "name": "stdout",
     "output_type": "stream",
     "text": [
      "\n"
     ]
    },
    {
     "data": {
      "application/vnd.jupyter.widget-view+json": {
       "model_id": "8f5008711ba74f278935af62c4a61a12",
       "version_major": 2,
       "version_minor": 0
      },
      "text/plain": [
       "HBox(children=(HTML(value=''), FloatProgress(value=0.0, max=344.0), HTML(value='')))"
      ]
     },
     "metadata": {},
     "output_type": "display_data"
    },
    {
     "name": "stdout",
     "output_type": "stream",
     "text": [
      "\n"
     ]
    },
    {
     "data": {
      "application/vnd.jupyter.widget-view+json": {
       "model_id": "daae17590c2b486b9d41431fdb4d2092",
       "version_major": 2,
       "version_minor": 0
      },
      "text/plain": [
       "HBox(children=(HTML(value=''), FloatProgress(value=0.0, max=342.0), HTML(value='')))"
      ]
     },
     "metadata": {},
     "output_type": "display_data"
    },
    {
     "name": "stdout",
     "output_type": "stream",
     "text": [
      "\n"
     ]
    },
    {
     "data": {
      "application/vnd.jupyter.widget-view+json": {
       "model_id": "f613f915298448cd891ec25a3f2ab945",
       "version_major": 2,
       "version_minor": 0
      },
      "text/plain": [
       "HBox(children=(HTML(value=''), FloatProgress(value=0.0, max=309.0), HTML(value='')))"
      ]
     },
     "metadata": {},
     "output_type": "display_data"
    },
    {
     "name": "stdout",
     "output_type": "stream",
     "text": [
      "\n"
     ]
    },
    {
     "data": {
      "application/vnd.jupyter.widget-view+json": {
       "model_id": "90990f8dff4944888b01c9eb562b461a",
       "version_major": 2,
       "version_minor": 0
      },
      "text/plain": [
       "HBox(children=(HTML(value=''), FloatProgress(value=0.0, max=309.0), HTML(value='')))"
      ]
     },
     "metadata": {},
     "output_type": "display_data"
    },
    {
     "name": "stdout",
     "output_type": "stream",
     "text": [
      "\n"
     ]
    },
    {
     "data": {
      "application/vnd.jupyter.widget-view+json": {
       "model_id": "b0409b8988bb4dc981d76c140903670c",
       "version_major": 2,
       "version_minor": 0
      },
      "text/plain": [
       "HBox(children=(HTML(value=''), FloatProgress(value=0.0, max=333.0), HTML(value='')))"
      ]
     },
     "metadata": {},
     "output_type": "display_data"
    },
    {
     "name": "stdout",
     "output_type": "stream",
     "text": [
      "\n"
     ]
    },
    {
     "data": {
      "application/vnd.jupyter.widget-view+json": {
       "model_id": "c7beee82a5524aa49c28dec4ac03b5f4",
       "version_major": 2,
       "version_minor": 0
      },
      "text/plain": [
       "HBox(children=(HTML(value=''), FloatProgress(value=0.0, max=337.0), HTML(value='')))"
      ]
     },
     "metadata": {},
     "output_type": "display_data"
    },
    {
     "name": "stdout",
     "output_type": "stream",
     "text": [
      "\n"
     ]
    },
    {
     "data": {
      "application/vnd.jupyter.widget-view+json": {
       "model_id": "0af6f05c4d1a4f0b8ef49cdf531ac567",
       "version_major": 2,
       "version_minor": 0
      },
      "text/plain": [
       "HBox(children=(HTML(value=''), FloatProgress(value=0.0, max=295.0), HTML(value='')))"
      ]
     },
     "metadata": {},
     "output_type": "display_data"
    },
    {
     "name": "stdout",
     "output_type": "stream",
     "text": [
      "\n"
     ]
    },
    {
     "data": {
      "application/vnd.jupyter.widget-view+json": {
       "model_id": "7cb2809132d54d67a6801e997761fc2f",
       "version_major": 2,
       "version_minor": 0
      },
      "text/plain": [
       "HBox(children=(HTML(value=''), FloatProgress(value=0.0, max=262.0), HTML(value='')))"
      ]
     },
     "metadata": {},
     "output_type": "display_data"
    },
    {
     "name": "stdout",
     "output_type": "stream",
     "text": [
      "\n"
     ]
    },
    {
     "data": {
      "application/vnd.jupyter.widget-view+json": {
       "model_id": "ae4ab1cdca6f4c22845c7a44d3f5e24c",
       "version_major": 2,
       "version_minor": 0
      },
      "text/plain": [
       "HBox(children=(HTML(value=''), FloatProgress(value=0.0, max=322.0), HTML(value='')))"
      ]
     },
     "metadata": {},
     "output_type": "display_data"
    },
    {
     "name": "stdout",
     "output_type": "stream",
     "text": [
      "\n"
     ]
    },
    {
     "data": {
      "application/vnd.jupyter.widget-view+json": {
       "model_id": "6206e079b35c4b87bf63a3a99c7cde4c",
       "version_major": 2,
       "version_minor": 0
      },
      "text/plain": [
       "HBox(children=(HTML(value=''), FloatProgress(value=0.0, max=305.0), HTML(value='')))"
      ]
     },
     "metadata": {},
     "output_type": "display_data"
    },
    {
     "name": "stdout",
     "output_type": "stream",
     "text": [
      "\n"
     ]
    },
    {
     "data": {
      "application/vnd.jupyter.widget-view+json": {
       "model_id": "c9c5c0135e53468da0843d4541887193",
       "version_major": 2,
       "version_minor": 0
      },
      "text/plain": [
       "HBox(children=(HTML(value=''), FloatProgress(value=0.0, max=306.0), HTML(value='')))"
      ]
     },
     "metadata": {},
     "output_type": "display_data"
    },
    {
     "name": "stdout",
     "output_type": "stream",
     "text": [
      "\n"
     ]
    },
    {
     "data": {
      "application/vnd.jupyter.widget-view+json": {
       "model_id": "5c9ccff53ced4a7ca04007ee0b6c0d47",
       "version_major": 2,
       "version_minor": 0
      },
      "text/plain": [
       "HBox(children=(HTML(value=''), FloatProgress(value=0.0, max=342.0), HTML(value='')))"
      ]
     },
     "metadata": {},
     "output_type": "display_data"
    },
    {
     "name": "stdout",
     "output_type": "stream",
     "text": [
      "\n"
     ]
    },
    {
     "data": {
      "application/vnd.jupyter.widget-view+json": {
       "model_id": "4433fc83e09d4882bb2aab7ada2980aa",
       "version_major": 2,
       "version_minor": 0
      },
      "text/plain": [
       "HBox(children=(HTML(value=''), FloatProgress(value=0.0, max=329.0), HTML(value='')))"
      ]
     },
     "metadata": {},
     "output_type": "display_data"
    },
    {
     "name": "stdout",
     "output_type": "stream",
     "text": [
      "\n"
     ]
    },
    {
     "data": {
      "application/vnd.jupyter.widget-view+json": {
       "model_id": "5c5f293b06824d1491ac577ffb215dca",
       "version_major": 2,
       "version_minor": 0
      },
      "text/plain": [
       "HBox(children=(HTML(value=''), FloatProgress(value=0.0, max=342.0), HTML(value='')))"
      ]
     },
     "metadata": {},
     "output_type": "display_data"
    },
    {
     "name": "stdout",
     "output_type": "stream",
     "text": [
      "\n"
     ]
    },
    {
     "data": {
      "application/vnd.jupyter.widget-view+json": {
       "model_id": "a544835a45874a9cb65dae1511f315bc",
       "version_major": 2,
       "version_minor": 0
      },
      "text/plain": [
       "HBox(children=(HTML(value=''), FloatProgress(value=0.0, max=294.0), HTML(value='')))"
      ]
     },
     "metadata": {},
     "output_type": "display_data"
    },
    {
     "name": "stdout",
     "output_type": "stream",
     "text": [
      "\n"
     ]
    },
    {
     "data": {
      "application/vnd.jupyter.widget-view+json": {
       "model_id": "98859763d7a9443ab4f83cb3e222b3d7",
       "version_major": 2,
       "version_minor": 0
      },
      "text/plain": [
       "HBox(children=(HTML(value=''), FloatProgress(value=0.0, max=369.0), HTML(value='')))"
      ]
     },
     "metadata": {},
     "output_type": "display_data"
    },
    {
     "name": "stdout",
     "output_type": "stream",
     "text": [
      "\n"
     ]
    },
    {
     "data": {
      "application/vnd.jupyter.widget-view+json": {
       "model_id": "ded05b9cb32c4032bc246cca4efafa05",
       "version_major": 2,
       "version_minor": 0
      },
      "text/plain": [
       "HBox(children=(HTML(value=''), FloatProgress(value=0.0, max=288.0), HTML(value='')))"
      ]
     },
     "metadata": {},
     "output_type": "display_data"
    },
    {
     "name": "stdout",
     "output_type": "stream",
     "text": [
      "\n"
     ]
    },
    {
     "data": {
      "application/vnd.jupyter.widget-view+json": {
       "model_id": "806e56165a934c29ab7b4fcf720ce299",
       "version_major": 2,
       "version_minor": 0
      },
      "text/plain": [
       "HBox(children=(HTML(value=''), FloatProgress(value=0.0, max=301.0), HTML(value='')))"
      ]
     },
     "metadata": {},
     "output_type": "display_data"
    },
    {
     "name": "stdout",
     "output_type": "stream",
     "text": [
      "\n"
     ]
    },
    {
     "data": {
      "application/vnd.jupyter.widget-view+json": {
       "model_id": "a7d224bead4f4dfeab968d0baef9465f",
       "version_major": 2,
       "version_minor": 0
      },
      "text/plain": [
       "HBox(children=(HTML(value=''), FloatProgress(value=0.0, max=282.0), HTML(value='')))"
      ]
     },
     "metadata": {},
     "output_type": "display_data"
    },
    {
     "name": "stdout",
     "output_type": "stream",
     "text": [
      "\n"
     ]
    },
    {
     "data": {
      "application/vnd.jupyter.widget-view+json": {
       "model_id": "11cd42bf10754ec5b63c30553202b25d",
       "version_major": 2,
       "version_minor": 0
      },
      "text/plain": [
       "HBox(children=(HTML(value=''), FloatProgress(value=0.0, max=328.0), HTML(value='')))"
      ]
     },
     "metadata": {},
     "output_type": "display_data"
    },
    {
     "name": "stdout",
     "output_type": "stream",
     "text": [
      "\n"
     ]
    },
    {
     "data": {
      "application/vnd.jupyter.widget-view+json": {
       "model_id": "330faea9a9484feeb45cffa19b6a6a2a",
       "version_major": 2,
       "version_minor": 0
      },
      "text/plain": [
       "HBox(children=(HTML(value=''), FloatProgress(value=0.0, max=329.0), HTML(value='')))"
      ]
     },
     "metadata": {},
     "output_type": "display_data"
    },
    {
     "name": "stdout",
     "output_type": "stream",
     "text": [
      "\n"
     ]
    },
    {
     "data": {
      "application/vnd.jupyter.widget-view+json": {
       "model_id": "b544039d365942418423ef788c2ae64e",
       "version_major": 2,
       "version_minor": 0
      },
      "text/plain": [
       "HBox(children=(HTML(value=''), FloatProgress(value=0.0, max=342.0), HTML(value='')))"
      ]
     },
     "metadata": {},
     "output_type": "display_data"
    },
    {
     "name": "stdout",
     "output_type": "stream",
     "text": [
      "\n"
     ]
    },
    {
     "data": {
      "application/vnd.jupyter.widget-view+json": {
       "model_id": "6752efcf04b94d75aed312b0b5f5a6b4",
       "version_major": 2,
       "version_minor": 0
      },
      "text/plain": [
       "HBox(children=(HTML(value=''), FloatProgress(value=0.0, max=289.0), HTML(value='')))"
      ]
     },
     "metadata": {},
     "output_type": "display_data"
    },
    {
     "name": "stdout",
     "output_type": "stream",
     "text": [
      "\n"
     ]
    },
    {
     "data": {
      "application/vnd.jupyter.widget-view+json": {
       "model_id": "aa6a071cb2f84b778de9bf6ac61110a9",
       "version_major": 2,
       "version_minor": 0
      },
      "text/plain": [
       "HBox(children=(HTML(value=''), FloatProgress(value=0.0, max=314.0), HTML(value='')))"
      ]
     },
     "metadata": {},
     "output_type": "display_data"
    },
    {
     "name": "stdout",
     "output_type": "stream",
     "text": [
      "\n"
     ]
    },
    {
     "data": {
      "application/vnd.jupyter.widget-view+json": {
       "model_id": "a50dccf850e947fea88cd4ee8bf0b05a",
       "version_major": 2,
       "version_minor": 0
      },
      "text/plain": [
       "HBox(children=(HTML(value=''), FloatProgress(value=0.0, max=340.0), HTML(value='')))"
      ]
     },
     "metadata": {},
     "output_type": "display_data"
    },
    {
     "name": "stdout",
     "output_type": "stream",
     "text": [
      "\n"
     ]
    },
    {
     "data": {
      "application/vnd.jupyter.widget-view+json": {
       "model_id": "c09a14ed618947568f37712bf2e44ba8",
       "version_major": 2,
       "version_minor": 0
      },
      "text/plain": [
       "HBox(children=(HTML(value=''), FloatProgress(value=0.0, max=341.0), HTML(value='')))"
      ]
     },
     "metadata": {},
     "output_type": "display_data"
    },
    {
     "name": "stdout",
     "output_type": "stream",
     "text": [
      "\n"
     ]
    },
    {
     "data": {
      "application/vnd.jupyter.widget-view+json": {
       "model_id": "4bcf2e0a8cc74fffb0172b5ccdaa8d1b",
       "version_major": 2,
       "version_minor": 0
      },
      "text/plain": [
       "HBox(children=(HTML(value=''), FloatProgress(value=0.0, max=343.0), HTML(value='')))"
      ]
     },
     "metadata": {},
     "output_type": "display_data"
    },
    {
     "name": "stdout",
     "output_type": "stream",
     "text": [
      "\n"
     ]
    },
    {
     "data": {
      "application/vnd.jupyter.widget-view+json": {
       "model_id": "4bb9c94de6924bbcb5e81e4d5e2c1ccb",
       "version_major": 2,
       "version_minor": 0
      },
      "text/plain": [
       "HBox(children=(HTML(value=''), FloatProgress(value=0.0, max=281.0), HTML(value='')))"
      ]
     },
     "metadata": {},
     "output_type": "display_data"
    },
    {
     "name": "stdout",
     "output_type": "stream",
     "text": [
      "\n"
     ]
    },
    {
     "data": {
      "application/vnd.jupyter.widget-view+json": {
       "model_id": "713e7ace3c164f6b8f2cc74268dc1568",
       "version_major": 2,
       "version_minor": 0
      },
      "text/plain": [
       "HBox(children=(HTML(value=''), FloatProgress(value=0.0, max=299.0), HTML(value='')))"
      ]
     },
     "metadata": {},
     "output_type": "display_data"
    },
    {
     "name": "stdout",
     "output_type": "stream",
     "text": [
      "\n"
     ]
    },
    {
     "data": {
      "application/vnd.jupyter.widget-view+json": {
       "model_id": "8c7fb10a50a6430ea3dc8913ea84a657",
       "version_major": 2,
       "version_minor": 0
      },
      "text/plain": [
       "HBox(children=(HTML(value=''), FloatProgress(value=0.0, max=288.0), HTML(value='')))"
      ]
     },
     "metadata": {},
     "output_type": "display_data"
    },
    {
     "name": "stdout",
     "output_type": "stream",
     "text": [
      "\n"
     ]
    },
    {
     "data": {
      "application/vnd.jupyter.widget-view+json": {
       "model_id": "3f400965f27f444384f367004b8245bb",
       "version_major": 2,
       "version_minor": 0
      },
      "text/plain": [
       "HBox(children=(HTML(value=''), FloatProgress(value=0.0, max=360.0), HTML(value='')))"
      ]
     },
     "metadata": {},
     "output_type": "display_data"
    },
    {
     "name": "stdout",
     "output_type": "stream",
     "text": [
      "\n"
     ]
    },
    {
     "data": {
      "application/vnd.jupyter.widget-view+json": {
       "model_id": "a0e81a31dc104d50b2dcf1d7f4941fa4",
       "version_major": 2,
       "version_minor": 0
      },
      "text/plain": [
       "HBox(children=(HTML(value=''), FloatProgress(value=0.0, max=285.0), HTML(value='')))"
      ]
     },
     "metadata": {},
     "output_type": "display_data"
    },
    {
     "name": "stdout",
     "output_type": "stream",
     "text": [
      "\n"
     ]
    },
    {
     "data": {
      "application/vnd.jupyter.widget-view+json": {
       "model_id": "bf65e722c942432da43aa5d382986e17",
       "version_major": 2,
       "version_minor": 0
      },
      "text/plain": [
       "HBox(children=(HTML(value=''), FloatProgress(value=0.0, max=288.0), HTML(value='')))"
      ]
     },
     "metadata": {},
     "output_type": "display_data"
    },
    {
     "name": "stdout",
     "output_type": "stream",
     "text": [
      "\n"
     ]
    },
    {
     "data": {
      "application/vnd.jupyter.widget-view+json": {
       "model_id": "be3166f9f851465ea5aff1296dc4921f",
       "version_major": 2,
       "version_minor": 0
      },
      "text/plain": [
       "HBox(children=(HTML(value=''), FloatProgress(value=0.0, max=307.0), HTML(value='')))"
      ]
     },
     "metadata": {},
     "output_type": "display_data"
    },
    {
     "name": "stdout",
     "output_type": "stream",
     "text": [
      "\n"
     ]
    },
    {
     "data": {
      "application/vnd.jupyter.widget-view+json": {
       "model_id": "1c4958baf7ee4d55bce2dc566d8f2f90",
       "version_major": 2,
       "version_minor": 0
      },
      "text/plain": [
       "HBox(children=(HTML(value=''), FloatProgress(value=0.0, max=355.0), HTML(value='')))"
      ]
     },
     "metadata": {},
     "output_type": "display_data"
    },
    {
     "name": "stdout",
     "output_type": "stream",
     "text": [
      "\n"
     ]
    },
    {
     "data": {
      "application/vnd.jupyter.widget-view+json": {
       "model_id": "2279196c3fcf44f194da1cc4a2dde11e",
       "version_major": 2,
       "version_minor": 0
      },
      "text/plain": [
       "HBox(children=(HTML(value=''), FloatProgress(value=0.0, max=288.0), HTML(value='')))"
      ]
     },
     "metadata": {},
     "output_type": "display_data"
    },
    {
     "name": "stdout",
     "output_type": "stream",
     "text": [
      "\n"
     ]
    },
    {
     "data": {
      "application/vnd.jupyter.widget-view+json": {
       "model_id": "5335a22a110e424b98666a9c994d312a",
       "version_major": 2,
       "version_minor": 0
      },
      "text/plain": [
       "HBox(children=(HTML(value=''), FloatProgress(value=0.0, max=311.0), HTML(value='')))"
      ]
     },
     "metadata": {},
     "output_type": "display_data"
    },
    {
     "name": "stdout",
     "output_type": "stream",
     "text": [
      "\n"
     ]
    },
    {
     "data": {
      "application/vnd.jupyter.widget-view+json": {
       "model_id": "870be99eec8c4de7895ef62b366bc249",
       "version_major": 2,
       "version_minor": 0
      },
      "text/plain": [
       "HBox(children=(HTML(value=''), FloatProgress(value=0.0, max=279.0), HTML(value='')))"
      ]
     },
     "metadata": {},
     "output_type": "display_data"
    },
    {
     "name": "stdout",
     "output_type": "stream",
     "text": [
      "\n"
     ]
    },
    {
     "data": {
      "application/vnd.jupyter.widget-view+json": {
       "model_id": "91cf2e4ef528408fba2e8f1e25071a60",
       "version_major": 2,
       "version_minor": 0
      },
      "text/plain": [
       "HBox(children=(HTML(value=''), FloatProgress(value=0.0, max=304.0), HTML(value='')))"
      ]
     },
     "metadata": {},
     "output_type": "display_data"
    },
    {
     "name": "stdout",
     "output_type": "stream",
     "text": [
      "\n"
     ]
    },
    {
     "data": {
      "application/vnd.jupyter.widget-view+json": {
       "model_id": "d68d38a30d2240b8b6203296cd8227b9",
       "version_major": 2,
       "version_minor": 0
      },
      "text/plain": [
       "HBox(children=(HTML(value=''), FloatProgress(value=0.0, max=223.0), HTML(value='')))"
      ]
     },
     "metadata": {},
     "output_type": "display_data"
    },
    {
     "name": "stdout",
     "output_type": "stream",
     "text": [
      "\n"
     ]
    },
    {
     "data": {
      "application/vnd.jupyter.widget-view+json": {
       "model_id": "bfabc4805ee54818994d151c31616d52",
       "version_major": 2,
       "version_minor": 0
      },
      "text/plain": [
       "HBox(children=(HTML(value=''), FloatProgress(value=0.0, max=285.0), HTML(value='')))"
      ]
     },
     "metadata": {},
     "output_type": "display_data"
    },
    {
     "name": "stdout",
     "output_type": "stream",
     "text": [
      "\n"
     ]
    },
    {
     "data": {
      "application/vnd.jupyter.widget-view+json": {
       "model_id": "519c78a207924a38bac5a49e8b53ab6d",
       "version_major": 2,
       "version_minor": 0
      },
      "text/plain": [
       "HBox(children=(HTML(value=''), FloatProgress(value=0.0, max=305.0), HTML(value='')))"
      ]
     },
     "metadata": {},
     "output_type": "display_data"
    },
    {
     "name": "stdout",
     "output_type": "stream",
     "text": [
      "\n"
     ]
    },
    {
     "data": {
      "application/vnd.jupyter.widget-view+json": {
       "model_id": "1f08f1f672a34bae8245bb7dfbf10344",
       "version_major": 2,
       "version_minor": 0
      },
      "text/plain": [
       "HBox(children=(HTML(value=''), FloatProgress(value=0.0, max=245.0), HTML(value='')))"
      ]
     },
     "metadata": {},
     "output_type": "display_data"
    },
    {
     "name": "stdout",
     "output_type": "stream",
     "text": [
      "\n"
     ]
    },
    {
     "data": {
      "application/vnd.jupyter.widget-view+json": {
       "model_id": "593c3ce324ba4bbba552fc3bf87edc30",
       "version_major": 2,
       "version_minor": 0
      },
      "text/plain": [
       "HBox(children=(HTML(value=''), FloatProgress(value=0.0, max=354.0), HTML(value='')))"
      ]
     },
     "metadata": {},
     "output_type": "display_data"
    },
    {
     "name": "stdout",
     "output_type": "stream",
     "text": [
      "\n"
     ]
    },
    {
     "data": {
      "application/vnd.jupyter.widget-view+json": {
       "model_id": "032a0cad2c8c4f49b31b3ae678802321",
       "version_major": 2,
       "version_minor": 0
      },
      "text/plain": [
       "HBox(children=(HTML(value=''), FloatProgress(value=0.0, max=285.0), HTML(value='')))"
      ]
     },
     "metadata": {},
     "output_type": "display_data"
    },
    {
     "name": "stdout",
     "output_type": "stream",
     "text": [
      "\n"
     ]
    },
    {
     "data": {
      "application/vnd.jupyter.widget-view+json": {
       "model_id": "b7f95d2a62eb48098be8a7dc92db9d18",
       "version_major": 2,
       "version_minor": 0
      },
      "text/plain": [
       "HBox(children=(HTML(value=''), FloatProgress(value=0.0, max=320.0), HTML(value='')))"
      ]
     },
     "metadata": {},
     "output_type": "display_data"
    },
    {
     "name": "stdout",
     "output_type": "stream",
     "text": [
      "\n"
     ]
    },
    {
     "data": {
      "application/vnd.jupyter.widget-view+json": {
       "model_id": "b9fde33cb8594fdaa41ab2d8af406e01",
       "version_major": 2,
       "version_minor": 0
      },
      "text/plain": [
       "HBox(children=(HTML(value=''), FloatProgress(value=0.0, max=259.0), HTML(value='')))"
      ]
     },
     "metadata": {},
     "output_type": "display_data"
    },
    {
     "name": "stdout",
     "output_type": "stream",
     "text": [
      "\n"
     ]
    },
    {
     "data": {
      "application/vnd.jupyter.widget-view+json": {
       "model_id": "8b182a6d36934385ad9f38b99f4d2b02",
       "version_major": 2,
       "version_minor": 0
      },
      "text/plain": [
       "HBox(children=(HTML(value=''), FloatProgress(value=0.0, max=349.0), HTML(value='')))"
      ]
     },
     "metadata": {},
     "output_type": "display_data"
    },
    {
     "name": "stdout",
     "output_type": "stream",
     "text": [
      "\n"
     ]
    },
    {
     "data": {
      "application/vnd.jupyter.widget-view+json": {
       "model_id": "3de56d19b0ad4b728e0e16ffe4794b59",
       "version_major": 2,
       "version_minor": 0
      },
      "text/plain": [
       "HBox(children=(HTML(value=''), FloatProgress(value=0.0, max=320.0), HTML(value='')))"
      ]
     },
     "metadata": {},
     "output_type": "display_data"
    },
    {
     "name": "stdout",
     "output_type": "stream",
     "text": [
      "\n"
     ]
    },
    {
     "data": {
      "application/vnd.jupyter.widget-view+json": {
       "model_id": "31259246b9d84283a02556fc49c4dd75",
       "version_major": 2,
       "version_minor": 0
      },
      "text/plain": [
       "HBox(children=(HTML(value=''), FloatProgress(value=0.0, max=329.0), HTML(value='')))"
      ]
     },
     "metadata": {},
     "output_type": "display_data"
    },
    {
     "name": "stdout",
     "output_type": "stream",
     "text": [
      "\n"
     ]
    },
    {
     "data": {
      "application/vnd.jupyter.widget-view+json": {
       "model_id": "47bdb213587f47fe9a06cfa8fe6077cb",
       "version_major": 2,
       "version_minor": 0
      },
      "text/plain": [
       "HBox(children=(HTML(value=''), FloatProgress(value=0.0, max=278.0), HTML(value='')))"
      ]
     },
     "metadata": {},
     "output_type": "display_data"
    },
    {
     "name": "stdout",
     "output_type": "stream",
     "text": [
      "\n"
     ]
    },
    {
     "data": {
      "application/vnd.jupyter.widget-view+json": {
       "model_id": "ca346c41488e49e1bd090f4905b5c37d",
       "version_major": 2,
       "version_minor": 0
      },
      "text/plain": [
       "HBox(children=(HTML(value=''), FloatProgress(value=0.0, max=279.0), HTML(value='')))"
      ]
     },
     "metadata": {},
     "output_type": "display_data"
    },
    {
     "name": "stdout",
     "output_type": "stream",
     "text": [
      "\n"
     ]
    },
    {
     "data": {
      "application/vnd.jupyter.widget-view+json": {
       "model_id": "8224961e9df94a3ea5ddfa8a7954a774",
       "version_major": 2,
       "version_minor": 0
      },
      "text/plain": [
       "HBox(children=(HTML(value=''), FloatProgress(value=0.0, max=368.0), HTML(value='')))"
      ]
     },
     "metadata": {},
     "output_type": "display_data"
    },
    {
     "name": "stdout",
     "output_type": "stream",
     "text": [
      "\n"
     ]
    },
    {
     "data": {
      "application/vnd.jupyter.widget-view+json": {
       "model_id": "9dd66427a45644aa82d560f3ec6a6e61",
       "version_major": 2,
       "version_minor": 0
      },
      "text/plain": [
       "HBox(children=(HTML(value=''), FloatProgress(value=0.0, max=313.0), HTML(value='')))"
      ]
     },
     "metadata": {},
     "output_type": "display_data"
    },
    {
     "name": "stdout",
     "output_type": "stream",
     "text": [
      "\n"
     ]
    },
    {
     "data": {
      "application/vnd.jupyter.widget-view+json": {
       "model_id": "6f61accd45c44d1c82ff1dab7094ec18",
       "version_major": 2,
       "version_minor": 0
      },
      "text/plain": [
       "HBox(children=(HTML(value=''), FloatProgress(value=0.0, max=322.0), HTML(value='')))"
      ]
     },
     "metadata": {},
     "output_type": "display_data"
    },
    {
     "name": "stdout",
     "output_type": "stream",
     "text": [
      "\n"
     ]
    },
    {
     "data": {
      "application/vnd.jupyter.widget-view+json": {
       "model_id": "677ff1032aac434dbca8f096411e9cb6",
       "version_major": 2,
       "version_minor": 0
      },
      "text/plain": [
       "HBox(children=(HTML(value=''), FloatProgress(value=0.0, max=328.0), HTML(value='')))"
      ]
     },
     "metadata": {},
     "output_type": "display_data"
    },
    {
     "name": "stdout",
     "output_type": "stream",
     "text": [
      "\n"
     ]
    },
    {
     "data": {
      "application/vnd.jupyter.widget-view+json": {
       "model_id": "eb029f61ffd24d848457641c4224ead1",
       "version_major": 2,
       "version_minor": 0
      },
      "text/plain": [
       "HBox(children=(HTML(value=''), FloatProgress(value=0.0, max=298.0), HTML(value='')))"
      ]
     },
     "metadata": {},
     "output_type": "display_data"
    },
    {
     "name": "stdout",
     "output_type": "stream",
     "text": [
      "\n"
     ]
    },
    {
     "data": {
      "application/vnd.jupyter.widget-view+json": {
       "model_id": "8013d21a29a849f09396cd1fb099ff00",
       "version_major": 2,
       "version_minor": 0
      },
      "text/plain": [
       "HBox(children=(HTML(value=''), FloatProgress(value=0.0, max=288.0), HTML(value='')))"
      ]
     },
     "metadata": {},
     "output_type": "display_data"
    },
    {
     "name": "stdout",
     "output_type": "stream",
     "text": [
      "\n"
     ]
    },
    {
     "data": {
      "application/vnd.jupyter.widget-view+json": {
       "model_id": "2e4229a601204bcab5960784b5067807",
       "version_major": 2,
       "version_minor": 0
      },
      "text/plain": [
       "HBox(children=(HTML(value=''), FloatProgress(value=0.0, max=337.0), HTML(value='')))"
      ]
     },
     "metadata": {},
     "output_type": "display_data"
    },
    {
     "name": "stdout",
     "output_type": "stream",
     "text": [
      "\n"
     ]
    },
    {
     "data": {
      "application/vnd.jupyter.widget-view+json": {
       "model_id": "9ff9fbd0ef824546a8269c018a376b62",
       "version_major": 2,
       "version_minor": 0
      },
      "text/plain": [
       "HBox(children=(HTML(value=''), FloatProgress(value=0.0, max=269.0), HTML(value='')))"
      ]
     },
     "metadata": {},
     "output_type": "display_data"
    },
    {
     "name": "stdout",
     "output_type": "stream",
     "text": [
      "\n"
     ]
    },
    {
     "data": {
      "application/vnd.jupyter.widget-view+json": {
       "model_id": "07e94553f27d4be4bdc0c72a3b35f03a",
       "version_major": 2,
       "version_minor": 0
      },
      "text/plain": [
       "HBox(children=(HTML(value=''), FloatProgress(value=0.0, max=334.0), HTML(value='')))"
      ]
     },
     "metadata": {},
     "output_type": "display_data"
    },
    {
     "name": "stdout",
     "output_type": "stream",
     "text": [
      "\n"
     ]
    },
    {
     "data": {
      "application/vnd.jupyter.widget-view+json": {
       "model_id": "e574d80bf71c4f6b879b2a5103c94e4e",
       "version_major": 2,
       "version_minor": 0
      },
      "text/plain": [
       "HBox(children=(HTML(value=''), FloatProgress(value=0.0, max=326.0), HTML(value='')))"
      ]
     },
     "metadata": {},
     "output_type": "display_data"
    },
    {
     "name": "stdout",
     "output_type": "stream",
     "text": [
      "\n"
     ]
    },
    {
     "data": {
      "application/vnd.jupyter.widget-view+json": {
       "model_id": "af30e28ea6704126a78fadbcb5fe89b3",
       "version_major": 2,
       "version_minor": 0
      },
      "text/plain": [
       "HBox(children=(HTML(value=''), FloatProgress(value=0.0, max=285.0), HTML(value='')))"
      ]
     },
     "metadata": {},
     "output_type": "display_data"
    },
    {
     "name": "stdout",
     "output_type": "stream",
     "text": [
      "\n"
     ]
    },
    {
     "data": {
      "application/vnd.jupyter.widget-view+json": {
       "model_id": "8f2d772de9b0456f8862a0dbdeaf5b8a",
       "version_major": 2,
       "version_minor": 0
      },
      "text/plain": [
       "HBox(children=(HTML(value=''), FloatProgress(value=0.0, max=311.0), HTML(value='')))"
      ]
     },
     "metadata": {},
     "output_type": "display_data"
    },
    {
     "name": "stdout",
     "output_type": "stream",
     "text": [
      "\n"
     ]
    },
    {
     "data": {
      "application/vnd.jupyter.widget-view+json": {
       "model_id": "c92e1aaff14d44e08a3f55fa8fafdc46",
       "version_major": 2,
       "version_minor": 0
      },
      "text/plain": [
       "HBox(children=(HTML(value=''), FloatProgress(value=0.0, max=292.0), HTML(value='')))"
      ]
     },
     "metadata": {},
     "output_type": "display_data"
    },
    {
     "name": "stdout",
     "output_type": "stream",
     "text": [
      "\n"
     ]
    },
    {
     "data": {
      "application/vnd.jupyter.widget-view+json": {
       "model_id": "9975e363e2724105a95a33de475c266b",
       "version_major": 2,
       "version_minor": 0
      },
      "text/plain": [
       "HBox(children=(HTML(value=''), FloatProgress(value=0.0, max=346.0), HTML(value='')))"
      ]
     },
     "metadata": {},
     "output_type": "display_data"
    },
    {
     "name": "stdout",
     "output_type": "stream",
     "text": [
      "\n"
     ]
    },
    {
     "data": {
      "application/vnd.jupyter.widget-view+json": {
       "model_id": "86e1c91809074821bbcc44f06da41ad9",
       "version_major": 2,
       "version_minor": 0
      },
      "text/plain": [
       "HBox(children=(HTML(value=''), FloatProgress(value=0.0, max=307.0), HTML(value='')))"
      ]
     },
     "metadata": {},
     "output_type": "display_data"
    },
    {
     "name": "stdout",
     "output_type": "stream",
     "text": [
      "\n"
     ]
    },
    {
     "data": {
      "application/vnd.jupyter.widget-view+json": {
       "model_id": "17f189f336ec4302bc3dbaab92a4bdbb",
       "version_major": 2,
       "version_minor": 0
      },
      "text/plain": [
       "HBox(children=(HTML(value=''), FloatProgress(value=0.0, max=294.0), HTML(value='')))"
      ]
     },
     "metadata": {},
     "output_type": "display_data"
    },
    {
     "name": "stdout",
     "output_type": "stream",
     "text": [
      "\n"
     ]
    },
    {
     "data": {
      "application/vnd.jupyter.widget-view+json": {
       "model_id": "a1986be9d86c454cb1aaf8791ec9f7d3",
       "version_major": 2,
       "version_minor": 0
      },
      "text/plain": [
       "HBox(children=(HTML(value=''), FloatProgress(value=0.0, max=328.0), HTML(value='')))"
      ]
     },
     "metadata": {},
     "output_type": "display_data"
    },
    {
     "name": "stdout",
     "output_type": "stream",
     "text": [
      "\n"
     ]
    },
    {
     "data": {
      "application/vnd.jupyter.widget-view+json": {
       "model_id": "cbb9e6e9f2774d3c94a94ae438fae1a8",
       "version_major": 2,
       "version_minor": 0
      },
      "text/plain": [
       "HBox(children=(HTML(value=''), FloatProgress(value=0.0, max=305.0), HTML(value='')))"
      ]
     },
     "metadata": {},
     "output_type": "display_data"
    },
    {
     "name": "stdout",
     "output_type": "stream",
     "text": [
      "\n"
     ]
    },
    {
     "data": {
      "application/vnd.jupyter.widget-view+json": {
       "model_id": "23441bc364a64254bf61fd4b92f4392c",
       "version_major": 2,
       "version_minor": 0
      },
      "text/plain": [
       "HBox(children=(HTML(value=''), FloatProgress(value=0.0, max=296.0), HTML(value='')))"
      ]
     },
     "metadata": {},
     "output_type": "display_data"
    },
    {
     "name": "stdout",
     "output_type": "stream",
     "text": [
      "\n"
     ]
    },
    {
     "data": {
      "application/vnd.jupyter.widget-view+json": {
       "model_id": "a3f3534a457e453a8b088d74763cd562",
       "version_major": 2,
       "version_minor": 0
      },
      "text/plain": [
       "HBox(children=(HTML(value=''), FloatProgress(value=0.0, max=290.0), HTML(value='')))"
      ]
     },
     "metadata": {},
     "output_type": "display_data"
    },
    {
     "name": "stdout",
     "output_type": "stream",
     "text": [
      "\n"
     ]
    },
    {
     "data": {
      "application/vnd.jupyter.widget-view+json": {
       "model_id": "e029e1fc059f413e81daba899e92366a",
       "version_major": 2,
       "version_minor": 0
      },
      "text/plain": [
       "HBox(children=(HTML(value=''), FloatProgress(value=0.0, max=287.0), HTML(value='')))"
      ]
     },
     "metadata": {},
     "output_type": "display_data"
    },
    {
     "name": "stdout",
     "output_type": "stream",
     "text": [
      "\n"
     ]
    },
    {
     "data": {
      "application/vnd.jupyter.widget-view+json": {
       "model_id": "223132325a204da882354e5a9a84c1cc",
       "version_major": 2,
       "version_minor": 0
      },
      "text/plain": [
       "HBox(children=(HTML(value=''), FloatProgress(value=0.0, max=373.0), HTML(value='')))"
      ]
     },
     "metadata": {},
     "output_type": "display_data"
    },
    {
     "name": "stdout",
     "output_type": "stream",
     "text": [
      "\n"
     ]
    },
    {
     "data": {
      "application/vnd.jupyter.widget-view+json": {
       "model_id": "0a5c3fb7b7f8497c9f929caff5917dee",
       "version_major": 2,
       "version_minor": 0
      },
      "text/plain": [
       "HBox(children=(HTML(value=''), FloatProgress(value=0.0, max=340.0), HTML(value='')))"
      ]
     },
     "metadata": {},
     "output_type": "display_data"
    },
    {
     "name": "stdout",
     "output_type": "stream",
     "text": [
      "\n"
     ]
    },
    {
     "data": {
      "application/vnd.jupyter.widget-view+json": {
       "model_id": "8b5b4dbc0a0749d5b51b417675942d38",
       "version_major": 2,
       "version_minor": 0
      },
      "text/plain": [
       "HBox(children=(HTML(value=''), FloatProgress(value=0.0, max=325.0), HTML(value='')))"
      ]
     },
     "metadata": {},
     "output_type": "display_data"
    },
    {
     "name": "stdout",
     "output_type": "stream",
     "text": [
      "\n"
     ]
    },
    {
     "data": {
      "application/vnd.jupyter.widget-view+json": {
       "model_id": "bc5034363fff45a8ab8f455f0e8bf37e",
       "version_major": 2,
       "version_minor": 0
      },
      "text/plain": [
       "HBox(children=(HTML(value=''), FloatProgress(value=0.0, max=346.0), HTML(value='')))"
      ]
     },
     "metadata": {},
     "output_type": "display_data"
    },
    {
     "name": "stdout",
     "output_type": "stream",
     "text": [
      "\n"
     ]
    },
    {
     "data": {
      "application/vnd.jupyter.widget-view+json": {
       "model_id": "3e1da30a878a4347b5cca3c536b8c414",
       "version_major": 2,
       "version_minor": 0
      },
      "text/plain": [
       "HBox(children=(HTML(value=''), FloatProgress(value=0.0, max=302.0), HTML(value='')))"
      ]
     },
     "metadata": {},
     "output_type": "display_data"
    },
    {
     "name": "stdout",
     "output_type": "stream",
     "text": [
      "\n"
     ]
    },
    {
     "data": {
      "application/vnd.jupyter.widget-view+json": {
       "model_id": "8c281f17e4704408b49cf72efc46e52c",
       "version_major": 2,
       "version_minor": 0
      },
      "text/plain": [
       "HBox(children=(HTML(value=''), FloatProgress(value=0.0, max=310.0), HTML(value='')))"
      ]
     },
     "metadata": {},
     "output_type": "display_data"
    },
    {
     "name": "stdout",
     "output_type": "stream",
     "text": [
      "\n"
     ]
    },
    {
     "data": {
      "application/vnd.jupyter.widget-view+json": {
       "model_id": "d3955d49a6774223b718800708499d31",
       "version_major": 2,
       "version_minor": 0
      },
      "text/plain": [
       "HBox(children=(HTML(value=''), FloatProgress(value=0.0, max=369.0), HTML(value='')))"
      ]
     },
     "metadata": {},
     "output_type": "display_data"
    },
    {
     "name": "stdout",
     "output_type": "stream",
     "text": [
      "\n"
     ]
    },
    {
     "data": {
      "application/vnd.jupyter.widget-view+json": {
       "model_id": "93066ccde6c34199a1e03d0112a85219",
       "version_major": 2,
       "version_minor": 0
      },
      "text/plain": [
       "HBox(children=(HTML(value=''), FloatProgress(value=0.0, max=304.0), HTML(value='')))"
      ]
     },
     "metadata": {},
     "output_type": "display_data"
    },
    {
     "name": "stdout",
     "output_type": "stream",
     "text": [
      "\n"
     ]
    },
    {
     "data": {
      "application/vnd.jupyter.widget-view+json": {
       "model_id": "b3b907ef4bc4480eb49f424f65302fb8",
       "version_major": 2,
       "version_minor": 0
      },
      "text/plain": [
       "HBox(children=(HTML(value=''), FloatProgress(value=0.0, max=320.0), HTML(value='')))"
      ]
     },
     "metadata": {},
     "output_type": "display_data"
    },
    {
     "name": "stdout",
     "output_type": "stream",
     "text": [
      "\n"
     ]
    },
    {
     "data": {
      "application/vnd.jupyter.widget-view+json": {
       "model_id": "aab4e26e31f74567adc4b12072d8c89f",
       "version_major": 2,
       "version_minor": 0
      },
      "text/plain": [
       "HBox(children=(HTML(value=''), FloatProgress(value=0.0, max=272.0), HTML(value='')))"
      ]
     },
     "metadata": {},
     "output_type": "display_data"
    },
    {
     "name": "stdout",
     "output_type": "stream",
     "text": [
      "\n"
     ]
    },
    {
     "data": {
      "application/vnd.jupyter.widget-view+json": {
       "model_id": "a9528ea9ff5347e3ada64133e41cabdf",
       "version_major": 2,
       "version_minor": 0
      },
      "text/plain": [
       "HBox(children=(HTML(value=''), FloatProgress(value=0.0, max=344.0), HTML(value='')))"
      ]
     },
     "metadata": {},
     "output_type": "display_data"
    },
    {
     "name": "stdout",
     "output_type": "stream",
     "text": [
      "\n"
     ]
    },
    {
     "data": {
      "application/vnd.jupyter.widget-view+json": {
       "model_id": "ca983405a4014941a2306bdd980f04b7",
       "version_major": 2,
       "version_minor": 0
      },
      "text/plain": [
       "HBox(children=(HTML(value=''), FloatProgress(value=0.0, max=330.0), HTML(value='')))"
      ]
     },
     "metadata": {},
     "output_type": "display_data"
    },
    {
     "name": "stdout",
     "output_type": "stream",
     "text": [
      "\n"
     ]
    },
    {
     "data": {
      "application/vnd.jupyter.widget-view+json": {
       "model_id": "1d84e4a6c75845ed9fefb0594731b34c",
       "version_major": 2,
       "version_minor": 0
      },
      "text/plain": [
       "HBox(children=(HTML(value=''), FloatProgress(value=0.0, max=355.0), HTML(value='')))"
      ]
     },
     "metadata": {},
     "output_type": "display_data"
    },
    {
     "name": "stdout",
     "output_type": "stream",
     "text": [
      "\n"
     ]
    },
    {
     "data": {
      "application/vnd.jupyter.widget-view+json": {
       "model_id": "6a65f9642c494053a0bb6e0ecee6e828",
       "version_major": 2,
       "version_minor": 0
      },
      "text/plain": [
       "HBox(children=(HTML(value=''), FloatProgress(value=0.0, max=319.0), HTML(value='')))"
      ]
     },
     "metadata": {},
     "output_type": "display_data"
    },
    {
     "name": "stdout",
     "output_type": "stream",
     "text": [
      "\n"
     ]
    },
    {
     "data": {
      "application/vnd.jupyter.widget-view+json": {
       "model_id": "b983a6deffe74f87b0cba623f55fe784",
       "version_major": 2,
       "version_minor": 0
      },
      "text/plain": [
       "HBox(children=(HTML(value=''), FloatProgress(value=0.0, max=337.0), HTML(value='')))"
      ]
     },
     "metadata": {},
     "output_type": "display_data"
    },
    {
     "name": "stdout",
     "output_type": "stream",
     "text": [
      "\n"
     ]
    },
    {
     "data": {
      "application/vnd.jupyter.widget-view+json": {
       "model_id": "3c4cf2d556d0481eacbc85aa1837a77c",
       "version_major": 2,
       "version_minor": 0
      },
      "text/plain": [
       "HBox(children=(HTML(value=''), FloatProgress(value=0.0, max=330.0), HTML(value='')))"
      ]
     },
     "metadata": {},
     "output_type": "display_data"
    },
    {
     "name": "stdout",
     "output_type": "stream",
     "text": [
      "\n"
     ]
    },
    {
     "data": {
      "application/vnd.jupyter.widget-view+json": {
       "model_id": "d6eda20c819c46589cb0c698a0d0c1c3",
       "version_major": 2,
       "version_minor": 0
      },
      "text/plain": [
       "HBox(children=(HTML(value=''), FloatProgress(value=0.0, max=365.0), HTML(value='')))"
      ]
     },
     "metadata": {},
     "output_type": "display_data"
    },
    {
     "name": "stdout",
     "output_type": "stream",
     "text": [
      "\n"
     ]
    },
    {
     "data": {
      "application/vnd.jupyter.widget-view+json": {
       "model_id": "ff34f346e3fb421c8d779b237b51b658",
       "version_major": 2,
       "version_minor": 0
      },
      "text/plain": [
       "HBox(children=(HTML(value=''), FloatProgress(value=0.0, max=357.0), HTML(value='')))"
      ]
     },
     "metadata": {},
     "output_type": "display_data"
    },
    {
     "name": "stdout",
     "output_type": "stream",
     "text": [
      "\n"
     ]
    },
    {
     "data": {
      "application/vnd.jupyter.widget-view+json": {
       "model_id": "064cd1e18a694b6691b203f5b74abae2",
       "version_major": 2,
       "version_minor": 0
      },
      "text/plain": [
       "HBox(children=(HTML(value=''), FloatProgress(value=0.0, max=296.0), HTML(value='')))"
      ]
     },
     "metadata": {},
     "output_type": "display_data"
    },
    {
     "name": "stdout",
     "output_type": "stream",
     "text": [
      "\n"
     ]
    },
    {
     "data": {
      "application/vnd.jupyter.widget-view+json": {
       "model_id": "5bef0f023f7a4d369f9855f18b02f10c",
       "version_major": 2,
       "version_minor": 0
      },
      "text/plain": [
       "HBox(children=(HTML(value=''), FloatProgress(value=0.0, max=261.0), HTML(value='')))"
      ]
     },
     "metadata": {},
     "output_type": "display_data"
    },
    {
     "name": "stdout",
     "output_type": "stream",
     "text": [
      "\n"
     ]
    },
    {
     "data": {
      "application/vnd.jupyter.widget-view+json": {
       "model_id": "2a0bab2373ee493e847950c32dc3804c",
       "version_major": 2,
       "version_minor": 0
      },
      "text/plain": [
       "HBox(children=(HTML(value=''), FloatProgress(value=0.0, max=323.0), HTML(value='')))"
      ]
     },
     "metadata": {},
     "output_type": "display_data"
    },
    {
     "name": "stdout",
     "output_type": "stream",
     "text": [
      "\n"
     ]
    },
    {
     "data": {
      "application/vnd.jupyter.widget-view+json": {
       "model_id": "44c60c74f32f493c85ae4bf8242e11fb",
       "version_major": 2,
       "version_minor": 0
      },
      "text/plain": [
       "HBox(children=(HTML(value=''), FloatProgress(value=0.0, max=331.0), HTML(value='')))"
      ]
     },
     "metadata": {},
     "output_type": "display_data"
    },
    {
     "name": "stdout",
     "output_type": "stream",
     "text": [
      "\n"
     ]
    },
    {
     "data": {
      "application/vnd.jupyter.widget-view+json": {
       "model_id": "e72a418483bc4845bf2c20f04122d76e",
       "version_major": 2,
       "version_minor": 0
      },
      "text/plain": [
       "HBox(children=(HTML(value=''), FloatProgress(value=0.0, max=292.0), HTML(value='')))"
      ]
     },
     "metadata": {},
     "output_type": "display_data"
    },
    {
     "name": "stdout",
     "output_type": "stream",
     "text": [
      "\n"
     ]
    },
    {
     "data": {
      "application/vnd.jupyter.widget-view+json": {
       "model_id": "6514df38584c4f6f814cd54bc33edb7e",
       "version_major": 2,
       "version_minor": 0
      },
      "text/plain": [
       "HBox(children=(HTML(value=''), FloatProgress(value=0.0, max=372.0), HTML(value='')))"
      ]
     },
     "metadata": {},
     "output_type": "display_data"
    },
    {
     "name": "stdout",
     "output_type": "stream",
     "text": [
      "\n"
     ]
    },
    {
     "data": {
      "application/vnd.jupyter.widget-view+json": {
       "model_id": "79cff4ab42c34a1cb6b8125f889c10eb",
       "version_major": 2,
       "version_minor": 0
      },
      "text/plain": [
       "HBox(children=(HTML(value=''), FloatProgress(value=0.0, max=313.0), HTML(value='')))"
      ]
     },
     "metadata": {},
     "output_type": "display_data"
    },
    {
     "name": "stdout",
     "output_type": "stream",
     "text": [
      "\n"
     ]
    },
    {
     "data": {
      "application/vnd.jupyter.widget-view+json": {
       "model_id": "9e889766535f4fddbc3a5f612835b323",
       "version_major": 2,
       "version_minor": 0
      },
      "text/plain": [
       "HBox(children=(HTML(value=''), FloatProgress(value=0.0, max=350.0), HTML(value='')))"
      ]
     },
     "metadata": {},
     "output_type": "display_data"
    },
    {
     "name": "stdout",
     "output_type": "stream",
     "text": [
      "\n"
     ]
    },
    {
     "data": {
      "application/vnd.jupyter.widget-view+json": {
       "model_id": "5a48476eb7e34b878769d8d2e40c4aaa",
       "version_major": 2,
       "version_minor": 0
      },
      "text/plain": [
       "HBox(children=(HTML(value=''), FloatProgress(value=0.0, max=313.0), HTML(value='')))"
      ]
     },
     "metadata": {},
     "output_type": "display_data"
    },
    {
     "name": "stdout",
     "output_type": "stream",
     "text": [
      "\n"
     ]
    },
    {
     "data": {
      "application/vnd.jupyter.widget-view+json": {
       "model_id": "4b5e5064cab349a38fd60858bbde4d0b",
       "version_major": 2,
       "version_minor": 0
      },
      "text/plain": [
       "HBox(children=(HTML(value=''), FloatProgress(value=0.0, max=308.0), HTML(value='')))"
      ]
     },
     "metadata": {},
     "output_type": "display_data"
    },
    {
     "name": "stdout",
     "output_type": "stream",
     "text": [
      "\n"
     ]
    },
    {
     "data": {
      "application/vnd.jupyter.widget-view+json": {
       "model_id": "8646cbe7ac18467886938ef4bf9632eb",
       "version_major": 2,
       "version_minor": 0
      },
      "text/plain": [
       "HBox(children=(HTML(value=''), FloatProgress(value=0.0, max=300.0), HTML(value='')))"
      ]
     },
     "metadata": {},
     "output_type": "display_data"
    },
    {
     "name": "stdout",
     "output_type": "stream",
     "text": [
      "\n"
     ]
    },
    {
     "data": {
      "application/vnd.jupyter.widget-view+json": {
       "model_id": "a9aa608dbb5a45e9930b2796f81858fb",
       "version_major": 2,
       "version_minor": 0
      },
      "text/plain": [
       "HBox(children=(HTML(value=''), FloatProgress(value=0.0, max=308.0), HTML(value='')))"
      ]
     },
     "metadata": {},
     "output_type": "display_data"
    },
    {
     "name": "stdout",
     "output_type": "stream",
     "text": [
      "\n"
     ]
    },
    {
     "data": {
      "application/vnd.jupyter.widget-view+json": {
       "model_id": "c63d50d6dcb940f896572e4b9b83af05",
       "version_major": 2,
       "version_minor": 0
      },
      "text/plain": [
       "HBox(children=(HTML(value=''), FloatProgress(value=0.0, max=352.0), HTML(value='')))"
      ]
     },
     "metadata": {},
     "output_type": "display_data"
    },
    {
     "name": "stdout",
     "output_type": "stream",
     "text": [
      "\n"
     ]
    },
    {
     "data": {
      "application/vnd.jupyter.widget-view+json": {
       "model_id": "2967092ad778464d89bcb5b9e506d6e0",
       "version_major": 2,
       "version_minor": 0
      },
      "text/plain": [
       "HBox(children=(HTML(value=''), FloatProgress(value=0.0, max=356.0), HTML(value='')))"
      ]
     },
     "metadata": {},
     "output_type": "display_data"
    },
    {
     "name": "stdout",
     "output_type": "stream",
     "text": [
      "\n"
     ]
    },
    {
     "data": {
      "application/vnd.jupyter.widget-view+json": {
       "model_id": "13a71e119b5845db9197f56283d87a45",
       "version_major": 2,
       "version_minor": 0
      },
      "text/plain": [
       "HBox(children=(HTML(value=''), FloatProgress(value=0.0, max=336.0), HTML(value='')))"
      ]
     },
     "metadata": {},
     "output_type": "display_data"
    },
    {
     "name": "stdout",
     "output_type": "stream",
     "text": [
      "\n"
     ]
    },
    {
     "data": {
      "application/vnd.jupyter.widget-view+json": {
       "model_id": "69591a2b50ed43f794bd9ae975d1a31d",
       "version_major": 2,
       "version_minor": 0
      },
      "text/plain": [
       "HBox(children=(HTML(value=''), FloatProgress(value=0.0, max=359.0), HTML(value='')))"
      ]
     },
     "metadata": {},
     "output_type": "display_data"
    },
    {
     "name": "stdout",
     "output_type": "stream",
     "text": [
      "\n"
     ]
    },
    {
     "data": {
      "application/vnd.jupyter.widget-view+json": {
       "model_id": "6ec027690d2a4a01bc73b878717a15dd",
       "version_major": 2,
       "version_minor": 0
      },
      "text/plain": [
       "HBox(children=(HTML(value=''), FloatProgress(value=0.0, max=303.0), HTML(value='')))"
      ]
     },
     "metadata": {},
     "output_type": "display_data"
    },
    {
     "name": "stdout",
     "output_type": "stream",
     "text": [
      "\n"
     ]
    },
    {
     "data": {
      "application/vnd.jupyter.widget-view+json": {
       "model_id": "7c2661ad85114d9e97846ec0c863015b",
       "version_major": 2,
       "version_minor": 0
      },
      "text/plain": [
       "HBox(children=(HTML(value=''), FloatProgress(value=0.0, max=318.0), HTML(value='')))"
      ]
     },
     "metadata": {},
     "output_type": "display_data"
    },
    {
     "name": "stdout",
     "output_type": "stream",
     "text": [
      "\n"
     ]
    },
    {
     "data": {
      "application/vnd.jupyter.widget-view+json": {
       "model_id": "0b06218012db45d599361b601d5ce7e1",
       "version_major": 2,
       "version_minor": 0
      },
      "text/plain": [
       "HBox(children=(HTML(value=''), FloatProgress(value=0.0, max=319.0), HTML(value='')))"
      ]
     },
     "metadata": {},
     "output_type": "display_data"
    },
    {
     "name": "stdout",
     "output_type": "stream",
     "text": [
      "\n"
     ]
    },
    {
     "data": {
      "application/vnd.jupyter.widget-view+json": {
       "model_id": "107c05bf0a8d4261a95077608ec81aa6",
       "version_major": 2,
       "version_minor": 0
      },
      "text/plain": [
       "HBox(children=(HTML(value=''), FloatProgress(value=0.0, max=350.0), HTML(value='')))"
      ]
     },
     "metadata": {},
     "output_type": "display_data"
    },
    {
     "name": "stdout",
     "output_type": "stream",
     "text": [
      "\n"
     ]
    },
    {
     "data": {
      "application/vnd.jupyter.widget-view+json": {
       "model_id": "648c989d503f467bbcb8293b2be1413b",
       "version_major": 2,
       "version_minor": 0
      },
      "text/plain": [
       "HBox(children=(HTML(value=''), FloatProgress(value=0.0, max=294.0), HTML(value='')))"
      ]
     },
     "metadata": {},
     "output_type": "display_data"
    },
    {
     "name": "stdout",
     "output_type": "stream",
     "text": [
      "\n"
     ]
    },
    {
     "data": {
      "application/vnd.jupyter.widget-view+json": {
       "model_id": "2091ba3e4be34af0b9f6212dc70db897",
       "version_major": 2,
       "version_minor": 0
      },
      "text/plain": [
       "HBox(children=(HTML(value=''), FloatProgress(value=0.0, max=328.0), HTML(value='')))"
      ]
     },
     "metadata": {},
     "output_type": "display_data"
    },
    {
     "name": "stdout",
     "output_type": "stream",
     "text": [
      "\n"
     ]
    },
    {
     "data": {
      "application/vnd.jupyter.widget-view+json": {
       "model_id": "88af83fbc8b44067bddf5834b9b0b808",
       "version_major": 2,
       "version_minor": 0
      },
      "text/plain": [
       "HBox(children=(HTML(value=''), FloatProgress(value=0.0, max=304.0), HTML(value='')))"
      ]
     },
     "metadata": {},
     "output_type": "display_data"
    },
    {
     "name": "stdout",
     "output_type": "stream",
     "text": [
      "\n"
     ]
    },
    {
     "data": {
      "application/vnd.jupyter.widget-view+json": {
       "model_id": "bd9e70a529d1463286cae26c23fa35ed",
       "version_major": 2,
       "version_minor": 0
      },
      "text/plain": [
       "HBox(children=(HTML(value=''), FloatProgress(value=0.0, max=344.0), HTML(value='')))"
      ]
     },
     "metadata": {},
     "output_type": "display_data"
    },
    {
     "name": "stdout",
     "output_type": "stream",
     "text": [
      "\n"
     ]
    },
    {
     "data": {
      "application/vnd.jupyter.widget-view+json": {
       "model_id": "749cf7b0a8f04dd89d5a6aa2c1b34765",
       "version_major": 2,
       "version_minor": 0
      },
      "text/plain": [
       "HBox(children=(HTML(value=''), FloatProgress(value=0.0, max=376.0), HTML(value='')))"
      ]
     },
     "metadata": {},
     "output_type": "display_data"
    },
    {
     "name": "stdout",
     "output_type": "stream",
     "text": [
      "\n"
     ]
    },
    {
     "data": {
      "application/vnd.jupyter.widget-view+json": {
       "model_id": "0a977443906f40a9b7f00f7327701ba5",
       "version_major": 2,
       "version_minor": 0
      },
      "text/plain": [
       "HBox(children=(HTML(value=''), FloatProgress(value=0.0, max=343.0), HTML(value='')))"
      ]
     },
     "metadata": {},
     "output_type": "display_data"
    },
    {
     "name": "stdout",
     "output_type": "stream",
     "text": [
      "\n"
     ]
    },
    {
     "data": {
      "application/vnd.jupyter.widget-view+json": {
       "model_id": "18cb3e54684b4c35abeffc3a6c5e6875",
       "version_major": 2,
       "version_minor": 0
      },
      "text/plain": [
       "HBox(children=(HTML(value=''), FloatProgress(value=0.0, max=335.0), HTML(value='')))"
      ]
     },
     "metadata": {},
     "output_type": "display_data"
    },
    {
     "name": "stdout",
     "output_type": "stream",
     "text": [
      "\n"
     ]
    },
    {
     "data": {
      "application/vnd.jupyter.widget-view+json": {
       "model_id": "88d1227375084385af6df4b5d34fb167",
       "version_major": 2,
       "version_minor": 0
      },
      "text/plain": [
       "HBox(children=(HTML(value=''), FloatProgress(value=0.0, max=321.0), HTML(value='')))"
      ]
     },
     "metadata": {},
     "output_type": "display_data"
    },
    {
     "name": "stdout",
     "output_type": "stream",
     "text": [
      "\n"
     ]
    },
    {
     "data": {
      "application/vnd.jupyter.widget-view+json": {
       "model_id": "c00b019d5f4e4e83911944a32698346d",
       "version_major": 2,
       "version_minor": 0
      },
      "text/plain": [
       "HBox(children=(HTML(value=''), FloatProgress(value=0.0, max=305.0), HTML(value='')))"
      ]
     },
     "metadata": {},
     "output_type": "display_data"
    },
    {
     "name": "stdout",
     "output_type": "stream",
     "text": [
      "\n"
     ]
    },
    {
     "data": {
      "application/vnd.jupyter.widget-view+json": {
       "model_id": "94c96dbce46647acb0edd3f226f5315c",
       "version_major": 2,
       "version_minor": 0
      },
      "text/plain": [
       "HBox(children=(HTML(value=''), FloatProgress(value=0.0, max=281.0), HTML(value='')))"
      ]
     },
     "metadata": {},
     "output_type": "display_data"
    },
    {
     "name": "stdout",
     "output_type": "stream",
     "text": [
      "\n"
     ]
    },
    {
     "data": {
      "application/vnd.jupyter.widget-view+json": {
       "model_id": "77873430e5cd4e19b317a8c1c1aa8e17",
       "version_major": 2,
       "version_minor": 0
      },
      "text/plain": [
       "HBox(children=(HTML(value=''), FloatProgress(value=0.0, max=298.0), HTML(value='')))"
      ]
     },
     "metadata": {},
     "output_type": "display_data"
    },
    {
     "name": "stdout",
     "output_type": "stream",
     "text": [
      "\n"
     ]
    },
    {
     "data": {
      "application/vnd.jupyter.widget-view+json": {
       "model_id": "0376327a1448426a9e40a09b7d6e50ef",
       "version_major": 2,
       "version_minor": 0
      },
      "text/plain": [
       "HBox(children=(HTML(value=''), FloatProgress(value=0.0, max=310.0), HTML(value='')))"
      ]
     },
     "metadata": {},
     "output_type": "display_data"
    },
    {
     "name": "stdout",
     "output_type": "stream",
     "text": [
      "\n"
     ]
    },
    {
     "data": {
      "application/vnd.jupyter.widget-view+json": {
       "model_id": "8c0664e1c0f4428ca39804f0b6d4fb15",
       "version_major": 2,
       "version_minor": 0
      },
      "text/plain": [
       "HBox(children=(HTML(value=''), FloatProgress(value=0.0, max=347.0), HTML(value='')))"
      ]
     },
     "metadata": {},
     "output_type": "display_data"
    },
    {
     "name": "stdout",
     "output_type": "stream",
     "text": [
      "\n"
     ]
    },
    {
     "data": {
      "application/vnd.jupyter.widget-view+json": {
       "model_id": "c6114085bd314bcabaa40a54328a9ca7",
       "version_major": 2,
       "version_minor": 0
      },
      "text/plain": [
       "HBox(children=(HTML(value=''), FloatProgress(value=0.0, max=377.0), HTML(value='')))"
      ]
     },
     "metadata": {},
     "output_type": "display_data"
    },
    {
     "name": "stdout",
     "output_type": "stream",
     "text": [
      "\n"
     ]
    },
    {
     "data": {
      "application/vnd.jupyter.widget-view+json": {
       "model_id": "9cbbb76195b64f1882f52c658ccc0663",
       "version_major": 2,
       "version_minor": 0
      },
      "text/plain": [
       "HBox(children=(HTML(value=''), FloatProgress(value=0.0, max=283.0), HTML(value='')))"
      ]
     },
     "metadata": {},
     "output_type": "display_data"
    },
    {
     "name": "stdout",
     "output_type": "stream",
     "text": [
      "\n"
     ]
    },
    {
     "data": {
      "application/vnd.jupyter.widget-view+json": {
       "model_id": "7675f5fe74d442f6a0b1b4d21e6bc55a",
       "version_major": 2,
       "version_minor": 0
      },
      "text/plain": [
       "HBox(children=(HTML(value=''), FloatProgress(value=0.0, max=296.0), HTML(value='')))"
      ]
     },
     "metadata": {},
     "output_type": "display_data"
    },
    {
     "name": "stdout",
     "output_type": "stream",
     "text": [
      "\n"
     ]
    },
    {
     "data": {
      "application/vnd.jupyter.widget-view+json": {
       "model_id": "38340965819f4ec3a43f75225769b4f9",
       "version_major": 2,
       "version_minor": 0
      },
      "text/plain": [
       "HBox(children=(HTML(value=''), FloatProgress(value=0.0, max=340.0), HTML(value='')))"
      ]
     },
     "metadata": {},
     "output_type": "display_data"
    },
    {
     "name": "stdout",
     "output_type": "stream",
     "text": [
      "\n"
     ]
    },
    {
     "data": {
      "application/vnd.jupyter.widget-view+json": {
       "model_id": "af091102617c43aeadb7386185dc0532",
       "version_major": 2,
       "version_minor": 0
      },
      "text/plain": [
       "HBox(children=(HTML(value=''), FloatProgress(value=0.0, max=330.0), HTML(value='')))"
      ]
     },
     "metadata": {},
     "output_type": "display_data"
    },
    {
     "name": "stdout",
     "output_type": "stream",
     "text": [
      "\n"
     ]
    },
    {
     "data": {
      "application/vnd.jupyter.widget-view+json": {
       "model_id": "87a254ad636f45e08c7ee1086afc0d36",
       "version_major": 2,
       "version_minor": 0
      },
      "text/plain": [
       "HBox(children=(HTML(value=''), FloatProgress(value=0.0, max=264.0), HTML(value='')))"
      ]
     },
     "metadata": {},
     "output_type": "display_data"
    },
    {
     "name": "stdout",
     "output_type": "stream",
     "text": [
      "\n"
     ]
    },
    {
     "data": {
      "application/vnd.jupyter.widget-view+json": {
       "model_id": "0f15ad9e6a9a4f9fa12f78d55261ad64",
       "version_major": 2,
       "version_minor": 0
      },
      "text/plain": [
       "HBox(children=(HTML(value=''), FloatProgress(value=0.0, max=321.0), HTML(value='')))"
      ]
     },
     "metadata": {},
     "output_type": "display_data"
    },
    {
     "name": "stdout",
     "output_type": "stream",
     "text": [
      "\n"
     ]
    },
    {
     "data": {
      "application/vnd.jupyter.widget-view+json": {
       "model_id": "cba24022b94f44658306ec6484a0c3bd",
       "version_major": 2,
       "version_minor": 0
      },
      "text/plain": [
       "HBox(children=(HTML(value=''), FloatProgress(value=0.0, max=342.0), HTML(value='')))"
      ]
     },
     "metadata": {},
     "output_type": "display_data"
    },
    {
     "name": "stdout",
     "output_type": "stream",
     "text": [
      "\n"
     ]
    },
    {
     "data": {
      "application/vnd.jupyter.widget-view+json": {
       "model_id": "f769bde9f30d4ceaa07491a4fe284f1e",
       "version_major": 2,
       "version_minor": 0
      },
      "text/plain": [
       "HBox(children=(HTML(value=''), FloatProgress(value=0.0, max=418.0), HTML(value='')))"
      ]
     },
     "metadata": {},
     "output_type": "display_data"
    },
    {
     "name": "stdout",
     "output_type": "stream",
     "text": [
      "\n"
     ]
    },
    {
     "data": {
      "application/vnd.jupyter.widget-view+json": {
       "model_id": "093999be36ca478fa30d96a63a587b2a",
       "version_major": 2,
       "version_minor": 0
      },
      "text/plain": [
       "HBox(children=(HTML(value=''), FloatProgress(value=0.0, max=298.0), HTML(value='')))"
      ]
     },
     "metadata": {},
     "output_type": "display_data"
    },
    {
     "name": "stdout",
     "output_type": "stream",
     "text": [
      "\n"
     ]
    },
    {
     "data": {
      "application/vnd.jupyter.widget-view+json": {
       "model_id": "4c50592d89c64afc891736d18d6ba22c",
       "version_major": 2,
       "version_minor": 0
      },
      "text/plain": [
       "HBox(children=(HTML(value=''), FloatProgress(value=0.0, max=315.0), HTML(value='')))"
      ]
     },
     "metadata": {},
     "output_type": "display_data"
    },
    {
     "name": "stdout",
     "output_type": "stream",
     "text": [
      "\n"
     ]
    },
    {
     "data": {
      "application/vnd.jupyter.widget-view+json": {
       "model_id": "b302cf457cfe4e32bde9dfb0416c60de",
       "version_major": 2,
       "version_minor": 0
      },
      "text/plain": [
       "HBox(children=(HTML(value=''), FloatProgress(value=0.0, max=361.0), HTML(value='')))"
      ]
     },
     "metadata": {},
     "output_type": "display_data"
    },
    {
     "name": "stdout",
     "output_type": "stream",
     "text": [
      "\n"
     ]
    },
    {
     "data": {
      "application/vnd.jupyter.widget-view+json": {
       "model_id": "caafd46239c74f7c9dd23cd3bf8a167e",
       "version_major": 2,
       "version_minor": 0
      },
      "text/plain": [
       "HBox(children=(HTML(value=''), FloatProgress(value=0.0, max=320.0), HTML(value='')))"
      ]
     },
     "metadata": {},
     "output_type": "display_data"
    },
    {
     "name": "stdout",
     "output_type": "stream",
     "text": [
      "\n"
     ]
    },
    {
     "data": {
      "application/vnd.jupyter.widget-view+json": {
       "model_id": "0f1a50240d664311a5a13b0ad101e8de",
       "version_major": 2,
       "version_minor": 0
      },
      "text/plain": [
       "HBox(children=(HTML(value=''), FloatProgress(value=0.0, max=314.0), HTML(value='')))"
      ]
     },
     "metadata": {},
     "output_type": "display_data"
    },
    {
     "name": "stdout",
     "output_type": "stream",
     "text": [
      "\n"
     ]
    },
    {
     "data": {
      "application/vnd.jupyter.widget-view+json": {
       "model_id": "b43552c1f9e94d9bbdc6d61e3dd5252e",
       "version_major": 2,
       "version_minor": 0
      },
      "text/plain": [
       "HBox(children=(HTML(value=''), FloatProgress(value=0.0, max=363.0), HTML(value='')))"
      ]
     },
     "metadata": {},
     "output_type": "display_data"
    },
    {
     "name": "stdout",
     "output_type": "stream",
     "text": [
      "\n"
     ]
    },
    {
     "data": {
      "application/vnd.jupyter.widget-view+json": {
       "model_id": "a6a285467f2843c1b4a5a28ac63590aa",
       "version_major": 2,
       "version_minor": 0
      },
      "text/plain": [
       "HBox(children=(HTML(value=''), FloatProgress(value=0.0, max=362.0), HTML(value='')))"
      ]
     },
     "metadata": {},
     "output_type": "display_data"
    },
    {
     "name": "stdout",
     "output_type": "stream",
     "text": [
      "\n"
     ]
    },
    {
     "data": {
      "application/vnd.jupyter.widget-view+json": {
       "model_id": "9125fbc78c3a48a7b904897139c9e06d",
       "version_major": 2,
       "version_minor": 0
      },
      "text/plain": [
       "HBox(children=(HTML(value=''), FloatProgress(value=0.0, max=322.0), HTML(value='')))"
      ]
     },
     "metadata": {},
     "output_type": "display_data"
    },
    {
     "name": "stdout",
     "output_type": "stream",
     "text": [
      "\n"
     ]
    },
    {
     "data": {
      "application/vnd.jupyter.widget-view+json": {
       "model_id": "50cfa6cb35f645f4b9db6a1ff5a8b34c",
       "version_major": 2,
       "version_minor": 0
      },
      "text/plain": [
       "HBox(children=(HTML(value=''), FloatProgress(value=0.0, max=293.0), HTML(value='')))"
      ]
     },
     "metadata": {},
     "output_type": "display_data"
    },
    {
     "name": "stdout",
     "output_type": "stream",
     "text": [
      "\n"
     ]
    },
    {
     "data": {
      "application/vnd.jupyter.widget-view+json": {
       "model_id": "00904e00fd4447cfa9fd599075b74e1b",
       "version_major": 2,
       "version_minor": 0
      },
      "text/plain": [
       "HBox(children=(HTML(value=''), FloatProgress(value=0.0, max=303.0), HTML(value='')))"
      ]
     },
     "metadata": {},
     "output_type": "display_data"
    },
    {
     "name": "stdout",
     "output_type": "stream",
     "text": [
      "\n"
     ]
    },
    {
     "data": {
      "application/vnd.jupyter.widget-view+json": {
       "model_id": "0d8a2407512444688ab038d4c67fe5b5",
       "version_major": 2,
       "version_minor": 0
      },
      "text/plain": [
       "HBox(children=(HTML(value=''), FloatProgress(value=0.0, max=322.0), HTML(value='')))"
      ]
     },
     "metadata": {},
     "output_type": "display_data"
    },
    {
     "name": "stdout",
     "output_type": "stream",
     "text": [
      "\n"
     ]
    },
    {
     "data": {
      "application/vnd.jupyter.widget-view+json": {
       "model_id": "446d475f9fdf47678e2a08325a3b3909",
       "version_major": 2,
       "version_minor": 0
      },
      "text/plain": [
       "HBox(children=(HTML(value=''), FloatProgress(value=0.0, max=372.0), HTML(value='')))"
      ]
     },
     "metadata": {},
     "output_type": "display_data"
    },
    {
     "name": "stdout",
     "output_type": "stream",
     "text": [
      "\n"
     ]
    },
    {
     "data": {
      "application/vnd.jupyter.widget-view+json": {
       "model_id": "54800e2955424d9b945869bd17e769d4",
       "version_major": 2,
       "version_minor": 0
      },
      "text/plain": [
       "HBox(children=(HTML(value=''), FloatProgress(value=0.0, max=348.0), HTML(value='')))"
      ]
     },
     "metadata": {},
     "output_type": "display_data"
    },
    {
     "name": "stdout",
     "output_type": "stream",
     "text": [
      "\n"
     ]
    },
    {
     "data": {
      "application/vnd.jupyter.widget-view+json": {
       "model_id": "aa1d9a057cc847509b89ffb9455e937e",
       "version_major": 2,
       "version_minor": 0
      },
      "text/plain": [
       "HBox(children=(HTML(value=''), FloatProgress(value=0.0, max=325.0), HTML(value='')))"
      ]
     },
     "metadata": {},
     "output_type": "display_data"
    },
    {
     "name": "stdout",
     "output_type": "stream",
     "text": [
      "\n"
     ]
    },
    {
     "data": {
      "application/vnd.jupyter.widget-view+json": {
       "model_id": "9c7f72fbf7444f52b105a98b34979dea",
       "version_major": 2,
       "version_minor": 0
      },
      "text/plain": [
       "HBox(children=(HTML(value=''), FloatProgress(value=0.0, max=379.0), HTML(value='')))"
      ]
     },
     "metadata": {},
     "output_type": "display_data"
    },
    {
     "name": "stdout",
     "output_type": "stream",
     "text": [
      "\n"
     ]
    },
    {
     "data": {
      "application/vnd.jupyter.widget-view+json": {
       "model_id": "91d60eafc20046a585225589f25a53b2",
       "version_major": 2,
       "version_minor": 0
      },
      "text/plain": [
       "HBox(children=(HTML(value=''), FloatProgress(value=0.0, max=356.0), HTML(value='')))"
      ]
     },
     "metadata": {},
     "output_type": "display_data"
    },
    {
     "name": "stdout",
     "output_type": "stream",
     "text": [
      "\n"
     ]
    },
    {
     "data": {
      "application/vnd.jupyter.widget-view+json": {
       "model_id": "7b3b28a34c264ce7b6964f1acbb8bf1d",
       "version_major": 2,
       "version_minor": 0
      },
      "text/plain": [
       "HBox(children=(HTML(value=''), FloatProgress(value=0.0, max=307.0), HTML(value='')))"
      ]
     },
     "metadata": {},
     "output_type": "display_data"
    },
    {
     "name": "stdout",
     "output_type": "stream",
     "text": [
      "\n"
     ]
    },
    {
     "data": {
      "application/vnd.jupyter.widget-view+json": {
       "model_id": "779611e582b64b4f853915800b8d413d",
       "version_major": 2,
       "version_minor": 0
      },
      "text/plain": [
       "HBox(children=(HTML(value=''), FloatProgress(value=0.0, max=349.0), HTML(value='')))"
      ]
     },
     "metadata": {},
     "output_type": "display_data"
    },
    {
     "name": "stdout",
     "output_type": "stream",
     "text": [
      "\n"
     ]
    },
    {
     "data": {
      "application/vnd.jupyter.widget-view+json": {
       "model_id": "79b903824894468e99434953d8256141",
       "version_major": 2,
       "version_minor": 0
      },
      "text/plain": [
       "HBox(children=(HTML(value=''), FloatProgress(value=0.0, max=355.0), HTML(value='')))"
      ]
     },
     "metadata": {},
     "output_type": "display_data"
    },
    {
     "name": "stdout",
     "output_type": "stream",
     "text": [
      "\n"
     ]
    },
    {
     "data": {
      "application/vnd.jupyter.widget-view+json": {
       "model_id": "2cce3a018c0a4b2e88c562b2f703b438",
       "version_major": 2,
       "version_minor": 0
      },
      "text/plain": [
       "HBox(children=(HTML(value=''), FloatProgress(value=0.0, max=313.0), HTML(value='')))"
      ]
     },
     "metadata": {},
     "output_type": "display_data"
    },
    {
     "name": "stdout",
     "output_type": "stream",
     "text": [
      "\n"
     ]
    },
    {
     "data": {
      "application/vnd.jupyter.widget-view+json": {
       "model_id": "580a8f50e4654787b5f22194105712f3",
       "version_major": 2,
       "version_minor": 0
      },
      "text/plain": [
       "HBox(children=(HTML(value=''), FloatProgress(value=0.0, max=325.0), HTML(value='')))"
      ]
     },
     "metadata": {},
     "output_type": "display_data"
    },
    {
     "name": "stdout",
     "output_type": "stream",
     "text": [
      "\n"
     ]
    },
    {
     "data": {
      "application/vnd.jupyter.widget-view+json": {
       "model_id": "17d290315127481c8e06df96e71d8ca6",
       "version_major": 2,
       "version_minor": 0
      },
      "text/plain": [
       "HBox(children=(HTML(value=''), FloatProgress(value=0.0, max=314.0), HTML(value='')))"
      ]
     },
     "metadata": {},
     "output_type": "display_data"
    },
    {
     "name": "stdout",
     "output_type": "stream",
     "text": [
      "\n"
     ]
    },
    {
     "data": {
      "application/vnd.jupyter.widget-view+json": {
       "model_id": "acd7b65c48854484941cfda442c1e73b",
       "version_major": 2,
       "version_minor": 0
      },
      "text/plain": [
       "HBox(children=(HTML(value=''), FloatProgress(value=0.0, max=349.0), HTML(value='')))"
      ]
     },
     "metadata": {},
     "output_type": "display_data"
    },
    {
     "name": "stdout",
     "output_type": "stream",
     "text": [
      "\n"
     ]
    },
    {
     "data": {
      "application/vnd.jupyter.widget-view+json": {
       "model_id": "71486a2c1e3b4bcdb194977de232399f",
       "version_major": 2,
       "version_minor": 0
      },
      "text/plain": [
       "HBox(children=(HTML(value=''), FloatProgress(value=0.0, max=290.0), HTML(value='')))"
      ]
     },
     "metadata": {},
     "output_type": "display_data"
    },
    {
     "name": "stdout",
     "output_type": "stream",
     "text": [
      "\n"
     ]
    },
    {
     "data": {
      "application/vnd.jupyter.widget-view+json": {
       "model_id": "a06400d68cfe4b859541b130bf0134fc",
       "version_major": 2,
       "version_minor": 0
      },
      "text/plain": [
       "HBox(children=(HTML(value=''), FloatProgress(value=0.0, max=334.0), HTML(value='')))"
      ]
     },
     "metadata": {},
     "output_type": "display_data"
    },
    {
     "name": "stdout",
     "output_type": "stream",
     "text": [
      "\n"
     ]
    },
    {
     "data": {
      "application/vnd.jupyter.widget-view+json": {
       "model_id": "0b4ff83a718e4b76bfdf452586e745bb",
       "version_major": 2,
       "version_minor": 0
      },
      "text/plain": [
       "HBox(children=(HTML(value=''), FloatProgress(value=0.0, max=350.0), HTML(value='')))"
      ]
     },
     "metadata": {},
     "output_type": "display_data"
    },
    {
     "name": "stdout",
     "output_type": "stream",
     "text": [
      "\n"
     ]
    },
    {
     "data": {
      "application/vnd.jupyter.widget-view+json": {
       "model_id": "e4a9836041dc4694a76e4a3a18e4fdc1",
       "version_major": 2,
       "version_minor": 0
      },
      "text/plain": [
       "HBox(children=(HTML(value=''), FloatProgress(value=0.0, max=337.0), HTML(value='')))"
      ]
     },
     "metadata": {},
     "output_type": "display_data"
    },
    {
     "name": "stdout",
     "output_type": "stream",
     "text": [
      "\n"
     ]
    },
    {
     "data": {
      "application/vnd.jupyter.widget-view+json": {
       "model_id": "09cfc53355674de89345a4f98696d4ec",
       "version_major": 2,
       "version_minor": 0
      },
      "text/plain": [
       "HBox(children=(HTML(value=''), FloatProgress(value=0.0, max=367.0), HTML(value='')))"
      ]
     },
     "metadata": {},
     "output_type": "display_data"
    },
    {
     "name": "stdout",
     "output_type": "stream",
     "text": [
      "\n"
     ]
    },
    {
     "data": {
      "application/vnd.jupyter.widget-view+json": {
       "model_id": "e8759ac7aef84fe7a84c66480b3284a7",
       "version_major": 2,
       "version_minor": 0
      },
      "text/plain": [
       "HBox(children=(HTML(value=''), FloatProgress(value=0.0, max=351.0), HTML(value='')))"
      ]
     },
     "metadata": {},
     "output_type": "display_data"
    },
    {
     "name": "stdout",
     "output_type": "stream",
     "text": [
      "\n"
     ]
    },
    {
     "data": {
      "application/vnd.jupyter.widget-view+json": {
       "model_id": "8002486d67e141c199b533e02d82f482",
       "version_major": 2,
       "version_minor": 0
      },
      "text/plain": [
       "HBox(children=(HTML(value=''), FloatProgress(value=0.0, max=344.0), HTML(value='')))"
      ]
     },
     "metadata": {},
     "output_type": "display_data"
    },
    {
     "name": "stdout",
     "output_type": "stream",
     "text": [
      "\n"
     ]
    },
    {
     "data": {
      "application/vnd.jupyter.widget-view+json": {
       "model_id": "642d4e7385934d4f9a3a45428d167cbb",
       "version_major": 2,
       "version_minor": 0
      },
      "text/plain": [
       "HBox(children=(HTML(value=''), FloatProgress(value=0.0, max=322.0), HTML(value='')))"
      ]
     },
     "metadata": {},
     "output_type": "display_data"
    },
    {
     "name": "stdout",
     "output_type": "stream",
     "text": [
      "\n"
     ]
    },
    {
     "data": {
      "application/vnd.jupyter.widget-view+json": {
       "model_id": "8665f6baf3ba43eb8d3a34c04ee42057",
       "version_major": 2,
       "version_minor": 0
      },
      "text/plain": [
       "HBox(children=(HTML(value=''), FloatProgress(value=0.0, max=277.0), HTML(value='')))"
      ]
     },
     "metadata": {},
     "output_type": "display_data"
    },
    {
     "name": "stdout",
     "output_type": "stream",
     "text": [
      "\n"
     ]
    },
    {
     "data": {
      "application/vnd.jupyter.widget-view+json": {
       "model_id": "01f4510a0b21466892e9311b026ef107",
       "version_major": 2,
       "version_minor": 0
      },
      "text/plain": [
       "HBox(children=(HTML(value=''), FloatProgress(value=0.0, max=303.0), HTML(value='')))"
      ]
     },
     "metadata": {},
     "output_type": "display_data"
    },
    {
     "name": "stdout",
     "output_type": "stream",
     "text": [
      "\n"
     ]
    },
    {
     "data": {
      "application/vnd.jupyter.widget-view+json": {
       "model_id": "c844032a051f4168954c9f9a3427420b",
       "version_major": 2,
       "version_minor": 0
      },
      "text/plain": [
       "HBox(children=(HTML(value=''), FloatProgress(value=0.0, max=292.0), HTML(value='')))"
      ]
     },
     "metadata": {},
     "output_type": "display_data"
    },
    {
     "name": "stdout",
     "output_type": "stream",
     "text": [
      "\n"
     ]
    },
    {
     "data": {
      "application/vnd.jupyter.widget-view+json": {
       "model_id": "5ba169eed19f4a5e88813960fa93aaf5",
       "version_major": 2,
       "version_minor": 0
      },
      "text/plain": [
       "HBox(children=(HTML(value=''), FloatProgress(value=0.0, max=327.0), HTML(value='')))"
      ]
     },
     "metadata": {},
     "output_type": "display_data"
    },
    {
     "name": "stdout",
     "output_type": "stream",
     "text": [
      "\n"
     ]
    },
    {
     "data": {
      "application/vnd.jupyter.widget-view+json": {
       "model_id": "0c775af40b26424d93a3e289f83b87da",
       "version_major": 2,
       "version_minor": 0
      },
      "text/plain": [
       "HBox(children=(HTML(value=''), FloatProgress(value=0.0, max=318.0), HTML(value='')))"
      ]
     },
     "metadata": {},
     "output_type": "display_data"
    },
    {
     "name": "stdout",
     "output_type": "stream",
     "text": [
      "\n"
     ]
    },
    {
     "data": {
      "application/vnd.jupyter.widget-view+json": {
       "model_id": "e7afdc9cc4134c8fab2204f99eace6fa",
       "version_major": 2,
       "version_minor": 0
      },
      "text/plain": [
       "HBox(children=(HTML(value=''), FloatProgress(value=0.0, max=306.0), HTML(value='')))"
      ]
     },
     "metadata": {},
     "output_type": "display_data"
    },
    {
     "name": "stdout",
     "output_type": "stream",
     "text": [
      "\n"
     ]
    },
    {
     "data": {
      "application/vnd.jupyter.widget-view+json": {
       "model_id": "c6ed129660e744579d53fca141423266",
       "version_major": 2,
       "version_minor": 0
      },
      "text/plain": [
       "HBox(children=(HTML(value=''), FloatProgress(value=0.0, max=286.0), HTML(value='')))"
      ]
     },
     "metadata": {},
     "output_type": "display_data"
    },
    {
     "name": "stdout",
     "output_type": "stream",
     "text": [
      "\n"
     ]
    },
    {
     "data": {
      "application/vnd.jupyter.widget-view+json": {
       "model_id": "b4b6edcedac24cab917ca754a95de58f",
       "version_major": 2,
       "version_minor": 0
      },
      "text/plain": [
       "HBox(children=(HTML(value=''), FloatProgress(value=0.0, max=303.0), HTML(value='')))"
      ]
     },
     "metadata": {},
     "output_type": "display_data"
    },
    {
     "name": "stdout",
     "output_type": "stream",
     "text": [
      "\n"
     ]
    },
    {
     "data": {
      "application/vnd.jupyter.widget-view+json": {
       "model_id": "e3bc7a173ac741e791f2c16364f71f5e",
       "version_major": 2,
       "version_minor": 0
      },
      "text/plain": [
       "HBox(children=(HTML(value=''), FloatProgress(value=0.0, max=307.0), HTML(value='')))"
      ]
     },
     "metadata": {},
     "output_type": "display_data"
    },
    {
     "name": "stdout",
     "output_type": "stream",
     "text": [
      "\n"
     ]
    },
    {
     "data": {
      "application/vnd.jupyter.widget-view+json": {
       "model_id": "64c47fcec69a4a42adaec5c3256ccd8d",
       "version_major": 2,
       "version_minor": 0
      },
      "text/plain": [
       "HBox(children=(HTML(value=''), FloatProgress(value=0.0, max=289.0), HTML(value='')))"
      ]
     },
     "metadata": {},
     "output_type": "display_data"
    },
    {
     "name": "stdout",
     "output_type": "stream",
     "text": [
      "\n"
     ]
    },
    {
     "data": {
      "application/vnd.jupyter.widget-view+json": {
       "model_id": "c9b3c898c5a9454bb30cf77f30e26026",
       "version_major": 2,
       "version_minor": 0
      },
      "text/plain": [
       "HBox(children=(HTML(value=''), FloatProgress(value=0.0, max=339.0), HTML(value='')))"
      ]
     },
     "metadata": {},
     "output_type": "display_data"
    },
    {
     "name": "stdout",
     "output_type": "stream",
     "text": [
      "\n"
     ]
    },
    {
     "data": {
      "application/vnd.jupyter.widget-view+json": {
       "model_id": "bb02140ff99b4c4d841b29ea775a2538",
       "version_major": 2,
       "version_minor": 0
      },
      "text/plain": [
       "HBox(children=(HTML(value=''), FloatProgress(value=0.0, max=338.0), HTML(value='')))"
      ]
     },
     "metadata": {},
     "output_type": "display_data"
    },
    {
     "name": "stdout",
     "output_type": "stream",
     "text": [
      "\n"
     ]
    },
    {
     "data": {
      "application/vnd.jupyter.widget-view+json": {
       "model_id": "323db72c3236413ab96ad937701fd363",
       "version_major": 2,
       "version_minor": 0
      },
      "text/plain": [
       "HBox(children=(HTML(value=''), FloatProgress(value=0.0, max=304.0), HTML(value='')))"
      ]
     },
     "metadata": {},
     "output_type": "display_data"
    },
    {
     "name": "stdout",
     "output_type": "stream",
     "text": [
      "\n"
     ]
    },
    {
     "data": {
      "application/vnd.jupyter.widget-view+json": {
       "model_id": "b093ffe5990d4eaeba7453f2830a111a",
       "version_major": 2,
       "version_minor": 0
      },
      "text/plain": [
       "HBox(children=(HTML(value=''), FloatProgress(value=0.0, max=306.0), HTML(value='')))"
      ]
     },
     "metadata": {},
     "output_type": "display_data"
    },
    {
     "name": "stdout",
     "output_type": "stream",
     "text": [
      "\n"
     ]
    },
    {
     "data": {
      "application/vnd.jupyter.widget-view+json": {
       "model_id": "b004058d1dc44d56a139a5c28f8cc33b",
       "version_major": 2,
       "version_minor": 0
      },
      "text/plain": [
       "HBox(children=(HTML(value=''), FloatProgress(value=0.0, max=314.0), HTML(value='')))"
      ]
     },
     "metadata": {},
     "output_type": "display_data"
    },
    {
     "name": "stdout",
     "output_type": "stream",
     "text": [
      "\n"
     ]
    },
    {
     "data": {
      "application/vnd.jupyter.widget-view+json": {
       "model_id": "9a4594db93084ed1bc6492dc37e7bbc7",
       "version_major": 2,
       "version_minor": 0
      },
      "text/plain": [
       "HBox(children=(HTML(value=''), FloatProgress(value=0.0, max=294.0), HTML(value='')))"
      ]
     },
     "metadata": {},
     "output_type": "display_data"
    },
    {
     "name": "stdout",
     "output_type": "stream",
     "text": [
      "\n"
     ]
    },
    {
     "data": {
      "application/vnd.jupyter.widget-view+json": {
       "model_id": "b0e01ac9a1aa4109a8d3a7a0b9f6067d",
       "version_major": 2,
       "version_minor": 0
      },
      "text/plain": [
       "HBox(children=(HTML(value=''), FloatProgress(value=0.0, max=333.0), HTML(value='')))"
      ]
     },
     "metadata": {},
     "output_type": "display_data"
    },
    {
     "name": "stdout",
     "output_type": "stream",
     "text": [
      "\n"
     ]
    },
    {
     "data": {
      "application/vnd.jupyter.widget-view+json": {
       "model_id": "955bc18b36894ffd982c9b857d913a96",
       "version_major": 2,
       "version_minor": 0
      },
      "text/plain": [
       "HBox(children=(HTML(value=''), FloatProgress(value=0.0, max=283.0), HTML(value='')))"
      ]
     },
     "metadata": {},
     "output_type": "display_data"
    },
    {
     "name": "stdout",
     "output_type": "stream",
     "text": [
      "\n"
     ]
    },
    {
     "data": {
      "application/vnd.jupyter.widget-view+json": {
       "model_id": "3d213df70c484aef96d3023ee2699e43",
       "version_major": 2,
       "version_minor": 0
      },
      "text/plain": [
       "HBox(children=(HTML(value=''), FloatProgress(value=0.0, max=359.0), HTML(value='')))"
      ]
     },
     "metadata": {},
     "output_type": "display_data"
    },
    {
     "name": "stdout",
     "output_type": "stream",
     "text": [
      "\n"
     ]
    },
    {
     "data": {
      "application/vnd.jupyter.widget-view+json": {
       "model_id": "a782f6a33ab240b5931aa09abba7e70a",
       "version_major": 2,
       "version_minor": 0
      },
      "text/plain": [
       "HBox(children=(HTML(value=''), FloatProgress(value=0.0, max=363.0), HTML(value='')))"
      ]
     },
     "metadata": {},
     "output_type": "display_data"
    },
    {
     "name": "stdout",
     "output_type": "stream",
     "text": [
      "\n"
     ]
    },
    {
     "data": {
      "application/vnd.jupyter.widget-view+json": {
       "model_id": "f79a8bfd61bc45cd85550ae1056775ac",
       "version_major": 2,
       "version_minor": 0
      },
      "text/plain": [
       "HBox(children=(HTML(value=''), FloatProgress(value=0.0, max=310.0), HTML(value='')))"
      ]
     },
     "metadata": {},
     "output_type": "display_data"
    },
    {
     "name": "stdout",
     "output_type": "stream",
     "text": [
      "\n"
     ]
    },
    {
     "data": {
      "application/vnd.jupyter.widget-view+json": {
       "model_id": "aa0b833ac36845a3879b64b35b6aa0fa",
       "version_major": 2,
       "version_minor": 0
      },
      "text/plain": [
       "HBox(children=(HTML(value=''), FloatProgress(value=0.0, max=300.0), HTML(value='')))"
      ]
     },
     "metadata": {},
     "output_type": "display_data"
    },
    {
     "name": "stdout",
     "output_type": "stream",
     "text": [
      "\n"
     ]
    },
    {
     "data": {
      "application/vnd.jupyter.widget-view+json": {
       "model_id": "c2601205dd354cfd9d7ba92a37329e1a",
       "version_major": 2,
       "version_minor": 0
      },
      "text/plain": [
       "HBox(children=(HTML(value=''), FloatProgress(value=0.0, max=353.0), HTML(value='')))"
      ]
     },
     "metadata": {},
     "output_type": "display_data"
    },
    {
     "name": "stdout",
     "output_type": "stream",
     "text": [
      "\n"
     ]
    },
    {
     "data": {
      "application/vnd.jupyter.widget-view+json": {
       "model_id": "a34a216a58f64237a7ffbbd9a01a7b73",
       "version_major": 2,
       "version_minor": 0
      },
      "text/plain": [
       "HBox(children=(HTML(value=''), FloatProgress(value=0.0, max=325.0), HTML(value='')))"
      ]
     },
     "metadata": {},
     "output_type": "display_data"
    },
    {
     "name": "stdout",
     "output_type": "stream",
     "text": [
      "\n"
     ]
    },
    {
     "data": {
      "application/vnd.jupyter.widget-view+json": {
       "model_id": "92eca6548eab464985394dc83c7e07f4",
       "version_major": 2,
       "version_minor": 0
      },
      "text/plain": [
       "HBox(children=(HTML(value=''), FloatProgress(value=0.0, max=336.0), HTML(value='')))"
      ]
     },
     "metadata": {},
     "output_type": "display_data"
    },
    {
     "name": "stdout",
     "output_type": "stream",
     "text": [
      "\n"
     ]
    },
    {
     "data": {
      "application/vnd.jupyter.widget-view+json": {
       "model_id": "2d1d4b6394b04562921697acd2f8d214",
       "version_major": 2,
       "version_minor": 0
      },
      "text/plain": [
       "HBox(children=(HTML(value=''), FloatProgress(value=0.0, max=300.0), HTML(value='')))"
      ]
     },
     "metadata": {},
     "output_type": "display_data"
    },
    {
     "name": "stdout",
     "output_type": "stream",
     "text": [
      "\n"
     ]
    },
    {
     "data": {
      "application/vnd.jupyter.widget-view+json": {
       "model_id": "e822abc277f840738e51cf42840e0c7d",
       "version_major": 2,
       "version_minor": 0
      },
      "text/plain": [
       "HBox(children=(HTML(value=''), FloatProgress(value=0.0, max=306.0), HTML(value='')))"
      ]
     },
     "metadata": {},
     "output_type": "display_data"
    },
    {
     "name": "stdout",
     "output_type": "stream",
     "text": [
      "\n"
     ]
    },
    {
     "data": {
      "application/vnd.jupyter.widget-view+json": {
       "model_id": "385d3f15597d4bbc9224be6f31949484",
       "version_major": 2,
       "version_minor": 0
      },
      "text/plain": [
       "HBox(children=(HTML(value=''), FloatProgress(value=0.0, max=327.0), HTML(value='')))"
      ]
     },
     "metadata": {},
     "output_type": "display_data"
    },
    {
     "name": "stdout",
     "output_type": "stream",
     "text": [
      "\n"
     ]
    },
    {
     "data": {
      "application/vnd.jupyter.widget-view+json": {
       "model_id": "d59fd60a9b5c4c45a78db356a49ce899",
       "version_major": 2,
       "version_minor": 0
      },
      "text/plain": [
       "HBox(children=(HTML(value=''), FloatProgress(value=0.0, max=248.0), HTML(value='')))"
      ]
     },
     "metadata": {},
     "output_type": "display_data"
    },
    {
     "name": "stdout",
     "output_type": "stream",
     "text": [
      "\n"
     ]
    },
    {
     "data": {
      "application/vnd.jupyter.widget-view+json": {
       "model_id": "1c19ad060ef04a57878ac7fdcae154cf",
       "version_major": 2,
       "version_minor": 0
      },
      "text/plain": [
       "HBox(children=(HTML(value=''), FloatProgress(value=0.0, max=312.0), HTML(value='')))"
      ]
     },
     "metadata": {},
     "output_type": "display_data"
    },
    {
     "name": "stdout",
     "output_type": "stream",
     "text": [
      "\n"
     ]
    },
    {
     "data": {
      "application/vnd.jupyter.widget-view+json": {
       "model_id": "51d9a1a81e4644c1add4a80c65e172d5",
       "version_major": 2,
       "version_minor": 0
      },
      "text/plain": [
       "HBox(children=(HTML(value=''), FloatProgress(value=0.0, max=338.0), HTML(value='')))"
      ]
     },
     "metadata": {},
     "output_type": "display_data"
    },
    {
     "name": "stdout",
     "output_type": "stream",
     "text": [
      "\n"
     ]
    },
    {
     "data": {
      "application/vnd.jupyter.widget-view+json": {
       "model_id": "897ca4795d34480eae867ba0253ab494",
       "version_major": 2,
       "version_minor": 0
      },
      "text/plain": [
       "HBox(children=(HTML(value=''), FloatProgress(value=0.0, max=300.0), HTML(value='')))"
      ]
     },
     "metadata": {},
     "output_type": "display_data"
    },
    {
     "name": "stdout",
     "output_type": "stream",
     "text": [
      "\n"
     ]
    },
    {
     "data": {
      "application/vnd.jupyter.widget-view+json": {
       "model_id": "1df8899a7caf480eb1f0d267336537ac",
       "version_major": 2,
       "version_minor": 0
      },
      "text/plain": [
       "HBox(children=(HTML(value=''), FloatProgress(value=0.0, max=268.0), HTML(value='')))"
      ]
     },
     "metadata": {},
     "output_type": "display_data"
    },
    {
     "name": "stdout",
     "output_type": "stream",
     "text": [
      "\n"
     ]
    },
    {
     "data": {
      "application/vnd.jupyter.widget-view+json": {
       "model_id": "c8ec862a4fa84d89979a031fe9e53b60",
       "version_major": 2,
       "version_minor": 0
      },
      "text/plain": [
       "HBox(children=(HTML(value=''), FloatProgress(value=0.0, max=280.0), HTML(value='')))"
      ]
     },
     "metadata": {},
     "output_type": "display_data"
    },
    {
     "name": "stdout",
     "output_type": "stream",
     "text": [
      "\n"
     ]
    },
    {
     "data": {
      "application/vnd.jupyter.widget-view+json": {
       "model_id": "310fafcaeea14c0a9a1d1782a3b0a48a",
       "version_major": 2,
       "version_minor": 0
      },
      "text/plain": [
       "HBox(children=(HTML(value=''), FloatProgress(value=0.0, max=293.0), HTML(value='')))"
      ]
     },
     "metadata": {},
     "output_type": "display_data"
    },
    {
     "name": "stdout",
     "output_type": "stream",
     "text": [
      "\n"
     ]
    },
    {
     "data": {
      "application/vnd.jupyter.widget-view+json": {
       "model_id": "ccdaf8104fe64f01a69c8e7567528ec9",
       "version_major": 2,
       "version_minor": 0
      },
      "text/plain": [
       "HBox(children=(HTML(value=''), FloatProgress(value=0.0, max=331.0), HTML(value='')))"
      ]
     },
     "metadata": {},
     "output_type": "display_data"
    },
    {
     "name": "stdout",
     "output_type": "stream",
     "text": [
      "\n"
     ]
    },
    {
     "data": {
      "application/vnd.jupyter.widget-view+json": {
       "model_id": "ec86ae8c0f2d415498f356a0945796bd",
       "version_major": 2,
       "version_minor": 0
      },
      "text/plain": [
       "HBox(children=(HTML(value=''), FloatProgress(value=0.0, max=284.0), HTML(value='')))"
      ]
     },
     "metadata": {},
     "output_type": "display_data"
    },
    {
     "name": "stdout",
     "output_type": "stream",
     "text": [
      "\n"
     ]
    },
    {
     "data": {
      "application/vnd.jupyter.widget-view+json": {
       "model_id": "adde557307ce4fbbb482220ac1229706",
       "version_major": 2,
       "version_minor": 0
      },
      "text/plain": [
       "HBox(children=(HTML(value=''), FloatProgress(value=0.0, max=346.0), HTML(value='')))"
      ]
     },
     "metadata": {},
     "output_type": "display_data"
    },
    {
     "name": "stdout",
     "output_type": "stream",
     "text": [
      "\n"
     ]
    },
    {
     "data": {
      "application/vnd.jupyter.widget-view+json": {
       "model_id": "2a99b2767c0d415a8583d767c5d35b72",
       "version_major": 2,
       "version_minor": 0
      },
      "text/plain": [
       "HBox(children=(HTML(value=''), FloatProgress(value=0.0, max=310.0), HTML(value='')))"
      ]
     },
     "metadata": {},
     "output_type": "display_data"
    },
    {
     "name": "stdout",
     "output_type": "stream",
     "text": [
      "\n"
     ]
    },
    {
     "data": {
      "application/vnd.jupyter.widget-view+json": {
       "model_id": "1d440edce9e64b4ea7d165d9ddfa9bdf",
       "version_major": 2,
       "version_minor": 0
      },
      "text/plain": [
       "HBox(children=(HTML(value=''), FloatProgress(value=0.0, max=290.0), HTML(value='')))"
      ]
     },
     "metadata": {},
     "output_type": "display_data"
    },
    {
     "name": "stdout",
     "output_type": "stream",
     "text": [
      "\n"
     ]
    },
    {
     "data": {
      "application/vnd.jupyter.widget-view+json": {
       "model_id": "36b3c52d5cb54836a8bf90924dd95eff",
       "version_major": 2,
       "version_minor": 0
      },
      "text/plain": [
       "HBox(children=(HTML(value=''), FloatProgress(value=0.0, max=363.0), HTML(value='')))"
      ]
     },
     "metadata": {},
     "output_type": "display_data"
    },
    {
     "name": "stdout",
     "output_type": "stream",
     "text": [
      "\n"
     ]
    },
    {
     "data": {
      "application/vnd.jupyter.widget-view+json": {
       "model_id": "d67d85f5b21f4eb585dcf82d75d57a07",
       "version_major": 2,
       "version_minor": 0
      },
      "text/plain": [
       "HBox(children=(HTML(value=''), FloatProgress(value=0.0, max=246.0), HTML(value='')))"
      ]
     },
     "metadata": {},
     "output_type": "display_data"
    },
    {
     "name": "stdout",
     "output_type": "stream",
     "text": [
      "\n"
     ]
    },
    {
     "data": {
      "application/vnd.jupyter.widget-view+json": {
       "model_id": "633e3106e81940a09e759f0e59fa5d38",
       "version_major": 2,
       "version_minor": 0
      },
      "text/plain": [
       "HBox(children=(HTML(value=''), FloatProgress(value=0.0, max=287.0), HTML(value='')))"
      ]
     },
     "metadata": {},
     "output_type": "display_data"
    },
    {
     "name": "stdout",
     "output_type": "stream",
     "text": [
      "\n"
     ]
    },
    {
     "data": {
      "application/vnd.jupyter.widget-view+json": {
       "model_id": "3eaf63526ce845a5ba7ac38fc612283a",
       "version_major": 2,
       "version_minor": 0
      },
      "text/plain": [
       "HBox(children=(HTML(value=''), FloatProgress(value=0.0, max=273.0), HTML(value='')))"
      ]
     },
     "metadata": {},
     "output_type": "display_data"
    },
    {
     "name": "stdout",
     "output_type": "stream",
     "text": [
      "\n"
     ]
    },
    {
     "data": {
      "application/vnd.jupyter.widget-view+json": {
       "model_id": "385c5e5844734beeb5ed3a66540bf066",
       "version_major": 2,
       "version_minor": 0
      },
      "text/plain": [
       "HBox(children=(HTML(value=''), FloatProgress(value=0.0, max=286.0), HTML(value='')))"
      ]
     },
     "metadata": {},
     "output_type": "display_data"
    },
    {
     "name": "stdout",
     "output_type": "stream",
     "text": [
      "\n"
     ]
    },
    {
     "data": {
      "application/vnd.jupyter.widget-view+json": {
       "model_id": "ce24b394dc934971ba6c2c5765cf3420",
       "version_major": 2,
       "version_minor": 0
      },
      "text/plain": [
       "HBox(children=(HTML(value=''), FloatProgress(value=0.0, max=249.0), HTML(value='')))"
      ]
     },
     "metadata": {},
     "output_type": "display_data"
    },
    {
     "name": "stdout",
     "output_type": "stream",
     "text": [
      "\n"
     ]
    },
    {
     "data": {
      "application/vnd.jupyter.widget-view+json": {
       "model_id": "b71c4a492eaa42d0adfcdcdf0c4d0954",
       "version_major": 2,
       "version_minor": 0
      },
      "text/plain": [
       "HBox(children=(HTML(value=''), FloatProgress(value=0.0, max=341.0), HTML(value='')))"
      ]
     },
     "metadata": {},
     "output_type": "display_data"
    },
    {
     "name": "stdout",
     "output_type": "stream",
     "text": [
      "\n"
     ]
    },
    {
     "data": {
      "application/vnd.jupyter.widget-view+json": {
       "model_id": "5a3496cfd86b4ab0a86330e86767c1f1",
       "version_major": 2,
       "version_minor": 0
      },
      "text/plain": [
       "HBox(children=(HTML(value=''), FloatProgress(value=0.0, max=316.0), HTML(value='')))"
      ]
     },
     "metadata": {},
     "output_type": "display_data"
    },
    {
     "name": "stdout",
     "output_type": "stream",
     "text": [
      "\n"
     ]
    },
    {
     "data": {
      "application/vnd.jupyter.widget-view+json": {
       "model_id": "917eb84628384c88aecad43f30f64357",
       "version_major": 2,
       "version_minor": 0
      },
      "text/plain": [
       "HBox(children=(HTML(value=''), FloatProgress(value=0.0, max=303.0), HTML(value='')))"
      ]
     },
     "metadata": {},
     "output_type": "display_data"
    },
    {
     "name": "stdout",
     "output_type": "stream",
     "text": [
      "\n"
     ]
    },
    {
     "data": {
      "application/vnd.jupyter.widget-view+json": {
       "model_id": "ac367386d33d469ca82023a5ef60cc61",
       "version_major": 2,
       "version_minor": 0
      },
      "text/plain": [
       "HBox(children=(HTML(value=''), FloatProgress(value=0.0, max=297.0), HTML(value='')))"
      ]
     },
     "metadata": {},
     "output_type": "display_data"
    },
    {
     "name": "stdout",
     "output_type": "stream",
     "text": [
      "\n"
     ]
    },
    {
     "data": {
      "application/vnd.jupyter.widget-view+json": {
       "model_id": "80906ad7b15f4521b5c766bcabe017ec",
       "version_major": 2,
       "version_minor": 0
      },
      "text/plain": [
       "HBox(children=(HTML(value=''), FloatProgress(value=0.0, max=259.0), HTML(value='')))"
      ]
     },
     "metadata": {},
     "output_type": "display_data"
    },
    {
     "name": "stdout",
     "output_type": "stream",
     "text": [
      "\n"
     ]
    },
    {
     "data": {
      "application/vnd.jupyter.widget-view+json": {
       "model_id": "72e6e01ac9a84c018be6a4a6a0df33ce",
       "version_major": 2,
       "version_minor": 0
      },
      "text/plain": [
       "HBox(children=(HTML(value=''), FloatProgress(value=0.0, max=286.0), HTML(value='')))"
      ]
     },
     "metadata": {},
     "output_type": "display_data"
    },
    {
     "name": "stdout",
     "output_type": "stream",
     "text": [
      "\n"
     ]
    },
    {
     "data": {
      "application/vnd.jupyter.widget-view+json": {
       "model_id": "dd15e42c7965482bbe0d7c9004fd9515",
       "version_major": 2,
       "version_minor": 0
      },
      "text/plain": [
       "HBox(children=(HTML(value=''), FloatProgress(value=0.0, max=299.0), HTML(value='')))"
      ]
     },
     "metadata": {},
     "output_type": "display_data"
    },
    {
     "name": "stdout",
     "output_type": "stream",
     "text": [
      "\n"
     ]
    },
    {
     "data": {
      "application/vnd.jupyter.widget-view+json": {
       "model_id": "86b1a027576a4417a978787ceef6269c",
       "version_major": 2,
       "version_minor": 0
      },
      "text/plain": [
       "HBox(children=(HTML(value=''), FloatProgress(value=0.0, max=250.0), HTML(value='')))"
      ]
     },
     "metadata": {},
     "output_type": "display_data"
    },
    {
     "name": "stdout",
     "output_type": "stream",
     "text": [
      "\n"
     ]
    },
    {
     "data": {
      "application/vnd.jupyter.widget-view+json": {
       "model_id": "16e85a6499fc4dd3bcdbdb9d980d3cf0",
       "version_major": 2,
       "version_minor": 0
      },
      "text/plain": [
       "HBox(children=(HTML(value=''), FloatProgress(value=0.0, max=352.0), HTML(value='')))"
      ]
     },
     "metadata": {},
     "output_type": "display_data"
    },
    {
     "name": "stdout",
     "output_type": "stream",
     "text": [
      "\n"
     ]
    },
    {
     "data": {
      "application/vnd.jupyter.widget-view+json": {
       "model_id": "3d8cf4e1c5ff4f4fb6dd117f82f464b1",
       "version_major": 2,
       "version_minor": 0
      },
      "text/plain": [
       "HBox(children=(HTML(value=''), FloatProgress(value=0.0, max=267.0), HTML(value='')))"
      ]
     },
     "metadata": {},
     "output_type": "display_data"
    },
    {
     "name": "stdout",
     "output_type": "stream",
     "text": [
      "\n"
     ]
    },
    {
     "data": {
      "application/vnd.jupyter.widget-view+json": {
       "model_id": "84129ff1806f47cc907cd538db257c7e",
       "version_major": 2,
       "version_minor": 0
      },
      "text/plain": [
       "HBox(children=(HTML(value=''), FloatProgress(value=0.0, max=257.0), HTML(value='')))"
      ]
     },
     "metadata": {},
     "output_type": "display_data"
    },
    {
     "name": "stdout",
     "output_type": "stream",
     "text": [
      "\n"
     ]
    },
    {
     "data": {
      "application/vnd.jupyter.widget-view+json": {
       "model_id": "f455cd40adfe422dbb19e22987ae000e",
       "version_major": 2,
       "version_minor": 0
      },
      "text/plain": [
       "HBox(children=(HTML(value=''), FloatProgress(value=0.0, max=250.0), HTML(value='')))"
      ]
     },
     "metadata": {},
     "output_type": "display_data"
    },
    {
     "name": "stdout",
     "output_type": "stream",
     "text": [
      "\n"
     ]
    },
    {
     "data": {
      "application/vnd.jupyter.widget-view+json": {
       "model_id": "06f6280370cf4a1bb71ce593e2d63d23",
       "version_major": 2,
       "version_minor": 0
      },
      "text/plain": [
       "HBox(children=(HTML(value=''), FloatProgress(value=0.0, max=276.0), HTML(value='')))"
      ]
     },
     "metadata": {},
     "output_type": "display_data"
    },
    {
     "name": "stdout",
     "output_type": "stream",
     "text": [
      "\n"
     ]
    },
    {
     "data": {
      "application/vnd.jupyter.widget-view+json": {
       "model_id": "5d1b6283ca014c2293e893f66a9bd5e7",
       "version_major": 2,
       "version_minor": 0
      },
      "text/plain": [
       "HBox(children=(HTML(value=''), FloatProgress(value=0.0, max=266.0), HTML(value='')))"
      ]
     },
     "metadata": {},
     "output_type": "display_data"
    },
    {
     "name": "stdout",
     "output_type": "stream",
     "text": [
      "\n"
     ]
    },
    {
     "data": {
      "application/vnd.jupyter.widget-view+json": {
       "model_id": "692822a2b34f473c8e78a08a4ddca03f",
       "version_major": 2,
       "version_minor": 0
      },
      "text/plain": [
       "HBox(children=(HTML(value=''), FloatProgress(value=0.0, max=281.0), HTML(value='')))"
      ]
     },
     "metadata": {},
     "output_type": "display_data"
    },
    {
     "name": "stdout",
     "output_type": "stream",
     "text": [
      "\n"
     ]
    },
    {
     "data": {
      "application/vnd.jupyter.widget-view+json": {
       "model_id": "c1d803e3497641b6a8b6f0ceb086028a",
       "version_major": 2,
       "version_minor": 0
      },
      "text/plain": [
       "HBox(children=(HTML(value=''), FloatProgress(value=0.0, max=271.0), HTML(value='')))"
      ]
     },
     "metadata": {},
     "output_type": "display_data"
    },
    {
     "name": "stdout",
     "output_type": "stream",
     "text": [
      "\n"
     ]
    },
    {
     "data": {
      "application/vnd.jupyter.widget-view+json": {
       "model_id": "e1e1f827ba5e46aa9e78d0d9d595c382",
       "version_major": 2,
       "version_minor": 0
      },
      "text/plain": [
       "HBox(children=(HTML(value=''), FloatProgress(value=0.0, max=327.0), HTML(value='')))"
      ]
     },
     "metadata": {},
     "output_type": "display_data"
    },
    {
     "name": "stdout",
     "output_type": "stream",
     "text": [
      "\n"
     ]
    },
    {
     "data": {
      "application/vnd.jupyter.widget-view+json": {
       "model_id": "9f1281095fa74ceaa332eb84882a277c",
       "version_major": 2,
       "version_minor": 0
      },
      "text/plain": [
       "HBox(children=(HTML(value=''), FloatProgress(value=0.0, max=303.0), HTML(value='')))"
      ]
     },
     "metadata": {},
     "output_type": "display_data"
    },
    {
     "name": "stdout",
     "output_type": "stream",
     "text": [
      "\n"
     ]
    },
    {
     "data": {
      "application/vnd.jupyter.widget-view+json": {
       "model_id": "3a8fdf98876b469a930c3977dcde9ce7",
       "version_major": 2,
       "version_minor": 0
      },
      "text/plain": [
       "HBox(children=(HTML(value=''), FloatProgress(value=0.0, max=292.0), HTML(value='')))"
      ]
     },
     "metadata": {},
     "output_type": "display_data"
    },
    {
     "name": "stdout",
     "output_type": "stream",
     "text": [
      "\n"
     ]
    },
    {
     "data": {
      "application/vnd.jupyter.widget-view+json": {
       "model_id": "d525311b704c41c3bb737ccae54270e4",
       "version_major": 2,
       "version_minor": 0
      },
      "text/plain": [
       "HBox(children=(HTML(value=''), FloatProgress(value=0.0, max=291.0), HTML(value='')))"
      ]
     },
     "metadata": {},
     "output_type": "display_data"
    },
    {
     "name": "stdout",
     "output_type": "stream",
     "text": [
      "\n"
     ]
    },
    {
     "data": {
      "application/vnd.jupyter.widget-view+json": {
       "model_id": "290f322f54124db7bd56e01cdd152c0a",
       "version_major": 2,
       "version_minor": 0
      },
      "text/plain": [
       "HBox(children=(HTML(value=''), FloatProgress(value=0.0, max=285.0), HTML(value='')))"
      ]
     },
     "metadata": {},
     "output_type": "display_data"
    },
    {
     "name": "stdout",
     "output_type": "stream",
     "text": [
      "\n"
     ]
    },
    {
     "data": {
      "application/vnd.jupyter.widget-view+json": {
       "model_id": "017eeacacbde43949eab73e60eabbd44",
       "version_major": 2,
       "version_minor": 0
      },
      "text/plain": [
       "HBox(children=(HTML(value=''), FloatProgress(value=0.0, max=267.0), HTML(value='')))"
      ]
     },
     "metadata": {},
     "output_type": "display_data"
    },
    {
     "name": "stdout",
     "output_type": "stream",
     "text": [
      "\n"
     ]
    },
    {
     "data": {
      "application/vnd.jupyter.widget-view+json": {
       "model_id": "2b68649e57f447f08f0b70161af55804",
       "version_major": 2,
       "version_minor": 0
      },
      "text/plain": [
       "HBox(children=(HTML(value=''), FloatProgress(value=0.0, max=269.0), HTML(value='')))"
      ]
     },
     "metadata": {},
     "output_type": "display_data"
    },
    {
     "name": "stdout",
     "output_type": "stream",
     "text": [
      "\n"
     ]
    },
    {
     "data": {
      "application/vnd.jupyter.widget-view+json": {
       "model_id": "253d7656fa9e459b94c56a6677281be9",
       "version_major": 2,
       "version_minor": 0
      },
      "text/plain": [
       "HBox(children=(HTML(value=''), FloatProgress(value=0.0, max=254.0), HTML(value='')))"
      ]
     },
     "metadata": {},
     "output_type": "display_data"
    },
    {
     "name": "stdout",
     "output_type": "stream",
     "text": [
      "\n"
     ]
    },
    {
     "data": {
      "application/vnd.jupyter.widget-view+json": {
       "model_id": "e1f46d23723a40aea215d991bb0e89e2",
       "version_major": 2,
       "version_minor": 0
      },
      "text/plain": [
       "HBox(children=(HTML(value=''), FloatProgress(value=0.0, max=269.0), HTML(value='')))"
      ]
     },
     "metadata": {},
     "output_type": "display_data"
    },
    {
     "name": "stdout",
     "output_type": "stream",
     "text": [
      "\n"
     ]
    },
    {
     "data": {
      "application/vnd.jupyter.widget-view+json": {
       "model_id": "0ae9b4d173a8498ba6b66b04e42cafd8",
       "version_major": 2,
       "version_minor": 0
      },
      "text/plain": [
       "HBox(children=(HTML(value=''), FloatProgress(value=0.0, max=278.0), HTML(value='')))"
      ]
     },
     "metadata": {},
     "output_type": "display_data"
    },
    {
     "name": "stdout",
     "output_type": "stream",
     "text": [
      "\n"
     ]
    },
    {
     "data": {
      "application/vnd.jupyter.widget-view+json": {
       "model_id": "4e2cb6af7e47417e9a01bb4b045bd62a",
       "version_major": 2,
       "version_minor": 0
      },
      "text/plain": [
       "HBox(children=(HTML(value=''), FloatProgress(value=0.0, max=282.0), HTML(value='')))"
      ]
     },
     "metadata": {},
     "output_type": "display_data"
    },
    {
     "name": "stdout",
     "output_type": "stream",
     "text": [
      "\n"
     ]
    },
    {
     "data": {
      "application/vnd.jupyter.widget-view+json": {
       "model_id": "d2f633103ee44c159e825b153e353323",
       "version_major": 2,
       "version_minor": 0
      },
      "text/plain": [
       "HBox(children=(HTML(value=''), FloatProgress(value=0.0, max=325.0), HTML(value='')))"
      ]
     },
     "metadata": {},
     "output_type": "display_data"
    },
    {
     "name": "stdout",
     "output_type": "stream",
     "text": [
      "\n"
     ]
    },
    {
     "data": {
      "application/vnd.jupyter.widget-view+json": {
       "model_id": "9a439781a7ba45719d2ddb3deb9d4785",
       "version_major": 2,
       "version_minor": 0
      },
      "text/plain": [
       "HBox(children=(HTML(value=''), FloatProgress(value=0.0, max=254.0), HTML(value='')))"
      ]
     },
     "metadata": {},
     "output_type": "display_data"
    },
    {
     "name": "stdout",
     "output_type": "stream",
     "text": [
      "\n"
     ]
    },
    {
     "data": {
      "application/vnd.jupyter.widget-view+json": {
       "model_id": "5ae19e03e67a4d86847c5a3572f06d22",
       "version_major": 2,
       "version_minor": 0
      },
      "text/plain": [
       "HBox(children=(HTML(value=''), FloatProgress(value=0.0, max=323.0), HTML(value='')))"
      ]
     },
     "metadata": {},
     "output_type": "display_data"
    },
    {
     "name": "stdout",
     "output_type": "stream",
     "text": [
      "\n"
     ]
    },
    {
     "data": {
      "application/vnd.jupyter.widget-view+json": {
       "model_id": "9db30abd869a4b91b88a2276f63bca24",
       "version_major": 2,
       "version_minor": 0
      },
      "text/plain": [
       "HBox(children=(HTML(value=''), FloatProgress(value=0.0, max=332.0), HTML(value='')))"
      ]
     },
     "metadata": {},
     "output_type": "display_data"
    },
    {
     "name": "stdout",
     "output_type": "stream",
     "text": [
      "\n"
     ]
    },
    {
     "data": {
      "application/vnd.jupyter.widget-view+json": {
       "model_id": "5fe9c8b0b500452aae4900e68d858d07",
       "version_major": 2,
       "version_minor": 0
      },
      "text/plain": [
       "HBox(children=(HTML(value=''), FloatProgress(value=0.0, max=301.0), HTML(value='')))"
      ]
     },
     "metadata": {},
     "output_type": "display_data"
    },
    {
     "name": "stdout",
     "output_type": "stream",
     "text": [
      "\n"
     ]
    },
    {
     "data": {
      "application/vnd.jupyter.widget-view+json": {
       "model_id": "53a9dd68201a484da8861560deb27f53",
       "version_major": 2,
       "version_minor": 0
      },
      "text/plain": [
       "HBox(children=(HTML(value=''), FloatProgress(value=0.0, max=273.0), HTML(value='')))"
      ]
     },
     "metadata": {},
     "output_type": "display_data"
    },
    {
     "name": "stdout",
     "output_type": "stream",
     "text": [
      "\n"
     ]
    },
    {
     "data": {
      "application/vnd.jupyter.widget-view+json": {
       "model_id": "a36a8a2cdd8b41d69a581368cbfbc3bf",
       "version_major": 2,
       "version_minor": 0
      },
      "text/plain": [
       "HBox(children=(HTML(value=''), FloatProgress(value=0.0, max=308.0), HTML(value='')))"
      ]
     },
     "metadata": {},
     "output_type": "display_data"
    },
    {
     "name": "stdout",
     "output_type": "stream",
     "text": [
      "\n"
     ]
    },
    {
     "data": {
      "application/vnd.jupyter.widget-view+json": {
       "model_id": "47a15e575f1c4928bed9b647f34ad1f9",
       "version_major": 2,
       "version_minor": 0
      },
      "text/plain": [
       "HBox(children=(HTML(value=''), FloatProgress(value=0.0, max=388.0), HTML(value='')))"
      ]
     },
     "metadata": {},
     "output_type": "display_data"
    },
    {
     "name": "stdout",
     "output_type": "stream",
     "text": [
      "\n"
     ]
    },
    {
     "data": {
      "application/vnd.jupyter.widget-view+json": {
       "model_id": "8666e346954941acbc8786f57ce7daf6",
       "version_major": 2,
       "version_minor": 0
      },
      "text/plain": [
       "HBox(children=(HTML(value=''), FloatProgress(value=0.0, max=398.0), HTML(value='')))"
      ]
     },
     "metadata": {},
     "output_type": "display_data"
    },
    {
     "name": "stdout",
     "output_type": "stream",
     "text": [
      "\n"
     ]
    },
    {
     "data": {
      "application/vnd.jupyter.widget-view+json": {
       "model_id": "8ffd924b6e2446779c437ac80b4d369a",
       "version_major": 2,
       "version_minor": 0
      },
      "text/plain": [
       "HBox(children=(HTML(value=''), FloatProgress(value=0.0, max=376.0), HTML(value='')))"
      ]
     },
     "metadata": {},
     "output_type": "display_data"
    },
    {
     "name": "stdout",
     "output_type": "stream",
     "text": [
      "\n"
     ]
    },
    {
     "data": {
      "application/vnd.jupyter.widget-view+json": {
       "model_id": "b68e2b9b18854b43a93b26b7bf1ad011",
       "version_major": 2,
       "version_minor": 0
      },
      "text/plain": [
       "HBox(children=(HTML(value=''), FloatProgress(value=0.0, max=353.0), HTML(value='')))"
      ]
     },
     "metadata": {},
     "output_type": "display_data"
    },
    {
     "name": "stdout",
     "output_type": "stream",
     "text": [
      "\n"
     ]
    },
    {
     "data": {
      "application/vnd.jupyter.widget-view+json": {
       "model_id": "4108e1580276411896ed632dd7c9e2e1",
       "version_major": 2,
       "version_minor": 0
      },
      "text/plain": [
       "HBox(children=(HTML(value=''), FloatProgress(value=0.0, max=317.0), HTML(value='')))"
      ]
     },
     "metadata": {},
     "output_type": "display_data"
    },
    {
     "name": "stdout",
     "output_type": "stream",
     "text": [
      "\n"
     ]
    },
    {
     "data": {
      "application/vnd.jupyter.widget-view+json": {
       "model_id": "a4605413be2741958630d67ea9ad737c",
       "version_major": 2,
       "version_minor": 0
      },
      "text/plain": [
       "HBox(children=(HTML(value=''), FloatProgress(value=0.0, max=346.0), HTML(value='')))"
      ]
     },
     "metadata": {},
     "output_type": "display_data"
    },
    {
     "name": "stdout",
     "output_type": "stream",
     "text": [
      "\n"
     ]
    },
    {
     "data": {
      "application/vnd.jupyter.widget-view+json": {
       "model_id": "37f24ec94f2d42489bf2d68837070485",
       "version_major": 2,
       "version_minor": 0
      },
      "text/plain": [
       "HBox(children=(HTML(value=''), FloatProgress(value=0.0, max=261.0), HTML(value='')))"
      ]
     },
     "metadata": {},
     "output_type": "display_data"
    },
    {
     "name": "stdout",
     "output_type": "stream",
     "text": [
      "\n"
     ]
    },
    {
     "data": {
      "application/vnd.jupyter.widget-view+json": {
       "model_id": "27b03d344dca4702a2af47abd9af469b",
       "version_major": 2,
       "version_minor": 0
      },
      "text/plain": [
       "HBox(children=(HTML(value=''), FloatProgress(value=0.0, max=310.0), HTML(value='')))"
      ]
     },
     "metadata": {},
     "output_type": "display_data"
    },
    {
     "name": "stdout",
     "output_type": "stream",
     "text": [
      "\n"
     ]
    },
    {
     "data": {
      "application/vnd.jupyter.widget-view+json": {
       "model_id": "56ea10558f6a44f38fa7ba96da817777",
       "version_major": 2,
       "version_minor": 0
      },
      "text/plain": [
       "HBox(children=(HTML(value=''), FloatProgress(value=0.0, max=370.0), HTML(value='')))"
      ]
     },
     "metadata": {},
     "output_type": "display_data"
    },
    {
     "name": "stdout",
     "output_type": "stream",
     "text": [
      "\n"
     ]
    },
    {
     "data": {
      "application/vnd.jupyter.widget-view+json": {
       "model_id": "6c2e2a60e1ab4a18915c7e710c6fc1f0",
       "version_major": 2,
       "version_minor": 0
      },
      "text/plain": [
       "HBox(children=(HTML(value=''), FloatProgress(value=0.0, max=368.0), HTML(value='')))"
      ]
     },
     "metadata": {},
     "output_type": "display_data"
    },
    {
     "name": "stdout",
     "output_type": "stream",
     "text": [
      "\n"
     ]
    },
    {
     "data": {
      "application/vnd.jupyter.widget-view+json": {
       "model_id": "2360e075a3a942c49c67b6434c44ba1d",
       "version_major": 2,
       "version_minor": 0
      },
      "text/plain": [
       "HBox(children=(HTML(value=''), FloatProgress(value=0.0, max=356.0), HTML(value='')))"
      ]
     },
     "metadata": {},
     "output_type": "display_data"
    },
    {
     "name": "stdout",
     "output_type": "stream",
     "text": [
      "\n"
     ]
    },
    {
     "data": {
      "application/vnd.jupyter.widget-view+json": {
       "model_id": "ca1899909987469181231402c018077f",
       "version_major": 2,
       "version_minor": 0
      },
      "text/plain": [
       "HBox(children=(HTML(value=''), FloatProgress(value=0.0, max=379.0), HTML(value='')))"
      ]
     },
     "metadata": {},
     "output_type": "display_data"
    },
    {
     "name": "stdout",
     "output_type": "stream",
     "text": [
      "\n"
     ]
    },
    {
     "data": {
      "application/vnd.jupyter.widget-view+json": {
       "model_id": "2c6dc87b727c4d248814ce0c03f78e4c",
       "version_major": 2,
       "version_minor": 0
      },
      "text/plain": [
       "HBox(children=(HTML(value=''), FloatProgress(value=0.0, max=351.0), HTML(value='')))"
      ]
     },
     "metadata": {},
     "output_type": "display_data"
    },
    {
     "name": "stdout",
     "output_type": "stream",
     "text": [
      "\n"
     ]
    },
    {
     "data": {
      "application/vnd.jupyter.widget-view+json": {
       "model_id": "06ddd61d0f4540ee844ad2a455e79b40",
       "version_major": 2,
       "version_minor": 0
      },
      "text/plain": [
       "HBox(children=(HTML(value=''), FloatProgress(value=0.0, max=341.0), HTML(value='')))"
      ]
     },
     "metadata": {},
     "output_type": "display_data"
    },
    {
     "name": "stdout",
     "output_type": "stream",
     "text": [
      "\n"
     ]
    },
    {
     "data": {
      "application/vnd.jupyter.widget-view+json": {
       "model_id": "c50cd43c2f884ed5923a82bd7659c4a1",
       "version_major": 2,
       "version_minor": 0
      },
      "text/plain": [
       "HBox(children=(HTML(value=''), FloatProgress(value=0.0, max=364.0), HTML(value='')))"
      ]
     },
     "metadata": {},
     "output_type": "display_data"
    },
    {
     "name": "stdout",
     "output_type": "stream",
     "text": [
      "\n"
     ]
    },
    {
     "data": {
      "application/vnd.jupyter.widget-view+json": {
       "model_id": "dbdeb6ea3d204275a21cbad11bbbc7b9",
       "version_major": 2,
       "version_minor": 0
      },
      "text/plain": [
       "HBox(children=(HTML(value=''), FloatProgress(value=0.0, max=341.0), HTML(value='')))"
      ]
     },
     "metadata": {},
     "output_type": "display_data"
    },
    {
     "name": "stdout",
     "output_type": "stream",
     "text": [
      "\n"
     ]
    },
    {
     "data": {
      "application/vnd.jupyter.widget-view+json": {
       "model_id": "94c583f5f536485a9bec97dd2cfd0738",
       "version_major": 2,
       "version_minor": 0
      },
      "text/plain": [
       "HBox(children=(HTML(value=''), FloatProgress(value=0.0, max=313.0), HTML(value='')))"
      ]
     },
     "metadata": {},
     "output_type": "display_data"
    },
    {
     "name": "stdout",
     "output_type": "stream",
     "text": [
      "\n"
     ]
    },
    {
     "data": {
      "application/vnd.jupyter.widget-view+json": {
       "model_id": "4cf5b5bcffd743e8b2b224663937b4c3",
       "version_major": 2,
       "version_minor": 0
      },
      "text/plain": [
       "HBox(children=(HTML(value=''), FloatProgress(value=0.0, max=357.0), HTML(value='')))"
      ]
     },
     "metadata": {},
     "output_type": "display_data"
    },
    {
     "name": "stdout",
     "output_type": "stream",
     "text": [
      "\n"
     ]
    },
    {
     "data": {
      "application/vnd.jupyter.widget-view+json": {
       "model_id": "f38edada66924d0b805981a19d65bb26",
       "version_major": 2,
       "version_minor": 0
      },
      "text/plain": [
       "HBox(children=(HTML(value=''), FloatProgress(value=0.0, max=355.0), HTML(value='')))"
      ]
     },
     "metadata": {},
     "output_type": "display_data"
    },
    {
     "name": "stdout",
     "output_type": "stream",
     "text": [
      "\n"
     ]
    },
    {
     "data": {
      "application/vnd.jupyter.widget-view+json": {
       "model_id": "0fb3bccaf39b41838bb0ed1afd73330f",
       "version_major": 2,
       "version_minor": 0
      },
      "text/plain": [
       "HBox(children=(HTML(value=''), FloatProgress(value=0.0, max=378.0), HTML(value='')))"
      ]
     },
     "metadata": {},
     "output_type": "display_data"
    },
    {
     "name": "stdout",
     "output_type": "stream",
     "text": [
      "\n"
     ]
    },
    {
     "data": {
      "application/vnd.jupyter.widget-view+json": {
       "model_id": "5ab2a71854014fd0a3e5fb2e1ff76f1d",
       "version_major": 2,
       "version_minor": 0
      },
      "text/plain": [
       "HBox(children=(HTML(value=''), FloatProgress(value=0.0, max=322.0), HTML(value='')))"
      ]
     },
     "metadata": {},
     "output_type": "display_data"
    },
    {
     "name": "stdout",
     "output_type": "stream",
     "text": [
      "\n"
     ]
    },
    {
     "data": {
      "application/vnd.jupyter.widget-view+json": {
       "model_id": "0d183f855d284ab1a2b70c8d431694cb",
       "version_major": 2,
       "version_minor": 0
      },
      "text/plain": [
       "HBox(children=(HTML(value=''), FloatProgress(value=0.0, max=316.0), HTML(value='')))"
      ]
     },
     "metadata": {},
     "output_type": "display_data"
    },
    {
     "name": "stdout",
     "output_type": "stream",
     "text": [
      "\n"
     ]
    },
    {
     "data": {
      "application/vnd.jupyter.widget-view+json": {
       "model_id": "6d11466dca394e32b41e8f6caa1c2bfd",
       "version_major": 2,
       "version_minor": 0
      },
      "text/plain": [
       "HBox(children=(HTML(value=''), FloatProgress(value=0.0, max=362.0), HTML(value='')))"
      ]
     },
     "metadata": {},
     "output_type": "display_data"
    },
    {
     "name": "stdout",
     "output_type": "stream",
     "text": [
      "\n"
     ]
    },
    {
     "data": {
      "application/vnd.jupyter.widget-view+json": {
       "model_id": "7d112685de0949829044ff9a0381a077",
       "version_major": 2,
       "version_minor": 0
      },
      "text/plain": [
       "HBox(children=(HTML(value=''), FloatProgress(value=0.0, max=316.0), HTML(value='')))"
      ]
     },
     "metadata": {},
     "output_type": "display_data"
    },
    {
     "name": "stdout",
     "output_type": "stream",
     "text": [
      "\n"
     ]
    },
    {
     "data": {
      "application/vnd.jupyter.widget-view+json": {
       "model_id": "328e883c8050423a8bbb704f835cae4c",
       "version_major": 2,
       "version_minor": 0
      },
      "text/plain": [
       "HBox(children=(HTML(value=''), FloatProgress(value=0.0, max=366.0), HTML(value='')))"
      ]
     },
     "metadata": {},
     "output_type": "display_data"
    },
    {
     "name": "stdout",
     "output_type": "stream",
     "text": [
      "\n"
     ]
    },
    {
     "data": {
      "application/vnd.jupyter.widget-view+json": {
       "model_id": "da33f84f976043e98b96927e5ef90ce6",
       "version_major": 2,
       "version_minor": 0
      },
      "text/plain": [
       "HBox(children=(HTML(value=''), FloatProgress(value=0.0, max=311.0), HTML(value='')))"
      ]
     },
     "metadata": {},
     "output_type": "display_data"
    },
    {
     "name": "stdout",
     "output_type": "stream",
     "text": [
      "\n"
     ]
    },
    {
     "data": {
      "application/vnd.jupyter.widget-view+json": {
       "model_id": "a6dc742682dc41d1b22c4bb43314e652",
       "version_major": 2,
       "version_minor": 0
      },
      "text/plain": [
       "HBox(children=(HTML(value=''), FloatProgress(value=0.0, max=356.0), HTML(value='')))"
      ]
     },
     "metadata": {},
     "output_type": "display_data"
    },
    {
     "name": "stdout",
     "output_type": "stream",
     "text": [
      "\n"
     ]
    },
    {
     "data": {
      "application/vnd.jupyter.widget-view+json": {
       "model_id": "91ba6fd729384e06a6650411780de509",
       "version_major": 2,
       "version_minor": 0
      },
      "text/plain": [
       "HBox(children=(HTML(value=''), FloatProgress(value=0.0, max=359.0), HTML(value='')))"
      ]
     },
     "metadata": {},
     "output_type": "display_data"
    },
    {
     "name": "stdout",
     "output_type": "stream",
     "text": [
      "\n"
     ]
    },
    {
     "data": {
      "application/vnd.jupyter.widget-view+json": {
       "model_id": "bc6d7833b2b5465aaff912d397465673",
       "version_major": 2,
       "version_minor": 0
      },
      "text/plain": [
       "HBox(children=(HTML(value=''), FloatProgress(value=0.0, max=331.0), HTML(value='')))"
      ]
     },
     "metadata": {},
     "output_type": "display_data"
    },
    {
     "name": "stdout",
     "output_type": "stream",
     "text": [
      "\n"
     ]
    },
    {
     "data": {
      "application/vnd.jupyter.widget-view+json": {
       "model_id": "f4b9269e35e14c77abf3dbb5b221e54c",
       "version_major": 2,
       "version_minor": 0
      },
      "text/plain": [
       "HBox(children=(HTML(value=''), FloatProgress(value=0.0, max=343.0), HTML(value='')))"
      ]
     },
     "metadata": {},
     "output_type": "display_data"
    },
    {
     "name": "stdout",
     "output_type": "stream",
     "text": [
      "\n"
     ]
    },
    {
     "data": {
      "application/vnd.jupyter.widget-view+json": {
       "model_id": "db57721a85664a0a9d3b1e264c8b6303",
       "version_major": 2,
       "version_minor": 0
      },
      "text/plain": [
       "HBox(children=(HTML(value=''), FloatProgress(value=0.0, max=279.0), HTML(value='')))"
      ]
     },
     "metadata": {},
     "output_type": "display_data"
    },
    {
     "name": "stdout",
     "output_type": "stream",
     "text": [
      "\n"
     ]
    },
    {
     "data": {
      "application/vnd.jupyter.widget-view+json": {
       "model_id": "7c15b2965d4c413bb1f3ea7eadac8f79",
       "version_major": 2,
       "version_minor": 0
      },
      "text/plain": [
       "HBox(children=(HTML(value=''), FloatProgress(value=0.0, max=321.0), HTML(value='')))"
      ]
     },
     "metadata": {},
     "output_type": "display_data"
    },
    {
     "name": "stdout",
     "output_type": "stream",
     "text": [
      "\n"
     ]
    },
    {
     "data": {
      "application/vnd.jupyter.widget-view+json": {
       "model_id": "50c0001b544e4a87835060234c72641a",
       "version_major": 2,
       "version_minor": 0
      },
      "text/plain": [
       "HBox(children=(HTML(value=''), FloatProgress(value=0.0, max=361.0), HTML(value='')))"
      ]
     },
     "metadata": {},
     "output_type": "display_data"
    },
    {
     "name": "stdout",
     "output_type": "stream",
     "text": [
      "\n"
     ]
    },
    {
     "data": {
      "application/vnd.jupyter.widget-view+json": {
       "model_id": "05f08eb5e0c2497cb76fdc90730bb378",
       "version_major": 2,
       "version_minor": 0
      },
      "text/plain": [
       "HBox(children=(HTML(value=''), FloatProgress(value=0.0, max=315.0), HTML(value='')))"
      ]
     },
     "metadata": {},
     "output_type": "display_data"
    },
    {
     "name": "stdout",
     "output_type": "stream",
     "text": [
      "\n"
     ]
    },
    {
     "data": {
      "application/vnd.jupyter.widget-view+json": {
       "model_id": "b90e3717217741fc91f2a07f0712b0de",
       "version_major": 2,
       "version_minor": 0
      },
      "text/plain": [
       "HBox(children=(HTML(value=''), FloatProgress(value=0.0, max=339.0), HTML(value='')))"
      ]
     },
     "metadata": {},
     "output_type": "display_data"
    },
    {
     "name": "stdout",
     "output_type": "stream",
     "text": [
      "\n"
     ]
    },
    {
     "data": {
      "application/vnd.jupyter.widget-view+json": {
       "model_id": "2f212f42433445da8ee572c1a92b3882",
       "version_major": 2,
       "version_minor": 0
      },
      "text/plain": [
       "HBox(children=(HTML(value=''), FloatProgress(value=0.0, max=384.0), HTML(value='')))"
      ]
     },
     "metadata": {},
     "output_type": "display_data"
    },
    {
     "name": "stdout",
     "output_type": "stream",
     "text": [
      "\n"
     ]
    },
    {
     "data": {
      "application/vnd.jupyter.widget-view+json": {
       "model_id": "1dd4e1ba4ec243a09f9a1a6d51c36f9d",
       "version_major": 2,
       "version_minor": 0
      },
      "text/plain": [
       "HBox(children=(HTML(value=''), FloatProgress(value=0.0, max=352.0), HTML(value='')))"
      ]
     },
     "metadata": {},
     "output_type": "display_data"
    },
    {
     "name": "stdout",
     "output_type": "stream",
     "text": [
      "\n"
     ]
    },
    {
     "data": {
      "application/vnd.jupyter.widget-view+json": {
       "model_id": "7ccad79e52174ca0ae7a71130f104679",
       "version_major": 2,
       "version_minor": 0
      },
      "text/plain": [
       "HBox(children=(HTML(value=''), FloatProgress(value=0.0, max=315.0), HTML(value='')))"
      ]
     },
     "metadata": {},
     "output_type": "display_data"
    },
    {
     "name": "stdout",
     "output_type": "stream",
     "text": [
      "\n"
     ]
    },
    {
     "data": {
      "application/vnd.jupyter.widget-view+json": {
       "model_id": "a2fd366f6a84440d8ac6f17d749fda6e",
       "version_major": 2,
       "version_minor": 0
      },
      "text/plain": [
       "HBox(children=(HTML(value=''), FloatProgress(value=0.0, max=309.0), HTML(value='')))"
      ]
     },
     "metadata": {},
     "output_type": "display_data"
    },
    {
     "name": "stdout",
     "output_type": "stream",
     "text": [
      "\n"
     ]
    },
    {
     "data": {
      "application/vnd.jupyter.widget-view+json": {
       "model_id": "9f7cb116b4f9468fa0a826a3e864959d",
       "version_major": 2,
       "version_minor": 0
      },
      "text/plain": [
       "HBox(children=(HTML(value=''), FloatProgress(value=0.0, max=333.0), HTML(value='')))"
      ]
     },
     "metadata": {},
     "output_type": "display_data"
    },
    {
     "name": "stdout",
     "output_type": "stream",
     "text": [
      "\n"
     ]
    },
    {
     "data": {
      "application/vnd.jupyter.widget-view+json": {
       "model_id": "0068d7e4ba9c40959c9f3a533e344352",
       "version_major": 2,
       "version_minor": 0
      },
      "text/plain": [
       "HBox(children=(HTML(value=''), FloatProgress(value=0.0, max=312.0), HTML(value='')))"
      ]
     },
     "metadata": {},
     "output_type": "display_data"
    },
    {
     "name": "stdout",
     "output_type": "stream",
     "text": [
      "\n"
     ]
    },
    {
     "data": {
      "application/vnd.jupyter.widget-view+json": {
       "model_id": "2846b873a61e4bc0aefe256f9e62b9e4",
       "version_major": 2,
       "version_minor": 0
      },
      "text/plain": [
       "HBox(children=(HTML(value=''), FloatProgress(value=0.0, max=316.0), HTML(value='')))"
      ]
     },
     "metadata": {},
     "output_type": "display_data"
    },
    {
     "name": "stdout",
     "output_type": "stream",
     "text": [
      "\n"
     ]
    },
    {
     "data": {
      "application/vnd.jupyter.widget-view+json": {
       "model_id": "6f3495b34ea34127a818e6485f475b43",
       "version_major": 2,
       "version_minor": 0
      },
      "text/plain": [
       "HBox(children=(HTML(value=''), FloatProgress(value=0.0, max=330.0), HTML(value='')))"
      ]
     },
     "metadata": {},
     "output_type": "display_data"
    },
    {
     "name": "stdout",
     "output_type": "stream",
     "text": [
      "\n"
     ]
    },
    {
     "data": {
      "application/vnd.jupyter.widget-view+json": {
       "model_id": "e2abe487bd854fe9bdbeb00716d3a890",
       "version_major": 2,
       "version_minor": 0
      },
      "text/plain": [
       "HBox(children=(HTML(value=''), FloatProgress(value=0.0, max=289.0), HTML(value='')))"
      ]
     },
     "metadata": {},
     "output_type": "display_data"
    },
    {
     "name": "stdout",
     "output_type": "stream",
     "text": [
      "\n"
     ]
    },
    {
     "data": {
      "application/vnd.jupyter.widget-view+json": {
       "model_id": "5ef3f12abe8d47109b64c96fcc6eacba",
       "version_major": 2,
       "version_minor": 0
      },
      "text/plain": [
       "HBox(children=(HTML(value=''), FloatProgress(value=0.0, max=337.0), HTML(value='')))"
      ]
     },
     "metadata": {},
     "output_type": "display_data"
    },
    {
     "name": "stdout",
     "output_type": "stream",
     "text": [
      "\n"
     ]
    },
    {
     "data": {
      "application/vnd.jupyter.widget-view+json": {
       "model_id": "3e9fb373cfb348c58385655f3028edbf",
       "version_major": 2,
       "version_minor": 0
      },
      "text/plain": [
       "HBox(children=(HTML(value=''), FloatProgress(value=0.0, max=356.0), HTML(value='')))"
      ]
     },
     "metadata": {},
     "output_type": "display_data"
    },
    {
     "name": "stdout",
     "output_type": "stream",
     "text": [
      "\n"
     ]
    },
    {
     "data": {
      "application/vnd.jupyter.widget-view+json": {
       "model_id": "389f1ca217b141c585e645afe9204685",
       "version_major": 2,
       "version_minor": 0
      },
      "text/plain": [
       "HBox(children=(HTML(value=''), FloatProgress(value=0.0, max=349.0), HTML(value='')))"
      ]
     },
     "metadata": {},
     "output_type": "display_data"
    },
    {
     "name": "stdout",
     "output_type": "stream",
     "text": [
      "\n"
     ]
    },
    {
     "data": {
      "application/vnd.jupyter.widget-view+json": {
       "model_id": "266e73328aed4da184e2b1f60dadb877",
       "version_major": 2,
       "version_minor": 0
      },
      "text/plain": [
       "HBox(children=(HTML(value=''), FloatProgress(value=0.0, max=348.0), HTML(value='')))"
      ]
     },
     "metadata": {},
     "output_type": "display_data"
    },
    {
     "name": "stdout",
     "output_type": "stream",
     "text": [
      "\n"
     ]
    },
    {
     "data": {
      "application/vnd.jupyter.widget-view+json": {
       "model_id": "8c58c4f3707e4e3a8e9e5b8559995bd1",
       "version_major": 2,
       "version_minor": 0
      },
      "text/plain": [
       "HBox(children=(HTML(value=''), FloatProgress(value=0.0, max=276.0), HTML(value='')))"
      ]
     },
     "metadata": {},
     "output_type": "display_data"
    },
    {
     "name": "stdout",
     "output_type": "stream",
     "text": [
      "\n"
     ]
    },
    {
     "data": {
      "application/vnd.jupyter.widget-view+json": {
       "model_id": "70b5e43f7bb542c4a9c5ddcf5fdd45db",
       "version_major": 2,
       "version_minor": 0
      },
      "text/plain": [
       "HBox(children=(HTML(value=''), FloatProgress(value=0.0, max=324.0), HTML(value='')))"
      ]
     },
     "metadata": {},
     "output_type": "display_data"
    },
    {
     "name": "stdout",
     "output_type": "stream",
     "text": [
      "\n"
     ]
    },
    {
     "data": {
      "application/vnd.jupyter.widget-view+json": {
       "model_id": "59fc7d71420b4b84ab44d2061f55a318",
       "version_major": 2,
       "version_minor": 0
      },
      "text/plain": [
       "HBox(children=(HTML(value=''), FloatProgress(value=0.0, max=348.0), HTML(value='')))"
      ]
     },
     "metadata": {},
     "output_type": "display_data"
    },
    {
     "name": "stdout",
     "output_type": "stream",
     "text": [
      "\n"
     ]
    },
    {
     "data": {
      "application/vnd.jupyter.widget-view+json": {
       "model_id": "5a4170c085d64a9a8896e5870b66b437",
       "version_major": 2,
       "version_minor": 0
      },
      "text/plain": [
       "HBox(children=(HTML(value=''), FloatProgress(value=0.0, max=239.0), HTML(value='')))"
      ]
     },
     "metadata": {},
     "output_type": "display_data"
    },
    {
     "name": "stdout",
     "output_type": "stream",
     "text": [
      "\n"
     ]
    },
    {
     "data": {
      "application/vnd.jupyter.widget-view+json": {
       "model_id": "7b306c9ede4549acada8131f2e24a554",
       "version_major": 2,
       "version_minor": 0
      },
      "text/plain": [
       "HBox(children=(HTML(value=''), FloatProgress(value=0.0, max=382.0), HTML(value='')))"
      ]
     },
     "metadata": {},
     "output_type": "display_data"
    },
    {
     "name": "stdout",
     "output_type": "stream",
     "text": [
      "\n"
     ]
    },
    {
     "data": {
      "application/vnd.jupyter.widget-view+json": {
       "model_id": "02795f41d3e94751afde23501347b545",
       "version_major": 2,
       "version_minor": 0
      },
      "text/plain": [
       "HBox(children=(HTML(value=''), FloatProgress(value=0.0, max=359.0), HTML(value='')))"
      ]
     },
     "metadata": {},
     "output_type": "display_data"
    },
    {
     "name": "stdout",
     "output_type": "stream",
     "text": [
      "\n"
     ]
    },
    {
     "data": {
      "application/vnd.jupyter.widget-view+json": {
       "model_id": "e3fb8ea30e144017a78b4d80af9dea6c",
       "version_major": 2,
       "version_minor": 0
      },
      "text/plain": [
       "HBox(children=(HTML(value=''), FloatProgress(value=0.0, max=301.0), HTML(value='')))"
      ]
     },
     "metadata": {},
     "output_type": "display_data"
    },
    {
     "name": "stdout",
     "output_type": "stream",
     "text": [
      "\n"
     ]
    },
    {
     "data": {
      "application/vnd.jupyter.widget-view+json": {
       "model_id": "e1c9322b3d324380818c49e19bb21911",
       "version_major": 2,
       "version_minor": 0
      },
      "text/plain": [
       "HBox(children=(HTML(value=''), FloatProgress(value=0.0, max=345.0), HTML(value='')))"
      ]
     },
     "metadata": {},
     "output_type": "display_data"
    },
    {
     "name": "stdout",
     "output_type": "stream",
     "text": [
      "\n"
     ]
    },
    {
     "data": {
      "application/vnd.jupyter.widget-view+json": {
       "model_id": "26a44ac4b3cf49159c31cdf788d2da62",
       "version_major": 2,
       "version_minor": 0
      },
      "text/plain": [
       "HBox(children=(HTML(value=''), FloatProgress(value=0.0, max=464.0), HTML(value='')))"
      ]
     },
     "metadata": {},
     "output_type": "display_data"
    },
    {
     "name": "stdout",
     "output_type": "stream",
     "text": [
      "\n"
     ]
    },
    {
     "data": {
      "application/vnd.jupyter.widget-view+json": {
       "model_id": "f9f09ca1e8ab4616a4143b1b4941a86e",
       "version_major": 2,
       "version_minor": 0
      },
      "text/plain": [
       "HBox(children=(HTML(value=''), FloatProgress(value=0.0, max=346.0), HTML(value='')))"
      ]
     },
     "metadata": {},
     "output_type": "display_data"
    },
    {
     "name": "stdout",
     "output_type": "stream",
     "text": [
      "\n"
     ]
    },
    {
     "data": {
      "application/vnd.jupyter.widget-view+json": {
       "model_id": "62b38e3cba8f402ea24d86cabeb9702d",
       "version_major": 2,
       "version_minor": 0
      },
      "text/plain": [
       "HBox(children=(HTML(value=''), FloatProgress(value=0.0, max=307.0), HTML(value='')))"
      ]
     },
     "metadata": {},
     "output_type": "display_data"
    },
    {
     "name": "stdout",
     "output_type": "stream",
     "text": [
      "\n"
     ]
    },
    {
     "data": {
      "application/vnd.jupyter.widget-view+json": {
       "model_id": "dd5ddcaaaa794c2fb43821567690a3de",
       "version_major": 2,
       "version_minor": 0
      },
      "text/plain": [
       "HBox(children=(HTML(value=''), FloatProgress(value=0.0, max=354.0), HTML(value='')))"
      ]
     },
     "metadata": {},
     "output_type": "display_data"
    },
    {
     "name": "stdout",
     "output_type": "stream",
     "text": [
      "\n"
     ]
    },
    {
     "data": {
      "application/vnd.jupyter.widget-view+json": {
       "model_id": "88b36cc9bf8841808f811d3fd37ab81f",
       "version_major": 2,
       "version_minor": 0
      },
      "text/plain": [
       "HBox(children=(HTML(value=''), FloatProgress(value=0.0, max=349.0), HTML(value='')))"
      ]
     },
     "metadata": {},
     "output_type": "display_data"
    },
    {
     "name": "stdout",
     "output_type": "stream",
     "text": [
      "\n"
     ]
    },
    {
     "data": {
      "application/vnd.jupyter.widget-view+json": {
       "model_id": "c969f0dad47c432c968bd1f26b856888",
       "version_major": 2,
       "version_minor": 0
      },
      "text/plain": [
       "HBox(children=(HTML(value=''), FloatProgress(value=0.0, max=339.0), HTML(value='')))"
      ]
     },
     "metadata": {},
     "output_type": "display_data"
    },
    {
     "name": "stdout",
     "output_type": "stream",
     "text": [
      "\n"
     ]
    },
    {
     "data": {
      "application/vnd.jupyter.widget-view+json": {
       "model_id": "5716ecc0993d450cb6e6444175a7e151",
       "version_major": 2,
       "version_minor": 0
      },
      "text/plain": [
       "HBox(children=(HTML(value=''), FloatProgress(value=0.0, max=381.0), HTML(value='')))"
      ]
     },
     "metadata": {},
     "output_type": "display_data"
    },
    {
     "name": "stdout",
     "output_type": "stream",
     "text": [
      "\n"
     ]
    },
    {
     "data": {
      "application/vnd.jupyter.widget-view+json": {
       "model_id": "7cf77e224f374295ba66237cad28750e",
       "version_major": 2,
       "version_minor": 0
      },
      "text/plain": [
       "HBox(children=(HTML(value=''), FloatProgress(value=0.0, max=362.0), HTML(value='')))"
      ]
     },
     "metadata": {},
     "output_type": "display_data"
    },
    {
     "name": "stdout",
     "output_type": "stream",
     "text": [
      "\n"
     ]
    },
    {
     "data": {
      "application/vnd.jupyter.widget-view+json": {
       "model_id": "bc6a348b071a4cbb9ffc76165ffdc1ff",
       "version_major": 2,
       "version_minor": 0
      },
      "text/plain": [
       "HBox(children=(HTML(value=''), FloatProgress(value=0.0, max=312.0), HTML(value='')))"
      ]
     },
     "metadata": {},
     "output_type": "display_data"
    },
    {
     "name": "stdout",
     "output_type": "stream",
     "text": [
      "\n"
     ]
    },
    {
     "data": {
      "application/vnd.jupyter.widget-view+json": {
       "model_id": "da598bdf52944877be3aede60cf81b2a",
       "version_major": 2,
       "version_minor": 0
      },
      "text/plain": [
       "HBox(children=(HTML(value=''), FloatProgress(value=0.0, max=309.0), HTML(value='')))"
      ]
     },
     "metadata": {},
     "output_type": "display_data"
    },
    {
     "name": "stdout",
     "output_type": "stream",
     "text": [
      "\n"
     ]
    },
    {
     "data": {
      "application/vnd.jupyter.widget-view+json": {
       "model_id": "d299d6f00aac473690a3a2286d5309bf",
       "version_major": 2,
       "version_minor": 0
      },
      "text/plain": [
       "HBox(children=(HTML(value=''), FloatProgress(value=0.0, max=318.0), HTML(value='')))"
      ]
     },
     "metadata": {},
     "output_type": "display_data"
    },
    {
     "name": "stdout",
     "output_type": "stream",
     "text": [
      "\n"
     ]
    },
    {
     "data": {
      "application/vnd.jupyter.widget-view+json": {
       "model_id": "4f41729aebe640daa1cb53601bf590d9",
       "version_major": 2,
       "version_minor": 0
      },
      "text/plain": [
       "HBox(children=(HTML(value=''), FloatProgress(value=0.0, max=314.0), HTML(value='')))"
      ]
     },
     "metadata": {},
     "output_type": "display_data"
    },
    {
     "name": "stdout",
     "output_type": "stream",
     "text": [
      "\n"
     ]
    },
    {
     "data": {
      "application/vnd.jupyter.widget-view+json": {
       "model_id": "86587ec1ad844e4f870bd4aea368aec0",
       "version_major": 2,
       "version_minor": 0
      },
      "text/plain": [
       "HBox(children=(HTML(value=''), FloatProgress(value=0.0, max=305.0), HTML(value='')))"
      ]
     },
     "metadata": {},
     "output_type": "display_data"
    },
    {
     "name": "stdout",
     "output_type": "stream",
     "text": [
      "\n"
     ]
    },
    {
     "data": {
      "application/vnd.jupyter.widget-view+json": {
       "model_id": "9e73d6e3a19d4b50ade7d3e5172b9b3a",
       "version_major": 2,
       "version_minor": 0
      },
      "text/plain": [
       "HBox(children=(HTML(value=''), FloatProgress(value=0.0, max=301.0), HTML(value='')))"
      ]
     },
     "metadata": {},
     "output_type": "display_data"
    },
    {
     "name": "stdout",
     "output_type": "stream",
     "text": [
      "\n"
     ]
    },
    {
     "data": {
      "application/vnd.jupyter.widget-view+json": {
       "model_id": "c30a054daa9e41529fa342f3bd8ab8b7",
       "version_major": 2,
       "version_minor": 0
      },
      "text/plain": [
       "HBox(children=(HTML(value=''), FloatProgress(value=0.0, max=338.0), HTML(value='')))"
      ]
     },
     "metadata": {},
     "output_type": "display_data"
    },
    {
     "name": "stdout",
     "output_type": "stream",
     "text": [
      "\n"
     ]
    },
    {
     "data": {
      "application/vnd.jupyter.widget-view+json": {
       "model_id": "daee043c1c434b99955a09b0a27c6fbc",
       "version_major": 2,
       "version_minor": 0
      },
      "text/plain": [
       "HBox(children=(HTML(value=''), FloatProgress(value=0.0, max=351.0), HTML(value='')))"
      ]
     },
     "metadata": {},
     "output_type": "display_data"
    },
    {
     "name": "stdout",
     "output_type": "stream",
     "text": [
      "\n"
     ]
    },
    {
     "data": {
      "application/vnd.jupyter.widget-view+json": {
       "model_id": "092bc2cefdae428981a4c4ad91038259",
       "version_major": 2,
       "version_minor": 0
      },
      "text/plain": [
       "HBox(children=(HTML(value=''), FloatProgress(value=0.0, max=322.0), HTML(value='')))"
      ]
     },
     "metadata": {},
     "output_type": "display_data"
    },
    {
     "name": "stdout",
     "output_type": "stream",
     "text": [
      "\n"
     ]
    },
    {
     "data": {
      "application/vnd.jupyter.widget-view+json": {
       "model_id": "a60410e33301436a8742f97559d832f5",
       "version_major": 2,
       "version_minor": 0
      },
      "text/plain": [
       "HBox(children=(HTML(value=''), FloatProgress(value=0.0, max=382.0), HTML(value='')))"
      ]
     },
     "metadata": {},
     "output_type": "display_data"
    },
    {
     "name": "stdout",
     "output_type": "stream",
     "text": [
      "\n"
     ]
    },
    {
     "data": {
      "application/vnd.jupyter.widget-view+json": {
       "model_id": "a0be74cfc62f4de3984d1eae4b025538",
       "version_major": 2,
       "version_minor": 0
      },
      "text/plain": [
       "HBox(children=(HTML(value=''), FloatProgress(value=0.0, max=343.0), HTML(value='')))"
      ]
     },
     "metadata": {},
     "output_type": "display_data"
    },
    {
     "name": "stdout",
     "output_type": "stream",
     "text": [
      "\n"
     ]
    },
    {
     "data": {
      "application/vnd.jupyter.widget-view+json": {
       "model_id": "f0d756fc392144a28261345ddca4a7e3",
       "version_major": 2,
       "version_minor": 0
      },
      "text/plain": [
       "HBox(children=(HTML(value=''), FloatProgress(value=0.0, max=329.0), HTML(value='')))"
      ]
     },
     "metadata": {},
     "output_type": "display_data"
    },
    {
     "name": "stdout",
     "output_type": "stream",
     "text": [
      "\n"
     ]
    },
    {
     "data": {
      "application/vnd.jupyter.widget-view+json": {
       "model_id": "be28faa61f0043d09d3dc291ee27f4fa",
       "version_major": 2,
       "version_minor": 0
      },
      "text/plain": [
       "HBox(children=(HTML(value=''), FloatProgress(value=0.0, max=326.0), HTML(value='')))"
      ]
     },
     "metadata": {},
     "output_type": "display_data"
    },
    {
     "name": "stdout",
     "output_type": "stream",
     "text": [
      "\n"
     ]
    },
    {
     "data": {
      "application/vnd.jupyter.widget-view+json": {
       "model_id": "26392f6e6fbc424e9ea4645bf8fdce73",
       "version_major": 2,
       "version_minor": 0
      },
      "text/plain": [
       "HBox(children=(HTML(value=''), FloatProgress(value=0.0, max=344.0), HTML(value='')))"
      ]
     },
     "metadata": {},
     "output_type": "display_data"
    },
    {
     "name": "stdout",
     "output_type": "stream",
     "text": [
      "\n"
     ]
    },
    {
     "data": {
      "application/vnd.jupyter.widget-view+json": {
       "model_id": "caacc3a5dce84aee8a9df196de23cbeb",
       "version_major": 2,
       "version_minor": 0
      },
      "text/plain": [
       "HBox(children=(HTML(value=''), FloatProgress(value=0.0, max=316.0), HTML(value='')))"
      ]
     },
     "metadata": {},
     "output_type": "display_data"
    },
    {
     "name": "stdout",
     "output_type": "stream",
     "text": [
      "\n"
     ]
    },
    {
     "data": {
      "application/vnd.jupyter.widget-view+json": {
       "model_id": "275a1980b3524d11935539bf839929e9",
       "version_major": 2,
       "version_minor": 0
      },
      "text/plain": [
       "HBox(children=(HTML(value=''), FloatProgress(value=0.0, max=333.0), HTML(value='')))"
      ]
     },
     "metadata": {},
     "output_type": "display_data"
    },
    {
     "name": "stdout",
     "output_type": "stream",
     "text": [
      "\n"
     ]
    },
    {
     "data": {
      "application/vnd.jupyter.widget-view+json": {
       "model_id": "f2ff5ca92e1e4e6f9e07f07477d5d34e",
       "version_major": 2,
       "version_minor": 0
      },
      "text/plain": [
       "HBox(children=(HTML(value=''), FloatProgress(value=0.0, max=291.0), HTML(value='')))"
      ]
     },
     "metadata": {},
     "output_type": "display_data"
    },
    {
     "name": "stdout",
     "output_type": "stream",
     "text": [
      "\n"
     ]
    },
    {
     "data": {
      "application/vnd.jupyter.widget-view+json": {
       "model_id": "22e9fd39fedf4329ad36108d4c836c45",
       "version_major": 2,
       "version_minor": 0
      },
      "text/plain": [
       "HBox(children=(HTML(value=''), FloatProgress(value=0.0, max=324.0), HTML(value='')))"
      ]
     },
     "metadata": {},
     "output_type": "display_data"
    },
    {
     "name": "stdout",
     "output_type": "stream",
     "text": [
      "\n"
     ]
    },
    {
     "data": {
      "application/vnd.jupyter.widget-view+json": {
       "model_id": "f4a3d53ff52d4ebc942340757f83d894",
       "version_major": 2,
       "version_minor": 0
      },
      "text/plain": [
       "HBox(children=(HTML(value=''), FloatProgress(value=0.0, max=320.0), HTML(value='')))"
      ]
     },
     "metadata": {},
     "output_type": "display_data"
    },
    {
     "name": "stdout",
     "output_type": "stream",
     "text": [
      "\n"
     ]
    },
    {
     "data": {
      "application/vnd.jupyter.widget-view+json": {
       "model_id": "4eb406da364542ee87f6cf18f43d30f0",
       "version_major": 2,
       "version_minor": 0
      },
      "text/plain": [
       "HBox(children=(HTML(value=''), FloatProgress(value=0.0, max=311.0), HTML(value='')))"
      ]
     },
     "metadata": {},
     "output_type": "display_data"
    },
    {
     "name": "stdout",
     "output_type": "stream",
     "text": [
      "\n"
     ]
    },
    {
     "data": {
      "application/vnd.jupyter.widget-view+json": {
       "model_id": "b09a02dfbb1641369aa4bf2b3caf76be",
       "version_major": 2,
       "version_minor": 0
      },
      "text/plain": [
       "HBox(children=(HTML(value=''), FloatProgress(value=0.0, max=332.0), HTML(value='')))"
      ]
     },
     "metadata": {},
     "output_type": "display_data"
    },
    {
     "name": "stdout",
     "output_type": "stream",
     "text": [
      "\n"
     ]
    },
    {
     "data": {
      "application/vnd.jupyter.widget-view+json": {
       "model_id": "038485e7d679469f81d81b30b6c40e7e",
       "version_major": 2,
       "version_minor": 0
      },
      "text/plain": [
       "HBox(children=(HTML(value=''), FloatProgress(value=0.0, max=307.0), HTML(value='')))"
      ]
     },
     "metadata": {},
     "output_type": "display_data"
    },
    {
     "name": "stdout",
     "output_type": "stream",
     "text": [
      "\n"
     ]
    },
    {
     "data": {
      "application/vnd.jupyter.widget-view+json": {
       "model_id": "24ce33023a4346128a1da92c732ffefc",
       "version_major": 2,
       "version_minor": 0
      },
      "text/plain": [
       "HBox(children=(HTML(value=''), FloatProgress(value=0.0, max=322.0), HTML(value='')))"
      ]
     },
     "metadata": {},
     "output_type": "display_data"
    },
    {
     "name": "stdout",
     "output_type": "stream",
     "text": [
      "\n"
     ]
    },
    {
     "data": {
      "application/vnd.jupyter.widget-view+json": {
       "model_id": "754a72cd8f5f455c857275a58ace5ecc",
       "version_major": 2,
       "version_minor": 0
      },
      "text/plain": [
       "HBox(children=(HTML(value=''), FloatProgress(value=0.0, max=345.0), HTML(value='')))"
      ]
     },
     "metadata": {},
     "output_type": "display_data"
    },
    {
     "name": "stdout",
     "output_type": "stream",
     "text": [
      "\n"
     ]
    },
    {
     "data": {
      "application/vnd.jupyter.widget-view+json": {
       "model_id": "d64e66b276924852ba5a8640560f3ee3",
       "version_major": 2,
       "version_minor": 0
      },
      "text/plain": [
       "HBox(children=(HTML(value=''), FloatProgress(value=0.0, max=305.0), HTML(value='')))"
      ]
     },
     "metadata": {},
     "output_type": "display_data"
    },
    {
     "name": "stdout",
     "output_type": "stream",
     "text": [
      "\n"
     ]
    },
    {
     "data": {
      "application/vnd.jupyter.widget-view+json": {
       "model_id": "c458facfae3048e493954a738bbe19b0",
       "version_major": 2,
       "version_minor": 0
      },
      "text/plain": [
       "HBox(children=(HTML(value=''), FloatProgress(value=0.0, max=359.0), HTML(value='')))"
      ]
     },
     "metadata": {},
     "output_type": "display_data"
    },
    {
     "name": "stdout",
     "output_type": "stream",
     "text": [
      "\n"
     ]
    },
    {
     "data": {
      "application/vnd.jupyter.widget-view+json": {
       "model_id": "0f1d35a043ab4023b83a960ae2130e63",
       "version_major": 2,
       "version_minor": 0
      },
      "text/plain": [
       "HBox(children=(HTML(value=''), FloatProgress(value=0.0, max=370.0), HTML(value='')))"
      ]
     },
     "metadata": {},
     "output_type": "display_data"
    },
    {
     "name": "stdout",
     "output_type": "stream",
     "text": [
      "\n"
     ]
    },
    {
     "data": {
      "application/vnd.jupyter.widget-view+json": {
       "model_id": "df50cd37f74e46c99dc4040cb7bb0b71",
       "version_major": 2,
       "version_minor": 0
      },
      "text/plain": [
       "HBox(children=(HTML(value=''), FloatProgress(value=0.0, max=310.0), HTML(value='')))"
      ]
     },
     "metadata": {},
     "output_type": "display_data"
    },
    {
     "name": "stdout",
     "output_type": "stream",
     "text": [
      "\n"
     ]
    },
    {
     "data": {
      "application/vnd.jupyter.widget-view+json": {
       "model_id": "c36fad6a7410400ca3e7af8895bf9e4d",
       "version_major": 2,
       "version_minor": 0
      },
      "text/plain": [
       "HBox(children=(HTML(value=''), FloatProgress(value=0.0, max=307.0), HTML(value='')))"
      ]
     },
     "metadata": {},
     "output_type": "display_data"
    },
    {
     "name": "stdout",
     "output_type": "stream",
     "text": [
      "\n"
     ]
    },
    {
     "data": {
      "application/vnd.jupyter.widget-view+json": {
       "model_id": "96d6c4b8d109400f89396c5cf202d7e8",
       "version_major": 2,
       "version_minor": 0
      },
      "text/plain": [
       "HBox(children=(HTML(value=''), FloatProgress(value=0.0, max=323.0), HTML(value='')))"
      ]
     },
     "metadata": {},
     "output_type": "display_data"
    },
    {
     "name": "stdout",
     "output_type": "stream",
     "text": [
      "\n"
     ]
    },
    {
     "data": {
      "application/vnd.jupyter.widget-view+json": {
       "model_id": "0443065c3d764f64989935d5af8ac9b9",
       "version_major": 2,
       "version_minor": 0
      },
      "text/plain": [
       "HBox(children=(HTML(value=''), FloatProgress(value=0.0, max=361.0), HTML(value='')))"
      ]
     },
     "metadata": {},
     "output_type": "display_data"
    },
    {
     "name": "stdout",
     "output_type": "stream",
     "text": [
      "\n"
     ]
    },
    {
     "data": {
      "application/vnd.jupyter.widget-view+json": {
       "model_id": "6af4a612817a417082948b3fc4f96f95",
       "version_major": 2,
       "version_minor": 0
      },
      "text/plain": [
       "HBox(children=(HTML(value=''), FloatProgress(value=0.0, max=333.0), HTML(value='')))"
      ]
     },
     "metadata": {},
     "output_type": "display_data"
    },
    {
     "name": "stdout",
     "output_type": "stream",
     "text": [
      "\n"
     ]
    },
    {
     "data": {
      "application/vnd.jupyter.widget-view+json": {
       "model_id": "f4b261c47f2c40278d56b98efabe819d",
       "version_major": 2,
       "version_minor": 0
      },
      "text/plain": [
       "HBox(children=(HTML(value=''), FloatProgress(value=0.0, max=305.0), HTML(value='')))"
      ]
     },
     "metadata": {},
     "output_type": "display_data"
    },
    {
     "name": "stdout",
     "output_type": "stream",
     "text": [
      "\n"
     ]
    },
    {
     "data": {
      "application/vnd.jupyter.widget-view+json": {
       "model_id": "5a07bc8d35c04af38873d5e8ecadf38c",
       "version_major": 2,
       "version_minor": 0
      },
      "text/plain": [
       "HBox(children=(HTML(value=''), FloatProgress(value=0.0, max=308.0), HTML(value='')))"
      ]
     },
     "metadata": {},
     "output_type": "display_data"
    },
    {
     "name": "stdout",
     "output_type": "stream",
     "text": [
      "\n"
     ]
    },
    {
     "data": {
      "application/vnd.jupyter.widget-view+json": {
       "model_id": "21661e61df24445d86d57c1fcd3e4767",
       "version_major": 2,
       "version_minor": 0
      },
      "text/plain": [
       "HBox(children=(HTML(value=''), FloatProgress(value=0.0, max=305.0), HTML(value='')))"
      ]
     },
     "metadata": {},
     "output_type": "display_data"
    },
    {
     "name": "stdout",
     "output_type": "stream",
     "text": [
      "\n"
     ]
    },
    {
     "data": {
      "application/vnd.jupyter.widget-view+json": {
       "model_id": "68aed37d03e64530a80f4e5a243114c5",
       "version_major": 2,
       "version_minor": 0
      },
      "text/plain": [
       "HBox(children=(HTML(value=''), FloatProgress(value=0.0, max=339.0), HTML(value='')))"
      ]
     },
     "metadata": {},
     "output_type": "display_data"
    },
    {
     "name": "stdout",
     "output_type": "stream",
     "text": [
      "\n"
     ]
    },
    {
     "data": {
      "application/vnd.jupyter.widget-view+json": {
       "model_id": "e1990f33b6704554b287b1708c4ddb9c",
       "version_major": 2,
       "version_minor": 0
      },
      "text/plain": [
       "HBox(children=(HTML(value=''), FloatProgress(value=0.0, max=296.0), HTML(value='')))"
      ]
     },
     "metadata": {},
     "output_type": "display_data"
    },
    {
     "name": "stdout",
     "output_type": "stream",
     "text": [
      "\n"
     ]
    },
    {
     "data": {
      "application/vnd.jupyter.widget-view+json": {
       "model_id": "4bf62461fca8428cb16993a3d792e771",
       "version_major": 2,
       "version_minor": 0
      },
      "text/plain": [
       "HBox(children=(HTML(value=''), FloatProgress(value=0.0, max=315.0), HTML(value='')))"
      ]
     },
     "metadata": {},
     "output_type": "display_data"
    },
    {
     "name": "stdout",
     "output_type": "stream",
     "text": [
      "\n"
     ]
    },
    {
     "data": {
      "application/vnd.jupyter.widget-view+json": {
       "model_id": "cc865effae7247db9e7c1beb87a58f1e",
       "version_major": 2,
       "version_minor": 0
      },
      "text/plain": [
       "HBox(children=(HTML(value=''), FloatProgress(value=0.0, max=302.0), HTML(value='')))"
      ]
     },
     "metadata": {},
     "output_type": "display_data"
    },
    {
     "name": "stdout",
     "output_type": "stream",
     "text": [
      "\n"
     ]
    },
    {
     "data": {
      "application/vnd.jupyter.widget-view+json": {
       "model_id": "8f1ba3f5081842238f94d7c71b472536",
       "version_major": 2,
       "version_minor": 0
      },
      "text/plain": [
       "HBox(children=(HTML(value=''), FloatProgress(value=0.0, max=319.0), HTML(value='')))"
      ]
     },
     "metadata": {},
     "output_type": "display_data"
    },
    {
     "name": "stdout",
     "output_type": "stream",
     "text": [
      "\n"
     ]
    },
    {
     "data": {
      "application/vnd.jupyter.widget-view+json": {
       "model_id": "4ba74d58069a4f8b9677a5fee4bb4175",
       "version_major": 2,
       "version_minor": 0
      },
      "text/plain": [
       "HBox(children=(HTML(value=''), FloatProgress(value=0.0, max=344.0), HTML(value='')))"
      ]
     },
     "metadata": {},
     "output_type": "display_data"
    },
    {
     "name": "stdout",
     "output_type": "stream",
     "text": [
      "\n"
     ]
    },
    {
     "data": {
      "application/vnd.jupyter.widget-view+json": {
       "model_id": "d9150763251a44868e473ea74020a613",
       "version_major": 2,
       "version_minor": 0
      },
      "text/plain": [
       "HBox(children=(HTML(value=''), FloatProgress(value=0.0, max=255.0), HTML(value='')))"
      ]
     },
     "metadata": {},
     "output_type": "display_data"
    },
    {
     "name": "stdout",
     "output_type": "stream",
     "text": [
      "\n"
     ]
    },
    {
     "data": {
      "application/vnd.jupyter.widget-view+json": {
       "model_id": "51622de4ca8543589d748ef7325bf5d4",
       "version_major": 2,
       "version_minor": 0
      },
      "text/plain": [
       "HBox(children=(HTML(value=''), FloatProgress(value=0.0, max=357.0), HTML(value='')))"
      ]
     },
     "metadata": {},
     "output_type": "display_data"
    },
    {
     "name": "stdout",
     "output_type": "stream",
     "text": [
      "\n"
     ]
    },
    {
     "data": {
      "application/vnd.jupyter.widget-view+json": {
       "model_id": "edbbebbf702b4747a8e2c729ecc359a2",
       "version_major": 2,
       "version_minor": 0
      },
      "text/plain": [
       "HBox(children=(HTML(value=''), FloatProgress(value=0.0, max=321.0), HTML(value='')))"
      ]
     },
     "metadata": {},
     "output_type": "display_data"
    },
    {
     "name": "stdout",
     "output_type": "stream",
     "text": [
      "\n"
     ]
    },
    {
     "data": {
      "application/vnd.jupyter.widget-view+json": {
       "model_id": "9487ffce83e540038e49130c6d9108d6",
       "version_major": 2,
       "version_minor": 0
      },
      "text/plain": [
       "HBox(children=(HTML(value=''), FloatProgress(value=0.0, max=384.0), HTML(value='')))"
      ]
     },
     "metadata": {},
     "output_type": "display_data"
    },
    {
     "name": "stdout",
     "output_type": "stream",
     "text": [
      "\n"
     ]
    },
    {
     "data": {
      "application/vnd.jupyter.widget-view+json": {
       "model_id": "f4ec46c58a284fd8a500179b254421c8",
       "version_major": 2,
       "version_minor": 0
      },
      "text/plain": [
       "HBox(children=(HTML(value=''), FloatProgress(value=0.0, max=351.0), HTML(value='')))"
      ]
     },
     "metadata": {},
     "output_type": "display_data"
    },
    {
     "name": "stdout",
     "output_type": "stream",
     "text": [
      "\n"
     ]
    },
    {
     "data": {
      "application/vnd.jupyter.widget-view+json": {
       "model_id": "3e7636aec8f848108f464ab06a361084",
       "version_major": 2,
       "version_minor": 0
      },
      "text/plain": [
       "HBox(children=(HTML(value=''), FloatProgress(value=0.0, max=361.0), HTML(value='')))"
      ]
     },
     "metadata": {},
     "output_type": "display_data"
    },
    {
     "name": "stdout",
     "output_type": "stream",
     "text": [
      "\n"
     ]
    },
    {
     "data": {
      "application/vnd.jupyter.widget-view+json": {
       "model_id": "f9dfde5840424b90979108ab43fdb0fd",
       "version_major": 2,
       "version_minor": 0
      },
      "text/plain": [
       "HBox(children=(HTML(value=''), FloatProgress(value=0.0, max=339.0), HTML(value='')))"
      ]
     },
     "metadata": {},
     "output_type": "display_data"
    },
    {
     "name": "stdout",
     "output_type": "stream",
     "text": [
      "\n"
     ]
    },
    {
     "data": {
      "application/vnd.jupyter.widget-view+json": {
       "model_id": "fe83c94965854bef9c4d4ae12cb764cb",
       "version_major": 2,
       "version_minor": 0
      },
      "text/plain": [
       "HBox(children=(HTML(value=''), FloatProgress(value=0.0, max=334.0), HTML(value='')))"
      ]
     },
     "metadata": {},
     "output_type": "display_data"
    },
    {
     "name": "stdout",
     "output_type": "stream",
     "text": [
      "\n"
     ]
    },
    {
     "data": {
      "application/vnd.jupyter.widget-view+json": {
       "model_id": "ae32e59845764a11ba4d51e845d660a8",
       "version_major": 2,
       "version_minor": 0
      },
      "text/plain": [
       "HBox(children=(HTML(value=''), FloatProgress(value=0.0, max=305.0), HTML(value='')))"
      ]
     },
     "metadata": {},
     "output_type": "display_data"
    },
    {
     "name": "stdout",
     "output_type": "stream",
     "text": [
      "\n"
     ]
    },
    {
     "data": {
      "application/vnd.jupyter.widget-view+json": {
       "model_id": "8dd1535eed7849ae900fe5428dce2e6d",
       "version_major": 2,
       "version_minor": 0
      },
      "text/plain": [
       "HBox(children=(HTML(value=''), FloatProgress(value=0.0, max=323.0), HTML(value='')))"
      ]
     },
     "metadata": {},
     "output_type": "display_data"
    },
    {
     "name": "stdout",
     "output_type": "stream",
     "text": [
      "\n"
     ]
    },
    {
     "data": {
      "application/vnd.jupyter.widget-view+json": {
       "model_id": "843fc916ce8644dbb87c02112ed2b681",
       "version_major": 2,
       "version_minor": 0
      },
      "text/plain": [
       "HBox(children=(HTML(value=''), FloatProgress(value=0.0, max=290.0), HTML(value='')))"
      ]
     },
     "metadata": {},
     "output_type": "display_data"
    },
    {
     "name": "stdout",
     "output_type": "stream",
     "text": [
      "\n"
     ]
    },
    {
     "data": {
      "application/vnd.jupyter.widget-view+json": {
       "model_id": "6c1855b21e5b4ae5a1a69de8354e9c0c",
       "version_major": 2,
       "version_minor": 0
      },
      "text/plain": [
       "HBox(children=(HTML(value=''), FloatProgress(value=0.0, max=271.0), HTML(value='')))"
      ]
     },
     "metadata": {},
     "output_type": "display_data"
    },
    {
     "name": "stdout",
     "output_type": "stream",
     "text": [
      "\n"
     ]
    },
    {
     "data": {
      "application/vnd.jupyter.widget-view+json": {
       "model_id": "e3145b366895408cb3267355fa86fa86",
       "version_major": 2,
       "version_minor": 0
      },
      "text/plain": [
       "HBox(children=(HTML(value=''), FloatProgress(value=0.0, max=334.0), HTML(value='')))"
      ]
     },
     "metadata": {},
     "output_type": "display_data"
    },
    {
     "name": "stdout",
     "output_type": "stream",
     "text": [
      "\n"
     ]
    },
    {
     "data": {
      "application/vnd.jupyter.widget-view+json": {
       "model_id": "1ea0308918a94653b49a846dbc2abd88",
       "version_major": 2,
       "version_minor": 0
      },
      "text/plain": [
       "HBox(children=(HTML(value=''), FloatProgress(value=0.0, max=345.0), HTML(value='')))"
      ]
     },
     "metadata": {},
     "output_type": "display_data"
    },
    {
     "name": "stdout",
     "output_type": "stream",
     "text": [
      "\n"
     ]
    },
    {
     "data": {
      "application/vnd.jupyter.widget-view+json": {
       "model_id": "ee988bc564454ce6ac347538c6addc38",
       "version_major": 2,
       "version_minor": 0
      },
      "text/plain": [
       "HBox(children=(HTML(value=''), FloatProgress(value=0.0, max=291.0), HTML(value='')))"
      ]
     },
     "metadata": {},
     "output_type": "display_data"
    },
    {
     "name": "stdout",
     "output_type": "stream",
     "text": [
      "\n"
     ]
    },
    {
     "data": {
      "application/vnd.jupyter.widget-view+json": {
       "model_id": "2489cc02584e4c6ebdd8486a5a25bf91",
       "version_major": 2,
       "version_minor": 0
      },
      "text/plain": [
       "HBox(children=(HTML(value=''), FloatProgress(value=0.0, max=331.0), HTML(value='')))"
      ]
     },
     "metadata": {},
     "output_type": "display_data"
    },
    {
     "name": "stdout",
     "output_type": "stream",
     "text": [
      "\n"
     ]
    },
    {
     "data": {
      "application/vnd.jupyter.widget-view+json": {
       "model_id": "f608868fafd74580abb600dc2aa00b75",
       "version_major": 2,
       "version_minor": 0
      },
      "text/plain": [
       "HBox(children=(HTML(value=''), FloatProgress(value=0.0, max=293.0), HTML(value='')))"
      ]
     },
     "metadata": {},
     "output_type": "display_data"
    },
    {
     "name": "stdout",
     "output_type": "stream",
     "text": [
      "\n"
     ]
    },
    {
     "data": {
      "application/vnd.jupyter.widget-view+json": {
       "model_id": "cbe113f8abd24737bdbc521a330d6a5a",
       "version_major": 2,
       "version_minor": 0
      },
      "text/plain": [
       "HBox(children=(HTML(value=''), FloatProgress(value=0.0, max=330.0), HTML(value='')))"
      ]
     },
     "metadata": {},
     "output_type": "display_data"
    },
    {
     "name": "stdout",
     "output_type": "stream",
     "text": [
      "\n"
     ]
    },
    {
     "data": {
      "application/vnd.jupyter.widget-view+json": {
       "model_id": "04287fd297eb41a6b1e53d46285c8588",
       "version_major": 2,
       "version_minor": 0
      },
      "text/plain": [
       "HBox(children=(HTML(value=''), FloatProgress(value=0.0, max=354.0), HTML(value='')))"
      ]
     },
     "metadata": {},
     "output_type": "display_data"
    },
    {
     "name": "stdout",
     "output_type": "stream",
     "text": [
      "\n"
     ]
    },
    {
     "data": {
      "application/vnd.jupyter.widget-view+json": {
       "model_id": "7185661430c14236865382b5787cebcc",
       "version_major": 2,
       "version_minor": 0
      },
      "text/plain": [
       "HBox(children=(HTML(value=''), FloatProgress(value=0.0, max=286.0), HTML(value='')))"
      ]
     },
     "metadata": {},
     "output_type": "display_data"
    },
    {
     "name": "stdout",
     "output_type": "stream",
     "text": [
      "\n"
     ]
    },
    {
     "data": {
      "application/vnd.jupyter.widget-view+json": {
       "model_id": "8f58f53301054813a219f3b219e6eb48",
       "version_major": 2,
       "version_minor": 0
      },
      "text/plain": [
       "HBox(children=(HTML(value=''), FloatProgress(value=0.0, max=331.0), HTML(value='')))"
      ]
     },
     "metadata": {},
     "output_type": "display_data"
    },
    {
     "name": "stdout",
     "output_type": "stream",
     "text": [
      "\n"
     ]
    },
    {
     "data": {
      "application/vnd.jupyter.widget-view+json": {
       "model_id": "da5bbee70b7b495b89db3c0104f7a93d",
       "version_major": 2,
       "version_minor": 0
      },
      "text/plain": [
       "HBox(children=(HTML(value=''), FloatProgress(value=0.0, max=332.0), HTML(value='')))"
      ]
     },
     "metadata": {},
     "output_type": "display_data"
    },
    {
     "name": "stdout",
     "output_type": "stream",
     "text": [
      "\n"
     ]
    },
    {
     "data": {
      "application/vnd.jupyter.widget-view+json": {
       "model_id": "63e07646e994498c918d3c54590366c0",
       "version_major": 2,
       "version_minor": 0
      },
      "text/plain": [
       "HBox(children=(HTML(value=''), FloatProgress(value=0.0, max=310.0), HTML(value='')))"
      ]
     },
     "metadata": {},
     "output_type": "display_data"
    },
    {
     "name": "stdout",
     "output_type": "stream",
     "text": [
      "\n"
     ]
    },
    {
     "data": {
      "application/vnd.jupyter.widget-view+json": {
       "model_id": "a1966c91acb346e6ace675c289f33fff",
       "version_major": 2,
       "version_minor": 0
      },
      "text/plain": [
       "HBox(children=(HTML(value=''), FloatProgress(value=0.0, max=278.0), HTML(value='')))"
      ]
     },
     "metadata": {},
     "output_type": "display_data"
    },
    {
     "name": "stdout",
     "output_type": "stream",
     "text": [
      "\n"
     ]
    },
    {
     "data": {
      "application/vnd.jupyter.widget-view+json": {
       "model_id": "d46c4d4fe56549b490d375b57fe1a6b9",
       "version_major": 2,
       "version_minor": 0
      },
      "text/plain": [
       "HBox(children=(HTML(value=''), FloatProgress(value=0.0, max=333.0), HTML(value='')))"
      ]
     },
     "metadata": {},
     "output_type": "display_data"
    },
    {
     "name": "stdout",
     "output_type": "stream",
     "text": [
      "\n"
     ]
    },
    {
     "data": {
      "application/vnd.jupyter.widget-view+json": {
       "model_id": "4ff17728a6cc43ef94bc573682717480",
       "version_major": 2,
       "version_minor": 0
      },
      "text/plain": [
       "HBox(children=(HTML(value=''), FloatProgress(value=0.0, max=290.0), HTML(value='')))"
      ]
     },
     "metadata": {},
     "output_type": "display_data"
    },
    {
     "name": "stdout",
     "output_type": "stream",
     "text": [
      "\n"
     ]
    },
    {
     "data": {
      "application/vnd.jupyter.widget-view+json": {
       "model_id": "8c361c6859c6421e91116b483c05cc1a",
       "version_major": 2,
       "version_minor": 0
      },
      "text/plain": [
       "HBox(children=(HTML(value=''), FloatProgress(value=0.0, max=350.0), HTML(value='')))"
      ]
     },
     "metadata": {},
     "output_type": "display_data"
    },
    {
     "name": "stdout",
     "output_type": "stream",
     "text": [
      "\n"
     ]
    },
    {
     "data": {
      "application/vnd.jupyter.widget-view+json": {
       "model_id": "0ec25cf1005849619c609287ac8dcfa2",
       "version_major": 2,
       "version_minor": 0
      },
      "text/plain": [
       "HBox(children=(HTML(value=''), FloatProgress(value=0.0, max=344.0), HTML(value='')))"
      ]
     },
     "metadata": {},
     "output_type": "display_data"
    },
    {
     "name": "stdout",
     "output_type": "stream",
     "text": [
      "\n"
     ]
    },
    {
     "data": {
      "application/vnd.jupyter.widget-view+json": {
       "model_id": "92766bc28cc948ffb64e61f1c69cb541",
       "version_major": 2,
       "version_minor": 0
      },
      "text/plain": [
       "HBox(children=(HTML(value=''), FloatProgress(value=0.0, max=290.0), HTML(value='')))"
      ]
     },
     "metadata": {},
     "output_type": "display_data"
    },
    {
     "name": "stdout",
     "output_type": "stream",
     "text": [
      "\n"
     ]
    },
    {
     "data": {
      "application/vnd.jupyter.widget-view+json": {
       "model_id": "978e03d8944b486d96772991a8b78439",
       "version_major": 2,
       "version_minor": 0
      },
      "text/plain": [
       "HBox(children=(HTML(value=''), FloatProgress(value=0.0, max=335.0), HTML(value='')))"
      ]
     },
     "metadata": {},
     "output_type": "display_data"
    },
    {
     "name": "stdout",
     "output_type": "stream",
     "text": [
      "\n"
     ]
    },
    {
     "data": {
      "application/vnd.jupyter.widget-view+json": {
       "model_id": "d657ee785e8f4cb49cbbc7c6f25c0624",
       "version_major": 2,
       "version_minor": 0
      },
      "text/plain": [
       "HBox(children=(HTML(value=''), FloatProgress(value=0.0, max=271.0), HTML(value='')))"
      ]
     },
     "metadata": {},
     "output_type": "display_data"
    },
    {
     "name": "stdout",
     "output_type": "stream",
     "text": [
      "\n"
     ]
    },
    {
     "data": {
      "application/vnd.jupyter.widget-view+json": {
       "model_id": "f33d2a67ade04157b5f20a9f453faf6e",
       "version_major": 2,
       "version_minor": 0
      },
      "text/plain": [
       "HBox(children=(HTML(value=''), FloatProgress(value=0.0, max=281.0), HTML(value='')))"
      ]
     },
     "metadata": {},
     "output_type": "display_data"
    },
    {
     "name": "stdout",
     "output_type": "stream",
     "text": [
      "\n"
     ]
    },
    {
     "data": {
      "application/vnd.jupyter.widget-view+json": {
       "model_id": "50435a4f7ca84f17b42d0ca1b2299a47",
       "version_major": 2,
       "version_minor": 0
      },
      "text/plain": [
       "HBox(children=(HTML(value=''), FloatProgress(value=0.0, max=321.0), HTML(value='')))"
      ]
     },
     "metadata": {},
     "output_type": "display_data"
    },
    {
     "name": "stdout",
     "output_type": "stream",
     "text": [
      "\n"
     ]
    },
    {
     "data": {
      "application/vnd.jupyter.widget-view+json": {
       "model_id": "4fce3fdfc39445fab398e8dbf385b5f2",
       "version_major": 2,
       "version_minor": 0
      },
      "text/plain": [
       "HBox(children=(HTML(value=''), FloatProgress(value=0.0, max=303.0), HTML(value='')))"
      ]
     },
     "metadata": {},
     "output_type": "display_data"
    },
    {
     "name": "stdout",
     "output_type": "stream",
     "text": [
      "\n"
     ]
    },
    {
     "data": {
      "application/vnd.jupyter.widget-view+json": {
       "model_id": "98a50f1756594290bfafd88b655f5172",
       "version_major": 2,
       "version_minor": 0
      },
      "text/plain": [
       "HBox(children=(HTML(value=''), FloatProgress(value=0.0, max=321.0), HTML(value='')))"
      ]
     },
     "metadata": {},
     "output_type": "display_data"
    },
    {
     "name": "stdout",
     "output_type": "stream",
     "text": [
      "\n"
     ]
    },
    {
     "data": {
      "application/vnd.jupyter.widget-view+json": {
       "model_id": "0dc2a5e373c74732ae19a0101f66f1ca",
       "version_major": 2,
       "version_minor": 0
      },
      "text/plain": [
       "HBox(children=(HTML(value=''), FloatProgress(value=0.0, max=311.0), HTML(value='')))"
      ]
     },
     "metadata": {},
     "output_type": "display_data"
    },
    {
     "name": "stdout",
     "output_type": "stream",
     "text": [
      "\n"
     ]
    },
    {
     "data": {
      "application/vnd.jupyter.widget-view+json": {
       "model_id": "20a5605e2f674e5885a444079f336cdb",
       "version_major": 2,
       "version_minor": 0
      },
      "text/plain": [
       "HBox(children=(HTML(value=''), FloatProgress(value=0.0, max=340.0), HTML(value='')))"
      ]
     },
     "metadata": {},
     "output_type": "display_data"
    },
    {
     "name": "stdout",
     "output_type": "stream",
     "text": [
      "\n"
     ]
    },
    {
     "data": {
      "application/vnd.jupyter.widget-view+json": {
       "model_id": "5a07901e8f6b4a75bcce9f6adcdad558",
       "version_major": 2,
       "version_minor": 0
      },
      "text/plain": [
       "HBox(children=(HTML(value=''), FloatProgress(value=0.0, max=335.0), HTML(value='')))"
      ]
     },
     "metadata": {},
     "output_type": "display_data"
    },
    {
     "name": "stdout",
     "output_type": "stream",
     "text": [
      "\n"
     ]
    },
    {
     "data": {
      "application/vnd.jupyter.widget-view+json": {
       "model_id": "6fc5df1f18564c2f92006c315956ca8c",
       "version_major": 2,
       "version_minor": 0
      },
      "text/plain": [
       "HBox(children=(HTML(value=''), FloatProgress(value=0.0, max=359.0), HTML(value='')))"
      ]
     },
     "metadata": {},
     "output_type": "display_data"
    },
    {
     "name": "stdout",
     "output_type": "stream",
     "text": [
      "\n"
     ]
    },
    {
     "data": {
      "application/vnd.jupyter.widget-view+json": {
       "model_id": "5b1f920dd7f646568e70a0cfbeea28c7",
       "version_major": 2,
       "version_minor": 0
      },
      "text/plain": [
       "HBox(children=(HTML(value=''), FloatProgress(value=0.0, max=335.0), HTML(value='')))"
      ]
     },
     "metadata": {},
     "output_type": "display_data"
    },
    {
     "name": "stdout",
     "output_type": "stream",
     "text": [
      "\n"
     ]
    },
    {
     "data": {
      "application/vnd.jupyter.widget-view+json": {
       "model_id": "2240cf970f5b43fca809c79ae676a7b0",
       "version_major": 2,
       "version_minor": 0
      },
      "text/plain": [
       "HBox(children=(HTML(value=''), FloatProgress(value=0.0, max=338.0), HTML(value='')))"
      ]
     },
     "metadata": {},
     "output_type": "display_data"
    },
    {
     "name": "stdout",
     "output_type": "stream",
     "text": [
      "\n"
     ]
    },
    {
     "data": {
      "application/vnd.jupyter.widget-view+json": {
       "model_id": "4aa3c5fcf4c349d7b36ee2d9a0d61b05",
       "version_major": 2,
       "version_minor": 0
      },
      "text/plain": [
       "HBox(children=(HTML(value=''), FloatProgress(value=0.0, max=288.0), HTML(value='')))"
      ]
     },
     "metadata": {},
     "output_type": "display_data"
    },
    {
     "name": "stdout",
     "output_type": "stream",
     "text": [
      "\n"
     ]
    },
    {
     "data": {
      "application/vnd.jupyter.widget-view+json": {
       "model_id": "bff26cdec5174e8f9f6fcacdb2c4a452",
       "version_major": 2,
       "version_minor": 0
      },
      "text/plain": [
       "HBox(children=(HTML(value=''), FloatProgress(value=0.0, max=307.0), HTML(value='')))"
      ]
     },
     "metadata": {},
     "output_type": "display_data"
    },
    {
     "name": "stdout",
     "output_type": "stream",
     "text": [
      "\n"
     ]
    },
    {
     "data": {
      "application/vnd.jupyter.widget-view+json": {
       "model_id": "c319a331fab748259e323f817d7f8556",
       "version_major": 2,
       "version_minor": 0
      },
      "text/plain": [
       "HBox(children=(HTML(value=''), FloatProgress(value=0.0, max=252.0), HTML(value='')))"
      ]
     },
     "metadata": {},
     "output_type": "display_data"
    },
    {
     "name": "stdout",
     "output_type": "stream",
     "text": [
      "\n"
     ]
    },
    {
     "data": {
      "application/vnd.jupyter.widget-view+json": {
       "model_id": "7b37fca02a4148ce9c21f95c60a2f3e8",
       "version_major": 2,
       "version_minor": 0
      },
      "text/plain": [
       "HBox(children=(HTML(value=''), FloatProgress(value=0.0, max=267.0), HTML(value='')))"
      ]
     },
     "metadata": {},
     "output_type": "display_data"
    },
    {
     "name": "stdout",
     "output_type": "stream",
     "text": [
      "\n"
     ]
    },
    {
     "data": {
      "application/vnd.jupyter.widget-view+json": {
       "model_id": "440b257a2a3f46b7b1f1a6d76602345c",
       "version_major": 2,
       "version_minor": 0
      },
      "text/plain": [
       "HBox(children=(HTML(value=''), FloatProgress(value=0.0, max=315.0), HTML(value='')))"
      ]
     },
     "metadata": {},
     "output_type": "display_data"
    },
    {
     "name": "stdout",
     "output_type": "stream",
     "text": [
      "\n"
     ]
    },
    {
     "data": {
      "application/vnd.jupyter.widget-view+json": {
       "model_id": "790403f50a1a4e589e00f410330d12a1",
       "version_major": 2,
       "version_minor": 0
      },
      "text/plain": [
       "HBox(children=(HTML(value=''), FloatProgress(value=0.0, max=311.0), HTML(value='')))"
      ]
     },
     "metadata": {},
     "output_type": "display_data"
    },
    {
     "name": "stdout",
     "output_type": "stream",
     "text": [
      "\n"
     ]
    },
    {
     "data": {
      "application/vnd.jupyter.widget-view+json": {
       "model_id": "29f6eb9cc43f4b39a87393e7c68a04be",
       "version_major": 2,
       "version_minor": 0
      },
      "text/plain": [
       "HBox(children=(HTML(value=''), FloatProgress(value=0.0, max=292.0), HTML(value='')))"
      ]
     },
     "metadata": {},
     "output_type": "display_data"
    },
    {
     "name": "stdout",
     "output_type": "stream",
     "text": [
      "\n"
     ]
    },
    {
     "data": {
      "application/vnd.jupyter.widget-view+json": {
       "model_id": "47fa07338bfc4a0bb9e9e906155175f3",
       "version_major": 2,
       "version_minor": 0
      },
      "text/plain": [
       "HBox(children=(HTML(value=''), FloatProgress(value=0.0, max=284.0), HTML(value='')))"
      ]
     },
     "metadata": {},
     "output_type": "display_data"
    },
    {
     "name": "stdout",
     "output_type": "stream",
     "text": [
      "\n"
     ]
    },
    {
     "data": {
      "application/vnd.jupyter.widget-view+json": {
       "model_id": "c76e59476ff64ee5879dda6b38a4a927",
       "version_major": 2,
       "version_minor": 0
      },
      "text/plain": [
       "HBox(children=(HTML(value=''), FloatProgress(value=0.0, max=343.0), HTML(value='')))"
      ]
     },
     "metadata": {},
     "output_type": "display_data"
    },
    {
     "name": "stdout",
     "output_type": "stream",
     "text": [
      "\n"
     ]
    },
    {
     "data": {
      "application/vnd.jupyter.widget-view+json": {
       "model_id": "43dfe2a917604b08a87078ea874fa38b",
       "version_major": 2,
       "version_minor": 0
      },
      "text/plain": [
       "HBox(children=(HTML(value=''), FloatProgress(value=0.0, max=308.0), HTML(value='')))"
      ]
     },
     "metadata": {},
     "output_type": "display_data"
    },
    {
     "name": "stdout",
     "output_type": "stream",
     "text": [
      "\n"
     ]
    },
    {
     "data": {
      "application/vnd.jupyter.widget-view+json": {
       "model_id": "901950e058194cdf8c11a709ec006cc2",
       "version_major": 2,
       "version_minor": 0
      },
      "text/plain": [
       "HBox(children=(HTML(value=''), FloatProgress(value=0.0, max=299.0), HTML(value='')))"
      ]
     },
     "metadata": {},
     "output_type": "display_data"
    },
    {
     "name": "stdout",
     "output_type": "stream",
     "text": [
      "\n"
     ]
    },
    {
     "data": {
      "application/vnd.jupyter.widget-view+json": {
       "model_id": "e68134c6219145a298e61758d2d75249",
       "version_major": 2,
       "version_minor": 0
      },
      "text/plain": [
       "HBox(children=(HTML(value=''), FloatProgress(value=0.0, max=317.0), HTML(value='')))"
      ]
     },
     "metadata": {},
     "output_type": "display_data"
    },
    {
     "name": "stdout",
     "output_type": "stream",
     "text": [
      "\n"
     ]
    },
    {
     "data": {
      "application/vnd.jupyter.widget-view+json": {
       "model_id": "783bf68abf8b49a98f61e06e51cc0c04",
       "version_major": 2,
       "version_minor": 0
      },
      "text/plain": [
       "HBox(children=(HTML(value=''), FloatProgress(value=0.0, max=307.0), HTML(value='')))"
      ]
     },
     "metadata": {},
     "output_type": "display_data"
    },
    {
     "name": "stdout",
     "output_type": "stream",
     "text": [
      "\n"
     ]
    },
    {
     "data": {
      "application/vnd.jupyter.widget-view+json": {
       "model_id": "8e83ebd30e3446dbba68fbffefcfcaa5",
       "version_major": 2,
       "version_minor": 0
      },
      "text/plain": [
       "HBox(children=(HTML(value=''), FloatProgress(value=0.0, max=331.0), HTML(value='')))"
      ]
     },
     "metadata": {},
     "output_type": "display_data"
    },
    {
     "name": "stdout",
     "output_type": "stream",
     "text": [
      "\n"
     ]
    },
    {
     "data": {
      "application/vnd.jupyter.widget-view+json": {
       "model_id": "20d7e89b491c406baa1d6502fc197f55",
       "version_major": 2,
       "version_minor": 0
      },
      "text/plain": [
       "HBox(children=(HTML(value=''), FloatProgress(value=0.0, max=334.0), HTML(value='')))"
      ]
     },
     "metadata": {},
     "output_type": "display_data"
    },
    {
     "name": "stdout",
     "output_type": "stream",
     "text": [
      "\n"
     ]
    },
    {
     "data": {
      "application/vnd.jupyter.widget-view+json": {
       "model_id": "4f171f00a6e7428ea456bcfe70a0a114",
       "version_major": 2,
       "version_minor": 0
      },
      "text/plain": [
       "HBox(children=(HTML(value=''), FloatProgress(value=0.0, max=348.0), HTML(value='')))"
      ]
     },
     "metadata": {},
     "output_type": "display_data"
    },
    {
     "name": "stdout",
     "output_type": "stream",
     "text": [
      "\n"
     ]
    },
    {
     "data": {
      "application/vnd.jupyter.widget-view+json": {
       "model_id": "59c55b0f50974913a0132bdc80213176",
       "version_major": 2,
       "version_minor": 0
      },
      "text/plain": [
       "HBox(children=(HTML(value=''), FloatProgress(value=0.0, max=295.0), HTML(value='')))"
      ]
     },
     "metadata": {},
     "output_type": "display_data"
    },
    {
     "name": "stdout",
     "output_type": "stream",
     "text": [
      "\n"
     ]
    },
    {
     "data": {
      "application/vnd.jupyter.widget-view+json": {
       "model_id": "8201ba49b8c34a47bd4dca7c6020d0fd",
       "version_major": 2,
       "version_minor": 0
      },
      "text/plain": [
       "HBox(children=(HTML(value=''), FloatProgress(value=0.0, max=311.0), HTML(value='')))"
      ]
     },
     "metadata": {},
     "output_type": "display_data"
    },
    {
     "name": "stdout",
     "output_type": "stream",
     "text": [
      "\n"
     ]
    },
    {
     "data": {
      "application/vnd.jupyter.widget-view+json": {
       "model_id": "4385d5f6a90e4c90a387a9d30ed5051c",
       "version_major": 2,
       "version_minor": 0
      },
      "text/plain": [
       "HBox(children=(HTML(value=''), FloatProgress(value=0.0, max=317.0), HTML(value='')))"
      ]
     },
     "metadata": {},
     "output_type": "display_data"
    },
    {
     "name": "stdout",
     "output_type": "stream",
     "text": [
      "\n"
     ]
    },
    {
     "data": {
      "application/vnd.jupyter.widget-view+json": {
       "model_id": "701ef89bef454a419f173c5ac6b6b932",
       "version_major": 2,
       "version_minor": 0
      },
      "text/plain": [
       "HBox(children=(HTML(value=''), FloatProgress(value=0.0, max=314.0), HTML(value='')))"
      ]
     },
     "metadata": {},
     "output_type": "display_data"
    },
    {
     "name": "stdout",
     "output_type": "stream",
     "text": [
      "\n"
     ]
    },
    {
     "data": {
      "application/vnd.jupyter.widget-view+json": {
       "model_id": "29f45b4c200945d185250ab967e55b91",
       "version_major": 2,
       "version_minor": 0
      },
      "text/plain": [
       "HBox(children=(HTML(value=''), FloatProgress(value=0.0, max=309.0), HTML(value='')))"
      ]
     },
     "metadata": {},
     "output_type": "display_data"
    },
    {
     "name": "stdout",
     "output_type": "stream",
     "text": [
      "\n"
     ]
    },
    {
     "data": {
      "application/vnd.jupyter.widget-view+json": {
       "model_id": "dd8cd96200e44b6caf940dd496bfad4b",
       "version_major": 2,
       "version_minor": 0
      },
      "text/plain": [
       "HBox(children=(HTML(value=''), FloatProgress(value=0.0, max=319.0), HTML(value='')))"
      ]
     },
     "metadata": {},
     "output_type": "display_data"
    },
    {
     "name": "stdout",
     "output_type": "stream",
     "text": [
      "\n"
     ]
    },
    {
     "data": {
      "application/vnd.jupyter.widget-view+json": {
       "model_id": "43380286b18d43609d3cf58cc94526ee",
       "version_major": 2,
       "version_minor": 0
      },
      "text/plain": [
       "HBox(children=(HTML(value=''), FloatProgress(value=0.0, max=316.0), HTML(value='')))"
      ]
     },
     "metadata": {},
     "output_type": "display_data"
    },
    {
     "name": "stdout",
     "output_type": "stream",
     "text": [
      "\n"
     ]
    },
    {
     "data": {
      "application/vnd.jupyter.widget-view+json": {
       "model_id": "273cd39940ff4a219d72695fbf1f2e01",
       "version_major": 2,
       "version_minor": 0
      },
      "text/plain": [
       "HBox(children=(HTML(value=''), FloatProgress(value=0.0, max=299.0), HTML(value='')))"
      ]
     },
     "metadata": {},
     "output_type": "display_data"
    },
    {
     "name": "stdout",
     "output_type": "stream",
     "text": [
      "\n"
     ]
    },
    {
     "data": {
      "application/vnd.jupyter.widget-view+json": {
       "model_id": "30da00dd58544c5b992571c88aebb16c",
       "version_major": 2,
       "version_minor": 0
      },
      "text/plain": [
       "HBox(children=(HTML(value=''), FloatProgress(value=0.0, max=292.0), HTML(value='')))"
      ]
     },
     "metadata": {},
     "output_type": "display_data"
    },
    {
     "name": "stdout",
     "output_type": "stream",
     "text": [
      "\n"
     ]
    },
    {
     "data": {
      "application/vnd.jupyter.widget-view+json": {
       "model_id": "033b2b67dadd420ca1c7586437cc2333",
       "version_major": 2,
       "version_minor": 0
      },
      "text/plain": [
       "HBox(children=(HTML(value=''), FloatProgress(value=0.0, max=345.0), HTML(value='')))"
      ]
     },
     "metadata": {},
     "output_type": "display_data"
    },
    {
     "name": "stdout",
     "output_type": "stream",
     "text": [
      "\n"
     ]
    },
    {
     "data": {
      "application/vnd.jupyter.widget-view+json": {
       "model_id": "13c2ffcfded243e88ec5f82210bb4e9c",
       "version_major": 2,
       "version_minor": 0
      },
      "text/plain": [
       "HBox(children=(HTML(value=''), FloatProgress(value=0.0, max=301.0), HTML(value='')))"
      ]
     },
     "metadata": {},
     "output_type": "display_data"
    },
    {
     "name": "stdout",
     "output_type": "stream",
     "text": [
      "\n"
     ]
    },
    {
     "data": {
      "application/vnd.jupyter.widget-view+json": {
       "model_id": "be53062e31654796b35617e3e2c2c20e",
       "version_major": 2,
       "version_minor": 0
      },
      "text/plain": [
       "HBox(children=(HTML(value=''), FloatProgress(value=0.0, max=291.0), HTML(value='')))"
      ]
     },
     "metadata": {},
     "output_type": "display_data"
    },
    {
     "name": "stdout",
     "output_type": "stream",
     "text": [
      "\n"
     ]
    },
    {
     "data": {
      "application/vnd.jupyter.widget-view+json": {
       "model_id": "b45f02a6f2344006a727dedd6b08168c",
       "version_major": 2,
       "version_minor": 0
      },
      "text/plain": [
       "HBox(children=(HTML(value=''), FloatProgress(value=0.0, max=346.0), HTML(value='')))"
      ]
     },
     "metadata": {},
     "output_type": "display_data"
    },
    {
     "name": "stdout",
     "output_type": "stream",
     "text": [
      "\n"
     ]
    },
    {
     "data": {
      "application/vnd.jupyter.widget-view+json": {
       "model_id": "112f48b9d7b34645bf971d045b377160",
       "version_major": 2,
       "version_minor": 0
      },
      "text/plain": [
       "HBox(children=(HTML(value=''), FloatProgress(value=0.0, max=296.0), HTML(value='')))"
      ]
     },
     "metadata": {},
     "output_type": "display_data"
    },
    {
     "name": "stdout",
     "output_type": "stream",
     "text": [
      "\n"
     ]
    },
    {
     "data": {
      "application/vnd.jupyter.widget-view+json": {
       "model_id": "4e91092de9b845cf8cf67b3f1416bace",
       "version_major": 2,
       "version_minor": 0
      },
      "text/plain": [
       "HBox(children=(HTML(value=''), FloatProgress(value=0.0, max=310.0), HTML(value='')))"
      ]
     },
     "metadata": {},
     "output_type": "display_data"
    },
    {
     "name": "stdout",
     "output_type": "stream",
     "text": [
      "\n"
     ]
    },
    {
     "data": {
      "application/vnd.jupyter.widget-view+json": {
       "model_id": "734d7c426f794b94aa67802ed73dcb45",
       "version_major": 2,
       "version_minor": 0
      },
      "text/plain": [
       "HBox(children=(HTML(value=''), FloatProgress(value=0.0, max=385.0), HTML(value='')))"
      ]
     },
     "metadata": {},
     "output_type": "display_data"
    },
    {
     "name": "stdout",
     "output_type": "stream",
     "text": [
      "\n"
     ]
    },
    {
     "data": {
      "application/vnd.jupyter.widget-view+json": {
       "model_id": "347c20d0beec4ae598a527174622c92d",
       "version_major": 2,
       "version_minor": 0
      },
      "text/plain": [
       "HBox(children=(HTML(value=''), FloatProgress(value=0.0, max=235.0), HTML(value='')))"
      ]
     },
     "metadata": {},
     "output_type": "display_data"
    },
    {
     "name": "stdout",
     "output_type": "stream",
     "text": [
      "\n"
     ]
    },
    {
     "data": {
      "application/vnd.jupyter.widget-view+json": {
       "model_id": "2e4ce19df9dd40c690c865d3efbdccf4",
       "version_major": 2,
       "version_minor": 0
      },
      "text/plain": [
       "HBox(children=(HTML(value=''), FloatProgress(value=0.0, max=297.0), HTML(value='')))"
      ]
     },
     "metadata": {},
     "output_type": "display_data"
    },
    {
     "name": "stdout",
     "output_type": "stream",
     "text": [
      "\n"
     ]
    },
    {
     "data": {
      "application/vnd.jupyter.widget-view+json": {
       "model_id": "1cb59a18b3ff492793f9cbab8805d1c7",
       "version_major": 2,
       "version_minor": 0
      },
      "text/plain": [
       "HBox(children=(HTML(value=''), FloatProgress(value=0.0, max=395.0), HTML(value='')))"
      ]
     },
     "metadata": {},
     "output_type": "display_data"
    },
    {
     "name": "stdout",
     "output_type": "stream",
     "text": [
      "\n"
     ]
    },
    {
     "data": {
      "application/vnd.jupyter.widget-view+json": {
       "model_id": "6023aa67b37c4b9f943b5eb36170ef10",
       "version_major": 2,
       "version_minor": 0
      },
      "text/plain": [
       "HBox(children=(HTML(value=''), FloatProgress(value=0.0, max=329.0), HTML(value='')))"
      ]
     },
     "metadata": {},
     "output_type": "display_data"
    },
    {
     "name": "stdout",
     "output_type": "stream",
     "text": [
      "\n"
     ]
    },
    {
     "data": {
      "application/vnd.jupyter.widget-view+json": {
       "model_id": "9a6ed8be88304ec681ebaa4594826372",
       "version_major": 2,
       "version_minor": 0
      },
      "text/plain": [
       "HBox(children=(HTML(value=''), FloatProgress(value=0.0, max=282.0), HTML(value='')))"
      ]
     },
     "metadata": {},
     "output_type": "display_data"
    },
    {
     "name": "stdout",
     "output_type": "stream",
     "text": [
      "\n"
     ]
    },
    {
     "data": {
      "application/vnd.jupyter.widget-view+json": {
       "model_id": "75f957c4481c4be5a200535d3fe20398",
       "version_major": 2,
       "version_minor": 0
      },
      "text/plain": [
       "HBox(children=(HTML(value=''), FloatProgress(value=0.0, max=286.0), HTML(value='')))"
      ]
     },
     "metadata": {},
     "output_type": "display_data"
    },
    {
     "name": "stdout",
     "output_type": "stream",
     "text": [
      "\n"
     ]
    },
    {
     "data": {
      "application/vnd.jupyter.widget-view+json": {
       "model_id": "be0358d095b74d489ba5e2cd22b9cdf2",
       "version_major": 2,
       "version_minor": 0
      },
      "text/plain": [
       "HBox(children=(HTML(value=''), FloatProgress(value=0.0, max=285.0), HTML(value='')))"
      ]
     },
     "metadata": {},
     "output_type": "display_data"
    },
    {
     "name": "stdout",
     "output_type": "stream",
     "text": [
      "\n"
     ]
    },
    {
     "data": {
      "application/vnd.jupyter.widget-view+json": {
       "model_id": "704906b92e174385be35d41f6567e598",
       "version_major": 2,
       "version_minor": 0
      },
      "text/plain": [
       "HBox(children=(HTML(value=''), FloatProgress(value=0.0, max=383.0), HTML(value='')))"
      ]
     },
     "metadata": {},
     "output_type": "display_data"
    },
    {
     "name": "stdout",
     "output_type": "stream",
     "text": [
      "\n"
     ]
    },
    {
     "data": {
      "application/vnd.jupyter.widget-view+json": {
       "model_id": "17ea2c051f974f6ea0546e1b10d2c0fb",
       "version_major": 2,
       "version_minor": 0
      },
      "text/plain": [
       "HBox(children=(HTML(value=''), FloatProgress(value=0.0, max=307.0), HTML(value='')))"
      ]
     },
     "metadata": {},
     "output_type": "display_data"
    },
    {
     "name": "stdout",
     "output_type": "stream",
     "text": [
      "\n"
     ]
    },
    {
     "data": {
      "application/vnd.jupyter.widget-view+json": {
       "model_id": "56005324c878432a90db55e76980d0bb",
       "version_major": 2,
       "version_minor": 0
      },
      "text/plain": [
       "HBox(children=(HTML(value=''), FloatProgress(value=0.0, max=268.0), HTML(value='')))"
      ]
     },
     "metadata": {},
     "output_type": "display_data"
    },
    {
     "name": "stdout",
     "output_type": "stream",
     "text": [
      "\n"
     ]
    },
    {
     "data": {
      "application/vnd.jupyter.widget-view+json": {
       "model_id": "1bfe6c17f6c841269c5e0baa9a0ffcc7",
       "version_major": 2,
       "version_minor": 0
      },
      "text/plain": [
       "HBox(children=(HTML(value=''), FloatProgress(value=0.0, max=292.0), HTML(value='')))"
      ]
     },
     "metadata": {},
     "output_type": "display_data"
    },
    {
     "name": "stdout",
     "output_type": "stream",
     "text": [
      "\n"
     ]
    },
    {
     "data": {
      "application/vnd.jupyter.widget-view+json": {
       "model_id": "24e42827677f49208654a17ec4ae0992",
       "version_major": 2,
       "version_minor": 0
      },
      "text/plain": [
       "HBox(children=(HTML(value=''), FloatProgress(value=0.0, max=303.0), HTML(value='')))"
      ]
     },
     "metadata": {},
     "output_type": "display_data"
    },
    {
     "name": "stdout",
     "output_type": "stream",
     "text": [
      "\n"
     ]
    },
    {
     "data": {
      "application/vnd.jupyter.widget-view+json": {
       "model_id": "7b092e37906c497f918d916929551855",
       "version_major": 2,
       "version_minor": 0
      },
      "text/plain": [
       "HBox(children=(HTML(value=''), FloatProgress(value=0.0, max=337.0), HTML(value='')))"
      ]
     },
     "metadata": {},
     "output_type": "display_data"
    },
    {
     "name": "stdout",
     "output_type": "stream",
     "text": [
      "\n"
     ]
    },
    {
     "data": {
      "application/vnd.jupyter.widget-view+json": {
       "model_id": "2d1459b8f5364b8cbd7392493c74f574",
       "version_major": 2,
       "version_minor": 0
      },
      "text/plain": [
       "HBox(children=(HTML(value=''), FloatProgress(value=0.0, max=303.0), HTML(value='')))"
      ]
     },
     "metadata": {},
     "output_type": "display_data"
    },
    {
     "name": "stdout",
     "output_type": "stream",
     "text": [
      "\n"
     ]
    },
    {
     "data": {
      "application/vnd.jupyter.widget-view+json": {
       "model_id": "88efbd1a09d543e9b78b42e91beb0e88",
       "version_major": 2,
       "version_minor": 0
      },
      "text/plain": [
       "HBox(children=(HTML(value=''), FloatProgress(value=0.0, max=306.0), HTML(value='')))"
      ]
     },
     "metadata": {},
     "output_type": "display_data"
    },
    {
     "name": "stdout",
     "output_type": "stream",
     "text": [
      "\n"
     ]
    },
    {
     "data": {
      "application/vnd.jupyter.widget-view+json": {
       "model_id": "cee2ba5ac47544679b93fade0285454b",
       "version_major": 2,
       "version_minor": 0
      },
      "text/plain": [
       "HBox(children=(HTML(value=''), FloatProgress(value=0.0, max=296.0), HTML(value='')))"
      ]
     },
     "metadata": {},
     "output_type": "display_data"
    },
    {
     "name": "stdout",
     "output_type": "stream",
     "text": [
      "\n"
     ]
    },
    {
     "data": {
      "application/vnd.jupyter.widget-view+json": {
       "model_id": "f50ebb4fae2841cfa56f88c9bfa5e5db",
       "version_major": 2,
       "version_minor": 0
      },
      "text/plain": [
       "HBox(children=(HTML(value=''), FloatProgress(value=0.0, max=289.0), HTML(value='')))"
      ]
     },
     "metadata": {},
     "output_type": "display_data"
    },
    {
     "name": "stdout",
     "output_type": "stream",
     "text": [
      "\n"
     ]
    },
    {
     "data": {
      "application/vnd.jupyter.widget-view+json": {
       "model_id": "3b5115bc162b42dd9fd7a2cf36c9e921",
       "version_major": 2,
       "version_minor": 0
      },
      "text/plain": [
       "HBox(children=(HTML(value=''), FloatProgress(value=0.0, max=310.0), HTML(value='')))"
      ]
     },
     "metadata": {},
     "output_type": "display_data"
    },
    {
     "name": "stdout",
     "output_type": "stream",
     "text": [
      "\n"
     ]
    },
    {
     "data": {
      "application/vnd.jupyter.widget-view+json": {
       "model_id": "a8d53576a33f47f38f46e266a8be0cc7",
       "version_major": 2,
       "version_minor": 0
      },
      "text/plain": [
       "HBox(children=(HTML(value=''), FloatProgress(value=0.0, max=292.0), HTML(value='')))"
      ]
     },
     "metadata": {},
     "output_type": "display_data"
    },
    {
     "name": "stdout",
     "output_type": "stream",
     "text": [
      "\n"
     ]
    },
    {
     "data": {
      "application/vnd.jupyter.widget-view+json": {
       "model_id": "1a12bfd8580f422db813d8adbac484e8",
       "version_major": 2,
       "version_minor": 0
      },
      "text/plain": [
       "HBox(children=(HTML(value=''), FloatProgress(value=0.0, max=316.0), HTML(value='')))"
      ]
     },
     "metadata": {},
     "output_type": "display_data"
    },
    {
     "name": "stdout",
     "output_type": "stream",
     "text": [
      "\n"
     ]
    },
    {
     "data": {
      "application/vnd.jupyter.widget-view+json": {
       "model_id": "e32092751bfe46288df20b1cb628883f",
       "version_major": 2,
       "version_minor": 0
      },
      "text/plain": [
       "HBox(children=(HTML(value=''), FloatProgress(value=0.0, max=312.0), HTML(value='')))"
      ]
     },
     "metadata": {},
     "output_type": "display_data"
    },
    {
     "name": "stdout",
     "output_type": "stream",
     "text": [
      "\n"
     ]
    },
    {
     "data": {
      "application/vnd.jupyter.widget-view+json": {
       "model_id": "1ec5b34ec23042409a39a2730aa2edb2",
       "version_major": 2,
       "version_minor": 0
      },
      "text/plain": [
       "HBox(children=(HTML(value=''), FloatProgress(value=0.0, max=346.0), HTML(value='')))"
      ]
     },
     "metadata": {},
     "output_type": "display_data"
    },
    {
     "name": "stdout",
     "output_type": "stream",
     "text": [
      "\n"
     ]
    },
    {
     "data": {
      "application/vnd.jupyter.widget-view+json": {
       "model_id": "a9620dc848344b2d8f73bccaeff8ff93",
       "version_major": 2,
       "version_minor": 0
      },
      "text/plain": [
       "HBox(children=(HTML(value=''), FloatProgress(value=0.0, max=294.0), HTML(value='')))"
      ]
     },
     "metadata": {},
     "output_type": "display_data"
    },
    {
     "name": "stdout",
     "output_type": "stream",
     "text": [
      "\n"
     ]
    },
    {
     "data": {
      "application/vnd.jupyter.widget-view+json": {
       "model_id": "4804633b218643f082ef05c7db9a6f5d",
       "version_major": 2,
       "version_minor": 0
      },
      "text/plain": [
       "HBox(children=(HTML(value=''), FloatProgress(value=0.0, max=316.0), HTML(value='')))"
      ]
     },
     "metadata": {},
     "output_type": "display_data"
    },
    {
     "name": "stdout",
     "output_type": "stream",
     "text": [
      "\n"
     ]
    },
    {
     "data": {
      "application/vnd.jupyter.widget-view+json": {
       "model_id": "a5c63833605c4e59b1ed5f91265bc1bc",
       "version_major": 2,
       "version_minor": 0
      },
      "text/plain": [
       "HBox(children=(HTML(value=''), FloatProgress(value=0.0, max=312.0), HTML(value='')))"
      ]
     },
     "metadata": {},
     "output_type": "display_data"
    },
    {
     "name": "stdout",
     "output_type": "stream",
     "text": [
      "\n"
     ]
    },
    {
     "data": {
      "application/vnd.jupyter.widget-view+json": {
       "model_id": "6a0d8298885c4ebc84558966a6d419ee",
       "version_major": 2,
       "version_minor": 0
      },
      "text/plain": [
       "HBox(children=(HTML(value=''), FloatProgress(value=0.0, max=294.0), HTML(value='')))"
      ]
     },
     "metadata": {},
     "output_type": "display_data"
    },
    {
     "name": "stdout",
     "output_type": "stream",
     "text": [
      "\n"
     ]
    },
    {
     "data": {
      "application/vnd.jupyter.widget-view+json": {
       "model_id": "4bd8cfd25ba14c0cbc6769210ae7c989",
       "version_major": 2,
       "version_minor": 0
      },
      "text/plain": [
       "HBox(children=(HTML(value=''), FloatProgress(value=0.0, max=287.0), HTML(value='')))"
      ]
     },
     "metadata": {},
     "output_type": "display_data"
    },
    {
     "name": "stdout",
     "output_type": "stream",
     "text": [
      "\n"
     ]
    },
    {
     "data": {
      "application/vnd.jupyter.widget-view+json": {
       "model_id": "46c83ab1184f4f1599f3f989f08e300c",
       "version_major": 2,
       "version_minor": 0
      },
      "text/plain": [
       "HBox(children=(HTML(value=''), FloatProgress(value=0.0, max=386.0), HTML(value='')))"
      ]
     },
     "metadata": {},
     "output_type": "display_data"
    },
    {
     "name": "stdout",
     "output_type": "stream",
     "text": [
      "\n"
     ]
    },
    {
     "data": {
      "application/vnd.jupyter.widget-view+json": {
       "model_id": "b45d7772636b4015a7e31c52486d5db1",
       "version_major": 2,
       "version_minor": 0
      },
      "text/plain": [
       "HBox(children=(HTML(value=''), FloatProgress(value=0.0, max=337.0), HTML(value='')))"
      ]
     },
     "metadata": {},
     "output_type": "display_data"
    },
    {
     "name": "stdout",
     "output_type": "stream",
     "text": [
      "\n"
     ]
    },
    {
     "data": {
      "application/vnd.jupyter.widget-view+json": {
       "model_id": "9250955392724d65b3f96484a121cec6",
       "version_major": 2,
       "version_minor": 0
      },
      "text/plain": [
       "HBox(children=(HTML(value=''), FloatProgress(value=0.0, max=306.0), HTML(value='')))"
      ]
     },
     "metadata": {},
     "output_type": "display_data"
    },
    {
     "name": "stdout",
     "output_type": "stream",
     "text": [
      "\n"
     ]
    },
    {
     "data": {
      "application/vnd.jupyter.widget-view+json": {
       "model_id": "d7d6cb0548fd4119bde4f7ed02cb2f70",
       "version_major": 2,
       "version_minor": 0
      },
      "text/plain": [
       "HBox(children=(HTML(value=''), FloatProgress(value=0.0, max=377.0), HTML(value='')))"
      ]
     },
     "metadata": {},
     "output_type": "display_data"
    },
    {
     "name": "stdout",
     "output_type": "stream",
     "text": [
      "\n"
     ]
    },
    {
     "data": {
      "application/vnd.jupyter.widget-view+json": {
       "model_id": "d889e1c805744638b29105541cf83a7d",
       "version_major": 2,
       "version_minor": 0
      },
      "text/plain": [
       "HBox(children=(HTML(value=''), FloatProgress(value=0.0, max=289.0), HTML(value='')))"
      ]
     },
     "metadata": {},
     "output_type": "display_data"
    },
    {
     "name": "stdout",
     "output_type": "stream",
     "text": [
      "\n"
     ]
    },
    {
     "data": {
      "application/vnd.jupyter.widget-view+json": {
       "model_id": "d63512eb479c40ab90bec712b37de94b",
       "version_major": 2,
       "version_minor": 0
      },
      "text/plain": [
       "HBox(children=(HTML(value=''), FloatProgress(value=0.0, max=355.0), HTML(value='')))"
      ]
     },
     "metadata": {},
     "output_type": "display_data"
    },
    {
     "name": "stdout",
     "output_type": "stream",
     "text": [
      "\n"
     ]
    },
    {
     "data": {
      "application/vnd.jupyter.widget-view+json": {
       "model_id": "61e95bdedb4b4c2ea32776b1feceaa97",
       "version_major": 2,
       "version_minor": 0
      },
      "text/plain": [
       "HBox(children=(HTML(value=''), FloatProgress(value=0.0, max=353.0), HTML(value='')))"
      ]
     },
     "metadata": {},
     "output_type": "display_data"
    },
    {
     "name": "stdout",
     "output_type": "stream",
     "text": [
      "\n"
     ]
    },
    {
     "data": {
      "application/vnd.jupyter.widget-view+json": {
       "model_id": "598c82510daa44df9c554a3aed380d2a",
       "version_major": 2,
       "version_minor": 0
      },
      "text/plain": [
       "HBox(children=(HTML(value=''), FloatProgress(value=0.0, max=284.0), HTML(value='')))"
      ]
     },
     "metadata": {},
     "output_type": "display_data"
    },
    {
     "name": "stdout",
     "output_type": "stream",
     "text": [
      "\n"
     ]
    },
    {
     "data": {
      "application/vnd.jupyter.widget-view+json": {
       "model_id": "052383a296bb4c41bb37b444c98f5ae0",
       "version_major": 2,
       "version_minor": 0
      },
      "text/plain": [
       "HBox(children=(HTML(value=''), FloatProgress(value=0.0, max=310.0), HTML(value='')))"
      ]
     },
     "metadata": {},
     "output_type": "display_data"
    },
    {
     "name": "stdout",
     "output_type": "stream",
     "text": [
      "\n"
     ]
    },
    {
     "data": {
      "application/vnd.jupyter.widget-view+json": {
       "model_id": "838afb32df5f4ec6b872e899e3077a91",
       "version_major": 2,
       "version_minor": 0
      },
      "text/plain": [
       "HBox(children=(HTML(value=''), FloatProgress(value=0.0, max=273.0), HTML(value='')))"
      ]
     },
     "metadata": {},
     "output_type": "display_data"
    },
    {
     "name": "stdout",
     "output_type": "stream",
     "text": [
      "\n"
     ]
    },
    {
     "data": {
      "application/vnd.jupyter.widget-view+json": {
       "model_id": "02fce7c8d3184a5c8d759a8326180d30",
       "version_major": 2,
       "version_minor": 0
      },
      "text/plain": [
       "HBox(children=(HTML(value=''), FloatProgress(value=0.0, max=325.0), HTML(value='')))"
      ]
     },
     "metadata": {},
     "output_type": "display_data"
    },
    {
     "name": "stdout",
     "output_type": "stream",
     "text": [
      "\n"
     ]
    },
    {
     "data": {
      "application/vnd.jupyter.widget-view+json": {
       "model_id": "94ef1fad322447d4ac1f86951ec10276",
       "version_major": 2,
       "version_minor": 0
      },
      "text/plain": [
       "HBox(children=(HTML(value=''), FloatProgress(value=0.0, max=302.0), HTML(value='')))"
      ]
     },
     "metadata": {},
     "output_type": "display_data"
    },
    {
     "name": "stdout",
     "output_type": "stream",
     "text": [
      "\n"
     ]
    },
    {
     "data": {
      "application/vnd.jupyter.widget-view+json": {
       "model_id": "8777be7b13db4444bcf9507911d5cc7f",
       "version_major": 2,
       "version_minor": 0
      },
      "text/plain": [
       "HBox(children=(HTML(value=''), FloatProgress(value=0.0, max=312.0), HTML(value='')))"
      ]
     },
     "metadata": {},
     "output_type": "display_data"
    },
    {
     "name": "stdout",
     "output_type": "stream",
     "text": [
      "\n"
     ]
    },
    {
     "data": {
      "application/vnd.jupyter.widget-view+json": {
       "model_id": "a73f9a0637fd4c4b9324ec55c66ed975",
       "version_major": 2,
       "version_minor": 0
      },
      "text/plain": [
       "HBox(children=(HTML(value=''), FloatProgress(value=0.0, max=302.0), HTML(value='')))"
      ]
     },
     "metadata": {},
     "output_type": "display_data"
    },
    {
     "name": "stdout",
     "output_type": "stream",
     "text": [
      "\n"
     ]
    },
    {
     "data": {
      "application/vnd.jupyter.widget-view+json": {
       "model_id": "0c119f3b4fe948e981cba83c01313578",
       "version_major": 2,
       "version_minor": 0
      },
      "text/plain": [
       "HBox(children=(HTML(value=''), FloatProgress(value=0.0, max=299.0), HTML(value='')))"
      ]
     },
     "metadata": {},
     "output_type": "display_data"
    },
    {
     "name": "stdout",
     "output_type": "stream",
     "text": [
      "\n"
     ]
    },
    {
     "data": {
      "application/vnd.jupyter.widget-view+json": {
       "model_id": "2134decae8314cc1b2ed9a8558dbfc44",
       "version_major": 2,
       "version_minor": 0
      },
      "text/plain": [
       "HBox(children=(HTML(value=''), FloatProgress(value=0.0, max=304.0), HTML(value='')))"
      ]
     },
     "metadata": {},
     "output_type": "display_data"
    },
    {
     "name": "stdout",
     "output_type": "stream",
     "text": [
      "\n"
     ]
    },
    {
     "data": {
      "application/vnd.jupyter.widget-view+json": {
       "model_id": "5ac27c4224fd43af99ad65d04aeaf001",
       "version_major": 2,
       "version_minor": 0
      },
      "text/plain": [
       "HBox(children=(HTML(value=''), FloatProgress(value=0.0, max=319.0), HTML(value='')))"
      ]
     },
     "metadata": {},
     "output_type": "display_data"
    },
    {
     "name": "stdout",
     "output_type": "stream",
     "text": [
      "\n"
     ]
    },
    {
     "data": {
      "application/vnd.jupyter.widget-view+json": {
       "model_id": "a4780a0e17b743ca83e36f8722b32299",
       "version_major": 2,
       "version_minor": 0
      },
      "text/plain": [
       "HBox(children=(HTML(value=''), FloatProgress(value=0.0, max=348.0), HTML(value='')))"
      ]
     },
     "metadata": {},
     "output_type": "display_data"
    },
    {
     "name": "stdout",
     "output_type": "stream",
     "text": [
      "\n"
     ]
    },
    {
     "data": {
      "application/vnd.jupyter.widget-view+json": {
       "model_id": "9384a82be0bd40bda4ac0f1c6ac30625",
       "version_major": 2,
       "version_minor": 0
      },
      "text/plain": [
       "HBox(children=(HTML(value=''), FloatProgress(value=0.0, max=335.0), HTML(value='')))"
      ]
     },
     "metadata": {},
     "output_type": "display_data"
    },
    {
     "name": "stdout",
     "output_type": "stream",
     "text": [
      "\n"
     ]
    },
    {
     "data": {
      "application/vnd.jupyter.widget-view+json": {
       "model_id": "49aab188e0e34b4184b11889056a728b",
       "version_major": 2,
       "version_minor": 0
      },
      "text/plain": [
       "HBox(children=(HTML(value=''), FloatProgress(value=0.0, max=331.0), HTML(value='')))"
      ]
     },
     "metadata": {},
     "output_type": "display_data"
    },
    {
     "name": "stdout",
     "output_type": "stream",
     "text": [
      "\n"
     ]
    },
    {
     "data": {
      "application/vnd.jupyter.widget-view+json": {
       "model_id": "2e404b8e6c0a4b25921dd7af7c73c029",
       "version_major": 2,
       "version_minor": 0
      },
      "text/plain": [
       "HBox(children=(HTML(value=''), FloatProgress(value=0.0, max=319.0), HTML(value='')))"
      ]
     },
     "metadata": {},
     "output_type": "display_data"
    },
    {
     "name": "stdout",
     "output_type": "stream",
     "text": [
      "\n"
     ]
    },
    {
     "data": {
      "application/vnd.jupyter.widget-view+json": {
       "model_id": "a6aa4c7c7aba450095659811b2b1f202",
       "version_major": 2,
       "version_minor": 0
      },
      "text/plain": [
       "HBox(children=(HTML(value=''), FloatProgress(value=0.0, max=307.0), HTML(value='')))"
      ]
     },
     "metadata": {},
     "output_type": "display_data"
    },
    {
     "name": "stdout",
     "output_type": "stream",
     "text": [
      "\n"
     ]
    },
    {
     "data": {
      "application/vnd.jupyter.widget-view+json": {
       "model_id": "09b9fe04f20c4919a2aa8d0176a0e603",
       "version_major": 2,
       "version_minor": 0
      },
      "text/plain": [
       "HBox(children=(HTML(value=''), FloatProgress(value=0.0, max=302.0), HTML(value='')))"
      ]
     },
     "metadata": {},
     "output_type": "display_data"
    },
    {
     "name": "stdout",
     "output_type": "stream",
     "text": [
      "\n"
     ]
    },
    {
     "data": {
      "application/vnd.jupyter.widget-view+json": {
       "model_id": "b2fefcb0dd5947a8900890a1e226c546",
       "version_major": 2,
       "version_minor": 0
      },
      "text/plain": [
       "HBox(children=(HTML(value=''), FloatProgress(value=0.0, max=309.0), HTML(value='')))"
      ]
     },
     "metadata": {},
     "output_type": "display_data"
    },
    {
     "name": "stdout",
     "output_type": "stream",
     "text": [
      "\n"
     ]
    },
    {
     "data": {
      "application/vnd.jupyter.widget-view+json": {
       "model_id": "95553d9befd34f19ad15977ee9f9de7d",
       "version_major": 2,
       "version_minor": 0
      },
      "text/plain": [
       "HBox(children=(HTML(value=''), FloatProgress(value=0.0, max=328.0), HTML(value='')))"
      ]
     },
     "metadata": {},
     "output_type": "display_data"
    },
    {
     "name": "stdout",
     "output_type": "stream",
     "text": [
      "\n"
     ]
    },
    {
     "data": {
      "application/vnd.jupyter.widget-view+json": {
       "model_id": "96f79870e16f4cd780eca37215cce6f9",
       "version_major": 2,
       "version_minor": 0
      },
      "text/plain": [
       "HBox(children=(HTML(value=''), FloatProgress(value=0.0, max=285.0), HTML(value='')))"
      ]
     },
     "metadata": {},
     "output_type": "display_data"
    },
    {
     "name": "stdout",
     "output_type": "stream",
     "text": [
      "\n"
     ]
    },
    {
     "data": {
      "application/vnd.jupyter.widget-view+json": {
       "model_id": "c63c0b91cfc04b0eba63562ead806cd4",
       "version_major": 2,
       "version_minor": 0
      },
      "text/plain": [
       "HBox(children=(HTML(value=''), FloatProgress(value=0.0, max=336.0), HTML(value='')))"
      ]
     },
     "metadata": {},
     "output_type": "display_data"
    },
    {
     "name": "stdout",
     "output_type": "stream",
     "text": [
      "\n"
     ]
    },
    {
     "data": {
      "application/vnd.jupyter.widget-view+json": {
       "model_id": "1ef643eeece44d24807cdcd650668903",
       "version_major": 2,
       "version_minor": 0
      },
      "text/plain": [
       "HBox(children=(HTML(value=''), FloatProgress(value=0.0, max=356.0), HTML(value='')))"
      ]
     },
     "metadata": {},
     "output_type": "display_data"
    },
    {
     "name": "stdout",
     "output_type": "stream",
     "text": [
      "\n"
     ]
    },
    {
     "data": {
      "application/vnd.jupyter.widget-view+json": {
       "model_id": "1628bcb91a684dd58a7852d8e261bf9e",
       "version_major": 2,
       "version_minor": 0
      },
      "text/plain": [
       "HBox(children=(HTML(value=''), FloatProgress(value=0.0, max=309.0), HTML(value='')))"
      ]
     },
     "metadata": {},
     "output_type": "display_data"
    },
    {
     "name": "stdout",
     "output_type": "stream",
     "text": [
      "\n"
     ]
    },
    {
     "data": {
      "application/vnd.jupyter.widget-view+json": {
       "model_id": "503a8361849c4249a6761b7860add87f",
       "version_major": 2,
       "version_minor": 0
      },
      "text/plain": [
       "HBox(children=(HTML(value=''), FloatProgress(value=0.0, max=296.0), HTML(value='')))"
      ]
     },
     "metadata": {},
     "output_type": "display_data"
    },
    {
     "name": "stdout",
     "output_type": "stream",
     "text": [
      "\n"
     ]
    },
    {
     "data": {
      "application/vnd.jupyter.widget-view+json": {
       "model_id": "9989ce3ffc284c3fbe26e27396ec357d",
       "version_major": 2,
       "version_minor": 0
      },
      "text/plain": [
       "HBox(children=(HTML(value=''), FloatProgress(value=0.0, max=379.0), HTML(value='')))"
      ]
     },
     "metadata": {},
     "output_type": "display_data"
    },
    {
     "name": "stdout",
     "output_type": "stream",
     "text": [
      "\n"
     ]
    },
    {
     "data": {
      "application/vnd.jupyter.widget-view+json": {
       "model_id": "ee08104f7db347589f49e67be3ba8fc3",
       "version_major": 2,
       "version_minor": 0
      },
      "text/plain": [
       "HBox(children=(HTML(value=''), FloatProgress(value=0.0, max=310.0), HTML(value='')))"
      ]
     },
     "metadata": {},
     "output_type": "display_data"
    },
    {
     "name": "stdout",
     "output_type": "stream",
     "text": [
      "\n"
     ]
    },
    {
     "data": {
      "application/vnd.jupyter.widget-view+json": {
       "model_id": "ee0180f0d328431ebc055ac91470a2bd",
       "version_major": 2,
       "version_minor": 0
      },
      "text/plain": [
       "HBox(children=(HTML(value=''), FloatProgress(value=0.0, max=260.0), HTML(value='')))"
      ]
     },
     "metadata": {},
     "output_type": "display_data"
    },
    {
     "name": "stdout",
     "output_type": "stream",
     "text": [
      "\n"
     ]
    },
    {
     "data": {
      "application/vnd.jupyter.widget-view+json": {
       "model_id": "0d8856c6962b4fe9b794c05e0c9f3a8c",
       "version_major": 2,
       "version_minor": 0
      },
      "text/plain": [
       "HBox(children=(HTML(value=''), FloatProgress(value=0.0, max=313.0), HTML(value='')))"
      ]
     },
     "metadata": {},
     "output_type": "display_data"
    },
    {
     "name": "stdout",
     "output_type": "stream",
     "text": [
      "\n"
     ]
    },
    {
     "data": {
      "application/vnd.jupyter.widget-view+json": {
       "model_id": "0f673579c3db49a8a6a610927bef60ad",
       "version_major": 2,
       "version_minor": 0
      },
      "text/plain": [
       "HBox(children=(HTML(value=''), FloatProgress(value=0.0, max=269.0), HTML(value='')))"
      ]
     },
     "metadata": {},
     "output_type": "display_data"
    },
    {
     "name": "stdout",
     "output_type": "stream",
     "text": [
      "\n"
     ]
    },
    {
     "data": {
      "application/vnd.jupyter.widget-view+json": {
       "model_id": "91e7522249b3489cb2e810a39b1193d3",
       "version_major": 2,
       "version_minor": 0
      },
      "text/plain": [
       "HBox(children=(HTML(value=''), FloatProgress(value=0.0, max=336.0), HTML(value='')))"
      ]
     },
     "metadata": {},
     "output_type": "display_data"
    },
    {
     "name": "stdout",
     "output_type": "stream",
     "text": [
      "\n"
     ]
    },
    {
     "data": {
      "application/vnd.jupyter.widget-view+json": {
       "model_id": "651df6f8a1194477895594ec91ff8fe4",
       "version_major": 2,
       "version_minor": 0
      },
      "text/plain": [
       "HBox(children=(HTML(value=''), FloatProgress(value=0.0, max=366.0), HTML(value='')))"
      ]
     },
     "metadata": {},
     "output_type": "display_data"
    },
    {
     "name": "stdout",
     "output_type": "stream",
     "text": [
      "\n"
     ]
    },
    {
     "data": {
      "application/vnd.jupyter.widget-view+json": {
       "model_id": "e47708c4cf5345b897fdfcd144d3718d",
       "version_major": 2,
       "version_minor": 0
      },
      "text/plain": [
       "HBox(children=(HTML(value=''), FloatProgress(value=0.0, max=289.0), HTML(value='')))"
      ]
     },
     "metadata": {},
     "output_type": "display_data"
    },
    {
     "name": "stdout",
     "output_type": "stream",
     "text": [
      "\n"
     ]
    },
    {
     "data": {
      "application/vnd.jupyter.widget-view+json": {
       "model_id": "8ea207b4036c409ab44d6760e3a10dd0",
       "version_major": 2,
       "version_minor": 0
      },
      "text/plain": [
       "HBox(children=(HTML(value=''), FloatProgress(value=0.0, max=275.0), HTML(value='')))"
      ]
     },
     "metadata": {},
     "output_type": "display_data"
    },
    {
     "name": "stdout",
     "output_type": "stream",
     "text": [
      "\n"
     ]
    },
    {
     "data": {
      "application/vnd.jupyter.widget-view+json": {
       "model_id": "cec921822c6b4797b50315e6fa7e5977",
       "version_major": 2,
       "version_minor": 0
      },
      "text/plain": [
       "HBox(children=(HTML(value=''), FloatProgress(value=0.0, max=281.0), HTML(value='')))"
      ]
     },
     "metadata": {},
     "output_type": "display_data"
    },
    {
     "name": "stdout",
     "output_type": "stream",
     "text": [
      "\n"
     ]
    },
    {
     "data": {
      "application/vnd.jupyter.widget-view+json": {
       "model_id": "13258ee697b8410f970d5bcc6081c8e5",
       "version_major": 2,
       "version_minor": 0
      },
      "text/plain": [
       "HBox(children=(HTML(value=''), FloatProgress(value=0.0, max=347.0), HTML(value='')))"
      ]
     },
     "metadata": {},
     "output_type": "display_data"
    },
    {
     "name": "stdout",
     "output_type": "stream",
     "text": [
      "\n"
     ]
    },
    {
     "data": {
      "application/vnd.jupyter.widget-view+json": {
       "model_id": "7817601e89f44eccb73d3bf3fd250b3e",
       "version_major": 2,
       "version_minor": 0
      },
      "text/plain": [
       "HBox(children=(HTML(value=''), FloatProgress(value=0.0, max=270.0), HTML(value='')))"
      ]
     },
     "metadata": {},
     "output_type": "display_data"
    },
    {
     "name": "stdout",
     "output_type": "stream",
     "text": [
      "\n"
     ]
    },
    {
     "data": {
      "application/vnd.jupyter.widget-view+json": {
       "model_id": "6f506de706124431a54889aba2a1dfc2",
       "version_major": 2,
       "version_minor": 0
      },
      "text/plain": [
       "HBox(children=(HTML(value=''), FloatProgress(value=0.0, max=307.0), HTML(value='')))"
      ]
     },
     "metadata": {},
     "output_type": "display_data"
    },
    {
     "name": "stdout",
     "output_type": "stream",
     "text": [
      "\n"
     ]
    },
    {
     "data": {
      "application/vnd.jupyter.widget-view+json": {
       "model_id": "8a67d4a4de8a4e2eb9b503fbc3410596",
       "version_major": 2,
       "version_minor": 0
      },
      "text/plain": [
       "HBox(children=(HTML(value=''), FloatProgress(value=0.0, max=322.0), HTML(value='')))"
      ]
     },
     "metadata": {},
     "output_type": "display_data"
    },
    {
     "name": "stdout",
     "output_type": "stream",
     "text": [
      "\n"
     ]
    },
    {
     "data": {
      "application/vnd.jupyter.widget-view+json": {
       "model_id": "78d4fbc01abe41b9973622b98b4b4233",
       "version_major": 2,
       "version_minor": 0
      },
      "text/plain": [
       "HBox(children=(HTML(value=''), FloatProgress(value=0.0, max=352.0), HTML(value='')))"
      ]
     },
     "metadata": {},
     "output_type": "display_data"
    },
    {
     "name": "stdout",
     "output_type": "stream",
     "text": [
      "\n"
     ]
    },
    {
     "data": {
      "application/vnd.jupyter.widget-view+json": {
       "model_id": "2e477b10455447fd9b090bcbf23b9dfe",
       "version_major": 2,
       "version_minor": 0
      },
      "text/plain": [
       "HBox(children=(HTML(value=''), FloatProgress(value=0.0, max=293.0), HTML(value='')))"
      ]
     },
     "metadata": {},
     "output_type": "display_data"
    },
    {
     "name": "stdout",
     "output_type": "stream",
     "text": [
      "\n"
     ]
    },
    {
     "data": {
      "application/vnd.jupyter.widget-view+json": {
       "model_id": "9be2c77283494fa2a29cf4becd8aca35",
       "version_major": 2,
       "version_minor": 0
      },
      "text/plain": [
       "HBox(children=(HTML(value=''), FloatProgress(value=0.0, max=331.0), HTML(value='')))"
      ]
     },
     "metadata": {},
     "output_type": "display_data"
    },
    {
     "name": "stdout",
     "output_type": "stream",
     "text": [
      "\n"
     ]
    },
    {
     "data": {
      "application/vnd.jupyter.widget-view+json": {
       "model_id": "0230e5bfab724d8f96df49c1f67e3fd4",
       "version_major": 2,
       "version_minor": 0
      },
      "text/plain": [
       "HBox(children=(HTML(value=''), FloatProgress(value=0.0, max=317.0), HTML(value='')))"
      ]
     },
     "metadata": {},
     "output_type": "display_data"
    },
    {
     "name": "stdout",
     "output_type": "stream",
     "text": [
      "\n"
     ]
    },
    {
     "data": {
      "application/vnd.jupyter.widget-view+json": {
       "model_id": "67fe4045049a4f55ba392dc0f82f65e6",
       "version_major": 2,
       "version_minor": 0
      },
      "text/plain": [
       "HBox(children=(HTML(value=''), FloatProgress(value=0.0, max=323.0), HTML(value='')))"
      ]
     },
     "metadata": {},
     "output_type": "display_data"
    },
    {
     "name": "stdout",
     "output_type": "stream",
     "text": [
      "\n"
     ]
    },
    {
     "data": {
      "application/vnd.jupyter.widget-view+json": {
       "model_id": "a729bf8dd7d34dc5ace1e020c6e8b21b",
       "version_major": 2,
       "version_minor": 0
      },
      "text/plain": [
       "HBox(children=(HTML(value=''), FloatProgress(value=0.0, max=331.0), HTML(value='')))"
      ]
     },
     "metadata": {},
     "output_type": "display_data"
    },
    {
     "name": "stdout",
     "output_type": "stream",
     "text": [
      "\n"
     ]
    },
    {
     "data": {
      "application/vnd.jupyter.widget-view+json": {
       "model_id": "7f70564000af4b6bb1c892d4ac720ba1",
       "version_major": 2,
       "version_minor": 0
      },
      "text/plain": [
       "HBox(children=(HTML(value=''), FloatProgress(value=0.0, max=330.0), HTML(value='')))"
      ]
     },
     "metadata": {},
     "output_type": "display_data"
    },
    {
     "name": "stdout",
     "output_type": "stream",
     "text": [
      "\n"
     ]
    },
    {
     "data": {
      "application/vnd.jupyter.widget-view+json": {
       "model_id": "b38622d403ec4ad68522e2966b2a9ad1",
       "version_major": 2,
       "version_minor": 0
      },
      "text/plain": [
       "HBox(children=(HTML(value=''), FloatProgress(value=0.0, max=331.0), HTML(value='')))"
      ]
     },
     "metadata": {},
     "output_type": "display_data"
    },
    {
     "name": "stdout",
     "output_type": "stream",
     "text": [
      "\n"
     ]
    },
    {
     "data": {
      "application/vnd.jupyter.widget-view+json": {
       "model_id": "25b8c6e03de84d89a353b25d27d547ad",
       "version_major": 2,
       "version_minor": 0
      },
      "text/plain": [
       "HBox(children=(HTML(value=''), FloatProgress(value=0.0, max=331.0), HTML(value='')))"
      ]
     },
     "metadata": {},
     "output_type": "display_data"
    },
    {
     "name": "stdout",
     "output_type": "stream",
     "text": [
      "\n"
     ]
    },
    {
     "data": {
      "application/vnd.jupyter.widget-view+json": {
       "model_id": "8add63c7f6cc41f0a594938bac3d2091",
       "version_major": 2,
       "version_minor": 0
      },
      "text/plain": [
       "HBox(children=(HTML(value=''), FloatProgress(value=0.0, max=286.0), HTML(value='')))"
      ]
     },
     "metadata": {},
     "output_type": "display_data"
    },
    {
     "name": "stdout",
     "output_type": "stream",
     "text": [
      "\n"
     ]
    },
    {
     "data": {
      "application/vnd.jupyter.widget-view+json": {
       "model_id": "5d5a2afbb27f467da4096781d69b35dd",
       "version_major": 2,
       "version_minor": 0
      },
      "text/plain": [
       "HBox(children=(HTML(value=''), FloatProgress(value=0.0, max=306.0), HTML(value='')))"
      ]
     },
     "metadata": {},
     "output_type": "display_data"
    },
    {
     "name": "stdout",
     "output_type": "stream",
     "text": [
      "\n"
     ]
    },
    {
     "data": {
      "application/vnd.jupyter.widget-view+json": {
       "model_id": "73e1088ec9934b949856ce2304516ce0",
       "version_major": 2,
       "version_minor": 0
      },
      "text/plain": [
       "HBox(children=(HTML(value=''), FloatProgress(value=0.0, max=317.0), HTML(value='')))"
      ]
     },
     "metadata": {},
     "output_type": "display_data"
    },
    {
     "name": "stdout",
     "output_type": "stream",
     "text": [
      "\n"
     ]
    },
    {
     "data": {
      "application/vnd.jupyter.widget-view+json": {
       "model_id": "d63d7e630a6e4b90a6526389eed45e07",
       "version_major": 2,
       "version_minor": 0
      },
      "text/plain": [
       "HBox(children=(HTML(value=''), FloatProgress(value=0.0, max=310.0), HTML(value='')))"
      ]
     },
     "metadata": {},
     "output_type": "display_data"
    },
    {
     "name": "stdout",
     "output_type": "stream",
     "text": [
      "\n"
     ]
    },
    {
     "data": {
      "application/vnd.jupyter.widget-view+json": {
       "model_id": "de98a7455ee34ac6a9f9a77f38426d3d",
       "version_major": 2,
       "version_minor": 0
      },
      "text/plain": [
       "HBox(children=(HTML(value=''), FloatProgress(value=0.0, max=316.0), HTML(value='')))"
      ]
     },
     "metadata": {},
     "output_type": "display_data"
    },
    {
     "name": "stdout",
     "output_type": "stream",
     "text": [
      "\n"
     ]
    },
    {
     "data": {
      "application/vnd.jupyter.widget-view+json": {
       "model_id": "af197bdcb678476aa797f7cd34e99f6f",
       "version_major": 2,
       "version_minor": 0
      },
      "text/plain": [
       "HBox(children=(HTML(value=''), FloatProgress(value=0.0, max=306.0), HTML(value='')))"
      ]
     },
     "metadata": {},
     "output_type": "display_data"
    },
    {
     "name": "stdout",
     "output_type": "stream",
     "text": [
      "\n"
     ]
    },
    {
     "data": {
      "application/vnd.jupyter.widget-view+json": {
       "model_id": "21f98be2bff9440f821ed18a8bdd85f7",
       "version_major": 2,
       "version_minor": 0
      },
      "text/plain": [
       "HBox(children=(HTML(value=''), FloatProgress(value=0.0, max=335.0), HTML(value='')))"
      ]
     },
     "metadata": {},
     "output_type": "display_data"
    },
    {
     "name": "stdout",
     "output_type": "stream",
     "text": [
      "\n"
     ]
    },
    {
     "data": {
      "application/vnd.jupyter.widget-view+json": {
       "model_id": "27d78a305c924b08b17cbcd960e3d393",
       "version_major": 2,
       "version_minor": 0
      },
      "text/plain": [
       "HBox(children=(HTML(value=''), FloatProgress(value=0.0, max=338.0), HTML(value='')))"
      ]
     },
     "metadata": {},
     "output_type": "display_data"
    },
    {
     "name": "stdout",
     "output_type": "stream",
     "text": [
      "\n"
     ]
    },
    {
     "data": {
      "application/vnd.jupyter.widget-view+json": {
       "model_id": "95b7970a76cb4203a0849dffbf7a7f19",
       "version_major": 2,
       "version_minor": 0
      },
      "text/plain": [
       "HBox(children=(HTML(value=''), FloatProgress(value=0.0, max=351.0), HTML(value='')))"
      ]
     },
     "metadata": {},
     "output_type": "display_data"
    },
    {
     "name": "stdout",
     "output_type": "stream",
     "text": [
      "\n"
     ]
    },
    {
     "data": {
      "application/vnd.jupyter.widget-view+json": {
       "model_id": "587a8c2cdf3741188999bdabc9aac55c",
       "version_major": 2,
       "version_minor": 0
      },
      "text/plain": [
       "HBox(children=(HTML(value=''), FloatProgress(value=0.0, max=294.0), HTML(value='')))"
      ]
     },
     "metadata": {},
     "output_type": "display_data"
    },
    {
     "name": "stdout",
     "output_type": "stream",
     "text": [
      "\n"
     ]
    },
    {
     "data": {
      "application/vnd.jupyter.widget-view+json": {
       "model_id": "3e92f3bb9ea041228947ed899f6f4e93",
       "version_major": 2,
       "version_minor": 0
      },
      "text/plain": [
       "HBox(children=(HTML(value=''), FloatProgress(value=0.0, max=357.0), HTML(value='')))"
      ]
     },
     "metadata": {},
     "output_type": "display_data"
    },
    {
     "name": "stdout",
     "output_type": "stream",
     "text": [
      "\n"
     ]
    },
    {
     "data": {
      "application/vnd.jupyter.widget-view+json": {
       "model_id": "1586a2668cdc4611a874888dda6de20d",
       "version_major": 2,
       "version_minor": 0
      },
      "text/plain": [
       "HBox(children=(HTML(value=''), FloatProgress(value=0.0, max=328.0), HTML(value='')))"
      ]
     },
     "metadata": {},
     "output_type": "display_data"
    },
    {
     "name": "stdout",
     "output_type": "stream",
     "text": [
      "\n"
     ]
    },
    {
     "data": {
      "application/vnd.jupyter.widget-view+json": {
       "model_id": "999115c7c8264bc6bbe66d995c4f889e",
       "version_major": 2,
       "version_minor": 0
      },
      "text/plain": [
       "HBox(children=(HTML(value=''), FloatProgress(value=0.0, max=325.0), HTML(value='')))"
      ]
     },
     "metadata": {},
     "output_type": "display_data"
    },
    {
     "name": "stdout",
     "output_type": "stream",
     "text": [
      "\n"
     ]
    },
    {
     "data": {
      "application/vnd.jupyter.widget-view+json": {
       "model_id": "ef948e2d40ea4defbdd6f14e04cdcba0",
       "version_major": 2,
       "version_minor": 0
      },
      "text/plain": [
       "HBox(children=(HTML(value=''), FloatProgress(value=0.0, max=327.0), HTML(value='')))"
      ]
     },
     "metadata": {},
     "output_type": "display_data"
    },
    {
     "name": "stdout",
     "output_type": "stream",
     "text": [
      "\n"
     ]
    },
    {
     "data": {
      "application/vnd.jupyter.widget-view+json": {
       "model_id": "04532078fc4348668bdd061d3815cf5e",
       "version_major": 2,
       "version_minor": 0
      },
      "text/plain": [
       "HBox(children=(HTML(value=''), FloatProgress(value=0.0, max=335.0), HTML(value='')))"
      ]
     },
     "metadata": {},
     "output_type": "display_data"
    },
    {
     "name": "stdout",
     "output_type": "stream",
     "text": [
      "\n"
     ]
    },
    {
     "data": {
      "application/vnd.jupyter.widget-view+json": {
       "model_id": "7583ad678cf9472380baa3d06425c565",
       "version_major": 2,
       "version_minor": 0
      },
      "text/plain": [
       "HBox(children=(HTML(value=''), FloatProgress(value=0.0, max=320.0), HTML(value='')))"
      ]
     },
     "metadata": {},
     "output_type": "display_data"
    },
    {
     "name": "stdout",
     "output_type": "stream",
     "text": [
      "\n"
     ]
    },
    {
     "data": {
      "application/vnd.jupyter.widget-view+json": {
       "model_id": "b05a9f131b6c4abe9d2abc2201c0a1b2",
       "version_major": 2,
       "version_minor": 0
      },
      "text/plain": [
       "HBox(children=(HTML(value=''), FloatProgress(value=0.0, max=347.0), HTML(value='')))"
      ]
     },
     "metadata": {},
     "output_type": "display_data"
    },
    {
     "name": "stdout",
     "output_type": "stream",
     "text": [
      "\n"
     ]
    },
    {
     "data": {
      "application/vnd.jupyter.widget-view+json": {
       "model_id": "8ee41952b89d4377a5470338c034ba84",
       "version_major": 2,
       "version_minor": 0
      },
      "text/plain": [
       "HBox(children=(HTML(value=''), FloatProgress(value=0.0, max=304.0), HTML(value='')))"
      ]
     },
     "metadata": {},
     "output_type": "display_data"
    },
    {
     "name": "stdout",
     "output_type": "stream",
     "text": [
      "\n"
     ]
    },
    {
     "data": {
      "application/vnd.jupyter.widget-view+json": {
       "model_id": "11dc97e7ab5344d6ba7d9e62a26ee9c2",
       "version_major": 2,
       "version_minor": 0
      },
      "text/plain": [
       "HBox(children=(HTML(value=''), FloatProgress(value=0.0, max=280.0), HTML(value='')))"
      ]
     },
     "metadata": {},
     "output_type": "display_data"
    },
    {
     "name": "stdout",
     "output_type": "stream",
     "text": [
      "\n"
     ]
    },
    {
     "data": {
      "application/vnd.jupyter.widget-view+json": {
       "model_id": "455009132ec7492ba3d0760031067a9b",
       "version_major": 2,
       "version_minor": 0
      },
      "text/plain": [
       "HBox(children=(HTML(value=''), FloatProgress(value=0.0, max=304.0), HTML(value='')))"
      ]
     },
     "metadata": {},
     "output_type": "display_data"
    },
    {
     "name": "stdout",
     "output_type": "stream",
     "text": [
      "\n"
     ]
    },
    {
     "data": {
      "application/vnd.jupyter.widget-view+json": {
       "model_id": "80dd42a801ac4219bce290ab5487c067",
       "version_major": 2,
       "version_minor": 0
      },
      "text/plain": [
       "HBox(children=(HTML(value=''), FloatProgress(value=0.0, max=322.0), HTML(value='')))"
      ]
     },
     "metadata": {},
     "output_type": "display_data"
    },
    {
     "name": "stdout",
     "output_type": "stream",
     "text": [
      "\n"
     ]
    },
    {
     "data": {
      "application/vnd.jupyter.widget-view+json": {
       "model_id": "67931b889b9e4c728496554107b80c76",
       "version_major": 2,
       "version_minor": 0
      },
      "text/plain": [
       "HBox(children=(HTML(value=''), FloatProgress(value=0.0, max=331.0), HTML(value='')))"
      ]
     },
     "metadata": {},
     "output_type": "display_data"
    },
    {
     "name": "stdout",
     "output_type": "stream",
     "text": [
      "\n"
     ]
    },
    {
     "data": {
      "application/vnd.jupyter.widget-view+json": {
       "model_id": "79dd5ed45b5b412a96170898ed877667",
       "version_major": 2,
       "version_minor": 0
      },
      "text/plain": [
       "HBox(children=(HTML(value=''), FloatProgress(value=0.0, max=305.0), HTML(value='')))"
      ]
     },
     "metadata": {},
     "output_type": "display_data"
    },
    {
     "name": "stdout",
     "output_type": "stream",
     "text": [
      "\n"
     ]
    },
    {
     "data": {
      "application/vnd.jupyter.widget-view+json": {
       "model_id": "061a51de15464c6eb907ea9b331b31fd",
       "version_major": 2,
       "version_minor": 0
      },
      "text/plain": [
       "HBox(children=(HTML(value=''), FloatProgress(value=0.0, max=360.0), HTML(value='')))"
      ]
     },
     "metadata": {},
     "output_type": "display_data"
    },
    {
     "name": "stdout",
     "output_type": "stream",
     "text": [
      "\n"
     ]
    },
    {
     "data": {
      "application/vnd.jupyter.widget-view+json": {
       "model_id": "37a6aa48cd36417496b3a305ea62d0a0",
       "version_major": 2,
       "version_minor": 0
      },
      "text/plain": [
       "HBox(children=(HTML(value=''), FloatProgress(value=0.0, max=319.0), HTML(value='')))"
      ]
     },
     "metadata": {},
     "output_type": "display_data"
    },
    {
     "name": "stdout",
     "output_type": "stream",
     "text": [
      "\n"
     ]
    },
    {
     "data": {
      "application/vnd.jupyter.widget-view+json": {
       "model_id": "08f2324cf02f4d858dfe471f19618b67",
       "version_major": 2,
       "version_minor": 0
      },
      "text/plain": [
       "HBox(children=(HTML(value=''), FloatProgress(value=0.0, max=331.0), HTML(value='')))"
      ]
     },
     "metadata": {},
     "output_type": "display_data"
    },
    {
     "name": "stdout",
     "output_type": "stream",
     "text": [
      "\n"
     ]
    },
    {
     "data": {
      "application/vnd.jupyter.widget-view+json": {
       "model_id": "ba8c78b6b21045b59aebce7f9114705e",
       "version_major": 2,
       "version_minor": 0
      },
      "text/plain": [
       "HBox(children=(HTML(value=''), FloatProgress(value=0.0, max=279.0), HTML(value='')))"
      ]
     },
     "metadata": {},
     "output_type": "display_data"
    },
    {
     "name": "stdout",
     "output_type": "stream",
     "text": [
      "\n"
     ]
    },
    {
     "data": {
      "application/vnd.jupyter.widget-view+json": {
       "model_id": "ffb33d73f4f74d7783b98b2138cff07e",
       "version_major": 2,
       "version_minor": 0
      },
      "text/plain": [
       "HBox(children=(HTML(value=''), FloatProgress(value=0.0, max=338.0), HTML(value='')))"
      ]
     },
     "metadata": {},
     "output_type": "display_data"
    },
    {
     "name": "stdout",
     "output_type": "stream",
     "text": [
      "\n"
     ]
    },
    {
     "data": {
      "application/vnd.jupyter.widget-view+json": {
       "model_id": "37946d9fa3bc4c0b904e5dfbc3b7115e",
       "version_major": 2,
       "version_minor": 0
      },
      "text/plain": [
       "HBox(children=(HTML(value=''), FloatProgress(value=0.0, max=361.0), HTML(value='')))"
      ]
     },
     "metadata": {},
     "output_type": "display_data"
    },
    {
     "name": "stdout",
     "output_type": "stream",
     "text": [
      "\n"
     ]
    },
    {
     "data": {
      "application/vnd.jupyter.widget-view+json": {
       "model_id": "490aa01808a04d98b96df2523e2190f9",
       "version_major": 2,
       "version_minor": 0
      },
      "text/plain": [
       "HBox(children=(HTML(value=''), FloatProgress(value=0.0, max=324.0), HTML(value='')))"
      ]
     },
     "metadata": {},
     "output_type": "display_data"
    },
    {
     "name": "stdout",
     "output_type": "stream",
     "text": [
      "\n"
     ]
    },
    {
     "data": {
      "application/vnd.jupyter.widget-view+json": {
       "model_id": "30ea912d33004599a9aac2be13219565",
       "version_major": 2,
       "version_minor": 0
      },
      "text/plain": [
       "HBox(children=(HTML(value=''), FloatProgress(value=0.0, max=356.0), HTML(value='')))"
      ]
     },
     "metadata": {},
     "output_type": "display_data"
    },
    {
     "name": "stdout",
     "output_type": "stream",
     "text": [
      "\n"
     ]
    },
    {
     "data": {
      "application/vnd.jupyter.widget-view+json": {
       "model_id": "5c45d5fe0b8a4bcbaf20f8acced2b5cc",
       "version_major": 2,
       "version_minor": 0
      },
      "text/plain": [
       "HBox(children=(HTML(value=''), FloatProgress(value=0.0, max=296.0), HTML(value='')))"
      ]
     },
     "metadata": {},
     "output_type": "display_data"
    },
    {
     "name": "stdout",
     "output_type": "stream",
     "text": [
      "\n"
     ]
    },
    {
     "data": {
      "application/vnd.jupyter.widget-view+json": {
       "model_id": "48d3504c849d4333b25a26269aa0d8cb",
       "version_major": 2,
       "version_minor": 0
      },
      "text/plain": [
       "HBox(children=(HTML(value=''), FloatProgress(value=0.0, max=291.0), HTML(value='')))"
      ]
     },
     "metadata": {},
     "output_type": "display_data"
    },
    {
     "name": "stdout",
     "output_type": "stream",
     "text": [
      "\n"
     ]
    },
    {
     "data": {
      "application/vnd.jupyter.widget-view+json": {
       "model_id": "e798e1951eb14a509a26a9a0ebb9de55",
       "version_major": 2,
       "version_minor": 0
      },
      "text/plain": [
       "HBox(children=(HTML(value=''), FloatProgress(value=0.0, max=324.0), HTML(value='')))"
      ]
     },
     "metadata": {},
     "output_type": "display_data"
    },
    {
     "name": "stdout",
     "output_type": "stream",
     "text": [
      "\n"
     ]
    },
    {
     "data": {
      "application/vnd.jupyter.widget-view+json": {
       "model_id": "ea6adbcee62a43b28c93cd0e978d66d3",
       "version_major": 2,
       "version_minor": 0
      },
      "text/plain": [
       "HBox(children=(HTML(value=''), FloatProgress(value=0.0, max=352.0), HTML(value='')))"
      ]
     },
     "metadata": {},
     "output_type": "display_data"
    },
    {
     "name": "stdout",
     "output_type": "stream",
     "text": [
      "\n"
     ]
    },
    {
     "data": {
      "application/vnd.jupyter.widget-view+json": {
       "model_id": "3ac82625e68a4f1eb14b118d7d39e703",
       "version_major": 2,
       "version_minor": 0
      },
      "text/plain": [
       "HBox(children=(HTML(value=''), FloatProgress(value=0.0, max=333.0), HTML(value='')))"
      ]
     },
     "metadata": {},
     "output_type": "display_data"
    },
    {
     "name": "stdout",
     "output_type": "stream",
     "text": [
      "\n"
     ]
    },
    {
     "data": {
      "application/vnd.jupyter.widget-view+json": {
       "model_id": "0546c33b72084a63be85770b49f67eef",
       "version_major": 2,
       "version_minor": 0
      },
      "text/plain": [
       "HBox(children=(HTML(value=''), FloatProgress(value=0.0, max=324.0), HTML(value='')))"
      ]
     },
     "metadata": {},
     "output_type": "display_data"
    },
    {
     "name": "stdout",
     "output_type": "stream",
     "text": [
      "\n"
     ]
    },
    {
     "data": {
      "application/vnd.jupyter.widget-view+json": {
       "model_id": "ba231d22ad604876a038058ab6635608",
       "version_major": 2,
       "version_minor": 0
      },
      "text/plain": [
       "HBox(children=(HTML(value=''), FloatProgress(value=0.0, max=362.0), HTML(value='')))"
      ]
     },
     "metadata": {},
     "output_type": "display_data"
    },
    {
     "name": "stdout",
     "output_type": "stream",
     "text": [
      "\n"
     ]
    },
    {
     "data": {
      "application/vnd.jupyter.widget-view+json": {
       "model_id": "3c00ea01fde4461a9ed136bcdcaa04f7",
       "version_major": 2,
       "version_minor": 0
      },
      "text/plain": [
       "HBox(children=(HTML(value=''), FloatProgress(value=0.0, max=365.0), HTML(value='')))"
      ]
     },
     "metadata": {},
     "output_type": "display_data"
    },
    {
     "name": "stdout",
     "output_type": "stream",
     "text": [
      "\n"
     ]
    },
    {
     "data": {
      "application/vnd.jupyter.widget-view+json": {
       "model_id": "46884d8dbd7a4b82af13c1c9894aeca5",
       "version_major": 2,
       "version_minor": 0
      },
      "text/plain": [
       "HBox(children=(HTML(value=''), FloatProgress(value=0.0, max=319.0), HTML(value='')))"
      ]
     },
     "metadata": {},
     "output_type": "display_data"
    },
    {
     "name": "stdout",
     "output_type": "stream",
     "text": [
      "\n"
     ]
    },
    {
     "data": {
      "application/vnd.jupyter.widget-view+json": {
       "model_id": "e010ab8a8f2646aa8a4f0b2fc351b58c",
       "version_major": 2,
       "version_minor": 0
      },
      "text/plain": [
       "HBox(children=(HTML(value=''), FloatProgress(value=0.0, max=336.0), HTML(value='')))"
      ]
     },
     "metadata": {},
     "output_type": "display_data"
    },
    {
     "name": "stdout",
     "output_type": "stream",
     "text": [
      "\n"
     ]
    },
    {
     "data": {
      "application/vnd.jupyter.widget-view+json": {
       "model_id": "c476856dee424d689cf2759e9e6d1512",
       "version_major": 2,
       "version_minor": 0
      },
      "text/plain": [
       "HBox(children=(HTML(value=''), FloatProgress(value=0.0, max=324.0), HTML(value='')))"
      ]
     },
     "metadata": {},
     "output_type": "display_data"
    },
    {
     "name": "stdout",
     "output_type": "stream",
     "text": [
      "\n"
     ]
    },
    {
     "data": {
      "application/vnd.jupyter.widget-view+json": {
       "model_id": "efa6d63610be451ea32d256a2a5e301e",
       "version_major": 2,
       "version_minor": 0
      },
      "text/plain": [
       "HBox(children=(HTML(value=''), FloatProgress(value=0.0, max=296.0), HTML(value='')))"
      ]
     },
     "metadata": {},
     "output_type": "display_data"
    },
    {
     "name": "stdout",
     "output_type": "stream",
     "text": [
      "\n"
     ]
    },
    {
     "data": {
      "application/vnd.jupyter.widget-view+json": {
       "model_id": "c9849dae53a4494db81d6f42cb4f4fa3",
       "version_major": 2,
       "version_minor": 0
      },
      "text/plain": [
       "HBox(children=(HTML(value=''), FloatProgress(value=0.0, max=331.0), HTML(value='')))"
      ]
     },
     "metadata": {},
     "output_type": "display_data"
    },
    {
     "name": "stdout",
     "output_type": "stream",
     "text": [
      "\n"
     ]
    },
    {
     "data": {
      "application/vnd.jupyter.widget-view+json": {
       "model_id": "1438d458f79041a18eaa4bf5c5fd6d2d",
       "version_major": 2,
       "version_minor": 0
      },
      "text/plain": [
       "HBox(children=(HTML(value=''), FloatProgress(value=0.0, max=337.0), HTML(value='')))"
      ]
     },
     "metadata": {},
     "output_type": "display_data"
    },
    {
     "name": "stdout",
     "output_type": "stream",
     "text": [
      "\n"
     ]
    },
    {
     "data": {
      "application/vnd.jupyter.widget-view+json": {
       "model_id": "2c7e1b724c094866b9ee8e10911d11f0",
       "version_major": 2,
       "version_minor": 0
      },
      "text/plain": [
       "HBox(children=(HTML(value=''), FloatProgress(value=0.0, max=279.0), HTML(value='')))"
      ]
     },
     "metadata": {},
     "output_type": "display_data"
    },
    {
     "name": "stdout",
     "output_type": "stream",
     "text": [
      "\n"
     ]
    },
    {
     "data": {
      "application/vnd.jupyter.widget-view+json": {
       "model_id": "fddca72b663346888dc2ba9838e8367b",
       "version_major": 2,
       "version_minor": 0
      },
      "text/plain": [
       "HBox(children=(HTML(value=''), FloatProgress(value=0.0, max=369.0), HTML(value='')))"
      ]
     },
     "metadata": {},
     "output_type": "display_data"
    },
    {
     "name": "stdout",
     "output_type": "stream",
     "text": [
      "\n"
     ]
    },
    {
     "data": {
      "application/vnd.jupyter.widget-view+json": {
       "model_id": "1a065db8343a4dc4a3d01d4f782c2256",
       "version_major": 2,
       "version_minor": 0
      },
      "text/plain": [
       "HBox(children=(HTML(value=''), FloatProgress(value=0.0, max=354.0), HTML(value='')))"
      ]
     },
     "metadata": {},
     "output_type": "display_data"
    },
    {
     "name": "stdout",
     "output_type": "stream",
     "text": [
      "\n"
     ]
    },
    {
     "data": {
      "application/vnd.jupyter.widget-view+json": {
       "model_id": "12191fe0262d4af8ac24380a0c652676",
       "version_major": 2,
       "version_minor": 0
      },
      "text/plain": [
       "HBox(children=(HTML(value=''), FloatProgress(value=0.0, max=335.0), HTML(value='')))"
      ]
     },
     "metadata": {},
     "output_type": "display_data"
    },
    {
     "name": "stdout",
     "output_type": "stream",
     "text": [
      "\n"
     ]
    },
    {
     "data": {
      "application/vnd.jupyter.widget-view+json": {
       "model_id": "fe6aa131a6624faaa7b1133fe54ee0ad",
       "version_major": 2,
       "version_minor": 0
      },
      "text/plain": [
       "HBox(children=(HTML(value=''), FloatProgress(value=0.0, max=292.0), HTML(value='')))"
      ]
     },
     "metadata": {},
     "output_type": "display_data"
    },
    {
     "name": "stdout",
     "output_type": "stream",
     "text": [
      "\n"
     ]
    },
    {
     "data": {
      "application/vnd.jupyter.widget-view+json": {
       "model_id": "ec0cd82decfb4c21976c175ec19db263",
       "version_major": 2,
       "version_minor": 0
      },
      "text/plain": [
       "HBox(children=(HTML(value=''), FloatProgress(value=0.0, max=316.0), HTML(value='')))"
      ]
     },
     "metadata": {},
     "output_type": "display_data"
    },
    {
     "name": "stdout",
     "output_type": "stream",
     "text": [
      "\n"
     ]
    },
    {
     "data": {
      "application/vnd.jupyter.widget-view+json": {
       "model_id": "9a8f53ba719548e3a72df2121f72f6ad",
       "version_major": 2,
       "version_minor": 0
      },
      "text/plain": [
       "HBox(children=(HTML(value=''), FloatProgress(value=0.0, max=365.0), HTML(value='')))"
      ]
     },
     "metadata": {},
     "output_type": "display_data"
    },
    {
     "name": "stdout",
     "output_type": "stream",
     "text": [
      "\n"
     ]
    },
    {
     "data": {
      "application/vnd.jupyter.widget-view+json": {
       "model_id": "2a81659d5f1c44dcb0c04405a30761b2",
       "version_major": 2,
       "version_minor": 0
      },
      "text/plain": [
       "HBox(children=(HTML(value=''), FloatProgress(value=0.0, max=337.0), HTML(value='')))"
      ]
     },
     "metadata": {},
     "output_type": "display_data"
    },
    {
     "name": "stdout",
     "output_type": "stream",
     "text": [
      "\n"
     ]
    },
    {
     "data": {
      "application/vnd.jupyter.widget-view+json": {
       "model_id": "c6712c1002ce4a1ebdb5e61ff0eb0d36",
       "version_major": 2,
       "version_minor": 0
      },
      "text/plain": [
       "HBox(children=(HTML(value=''), FloatProgress(value=0.0, max=272.0), HTML(value='')))"
      ]
     },
     "metadata": {},
     "output_type": "display_data"
    },
    {
     "name": "stdout",
     "output_type": "stream",
     "text": [
      "\n"
     ]
    },
    {
     "data": {
      "application/vnd.jupyter.widget-view+json": {
       "model_id": "7d6633685bbf448eaeb48c95b0068633",
       "version_major": 2,
       "version_minor": 0
      },
      "text/plain": [
       "HBox(children=(HTML(value=''), FloatProgress(value=0.0, max=279.0), HTML(value='')))"
      ]
     },
     "metadata": {},
     "output_type": "display_data"
    },
    {
     "name": "stdout",
     "output_type": "stream",
     "text": [
      "\n"
     ]
    },
    {
     "data": {
      "application/vnd.jupyter.widget-view+json": {
       "model_id": "9cb5cab998a64a24b76aeb3b1e54044b",
       "version_major": 2,
       "version_minor": 0
      },
      "text/plain": [
       "HBox(children=(HTML(value=''), FloatProgress(value=0.0, max=297.0), HTML(value='')))"
      ]
     },
     "metadata": {},
     "output_type": "display_data"
    },
    {
     "name": "stdout",
     "output_type": "stream",
     "text": [
      "\n"
     ]
    },
    {
     "data": {
      "application/vnd.jupyter.widget-view+json": {
       "model_id": "46bff4b78c4f4703ac2def613fb32297",
       "version_major": 2,
       "version_minor": 0
      },
      "text/plain": [
       "HBox(children=(HTML(value=''), FloatProgress(value=0.0, max=355.0), HTML(value='')))"
      ]
     },
     "metadata": {},
     "output_type": "display_data"
    },
    {
     "name": "stdout",
     "output_type": "stream",
     "text": [
      "\n"
     ]
    },
    {
     "data": {
      "application/vnd.jupyter.widget-view+json": {
       "model_id": "ecf323320b8746ab998b9ce1782c1a85",
       "version_major": 2,
       "version_minor": 0
      },
      "text/plain": [
       "HBox(children=(HTML(value=''), FloatProgress(value=0.0, max=307.0), HTML(value='')))"
      ]
     },
     "metadata": {},
     "output_type": "display_data"
    },
    {
     "name": "stdout",
     "output_type": "stream",
     "text": [
      "\n"
     ]
    },
    {
     "data": {
      "application/vnd.jupyter.widget-view+json": {
       "model_id": "99e0985063934b738d0b9c4112bf4a11",
       "version_major": 2,
       "version_minor": 0
      },
      "text/plain": [
       "HBox(children=(HTML(value=''), FloatProgress(value=0.0, max=299.0), HTML(value='')))"
      ]
     },
     "metadata": {},
     "output_type": "display_data"
    },
    {
     "name": "stdout",
     "output_type": "stream",
     "text": [
      "\n"
     ]
    },
    {
     "data": {
      "application/vnd.jupyter.widget-view+json": {
       "model_id": "6732b8ef35964bdcab9e66fa224b3a80",
       "version_major": 2,
       "version_minor": 0
      },
      "text/plain": [
       "HBox(children=(HTML(value=''), FloatProgress(value=0.0, max=302.0), HTML(value='')))"
      ]
     },
     "metadata": {},
     "output_type": "display_data"
    },
    {
     "name": "stdout",
     "output_type": "stream",
     "text": [
      "\n"
     ]
    },
    {
     "data": {
      "application/vnd.jupyter.widget-view+json": {
       "model_id": "8d8540c2afdf4a18be59f008ca184d9c",
       "version_major": 2,
       "version_minor": 0
      },
      "text/plain": [
       "HBox(children=(HTML(value=''), FloatProgress(value=0.0, max=376.0), HTML(value='')))"
      ]
     },
     "metadata": {},
     "output_type": "display_data"
    },
    {
     "name": "stdout",
     "output_type": "stream",
     "text": [
      "\n"
     ]
    },
    {
     "data": {
      "application/vnd.jupyter.widget-view+json": {
       "model_id": "30e2753a9b3943dd8aa5c077a592bcfb",
       "version_major": 2,
       "version_minor": 0
      },
      "text/plain": [
       "HBox(children=(HTML(value=''), FloatProgress(value=0.0, max=321.0), HTML(value='')))"
      ]
     },
     "metadata": {},
     "output_type": "display_data"
    },
    {
     "name": "stdout",
     "output_type": "stream",
     "text": [
      "\n"
     ]
    },
    {
     "data": {
      "application/vnd.jupyter.widget-view+json": {
       "model_id": "4525ebdfe4cb47b2ac59d24e6c3de666",
       "version_major": 2,
       "version_minor": 0
      },
      "text/plain": [
       "HBox(children=(HTML(value=''), FloatProgress(value=0.0, max=312.0), HTML(value='')))"
      ]
     },
     "metadata": {},
     "output_type": "display_data"
    },
    {
     "name": "stdout",
     "output_type": "stream",
     "text": [
      "\n"
     ]
    },
    {
     "data": {
      "application/vnd.jupyter.widget-view+json": {
       "model_id": "e54f0b38ddc94204ae6cd58d29e517f7",
       "version_major": 2,
       "version_minor": 0
      },
      "text/plain": [
       "HBox(children=(HTML(value=''), FloatProgress(value=0.0, max=330.0), HTML(value='')))"
      ]
     },
     "metadata": {},
     "output_type": "display_data"
    },
    {
     "name": "stdout",
     "output_type": "stream",
     "text": [
      "\n"
     ]
    },
    {
     "data": {
      "application/vnd.jupyter.widget-view+json": {
       "model_id": "563e6bbc2c424072baa8cb7cff1b94cc",
       "version_major": 2,
       "version_minor": 0
      },
      "text/plain": [
       "HBox(children=(HTML(value=''), FloatProgress(value=0.0, max=339.0), HTML(value='')))"
      ]
     },
     "metadata": {},
     "output_type": "display_data"
    },
    {
     "name": "stdout",
     "output_type": "stream",
     "text": [
      "\n"
     ]
    },
    {
     "data": {
      "application/vnd.jupyter.widget-view+json": {
       "model_id": "7f43074d671f479b9aa8cfbce217bdd6",
       "version_major": 2,
       "version_minor": 0
      },
      "text/plain": [
       "HBox(children=(HTML(value=''), FloatProgress(value=0.0, max=328.0), HTML(value='')))"
      ]
     },
     "metadata": {},
     "output_type": "display_data"
    },
    {
     "name": "stdout",
     "output_type": "stream",
     "text": [
      "\n"
     ]
    },
    {
     "data": {
      "application/vnd.jupyter.widget-view+json": {
       "model_id": "cc328910793446299d652ff600722650",
       "version_major": 2,
       "version_minor": 0
      },
      "text/plain": [
       "HBox(children=(HTML(value=''), FloatProgress(value=0.0, max=343.0), HTML(value='')))"
      ]
     },
     "metadata": {},
     "output_type": "display_data"
    },
    {
     "name": "stdout",
     "output_type": "stream",
     "text": [
      "\n"
     ]
    },
    {
     "data": {
      "application/vnd.jupyter.widget-view+json": {
       "model_id": "9ae7dc44aa9f41beaeaee76ea833ce02",
       "version_major": 2,
       "version_minor": 0
      },
      "text/plain": [
       "HBox(children=(HTML(value=''), FloatProgress(value=0.0, max=337.0), HTML(value='')))"
      ]
     },
     "metadata": {},
     "output_type": "display_data"
    },
    {
     "name": "stdout",
     "output_type": "stream",
     "text": [
      "\n"
     ]
    },
    {
     "data": {
      "application/vnd.jupyter.widget-view+json": {
       "model_id": "878f3e156e5c445693480f82e564bb97",
       "version_major": 2,
       "version_minor": 0
      },
      "text/plain": [
       "HBox(children=(HTML(value=''), FloatProgress(value=0.0, max=301.0), HTML(value='')))"
      ]
     },
     "metadata": {},
     "output_type": "display_data"
    },
    {
     "name": "stdout",
     "output_type": "stream",
     "text": [
      "\n"
     ]
    },
    {
     "data": {
      "application/vnd.jupyter.widget-view+json": {
       "model_id": "aca3ebe6a0ea40c5814469aab311b28a",
       "version_major": 2,
       "version_minor": 0
      },
      "text/plain": [
       "HBox(children=(HTML(value=''), FloatProgress(value=0.0, max=307.0), HTML(value='')))"
      ]
     },
     "metadata": {},
     "output_type": "display_data"
    },
    {
     "name": "stdout",
     "output_type": "stream",
     "text": [
      "\n"
     ]
    },
    {
     "data": {
      "application/vnd.jupyter.widget-view+json": {
       "model_id": "d9490a87af7d4a4492c1c2e487f600e5",
       "version_major": 2,
       "version_minor": 0
      },
      "text/plain": [
       "HBox(children=(HTML(value=''), FloatProgress(value=0.0, max=323.0), HTML(value='')))"
      ]
     },
     "metadata": {},
     "output_type": "display_data"
    },
    {
     "name": "stdout",
     "output_type": "stream",
     "text": [
      "\n"
     ]
    },
    {
     "data": {
      "application/vnd.jupyter.widget-view+json": {
       "model_id": "48b4ed879cd54c9eaf8da3eb97412068",
       "version_major": 2,
       "version_minor": 0
      },
      "text/plain": [
       "HBox(children=(HTML(value=''), FloatProgress(value=0.0, max=308.0), HTML(value='')))"
      ]
     },
     "metadata": {},
     "output_type": "display_data"
    },
    {
     "name": "stdout",
     "output_type": "stream",
     "text": [
      "\n"
     ]
    },
    {
     "data": {
      "application/vnd.jupyter.widget-view+json": {
       "model_id": "523d6dda06d1470b833e2388d0d2a909",
       "version_major": 2,
       "version_minor": 0
      },
      "text/plain": [
       "HBox(children=(HTML(value=''), FloatProgress(value=0.0, max=321.0), HTML(value='')))"
      ]
     },
     "metadata": {},
     "output_type": "display_data"
    },
    {
     "name": "stdout",
     "output_type": "stream",
     "text": [
      "\n"
     ]
    },
    {
     "data": {
      "application/vnd.jupyter.widget-view+json": {
       "model_id": "a69ad24ff77747978471b451763402e2",
       "version_major": 2,
       "version_minor": 0
      },
      "text/plain": [
       "HBox(children=(HTML(value=''), FloatProgress(value=0.0, max=319.0), HTML(value='')))"
      ]
     },
     "metadata": {},
     "output_type": "display_data"
    },
    {
     "name": "stdout",
     "output_type": "stream",
     "text": [
      "\n"
     ]
    },
    {
     "data": {
      "application/vnd.jupyter.widget-view+json": {
       "model_id": "7ddc13077fab4055a8d495470c5fe64d",
       "version_major": 2,
       "version_minor": 0
      },
      "text/plain": [
       "HBox(children=(HTML(value=''), FloatProgress(value=0.0, max=350.0), HTML(value='')))"
      ]
     },
     "metadata": {},
     "output_type": "display_data"
    },
    {
     "name": "stdout",
     "output_type": "stream",
     "text": [
      "\n"
     ]
    },
    {
     "data": {
      "application/vnd.jupyter.widget-view+json": {
       "model_id": "afc9d896e0854a8fa0065119418e811c",
       "version_major": 2,
       "version_minor": 0
      },
      "text/plain": [
       "HBox(children=(HTML(value=''), FloatProgress(value=0.0, max=321.0), HTML(value='')))"
      ]
     },
     "metadata": {},
     "output_type": "display_data"
    },
    {
     "name": "stdout",
     "output_type": "stream",
     "text": [
      "\n"
     ]
    },
    {
     "data": {
      "application/vnd.jupyter.widget-view+json": {
       "model_id": "6b93153e155c4d6cb72a33830cdbdce0",
       "version_major": 2,
       "version_minor": 0
      },
      "text/plain": [
       "HBox(children=(HTML(value=''), FloatProgress(value=0.0, max=277.0), HTML(value='')))"
      ]
     },
     "metadata": {},
     "output_type": "display_data"
    },
    {
     "name": "stdout",
     "output_type": "stream",
     "text": [
      "\n"
     ]
    },
    {
     "data": {
      "application/vnd.jupyter.widget-view+json": {
       "model_id": "ffa5210747804e008d395a79224a3f7a",
       "version_major": 2,
       "version_minor": 0
      },
      "text/plain": [
       "HBox(children=(HTML(value=''), FloatProgress(value=0.0, max=351.0), HTML(value='')))"
      ]
     },
     "metadata": {},
     "output_type": "display_data"
    },
    {
     "name": "stdout",
     "output_type": "stream",
     "text": [
      "\n"
     ]
    },
    {
     "data": {
      "application/vnd.jupyter.widget-view+json": {
       "model_id": "36461833f6824163aafdbebf4c82f830",
       "version_major": 2,
       "version_minor": 0
      },
      "text/plain": [
       "HBox(children=(HTML(value=''), FloatProgress(value=0.0, max=296.0), HTML(value='')))"
      ]
     },
     "metadata": {},
     "output_type": "display_data"
    },
    {
     "name": "stdout",
     "output_type": "stream",
     "text": [
      "\n"
     ]
    },
    {
     "data": {
      "application/vnd.jupyter.widget-view+json": {
       "model_id": "e54e27ac8668455f9ec08f29b286a55f",
       "version_major": 2,
       "version_minor": 0
      },
      "text/plain": [
       "HBox(children=(HTML(value=''), FloatProgress(value=0.0, max=278.0), HTML(value='')))"
      ]
     },
     "metadata": {},
     "output_type": "display_data"
    },
    {
     "name": "stdout",
     "output_type": "stream",
     "text": [
      "\n"
     ]
    },
    {
     "data": {
      "application/vnd.jupyter.widget-view+json": {
       "model_id": "dfe38fec074746e5aa7efe7d3298feb5",
       "version_major": 2,
       "version_minor": 0
      },
      "text/plain": [
       "HBox(children=(HTML(value=''), FloatProgress(value=0.0, max=311.0), HTML(value='')))"
      ]
     },
     "metadata": {},
     "output_type": "display_data"
    },
    {
     "name": "stdout",
     "output_type": "stream",
     "text": [
      "\n"
     ]
    },
    {
     "data": {
      "application/vnd.jupyter.widget-view+json": {
       "model_id": "608968099f28461e8f3c5f6984537628",
       "version_major": 2,
       "version_minor": 0
      },
      "text/plain": [
       "HBox(children=(HTML(value=''), FloatProgress(value=0.0, max=331.0), HTML(value='')))"
      ]
     },
     "metadata": {},
     "output_type": "display_data"
    },
    {
     "name": "stdout",
     "output_type": "stream",
     "text": [
      "\n"
     ]
    },
    {
     "data": {
      "application/vnd.jupyter.widget-view+json": {
       "model_id": "ec5aeb15bc1d4b2093c206f2bccd35cb",
       "version_major": 2,
       "version_minor": 0
      },
      "text/plain": [
       "HBox(children=(HTML(value=''), FloatProgress(value=0.0, max=277.0), HTML(value='')))"
      ]
     },
     "metadata": {},
     "output_type": "display_data"
    },
    {
     "name": "stdout",
     "output_type": "stream",
     "text": [
      "\n"
     ]
    },
    {
     "data": {
      "application/vnd.jupyter.widget-view+json": {
       "model_id": "22482bf5a1404453a419f8f7e99f9f73",
       "version_major": 2,
       "version_minor": 0
      },
      "text/plain": [
       "HBox(children=(HTML(value=''), FloatProgress(value=0.0, max=358.0), HTML(value='')))"
      ]
     },
     "metadata": {},
     "output_type": "display_data"
    },
    {
     "name": "stdout",
     "output_type": "stream",
     "text": [
      "\n"
     ]
    },
    {
     "data": {
      "application/vnd.jupyter.widget-view+json": {
       "model_id": "bd3f2737709046b1ae60db8ba684b516",
       "version_major": 2,
       "version_minor": 0
      },
      "text/plain": [
       "HBox(children=(HTML(value=''), FloatProgress(value=0.0, max=321.0), HTML(value='')))"
      ]
     },
     "metadata": {},
     "output_type": "display_data"
    },
    {
     "name": "stdout",
     "output_type": "stream",
     "text": [
      "\n"
     ]
    },
    {
     "data": {
      "application/vnd.jupyter.widget-view+json": {
       "model_id": "f1c9cb6c0a0b4ed992af8755bfc00454",
       "version_major": 2,
       "version_minor": 0
      },
      "text/plain": [
       "HBox(children=(HTML(value=''), FloatProgress(value=0.0, max=261.0), HTML(value='')))"
      ]
     },
     "metadata": {},
     "output_type": "display_data"
    },
    {
     "name": "stdout",
     "output_type": "stream",
     "text": [
      "\n"
     ]
    },
    {
     "data": {
      "application/vnd.jupyter.widget-view+json": {
       "model_id": "7b5bf5ac23374eb183351a2ab0169d91",
       "version_major": 2,
       "version_minor": 0
      },
      "text/plain": [
       "HBox(children=(HTML(value=''), FloatProgress(value=0.0, max=273.0), HTML(value='')))"
      ]
     },
     "metadata": {},
     "output_type": "display_data"
    },
    {
     "name": "stdout",
     "output_type": "stream",
     "text": [
      "\n"
     ]
    },
    {
     "data": {
      "application/vnd.jupyter.widget-view+json": {
       "model_id": "c449b90a153041558d25ebab06230709",
       "version_major": 2,
       "version_minor": 0
      },
      "text/plain": [
       "HBox(children=(HTML(value=''), FloatProgress(value=0.0, max=284.0), HTML(value='')))"
      ]
     },
     "metadata": {},
     "output_type": "display_data"
    },
    {
     "name": "stdout",
     "output_type": "stream",
     "text": [
      "\n"
     ]
    },
    {
     "data": {
      "application/vnd.jupyter.widget-view+json": {
       "model_id": "82801baa36764f7f96bd6e33007fcbe6",
       "version_major": 2,
       "version_minor": 0
      },
      "text/plain": [
       "HBox(children=(HTML(value=''), FloatProgress(value=0.0, max=294.0), HTML(value='')))"
      ]
     },
     "metadata": {},
     "output_type": "display_data"
    },
    {
     "name": "stdout",
     "output_type": "stream",
     "text": [
      "\n"
     ]
    },
    {
     "data": {
      "application/vnd.jupyter.widget-view+json": {
       "model_id": "509b75be2e6441d9b1d2a192f29cf48f",
       "version_major": 2,
       "version_minor": 0
      },
      "text/plain": [
       "HBox(children=(HTML(value=''), FloatProgress(value=0.0, max=324.0), HTML(value='')))"
      ]
     },
     "metadata": {},
     "output_type": "display_data"
    },
    {
     "name": "stdout",
     "output_type": "stream",
     "text": [
      "\n"
     ]
    },
    {
     "data": {
      "application/vnd.jupyter.widget-view+json": {
       "model_id": "aa269b5ef3394bf7906a2e82eb05f6cb",
       "version_major": 2,
       "version_minor": 0
      },
      "text/plain": [
       "HBox(children=(HTML(value=''), FloatProgress(value=0.0, max=302.0), HTML(value='')))"
      ]
     },
     "metadata": {},
     "output_type": "display_data"
    },
    {
     "name": "stdout",
     "output_type": "stream",
     "text": [
      "\n"
     ]
    },
    {
     "data": {
      "application/vnd.jupyter.widget-view+json": {
       "model_id": "6acf5517854d4d16a21655d118a616bb",
       "version_major": 2,
       "version_minor": 0
      },
      "text/plain": [
       "HBox(children=(HTML(value=''), FloatProgress(value=0.0, max=264.0), HTML(value='')))"
      ]
     },
     "metadata": {},
     "output_type": "display_data"
    },
    {
     "name": "stdout",
     "output_type": "stream",
     "text": [
      "\n"
     ]
    },
    {
     "data": {
      "application/vnd.jupyter.widget-view+json": {
       "model_id": "14889ea742a148d2a9e43b244af5577e",
       "version_major": 2,
       "version_minor": 0
      },
      "text/plain": [
       "HBox(children=(HTML(value=''), FloatProgress(value=0.0, max=281.0), HTML(value='')))"
      ]
     },
     "metadata": {},
     "output_type": "display_data"
    },
    {
     "name": "stdout",
     "output_type": "stream",
     "text": [
      "\n"
     ]
    },
    {
     "data": {
      "application/vnd.jupyter.widget-view+json": {
       "model_id": "4e87c990e12b432c9ceed694dac84964",
       "version_major": 2,
       "version_minor": 0
      },
      "text/plain": [
       "HBox(children=(HTML(value=''), FloatProgress(value=0.0, max=285.0), HTML(value='')))"
      ]
     },
     "metadata": {},
     "output_type": "display_data"
    },
    {
     "name": "stdout",
     "output_type": "stream",
     "text": [
      "\n"
     ]
    },
    {
     "data": {
      "application/vnd.jupyter.widget-view+json": {
       "model_id": "47505cc16f7f429a9bd07cacb71a6be8",
       "version_major": 2,
       "version_minor": 0
      },
      "text/plain": [
       "HBox(children=(HTML(value=''), FloatProgress(value=0.0, max=278.0), HTML(value='')))"
      ]
     },
     "metadata": {},
     "output_type": "display_data"
    },
    {
     "name": "stdout",
     "output_type": "stream",
     "text": [
      "\n"
     ]
    },
    {
     "data": {
      "application/vnd.jupyter.widget-view+json": {
       "model_id": "5bdc7d6d540149a6bc1e1edcf9ccf945",
       "version_major": 2,
       "version_minor": 0
      },
      "text/plain": [
       "HBox(children=(HTML(value=''), FloatProgress(value=0.0, max=352.0), HTML(value='')))"
      ]
     },
     "metadata": {},
     "output_type": "display_data"
    },
    {
     "name": "stdout",
     "output_type": "stream",
     "text": [
      "\n"
     ]
    },
    {
     "data": {
      "application/vnd.jupyter.widget-view+json": {
       "model_id": "628a755d917a4b95a7d635f7ded88080",
       "version_major": 2,
       "version_minor": 0
      },
      "text/plain": [
       "HBox(children=(HTML(value=''), FloatProgress(value=0.0, max=283.0), HTML(value='')))"
      ]
     },
     "metadata": {},
     "output_type": "display_data"
    },
    {
     "name": "stdout",
     "output_type": "stream",
     "text": [
      "\n"
     ]
    },
    {
     "data": {
      "application/vnd.jupyter.widget-view+json": {
       "model_id": "8bebb9dbab564ccbbe582a7d5450aaeb",
       "version_major": 2,
       "version_minor": 0
      },
      "text/plain": [
       "HBox(children=(HTML(value=''), FloatProgress(value=0.0, max=298.0), HTML(value='')))"
      ]
     },
     "metadata": {},
     "output_type": "display_data"
    },
    {
     "name": "stdout",
     "output_type": "stream",
     "text": [
      "\n"
     ]
    },
    {
     "data": {
      "application/vnd.jupyter.widget-view+json": {
       "model_id": "31a35e998617499997bf88c1dfcbab0a",
       "version_major": 2,
       "version_minor": 0
      },
      "text/plain": [
       "HBox(children=(HTML(value=''), FloatProgress(value=0.0, max=274.0), HTML(value='')))"
      ]
     },
     "metadata": {},
     "output_type": "display_data"
    },
    {
     "name": "stdout",
     "output_type": "stream",
     "text": [
      "\n"
     ]
    },
    {
     "data": {
      "application/vnd.jupyter.widget-view+json": {
       "model_id": "e403bc63cb4d44e68c55a83800d142f0",
       "version_major": 2,
       "version_minor": 0
      },
      "text/plain": [
       "HBox(children=(HTML(value=''), FloatProgress(value=0.0, max=290.0), HTML(value='')))"
      ]
     },
     "metadata": {},
     "output_type": "display_data"
    },
    {
     "name": "stdout",
     "output_type": "stream",
     "text": [
      "\n"
     ]
    },
    {
     "data": {
      "application/vnd.jupyter.widget-view+json": {
       "model_id": "bc88afefec7b45a88f1135f11ae227c7",
       "version_major": 2,
       "version_minor": 0
      },
      "text/plain": [
       "HBox(children=(HTML(value=''), FloatProgress(value=0.0, max=329.0), HTML(value='')))"
      ]
     },
     "metadata": {},
     "output_type": "display_data"
    },
    {
     "name": "stdout",
     "output_type": "stream",
     "text": [
      "\n"
     ]
    },
    {
     "data": {
      "application/vnd.jupyter.widget-view+json": {
       "model_id": "6199b40d59db42a1a0bb1c032452bbd4",
       "version_major": 2,
       "version_minor": 0
      },
      "text/plain": [
       "HBox(children=(HTML(value=''), FloatProgress(value=0.0, max=270.0), HTML(value='')))"
      ]
     },
     "metadata": {},
     "output_type": "display_data"
    },
    {
     "name": "stdout",
     "output_type": "stream",
     "text": [
      "\n"
     ]
    },
    {
     "data": {
      "application/vnd.jupyter.widget-view+json": {
       "model_id": "c3844790ed8b411c83382c5758917525",
       "version_major": 2,
       "version_minor": 0
      },
      "text/plain": [
       "HBox(children=(HTML(value=''), FloatProgress(value=0.0, max=284.0), HTML(value='')))"
      ]
     },
     "metadata": {},
     "output_type": "display_data"
    },
    {
     "name": "stdout",
     "output_type": "stream",
     "text": [
      "\n"
     ]
    },
    {
     "data": {
      "application/vnd.jupyter.widget-view+json": {
       "model_id": "598d0e64bf744c8f82ed35abf140b76e",
       "version_major": 2,
       "version_minor": 0
      },
      "text/plain": [
       "HBox(children=(HTML(value=''), FloatProgress(value=0.0, max=333.0), HTML(value='')))"
      ]
     },
     "metadata": {},
     "output_type": "display_data"
    },
    {
     "name": "stdout",
     "output_type": "stream",
     "text": [
      "\n"
     ]
    },
    {
     "data": {
      "application/vnd.jupyter.widget-view+json": {
       "model_id": "b30b53f220e74156955008a22df74941",
       "version_major": 2,
       "version_minor": 0
      },
      "text/plain": [
       "HBox(children=(HTML(value=''), FloatProgress(value=0.0, max=308.0), HTML(value='')))"
      ]
     },
     "metadata": {},
     "output_type": "display_data"
    },
    {
     "name": "stdout",
     "output_type": "stream",
     "text": [
      "\n"
     ]
    },
    {
     "data": {
      "application/vnd.jupyter.widget-view+json": {
       "model_id": "880ded0a40804db98cacc5b4cd553b29",
       "version_major": 2,
       "version_minor": 0
      },
      "text/plain": [
       "HBox(children=(HTML(value=''), FloatProgress(value=0.0, max=283.0), HTML(value='')))"
      ]
     },
     "metadata": {},
     "output_type": "display_data"
    },
    {
     "name": "stdout",
     "output_type": "stream",
     "text": [
      "\n"
     ]
    },
    {
     "data": {
      "application/vnd.jupyter.widget-view+json": {
       "model_id": "c99ed92806fa43ad888c8322d7c1c903",
       "version_major": 2,
       "version_minor": 0
      },
      "text/plain": [
       "HBox(children=(HTML(value=''), FloatProgress(value=0.0, max=333.0), HTML(value='')))"
      ]
     },
     "metadata": {},
     "output_type": "display_data"
    },
    {
     "name": "stdout",
     "output_type": "stream",
     "text": [
      "\n"
     ]
    },
    {
     "data": {
      "application/vnd.jupyter.widget-view+json": {
       "model_id": "2f4a2e802681488cae612f6f53f85c48",
       "version_major": 2,
       "version_minor": 0
      },
      "text/plain": [
       "HBox(children=(HTML(value=''), FloatProgress(value=0.0, max=272.0), HTML(value='')))"
      ]
     },
     "metadata": {},
     "output_type": "display_data"
    },
    {
     "name": "stdout",
     "output_type": "stream",
     "text": [
      "\n"
     ]
    },
    {
     "data": {
      "application/vnd.jupyter.widget-view+json": {
       "model_id": "a6492a2b39b541bebcd87ab17643affb",
       "version_major": 2,
       "version_minor": 0
      },
      "text/plain": [
       "HBox(children=(HTML(value=''), FloatProgress(value=0.0, max=267.0), HTML(value='')))"
      ]
     },
     "metadata": {},
     "output_type": "display_data"
    },
    {
     "name": "stdout",
     "output_type": "stream",
     "text": [
      "\n"
     ]
    },
    {
     "data": {
      "application/vnd.jupyter.widget-view+json": {
       "model_id": "38147305fa6940208e0b29af23adfb40",
       "version_major": 2,
       "version_minor": 0
      },
      "text/plain": [
       "HBox(children=(HTML(value=''), FloatProgress(value=0.0, max=284.0), HTML(value='')))"
      ]
     },
     "metadata": {},
     "output_type": "display_data"
    },
    {
     "name": "stdout",
     "output_type": "stream",
     "text": [
      "\n"
     ]
    },
    {
     "data": {
      "application/vnd.jupyter.widget-view+json": {
       "model_id": "46a1f86f89674d74af37e8306725ecf7",
       "version_major": 2,
       "version_minor": 0
      },
      "text/plain": [
       "HBox(children=(HTML(value=''), FloatProgress(value=0.0, max=287.0), HTML(value='')))"
      ]
     },
     "metadata": {},
     "output_type": "display_data"
    },
    {
     "name": "stdout",
     "output_type": "stream",
     "text": [
      "\n"
     ]
    },
    {
     "data": {
      "application/vnd.jupyter.widget-view+json": {
       "model_id": "5c146be3d8064023bc90a38cf937f7b6",
       "version_major": 2,
       "version_minor": 0
      },
      "text/plain": [
       "HBox(children=(HTML(value=''), FloatProgress(value=0.0, max=297.0), HTML(value='')))"
      ]
     },
     "metadata": {},
     "output_type": "display_data"
    },
    {
     "name": "stdout",
     "output_type": "stream",
     "text": [
      "\n"
     ]
    },
    {
     "data": {
      "application/vnd.jupyter.widget-view+json": {
       "model_id": "62e8d49c193c47b693bd5b4fbb99f043",
       "version_major": 2,
       "version_minor": 0
      },
      "text/plain": [
       "HBox(children=(HTML(value=''), FloatProgress(value=0.0, max=298.0), HTML(value='')))"
      ]
     },
     "metadata": {},
     "output_type": "display_data"
    },
    {
     "name": "stdout",
     "output_type": "stream",
     "text": [
      "\n"
     ]
    },
    {
     "data": {
      "application/vnd.jupyter.widget-view+json": {
       "model_id": "0bfc1267591941cfaf55ee41e9f4d95f",
       "version_major": 2,
       "version_minor": 0
      },
      "text/plain": [
       "HBox(children=(HTML(value=''), FloatProgress(value=0.0, max=312.0), HTML(value='')))"
      ]
     },
     "metadata": {},
     "output_type": "display_data"
    },
    {
     "name": "stdout",
     "output_type": "stream",
     "text": [
      "\n"
     ]
    },
    {
     "data": {
      "application/vnd.jupyter.widget-view+json": {
       "model_id": "fa654dffb04f460d8fa9494aa7708961",
       "version_major": 2,
       "version_minor": 0
      },
      "text/plain": [
       "HBox(children=(HTML(value=''), FloatProgress(value=0.0, max=325.0), HTML(value='')))"
      ]
     },
     "metadata": {},
     "output_type": "display_data"
    },
    {
     "name": "stdout",
     "output_type": "stream",
     "text": [
      "\n"
     ]
    },
    {
     "data": {
      "application/vnd.jupyter.widget-view+json": {
       "model_id": "c107b6eff77d498ba10211741e311b30",
       "version_major": 2,
       "version_minor": 0
      },
      "text/plain": [
       "HBox(children=(HTML(value=''), FloatProgress(value=0.0, max=385.0), HTML(value='')))"
      ]
     },
     "metadata": {},
     "output_type": "display_data"
    },
    {
     "name": "stdout",
     "output_type": "stream",
     "text": [
      "\n"
     ]
    },
    {
     "data": {
      "application/vnd.jupyter.widget-view+json": {
       "model_id": "9ef71ae5f0d24a2a85c285464f79e193",
       "version_major": 2,
       "version_minor": 0
      },
      "text/plain": [
       "HBox(children=(HTML(value=''), FloatProgress(value=0.0, max=304.0), HTML(value='')))"
      ]
     },
     "metadata": {},
     "output_type": "display_data"
    },
    {
     "name": "stdout",
     "output_type": "stream",
     "text": [
      "\n"
     ]
    },
    {
     "data": {
      "application/vnd.jupyter.widget-view+json": {
       "model_id": "1beaa9ecb05146a1a758fe0db147f9a9",
       "version_major": 2,
       "version_minor": 0
      },
      "text/plain": [
       "HBox(children=(HTML(value=''), FloatProgress(value=0.0, max=287.0), HTML(value='')))"
      ]
     },
     "metadata": {},
     "output_type": "display_data"
    },
    {
     "name": "stdout",
     "output_type": "stream",
     "text": [
      "\n"
     ]
    },
    {
     "data": {
      "application/vnd.jupyter.widget-view+json": {
       "model_id": "8a9d4ccb798640bfaf4dad7a6de0b469",
       "version_major": 2,
       "version_minor": 0
      },
      "text/plain": [
       "HBox(children=(HTML(value=''), FloatProgress(value=0.0, max=281.0), HTML(value='')))"
      ]
     },
     "metadata": {},
     "output_type": "display_data"
    },
    {
     "name": "stdout",
     "output_type": "stream",
     "text": [
      "\n"
     ]
    },
    {
     "data": {
      "application/vnd.jupyter.widget-view+json": {
       "model_id": "70095076279444c9bdca9d17fbeb9e1c",
       "version_major": 2,
       "version_minor": 0
      },
      "text/plain": [
       "HBox(children=(HTML(value=''), FloatProgress(value=0.0, max=313.0), HTML(value='')))"
      ]
     },
     "metadata": {},
     "output_type": "display_data"
    },
    {
     "name": "stdout",
     "output_type": "stream",
     "text": [
      "\n"
     ]
    },
    {
     "data": {
      "application/vnd.jupyter.widget-view+json": {
       "model_id": "7cf65904d45842f39ca9d2208475f1b8",
       "version_major": 2,
       "version_minor": 0
      },
      "text/plain": [
       "HBox(children=(HTML(value=''), FloatProgress(value=0.0, max=347.0), HTML(value='')))"
      ]
     },
     "metadata": {},
     "output_type": "display_data"
    },
    {
     "name": "stdout",
     "output_type": "stream",
     "text": [
      "\n"
     ]
    },
    {
     "data": {
      "application/vnd.jupyter.widget-view+json": {
       "model_id": "a1b7c4f52feb4984bf8df3882f164ab7",
       "version_major": 2,
       "version_minor": 0
      },
      "text/plain": [
       "HBox(children=(HTML(value=''), FloatProgress(value=0.0, max=356.0), HTML(value='')))"
      ]
     },
     "metadata": {},
     "output_type": "display_data"
    },
    {
     "name": "stdout",
     "output_type": "stream",
     "text": [
      "\n"
     ]
    },
    {
     "data": {
      "application/vnd.jupyter.widget-view+json": {
       "model_id": "fb9dc3d162c543449c971167de409025",
       "version_major": 2,
       "version_minor": 0
      },
      "text/plain": [
       "HBox(children=(HTML(value=''), FloatProgress(value=0.0, max=311.0), HTML(value='')))"
      ]
     },
     "metadata": {},
     "output_type": "display_data"
    },
    {
     "name": "stdout",
     "output_type": "stream",
     "text": [
      "\n"
     ]
    },
    {
     "data": {
      "application/vnd.jupyter.widget-view+json": {
       "model_id": "90ac1293f9ec450a8424bb7222064398",
       "version_major": 2,
       "version_minor": 0
      },
      "text/plain": [
       "HBox(children=(HTML(value=''), FloatProgress(value=0.0, max=299.0), HTML(value='')))"
      ]
     },
     "metadata": {},
     "output_type": "display_data"
    },
    {
     "name": "stdout",
     "output_type": "stream",
     "text": [
      "\n"
     ]
    },
    {
     "data": {
      "application/vnd.jupyter.widget-view+json": {
       "model_id": "e247d16bb5e742a59409c198d28473af",
       "version_major": 2,
       "version_minor": 0
      },
      "text/plain": [
       "HBox(children=(HTML(value=''), FloatProgress(value=0.0, max=328.0), HTML(value='')))"
      ]
     },
     "metadata": {},
     "output_type": "display_data"
    },
    {
     "name": "stdout",
     "output_type": "stream",
     "text": [
      "\n"
     ]
    },
    {
     "data": {
      "application/vnd.jupyter.widget-view+json": {
       "model_id": "89929bd7420a449b9abf5380936b424a",
       "version_major": 2,
       "version_minor": 0
      },
      "text/plain": [
       "HBox(children=(HTML(value=''), FloatProgress(value=0.0, max=316.0), HTML(value='')))"
      ]
     },
     "metadata": {},
     "output_type": "display_data"
    },
    {
     "name": "stdout",
     "output_type": "stream",
     "text": [
      "\n"
     ]
    },
    {
     "data": {
      "application/vnd.jupyter.widget-view+json": {
       "model_id": "74ccc9985a044b9ea596df4b7368e158",
       "version_major": 2,
       "version_minor": 0
      },
      "text/plain": [
       "HBox(children=(HTML(value=''), FloatProgress(value=0.0, max=324.0), HTML(value='')))"
      ]
     },
     "metadata": {},
     "output_type": "display_data"
    },
    {
     "name": "stdout",
     "output_type": "stream",
     "text": [
      "\n"
     ]
    },
    {
     "data": {
      "application/vnd.jupyter.widget-view+json": {
       "model_id": "898117daefed4e578b66c5bb53a04d07",
       "version_major": 2,
       "version_minor": 0
      },
      "text/plain": [
       "HBox(children=(HTML(value=''), FloatProgress(value=0.0, max=310.0), HTML(value='')))"
      ]
     },
     "metadata": {},
     "output_type": "display_data"
    },
    {
     "name": "stdout",
     "output_type": "stream",
     "text": [
      "\n"
     ]
    },
    {
     "data": {
      "application/vnd.jupyter.widget-view+json": {
       "model_id": "21f2599719a141158f6a1bcfb96b9c44",
       "version_major": 2,
       "version_minor": 0
      },
      "text/plain": [
       "HBox(children=(HTML(value=''), FloatProgress(value=0.0, max=294.0), HTML(value='')))"
      ]
     },
     "metadata": {},
     "output_type": "display_data"
    },
    {
     "name": "stdout",
     "output_type": "stream",
     "text": [
      "\n"
     ]
    },
    {
     "data": {
      "application/vnd.jupyter.widget-view+json": {
       "model_id": "3da2084346194a94aa2d29a916e6b97c",
       "version_major": 2,
       "version_minor": 0
      },
      "text/plain": [
       "HBox(children=(HTML(value=''), FloatProgress(value=0.0, max=314.0), HTML(value='')))"
      ]
     },
     "metadata": {},
     "output_type": "display_data"
    },
    {
     "name": "stdout",
     "output_type": "stream",
     "text": [
      "\n"
     ]
    },
    {
     "data": {
      "application/vnd.jupyter.widget-view+json": {
       "model_id": "d3a3a39ecad948008d9bac817814e1fb",
       "version_major": 2,
       "version_minor": 0
      },
      "text/plain": [
       "HBox(children=(HTML(value=''), FloatProgress(value=0.0, max=279.0), HTML(value='')))"
      ]
     },
     "metadata": {},
     "output_type": "display_data"
    },
    {
     "name": "stdout",
     "output_type": "stream",
     "text": [
      "\n"
     ]
    },
    {
     "data": {
      "application/vnd.jupyter.widget-view+json": {
       "model_id": "504086b400a44df690a03e1f2d411593",
       "version_major": 2,
       "version_minor": 0
      },
      "text/plain": [
       "HBox(children=(HTML(value=''), FloatProgress(value=0.0, max=380.0), HTML(value='')))"
      ]
     },
     "metadata": {},
     "output_type": "display_data"
    },
    {
     "name": "stdout",
     "output_type": "stream",
     "text": [
      "\n"
     ]
    },
    {
     "data": {
      "application/vnd.jupyter.widget-view+json": {
       "model_id": "f4b794f1288c4316aa2709a8463a5b2b",
       "version_major": 2,
       "version_minor": 0
      },
      "text/plain": [
       "HBox(children=(HTML(value=''), FloatProgress(value=0.0, max=330.0), HTML(value='')))"
      ]
     },
     "metadata": {},
     "output_type": "display_data"
    },
    {
     "name": "stdout",
     "output_type": "stream",
     "text": [
      "\n"
     ]
    },
    {
     "data": {
      "application/vnd.jupyter.widget-view+json": {
       "model_id": "94315ade105642c0b8f68cccf3803cdf",
       "version_major": 2,
       "version_minor": 0
      },
      "text/plain": [
       "HBox(children=(HTML(value=''), FloatProgress(value=0.0, max=371.0), HTML(value='')))"
      ]
     },
     "metadata": {},
     "output_type": "display_data"
    },
    {
     "name": "stdout",
     "output_type": "stream",
     "text": [
      "\n"
     ]
    },
    {
     "data": {
      "application/vnd.jupyter.widget-view+json": {
       "model_id": "db32ae07dc794be7bd1a0b67e92899db",
       "version_major": 2,
       "version_minor": 0
      },
      "text/plain": [
       "HBox(children=(HTML(value=''), FloatProgress(value=0.0, max=330.0), HTML(value='')))"
      ]
     },
     "metadata": {},
     "output_type": "display_data"
    },
    {
     "name": "stdout",
     "output_type": "stream",
     "text": [
      "\n"
     ]
    },
    {
     "data": {
      "application/vnd.jupyter.widget-view+json": {
       "model_id": "20f3a53d9e6f4626bf953adf7b50ce1c",
       "version_major": 2,
       "version_minor": 0
      },
      "text/plain": [
       "HBox(children=(HTML(value=''), FloatProgress(value=0.0, max=336.0), HTML(value='')))"
      ]
     },
     "metadata": {},
     "output_type": "display_data"
    },
    {
     "name": "stdout",
     "output_type": "stream",
     "text": [
      "\n"
     ]
    },
    {
     "data": {
      "application/vnd.jupyter.widget-view+json": {
       "model_id": "f443e994dad745ddbd16071ef8d93a67",
       "version_major": 2,
       "version_minor": 0
      },
      "text/plain": [
       "HBox(children=(HTML(value=''), FloatProgress(value=0.0, max=289.0), HTML(value='')))"
      ]
     },
     "metadata": {},
     "output_type": "display_data"
    },
    {
     "name": "stdout",
     "output_type": "stream",
     "text": [
      "\n"
     ]
    },
    {
     "data": {
      "application/vnd.jupyter.widget-view+json": {
       "model_id": "49f22dc25e504adc8537b097f8e769d2",
       "version_major": 2,
       "version_minor": 0
      },
      "text/plain": [
       "HBox(children=(HTML(value=''), FloatProgress(value=0.0, max=302.0), HTML(value='')))"
      ]
     },
     "metadata": {},
     "output_type": "display_data"
    },
    {
     "name": "stdout",
     "output_type": "stream",
     "text": [
      "\n"
     ]
    },
    {
     "data": {
      "application/vnd.jupyter.widget-view+json": {
       "model_id": "91d5c88eaa0f411cb1f623e55e9c3d2c",
       "version_major": 2,
       "version_minor": 0
      },
      "text/plain": [
       "HBox(children=(HTML(value=''), FloatProgress(value=0.0, max=335.0), HTML(value='')))"
      ]
     },
     "metadata": {},
     "output_type": "display_data"
    },
    {
     "name": "stdout",
     "output_type": "stream",
     "text": [
      "\n"
     ]
    },
    {
     "data": {
      "application/vnd.jupyter.widget-view+json": {
       "model_id": "a8386d5555944197a7e6cdb1750d06f0",
       "version_major": 2,
       "version_minor": 0
      },
      "text/plain": [
       "HBox(children=(HTML(value=''), FloatProgress(value=0.0, max=328.0), HTML(value='')))"
      ]
     },
     "metadata": {},
     "output_type": "display_data"
    },
    {
     "name": "stdout",
     "output_type": "stream",
     "text": [
      "\n"
     ]
    },
    {
     "data": {
      "application/vnd.jupyter.widget-view+json": {
       "model_id": "3e8cb442673c4919838d7f79fa697295",
       "version_major": 2,
       "version_minor": 0
      },
      "text/plain": [
       "HBox(children=(HTML(value=''), FloatProgress(value=0.0, max=343.0), HTML(value='')))"
      ]
     },
     "metadata": {},
     "output_type": "display_data"
    },
    {
     "name": "stdout",
     "output_type": "stream",
     "text": [
      "\n"
     ]
    },
    {
     "data": {
      "application/vnd.jupyter.widget-view+json": {
       "model_id": "cfdf25a20571463d9dbc24e5e09e4f09",
       "version_major": 2,
       "version_minor": 0
      },
      "text/plain": [
       "HBox(children=(HTML(value=''), FloatProgress(value=0.0, max=319.0), HTML(value='')))"
      ]
     },
     "metadata": {},
     "output_type": "display_data"
    },
    {
     "name": "stdout",
     "output_type": "stream",
     "text": [
      "\n"
     ]
    },
    {
     "data": {
      "application/vnd.jupyter.widget-view+json": {
       "model_id": "b8957ed219c24cf3af15e4b9ef470ae5",
       "version_major": 2,
       "version_minor": 0
      },
      "text/plain": [
       "HBox(children=(HTML(value=''), FloatProgress(value=0.0, max=308.0), HTML(value='')))"
      ]
     },
     "metadata": {},
     "output_type": "display_data"
    },
    {
     "name": "stdout",
     "output_type": "stream",
     "text": [
      "\n"
     ]
    },
    {
     "data": {
      "application/vnd.jupyter.widget-view+json": {
       "model_id": "d5a76a59837e4160b8889e9fc3036213",
       "version_major": 2,
       "version_minor": 0
      },
      "text/plain": [
       "HBox(children=(HTML(value=''), FloatProgress(value=0.0, max=289.0), HTML(value='')))"
      ]
     },
     "metadata": {},
     "output_type": "display_data"
    },
    {
     "name": "stdout",
     "output_type": "stream",
     "text": [
      "\n"
     ]
    },
    {
     "data": {
      "application/vnd.jupyter.widget-view+json": {
       "model_id": "080a174ba900487fba44fabaabf83e99",
       "version_major": 2,
       "version_minor": 0
      },
      "text/plain": [
       "HBox(children=(HTML(value=''), FloatProgress(value=0.0, max=345.0), HTML(value='')))"
      ]
     },
     "metadata": {},
     "output_type": "display_data"
    },
    {
     "name": "stdout",
     "output_type": "stream",
     "text": [
      "\n"
     ]
    },
    {
     "data": {
      "application/vnd.jupyter.widget-view+json": {
       "model_id": "2761c14975aa4f179f1bf5d451999565",
       "version_major": 2,
       "version_minor": 0
      },
      "text/plain": [
       "HBox(children=(HTML(value=''), FloatProgress(value=0.0, max=296.0), HTML(value='')))"
      ]
     },
     "metadata": {},
     "output_type": "display_data"
    },
    {
     "name": "stdout",
     "output_type": "stream",
     "text": [
      "\n"
     ]
    },
    {
     "data": {
      "application/vnd.jupyter.widget-view+json": {
       "model_id": "94a4ee26bebe4bc1b7e078ceca330b84",
       "version_major": 2,
       "version_minor": 0
      },
      "text/plain": [
       "HBox(children=(HTML(value=''), FloatProgress(value=0.0, max=283.0), HTML(value='')))"
      ]
     },
     "metadata": {},
     "output_type": "display_data"
    },
    {
     "name": "stdout",
     "output_type": "stream",
     "text": [
      "\n"
     ]
    },
    {
     "data": {
      "application/vnd.jupyter.widget-view+json": {
       "model_id": "ff4dc0a6876f41ac8ebc29c079e18341",
       "version_major": 2,
       "version_minor": 0
      },
      "text/plain": [
       "HBox(children=(HTML(value=''), FloatProgress(value=0.0, max=269.0), HTML(value='')))"
      ]
     },
     "metadata": {},
     "output_type": "display_data"
    },
    {
     "name": "stdout",
     "output_type": "stream",
     "text": [
      "\n"
     ]
    },
    {
     "data": {
      "application/vnd.jupyter.widget-view+json": {
       "model_id": "d5a6acd8990944798cf0dc1759eb4e65",
       "version_major": 2,
       "version_minor": 0
      },
      "text/plain": [
       "HBox(children=(HTML(value=''), FloatProgress(value=0.0, max=332.0), HTML(value='')))"
      ]
     },
     "metadata": {},
     "output_type": "display_data"
    },
    {
     "name": "stdout",
     "output_type": "stream",
     "text": [
      "\n"
     ]
    },
    {
     "data": {
      "application/vnd.jupyter.widget-view+json": {
       "model_id": "e6b8074f5df74d3f828a8e96cec7a0cb",
       "version_major": 2,
       "version_minor": 0
      },
      "text/plain": [
       "HBox(children=(HTML(value=''), FloatProgress(value=0.0, max=307.0), HTML(value='')))"
      ]
     },
     "metadata": {},
     "output_type": "display_data"
    },
    {
     "name": "stdout",
     "output_type": "stream",
     "text": [
      "\n"
     ]
    },
    {
     "data": {
      "application/vnd.jupyter.widget-view+json": {
       "model_id": "b40bc79d090646bebbcc2944e1c8d010",
       "version_major": 2,
       "version_minor": 0
      },
      "text/plain": [
       "HBox(children=(HTML(value=''), FloatProgress(value=0.0, max=357.0), HTML(value='')))"
      ]
     },
     "metadata": {},
     "output_type": "display_data"
    },
    {
     "name": "stdout",
     "output_type": "stream",
     "text": [
      "\n"
     ]
    },
    {
     "data": {
      "application/vnd.jupyter.widget-view+json": {
       "model_id": "1400d54c4ff24b959afa85b9c9b46a76",
       "version_major": 2,
       "version_minor": 0
      },
      "text/plain": [
       "HBox(children=(HTML(value=''), FloatProgress(value=0.0, max=302.0), HTML(value='')))"
      ]
     },
     "metadata": {},
     "output_type": "display_data"
    },
    {
     "name": "stdout",
     "output_type": "stream",
     "text": [
      "\n"
     ]
    },
    {
     "data": {
      "application/vnd.jupyter.widget-view+json": {
       "model_id": "75191b25f6f0411094d533345a1e78c6",
       "version_major": 2,
       "version_minor": 0
      },
      "text/plain": [
       "HBox(children=(HTML(value=''), FloatProgress(value=0.0, max=312.0), HTML(value='')))"
      ]
     },
     "metadata": {},
     "output_type": "display_data"
    },
    {
     "name": "stdout",
     "output_type": "stream",
     "text": [
      "\n"
     ]
    },
    {
     "data": {
      "application/vnd.jupyter.widget-view+json": {
       "model_id": "7730e0d4e6b24a3ba54b92f422ea7317",
       "version_major": 2,
       "version_minor": 0
      },
      "text/plain": [
       "HBox(children=(HTML(value=''), FloatProgress(value=0.0, max=313.0), HTML(value='')))"
      ]
     },
     "metadata": {},
     "output_type": "display_data"
    },
    {
     "name": "stdout",
     "output_type": "stream",
     "text": [
      "\n"
     ]
    },
    {
     "data": {
      "application/vnd.jupyter.widget-view+json": {
       "model_id": "9992a7549e664cec8af06c739378e379",
       "version_major": 2,
       "version_minor": 0
      },
      "text/plain": [
       "HBox(children=(HTML(value=''), FloatProgress(value=0.0, max=284.0), HTML(value='')))"
      ]
     },
     "metadata": {},
     "output_type": "display_data"
    },
    {
     "name": "stdout",
     "output_type": "stream",
     "text": [
      "\n"
     ]
    },
    {
     "data": {
      "application/vnd.jupyter.widget-view+json": {
       "model_id": "a670209c03894adaa48d661682717ba9",
       "version_major": 2,
       "version_minor": 0
      },
      "text/plain": [
       "HBox(children=(HTML(value=''), FloatProgress(value=0.0, max=288.0), HTML(value='')))"
      ]
     },
     "metadata": {},
     "output_type": "display_data"
    },
    {
     "name": "stdout",
     "output_type": "stream",
     "text": [
      "\n"
     ]
    },
    {
     "data": {
      "application/vnd.jupyter.widget-view+json": {
       "model_id": "d9608e3fd44d40349a7e4cc4aade550e",
       "version_major": 2,
       "version_minor": 0
      },
      "text/plain": [
       "HBox(children=(HTML(value=''), FloatProgress(value=0.0, max=281.0), HTML(value='')))"
      ]
     },
     "metadata": {},
     "output_type": "display_data"
    },
    {
     "name": "stdout",
     "output_type": "stream",
     "text": [
      "\n"
     ]
    },
    {
     "data": {
      "application/vnd.jupyter.widget-view+json": {
       "model_id": "60ed838d7442497287a072b1863a0129",
       "version_major": 2,
       "version_minor": 0
      },
      "text/plain": [
       "HBox(children=(HTML(value=''), FloatProgress(value=0.0, max=287.0), HTML(value='')))"
      ]
     },
     "metadata": {},
     "output_type": "display_data"
    },
    {
     "name": "stdout",
     "output_type": "stream",
     "text": [
      "\n"
     ]
    },
    {
     "data": {
      "application/vnd.jupyter.widget-view+json": {
       "model_id": "f43f5c7fef074b1d807eb71b12353e36",
       "version_major": 2,
       "version_minor": 0
      },
      "text/plain": [
       "HBox(children=(HTML(value=''), FloatProgress(value=0.0, max=283.0), HTML(value='')))"
      ]
     },
     "metadata": {},
     "output_type": "display_data"
    },
    {
     "name": "stdout",
     "output_type": "stream",
     "text": [
      "\n"
     ]
    },
    {
     "data": {
      "application/vnd.jupyter.widget-view+json": {
       "model_id": "635258f21fb8484987ca422748a952a2",
       "version_major": 2,
       "version_minor": 0
      },
      "text/plain": [
       "HBox(children=(HTML(value=''), FloatProgress(value=0.0, max=293.0), HTML(value='')))"
      ]
     },
     "metadata": {},
     "output_type": "display_data"
    },
    {
     "name": "stdout",
     "output_type": "stream",
     "text": [
      "\n"
     ]
    },
    {
     "data": {
      "application/vnd.jupyter.widget-view+json": {
       "model_id": "d168ecbb6acb46bb980121a5b7ab612a",
       "version_major": 2,
       "version_minor": 0
      },
      "text/plain": [
       "HBox(children=(HTML(value=''), FloatProgress(value=0.0, max=331.0), HTML(value='')))"
      ]
     },
     "metadata": {},
     "output_type": "display_data"
    },
    {
     "name": "stdout",
     "output_type": "stream",
     "text": [
      "\n"
     ]
    },
    {
     "data": {
      "application/vnd.jupyter.widget-view+json": {
       "model_id": "f31f41d86fc64bc68d67ab89d2e17904",
       "version_major": 2,
       "version_minor": 0
      },
      "text/plain": [
       "HBox(children=(HTML(value=''), FloatProgress(value=0.0, max=324.0), HTML(value='')))"
      ]
     },
     "metadata": {},
     "output_type": "display_data"
    },
    {
     "name": "stdout",
     "output_type": "stream",
     "text": [
      "\n"
     ]
    },
    {
     "data": {
      "application/vnd.jupyter.widget-view+json": {
       "model_id": "ab84aec4eca348b595a7e4cfd9f7db62",
       "version_major": 2,
       "version_minor": 0
      },
      "text/plain": [
       "HBox(children=(HTML(value=''), FloatProgress(value=0.0, max=311.0), HTML(value='')))"
      ]
     },
     "metadata": {},
     "output_type": "display_data"
    },
    {
     "name": "stdout",
     "output_type": "stream",
     "text": [
      "\n"
     ]
    },
    {
     "data": {
      "application/vnd.jupyter.widget-view+json": {
       "model_id": "1840d3d5a5504cf2928cb119d61d289b",
       "version_major": 2,
       "version_minor": 0
      },
      "text/plain": [
       "HBox(children=(HTML(value=''), FloatProgress(value=0.0, max=329.0), HTML(value='')))"
      ]
     },
     "metadata": {},
     "output_type": "display_data"
    },
    {
     "name": "stdout",
     "output_type": "stream",
     "text": [
      "\n"
     ]
    },
    {
     "data": {
      "application/vnd.jupyter.widget-view+json": {
       "model_id": "a4ce6850a0a94e95ad48d2f616d091b5",
       "version_major": 2,
       "version_minor": 0
      },
      "text/plain": [
       "HBox(children=(HTML(value=''), FloatProgress(value=0.0, max=293.0), HTML(value='')))"
      ]
     },
     "metadata": {},
     "output_type": "display_data"
    },
    {
     "name": "stdout",
     "output_type": "stream",
     "text": [
      "\n"
     ]
    },
    {
     "data": {
      "application/vnd.jupyter.widget-view+json": {
       "model_id": "8836b7676c534f38a71ef9d2e7ae74c8",
       "version_major": 2,
       "version_minor": 0
      },
      "text/plain": [
       "HBox(children=(HTML(value=''), FloatProgress(value=0.0, max=304.0), HTML(value='')))"
      ]
     },
     "metadata": {},
     "output_type": "display_data"
    },
    {
     "name": "stdout",
     "output_type": "stream",
     "text": [
      "\n"
     ]
    },
    {
     "data": {
      "application/vnd.jupyter.widget-view+json": {
       "model_id": "05ae20e369d8403ebb76932022836a42",
       "version_major": 2,
       "version_minor": 0
      },
      "text/plain": [
       "HBox(children=(HTML(value=''), FloatProgress(value=0.0, max=366.0), HTML(value='')))"
      ]
     },
     "metadata": {},
     "output_type": "display_data"
    },
    {
     "name": "stdout",
     "output_type": "stream",
     "text": [
      "\n"
     ]
    },
    {
     "data": {
      "application/vnd.jupyter.widget-view+json": {
       "model_id": "8bc299a8a7fc4fe78f50daa811c8216c",
       "version_major": 2,
       "version_minor": 0
      },
      "text/plain": [
       "HBox(children=(HTML(value=''), FloatProgress(value=0.0, max=243.0), HTML(value='')))"
      ]
     },
     "metadata": {},
     "output_type": "display_data"
    },
    {
     "name": "stdout",
     "output_type": "stream",
     "text": [
      "\n"
     ]
    },
    {
     "data": {
      "application/vnd.jupyter.widget-view+json": {
       "model_id": "9d9ca59954164c08a5598c7ad2a9515d",
       "version_major": 2,
       "version_minor": 0
      },
      "text/plain": [
       "HBox(children=(HTML(value=''), FloatProgress(value=0.0, max=293.0), HTML(value='')))"
      ]
     },
     "metadata": {},
     "output_type": "display_data"
    },
    {
     "name": "stdout",
     "output_type": "stream",
     "text": [
      "\n"
     ]
    },
    {
     "data": {
      "application/vnd.jupyter.widget-view+json": {
       "model_id": "36b11b9083974158bcfc93e9984dffe4",
       "version_major": 2,
       "version_minor": 0
      },
      "text/plain": [
       "HBox(children=(HTML(value=''), FloatProgress(value=0.0, max=301.0), HTML(value='')))"
      ]
     },
     "metadata": {},
     "output_type": "display_data"
    },
    {
     "name": "stdout",
     "output_type": "stream",
     "text": [
      "\n"
     ]
    },
    {
     "data": {
      "application/vnd.jupyter.widget-view+json": {
       "model_id": "9adc2aa5f2fb4e34866b9d0a48930727",
       "version_major": 2,
       "version_minor": 0
      },
      "text/plain": [
       "HBox(children=(HTML(value=''), FloatProgress(value=0.0, max=294.0), HTML(value='')))"
      ]
     },
     "metadata": {},
     "output_type": "display_data"
    },
    {
     "name": "stdout",
     "output_type": "stream",
     "text": [
      "\n"
     ]
    },
    {
     "data": {
      "application/vnd.jupyter.widget-view+json": {
       "model_id": "dce7702a165c4b2a96323b05a7b458ff",
       "version_major": 2,
       "version_minor": 0
      },
      "text/plain": [
       "HBox(children=(HTML(value=''), FloatProgress(value=0.0, max=285.0), HTML(value='')))"
      ]
     },
     "metadata": {},
     "output_type": "display_data"
    },
    {
     "name": "stdout",
     "output_type": "stream",
     "text": [
      "\n"
     ]
    },
    {
     "data": {
      "application/vnd.jupyter.widget-view+json": {
       "model_id": "0b73cb16319645f58f221d4a67deb996",
       "version_major": 2,
       "version_minor": 0
      },
      "text/plain": [
       "HBox(children=(HTML(value=''), FloatProgress(value=0.0, max=307.0), HTML(value='')))"
      ]
     },
     "metadata": {},
     "output_type": "display_data"
    },
    {
     "name": "stdout",
     "output_type": "stream",
     "text": [
      "\n"
     ]
    },
    {
     "data": {
      "application/vnd.jupyter.widget-view+json": {
       "model_id": "f61ed688c79b4d8cb33b02d785d5db93",
       "version_major": 2,
       "version_minor": 0
      },
      "text/plain": [
       "HBox(children=(HTML(value=''), FloatProgress(value=0.0, max=293.0), HTML(value='')))"
      ]
     },
     "metadata": {},
     "output_type": "display_data"
    },
    {
     "name": "stdout",
     "output_type": "stream",
     "text": [
      "\n"
     ]
    },
    {
     "data": {
      "application/vnd.jupyter.widget-view+json": {
       "model_id": "c82e9e9d06b745f39a22951cab1bbc4e",
       "version_major": 2,
       "version_minor": 0
      },
      "text/plain": [
       "HBox(children=(HTML(value=''), FloatProgress(value=0.0, max=305.0), HTML(value='')))"
      ]
     },
     "metadata": {},
     "output_type": "display_data"
    },
    {
     "name": "stdout",
     "output_type": "stream",
     "text": [
      "\n"
     ]
    },
    {
     "data": {
      "application/vnd.jupyter.widget-view+json": {
       "model_id": "54bcba15fcbd450fb697da7f96a5a093",
       "version_major": 2,
       "version_minor": 0
      },
      "text/plain": [
       "HBox(children=(HTML(value=''), FloatProgress(value=0.0, max=324.0), HTML(value='')))"
      ]
     },
     "metadata": {},
     "output_type": "display_data"
    },
    {
     "name": "stdout",
     "output_type": "stream",
     "text": [
      "\n"
     ]
    },
    {
     "data": {
      "application/vnd.jupyter.widget-view+json": {
       "model_id": "5828339714814ce3a36f9bd1119eb2a7",
       "version_major": 2,
       "version_minor": 0
      },
      "text/plain": [
       "HBox(children=(HTML(value=''), FloatProgress(value=0.0, max=357.0), HTML(value='')))"
      ]
     },
     "metadata": {},
     "output_type": "display_data"
    },
    {
     "name": "stdout",
     "output_type": "stream",
     "text": [
      "\n"
     ]
    },
    {
     "data": {
      "application/vnd.jupyter.widget-view+json": {
       "model_id": "19adeac4d1bd42d48d887f6394f05776",
       "version_major": 2,
       "version_minor": 0
      },
      "text/plain": [
       "HBox(children=(HTML(value=''), FloatProgress(value=0.0, max=301.0), HTML(value='')))"
      ]
     },
     "metadata": {},
     "output_type": "display_data"
    },
    {
     "name": "stdout",
     "output_type": "stream",
     "text": [
      "\n"
     ]
    },
    {
     "data": {
      "application/vnd.jupyter.widget-view+json": {
       "model_id": "1534e909732644a391011e9d1f64716c",
       "version_major": 2,
       "version_minor": 0
      },
      "text/plain": [
       "HBox(children=(HTML(value=''), FloatProgress(value=0.0, max=261.0), HTML(value='')))"
      ]
     },
     "metadata": {},
     "output_type": "display_data"
    },
    {
     "name": "stdout",
     "output_type": "stream",
     "text": [
      "\n"
     ]
    },
    {
     "data": {
      "application/vnd.jupyter.widget-view+json": {
       "model_id": "542d2f7989f947a59d0ee7f76a7009ef",
       "version_major": 2,
       "version_minor": 0
      },
      "text/plain": [
       "HBox(children=(HTML(value=''), FloatProgress(value=0.0, max=269.0), HTML(value='')))"
      ]
     },
     "metadata": {},
     "output_type": "display_data"
    },
    {
     "name": "stdout",
     "output_type": "stream",
     "text": [
      "\n"
     ]
    },
    {
     "data": {
      "application/vnd.jupyter.widget-view+json": {
       "model_id": "3973d3d3086543d18fc37984d4f3a225",
       "version_major": 2,
       "version_minor": 0
      },
      "text/plain": [
       "HBox(children=(HTML(value=''), FloatProgress(value=0.0, max=319.0), HTML(value='')))"
      ]
     },
     "metadata": {},
     "output_type": "display_data"
    },
    {
     "name": "stdout",
     "output_type": "stream",
     "text": [
      "\n"
     ]
    },
    {
     "data": {
      "application/vnd.jupyter.widget-view+json": {
       "model_id": "dbebbb9d67c44738b0d216020ef3ee89",
       "version_major": 2,
       "version_minor": 0
      },
      "text/plain": [
       "HBox(children=(HTML(value=''), FloatProgress(value=0.0, max=331.0), HTML(value='')))"
      ]
     },
     "metadata": {},
     "output_type": "display_data"
    },
    {
     "name": "stdout",
     "output_type": "stream",
     "text": [
      "\n"
     ]
    },
    {
     "data": {
      "application/vnd.jupyter.widget-view+json": {
       "model_id": "f41177c5e4584484af49ca2b7ba356e9",
       "version_major": 2,
       "version_minor": 0
      },
      "text/plain": [
       "HBox(children=(HTML(value=''), FloatProgress(value=0.0, max=374.0), HTML(value='')))"
      ]
     },
     "metadata": {},
     "output_type": "display_data"
    },
    {
     "name": "stdout",
     "output_type": "stream",
     "text": [
      "\n"
     ]
    },
    {
     "data": {
      "application/vnd.jupyter.widget-view+json": {
       "model_id": "38bbf5f73c2047bda10ab08688690eed",
       "version_major": 2,
       "version_minor": 0
      },
      "text/plain": [
       "HBox(children=(HTML(value=''), FloatProgress(value=0.0, max=319.0), HTML(value='')))"
      ]
     },
     "metadata": {},
     "output_type": "display_data"
    },
    {
     "name": "stdout",
     "output_type": "stream",
     "text": [
      "\n"
     ]
    },
    {
     "data": {
      "application/vnd.jupyter.widget-view+json": {
       "model_id": "eb0f29953575454aa6aab6cb2395c32c",
       "version_major": 2,
       "version_minor": 0
      },
      "text/plain": [
       "HBox(children=(HTML(value=''), FloatProgress(value=0.0, max=299.0), HTML(value='')))"
      ]
     },
     "metadata": {},
     "output_type": "display_data"
    },
    {
     "name": "stdout",
     "output_type": "stream",
     "text": [
      "\n"
     ]
    },
    {
     "data": {
      "application/vnd.jupyter.widget-view+json": {
       "model_id": "e3bacf53283e4117a1a1a380ee4b3b2a",
       "version_major": 2,
       "version_minor": 0
      },
      "text/plain": [
       "HBox(children=(HTML(value=''), FloatProgress(value=0.0, max=317.0), HTML(value='')))"
      ]
     },
     "metadata": {},
     "output_type": "display_data"
    },
    {
     "name": "stdout",
     "output_type": "stream",
     "text": [
      "\n"
     ]
    },
    {
     "data": {
      "application/vnd.jupyter.widget-view+json": {
       "model_id": "fad85e0b8bc449428b71322e56f09133",
       "version_major": 2,
       "version_minor": 0
      },
      "text/plain": [
       "HBox(children=(HTML(value=''), FloatProgress(value=0.0, max=407.0), HTML(value='')))"
      ]
     },
     "metadata": {},
     "output_type": "display_data"
    },
    {
     "name": "stdout",
     "output_type": "stream",
     "text": [
      "\n"
     ]
    },
    {
     "data": {
      "application/vnd.jupyter.widget-view+json": {
       "model_id": "7f4f27a1eb1d45379b93ddb746658efd",
       "version_major": 2,
       "version_minor": 0
      },
      "text/plain": [
       "HBox(children=(HTML(value=''), FloatProgress(value=0.0, max=280.0), HTML(value='')))"
      ]
     },
     "metadata": {},
     "output_type": "display_data"
    },
    {
     "name": "stdout",
     "output_type": "stream",
     "text": [
      "\n"
     ]
    },
    {
     "data": {
      "application/vnd.jupyter.widget-view+json": {
       "model_id": "6c2083bd562f4558a14bf2bd613bae6c",
       "version_major": 2,
       "version_minor": 0
      },
      "text/plain": [
       "HBox(children=(HTML(value=''), FloatProgress(value=0.0, max=277.0), HTML(value='')))"
      ]
     },
     "metadata": {},
     "output_type": "display_data"
    },
    {
     "name": "stdout",
     "output_type": "stream",
     "text": [
      "\n"
     ]
    },
    {
     "data": {
      "application/vnd.jupyter.widget-view+json": {
       "model_id": "ed3c54d1c2bd4b2bb7cf4f0efb1aa280",
       "version_major": 2,
       "version_minor": 0
      },
      "text/plain": [
       "HBox(children=(HTML(value=''), FloatProgress(value=0.0, max=261.0), HTML(value='')))"
      ]
     },
     "metadata": {},
     "output_type": "display_data"
    },
    {
     "name": "stdout",
     "output_type": "stream",
     "text": [
      "\n"
     ]
    },
    {
     "data": {
      "application/vnd.jupyter.widget-view+json": {
       "model_id": "db815e57bcd84cd2bd522c42ce6a41e3",
       "version_major": 2,
       "version_minor": 0
      },
      "text/plain": [
       "HBox(children=(HTML(value=''), FloatProgress(value=0.0, max=340.0), HTML(value='')))"
      ]
     },
     "metadata": {},
     "output_type": "display_data"
    },
    {
     "name": "stdout",
     "output_type": "stream",
     "text": [
      "\n"
     ]
    },
    {
     "data": {
      "application/vnd.jupyter.widget-view+json": {
       "model_id": "cc4834d17a424ab5a348cbf4a898928c",
       "version_major": 2,
       "version_minor": 0
      },
      "text/plain": [
       "HBox(children=(HTML(value=''), FloatProgress(value=0.0, max=327.0), HTML(value='')))"
      ]
     },
     "metadata": {},
     "output_type": "display_data"
    },
    {
     "name": "stdout",
     "output_type": "stream",
     "text": [
      "\n"
     ]
    },
    {
     "data": {
      "application/vnd.jupyter.widget-view+json": {
       "model_id": "92f4badd4c6e45389673b117d8a8d75f",
       "version_major": 2,
       "version_minor": 0
      },
      "text/plain": [
       "HBox(children=(HTML(value=''), FloatProgress(value=0.0, max=336.0), HTML(value='')))"
      ]
     },
     "metadata": {},
     "output_type": "display_data"
    },
    {
     "name": "stdout",
     "output_type": "stream",
     "text": [
      "\n"
     ]
    },
    {
     "data": {
      "application/vnd.jupyter.widget-view+json": {
       "model_id": "10d2cacf90da4a0793f02cf64111a2d9",
       "version_major": 2,
       "version_minor": 0
      },
      "text/plain": [
       "HBox(children=(HTML(value=''), FloatProgress(value=0.0, max=322.0), HTML(value='')))"
      ]
     },
     "metadata": {},
     "output_type": "display_data"
    },
    {
     "name": "stdout",
     "output_type": "stream",
     "text": [
      "\n"
     ]
    },
    {
     "data": {
      "application/vnd.jupyter.widget-view+json": {
       "model_id": "2342ace0c05b4872a05044a097658f27",
       "version_major": 2,
       "version_minor": 0
      },
      "text/plain": [
       "HBox(children=(HTML(value=''), FloatProgress(value=0.0, max=333.0), HTML(value='')))"
      ]
     },
     "metadata": {},
     "output_type": "display_data"
    },
    {
     "name": "stdout",
     "output_type": "stream",
     "text": [
      "\n"
     ]
    },
    {
     "data": {
      "application/vnd.jupyter.widget-view+json": {
       "model_id": "de6d79bc58e24334a1b7e38616369b73",
       "version_major": 2,
       "version_minor": 0
      },
      "text/plain": [
       "HBox(children=(HTML(value=''), FloatProgress(value=0.0, max=358.0), HTML(value='')))"
      ]
     },
     "metadata": {},
     "output_type": "display_data"
    },
    {
     "name": "stdout",
     "output_type": "stream",
     "text": [
      "\n"
     ]
    },
    {
     "data": {
      "application/vnd.jupyter.widget-view+json": {
       "model_id": "eb82cf0848b7497584306a780e42bae4",
       "version_major": 2,
       "version_minor": 0
      },
      "text/plain": [
       "HBox(children=(HTML(value=''), FloatProgress(value=0.0, max=335.0), HTML(value='')))"
      ]
     },
     "metadata": {},
     "output_type": "display_data"
    },
    {
     "name": "stdout",
     "output_type": "stream",
     "text": [
      "\n"
     ]
    },
    {
     "data": {
      "application/vnd.jupyter.widget-view+json": {
       "model_id": "47a25ff9f40d4762976fda13bdd7411d",
       "version_major": 2,
       "version_minor": 0
      },
      "text/plain": [
       "HBox(children=(HTML(value=''), FloatProgress(value=0.0, max=306.0), HTML(value='')))"
      ]
     },
     "metadata": {},
     "output_type": "display_data"
    },
    {
     "name": "stdout",
     "output_type": "stream",
     "text": [
      "\n"
     ]
    },
    {
     "data": {
      "application/vnd.jupyter.widget-view+json": {
       "model_id": "09cb99bd14b8425e84357b0ea74b0586",
       "version_major": 2,
       "version_minor": 0
      },
      "text/plain": [
       "HBox(children=(HTML(value=''), FloatProgress(value=0.0, max=296.0), HTML(value='')))"
      ]
     },
     "metadata": {},
     "output_type": "display_data"
    },
    {
     "name": "stdout",
     "output_type": "stream",
     "text": [
      "\n"
     ]
    },
    {
     "data": {
      "application/vnd.jupyter.widget-view+json": {
       "model_id": "85061c9973ec4bebb004768aadcc1840",
       "version_major": 2,
       "version_minor": 0
      },
      "text/plain": [
       "HBox(children=(HTML(value=''), FloatProgress(value=0.0, max=311.0), HTML(value='')))"
      ]
     },
     "metadata": {},
     "output_type": "display_data"
    },
    {
     "name": "stdout",
     "output_type": "stream",
     "text": [
      "\n"
     ]
    },
    {
     "data": {
      "application/vnd.jupyter.widget-view+json": {
       "model_id": "9e5c2f6490f2468ba869193755c8c4bd",
       "version_major": 2,
       "version_minor": 0
      },
      "text/plain": [
       "HBox(children=(HTML(value=''), FloatProgress(value=0.0, max=334.0), HTML(value='')))"
      ]
     },
     "metadata": {},
     "output_type": "display_data"
    },
    {
     "name": "stdout",
     "output_type": "stream",
     "text": [
      "\n"
     ]
    },
    {
     "data": {
      "application/vnd.jupyter.widget-view+json": {
       "model_id": "edc06631d24b4c33babcc17268a82858",
       "version_major": 2,
       "version_minor": 0
      },
      "text/plain": [
       "HBox(children=(HTML(value=''), FloatProgress(value=0.0, max=301.0), HTML(value='')))"
      ]
     },
     "metadata": {},
     "output_type": "display_data"
    },
    {
     "name": "stdout",
     "output_type": "stream",
     "text": [
      "\n"
     ]
    },
    {
     "data": {
      "application/vnd.jupyter.widget-view+json": {
       "model_id": "807912869229458d9915d0eed994f6a3",
       "version_major": 2,
       "version_minor": 0
      },
      "text/plain": [
       "HBox(children=(HTML(value=''), FloatProgress(value=0.0, max=364.0), HTML(value='')))"
      ]
     },
     "metadata": {},
     "output_type": "display_data"
    },
    {
     "name": "stdout",
     "output_type": "stream",
     "text": [
      "\n"
     ]
    },
    {
     "data": {
      "application/vnd.jupyter.widget-view+json": {
       "model_id": "2d9b2e3c628147b6a9eabe9ed2da6a7a",
       "version_major": 2,
       "version_minor": 0
      },
      "text/plain": [
       "HBox(children=(HTML(value=''), FloatProgress(value=0.0, max=328.0), HTML(value='')))"
      ]
     },
     "metadata": {},
     "output_type": "display_data"
    },
    {
     "name": "stdout",
     "output_type": "stream",
     "text": [
      "\n"
     ]
    },
    {
     "data": {
      "application/vnd.jupyter.widget-view+json": {
       "model_id": "7f3ad196643c4a42a7065a6d97c351b9",
       "version_major": 2,
       "version_minor": 0
      },
      "text/plain": [
       "HBox(children=(HTML(value=''), FloatProgress(value=0.0, max=307.0), HTML(value='')))"
      ]
     },
     "metadata": {},
     "output_type": "display_data"
    },
    {
     "name": "stdout",
     "output_type": "stream",
     "text": [
      "\n"
     ]
    },
    {
     "data": {
      "application/vnd.jupyter.widget-view+json": {
       "model_id": "fc94f37fcfa54e5b9949e3ee40b63f74",
       "version_major": 2,
       "version_minor": 0
      },
      "text/plain": [
       "HBox(children=(HTML(value=''), FloatProgress(value=0.0, max=396.0), HTML(value='')))"
      ]
     },
     "metadata": {},
     "output_type": "display_data"
    },
    {
     "name": "stdout",
     "output_type": "stream",
     "text": [
      "\n"
     ]
    },
    {
     "data": {
      "application/vnd.jupyter.widget-view+json": {
       "model_id": "729af861967c45a3ad774ec2ed207e27",
       "version_major": 2,
       "version_minor": 0
      },
      "text/plain": [
       "HBox(children=(HTML(value=''), FloatProgress(value=0.0, max=317.0), HTML(value='')))"
      ]
     },
     "metadata": {},
     "output_type": "display_data"
    },
    {
     "name": "stdout",
     "output_type": "stream",
     "text": [
      "\n"
     ]
    },
    {
     "data": {
      "application/vnd.jupyter.widget-view+json": {
       "model_id": "39af0b4eb0fe4279a3d94e36c7696ecf",
       "version_major": 2,
       "version_minor": 0
      },
      "text/plain": [
       "HBox(children=(HTML(value=''), FloatProgress(value=0.0, max=313.0), HTML(value='')))"
      ]
     },
     "metadata": {},
     "output_type": "display_data"
    },
    {
     "name": "stdout",
     "output_type": "stream",
     "text": [
      "\n"
     ]
    },
    {
     "data": {
      "application/vnd.jupyter.widget-view+json": {
       "model_id": "54fc22199e1542818d9a8739113e96e8",
       "version_major": 2,
       "version_minor": 0
      },
      "text/plain": [
       "HBox(children=(HTML(value=''), FloatProgress(value=0.0, max=315.0), HTML(value='')))"
      ]
     },
     "metadata": {},
     "output_type": "display_data"
    },
    {
     "name": "stdout",
     "output_type": "stream",
     "text": [
      "\n"
     ]
    },
    {
     "data": {
      "application/vnd.jupyter.widget-view+json": {
       "model_id": "6311d98e0db944f7b481cc203e5e2b9d",
       "version_major": 2,
       "version_minor": 0
      },
      "text/plain": [
       "HBox(children=(HTML(value=''), FloatProgress(value=0.0, max=327.0), HTML(value='')))"
      ]
     },
     "metadata": {},
     "output_type": "display_data"
    },
    {
     "name": "stdout",
     "output_type": "stream",
     "text": [
      "\n"
     ]
    },
    {
     "data": {
      "application/vnd.jupyter.widget-view+json": {
       "model_id": "8fa0384dfd974231ae963b45be1a92f3",
       "version_major": 2,
       "version_minor": 0
      },
      "text/plain": [
       "HBox(children=(HTML(value=''), FloatProgress(value=0.0, max=311.0), HTML(value='')))"
      ]
     },
     "metadata": {},
     "output_type": "display_data"
    },
    {
     "name": "stdout",
     "output_type": "stream",
     "text": [
      "\n"
     ]
    },
    {
     "data": {
      "application/vnd.jupyter.widget-view+json": {
       "model_id": "4678fde00e2c4c4bac2a561cf470b3a7",
       "version_major": 2,
       "version_minor": 0
      },
      "text/plain": [
       "HBox(children=(HTML(value=''), FloatProgress(value=0.0, max=296.0), HTML(value='')))"
      ]
     },
     "metadata": {},
     "output_type": "display_data"
    },
    {
     "name": "stdout",
     "output_type": "stream",
     "text": [
      "\n"
     ]
    },
    {
     "data": {
      "application/vnd.jupyter.widget-view+json": {
       "model_id": "230ee07fbbd7438bb26bb1de47a3b083",
       "version_major": 2,
       "version_minor": 0
      },
      "text/plain": [
       "HBox(children=(HTML(value=''), FloatProgress(value=0.0, max=321.0), HTML(value='')))"
      ]
     },
     "metadata": {},
     "output_type": "display_data"
    },
    {
     "name": "stdout",
     "output_type": "stream",
     "text": [
      "\n"
     ]
    },
    {
     "data": {
      "application/vnd.jupyter.widget-view+json": {
       "model_id": "609ebba2ecaa48849a97fe85350e1fae",
       "version_major": 2,
       "version_minor": 0
      },
      "text/plain": [
       "HBox(children=(HTML(value=''), FloatProgress(value=0.0, max=337.0), HTML(value='')))"
      ]
     },
     "metadata": {},
     "output_type": "display_data"
    },
    {
     "name": "stdout",
     "output_type": "stream",
     "text": [
      "\n"
     ]
    },
    {
     "data": {
      "application/vnd.jupyter.widget-view+json": {
       "model_id": "2cfcdc64f15e47d1ba7ee0732ebb2355",
       "version_major": 2,
       "version_minor": 0
      },
      "text/plain": [
       "HBox(children=(HTML(value=''), FloatProgress(value=0.0, max=334.0), HTML(value='')))"
      ]
     },
     "metadata": {},
     "output_type": "display_data"
    },
    {
     "name": "stdout",
     "output_type": "stream",
     "text": [
      "\n"
     ]
    },
    {
     "data": {
      "application/vnd.jupyter.widget-view+json": {
       "model_id": "f2cb140e233047058904bdf0eab6ab60",
       "version_major": 2,
       "version_minor": 0
      },
      "text/plain": [
       "HBox(children=(HTML(value=''), FloatProgress(value=0.0, max=336.0), HTML(value='')))"
      ]
     },
     "metadata": {},
     "output_type": "display_data"
    },
    {
     "name": "stdout",
     "output_type": "stream",
     "text": [
      "\n"
     ]
    },
    {
     "data": {
      "application/vnd.jupyter.widget-view+json": {
       "model_id": "d4c7cb64fda34882b8863ee6e8cefc4a",
       "version_major": 2,
       "version_minor": 0
      },
      "text/plain": [
       "HBox(children=(HTML(value=''), FloatProgress(value=0.0, max=335.0), HTML(value='')))"
      ]
     },
     "metadata": {},
     "output_type": "display_data"
    },
    {
     "name": "stdout",
     "output_type": "stream",
     "text": [
      "\n"
     ]
    },
    {
     "data": {
      "application/vnd.jupyter.widget-view+json": {
       "model_id": "bf4c1f8695d941d3ba365761fff837c4",
       "version_major": 2,
       "version_minor": 0
      },
      "text/plain": [
       "HBox(children=(HTML(value=''), FloatProgress(value=0.0, max=389.0), HTML(value='')))"
      ]
     },
     "metadata": {},
     "output_type": "display_data"
    },
    {
     "name": "stdout",
     "output_type": "stream",
     "text": [
      "\n"
     ]
    },
    {
     "data": {
      "application/vnd.jupyter.widget-view+json": {
       "model_id": "1ada5f80642d4876b4209ebef1281aab",
       "version_major": 2,
       "version_minor": 0
      },
      "text/plain": [
       "HBox(children=(HTML(value=''), FloatProgress(value=0.0, max=317.0), HTML(value='')))"
      ]
     },
     "metadata": {},
     "output_type": "display_data"
    },
    {
     "name": "stdout",
     "output_type": "stream",
     "text": [
      "\n"
     ]
    },
    {
     "data": {
      "application/vnd.jupyter.widget-view+json": {
       "model_id": "eb35ca845b1c4b99a9bf5b112f5d6c2f",
       "version_major": 2,
       "version_minor": 0
      },
      "text/plain": [
       "HBox(children=(HTML(value=''), FloatProgress(value=0.0, max=317.0), HTML(value='')))"
      ]
     },
     "metadata": {},
     "output_type": "display_data"
    },
    {
     "name": "stdout",
     "output_type": "stream",
     "text": [
      "\n"
     ]
    },
    {
     "data": {
      "application/vnd.jupyter.widget-view+json": {
       "model_id": "ece886d02e8142f787d9844dd67862a3",
       "version_major": 2,
       "version_minor": 0
      },
      "text/plain": [
       "HBox(children=(HTML(value=''), FloatProgress(value=0.0, max=285.0), HTML(value='')))"
      ]
     },
     "metadata": {},
     "output_type": "display_data"
    },
    {
     "name": "stdout",
     "output_type": "stream",
     "text": [
      "\n"
     ]
    },
    {
     "data": {
      "application/vnd.jupyter.widget-view+json": {
       "model_id": "918a160519cc4d54aad6bbaf00372ede",
       "version_major": 2,
       "version_minor": 0
      },
      "text/plain": [
       "HBox(children=(HTML(value=''), FloatProgress(value=0.0, max=318.0), HTML(value='')))"
      ]
     },
     "metadata": {},
     "output_type": "display_data"
    },
    {
     "name": "stdout",
     "output_type": "stream",
     "text": [
      "\n"
     ]
    },
    {
     "data": {
      "application/vnd.jupyter.widget-view+json": {
       "model_id": "6a7e1c44a5cd4636bd428a97f7257f12",
       "version_major": 2,
       "version_minor": 0
      },
      "text/plain": [
       "HBox(children=(HTML(value=''), FloatProgress(value=0.0, max=338.0), HTML(value='')))"
      ]
     },
     "metadata": {},
     "output_type": "display_data"
    },
    {
     "name": "stdout",
     "output_type": "stream",
     "text": [
      "\n"
     ]
    },
    {
     "data": {
      "application/vnd.jupyter.widget-view+json": {
       "model_id": "11085e9ff8254d41b4fa6bf8c291c31f",
       "version_major": 2,
       "version_minor": 0
      },
      "text/plain": [
       "HBox(children=(HTML(value=''), FloatProgress(value=0.0, max=318.0), HTML(value='')))"
      ]
     },
     "metadata": {},
     "output_type": "display_data"
    },
    {
     "name": "stdout",
     "output_type": "stream",
     "text": [
      "\n"
     ]
    },
    {
     "data": {
      "application/vnd.jupyter.widget-view+json": {
       "model_id": "e7a2b08eb2d54703bfafaa6ed394b394",
       "version_major": 2,
       "version_minor": 0
      },
      "text/plain": [
       "HBox(children=(HTML(value=''), FloatProgress(value=0.0, max=321.0), HTML(value='')))"
      ]
     },
     "metadata": {},
     "output_type": "display_data"
    },
    {
     "name": "stdout",
     "output_type": "stream",
     "text": [
      "\n"
     ]
    },
    {
     "data": {
      "application/vnd.jupyter.widget-view+json": {
       "model_id": "98427e28d9154287bae4be2b51650c8b",
       "version_major": 2,
       "version_minor": 0
      },
      "text/plain": [
       "HBox(children=(HTML(value=''), FloatProgress(value=0.0, max=273.0), HTML(value='')))"
      ]
     },
     "metadata": {},
     "output_type": "display_data"
    },
    {
     "name": "stdout",
     "output_type": "stream",
     "text": [
      "\n"
     ]
    },
    {
     "data": {
      "application/vnd.jupyter.widget-view+json": {
       "model_id": "18384850a80e4e88925ca7fa36471bcf",
       "version_major": 2,
       "version_minor": 0
      },
      "text/plain": [
       "HBox(children=(HTML(value=''), FloatProgress(value=0.0, max=375.0), HTML(value='')))"
      ]
     },
     "metadata": {},
     "output_type": "display_data"
    },
    {
     "name": "stdout",
     "output_type": "stream",
     "text": [
      "\n"
     ]
    },
    {
     "data": {
      "application/vnd.jupyter.widget-view+json": {
       "model_id": "481296429e06469b86ba111d400cfc73",
       "version_major": 2,
       "version_minor": 0
      },
      "text/plain": [
       "HBox(children=(HTML(value=''), FloatProgress(value=0.0, max=303.0), HTML(value='')))"
      ]
     },
     "metadata": {},
     "output_type": "display_data"
    },
    {
     "name": "stdout",
     "output_type": "stream",
     "text": [
      "\n"
     ]
    },
    {
     "data": {
      "application/vnd.jupyter.widget-view+json": {
       "model_id": "607f7d8023544aaa8ec8694fd0917f61",
       "version_major": 2,
       "version_minor": 0
      },
      "text/plain": [
       "HBox(children=(HTML(value=''), FloatProgress(value=0.0, max=291.0), HTML(value='')))"
      ]
     },
     "metadata": {},
     "output_type": "display_data"
    },
    {
     "name": "stdout",
     "output_type": "stream",
     "text": [
      "\n"
     ]
    },
    {
     "data": {
      "application/vnd.jupyter.widget-view+json": {
       "model_id": "1291b5bd3aeb4000bb7b038e827d8b9f",
       "version_major": 2,
       "version_minor": 0
      },
      "text/plain": [
       "HBox(children=(HTML(value=''), FloatProgress(value=0.0, max=333.0), HTML(value='')))"
      ]
     },
     "metadata": {},
     "output_type": "display_data"
    },
    {
     "name": "stdout",
     "output_type": "stream",
     "text": [
      "\n"
     ]
    },
    {
     "data": {
      "application/vnd.jupyter.widget-view+json": {
       "model_id": "ae07351bffbe4524b796439947abba1d",
       "version_major": 2,
       "version_minor": 0
      },
      "text/plain": [
       "HBox(children=(HTML(value=''), FloatProgress(value=0.0, max=320.0), HTML(value='')))"
      ]
     },
     "metadata": {},
     "output_type": "display_data"
    },
    {
     "name": "stdout",
     "output_type": "stream",
     "text": [
      "\n"
     ]
    },
    {
     "data": {
      "application/vnd.jupyter.widget-view+json": {
       "model_id": "24ab7f7ab96c4aa4aa6b941cab8e31f0",
       "version_major": 2,
       "version_minor": 0
      },
      "text/plain": [
       "HBox(children=(HTML(value=''), FloatProgress(value=0.0, max=316.0), HTML(value='')))"
      ]
     },
     "metadata": {},
     "output_type": "display_data"
    },
    {
     "name": "stdout",
     "output_type": "stream",
     "text": [
      "\n"
     ]
    },
    {
     "data": {
      "application/vnd.jupyter.widget-view+json": {
       "model_id": "7cf2ec32ec0a4d19979e3f349645a526",
       "version_major": 2,
       "version_minor": 0
      },
      "text/plain": [
       "HBox(children=(HTML(value=''), FloatProgress(value=0.0, max=295.0), HTML(value='')))"
      ]
     },
     "metadata": {},
     "output_type": "display_data"
    },
    {
     "name": "stdout",
     "output_type": "stream",
     "text": [
      "\n"
     ]
    },
    {
     "data": {
      "application/vnd.jupyter.widget-view+json": {
       "model_id": "f4f759447d274f0c989b318a4e838f63",
       "version_major": 2,
       "version_minor": 0
      },
      "text/plain": [
       "HBox(children=(HTML(value=''), FloatProgress(value=0.0, max=328.0), HTML(value='')))"
      ]
     },
     "metadata": {},
     "output_type": "display_data"
    },
    {
     "name": "stdout",
     "output_type": "stream",
     "text": [
      "\n"
     ]
    },
    {
     "data": {
      "application/vnd.jupyter.widget-view+json": {
       "model_id": "44a6d3d109604121983afe5705759f3e",
       "version_major": 2,
       "version_minor": 0
      },
      "text/plain": [
       "HBox(children=(HTML(value=''), FloatProgress(value=0.0, max=338.0), HTML(value='')))"
      ]
     },
     "metadata": {},
     "output_type": "display_data"
    },
    {
     "name": "stdout",
     "output_type": "stream",
     "text": [
      "\n"
     ]
    },
    {
     "data": {
      "application/vnd.jupyter.widget-view+json": {
       "model_id": "56977ece842a4aacbb15557c83e1c898",
       "version_major": 2,
       "version_minor": 0
      },
      "text/plain": [
       "HBox(children=(HTML(value=''), FloatProgress(value=0.0, max=307.0), HTML(value='')))"
      ]
     },
     "metadata": {},
     "output_type": "display_data"
    },
    {
     "name": "stdout",
     "output_type": "stream",
     "text": [
      "\n"
     ]
    },
    {
     "data": {
      "application/vnd.jupyter.widget-view+json": {
       "model_id": "d4438dc2b8b74fe393fa29676499f809",
       "version_major": 2,
       "version_minor": 0
      },
      "text/plain": [
       "HBox(children=(HTML(value=''), FloatProgress(value=0.0, max=331.0), HTML(value='')))"
      ]
     },
     "metadata": {},
     "output_type": "display_data"
    },
    {
     "name": "stdout",
     "output_type": "stream",
     "text": [
      "\n"
     ]
    },
    {
     "data": {
      "application/vnd.jupyter.widget-view+json": {
       "model_id": "6c711cd2e52342dcb138db7b4b7532f0",
       "version_major": 2,
       "version_minor": 0
      },
      "text/plain": [
       "HBox(children=(HTML(value=''), FloatProgress(value=0.0, max=300.0), HTML(value='')))"
      ]
     },
     "metadata": {},
     "output_type": "display_data"
    },
    {
     "name": "stdout",
     "output_type": "stream",
     "text": [
      "\n"
     ]
    },
    {
     "data": {
      "application/vnd.jupyter.widget-view+json": {
       "model_id": "15871ea6f8d74813b94b92bb92aeed3c",
       "version_major": 2,
       "version_minor": 0
      },
      "text/plain": [
       "HBox(children=(HTML(value=''), FloatProgress(value=0.0, max=291.0), HTML(value='')))"
      ]
     },
     "metadata": {},
     "output_type": "display_data"
    },
    {
     "name": "stdout",
     "output_type": "stream",
     "text": [
      "\n"
     ]
    },
    {
     "data": {
      "application/vnd.jupyter.widget-view+json": {
       "model_id": "e0693b2503f444d1a938341e22e141c2",
       "version_major": 2,
       "version_minor": 0
      },
      "text/plain": [
       "HBox(children=(HTML(value=''), FloatProgress(value=0.0, max=306.0), HTML(value='')))"
      ]
     },
     "metadata": {},
     "output_type": "display_data"
    },
    {
     "name": "stdout",
     "output_type": "stream",
     "text": [
      "\n"
     ]
    },
    {
     "data": {
      "application/vnd.jupyter.widget-view+json": {
       "model_id": "f876a9cfb94949d4ad1aa71e57c29aa7",
       "version_major": 2,
       "version_minor": 0
      },
      "text/plain": [
       "HBox(children=(HTML(value=''), FloatProgress(value=0.0, max=298.0), HTML(value='')))"
      ]
     },
     "metadata": {},
     "output_type": "display_data"
    },
    {
     "name": "stdout",
     "output_type": "stream",
     "text": [
      "\n"
     ]
    },
    {
     "data": {
      "application/vnd.jupyter.widget-view+json": {
       "model_id": "104a9ccbc1174212a6eed9c03f6dd662",
       "version_major": 2,
       "version_minor": 0
      },
      "text/plain": [
       "HBox(children=(HTML(value=''), FloatProgress(value=0.0, max=293.0), HTML(value='')))"
      ]
     },
     "metadata": {},
     "output_type": "display_data"
    },
    {
     "name": "stdout",
     "output_type": "stream",
     "text": [
      "\n"
     ]
    },
    {
     "data": {
      "application/vnd.jupyter.widget-view+json": {
       "model_id": "e642dcba56e543bb889113c81af7fb09",
       "version_major": 2,
       "version_minor": 0
      },
      "text/plain": [
       "HBox(children=(HTML(value=''), FloatProgress(value=0.0, max=324.0), HTML(value='')))"
      ]
     },
     "metadata": {},
     "output_type": "display_data"
    },
    {
     "name": "stdout",
     "output_type": "stream",
     "text": [
      "\n"
     ]
    },
    {
     "data": {
      "application/vnd.jupyter.widget-view+json": {
       "model_id": "f7354ef8f7564888ae358f024a4cfc28",
       "version_major": 2,
       "version_minor": 0
      },
      "text/plain": [
       "HBox(children=(HTML(value=''), FloatProgress(value=0.0, max=374.0), HTML(value='')))"
      ]
     },
     "metadata": {},
     "output_type": "display_data"
    },
    {
     "name": "stdout",
     "output_type": "stream",
     "text": [
      "\n"
     ]
    },
    {
     "data": {
      "application/vnd.jupyter.widget-view+json": {
       "model_id": "3998970c2d064a31a12cec541712ee3b",
       "version_major": 2,
       "version_minor": 0
      },
      "text/plain": [
       "HBox(children=(HTML(value=''), FloatProgress(value=0.0, max=306.0), HTML(value='')))"
      ]
     },
     "metadata": {},
     "output_type": "display_data"
    },
    {
     "name": "stdout",
     "output_type": "stream",
     "text": [
      "\n"
     ]
    },
    {
     "data": {
      "application/vnd.jupyter.widget-view+json": {
       "model_id": "9b024406fbeb4dcf8c861d398b41bf95",
       "version_major": 2,
       "version_minor": 0
      },
      "text/plain": [
       "HBox(children=(HTML(value=''), FloatProgress(value=0.0, max=392.0), HTML(value='')))"
      ]
     },
     "metadata": {},
     "output_type": "display_data"
    },
    {
     "name": "stdout",
     "output_type": "stream",
     "text": [
      "\n"
     ]
    },
    {
     "data": {
      "application/vnd.jupyter.widget-view+json": {
       "model_id": "07705ab9fb5942b584a709edb044558c",
       "version_major": 2,
       "version_minor": 0
      },
      "text/plain": [
       "HBox(children=(HTML(value=''), FloatProgress(value=0.0, max=318.0), HTML(value='')))"
      ]
     },
     "metadata": {},
     "output_type": "display_data"
    },
    {
     "name": "stdout",
     "output_type": "stream",
     "text": [
      "\n"
     ]
    },
    {
     "data": {
      "application/vnd.jupyter.widget-view+json": {
       "model_id": "4632f15997bf4733b60e2ef6e5f3ce63",
       "version_major": 2,
       "version_minor": 0
      },
      "text/plain": [
       "HBox(children=(HTML(value=''), FloatProgress(value=0.0, max=339.0), HTML(value='')))"
      ]
     },
     "metadata": {},
     "output_type": "display_data"
    },
    {
     "name": "stdout",
     "output_type": "stream",
     "text": [
      "\n"
     ]
    },
    {
     "data": {
      "application/vnd.jupyter.widget-view+json": {
       "model_id": "16c7d85fe7844b82885ac39197d1da7c",
       "version_major": 2,
       "version_minor": 0
      },
      "text/plain": [
       "HBox(children=(HTML(value=''), FloatProgress(value=0.0, max=298.0), HTML(value='')))"
      ]
     },
     "metadata": {},
     "output_type": "display_data"
    },
    {
     "name": "stdout",
     "output_type": "stream",
     "text": [
      "\n"
     ]
    },
    {
     "data": {
      "application/vnd.jupyter.widget-view+json": {
       "model_id": "82d1926d1c474cbe9520eafc1da2408e",
       "version_major": 2,
       "version_minor": 0
      },
      "text/plain": [
       "HBox(children=(HTML(value=''), FloatProgress(value=0.0, max=282.0), HTML(value='')))"
      ]
     },
     "metadata": {},
     "output_type": "display_data"
    },
    {
     "name": "stdout",
     "output_type": "stream",
     "text": [
      "\n"
     ]
    },
    {
     "data": {
      "application/vnd.jupyter.widget-view+json": {
       "model_id": "d60b13fb1bf14a118f708671f8547c02",
       "version_major": 2,
       "version_minor": 0
      },
      "text/plain": [
       "HBox(children=(HTML(value=''), FloatProgress(value=0.0, max=313.0), HTML(value='')))"
      ]
     },
     "metadata": {},
     "output_type": "display_data"
    },
    {
     "name": "stdout",
     "output_type": "stream",
     "text": [
      "\n"
     ]
    },
    {
     "data": {
      "application/vnd.jupyter.widget-view+json": {
       "model_id": "a3b65008d1684e4589d3305ee2d3e062",
       "version_major": 2,
       "version_minor": 0
      },
      "text/plain": [
       "HBox(children=(HTML(value=''), FloatProgress(value=0.0, max=303.0), HTML(value='')))"
      ]
     },
     "metadata": {},
     "output_type": "display_data"
    },
    {
     "name": "stdout",
     "output_type": "stream",
     "text": [
      "\n"
     ]
    },
    {
     "data": {
      "application/vnd.jupyter.widget-view+json": {
       "model_id": "5bf69b53a7254110b35acbdebcd5ddaf",
       "version_major": 2,
       "version_minor": 0
      },
      "text/plain": [
       "HBox(children=(HTML(value=''), FloatProgress(value=0.0, max=322.0), HTML(value='')))"
      ]
     },
     "metadata": {},
     "output_type": "display_data"
    },
    {
     "name": "stdout",
     "output_type": "stream",
     "text": [
      "\n"
     ]
    },
    {
     "data": {
      "application/vnd.jupyter.widget-view+json": {
       "model_id": "bcce9b9a26a9422498ceb90b582f1b77",
       "version_major": 2,
       "version_minor": 0
      },
      "text/plain": [
       "HBox(children=(HTML(value=''), FloatProgress(value=0.0, max=335.0), HTML(value='')))"
      ]
     },
     "metadata": {},
     "output_type": "display_data"
    },
    {
     "name": "stdout",
     "output_type": "stream",
     "text": [
      "\n"
     ]
    },
    {
     "data": {
      "application/vnd.jupyter.widget-view+json": {
       "model_id": "1bd6a383d2ab4c36bd679c38b29db599",
       "version_major": 2,
       "version_minor": 0
      },
      "text/plain": [
       "HBox(children=(HTML(value=''), FloatProgress(value=0.0, max=333.0), HTML(value='')))"
      ]
     },
     "metadata": {},
     "output_type": "display_data"
    },
    {
     "name": "stdout",
     "output_type": "stream",
     "text": [
      "\n"
     ]
    },
    {
     "data": {
      "application/vnd.jupyter.widget-view+json": {
       "model_id": "e79e82627a1247ef996f215316be0a26",
       "version_major": 2,
       "version_minor": 0
      },
      "text/plain": [
       "HBox(children=(HTML(value=''), FloatProgress(value=0.0, max=339.0), HTML(value='')))"
      ]
     },
     "metadata": {},
     "output_type": "display_data"
    },
    {
     "name": "stdout",
     "output_type": "stream",
     "text": [
      "\n"
     ]
    },
    {
     "data": {
      "application/vnd.jupyter.widget-view+json": {
       "model_id": "43a490ff3df249f9a0fbc3bb6f3b91c7",
       "version_major": 2,
       "version_minor": 0
      },
      "text/plain": [
       "HBox(children=(HTML(value=''), FloatProgress(value=0.0, max=310.0), HTML(value='')))"
      ]
     },
     "metadata": {},
     "output_type": "display_data"
    },
    {
     "name": "stdout",
     "output_type": "stream",
     "text": [
      "\n"
     ]
    },
    {
     "data": {
      "application/vnd.jupyter.widget-view+json": {
       "model_id": "66f81bd6fbb746dc96711705e2c2ab6e",
       "version_major": 2,
       "version_minor": 0
      },
      "text/plain": [
       "HBox(children=(HTML(value=''), FloatProgress(value=0.0, max=292.0), HTML(value='')))"
      ]
     },
     "metadata": {},
     "output_type": "display_data"
    },
    {
     "name": "stdout",
     "output_type": "stream",
     "text": [
      "\n"
     ]
    },
    {
     "data": {
      "application/vnd.jupyter.widget-view+json": {
       "model_id": "2a866684a3674c9ca8599922ffaf46bb",
       "version_major": 2,
       "version_minor": 0
      },
      "text/plain": [
       "HBox(children=(HTML(value=''), FloatProgress(value=0.0, max=309.0), HTML(value='')))"
      ]
     },
     "metadata": {},
     "output_type": "display_data"
    },
    {
     "name": "stdout",
     "output_type": "stream",
     "text": [
      "\n"
     ]
    },
    {
     "data": {
      "application/vnd.jupyter.widget-view+json": {
       "model_id": "7f885927e8474e45b277ee9de21d365d",
       "version_major": 2,
       "version_minor": 0
      },
      "text/plain": [
       "HBox(children=(HTML(value=''), FloatProgress(value=0.0, max=313.0), HTML(value='')))"
      ]
     },
     "metadata": {},
     "output_type": "display_data"
    },
    {
     "name": "stdout",
     "output_type": "stream",
     "text": [
      "\n"
     ]
    },
    {
     "data": {
      "application/vnd.jupyter.widget-view+json": {
       "model_id": "305ae7608dd84dad89520d4b43371ceb",
       "version_major": 2,
       "version_minor": 0
      },
      "text/plain": [
       "HBox(children=(HTML(value=''), FloatProgress(value=0.0, max=340.0), HTML(value='')))"
      ]
     },
     "metadata": {},
     "output_type": "display_data"
    },
    {
     "name": "stdout",
     "output_type": "stream",
     "text": [
      "\n"
     ]
    },
    {
     "data": {
      "application/vnd.jupyter.widget-view+json": {
       "model_id": "d493b55f71b647c19491ec0f7ca7d626",
       "version_major": 2,
       "version_minor": 0
      },
      "text/plain": [
       "HBox(children=(HTML(value=''), FloatProgress(value=0.0, max=293.0), HTML(value='')))"
      ]
     },
     "metadata": {},
     "output_type": "display_data"
    },
    {
     "name": "stdout",
     "output_type": "stream",
     "text": [
      "\n"
     ]
    },
    {
     "data": {
      "application/vnd.jupyter.widget-view+json": {
       "model_id": "d7d1d75e49dd4539a7297491026d425a",
       "version_major": 2,
       "version_minor": 0
      },
      "text/plain": [
       "HBox(children=(HTML(value=''), FloatProgress(value=0.0, max=253.0), HTML(value='')))"
      ]
     },
     "metadata": {},
     "output_type": "display_data"
    },
    {
     "name": "stdout",
     "output_type": "stream",
     "text": [
      "\n"
     ]
    },
    {
     "data": {
      "application/vnd.jupyter.widget-view+json": {
       "model_id": "8714a52c5aa144a99e9cf8bd4947e58b",
       "version_major": 2,
       "version_minor": 0
      },
      "text/plain": [
       "HBox(children=(HTML(value=''), FloatProgress(value=0.0, max=272.0), HTML(value='')))"
      ]
     },
     "metadata": {},
     "output_type": "display_data"
    },
    {
     "name": "stdout",
     "output_type": "stream",
     "text": [
      "\n"
     ]
    },
    {
     "data": {
      "application/vnd.jupyter.widget-view+json": {
       "model_id": "17dbb82900924d8e8861f1d11679cd90",
       "version_major": 2,
       "version_minor": 0
      },
      "text/plain": [
       "HBox(children=(HTML(value=''), FloatProgress(value=0.0, max=321.0), HTML(value='')))"
      ]
     },
     "metadata": {},
     "output_type": "display_data"
    },
    {
     "name": "stdout",
     "output_type": "stream",
     "text": [
      "\n"
     ]
    },
    {
     "data": {
      "application/vnd.jupyter.widget-view+json": {
       "model_id": "ee15b171d2b7475d886c6835478fbcf9",
       "version_major": 2,
       "version_minor": 0
      },
      "text/plain": [
       "HBox(children=(HTML(value=''), FloatProgress(value=0.0, max=295.0), HTML(value='')))"
      ]
     },
     "metadata": {},
     "output_type": "display_data"
    },
    {
     "name": "stdout",
     "output_type": "stream",
     "text": [
      "\n"
     ]
    },
    {
     "data": {
      "application/vnd.jupyter.widget-view+json": {
       "model_id": "4b1377c47c444d9f80faa23f471de461",
       "version_major": 2,
       "version_minor": 0
      },
      "text/plain": [
       "HBox(children=(HTML(value=''), FloatProgress(value=0.0, max=314.0), HTML(value='')))"
      ]
     },
     "metadata": {},
     "output_type": "display_data"
    },
    {
     "name": "stdout",
     "output_type": "stream",
     "text": [
      "\n"
     ]
    },
    {
     "data": {
      "application/vnd.jupyter.widget-view+json": {
       "model_id": "3c94a6edf4674956bbfa4fe4b61431b8",
       "version_major": 2,
       "version_minor": 0
      },
      "text/plain": [
       "HBox(children=(HTML(value=''), FloatProgress(value=0.0, max=338.0), HTML(value='')))"
      ]
     },
     "metadata": {},
     "output_type": "display_data"
    },
    {
     "name": "stdout",
     "output_type": "stream",
     "text": [
      "\n"
     ]
    },
    {
     "data": {
      "application/vnd.jupyter.widget-view+json": {
       "model_id": "04f3955a29e147609951f0640168fb74",
       "version_major": 2,
       "version_minor": 0
      },
      "text/plain": [
       "HBox(children=(HTML(value=''), FloatProgress(value=0.0, max=334.0), HTML(value='')))"
      ]
     },
     "metadata": {},
     "output_type": "display_data"
    },
    {
     "name": "stdout",
     "output_type": "stream",
     "text": [
      "\n"
     ]
    },
    {
     "data": {
      "application/vnd.jupyter.widget-view+json": {
       "model_id": "5dfcb414e13d465dbb285ac08731403a",
       "version_major": 2,
       "version_minor": 0
      },
      "text/plain": [
       "HBox(children=(HTML(value=''), FloatProgress(value=0.0, max=302.0), HTML(value='')))"
      ]
     },
     "metadata": {},
     "output_type": "display_data"
    },
    {
     "name": "stdout",
     "output_type": "stream",
     "text": [
      "\n"
     ]
    },
    {
     "data": {
      "application/vnd.jupyter.widget-view+json": {
       "model_id": "c044069995c743d1a2932bfc7d9ba68e",
       "version_major": 2,
       "version_minor": 0
      },
      "text/plain": [
       "HBox(children=(HTML(value=''), FloatProgress(value=0.0, max=356.0), HTML(value='')))"
      ]
     },
     "metadata": {},
     "output_type": "display_data"
    },
    {
     "name": "stdout",
     "output_type": "stream",
     "text": [
      "\n"
     ]
    },
    {
     "data": {
      "application/vnd.jupyter.widget-view+json": {
       "model_id": "46fdd0f6029f492487ca01e51c83e624",
       "version_major": 2,
       "version_minor": 0
      },
      "text/plain": [
       "HBox(children=(HTML(value=''), FloatProgress(value=0.0, max=332.0), HTML(value='')))"
      ]
     },
     "metadata": {},
     "output_type": "display_data"
    },
    {
     "name": "stdout",
     "output_type": "stream",
     "text": [
      "\n"
     ]
    },
    {
     "data": {
      "application/vnd.jupyter.widget-view+json": {
       "model_id": "606d60d27493440b8dabcd16cfb57d4e",
       "version_major": 2,
       "version_minor": 0
      },
      "text/plain": [
       "HBox(children=(HTML(value=''), FloatProgress(value=0.0, max=323.0), HTML(value='')))"
      ]
     },
     "metadata": {},
     "output_type": "display_data"
    },
    {
     "name": "stdout",
     "output_type": "stream",
     "text": [
      "\n"
     ]
    },
    {
     "data": {
      "application/vnd.jupyter.widget-view+json": {
       "model_id": "a4556bcbea84458b80ab3576611c0521",
       "version_major": 2,
       "version_minor": 0
      },
      "text/plain": [
       "HBox(children=(HTML(value=''), FloatProgress(value=0.0, max=275.0), HTML(value='')))"
      ]
     },
     "metadata": {},
     "output_type": "display_data"
    },
    {
     "name": "stdout",
     "output_type": "stream",
     "text": [
      "\n"
     ]
    },
    {
     "data": {
      "application/vnd.jupyter.widget-view+json": {
       "model_id": "aa6236db2dd84e3ea918a1ab89330f71",
       "version_major": 2,
       "version_minor": 0
      },
      "text/plain": [
       "HBox(children=(HTML(value=''), FloatProgress(value=0.0, max=324.0), HTML(value='')))"
      ]
     },
     "metadata": {},
     "output_type": "display_data"
    },
    {
     "name": "stdout",
     "output_type": "stream",
     "text": [
      "\n"
     ]
    },
    {
     "data": {
      "application/vnd.jupyter.widget-view+json": {
       "model_id": "c360c7713ae647e78a879f5136cfd98b",
       "version_major": 2,
       "version_minor": 0
      },
      "text/plain": [
       "HBox(children=(HTML(value=''), FloatProgress(value=0.0, max=294.0), HTML(value='')))"
      ]
     },
     "metadata": {},
     "output_type": "display_data"
    },
    {
     "name": "stdout",
     "output_type": "stream",
     "text": [
      "\n"
     ]
    },
    {
     "data": {
      "application/vnd.jupyter.widget-view+json": {
       "model_id": "b2a743afa34740198de3b5ae52c8af1b",
       "version_major": 2,
       "version_minor": 0
      },
      "text/plain": [
       "HBox(children=(HTML(value=''), FloatProgress(value=0.0, max=292.0), HTML(value='')))"
      ]
     },
     "metadata": {},
     "output_type": "display_data"
    },
    {
     "name": "stdout",
     "output_type": "stream",
     "text": [
      "\n"
     ]
    },
    {
     "data": {
      "application/vnd.jupyter.widget-view+json": {
       "model_id": "7402400575924e9b8843d3f5a57c8188",
       "version_major": 2,
       "version_minor": 0
      },
      "text/plain": [
       "HBox(children=(HTML(value=''), FloatProgress(value=0.0, max=273.0), HTML(value='')))"
      ]
     },
     "metadata": {},
     "output_type": "display_data"
    },
    {
     "name": "stdout",
     "output_type": "stream",
     "text": [
      "\n"
     ]
    },
    {
     "data": {
      "application/vnd.jupyter.widget-view+json": {
       "model_id": "d0104fd482a24e6794e3313e7b7bd9f8",
       "version_major": 2,
       "version_minor": 0
      },
      "text/plain": [
       "HBox(children=(HTML(value=''), FloatProgress(value=0.0, max=309.0), HTML(value='')))"
      ]
     },
     "metadata": {},
     "output_type": "display_data"
    },
    {
     "name": "stdout",
     "output_type": "stream",
     "text": [
      "\n"
     ]
    },
    {
     "data": {
      "application/vnd.jupyter.widget-view+json": {
       "model_id": "4028607fbf744bd89495421d259bb626",
       "version_major": 2,
       "version_minor": 0
      },
      "text/plain": [
       "HBox(children=(HTML(value=''), FloatProgress(value=0.0, max=295.0), HTML(value='')))"
      ]
     },
     "metadata": {},
     "output_type": "display_data"
    },
    {
     "name": "stdout",
     "output_type": "stream",
     "text": [
      "\n"
     ]
    },
    {
     "data": {
      "application/vnd.jupyter.widget-view+json": {
       "model_id": "f7838ba161be41b2ac946df61aea680a",
       "version_major": 2,
       "version_minor": 0
      },
      "text/plain": [
       "HBox(children=(HTML(value=''), FloatProgress(value=0.0, max=300.0), HTML(value='')))"
      ]
     },
     "metadata": {},
     "output_type": "display_data"
    },
    {
     "name": "stdout",
     "output_type": "stream",
     "text": [
      "\n"
     ]
    },
    {
     "data": {
      "application/vnd.jupyter.widget-view+json": {
       "model_id": "d925339082c34afd9a1515cdf10f1821",
       "version_major": 2,
       "version_minor": 0
      },
      "text/plain": [
       "HBox(children=(HTML(value=''), FloatProgress(value=0.0, max=321.0), HTML(value='')))"
      ]
     },
     "metadata": {},
     "output_type": "display_data"
    },
    {
     "name": "stdout",
     "output_type": "stream",
     "text": [
      "\n"
     ]
    },
    {
     "data": {
      "application/vnd.jupyter.widget-view+json": {
       "model_id": "4bc0b9728af5435782f9c8eb87632dd0",
       "version_major": 2,
       "version_minor": 0
      },
      "text/plain": [
       "HBox(children=(HTML(value=''), FloatProgress(value=0.0, max=284.0), HTML(value='')))"
      ]
     },
     "metadata": {},
     "output_type": "display_data"
    },
    {
     "name": "stdout",
     "output_type": "stream",
     "text": [
      "\n"
     ]
    },
    {
     "data": {
      "application/vnd.jupyter.widget-view+json": {
       "model_id": "85e98685c3874a55857571339e4e0038",
       "version_major": 2,
       "version_minor": 0
      },
      "text/plain": [
       "HBox(children=(HTML(value=''), FloatProgress(value=0.0, max=311.0), HTML(value='')))"
      ]
     },
     "metadata": {},
     "output_type": "display_data"
    },
    {
     "name": "stdout",
     "output_type": "stream",
     "text": [
      "\n"
     ]
    },
    {
     "data": {
      "application/vnd.jupyter.widget-view+json": {
       "model_id": "57147814b51c45eba4bba2b840684865",
       "version_major": 2,
       "version_minor": 0
      },
      "text/plain": [
       "HBox(children=(HTML(value=''), FloatProgress(value=0.0, max=298.0), HTML(value='')))"
      ]
     },
     "metadata": {},
     "output_type": "display_data"
    },
    {
     "name": "stdout",
     "output_type": "stream",
     "text": [
      "\n"
     ]
    },
    {
     "data": {
      "application/vnd.jupyter.widget-view+json": {
       "model_id": "95d9feb394ae4576a8238e3672e5f61f",
       "version_major": 2,
       "version_minor": 0
      },
      "text/plain": [
       "HBox(children=(HTML(value=''), FloatProgress(value=0.0, max=328.0), HTML(value='')))"
      ]
     },
     "metadata": {},
     "output_type": "display_data"
    },
    {
     "name": "stdout",
     "output_type": "stream",
     "text": [
      "\n"
     ]
    },
    {
     "data": {
      "application/vnd.jupyter.widget-view+json": {
       "model_id": "0b1752c157334fe698988b267ccb006e",
       "version_major": 2,
       "version_minor": 0
      },
      "text/plain": [
       "HBox(children=(HTML(value=''), FloatProgress(value=0.0, max=352.0), HTML(value='')))"
      ]
     },
     "metadata": {},
     "output_type": "display_data"
    },
    {
     "name": "stdout",
     "output_type": "stream",
     "text": [
      "\n"
     ]
    },
    {
     "data": {
      "application/vnd.jupyter.widget-view+json": {
       "model_id": "b4e21f66289e41a1a1acd85b4537bc71",
       "version_major": 2,
       "version_minor": 0
      },
      "text/plain": [
       "HBox(children=(HTML(value=''), FloatProgress(value=0.0, max=341.0), HTML(value='')))"
      ]
     },
     "metadata": {},
     "output_type": "display_data"
    },
    {
     "name": "stdout",
     "output_type": "stream",
     "text": [
      "\n"
     ]
    },
    {
     "data": {
      "application/vnd.jupyter.widget-view+json": {
       "model_id": "c8d5d9af494f4f14803684ded84b8544",
       "version_major": 2,
       "version_minor": 0
      },
      "text/plain": [
       "HBox(children=(HTML(value=''), FloatProgress(value=0.0, max=396.0), HTML(value='')))"
      ]
     },
     "metadata": {},
     "output_type": "display_data"
    },
    {
     "name": "stdout",
     "output_type": "stream",
     "text": [
      "\n"
     ]
    },
    {
     "data": {
      "application/vnd.jupyter.widget-view+json": {
       "model_id": "ceb013dbddf642ff852aa90a142ecd83",
       "version_major": 2,
       "version_minor": 0
      },
      "text/plain": [
       "HBox(children=(HTML(value=''), FloatProgress(value=0.0, max=266.0), HTML(value='')))"
      ]
     },
     "metadata": {},
     "output_type": "display_data"
    },
    {
     "name": "stdout",
     "output_type": "stream",
     "text": [
      "\n"
     ]
    },
    {
     "data": {
      "application/vnd.jupyter.widget-view+json": {
       "model_id": "0238440eaf594ac3a652f8c1594eeb47",
       "version_major": 2,
       "version_minor": 0
      },
      "text/plain": [
       "HBox(children=(HTML(value=''), FloatProgress(value=0.0, max=339.0), HTML(value='')))"
      ]
     },
     "metadata": {},
     "output_type": "display_data"
    },
    {
     "name": "stdout",
     "output_type": "stream",
     "text": [
      "\n"
     ]
    },
    {
     "data": {
      "application/vnd.jupyter.widget-view+json": {
       "model_id": "29c9e4fb306248a19340554aa0e6610c",
       "version_major": 2,
       "version_minor": 0
      },
      "text/plain": [
       "HBox(children=(HTML(value=''), FloatProgress(value=0.0, max=317.0), HTML(value='')))"
      ]
     },
     "metadata": {},
     "output_type": "display_data"
    },
    {
     "name": "stdout",
     "output_type": "stream",
     "text": [
      "\n"
     ]
    },
    {
     "data": {
      "application/vnd.jupyter.widget-view+json": {
       "model_id": "a0b164db4b1d495d8456b08622a9fd80",
       "version_major": 2,
       "version_minor": 0
      },
      "text/plain": [
       "HBox(children=(HTML(value=''), FloatProgress(value=0.0, max=307.0), HTML(value='')))"
      ]
     },
     "metadata": {},
     "output_type": "display_data"
    },
    {
     "name": "stdout",
     "output_type": "stream",
     "text": [
      "\n"
     ]
    },
    {
     "data": {
      "application/vnd.jupyter.widget-view+json": {
       "model_id": "7c22dc6774ac4f4096d1cc022b5e8cd5",
       "version_major": 2,
       "version_minor": 0
      },
      "text/plain": [
       "HBox(children=(HTML(value=''), FloatProgress(value=0.0, max=278.0), HTML(value='')))"
      ]
     },
     "metadata": {},
     "output_type": "display_data"
    },
    {
     "name": "stdout",
     "output_type": "stream",
     "text": [
      "\n"
     ]
    },
    {
     "data": {
      "application/vnd.jupyter.widget-view+json": {
       "model_id": "e00e44270d344b48ab3050d55ac07bcf",
       "version_major": 2,
       "version_minor": 0
      },
      "text/plain": [
       "HBox(children=(HTML(value=''), FloatProgress(value=0.0, max=295.0), HTML(value='')))"
      ]
     },
     "metadata": {},
     "output_type": "display_data"
    },
    {
     "name": "stdout",
     "output_type": "stream",
     "text": [
      "\n"
     ]
    },
    {
     "data": {
      "application/vnd.jupyter.widget-view+json": {
       "model_id": "8e023ebce22e4fcb8c4230593729fe9f",
       "version_major": 2,
       "version_minor": 0
      },
      "text/plain": [
       "HBox(children=(HTML(value=''), FloatProgress(value=0.0, max=299.0), HTML(value='')))"
      ]
     },
     "metadata": {},
     "output_type": "display_data"
    },
    {
     "name": "stdout",
     "output_type": "stream",
     "text": [
      "\n"
     ]
    },
    {
     "data": {
      "application/vnd.jupyter.widget-view+json": {
       "model_id": "025a2a0956fc42e9a3584deaf03b7ed0",
       "version_major": 2,
       "version_minor": 0
      },
      "text/plain": [
       "HBox(children=(HTML(value=''), FloatProgress(value=0.0, max=300.0), HTML(value='')))"
      ]
     },
     "metadata": {},
     "output_type": "display_data"
    },
    {
     "name": "stdout",
     "output_type": "stream",
     "text": [
      "\n"
     ]
    },
    {
     "data": {
      "application/vnd.jupyter.widget-view+json": {
       "model_id": "16f4dcee97244162a45b0491089e03a4",
       "version_major": 2,
       "version_minor": 0
      },
      "text/plain": [
       "HBox(children=(HTML(value=''), FloatProgress(value=0.0, max=305.0), HTML(value='')))"
      ]
     },
     "metadata": {},
     "output_type": "display_data"
    },
    {
     "name": "stdout",
     "output_type": "stream",
     "text": [
      "\n"
     ]
    },
    {
     "data": {
      "application/vnd.jupyter.widget-view+json": {
       "model_id": "4b79c07846304d3a81aa6066f02a9930",
       "version_major": 2,
       "version_minor": 0
      },
      "text/plain": [
       "HBox(children=(HTML(value=''), FloatProgress(value=0.0, max=359.0), HTML(value='')))"
      ]
     },
     "metadata": {},
     "output_type": "display_data"
    },
    {
     "name": "stdout",
     "output_type": "stream",
     "text": [
      "\n"
     ]
    },
    {
     "data": {
      "application/vnd.jupyter.widget-view+json": {
       "model_id": "071801a979b74d068d2a9ad2e0a7ebc9",
       "version_major": 2,
       "version_minor": 0
      },
      "text/plain": [
       "HBox(children=(HTML(value=''), FloatProgress(value=0.0, max=343.0), HTML(value='')))"
      ]
     },
     "metadata": {},
     "output_type": "display_data"
    },
    {
     "name": "stdout",
     "output_type": "stream",
     "text": [
      "\n"
     ]
    },
    {
     "data": {
      "application/vnd.jupyter.widget-view+json": {
       "model_id": "6f8d28edc7d44d1b905e771959da3e8b",
       "version_major": 2,
       "version_minor": 0
      },
      "text/plain": [
       "HBox(children=(HTML(value=''), FloatProgress(value=0.0, max=309.0), HTML(value='')))"
      ]
     },
     "metadata": {},
     "output_type": "display_data"
    },
    {
     "name": "stdout",
     "output_type": "stream",
     "text": [
      "\n"
     ]
    },
    {
     "data": {
      "application/vnd.jupyter.widget-view+json": {
       "model_id": "7c58ee99cd694551953c44bbbf8acbc0",
       "version_major": 2,
       "version_minor": 0
      },
      "text/plain": [
       "HBox(children=(HTML(value=''), FloatProgress(value=0.0, max=254.0), HTML(value='')))"
      ]
     },
     "metadata": {},
     "output_type": "display_data"
    },
    {
     "name": "stdout",
     "output_type": "stream",
     "text": [
      "\n"
     ]
    },
    {
     "data": {
      "application/vnd.jupyter.widget-view+json": {
       "model_id": "5e7d7e450630426f889e810383ad9519",
       "version_major": 2,
       "version_minor": 0
      },
      "text/plain": [
       "HBox(children=(HTML(value=''), FloatProgress(value=0.0, max=307.0), HTML(value='')))"
      ]
     },
     "metadata": {},
     "output_type": "display_data"
    },
    {
     "name": "stdout",
     "output_type": "stream",
     "text": [
      "\n"
     ]
    },
    {
     "data": {
      "application/vnd.jupyter.widget-view+json": {
       "model_id": "ed7cb0f938f04700a128b78afaa96a8b",
       "version_major": 2,
       "version_minor": 0
      },
      "text/plain": [
       "HBox(children=(HTML(value=''), FloatProgress(value=0.0, max=274.0), HTML(value='')))"
      ]
     },
     "metadata": {},
     "output_type": "display_data"
    },
    {
     "name": "stdout",
     "output_type": "stream",
     "text": [
      "\n"
     ]
    },
    {
     "data": {
      "application/vnd.jupyter.widget-view+json": {
       "model_id": "90c332a68e5e47f4a610929570d44826",
       "version_major": 2,
       "version_minor": 0
      },
      "text/plain": [
       "HBox(children=(HTML(value=''), FloatProgress(value=0.0, max=305.0), HTML(value='')))"
      ]
     },
     "metadata": {},
     "output_type": "display_data"
    },
    {
     "name": "stdout",
     "output_type": "stream",
     "text": [
      "\n"
     ]
    },
    {
     "data": {
      "application/vnd.jupyter.widget-view+json": {
       "model_id": "73a8ad1bbef2427cb7660a34fcb3072e",
       "version_major": 2,
       "version_minor": 0
      },
      "text/plain": [
       "HBox(children=(HTML(value=''), FloatProgress(value=0.0, max=296.0), HTML(value='')))"
      ]
     },
     "metadata": {},
     "output_type": "display_data"
    },
    {
     "name": "stdout",
     "output_type": "stream",
     "text": [
      "\n"
     ]
    },
    {
     "data": {
      "application/vnd.jupyter.widget-view+json": {
       "model_id": "425e1ae898eb4626b418d8a7b71fd87c",
       "version_major": 2,
       "version_minor": 0
      },
      "text/plain": [
       "HBox(children=(HTML(value=''), FloatProgress(value=0.0, max=283.0), HTML(value='')))"
      ]
     },
     "metadata": {},
     "output_type": "display_data"
    },
    {
     "name": "stdout",
     "output_type": "stream",
     "text": [
      "\n"
     ]
    },
    {
     "data": {
      "application/vnd.jupyter.widget-view+json": {
       "model_id": "dd415d74814b4bea9446edd967850480",
       "version_major": 2,
       "version_minor": 0
      },
      "text/plain": [
       "HBox(children=(HTML(value=''), FloatProgress(value=0.0, max=298.0), HTML(value='')))"
      ]
     },
     "metadata": {},
     "output_type": "display_data"
    },
    {
     "name": "stdout",
     "output_type": "stream",
     "text": [
      "\n"
     ]
    },
    {
     "data": {
      "application/vnd.jupyter.widget-view+json": {
       "model_id": "f92959e7d0444a0fbf4ceb1d0c4fa54a",
       "version_major": 2,
       "version_minor": 0
      },
      "text/plain": [
       "HBox(children=(HTML(value=''), FloatProgress(value=0.0, max=327.0), HTML(value='')))"
      ]
     },
     "metadata": {},
     "output_type": "display_data"
    },
    {
     "name": "stdout",
     "output_type": "stream",
     "text": [
      "\n"
     ]
    },
    {
     "data": {
      "application/vnd.jupyter.widget-view+json": {
       "model_id": "005d16b6e976427180ad5572ed1b3029",
       "version_major": 2,
       "version_minor": 0
      },
      "text/plain": [
       "HBox(children=(HTML(value=''), FloatProgress(value=0.0, max=334.0), HTML(value='')))"
      ]
     },
     "metadata": {},
     "output_type": "display_data"
    },
    {
     "name": "stdout",
     "output_type": "stream",
     "text": [
      "\n"
     ]
    },
    {
     "data": {
      "application/vnd.jupyter.widget-view+json": {
       "model_id": "45bce001d9f34e5c958f2776233e56a7",
       "version_major": 2,
       "version_minor": 0
      },
      "text/plain": [
       "HBox(children=(HTML(value=''), FloatProgress(value=0.0, max=332.0), HTML(value='')))"
      ]
     },
     "metadata": {},
     "output_type": "display_data"
    },
    {
     "name": "stdout",
     "output_type": "stream",
     "text": [
      "\n"
     ]
    },
    {
     "data": {
      "application/vnd.jupyter.widget-view+json": {
       "model_id": "647440bed8344f3688ad72c6b5f0efa8",
       "version_major": 2,
       "version_minor": 0
      },
      "text/plain": [
       "HBox(children=(HTML(value=''), FloatProgress(value=0.0, max=304.0), HTML(value='')))"
      ]
     },
     "metadata": {},
     "output_type": "display_data"
    },
    {
     "name": "stdout",
     "output_type": "stream",
     "text": [
      "\n"
     ]
    },
    {
     "data": {
      "application/vnd.jupyter.widget-view+json": {
       "model_id": "acc1a2db3a3444878a4be9ac67bde095",
       "version_major": 2,
       "version_minor": 0
      },
      "text/plain": [
       "HBox(children=(HTML(value=''), FloatProgress(value=0.0, max=265.0), HTML(value='')))"
      ]
     },
     "metadata": {},
     "output_type": "display_data"
    },
    {
     "name": "stdout",
     "output_type": "stream",
     "text": [
      "\n"
     ]
    },
    {
     "data": {
      "application/vnd.jupyter.widget-view+json": {
       "model_id": "301f5ec6738e4e13a79bc0797e78ac3e",
       "version_major": 2,
       "version_minor": 0
      },
      "text/plain": [
       "HBox(children=(HTML(value=''), FloatProgress(value=0.0, max=329.0), HTML(value='')))"
      ]
     },
     "metadata": {},
     "output_type": "display_data"
    },
    {
     "name": "stdout",
     "output_type": "stream",
     "text": [
      "\n"
     ]
    },
    {
     "data": {
      "application/vnd.jupyter.widget-view+json": {
       "model_id": "f07f13b69f7c47ef8f3eb8f5dadeabf8",
       "version_major": 2,
       "version_minor": 0
      },
      "text/plain": [
       "HBox(children=(HTML(value=''), FloatProgress(value=0.0, max=303.0), HTML(value='')))"
      ]
     },
     "metadata": {},
     "output_type": "display_data"
    },
    {
     "name": "stdout",
     "output_type": "stream",
     "text": [
      "\n"
     ]
    },
    {
     "data": {
      "application/vnd.jupyter.widget-view+json": {
       "model_id": "5546d60418134b3dbca6c33068656820",
       "version_major": 2,
       "version_minor": 0
      },
      "text/plain": [
       "HBox(children=(HTML(value=''), FloatProgress(value=0.0, max=271.0), HTML(value='')))"
      ]
     },
     "metadata": {},
     "output_type": "display_data"
    },
    {
     "name": "stdout",
     "output_type": "stream",
     "text": [
      "\n"
     ]
    },
    {
     "data": {
      "application/vnd.jupyter.widget-view+json": {
       "model_id": "3a52c47d6770490b91182c3f78c84a5a",
       "version_major": 2,
       "version_minor": 0
      },
      "text/plain": [
       "HBox(children=(HTML(value=''), FloatProgress(value=0.0, max=329.0), HTML(value='')))"
      ]
     },
     "metadata": {},
     "output_type": "display_data"
    },
    {
     "name": "stdout",
     "output_type": "stream",
     "text": [
      "\n"
     ]
    },
    {
     "data": {
      "application/vnd.jupyter.widget-view+json": {
       "model_id": "d13158f3457d45b5b3a3dc045d192f80",
       "version_major": 2,
       "version_minor": 0
      },
      "text/plain": [
       "HBox(children=(HTML(value=''), FloatProgress(value=0.0, max=343.0), HTML(value='')))"
      ]
     },
     "metadata": {},
     "output_type": "display_data"
    },
    {
     "name": "stdout",
     "output_type": "stream",
     "text": [
      "\n"
     ]
    },
    {
     "data": {
      "application/vnd.jupyter.widget-view+json": {
       "model_id": "5d915f374938430facaf745d4f6f0e50",
       "version_major": 2,
       "version_minor": 0
      },
      "text/plain": [
       "HBox(children=(HTML(value=''), FloatProgress(value=0.0, max=340.0), HTML(value='')))"
      ]
     },
     "metadata": {},
     "output_type": "display_data"
    },
    {
     "name": "stdout",
     "output_type": "stream",
     "text": [
      "\n"
     ]
    },
    {
     "data": {
      "application/vnd.jupyter.widget-view+json": {
       "model_id": "398a2d443ec94a77bdc0133cd3b88caa",
       "version_major": 2,
       "version_minor": 0
      },
      "text/plain": [
       "HBox(children=(HTML(value=''), FloatProgress(value=0.0, max=303.0), HTML(value='')))"
      ]
     },
     "metadata": {},
     "output_type": "display_data"
    },
    {
     "name": "stdout",
     "output_type": "stream",
     "text": [
      "\n"
     ]
    },
    {
     "data": {
      "application/vnd.jupyter.widget-view+json": {
       "model_id": "aee243292b2c40269657f703533274c9",
       "version_major": 2,
       "version_minor": 0
      },
      "text/plain": [
       "HBox(children=(HTML(value=''), FloatProgress(value=0.0, max=322.0), HTML(value='')))"
      ]
     },
     "metadata": {},
     "output_type": "display_data"
    },
    {
     "name": "stdout",
     "output_type": "stream",
     "text": [
      "\n"
     ]
    },
    {
     "data": {
      "application/vnd.jupyter.widget-view+json": {
       "model_id": "5d211d4bff7943a8852a15547e2d0f85",
       "version_major": 2,
       "version_minor": 0
      },
      "text/plain": [
       "HBox(children=(HTML(value=''), FloatProgress(value=0.0, max=338.0), HTML(value='')))"
      ]
     },
     "metadata": {},
     "output_type": "display_data"
    },
    {
     "name": "stdout",
     "output_type": "stream",
     "text": [
      "\n"
     ]
    },
    {
     "data": {
      "application/vnd.jupyter.widget-view+json": {
       "model_id": "b08d906ad1a44666a34bc9ff6e193600",
       "version_major": 2,
       "version_minor": 0
      },
      "text/plain": [
       "HBox(children=(HTML(value=''), FloatProgress(value=0.0, max=281.0), HTML(value='')))"
      ]
     },
     "metadata": {},
     "output_type": "display_data"
    },
    {
     "name": "stdout",
     "output_type": "stream",
     "text": [
      "\n"
     ]
    },
    {
     "data": {
      "application/vnd.jupyter.widget-view+json": {
       "model_id": "2a462c604ab74be6a580c8c97475f55b",
       "version_major": 2,
       "version_minor": 0
      },
      "text/plain": [
       "HBox(children=(HTML(value=''), FloatProgress(value=0.0, max=313.0), HTML(value='')))"
      ]
     },
     "metadata": {},
     "output_type": "display_data"
    },
    {
     "name": "stdout",
     "output_type": "stream",
     "text": [
      "\n"
     ]
    },
    {
     "data": {
      "application/vnd.jupyter.widget-view+json": {
       "model_id": "1a56124e303d402d9addadd26431f7a6",
       "version_major": 2,
       "version_minor": 0
      },
      "text/plain": [
       "HBox(children=(HTML(value=''), FloatProgress(value=0.0, max=317.0), HTML(value='')))"
      ]
     },
     "metadata": {},
     "output_type": "display_data"
    },
    {
     "name": "stdout",
     "output_type": "stream",
     "text": [
      "\n"
     ]
    },
    {
     "data": {
      "application/vnd.jupyter.widget-view+json": {
       "model_id": "43e6c7fae6464b249efbe4707842f473",
       "version_major": 2,
       "version_minor": 0
      },
      "text/plain": [
       "HBox(children=(HTML(value=''), FloatProgress(value=0.0, max=314.0), HTML(value='')))"
      ]
     },
     "metadata": {},
     "output_type": "display_data"
    },
    {
     "name": "stdout",
     "output_type": "stream",
     "text": [
      "\n"
     ]
    },
    {
     "data": {
      "application/vnd.jupyter.widget-view+json": {
       "model_id": "9b513d84ca6a477ea5c32f6fc3cfa95d",
       "version_major": 2,
       "version_minor": 0
      },
      "text/plain": [
       "HBox(children=(HTML(value=''), FloatProgress(value=0.0, max=303.0), HTML(value='')))"
      ]
     },
     "metadata": {},
     "output_type": "display_data"
    },
    {
     "name": "stdout",
     "output_type": "stream",
     "text": [
      "\n"
     ]
    },
    {
     "data": {
      "application/vnd.jupyter.widget-view+json": {
       "model_id": "d178d8f7b7674c76bb40f763fe42f5ff",
       "version_major": 2,
       "version_minor": 0
      },
      "text/plain": [
       "HBox(children=(HTML(value=''), FloatProgress(value=0.0, max=281.0), HTML(value='')))"
      ]
     },
     "metadata": {},
     "output_type": "display_data"
    },
    {
     "name": "stdout",
     "output_type": "stream",
     "text": [
      "\n"
     ]
    },
    {
     "data": {
      "application/vnd.jupyter.widget-view+json": {
       "model_id": "984af4d419744130abd21c01c4f4a69b",
       "version_major": 2,
       "version_minor": 0
      },
      "text/plain": [
       "HBox(children=(HTML(value=''), FloatProgress(value=0.0, max=325.0), HTML(value='')))"
      ]
     },
     "metadata": {},
     "output_type": "display_data"
    },
    {
     "name": "stdout",
     "output_type": "stream",
     "text": [
      "\n"
     ]
    },
    {
     "data": {
      "application/vnd.jupyter.widget-view+json": {
       "model_id": "2139ba4c82a14331b575741d43f60038",
       "version_major": 2,
       "version_minor": 0
      },
      "text/plain": [
       "HBox(children=(HTML(value=''), FloatProgress(value=0.0, max=303.0), HTML(value='')))"
      ]
     },
     "metadata": {},
     "output_type": "display_data"
    },
    {
     "name": "stdout",
     "output_type": "stream",
     "text": [
      "\n"
     ]
    },
    {
     "data": {
      "application/vnd.jupyter.widget-view+json": {
       "model_id": "3314176c818a44aaa4cfdb7559d7029d",
       "version_major": 2,
       "version_minor": 0
      },
      "text/plain": [
       "HBox(children=(HTML(value=''), FloatProgress(value=0.0, max=279.0), HTML(value='')))"
      ]
     },
     "metadata": {},
     "output_type": "display_data"
    },
    {
     "name": "stdout",
     "output_type": "stream",
     "text": [
      "\n"
     ]
    },
    {
     "data": {
      "application/vnd.jupyter.widget-view+json": {
       "model_id": "ca6ca8c2addf4f37a009ea65c6711b3c",
       "version_major": 2,
       "version_minor": 0
      },
      "text/plain": [
       "HBox(children=(HTML(value=''), FloatProgress(value=0.0, max=309.0), HTML(value='')))"
      ]
     },
     "metadata": {},
     "output_type": "display_data"
    },
    {
     "name": "stdout",
     "output_type": "stream",
     "text": [
      "\n"
     ]
    },
    {
     "data": {
      "application/vnd.jupyter.widget-view+json": {
       "model_id": "e66a92f960074c9aae1078022df01b13",
       "version_major": 2,
       "version_minor": 0
      },
      "text/plain": [
       "HBox(children=(HTML(value=''), FloatProgress(value=0.0, max=319.0), HTML(value='')))"
      ]
     },
     "metadata": {},
     "output_type": "display_data"
    },
    {
     "name": "stdout",
     "output_type": "stream",
     "text": [
      "\n"
     ]
    },
    {
     "data": {
      "application/vnd.jupyter.widget-view+json": {
       "model_id": "63585ccd010d4cfeae28eed75a79d64c",
       "version_major": 2,
       "version_minor": 0
      },
      "text/plain": [
       "HBox(children=(HTML(value=''), FloatProgress(value=0.0, max=288.0), HTML(value='')))"
      ]
     },
     "metadata": {},
     "output_type": "display_data"
    },
    {
     "name": "stdout",
     "output_type": "stream",
     "text": [
      "\n"
     ]
    },
    {
     "data": {
      "application/vnd.jupyter.widget-view+json": {
       "model_id": "6c42b7ef128e4361a29d022ff766c5d4",
       "version_major": 2,
       "version_minor": 0
      },
      "text/plain": [
       "HBox(children=(HTML(value=''), FloatProgress(value=0.0, max=347.0), HTML(value='')))"
      ]
     },
     "metadata": {},
     "output_type": "display_data"
    },
    {
     "name": "stdout",
     "output_type": "stream",
     "text": [
      "\n"
     ]
    },
    {
     "data": {
      "application/vnd.jupyter.widget-view+json": {
       "model_id": "2f15340d78ab459ba334b7c18a4e66ad",
       "version_major": 2,
       "version_minor": 0
      },
      "text/plain": [
       "HBox(children=(HTML(value=''), FloatProgress(value=0.0, max=322.0), HTML(value='')))"
      ]
     },
     "metadata": {},
     "output_type": "display_data"
    },
    {
     "name": "stdout",
     "output_type": "stream",
     "text": [
      "\n"
     ]
    },
    {
     "data": {
      "application/vnd.jupyter.widget-view+json": {
       "model_id": "0cf2bfc84aa443db95918acb159e3814",
       "version_major": 2,
       "version_minor": 0
      },
      "text/plain": [
       "HBox(children=(HTML(value=''), FloatProgress(value=0.0, max=328.0), HTML(value='')))"
      ]
     },
     "metadata": {},
     "output_type": "display_data"
    },
    {
     "name": "stdout",
     "output_type": "stream",
     "text": [
      "\n"
     ]
    },
    {
     "data": {
      "application/vnd.jupyter.widget-view+json": {
       "model_id": "f589f94ce47841b4b3713aee04d338cd",
       "version_major": 2,
       "version_minor": 0
      },
      "text/plain": [
       "HBox(children=(HTML(value=''), FloatProgress(value=0.0, max=307.0), HTML(value='')))"
      ]
     },
     "metadata": {},
     "output_type": "display_data"
    },
    {
     "name": "stdout",
     "output_type": "stream",
     "text": [
      "\n"
     ]
    },
    {
     "data": {
      "application/vnd.jupyter.widget-view+json": {
       "model_id": "dc7b4348ca714a488d2398aff59d2c99",
       "version_major": 2,
       "version_minor": 0
      },
      "text/plain": [
       "HBox(children=(HTML(value=''), FloatProgress(value=0.0, max=305.0), HTML(value='')))"
      ]
     },
     "metadata": {},
     "output_type": "display_data"
    },
    {
     "name": "stdout",
     "output_type": "stream",
     "text": [
      "\n"
     ]
    },
    {
     "data": {
      "application/vnd.jupyter.widget-view+json": {
       "model_id": "133286258de9488583f2d1e1d829ebf2",
       "version_major": 2,
       "version_minor": 0
      },
      "text/plain": [
       "HBox(children=(HTML(value=''), FloatProgress(value=0.0, max=310.0), HTML(value='')))"
      ]
     },
     "metadata": {},
     "output_type": "display_data"
    },
    {
     "name": "stdout",
     "output_type": "stream",
     "text": [
      "\n"
     ]
    },
    {
     "data": {
      "application/vnd.jupyter.widget-view+json": {
       "model_id": "7961e789f9dd43f9ac4b7aa8b69197e7",
       "version_major": 2,
       "version_minor": 0
      },
      "text/plain": [
       "HBox(children=(HTML(value=''), FloatProgress(value=0.0, max=310.0), HTML(value='')))"
      ]
     },
     "metadata": {},
     "output_type": "display_data"
    },
    {
     "name": "stdout",
     "output_type": "stream",
     "text": [
      "\n"
     ]
    },
    {
     "data": {
      "application/vnd.jupyter.widget-view+json": {
       "model_id": "dd5703a341664b14802e3a8bc292c8af",
       "version_major": 2,
       "version_minor": 0
      },
      "text/plain": [
       "HBox(children=(HTML(value=''), FloatProgress(value=0.0, max=341.0), HTML(value='')))"
      ]
     },
     "metadata": {},
     "output_type": "display_data"
    },
    {
     "name": "stdout",
     "output_type": "stream",
     "text": [
      "\n"
     ]
    },
    {
     "data": {
      "application/vnd.jupyter.widget-view+json": {
       "model_id": "49caccbda91d4684bfeeddd5cf273848",
       "version_major": 2,
       "version_minor": 0
      },
      "text/plain": [
       "HBox(children=(HTML(value=''), FloatProgress(value=0.0, max=278.0), HTML(value='')))"
      ]
     },
     "metadata": {},
     "output_type": "display_data"
    },
    {
     "name": "stdout",
     "output_type": "stream",
     "text": [
      "\n"
     ]
    },
    {
     "data": {
      "application/vnd.jupyter.widget-view+json": {
       "model_id": "f47db287d4ca469c9564495c71339a4e",
       "version_major": 2,
       "version_minor": 0
      },
      "text/plain": [
       "HBox(children=(HTML(value=''), FloatProgress(value=0.0, max=323.0), HTML(value='')))"
      ]
     },
     "metadata": {},
     "output_type": "display_data"
    },
    {
     "name": "stdout",
     "output_type": "stream",
     "text": [
      "\n"
     ]
    },
    {
     "data": {
      "application/vnd.jupyter.widget-view+json": {
       "model_id": "85b4f10eebaa4eb9a3555efa064c8f00",
       "version_major": 2,
       "version_minor": 0
      },
      "text/plain": [
       "HBox(children=(HTML(value=''), FloatProgress(value=0.0, max=357.0), HTML(value='')))"
      ]
     },
     "metadata": {},
     "output_type": "display_data"
    },
    {
     "name": "stdout",
     "output_type": "stream",
     "text": [
      "\n"
     ]
    },
    {
     "data": {
      "application/vnd.jupyter.widget-view+json": {
       "model_id": "b5443da1c7e349c6b6bbec9dfaa70ea8",
       "version_major": 2,
       "version_minor": 0
      },
      "text/plain": [
       "HBox(children=(HTML(value=''), FloatProgress(value=0.0, max=360.0), HTML(value='')))"
      ]
     },
     "metadata": {},
     "output_type": "display_data"
    },
    {
     "name": "stdout",
     "output_type": "stream",
     "text": [
      "\n"
     ]
    },
    {
     "data": {
      "application/vnd.jupyter.widget-view+json": {
       "model_id": "69fe305fb9de4ceda9ed11bce0d2049c",
       "version_major": 2,
       "version_minor": 0
      },
      "text/plain": [
       "HBox(children=(HTML(value=''), FloatProgress(value=0.0, max=334.0), HTML(value='')))"
      ]
     },
     "metadata": {},
     "output_type": "display_data"
    },
    {
     "name": "stdout",
     "output_type": "stream",
     "text": [
      "\n"
     ]
    },
    {
     "data": {
      "application/vnd.jupyter.widget-view+json": {
       "model_id": "92d2434c8c614abb894ce00d180f0c6c",
       "version_major": 2,
       "version_minor": 0
      },
      "text/plain": [
       "HBox(children=(HTML(value=''), FloatProgress(value=0.0, max=274.0), HTML(value='')))"
      ]
     },
     "metadata": {},
     "output_type": "display_data"
    },
    {
     "name": "stdout",
     "output_type": "stream",
     "text": [
      "\n"
     ]
    },
    {
     "data": {
      "application/vnd.jupyter.widget-view+json": {
       "model_id": "bf2010bce62747e0b12015c0036fe011",
       "version_major": 2,
       "version_minor": 0
      },
      "text/plain": [
       "HBox(children=(HTML(value=''), FloatProgress(value=0.0, max=298.0), HTML(value='')))"
      ]
     },
     "metadata": {},
     "output_type": "display_data"
    },
    {
     "name": "stdout",
     "output_type": "stream",
     "text": [
      "\n"
     ]
    },
    {
     "data": {
      "application/vnd.jupyter.widget-view+json": {
       "model_id": "173596ea1e4144a48f0c5cf4ad6f21d5",
       "version_major": 2,
       "version_minor": 0
      },
      "text/plain": [
       "HBox(children=(HTML(value=''), FloatProgress(value=0.0, max=280.0), HTML(value='')))"
      ]
     },
     "metadata": {},
     "output_type": "display_data"
    },
    {
     "name": "stdout",
     "output_type": "stream",
     "text": [
      "\n"
     ]
    },
    {
     "data": {
      "application/vnd.jupyter.widget-view+json": {
       "model_id": "fe2f94bcdeeb45df9e5c88af936c1ee4",
       "version_major": 2,
       "version_minor": 0
      },
      "text/plain": [
       "HBox(children=(HTML(value=''), FloatProgress(value=0.0, max=326.0), HTML(value='')))"
      ]
     },
     "metadata": {},
     "output_type": "display_data"
    },
    {
     "name": "stdout",
     "output_type": "stream",
     "text": [
      "\n"
     ]
    },
    {
     "data": {
      "application/vnd.jupyter.widget-view+json": {
       "model_id": "83eb39135cbd47c182277ffd1079b234",
       "version_major": 2,
       "version_minor": 0
      },
      "text/plain": [
       "HBox(children=(HTML(value=''), FloatProgress(value=0.0, max=324.0), HTML(value='')))"
      ]
     },
     "metadata": {},
     "output_type": "display_data"
    },
    {
     "name": "stdout",
     "output_type": "stream",
     "text": [
      "\n"
     ]
    },
    {
     "data": {
      "application/vnd.jupyter.widget-view+json": {
       "model_id": "4999909b810c41b485ca6c4b22b771c9",
       "version_major": 2,
       "version_minor": 0
      },
      "text/plain": [
       "HBox(children=(HTML(value=''), FloatProgress(value=0.0, max=346.0), HTML(value='')))"
      ]
     },
     "metadata": {},
     "output_type": "display_data"
    },
    {
     "name": "stdout",
     "output_type": "stream",
     "text": [
      "\n"
     ]
    },
    {
     "data": {
      "application/vnd.jupyter.widget-view+json": {
       "model_id": "81fee04f6caa4273ab39eee0fe09933b",
       "version_major": 2,
       "version_minor": 0
      },
      "text/plain": [
       "HBox(children=(HTML(value=''), FloatProgress(value=0.0, max=343.0), HTML(value='')))"
      ]
     },
     "metadata": {},
     "output_type": "display_data"
    },
    {
     "name": "stdout",
     "output_type": "stream",
     "text": [
      "\n"
     ]
    },
    {
     "data": {
      "application/vnd.jupyter.widget-view+json": {
       "model_id": "838b297530a4424587fd3cd83e2548b6",
       "version_major": 2,
       "version_minor": 0
      },
      "text/plain": [
       "HBox(children=(HTML(value=''), FloatProgress(value=0.0, max=262.0), HTML(value='')))"
      ]
     },
     "metadata": {},
     "output_type": "display_data"
    },
    {
     "name": "stdout",
     "output_type": "stream",
     "text": [
      "\n"
     ]
    },
    {
     "data": {
      "application/vnd.jupyter.widget-view+json": {
       "model_id": "d8f16486884f40798398b717f3b16440",
       "version_major": 2,
       "version_minor": 0
      },
      "text/plain": [
       "HBox(children=(HTML(value=''), FloatProgress(value=0.0, max=318.0), HTML(value='')))"
      ]
     },
     "metadata": {},
     "output_type": "display_data"
    },
    {
     "name": "stdout",
     "output_type": "stream",
     "text": [
      "\n"
     ]
    },
    {
     "data": {
      "application/vnd.jupyter.widget-view+json": {
       "model_id": "393e394250234cca806da4568be74085",
       "version_major": 2,
       "version_minor": 0
      },
      "text/plain": [
       "HBox(children=(HTML(value=''), FloatProgress(value=0.0, max=309.0), HTML(value='')))"
      ]
     },
     "metadata": {},
     "output_type": "display_data"
    },
    {
     "name": "stdout",
     "output_type": "stream",
     "text": [
      "\n"
     ]
    },
    {
     "data": {
      "application/vnd.jupyter.widget-view+json": {
       "model_id": "f897a27252d546efab56062a154c837e",
       "version_major": 2,
       "version_minor": 0
      },
      "text/plain": [
       "HBox(children=(HTML(value=''), FloatProgress(value=0.0, max=295.0), HTML(value='')))"
      ]
     },
     "metadata": {},
     "output_type": "display_data"
    },
    {
     "name": "stdout",
     "output_type": "stream",
     "text": [
      "\n"
     ]
    },
    {
     "data": {
      "application/vnd.jupyter.widget-view+json": {
       "model_id": "55b85170309a4d82a1c1695ae7e88d0c",
       "version_major": 2,
       "version_minor": 0
      },
      "text/plain": [
       "HBox(children=(HTML(value=''), FloatProgress(value=0.0, max=302.0), HTML(value='')))"
      ]
     },
     "metadata": {},
     "output_type": "display_data"
    },
    {
     "name": "stdout",
     "output_type": "stream",
     "text": [
      "\n"
     ]
    },
    {
     "data": {
      "application/vnd.jupyter.widget-view+json": {
       "model_id": "8a13c697c6fd4be8a11922a2583fb41e",
       "version_major": 2,
       "version_minor": 0
      },
      "text/plain": [
       "HBox(children=(HTML(value=''), FloatProgress(value=0.0, max=314.0), HTML(value='')))"
      ]
     },
     "metadata": {},
     "output_type": "display_data"
    },
    {
     "name": "stdout",
     "output_type": "stream",
     "text": [
      "\n"
     ]
    },
    {
     "data": {
      "application/vnd.jupyter.widget-view+json": {
       "model_id": "498eb50fb5eb4b92b834c28bf0f50426",
       "version_major": 2,
       "version_minor": 0
      },
      "text/plain": [
       "HBox(children=(HTML(value=''), FloatProgress(value=0.0, max=292.0), HTML(value='')))"
      ]
     },
     "metadata": {},
     "output_type": "display_data"
    },
    {
     "name": "stdout",
     "output_type": "stream",
     "text": [
      "\n"
     ]
    },
    {
     "data": {
      "application/vnd.jupyter.widget-view+json": {
       "model_id": "e6cfbd2dfcb04ecda8407fd4bb27ba03",
       "version_major": 2,
       "version_minor": 0
      },
      "text/plain": [
       "HBox(children=(HTML(value=''), FloatProgress(value=0.0, max=310.0), HTML(value='')))"
      ]
     },
     "metadata": {},
     "output_type": "display_data"
    },
    {
     "name": "stdout",
     "output_type": "stream",
     "text": [
      "\n"
     ]
    },
    {
     "data": {
      "application/vnd.jupyter.widget-view+json": {
       "model_id": "e8fa5ecd6cd24658a34457540074b00f",
       "version_major": 2,
       "version_minor": 0
      },
      "text/plain": [
       "HBox(children=(HTML(value=''), FloatProgress(value=0.0, max=323.0), HTML(value='')))"
      ]
     },
     "metadata": {},
     "output_type": "display_data"
    },
    {
     "name": "stdout",
     "output_type": "stream",
     "text": [
      "\n"
     ]
    },
    {
     "data": {
      "application/vnd.jupyter.widget-view+json": {
       "model_id": "5468fea9456e4cc496b7b54796f97947",
       "version_major": 2,
       "version_minor": 0
      },
      "text/plain": [
       "HBox(children=(HTML(value=''), FloatProgress(value=0.0, max=299.0), HTML(value='')))"
      ]
     },
     "metadata": {},
     "output_type": "display_data"
    },
    {
     "name": "stdout",
     "output_type": "stream",
     "text": [
      "\n"
     ]
    },
    {
     "data": {
      "application/vnd.jupyter.widget-view+json": {
       "model_id": "d46e2ae4bd4f46be823dfaeaa20bc853",
       "version_major": 2,
       "version_minor": 0
      },
      "text/plain": [
       "HBox(children=(HTML(value=''), FloatProgress(value=0.0, max=263.0), HTML(value='')))"
      ]
     },
     "metadata": {},
     "output_type": "display_data"
    },
    {
     "name": "stdout",
     "output_type": "stream",
     "text": [
      "\n"
     ]
    },
    {
     "data": {
      "application/vnd.jupyter.widget-view+json": {
       "model_id": "b6f082dbc67e4b29b1605368bf5a4a3e",
       "version_major": 2,
       "version_minor": 0
      },
      "text/plain": [
       "HBox(children=(HTML(value=''), FloatProgress(value=0.0, max=361.0), HTML(value='')))"
      ]
     },
     "metadata": {},
     "output_type": "display_data"
    },
    {
     "name": "stdout",
     "output_type": "stream",
     "text": [
      "\n"
     ]
    },
    {
     "data": {
      "application/vnd.jupyter.widget-view+json": {
       "model_id": "ab0dd31c17724adab3f8f35756191ca7",
       "version_major": 2,
       "version_minor": 0
      },
      "text/plain": [
       "HBox(children=(HTML(value=''), FloatProgress(value=0.0, max=309.0), HTML(value='')))"
      ]
     },
     "metadata": {},
     "output_type": "display_data"
    },
    {
     "name": "stdout",
     "output_type": "stream",
     "text": [
      "\n"
     ]
    },
    {
     "data": {
      "application/vnd.jupyter.widget-view+json": {
       "model_id": "df3f9f3ae96148e1b328c6537c516e61",
       "version_major": 2,
       "version_minor": 0
      },
      "text/plain": [
       "HBox(children=(HTML(value=''), FloatProgress(value=0.0, max=256.0), HTML(value='')))"
      ]
     },
     "metadata": {},
     "output_type": "display_data"
    },
    {
     "name": "stdout",
     "output_type": "stream",
     "text": [
      "\n"
     ]
    },
    {
     "data": {
      "application/vnd.jupyter.widget-view+json": {
       "model_id": "71f1806939b3458a98c95c1ee2681757",
       "version_major": 2,
       "version_minor": 0
      },
      "text/plain": [
       "HBox(children=(HTML(value=''), FloatProgress(value=0.0, max=321.0), HTML(value='')))"
      ]
     },
     "metadata": {},
     "output_type": "display_data"
    },
    {
     "name": "stdout",
     "output_type": "stream",
     "text": [
      "\n"
     ]
    },
    {
     "data": {
      "application/vnd.jupyter.widget-view+json": {
       "model_id": "3fbb3dfc3dc146ba834eaf971c7d8b1a",
       "version_major": 2,
       "version_minor": 0
      },
      "text/plain": [
       "HBox(children=(HTML(value=''), FloatProgress(value=0.0, max=275.0), HTML(value='')))"
      ]
     },
     "metadata": {},
     "output_type": "display_data"
    },
    {
     "name": "stdout",
     "output_type": "stream",
     "text": [
      "\n"
     ]
    },
    {
     "data": {
      "application/vnd.jupyter.widget-view+json": {
       "model_id": "315af8a458f346c687dd393eed967ee0",
       "version_major": 2,
       "version_minor": 0
      },
      "text/plain": [
       "HBox(children=(HTML(value=''), FloatProgress(value=0.0, max=346.0), HTML(value='')))"
      ]
     },
     "metadata": {},
     "output_type": "display_data"
    },
    {
     "name": "stdout",
     "output_type": "stream",
     "text": [
      "\n"
     ]
    },
    {
     "data": {
      "application/vnd.jupyter.widget-view+json": {
       "model_id": "46fbe822ec534bd08c382386c98e0674",
       "version_major": 2,
       "version_minor": 0
      },
      "text/plain": [
       "HBox(children=(HTML(value=''), FloatProgress(value=0.0, max=326.0), HTML(value='')))"
      ]
     },
     "metadata": {},
     "output_type": "display_data"
    },
    {
     "name": "stdout",
     "output_type": "stream",
     "text": [
      "\n"
     ]
    },
    {
     "data": {
      "application/vnd.jupyter.widget-view+json": {
       "model_id": "643d159d551548fab850bac3ab4f1c66",
       "version_major": 2,
       "version_minor": 0
      },
      "text/plain": [
       "HBox(children=(HTML(value=''), FloatProgress(value=0.0, max=326.0), HTML(value='')))"
      ]
     },
     "metadata": {},
     "output_type": "display_data"
    },
    {
     "name": "stdout",
     "output_type": "stream",
     "text": [
      "\n"
     ]
    },
    {
     "data": {
      "application/vnd.jupyter.widget-view+json": {
       "model_id": "71ba6b1530764adca1de45fd12e9bee7",
       "version_major": 2,
       "version_minor": 0
      },
      "text/plain": [
       "HBox(children=(HTML(value=''), FloatProgress(value=0.0, max=320.0), HTML(value='')))"
      ]
     },
     "metadata": {},
     "output_type": "display_data"
    },
    {
     "name": "stdout",
     "output_type": "stream",
     "text": [
      "\n"
     ]
    },
    {
     "data": {
      "application/vnd.jupyter.widget-view+json": {
       "model_id": "6940f8c53770450daedef59f7b65f60a",
       "version_major": 2,
       "version_minor": 0
      },
      "text/plain": [
       "HBox(children=(HTML(value=''), FloatProgress(value=0.0, max=351.0), HTML(value='')))"
      ]
     },
     "metadata": {},
     "output_type": "display_data"
    },
    {
     "name": "stdout",
     "output_type": "stream",
     "text": [
      "\n"
     ]
    },
    {
     "data": {
      "application/vnd.jupyter.widget-view+json": {
       "model_id": "c46f963580244e7186a4348a8eb63ac7",
       "version_major": 2,
       "version_minor": 0
      },
      "text/plain": [
       "HBox(children=(HTML(value=''), FloatProgress(value=0.0, max=304.0), HTML(value='')))"
      ]
     },
     "metadata": {},
     "output_type": "display_data"
    },
    {
     "name": "stdout",
     "output_type": "stream",
     "text": [
      "\n"
     ]
    },
    {
     "data": {
      "application/vnd.jupyter.widget-view+json": {
       "model_id": "5427e748ffcc4b2793f4146b7176c0fe",
       "version_major": 2,
       "version_minor": 0
      },
      "text/plain": [
       "HBox(children=(HTML(value=''), FloatProgress(value=0.0, max=251.0), HTML(value='')))"
      ]
     },
     "metadata": {},
     "output_type": "display_data"
    },
    {
     "name": "stdout",
     "output_type": "stream",
     "text": [
      "\n"
     ]
    },
    {
     "data": {
      "application/vnd.jupyter.widget-view+json": {
       "model_id": "76d9508d33c046d6941f7645df6b7779",
       "version_major": 2,
       "version_minor": 0
      },
      "text/plain": [
       "HBox(children=(HTML(value=''), FloatProgress(value=0.0, max=271.0), HTML(value='')))"
      ]
     },
     "metadata": {},
     "output_type": "display_data"
    },
    {
     "name": "stdout",
     "output_type": "stream",
     "text": [
      "\n"
     ]
    },
    {
     "data": {
      "application/vnd.jupyter.widget-view+json": {
       "model_id": "f602906f8fff48fa8bfff635a8235241",
       "version_major": 2,
       "version_minor": 0
      },
      "text/plain": [
       "HBox(children=(HTML(value=''), FloatProgress(value=0.0, max=347.0), HTML(value='')))"
      ]
     },
     "metadata": {},
     "output_type": "display_data"
    },
    {
     "name": "stdout",
     "output_type": "stream",
     "text": [
      "\n"
     ]
    },
    {
     "data": {
      "application/vnd.jupyter.widget-view+json": {
       "model_id": "f10f791a267841a6905947a3858cf226",
       "version_major": 2,
       "version_minor": 0
      },
      "text/plain": [
       "HBox(children=(HTML(value=''), FloatProgress(value=0.0, max=284.0), HTML(value='')))"
      ]
     },
     "metadata": {},
     "output_type": "display_data"
    },
    {
     "name": "stdout",
     "output_type": "stream",
     "text": [
      "\n"
     ]
    },
    {
     "data": {
      "application/vnd.jupyter.widget-view+json": {
       "model_id": "e59bad701972427abb764fcaf70fd850",
       "version_major": 2,
       "version_minor": 0
      },
      "text/plain": [
       "HBox(children=(HTML(value=''), FloatProgress(value=0.0, max=318.0), HTML(value='')))"
      ]
     },
     "metadata": {},
     "output_type": "display_data"
    },
    {
     "name": "stdout",
     "output_type": "stream",
     "text": [
      "\n"
     ]
    },
    {
     "data": {
      "application/vnd.jupyter.widget-view+json": {
       "model_id": "1db01d109e1f4de1ac3696408365f50e",
       "version_major": 2,
       "version_minor": 0
      },
      "text/plain": [
       "HBox(children=(HTML(value=''), FloatProgress(value=0.0, max=302.0), HTML(value='')))"
      ]
     },
     "metadata": {},
     "output_type": "display_data"
    },
    {
     "name": "stdout",
     "output_type": "stream",
     "text": [
      "\n"
     ]
    },
    {
     "data": {
      "application/vnd.jupyter.widget-view+json": {
       "model_id": "86f7d6c8365b4d4ca1436dc07be05b89",
       "version_major": 2,
       "version_minor": 0
      },
      "text/plain": [
       "HBox(children=(HTML(value=''), FloatProgress(value=0.0, max=289.0), HTML(value='')))"
      ]
     },
     "metadata": {},
     "output_type": "display_data"
    },
    {
     "name": "stdout",
     "output_type": "stream",
     "text": [
      "\n"
     ]
    },
    {
     "data": {
      "application/vnd.jupyter.widget-view+json": {
       "model_id": "be6bc0dcc7a548b9b2e1dfffa965c4e8",
       "version_major": 2,
       "version_minor": 0
      },
      "text/plain": [
       "HBox(children=(HTML(value=''), FloatProgress(value=0.0, max=289.0), HTML(value='')))"
      ]
     },
     "metadata": {},
     "output_type": "display_data"
    },
    {
     "name": "stdout",
     "output_type": "stream",
     "text": [
      "\n"
     ]
    },
    {
     "data": {
      "application/vnd.jupyter.widget-view+json": {
       "model_id": "9e66a60d890f4c94a7819af10443ff7c",
       "version_major": 2,
       "version_minor": 0
      },
      "text/plain": [
       "HBox(children=(HTML(value=''), FloatProgress(value=0.0, max=302.0), HTML(value='')))"
      ]
     },
     "metadata": {},
     "output_type": "display_data"
    },
    {
     "name": "stdout",
     "output_type": "stream",
     "text": [
      "\n"
     ]
    },
    {
     "data": {
      "application/vnd.jupyter.widget-view+json": {
       "model_id": "3214cb43abcf46e48fcf765bc060d702",
       "version_major": 2,
       "version_minor": 0
      },
      "text/plain": [
       "HBox(children=(HTML(value=''), FloatProgress(value=0.0, max=264.0), HTML(value='')))"
      ]
     },
     "metadata": {},
     "output_type": "display_data"
    },
    {
     "name": "stdout",
     "output_type": "stream",
     "text": [
      "\n"
     ]
    },
    {
     "data": {
      "application/vnd.jupyter.widget-view+json": {
       "model_id": "1e4c6b63fed34d2aa4dd971a86eedd30",
       "version_major": 2,
       "version_minor": 0
      },
      "text/plain": [
       "HBox(children=(HTML(value=''), FloatProgress(value=0.0, max=287.0), HTML(value='')))"
      ]
     },
     "metadata": {},
     "output_type": "display_data"
    },
    {
     "name": "stdout",
     "output_type": "stream",
     "text": [
      "\n"
     ]
    },
    {
     "data": {
      "application/vnd.jupyter.widget-view+json": {
       "model_id": "cc69acf64c68408cb94eae1da73fd1e2",
       "version_major": 2,
       "version_minor": 0
      },
      "text/plain": [
       "HBox(children=(HTML(value=''), FloatProgress(value=0.0, max=284.0), HTML(value='')))"
      ]
     },
     "metadata": {},
     "output_type": "display_data"
    },
    {
     "name": "stdout",
     "output_type": "stream",
     "text": [
      "\n"
     ]
    },
    {
     "data": {
      "application/vnd.jupyter.widget-view+json": {
       "model_id": "ca4810fd48564ede8fe422562d785935",
       "version_major": 2,
       "version_minor": 0
      },
      "text/plain": [
       "HBox(children=(HTML(value=''), FloatProgress(value=0.0, max=261.0), HTML(value='')))"
      ]
     },
     "metadata": {},
     "output_type": "display_data"
    },
    {
     "name": "stdout",
     "output_type": "stream",
     "text": [
      "\n"
     ]
    },
    {
     "data": {
      "application/vnd.jupyter.widget-view+json": {
       "model_id": "97715b569cea45e29d3278875af7179f",
       "version_major": 2,
       "version_minor": 0
      },
      "text/plain": [
       "HBox(children=(HTML(value=''), FloatProgress(value=0.0, max=301.0), HTML(value='')))"
      ]
     },
     "metadata": {},
     "output_type": "display_data"
    },
    {
     "name": "stdout",
     "output_type": "stream",
     "text": [
      "\n"
     ]
    },
    {
     "data": {
      "application/vnd.jupyter.widget-view+json": {
       "model_id": "8fad969e824c47109f53836eab055f01",
       "version_major": 2,
       "version_minor": 0
      },
      "text/plain": [
       "HBox(children=(HTML(value=''), FloatProgress(value=0.0, max=339.0), HTML(value='')))"
      ]
     },
     "metadata": {},
     "output_type": "display_data"
    },
    {
     "name": "stdout",
     "output_type": "stream",
     "text": [
      "\n"
     ]
    },
    {
     "data": {
      "application/vnd.jupyter.widget-view+json": {
       "model_id": "83e3c3773aad4ff9be64cd9756664a02",
       "version_major": 2,
       "version_minor": 0
      },
      "text/plain": [
       "HBox(children=(HTML(value=''), FloatProgress(value=0.0, max=269.0), HTML(value='')))"
      ]
     },
     "metadata": {},
     "output_type": "display_data"
    },
    {
     "name": "stdout",
     "output_type": "stream",
     "text": [
      "\n"
     ]
    },
    {
     "data": {
      "application/vnd.jupyter.widget-view+json": {
       "model_id": "5fb0bf88a23e438aa62abc1d429c6273",
       "version_major": 2,
       "version_minor": 0
      },
      "text/plain": [
       "HBox(children=(HTML(value=''), FloatProgress(value=0.0, max=298.0), HTML(value='')))"
      ]
     },
     "metadata": {},
     "output_type": "display_data"
    },
    {
     "name": "stdout",
     "output_type": "stream",
     "text": [
      "\n"
     ]
    },
    {
     "data": {
      "application/vnd.jupyter.widget-view+json": {
       "model_id": "b0e707191381446a91607cf01242f7e1",
       "version_major": 2,
       "version_minor": 0
      },
      "text/plain": [
       "HBox(children=(HTML(value=''), FloatProgress(value=0.0, max=331.0), HTML(value='')))"
      ]
     },
     "metadata": {},
     "output_type": "display_data"
    },
    {
     "name": "stdout",
     "output_type": "stream",
     "text": [
      "\n"
     ]
    },
    {
     "data": {
      "application/vnd.jupyter.widget-view+json": {
       "model_id": "27870ce84b42457aaa6177df4bb1ed4f",
       "version_major": 2,
       "version_minor": 0
      },
      "text/plain": [
       "HBox(children=(HTML(value=''), FloatProgress(value=0.0, max=282.0), HTML(value='')))"
      ]
     },
     "metadata": {},
     "output_type": "display_data"
    },
    {
     "name": "stdout",
     "output_type": "stream",
     "text": [
      "\n"
     ]
    },
    {
     "data": {
      "application/vnd.jupyter.widget-view+json": {
       "model_id": "16af3846dc804953aeecc311ec044b08",
       "version_major": 2,
       "version_minor": 0
      },
      "text/plain": [
       "HBox(children=(HTML(value=''), FloatProgress(value=0.0, max=277.0), HTML(value='')))"
      ]
     },
     "metadata": {},
     "output_type": "display_data"
    },
    {
     "name": "stdout",
     "output_type": "stream",
     "text": [
      "\n"
     ]
    },
    {
     "data": {
      "application/vnd.jupyter.widget-view+json": {
       "model_id": "e1e21c4b8a4c4f4da04c0ca576e381ea",
       "version_major": 2,
       "version_minor": 0
      },
      "text/plain": [
       "HBox(children=(HTML(value=''), FloatProgress(value=0.0, max=309.0), HTML(value='')))"
      ]
     },
     "metadata": {},
     "output_type": "display_data"
    },
    {
     "name": "stdout",
     "output_type": "stream",
     "text": [
      "\n"
     ]
    },
    {
     "data": {
      "application/vnd.jupyter.widget-view+json": {
       "model_id": "5c8c257f271244f99ae1fe3059cdc935",
       "version_major": 2,
       "version_minor": 0
      },
      "text/plain": [
       "HBox(children=(HTML(value=''), FloatProgress(value=0.0, max=334.0), HTML(value='')))"
      ]
     },
     "metadata": {},
     "output_type": "display_data"
    },
    {
     "name": "stdout",
     "output_type": "stream",
     "text": [
      "\n"
     ]
    },
    {
     "data": {
      "application/vnd.jupyter.widget-view+json": {
       "model_id": "1d7499b4f0af440fa9b5aa98e0f963bf",
       "version_major": 2,
       "version_minor": 0
      },
      "text/plain": [
       "HBox(children=(HTML(value=''), FloatProgress(value=0.0, max=272.0), HTML(value='')))"
      ]
     },
     "metadata": {},
     "output_type": "display_data"
    },
    {
     "name": "stdout",
     "output_type": "stream",
     "text": [
      "\n"
     ]
    },
    {
     "data": {
      "application/vnd.jupyter.widget-view+json": {
       "model_id": "728c5b89c3034286afdcf55fed3a144b",
       "version_major": 2,
       "version_minor": 0
      },
      "text/plain": [
       "HBox(children=(HTML(value=''), FloatProgress(value=0.0, max=286.0), HTML(value='')))"
      ]
     },
     "metadata": {},
     "output_type": "display_data"
    },
    {
     "name": "stdout",
     "output_type": "stream",
     "text": [
      "\n"
     ]
    },
    {
     "data": {
      "application/vnd.jupyter.widget-view+json": {
       "model_id": "1a71417e34ea45d7aa2be730c028ebae",
       "version_major": 2,
       "version_minor": 0
      },
      "text/plain": [
       "HBox(children=(HTML(value=''), FloatProgress(value=0.0, max=281.0), HTML(value='')))"
      ]
     },
     "metadata": {},
     "output_type": "display_data"
    },
    {
     "name": "stdout",
     "output_type": "stream",
     "text": [
      "\n"
     ]
    },
    {
     "data": {
      "application/vnd.jupyter.widget-view+json": {
       "model_id": "c5e3d81d5e0e4406815399d404a34e54",
       "version_major": 2,
       "version_minor": 0
      },
      "text/plain": [
       "HBox(children=(HTML(value=''), FloatProgress(value=0.0, max=294.0), HTML(value='')))"
      ]
     },
     "metadata": {},
     "output_type": "display_data"
    },
    {
     "name": "stdout",
     "output_type": "stream",
     "text": [
      "\n"
     ]
    },
    {
     "data": {
      "application/vnd.jupyter.widget-view+json": {
       "model_id": "c0233e866c694bd89fb7aed064b86a2d",
       "version_major": 2,
       "version_minor": 0
      },
      "text/plain": [
       "HBox(children=(HTML(value=''), FloatProgress(value=0.0, max=374.0), HTML(value='')))"
      ]
     },
     "metadata": {},
     "output_type": "display_data"
    },
    {
     "name": "stdout",
     "output_type": "stream",
     "text": [
      "\n"
     ]
    },
    {
     "data": {
      "application/vnd.jupyter.widget-view+json": {
       "model_id": "9314dfdeed464ea6b7343c374d96932d",
       "version_major": 2,
       "version_minor": 0
      },
      "text/plain": [
       "HBox(children=(HTML(value=''), FloatProgress(value=0.0, max=325.0), HTML(value='')))"
      ]
     },
     "metadata": {},
     "output_type": "display_data"
    },
    {
     "name": "stdout",
     "output_type": "stream",
     "text": [
      "\n"
     ]
    },
    {
     "data": {
      "application/vnd.jupyter.widget-view+json": {
       "model_id": "71e66edd042e4916bfba1f38df0e9a0b",
       "version_major": 2,
       "version_minor": 0
      },
      "text/plain": [
       "HBox(children=(HTML(value=''), FloatProgress(value=0.0, max=324.0), HTML(value='')))"
      ]
     },
     "metadata": {},
     "output_type": "display_data"
    },
    {
     "name": "stdout",
     "output_type": "stream",
     "text": [
      "\n"
     ]
    },
    {
     "data": {
      "application/vnd.jupyter.widget-view+json": {
       "model_id": "dd5fd31acca849a7996e1d235abd204e",
       "version_major": 2,
       "version_minor": 0
      },
      "text/plain": [
       "HBox(children=(HTML(value=''), FloatProgress(value=0.0, max=295.0), HTML(value='')))"
      ]
     },
     "metadata": {},
     "output_type": "display_data"
    },
    {
     "name": "stdout",
     "output_type": "stream",
     "text": [
      "\n"
     ]
    },
    {
     "data": {
      "application/vnd.jupyter.widget-view+json": {
       "model_id": "d9c1d07f1a284923a198900843dbd433",
       "version_major": 2,
       "version_minor": 0
      },
      "text/plain": [
       "HBox(children=(HTML(value=''), FloatProgress(value=0.0, max=359.0), HTML(value='')))"
      ]
     },
     "metadata": {},
     "output_type": "display_data"
    },
    {
     "name": "stdout",
     "output_type": "stream",
     "text": [
      "\n"
     ]
    },
    {
     "data": {
      "application/vnd.jupyter.widget-view+json": {
       "model_id": "3739eaed2a454c5399d54eca02129bc2",
       "version_major": 2,
       "version_minor": 0
      },
      "text/plain": [
       "HBox(children=(HTML(value=''), FloatProgress(value=0.0, max=313.0), HTML(value='')))"
      ]
     },
     "metadata": {},
     "output_type": "display_data"
    },
    {
     "name": "stdout",
     "output_type": "stream",
     "text": [
      "\n"
     ]
    },
    {
     "data": {
      "application/vnd.jupyter.widget-view+json": {
       "model_id": "6bb4324dc28e44b8a20d11de48748b1a",
       "version_major": 2,
       "version_minor": 0
      },
      "text/plain": [
       "HBox(children=(HTML(value=''), FloatProgress(value=0.0, max=303.0), HTML(value='')))"
      ]
     },
     "metadata": {},
     "output_type": "display_data"
    },
    {
     "name": "stdout",
     "output_type": "stream",
     "text": [
      "\n",
      "\n"
     ]
    }
   ],
   "source": [
    "SeasonDetails = pd.DataFrame()\n",
    "\n",
    "for CurrentLink in tqdm(GameList['Link']):\n",
    "    SourceData = pd.DataFrame.from_dict(requests.get(url='http://statsapi.web.nhl.com' + str(CurrentLink.strip(\" \"))).json()).to_dict()['liveData']['plays']['allPlays']\n",
    "    GameDetails = pd.DataFrame()\n",
    "    \n",
    "    for Play in tqdm(SourceData):\n",
    "        try:\n",
    "            Player1Name = dict(Play['players'][0])['player']['fullName']\n",
    "            Player1ID = dict(Play['players'][0])['player']['id']\n",
    "        except:\n",
    "            Player1Name = \"\" \n",
    "            Player1ID = \"\"\n",
    "        try:\n",
    "            Player2Name = dict(Play['players'][1])['player']['fullName']\n",
    "            Player2ID = dict(Play['players'][1])['player']['id']\n",
    "        except:\n",
    "            Player2Name = \"\"\n",
    "            Player2ID = \"\"\n",
    "        try:\n",
    "            Player3Name = dict(Play['players'][2])['player']['fullName']\n",
    "            Player3ID = dict(Play['players'][2])['player']['id']\n",
    "        except:\n",
    "            Player3Name = \"\"\n",
    "            Player3ID = \"\"\n",
    "        try:\n",
    "            Player4Name = dict(Play['players'][3])['player']['fullName']\n",
    "            Player4ID = dict(Play['players'][3])['player']['id']\n",
    "        except:\n",
    "            Player4Name = \"\"\n",
    "            Player4ID = \"\"\n",
    "\n",
    "        try:\n",
    "            x = dict(Play['coordinates'])['x']\n",
    "            y = dict(Play['coordinates'])['y']\n",
    "        except:\n",
    "            x = \"\"\n",
    "            y = \"\"\n",
    "\n",
    "        CurrentPlay = StringIO(\"\"\"Event;EventID;Description;P1Name;P1ID;P2Name;P2ID;P3Name;P3ID;P4Name;P4ID;X;Y;Period;TimeRem;PeriodType\n",
    "        \"\"\" +\n",
    "                               str(Play['result']['event']) + \";\" +\n",
    "                               str(Play['result']['eventTypeId']) + \";\" +\n",
    "                               str(Play['result']['description']) + \";\" +\n",
    "                               str(Player1Name) + \";\" +    \n",
    "                               str(Player1ID) + \";\" +\n",
    "                               str(Player2Name) + \";\" +\n",
    "                               str(Player2ID) + \";\" +\n",
    "                               str(Player3Name) + \";\" +\n",
    "                               str(Player3ID) + \";\" +\n",
    "                               str(Player4Name) + \";\" +\n",
    "                               str(Player4ID) + \";\" +\n",
    "                               str(x) + \";\" +\n",
    "                               str(y) + \";\" +\n",
    "                               str(Play['about']['period']) + \";\" +\n",
    "                               str(Play['about']['periodTimeRemaining']) + \";\" +\n",
    "                               str(Play['about']['periodType']))\n",
    "        CurrentPlay = pd.read_csv(CurrentPlay, sep = \";\")\n",
    "        \n",
    "        GameDetails = GameDetails.append(CurrentPlay, ignore_index=True)\n",
    "    SeasonDetails = SeasonDetails.append(GameDetails, ignore_index=True)"
   ]
  },
  {
   "cell_type": "markdown",
   "metadata": {},
   "source": [
    "## Break Events into Classes"
   ]
  },
  {
   "cell_type": "code",
   "execution_count": 12,
   "metadata": {},
   "outputs": [
    {
     "name": "stdout",
     "output_type": "stream",
     "text": [
      "               Event EventID  \\\n",
      "68              Goal    GOAL   \n",
      "88              Goal    GOAL   \n",
      "133             Goal    GOAL   \n",
      "146             Goal    GOAL   \n",
      "176             Goal    GOAL   \n",
      "...              ...     ...   \n",
      "347946          Goal    GOAL   \n",
      "347977          Goal    GOAL   \n",
      "348145          Goal    GOAL   \n",
      "348171          Goal    GOAL   \n",
      "348201          Goal    GOAL   \n",
      "\n",
      "                                              Description          P1Name  \\\n",
      "68      Nikita Gusev (1) Snap Shot, assists: Jesper Br...    Nikita Gusev   \n",
      "88      Blake Coleman (1) Snap Shot, assists: Wayne Si...   Blake Coleman   \n",
      "133     Sami Vatanen (1) Slap Shot, assists: Kyle Palm...    Sami Vatanen   \n",
      "146     Blake Coleman (2) Wrist Shot, assists: P.K. Su...   Blake Coleman   \n",
      "176     Dmitry Kulikov (1) Slap Shot, assists: Nikolaj...  Dmitry Kulikov   \n",
      "...                                                   ...             ...   \n",
      "347946  Reilly Smith (1) Slap Shot, assists: William K...    Reilly Smith   \n",
      "347977  Reilly Smith (2) Snap Shot, assists: Nick Cous...    Reilly Smith   \n",
      "348145  Taylor Hall (1) Slap Shot, assists: Christian ...     Taylor Hall   \n",
      "348171  Alex Tuch (1) Wrist Shot, assists: Nick Cousin...       Alex Tuch   \n",
      "348201  Nick Cousins (1) Wrist Shot, assists: Nicolas ...    Nick Cousins   \n",
      "\n",
      "             P1ID            P2Name       P2ID                P3Name  \\\n",
      "68      8477038.0      Jesper Bratt  8479407.0      Laurent Brossoit   \n",
      "88      8476399.0    Wayne Simmonds  8474190.0          Travis Zajac   \n",
      "133     8475222.0     Kyle Palmieri  8475151.0           Taylor Hall   \n",
      "146     8476399.0       P.K. Subban  8474056.0           Pavel Zacha   \n",
      "176     8475179.0    Nikolaj Ehlers  8477940.0        Mark Scheifele   \n",
      "...           ...               ...        ...                   ...   \n",
      "347946  8475191.0  William Karlsson  8476448.0         Darcy Kuemper   \n",
      "347977  8475191.0      Nick Cousins  8476393.0             Alex Tuch   \n",
      "348145  8475791.0  Christian Dvorak  8477989.0  Oliver Ekman-Larsson   \n",
      "348171  8477949.0      Nick Cousins  8476393.0           Nicolas Roy   \n",
      "348201  8476393.0       Nicolas Roy  8478462.0                   NaN   \n",
      "\n",
      "             P3ID             P4Name       P4ID     X     Y  Period TimeRem  \\\n",
      "68      8476316.0                NaN        NaN  78.0   1.0       1   02:00   \n",
      "88      8471233.0   Laurent Brossoit  8476316.0 -71.0  -3.0       2   18:18   \n",
      "133     8475791.0   Laurent Brossoit  8476316.0 -32.0  18.0       2   07:26   \n",
      "146     8478401.0   Laurent Brossoit  8476316.0 -74.0 -10.0       2   06:08   \n",
      "176     8476460.0     Cory Schneider  8471239.0  34.0  12.0       2   00:11   \n",
      "...           ...                ...        ...   ...   ...     ...     ...   \n",
      "347946  8475311.0                NaN        NaN  73.0 -13.0       1   11:18   \n",
      "347977  8477949.0      Darcy Kuemper  8475311.0  55.0  20.0       1   03:37   \n",
      "348145  8475171.0  Marc-Andre Fleury  8470594.0 -86.0   4.0       3   10:46   \n",
      "348171  8478462.0       Antti Raanta  8477293.0  84.0 -18.0       3   06:13   \n",
      "348201        NaN                NaN        NaN -33.0 -13.0       3   00:13   \n",
      "\n",
      "       PeriodType  \n",
      "68        REGULAR  \n",
      "88        REGULAR  \n",
      "133       REGULAR  \n",
      "146       REGULAR  \n",
      "176       REGULAR  \n",
      "...           ...  \n",
      "347946    REGULAR  \n",
      "347977    REGULAR  \n",
      "348145    REGULAR  \n",
      "348171    REGULAR  \n",
      "348201    REGULAR  \n",
      "\n",
      "[6731 rows x 16 columns]\n",
      "              Event EventID                       Description  \\\n",
      "7               Hit     HIT   P.K. Subban hit Gabriel Bourque   \n",
      "13              Hit     HIT         Miles Wood hit Neal Pionk   \n",
      "17              Hit     HIT      Sami Vatanen hit Andrew Copp   \n",
      "18              Hit     HIT      Blake Coleman hit Neal Pionk   \n",
      "21              Hit     HIT        John Hayden hit Adam Lowry   \n",
      "...             ...     ...                               ...   \n",
      "348173          Hit     HIT    Nick Cousins hit Lawson Crouse   \n",
      "348174          Hit     HIT  Nick Cousins hit Jordan Oesterle   \n",
      "348184          Hit     HIT   Brayden McNabb hit Derek Stepan   \n",
      "348199          Hit     HIT    Brayden McNabb hit Phil Kessel   \n",
      "348200          Hit     HIT  Jordan Oesterle hit Nick Cousins   \n",
      "\n",
      "                 P1Name       P1ID           P2Name       P2ID P3Name  P3ID  \\\n",
      "7           P.K. Subban  8474056.0  Gabriel Bourque  8475268.0    NaN   NaN   \n",
      "13           Miles Wood  8477425.0       Neal Pionk  8480145.0    NaN   NaN   \n",
      "17         Sami Vatanen  8475222.0      Andrew Copp  8477429.0    NaN   NaN   \n",
      "18        Blake Coleman  8476399.0       Neal Pionk  8480145.0    NaN   NaN   \n",
      "21          John Hayden  8477401.0       Adam Lowry  8476392.0    NaN   NaN   \n",
      "...                 ...        ...              ...        ...    ...   ...   \n",
      "348173     Nick Cousins  8476393.0    Lawson Crouse  8478474.0    NaN   NaN   \n",
      "348174     Nick Cousins  8476393.0  Jordan Oesterle  8477851.0    NaN   NaN   \n",
      "348184   Brayden McNabb  8475188.0     Derek Stepan  8474613.0    NaN   NaN   \n",
      "348199   Brayden McNabb  8475188.0      Phil Kessel  8473548.0    NaN   NaN   \n",
      "348200  Jordan Oesterle  8477851.0     Nick Cousins  8476393.0    NaN   NaN   \n",
      "\n",
      "       P4Name  P4ID     X     Y  Period TimeRem PeriodType  \n",
      "7         NaN   NaN -80.0 -33.0       1   19:26    REGULAR  \n",
      "13        NaN   NaN  85.0  38.0       1   16:00    REGULAR  \n",
      "17        NaN   NaN -58.0 -36.0       1   15:07    REGULAR  \n",
      "18        NaN   NaN  96.0 -32.0       1   14:22    REGULAR  \n",
      "21        NaN   NaN  52.0 -37.0       1   13:22    REGULAR  \n",
      "...       ...   ...   ...   ...     ...     ...        ...  \n",
      "348173    NaN   NaN  83.0 -35.0       3   05:53    REGULAR  \n",
      "348174    NaN   NaN  95.0  -5.0       3   05:44    REGULAR  \n",
      "348184    NaN   NaN -98.0 -19.0       3   02:37    REGULAR  \n",
      "348199    NaN   NaN -36.0  36.0       3   00:54    REGULAR  \n",
      "348200    NaN   NaN  93.0  16.0       3   00:31    REGULAR  \n",
      "\n",
      "[47754 rows x 16 columns]\n",
      "                      Event      EventID                 Description  \\\n",
      "16              Missed Shot  MISSED_SHOT    Nikita Gusev Wide of Net   \n",
      "19              Missed Shot  MISSED_SHOT     Andy Greene Wide of Net   \n",
      "29              Missed Shot  MISSED_SHOT     P.K. Subban Wide of Net   \n",
      "56              Missed Shot  MISSED_SHOT   Blake Wheeler Wide of Net   \n",
      "57              Missed Shot  MISSED_SHOT  Josh Morrissey Wide of Net   \n",
      "...                     ...          ...                         ...   \n",
      "348175          Missed Shot  MISSED_SHOT   Conor Garland Wide of Net   \n",
      "348180          Missed Shot  MISSED_SHOT  Carl Soderberg Wide of Net   \n",
      "348183          Missed Shot  MISSED_SHOT   Lawson Crouse Wide of Net   \n",
      "348191          Missed Shot  MISSED_SHOT     Phil Kessel Wide of Net   \n",
      "348194          Missed Shot  MISSED_SHOT        Ryan Reaves Goalpost   \n",
      "\n",
      "                P1Name       P1ID P2Name  P2ID P3Name  P3ID P4Name  P4ID  \\\n",
      "16        Nikita Gusev  8477038.0    NaN   NaN    NaN   NaN    NaN   NaN   \n",
      "19         Andy Greene  8472382.0    NaN   NaN    NaN   NaN    NaN   NaN   \n",
      "29         P.K. Subban  8474056.0    NaN   NaN    NaN   NaN    NaN   NaN   \n",
      "56       Blake Wheeler  8471218.0    NaN   NaN    NaN   NaN    NaN   NaN   \n",
      "57      Josh Morrissey  8477504.0    NaN   NaN    NaN   NaN    NaN   NaN   \n",
      "...                ...        ...    ...   ...    ...   ...    ...   ...   \n",
      "348175   Conor Garland  8478856.0    NaN   NaN    NaN   NaN    NaN   NaN   \n",
      "348180  Carl Soderberg  8471262.0    NaN   NaN    NaN   NaN    NaN   NaN   \n",
      "348183   Lawson Crouse  8478474.0    NaN   NaN    NaN   NaN    NaN   NaN   \n",
      "348191     Phil Kessel  8473548.0    NaN   NaN    NaN   NaN    NaN   NaN   \n",
      "348194     Ryan Reaves  8471817.0    NaN   NaN    NaN   NaN    NaN   NaN   \n",
      "\n",
      "           X     Y  Period TimeRem PeriodType  \n",
      "16      44.0  -9.0       1   15:37    REGULAR  \n",
      "19      30.0  37.0       1   14:14    REGULAR  \n",
      "29      34.0  -4.0       1   12:14    REGULAR  \n",
      "56     -56.0  16.0       1   05:11    REGULAR  \n",
      "57     -42.0 -18.0       1   04:55    REGULAR  \n",
      "...      ...   ...     ...     ...        ...  \n",
      "348175 -84.0 -18.0       3   05:25    REGULAR  \n",
      "348180 -71.0  18.0       3   04:17    REGULAR  \n",
      "348183 -53.0  -8.0       3   02:56    REGULAR  \n",
      "348191 -85.0   0.0       3   02:10    REGULAR  \n",
      "348194  18.0 -19.0       3   01:29    REGULAR  \n",
      "\n",
      "[25641 rows x 16 columns]\n",
      "               Event EventID  \\\n",
      "6               Shot    SHOT   \n",
      "10              Shot    SHOT   \n",
      "14              Shot    SHOT   \n",
      "15              Shot    SHOT   \n",
      "20              Shot    SHOT   \n",
      "...              ...     ...   \n",
      "348167          Shot    SHOT   \n",
      "348176          Shot    SHOT   \n",
      "348179          Shot    SHOT   \n",
      "348185          Shot    SHOT   \n",
      "348190          Shot    SHOT   \n",
      "\n",
      "                                              Description             P1Name  \\\n",
      "6       Gabriel Bourque Snap Shot saved by Cory Schneider    Gabriel Bourque   \n",
      "10        Pavel Zacha Snap Shot saved by Laurent Brossoit        Pavel Zacha   \n",
      "14      Mathieu Perreault Wrist Shot saved by Cory Sch...  Mathieu Perreault   \n",
      "15      Mason Appleton Wrist Shot saved by Cory Schneider     Mason Appleton   \n",
      "20         Miles Wood Snap Shot saved by Laurent Brossoit         Miles Wood   \n",
      "...                                                   ...                ...   \n",
      "348167      Shea Theodore Snap Shot saved by Antti Raanta      Shea Theodore   \n",
      "348176         Ryan Reaves Backhand saved by Antti Raanta        Ryan Reaves   \n",
      "348179         Alec Martinez Tip-In saved by Antti Raanta      Alec Martinez   \n",
      "348185  Derek Stepan Deflected saved by Marc-Andre Fleury       Derek Stepan   \n",
      "348190  Christian Dvorak Wrist Shot saved by Marc-Andr...   Christian Dvorak   \n",
      "\n",
      "             P1ID             P2Name       P2ID P3Name  P3ID P4Name  P4ID  \\\n",
      "6       8475268.0     Cory Schneider  8471239.0    NaN   NaN    NaN   NaN   \n",
      "10      8478401.0   Laurent Brossoit  8476316.0    NaN   NaN    NaN   NaN   \n",
      "14      8473618.0     Cory Schneider  8471239.0    NaN   NaN    NaN   NaN   \n",
      "15      8478891.0     Cory Schneider  8471239.0    NaN   NaN    NaN   NaN   \n",
      "20      8477425.0   Laurent Brossoit  8476316.0    NaN   NaN    NaN   NaN   \n",
      "...           ...                ...        ...    ...   ...    ...   ...   \n",
      "348167  8477447.0       Antti Raanta  8477293.0    NaN   NaN    NaN   NaN   \n",
      "348176  8471817.0       Antti Raanta  8477293.0    NaN   NaN    NaN   NaN   \n",
      "348179  8474166.0       Antti Raanta  8477293.0    NaN   NaN    NaN   NaN   \n",
      "348185  8474613.0  Marc-Andre Fleury  8470594.0    NaN   NaN    NaN   NaN   \n",
      "348190  8477989.0  Marc-Andre Fleury  8470594.0    NaN   NaN    NaN   NaN   \n",
      "\n",
      "           X     Y  Period TimeRem PeriodType  \n",
      "6      -48.0 -22.0       1   19:31    REGULAR  \n",
      "10      86.0  -6.0       1   18:15    REGULAR  \n",
      "14     -66.0  11.0       1   15:49    REGULAR  \n",
      "15     -54.0   4.0       1   15:46    REGULAR  \n",
      "20      52.0  36.0       1   13:29    REGULAR  \n",
      "...      ...   ...     ...     ...        ...  \n",
      "348167  32.0  16.0       3   06:51    REGULAR  \n",
      "348176  82.0   2.0       3   05:07    REGULAR  \n",
      "348179  80.0   2.0       3   04:28    REGULAR  \n",
      "348185 -84.0  -2.0       3   02:31    REGULAR  \n",
      "348190 -82.0   4.0       3   02:13    REGULAR  \n",
      "\n",
      "[62751 rows x 16 columns]\n",
      "                  Event  EventID  \\\n",
      "8               Penalty  PENALTY   \n",
      "25              Penalty  PENALTY   \n",
      "53              Penalty  PENALTY   \n",
      "158             Penalty  PENALTY   \n",
      "324             Penalty  PENALTY   \n",
      "...                 ...      ...   \n",
      "348044          Penalty  PENALTY   \n",
      "348064          Penalty  PENALTY   \n",
      "348123          Penalty  PENALTY   \n",
      "348139          Penalty  PENALTY   \n",
      "348154          Penalty  PENALTY   \n",
      "\n",
      "                                              Description  \\\n",
      "8            Travis Zajac Slashing against Nikolaj Ehlers   \n",
      "25           Too many men/ice served by Mathieu Perreault   \n",
      "53       Miles Wood Cross checking against Tucker Poolman   \n",
      "158               Andrew Copp Tripping against Miles Wood   \n",
      "324              Will Butcher Holding against Jack Eichel   \n",
      "...                                                   ...   \n",
      "348044   Niklas Hjalmarsson Slashing against Nate Schmidt   \n",
      "348064      Zach Whitecloud Holding against Nick Schmaltz   \n",
      "348123  Oliver Ekman-Larsson Slashing against Nate Sch...   \n",
      "348139   Tomas Nosek Cross checking against Conor Garland   \n",
      "348154      Shea Theodore Slashing against Clayton Keller   \n",
      "\n",
      "                      P1Name       P1ID          P2Name       P2ID P3Name  \\\n",
      "8               Travis Zajac  8471233.0  Nikolaj Ehlers  8477940.0    NaN   \n",
      "25         Mathieu Perreault  8473618.0             NaN        NaN    NaN   \n",
      "53                Miles Wood  8477425.0  Tucker Poolman  8477359.0    NaN   \n",
      "158              Andrew Copp  8477429.0      Miles Wood  8477425.0    NaN   \n",
      "324             Will Butcher  8477355.0     Jack Eichel  8478403.0    NaN   \n",
      "...                      ...        ...             ...        ...    ...   \n",
      "348044    Niklas Hjalmarsson  8471769.0    Nate Schmidt  8477220.0    NaN   \n",
      "348064       Zach Whitecloud  8480727.0   Nick Schmaltz  8477951.0    NaN   \n",
      "348123  Oliver Ekman-Larsson  8475171.0    Nate Schmidt  8477220.0    NaN   \n",
      "348139           Tomas Nosek  8477931.0   Conor Garland  8478856.0    NaN   \n",
      "348154         Shea Theodore  8477447.0  Clayton Keller  8479343.0    NaN   \n",
      "\n",
      "        P3ID P4Name  P4ID     X     Y  Period TimeRem PeriodType  \n",
      "8        NaN    NaN   NaN -51.0 -12.0       1   18:43    REGULAR  \n",
      "25       NaN    NaN   NaN  -2.0 -24.0       1   12:34    REGULAR  \n",
      "53       NaN    NaN   NaN  -7.0  40.0       1   05:24    REGULAR  \n",
      "158      NaN    NaN   NaN -35.0 -14.0       2   03:01    REGULAR  \n",
      "324      NaN    NaN   NaN  76.0 -40.0       1   18:25    REGULAR  \n",
      "...      ...    ...   ...   ...   ...     ...     ...        ...  \n",
      "348044   NaN    NaN   NaN -55.0  14.0       2   11:52    REGULAR  \n",
      "348064   NaN    NaN   NaN  74.0  35.0       2   06:46    REGULAR  \n",
      "348123   NaN    NaN   NaN -71.0 -10.0       3   15:57    REGULAR  \n",
      "348139   NaN    NaN   NaN -18.0  39.0       3   11:51    REGULAR  \n",
      "348154   NaN    NaN   NaN -73.0 -13.0       3   09:41    REGULAR  \n",
      "\n",
      "[7984 rows x 16 columns]\n",
      "['GAME_SCHEDULED' 'PERIOD_READY' 'PERIOD_START' 'FACEOFF' 'STOP' 'SHOT'\n",
      " 'HIT' 'PENALTY' 'GIVEAWAY' 'MISSED_SHOT' 'BLOCKED_SHOT' 'TAKEAWAY' 'GOAL'\n",
      " 'PERIOD_END' 'PERIOD_OFFICIAL' 'SHOOTOUT_COMPLETE' 'GAME_END'\n",
      " 'GAME_OFFICIAL' 'CHALLENGE' 'EARLY_INT_START' 'EARLY_INT_END'\n",
      " 'EMERGENCY_GOALTENDER']\n"
     ]
    }
   ],
   "source": [
    "Goals = SeasonDetails.loc[SeasonDetails['EventID'] == 'GOAL']\n",
    "Hits = SeasonDetails.loc[SeasonDetails['EventID'] == 'HIT']\n",
    "Missed_Shots = SeasonDetails.loc[SeasonDetails['EventID'] == 'MISSED_SHOT']\n",
    "Shots = SeasonDetails.loc[SeasonDetails['EventID'] == 'SHOT']\n",
    "Penalties = SeasonDetails.loc[SeasonDetails['EventID'] == 'PENALTY']\n",
    "\n",
    "print(Goals)\n",
    "print(Hits)\n",
    "print(Missed_Shots)\n",
    "print(Shots)\n",
    "print(Penalties)\n",
    "\n",
    "print(SeasonDetails.EventID.unique())"
   ]
  },
  {
   "cell_type": "code",
   "execution_count": 13,
   "metadata": {},
   "outputs": [
    {
     "name": "stdout",
     "output_type": "stream",
     "text": [
      "               Event EventID  \\\n",
      "4090            Goal    GOAL   \n",
      "55975           Goal    GOAL   \n",
      "88276           Goal    GOAL   \n",
      "118871          Goal    GOAL   \n",
      "118880          Goal    GOAL   \n",
      "127411          Goal    GOAL   \n",
      "199521          Goal    GOAL   \n",
      "220623          Goal    GOAL   \n",
      "239753          Goal    GOAL   \n",
      "254521          Goal    GOAL   \n",
      "276895          Goal    GOAL   \n",
      "276943          Goal    GOAL   \n",
      "280400          Goal    GOAL   \n",
      "280814          Goal    GOAL   \n",
      "281692          Goal    GOAL   \n",
      "283302          Goal    GOAL   \n",
      "284226          Goal    GOAL   \n",
      "285451          Goal    GOAL   \n",
      "285920          Goal    GOAL   \n",
      "286117          Goal    GOAL   \n",
      "286427          Goal    GOAL   \n",
      "286985          Goal    GOAL   \n",
      "288902          Goal    GOAL   \n",
      "289809          Goal    GOAL   \n",
      "291089          Goal    GOAL   \n",
      "\n",
      "                                              Description        P1Name  \\\n",
      "4090    Sean Monahan (4) Wrist Shot, assists: Noah Han...  Sean Monahan   \n",
      "55975   Sean Monahan (14) Snap Shot, assists: Noah Han...  Sean Monahan   \n",
      "88276   Sean Monahan (6) Wrist Shot, assists: Matthew ...  Sean Monahan   \n",
      "118871  Sean Monahan (20) Snap Shot, assists: Johnny G...  Sean Monahan   \n",
      "118880  Sean Monahan (21) Deflected, assists: Matthew ...  Sean Monahan   \n",
      "127411  Sean Monahan (7) Snap Shot, assists: Mikael Ba...  Sean Monahan   \n",
      "199521                          Sean Monahan - Wrist Shot  Sean Monahan   \n",
      "220623  Sean Monahan (22) Wrist Shot, assists: Elias L...  Sean Monahan   \n",
      "239753  Sean Monahan (13) Wrist Shot, assists: Matthew...  Sean Monahan   \n",
      "254521  Sean Monahan (19) Wrist Shot, assists: Elias L...  Sean Monahan   \n",
      "276895  Sean Monahan (15) Wrist Shot, assists: Johnny ...  Sean Monahan   \n",
      "276943  Sean Monahan (16) Wrist Shot, assists: Johnny ...  Sean Monahan   \n",
      "280400  Sean Monahan (1) Tip-In, assists: Johnny Gaudr...  Sean Monahan   \n",
      "280814  Sean Monahan (2) Snap Shot, assists: Johnny Ga...  Sean Monahan   \n",
      "281692                          Sean Monahan - Wrist Shot  Sean Monahan   \n",
      "283302  Sean Monahan (3) Snap Shot, assists: Elias Lin...  Sean Monahan   \n",
      "284226  Sean Monahan (5) Backhand, assists: Matthew Tk...  Sean Monahan   \n",
      "285451  Sean Monahan (8) Wrist Shot, assists: Johnny G...  Sean Monahan   \n",
      "285920  Sean Monahan (9) Wrist Shot, assists: Dillon D...  Sean Monahan   \n",
      "286117  Sean Monahan (10) Wrist Shot, assists: Mikael ...  Sean Monahan   \n",
      "286427  Sean Monahan (11) Snap Shot, assists: Matthew ...  Sean Monahan   \n",
      "286985  Sean Monahan (12) Snap Shot, assists: Johnny G...  Sean Monahan   \n",
      "288902                          Sean Monahan - Wrist Shot  Sean Monahan   \n",
      "289809  Sean Monahan (17) Snap Shot, assists: Johnny G...  Sean Monahan   \n",
      "291089        Sean Monahan (18) Wrist Shot, assists: none  Sean Monahan   \n",
      "\n",
      "             P1ID            P2Name       P2ID            P3Name       P3ID  \\\n",
      "4090    8477497.0      Noah Hanifin  8478396.0   Johnny Gaudreau  8476346.0   \n",
      "55975   8477497.0      Noah Hanifin  8478396.0   Johnny Gaudreau  8476346.0   \n",
      "88276   8477497.0   Matthew Tkachuk  8479314.0   Johnny Gaudreau  8476346.0   \n",
      "118871  8477497.0   Johnny Gaudreau  8476346.0     Michael Stone  8474628.0   \n",
      "118880  8477497.0   Matthew Tkachuk  8479314.0   Erik Gustafsson  8476979.0   \n",
      "127411  8477497.0   Mikael Backlund  8474150.0  Rasmus Andersson  8478397.0   \n",
      "199521  8477497.0  Sergei Bobrovsky  8475683.0               NaN        NaN   \n",
      "220623  8477497.0    Elias Lindholm  8477496.0   Matthew Tkachuk  8479314.0   \n",
      "239753  8477497.0   Matthew Tkachuk  8479314.0   Johnny Gaudreau  8476346.0   \n",
      "254521  8477497.0    Elias Lindholm  8477496.0  Jonathan Bernier  8473541.0   \n",
      "276895  8477497.0   Johnny Gaudreau  8476346.0     Mark Giordano  8470966.0   \n",
      "276943  8477497.0   Johnny Gaudreau  8476346.0   Matthew Tkachuk  8479314.0   \n",
      "280400  8477497.0   Johnny Gaudreau  8476346.0    Elias Lindholm  8477496.0   \n",
      "280814  8477497.0   Johnny Gaudreau  8476346.0     Mark Giordano  8470966.0   \n",
      "281692  8477497.0        Ben Bishop  8471750.0               NaN        NaN   \n",
      "283302  8477497.0    Elias Lindholm  8477496.0   Johnny Gaudreau  8476346.0   \n",
      "284226  8477497.0   Matthew Tkachuk  8479314.0   Johnny Gaudreau  8476346.0   \n",
      "285451  8477497.0   Johnny Gaudreau  8476346.0     Jack Campbell  8475789.0   \n",
      "285920  8477497.0       Dillon Dube  8479346.0     Mark Giordano  8470966.0   \n",
      "286117  8477497.0   Mikael Backlund  8474150.0    Travis Hamonic  8474612.0   \n",
      "286427  8477497.0   Matthew Tkachuk  8479314.0    Elias Lindholm  8477496.0   \n",
      "286985  8477497.0   Johnny Gaudreau  8476346.0         TJ Brodie  8474673.0   \n",
      "288902  8477497.0        Mike Smith  8469608.0               NaN        NaN   \n",
      "289809  8477497.0   Johnny Gaudreau  8476346.0    Elias Lindholm  8477496.0   \n",
      "291089  8477497.0       Ryan Miller  8468011.0               NaN        NaN   \n",
      "\n",
      "                     P4Name       P4ID     X     Y  Period TimeRem PeriodType  \n",
      "4090    Mackenzie Blackwood  8478406.0  81.0  -4.0       2   10:03    REGULAR  \n",
      "55975      Henrik Lundqvist  8468685.0  69.0   0.0       2   11:38    REGULAR  \n",
      "88276         Tristan Jarry  8477465.0  75.0   4.0       2   04:51    REGULAR  \n",
      "118871          Tuukka Rask  8471695.0  69.0   3.0       2   06:35    REGULAR  \n",
      "118880          Tuukka Rask  8471695.0  69.0   3.0       2   05:23    REGULAR  \n",
      "127411        Linus Ullmark  8476999.0  78.0 -17.0       2   04:58    REGULAR  \n",
      "199521                  NaN        NaN -75.0  -2.0       5   00:00   SHOOTOUT  \n",
      "220623   Andrei Vasilevskiy  8476883.0 -79.0   2.0       3   02:49    REGULAR  \n",
      "239753         Robin Lehner  8475215.0 -83.0  -7.0       3   03:12    REGULAR  \n",
      "254521                  NaN        NaN  84.0   5.0       1   11:57    REGULAR  \n",
      "276895    Jordan Binnington  8476412.0 -60.0  -2.0       1   04:17    REGULAR  \n",
      "276943    Jordan Binnington  8476412.0  68.0   8.0       2   15:20    REGULAR  \n",
      "280400     Philipp Grubauer  8475831.0  78.0  25.0       1   11:27    REGULAR  \n",
      "280814      Jacob Markstrom  8474593.0  74.0   3.0       2   18:50    REGULAR  \n",
      "281692                  NaN        NaN  67.0   3.0       5   00:00   SHOOTOUT  \n",
      "283302     Joonas Korpisalo  8476914.0 -54.0   0.0       1   16:16    REGULAR  \n",
      "284226           Ben Bishop  8471750.0 -83.0  -4.0       3   10:03    REGULAR  \n",
      "285451                  NaN        NaN  69.0  -1.0       2   08:14    REGULAR  \n",
      "285920       Pavel Francouz  8480925.0 -76.0  -6.0       4   02:51   OVERTIME  \n",
      "286117         Antti Raanta  8477293.0  66.0   9.0       2   05:42    REGULAR  \n",
      "286427           Ben Bishop  8471750.0 -75.0   1.0       2   05:39    REGULAR  \n",
      "286985       Mikko Koskinen  8475156.0  73.0   8.0       2   18:52    REGULAR  \n",
      "288902                  NaN        NaN -71.0   0.0       5   00:00   SHOOTOUT  \n",
      "289809      Jacob Markstrom  8474593.0  83.0 -14.0       3   03:59    REGULAR  \n",
      "291089                  NaN        NaN -79.0  -2.0       3   05:57    REGULAR  \n"
     ]
    }
   ],
   "source": [
    "MonahanGoals = Goals.loc[Goals['P1Name'] == \"Sean Monahan\"]\n",
    "print(MonahanGoals)"
   ]
  },
  {
   "cell_type": "code",
   "execution_count": 19,
   "metadata": {},
   "outputs": [
    {
     "name": "stderr",
     "output_type": "stream",
     "text": [
      "C:\\Users\\brett\\anaconda3\\envs\\NHLStatistics\\lib\\site-packages\\pandas\\core\\generic.py:2434: PerformanceWarning: \n",
      "your performance may suffer as PyTables will pickle object types that it cannot\n",
      "map directly to c-types [inferred_type->mixed,key->block2_values] [items->Index(['Position', 'FullName', 'Link', 'FirstName', 'LastName', 'BirthDate',\n",
      "       'BirthCity', 'BirthProvState', 'BirthCountry', 'Nationality', 'Height',\n",
      "       'ShootsCatches', 'RosterStatus'],\n",
      "      dtype='object')]\n",
      "\n",
      "  pytables.to_hdf(\n"
     ]
    }
   ],
   "source": [
    "Goals.to_hdf(\"Goals.h5\", key = 'Goals')\n",
    "Hits.to_hdf(\"Hits.h5\", key = \"Hits\")\n",
    "Missed_Shots.to_hdf(\"Missed.h5\", key = \"Missed_Shots\")\n",
    "Shots.to_hdf(\"Shots.h5\", key = \"Shots\")\n",
    "Penalties.to_hdf(\"Penalties.h5\", key = \"Penalties\")\n",
    "\n",
    "SeasonDetails.to_hdf(\"AllSeasonDetails.h5\", key = \"SeasonDetails\")\n",
    "SkaterStatistics.to_hdf(\"SkaterStats.h5\", key = \"SkaterStatistics\")\n",
    "GoalieStatistics.to_hdf(\"GoalieStats.h5\", key = \"GoalieStatistics\")\n",
    "FullRoster.to_hdf(\"NHLRoster.h5\", key = \"FullRoster\")\n",
    "PlayerDetails.to_hdf(\"PlayerDetails.h5\", key = \"PlayerDetails\")"
   ]
  },
  {
   "cell_type": "code",
   "execution_count": 25,
   "metadata": {},
   "outputs": [
    {
     "name": "stdout",
     "output_type": "stream",
     "text": [
      "{'team': {'id': 15, 'name': 'Washington Capitals', 'link': '/api/v1/teams/15'}, 'leagueRecord': {'wins': 41, 'losses': 20, 'ot': 8, 'type': 'league'}, 'regulationWins': 31, 'goalsAgainst': 215, 'goalsScored': 240, 'points': 90, 'divisionRank': '1', 'divisionL10Rank': '5', 'divisionRoadRank': '1', 'divisionHomeRank': '4', 'conferenceRank': '3', 'conferenceL10Rank': '7', 'conferenceRoadRank': '1', 'conferenceHomeRank': '8', 'leagueRank': '5', 'leagueL10Rank': '18', 'leagueRoadRank': '1', 'leagueHomeRank': '12', 'wildCardRank': '0', 'row': 37, 'gamesPlayed': 69, 'streak': {'streakType': 'ot', 'streakNumber': 1, 'streakCode': 'OT1'}, 'pointsPercentage': 0.6521739130434783, 'ppDivisionRank': '1', 'ppConferenceRank': '3', 'ppLeagueRank': '5', 'lastUpdated': '2020-09-28T23:18:38Z'}\n"
     ]
    },
    {
     "ename": "NameError",
     "evalue": "name 'Play' is not defined",
     "output_type": "error",
     "traceback": [
      "\u001b[1;31m---------------------------------------------------------------------------\u001b[0m",
      "\u001b[1;31mNameError\u001b[0m                                 Traceback (most recent call last)",
      "\u001b[1;32m<ipython-input-25-c9a45dd7ec92>\u001b[0m in \u001b[0;36m<module>\u001b[1;34m\u001b[0m\n\u001b[0;32m     22\u001b[0m         CurrentTeam = StringIO(\"\"\"Name;Division;Conference;Wins;Losses;Overtime;Goals For;Goals Against;Points;Division Rank;Conference Rank;League Rank;Games Played\n\u001b[0;32m     23\u001b[0m         \"\"\" +\n\u001b[1;32m---> 24\u001b[1;33m                                \u001b[0mstr\u001b[0m\u001b[1;33m(\u001b[0m\u001b[0mPlay\u001b[0m\u001b[1;33m[\u001b[0m\u001b[1;34m'result'\u001b[0m\u001b[1;33m]\u001b[0m\u001b[1;33m[\u001b[0m\u001b[1;34m'event'\u001b[0m\u001b[1;33m]\u001b[0m\u001b[1;33m)\u001b[0m \u001b[1;33m+\u001b[0m \u001b[1;34m\";\"\u001b[0m \u001b[1;33m+\u001b[0m\u001b[1;33m\u001b[0m\u001b[1;33m\u001b[0m\u001b[0m\n\u001b[0m\u001b[0;32m     25\u001b[0m                                \u001b[0mstr\u001b[0m\u001b[1;33m(\u001b[0m\u001b[0mPlay\u001b[0m\u001b[1;33m[\u001b[0m\u001b[1;34m'result'\u001b[0m\u001b[1;33m]\u001b[0m\u001b[1;33m[\u001b[0m\u001b[1;34m'eventTypeId'\u001b[0m\u001b[1;33m]\u001b[0m\u001b[1;33m)\u001b[0m \u001b[1;33m+\u001b[0m \u001b[1;34m\";\"\u001b[0m \u001b[1;33m+\u001b[0m\u001b[1;33m\u001b[0m\u001b[1;33m\u001b[0m\u001b[0m\n\u001b[0;32m     26\u001b[0m                                \u001b[0mstr\u001b[0m\u001b[1;33m(\u001b[0m\u001b[0mPlay\u001b[0m\u001b[1;33m[\u001b[0m\u001b[1;34m'result'\u001b[0m\u001b[1;33m]\u001b[0m\u001b[1;33m[\u001b[0m\u001b[1;34m'description'\u001b[0m\u001b[1;33m]\u001b[0m\u001b[1;33m)\u001b[0m \u001b[1;33m+\u001b[0m \u001b[1;34m\";\"\u001b[0m \u001b[1;33m+\u001b[0m\u001b[1;33m\u001b[0m\u001b[1;33m\u001b[0m\u001b[0m\n",
      "\u001b[1;31mNameError\u001b[0m: name 'Play' is not defined"
     ]
    }
   ],
   "source": [
    "LeagueTable = pd.DataFrame()\n",
    "\n",
    "SourceData = pd.DataFrame.from_dict(requests.get('https://statsapi.web.nhl.com/api/v1/standings').json())\n",
    "for Division in SourceData['records']:\n",
    "#     print(Division)\n",
    "    DivisionName = Division['division']['name']\n",
    "    Conference = Division['conference']['name']\n",
    "    for Team in(Division['teamRecords']):\n",
    "        print(Team)\n",
    "        TeamName = Team['team']['name']\n",
    "        TeamWins = Team['leagueRecord']['wins']\n",
    "        TeamLosses = Team['leagueRecord']['losses']\n",
    "        TeamOT = Team['leagueRecord']['ot']\n",
    "        TeamGF = Team['goalsScored']\n",
    "        TeamPTS = Team['points']\n",
    "        TeamGA = Team['goalsAgainst']\n",
    "        TeamDivisionRank = Team['divisionRank']\n",
    "        TeamConferenceRank = Team['conferenceRank']\n",
    "        TeamLeagueRank = Team['leagueRank']\n",
    "        TeamGP = Team['gamesPlayed']\n",
    "        \n",
    "        CurrentTeam = StringIO(\"\"\"Name;Division;Conference;Wins;Losses;Overtime;Goals For;Goals Against;Points;Division Rank;Conference Rank;League Rank;Games Played\n",
    "        \"\"\" +\n",
    "                               str(Team['team']['name']) + \":\" +\n",
    "                               str(Division['division']['name']) + \";\" +\n",
    "                               str(Division['conference']['name']) + \";\" +\n",
    "                               str(Team['leagueRecord']['wins']) + \";\" +\n",
    "                               str(Player1Name) + \";\" +    \n",
    "                               str(Player1ID) + \";\" +\n",
    "                               str(Player2Name) + \";\" +\n",
    "                               str(Player2ID) + \";\" +\n",
    "                               str(Player3Name) + \";\" +\n",
    "                               str(Player3ID) + \";\" +\n",
    "                               str(Player4Name) + \";\" +\n",
    "                               str(Player4ID) + \";\" +\n",
    "                               str(x) + \";\" +\n",
    "                               str(y) + \";\" +\n",
    "                               str(Play['about']['period']) + \";\" +\n",
    "                               str(Play['about']['periodTimeRemaining']) + \";\" +\n",
    "                               str(Play['about']['periodType']))\n",
    "        CurrentTeam = pd.read_csv(CurrentTeam, sep = \";\")\n",
    "        \n",
    "        LeagueTable = LeagueTable.append(CurrentTeam, ignore_index=True)"
   ]
  },
  {
   "cell_type": "markdown",
   "metadata": {},
   "source": [
    "# Historical Data About All Players"
   ]
  },
  {
   "cell_type": "code",
   "execution_count": 3,
   "metadata": {},
   "outputs": [
    {
     "data": {
      "application/vnd.jupyter.widget-view+json": {
       "model_id": "e826d466f57140a1a294505c0ee91f19",
       "version_major": 2,
       "version_minor": 0
      },
      "text/plain": [
       "HBox(children=(HTML(value=''), FloatProgress(value=0.0, max=15.0), HTML(value='')))"
      ]
     },
     "metadata": {},
     "output_type": "display_data"
    },
    {
     "name": "stdout",
     "output_type": "stream",
     "text": [
      "20052006\n"
     ]
    },
    {
     "data": {
      "application/vnd.jupyter.widget-view+json": {
       "model_id": "4e53fab4a7d6484b954642ba46b992cd",
       "version_major": 2,
       "version_minor": 0
      },
      "text/plain": [
       "HBox(children=(HTML(value=''), FloatProgress(value=0.0, max=54.0), HTML(value='')))"
      ]
     },
     "metadata": {},
     "output_type": "display_data"
    },
    {
     "name": "stdout",
     "output_type": "stream",
     "text": [
      "Missing 31\n",
      "Missing 32\n",
      "Missing 33\n",
      "Missing 34\n",
      "Missing 35\n",
      "Missing 36\n",
      "Missing 37\n",
      "Missing 38\n",
      "Missing 39\n",
      "Missing 40\n",
      "Missing 41\n",
      "Missing 42\n",
      "Missing 43\n",
      "Missing 44\n",
      "Missing 45\n",
      "Missing 46\n",
      "Missing 47\n",
      "Missing 48\n",
      "Missing 49\n",
      "Missing 50\n",
      "Missing 51\n",
      "Missing 52\n",
      "Missing 53\n",
      "Missing 54\n",
      "\n",
      "20062007\n"
     ]
    },
    {
     "data": {
      "application/vnd.jupyter.widget-view+json": {
       "model_id": "135deaaf78504ff5a37b1d825f95c408",
       "version_major": 2,
       "version_minor": 0
      },
      "text/plain": [
       "HBox(children=(HTML(value=''), FloatProgress(value=0.0, max=54.0), HTML(value='')))"
      ]
     },
     "metadata": {},
     "output_type": "display_data"
    },
    {
     "name": "stdout",
     "output_type": "stream",
     "text": [
      "Missing 31\n",
      "Missing 32\n",
      "Missing 33\n",
      "Missing 34\n",
      "Missing 35\n",
      "Missing 36\n",
      "Missing 37\n",
      "Missing 38\n",
      "Missing 39\n",
      "Missing 40\n",
      "Missing 41\n",
      "Missing 42\n",
      "Missing 43\n",
      "Missing 44\n",
      "Missing 45\n",
      "Missing 46\n",
      "Missing 47\n",
      "Missing 48\n",
      "Missing 49\n",
      "Missing 50\n",
      "Missing 51\n",
      "Missing 52\n",
      "Missing 53\n",
      "Missing 54\n",
      "\n",
      "20072008\n"
     ]
    },
    {
     "data": {
      "application/vnd.jupyter.widget-view+json": {
       "model_id": "5702359969f24572ad4dde6e5f1e2c05",
       "version_major": 2,
       "version_minor": 0
      },
      "text/plain": [
       "HBox(children=(HTML(value=''), FloatProgress(value=0.0, max=54.0), HTML(value='')))"
      ]
     },
     "metadata": {},
     "output_type": "display_data"
    },
    {
     "name": "stdout",
     "output_type": "stream",
     "text": [
      "Missing 31\n",
      "Missing 32\n",
      "Missing 33\n",
      "Missing 34\n",
      "Missing 35\n",
      "Missing 36\n",
      "Missing 37\n",
      "Missing 38\n",
      "Missing 39\n",
      "Missing 40\n",
      "Missing 41\n",
      "Missing 42\n",
      "Missing 43\n",
      "Missing 44\n",
      "Missing 45\n",
      "Missing 46\n",
      "Missing 47\n",
      "Missing 48\n",
      "Missing 49\n",
      "Missing 50\n",
      "Missing 51\n",
      "Missing 52\n",
      "Missing 53\n",
      "Missing 54\n",
      "\n",
      "20082009\n"
     ]
    },
    {
     "data": {
      "application/vnd.jupyter.widget-view+json": {
       "model_id": "aa468b58600e4142aaf98eaff4bd2891",
       "version_major": 2,
       "version_minor": 0
      },
      "text/plain": [
       "HBox(children=(HTML(value=''), FloatProgress(value=0.0, max=54.0), HTML(value='')))"
      ]
     },
     "metadata": {},
     "output_type": "display_data"
    },
    {
     "name": "stdout",
     "output_type": "stream",
     "text": [
      "Missing 31\n",
      "Missing 32\n",
      "Missing 33\n",
      "Missing 34\n",
      "Missing 35\n",
      "Missing 36\n",
      "Missing 37\n",
      "Missing 38\n",
      "Missing 39\n",
      "Missing 40\n",
      "Missing 41\n",
      "Missing 42\n",
      "Missing 43\n",
      "Missing 44\n",
      "Missing 45\n",
      "Missing 46\n",
      "Missing 47\n",
      "Missing 48\n",
      "Missing 49\n",
      "Missing 50\n",
      "Missing 51\n",
      "Missing 52\n",
      "Missing 53\n",
      "Missing 54\n",
      "\n",
      "20092010\n"
     ]
    },
    {
     "data": {
      "application/vnd.jupyter.widget-view+json": {
       "model_id": "ed97acd79c0e49d6a6456467d08d3851",
       "version_major": 2,
       "version_minor": 0
      },
      "text/plain": [
       "HBox(children=(HTML(value=''), FloatProgress(value=0.0, max=54.0), HTML(value='')))"
      ]
     },
     "metadata": {},
     "output_type": "display_data"
    },
    {
     "name": "stdout",
     "output_type": "stream",
     "text": [
      "Missing 31\n",
      "Missing 32\n",
      "Missing 33\n",
      "Missing 34\n",
      "Missing 35\n",
      "Missing 36\n",
      "Missing 37\n",
      "Missing 38\n",
      "Missing 39\n",
      "Missing 40\n",
      "Missing 41\n",
      "Missing 42\n",
      "Missing 43\n",
      "Missing 44\n",
      "Missing 45\n",
      "Missing 46\n",
      "Missing 47\n",
      "Missing 48\n",
      "Missing 49\n",
      "Missing 50\n",
      "Missing 51\n",
      "Missing 52\n",
      "Missing 53\n",
      "Missing 54\n",
      "\n",
      "20102011\n"
     ]
    },
    {
     "data": {
      "application/vnd.jupyter.widget-view+json": {
       "model_id": "f182a7bd5c834ba1978e1f495411b840",
       "version_major": 2,
       "version_minor": 0
      },
      "text/plain": [
       "HBox(children=(HTML(value=''), FloatProgress(value=0.0, max=54.0), HTML(value='')))"
      ]
     },
     "metadata": {},
     "output_type": "display_data"
    },
    {
     "name": "stdout",
     "output_type": "stream",
     "text": [
      "Missing 31\n",
      "Missing 32\n",
      "Missing 33\n",
      "Missing 34\n",
      "Missing 35\n",
      "Missing 36\n",
      "Missing 37\n",
      "Missing 38\n",
      "Missing 39\n",
      "Missing 40\n",
      "Missing 41\n",
      "Missing 42\n",
      "Missing 43\n",
      "Missing 44\n",
      "Missing 45\n",
      "Missing 46\n",
      "Missing 47\n",
      "Missing 48\n",
      "Missing 49\n",
      "Missing 50\n",
      "Missing 51\n",
      "Missing 52\n",
      "Missing 53\n",
      "Missing 54\n",
      "\n",
      "20112012\n"
     ]
    },
    {
     "data": {
      "application/vnd.jupyter.widget-view+json": {
       "model_id": "0e325b0d5fb342789a05b5c7a3271fb3",
       "version_major": 2,
       "version_minor": 0
      },
      "text/plain": [
       "HBox(children=(HTML(value=''), FloatProgress(value=0.0, max=54.0), HTML(value='')))"
      ]
     },
     "metadata": {},
     "output_type": "display_data"
    },
    {
     "name": "stdout",
     "output_type": "stream",
     "text": [
      "Missing 11\n",
      "Missing 31\n",
      "Missing 32\n",
      "Missing 33\n",
      "Missing 34\n",
      "Missing 35\n",
      "Missing 36\n",
      "Missing 37\n",
      "Missing 38\n",
      "Missing 39\n",
      "Missing 40\n",
      "Missing 41\n",
      "Missing 42\n",
      "Missing 43\n",
      "Missing 44\n",
      "Missing 45\n",
      "Missing 46\n",
      "Missing 47\n",
      "Missing 48\n",
      "Missing 49\n",
      "Missing 50\n",
      "Missing 51\n",
      "Missing 53\n",
      "Missing 54\n",
      "\n",
      "20122013\n"
     ]
    },
    {
     "data": {
      "application/vnd.jupyter.widget-view+json": {
       "model_id": "20e4032497c64e2bbd5b97975b993df3",
       "version_major": 2,
       "version_minor": 0
      },
      "text/plain": [
       "HBox(children=(HTML(value=''), FloatProgress(value=0.0, max=54.0), HTML(value='')))"
      ]
     },
     "metadata": {},
     "output_type": "display_data"
    },
    {
     "name": "stdout",
     "output_type": "stream",
     "text": [
      "Missing 11\n",
      "Missing 31\n",
      "Missing 32\n",
      "Missing 33\n",
      "Missing 34\n",
      "Missing 35\n",
      "Missing 36\n",
      "Missing 37\n",
      "Missing 38\n",
      "Missing 39\n",
      "Missing 40\n",
      "Missing 41\n",
      "Missing 42\n",
      "Missing 43\n",
      "Missing 44\n",
      "Missing 45\n",
      "Missing 46\n",
      "Missing 47\n",
      "Missing 48\n",
      "Missing 49\n",
      "Missing 50\n",
      "Missing 51\n",
      "Missing 53\n",
      "Missing 54\n",
      "\n",
      "20132014\n"
     ]
    },
    {
     "data": {
      "application/vnd.jupyter.widget-view+json": {
       "model_id": "2ef80d7602464dbca6a06e0499c270e2",
       "version_major": 2,
       "version_minor": 0
      },
      "text/plain": [
       "HBox(children=(HTML(value=''), FloatProgress(value=0.0, max=54.0), HTML(value='')))"
      ]
     },
     "metadata": {},
     "output_type": "display_data"
    },
    {
     "name": "stdout",
     "output_type": "stream",
     "text": [
      "Missing 11\n",
      "Missing 31\n",
      "Missing 32\n",
      "Missing 33\n",
      "Missing 34\n",
      "Missing 35\n",
      "Missing 36\n",
      "Missing 37\n",
      "Missing 38\n",
      "Missing 39\n",
      "Missing 40\n",
      "Missing 41\n",
      "Missing 42\n",
      "Missing 43\n",
      "Missing 44\n",
      "Missing 45\n",
      "Missing 46\n",
      "Missing 47\n",
      "Missing 48\n",
      "Missing 49\n",
      "Missing 50\n",
      "Missing 51\n",
      "Missing 53\n",
      "Missing 54\n",
      "\n",
      "20142015\n"
     ]
    },
    {
     "data": {
      "application/vnd.jupyter.widget-view+json": {
       "model_id": "86e17f24bd834392bded681b364bf99c",
       "version_major": 2,
       "version_minor": 0
      },
      "text/plain": [
       "HBox(children=(HTML(value=''), FloatProgress(value=0.0, max=54.0), HTML(value='')))"
      ]
     },
     "metadata": {},
     "output_type": "display_data"
    },
    {
     "name": "stdout",
     "output_type": "stream",
     "text": [
      "Missing 11\n",
      "Missing 27\n",
      "Missing 31\n",
      "Missing 32\n",
      "Missing 33\n",
      "Missing 34\n",
      "Missing 35\n",
      "Missing 36\n",
      "Missing 37\n",
      "Missing 38\n",
      "Missing 39\n",
      "Missing 40\n",
      "Missing 41\n",
      "Missing 42\n",
      "Missing 43\n",
      "Missing 44\n",
      "Missing 45\n",
      "Missing 46\n",
      "Missing 47\n",
      "Missing 48\n",
      "Missing 49\n",
      "Missing 50\n",
      "Missing 51\n",
      "Missing 54\n",
      "\n",
      "20152016\n"
     ]
    },
    {
     "data": {
      "application/vnd.jupyter.widget-view+json": {
       "model_id": "a98e406f465d4fff8365366982405358",
       "version_major": 2,
       "version_minor": 0
      },
      "text/plain": [
       "HBox(children=(HTML(value=''), FloatProgress(value=0.0, max=54.0), HTML(value='')))"
      ]
     },
     "metadata": {},
     "output_type": "display_data"
    },
    {
     "name": "stdout",
     "output_type": "stream",
     "text": [
      "Missing 11\n",
      "Missing 27\n",
      "Missing 31\n",
      "Missing 32\n",
      "Missing 33\n",
      "Missing 34\n",
      "Missing 35\n",
      "Missing 36\n",
      "Missing 37\n",
      "Missing 38\n",
      "Missing 39\n",
      "Missing 40\n",
      "Missing 41\n",
      "Missing 42\n",
      "Missing 43\n",
      "Missing 44\n",
      "Missing 45\n",
      "Missing 46\n",
      "Missing 47\n",
      "Missing 48\n",
      "Missing 49\n",
      "Missing 50\n",
      "Missing 51\n",
      "Missing 54\n",
      "\n",
      "20162017\n"
     ]
    },
    {
     "data": {
      "application/vnd.jupyter.widget-view+json": {
       "model_id": "9ac389ce4746480cac5686470cdd9823",
       "version_major": 2,
       "version_minor": 0
      },
      "text/plain": [
       "HBox(children=(HTML(value=''), FloatProgress(value=0.0, max=54.0), HTML(value='')))"
      ]
     },
     "metadata": {},
     "output_type": "display_data"
    },
    {
     "name": "stdout",
     "output_type": "stream",
     "text": [
      "Missing 11\n",
      "Missing 27\n",
      "Missing 31\n",
      "Missing 32\n",
      "Missing 33\n",
      "Missing 34\n",
      "Missing 35\n",
      "Missing 36\n",
      "Missing 37\n",
      "Missing 38\n",
      "Missing 39\n",
      "Missing 40\n",
      "Missing 41\n",
      "Missing 42\n",
      "Missing 43\n",
      "Missing 44\n",
      "Missing 45\n",
      "Missing 46\n",
      "Missing 47\n",
      "Missing 48\n",
      "Missing 49\n",
      "Missing 50\n",
      "Missing 51\n",
      "Missing 54\n",
      "\n",
      "20172018\n"
     ]
    },
    {
     "data": {
      "application/vnd.jupyter.widget-view+json": {
       "model_id": "8a5042c6f90f4e978df8d04cc6b40291",
       "version_major": 2,
       "version_minor": 0
      },
      "text/plain": [
       "HBox(children=(HTML(value=''), FloatProgress(value=0.0, max=54.0), HTML(value='')))"
      ]
     },
     "metadata": {},
     "output_type": "display_data"
    },
    {
     "name": "stdout",
     "output_type": "stream",
     "text": [
      "Missing 11\n",
      "Missing 27\n",
      "Missing 31\n",
      "Missing 32\n",
      "Missing 33\n",
      "Missing 34\n",
      "Missing 35\n",
      "Missing 36\n",
      "Missing 37\n",
      "Missing 38\n",
      "Missing 39\n",
      "Missing 40\n",
      "Missing 41\n",
      "Missing 42\n",
      "Missing 43\n",
      "Missing 44\n",
      "Missing 45\n",
      "Missing 46\n",
      "Missing 47\n",
      "Missing 48\n",
      "Missing 49\n",
      "Missing 50\n",
      "Missing 51\n",
      "\n",
      "20182019\n"
     ]
    },
    {
     "data": {
      "application/vnd.jupyter.widget-view+json": {
       "model_id": "de0a89441aef4a74a0c1937dd082a952",
       "version_major": 2,
       "version_minor": 0
      },
      "text/plain": [
       "HBox(children=(HTML(value=''), FloatProgress(value=0.0, max=54.0), HTML(value='')))"
      ]
     },
     "metadata": {},
     "output_type": "display_data"
    },
    {
     "name": "stdout",
     "output_type": "stream",
     "text": [
      "Missing 11\n",
      "Missing 27\n",
      "Missing 31\n",
      "Missing 32\n",
      "Missing 33\n",
      "Missing 34\n",
      "Missing 35\n",
      "Missing 36\n",
      "Missing 37\n",
      "Missing 38\n",
      "Missing 39\n",
      "Missing 40\n",
      "Missing 41\n",
      "Missing 42\n",
      "Missing 43\n",
      "Missing 44\n",
      "Missing 45\n",
      "Missing 46\n",
      "Missing 47\n",
      "Missing 48\n",
      "Missing 49\n",
      "Missing 50\n",
      "Missing 51\n",
      "\n",
      "20192020\n"
     ]
    },
    {
     "data": {
      "application/vnd.jupyter.widget-view+json": {
       "model_id": "fdafe2254a1049889fbdbbe3959d322b",
       "version_major": 2,
       "version_minor": 0
      },
      "text/plain": [
       "HBox(children=(HTML(value=''), FloatProgress(value=0.0, max=54.0), HTML(value='')))"
      ]
     },
     "metadata": {},
     "output_type": "display_data"
    },
    {
     "name": "stdout",
     "output_type": "stream",
     "text": [
      "Missing 11\n",
      "Missing 27\n",
      "Missing 31\n",
      "Missing 32\n",
      "Missing 33\n",
      "Missing 34\n",
      "Missing 35\n",
      "Missing 36\n",
      "Missing 37\n",
      "Missing 38\n",
      "Missing 39\n",
      "Missing 40\n",
      "Missing 41\n",
      "Missing 42\n",
      "Missing 43\n",
      "Missing 44\n",
      "Missing 45\n",
      "Missing 46\n",
      "Missing 47\n",
      "Missing 48\n",
      "Missing 49\n",
      "Missing 50\n",
      "Missing 51\n",
      "\n",
      "\n",
      "            ID           FullName PosAbbreviation                    Link  \\\n",
      "0      8444919      Tommy Albelin               D  /api/v1/people/8444919   \n",
      "1      8449654  Alexander Mogilny              RW  /api/v1/people/8449654   \n",
      "2      8456850           Ken Klee               D  /api/v1/people/8456850   \n",
      "3      8457191  Vladimir Malakhov               D  /api/v1/people/8457191   \n",
      "4      8458522  Richard Matvichuk               D  /api/v1/people/8458522   \n",
      "...        ...                ...             ...                     ...   \n",
      "15784  8470594  Marc-Andre Fleury               G  /api/v1/people/8470594   \n",
      "15785  8475215       Robin Lehner               G  /api/v1/people/8475215   \n",
      "15786  8476343      Garret Sparks               G  /api/v1/people/8476343   \n",
      "15787  8476861        Oscar Dansk               G  /api/v1/people/8476861   \n",
      "15788  8476876     Malcolm Subban               G  /api/v1/people/8476876   \n",
      "\n",
      "       Unnamed: 4  \n",
      "0             NaN  \n",
      "1             NaN  \n",
      "2             NaN  \n",
      "3             NaN  \n",
      "4             NaN  \n",
      "...           ...  \n",
      "15784         NaN  \n",
      "15785         NaN  \n",
      "15786         NaN  \n",
      "15787         NaN  \n",
      "15788         NaN  \n",
      "\n",
      "[15789 rows x 5 columns]\n"
     ]
    }
   ],
   "source": [
    "Seasons = ['20052006','20062007','20072008','20082009',\n",
    "           '20092010','20102011','20112012','20122013','20132014','20142015','20152016','20162017','20172018',\n",
    "           '20182019','20192020',]\n",
    "\n",
    "FullRoster = pd.DataFrame()\n",
    "\n",
    "intCounter = 0\n",
    "for Season in tqdm(Seasons):\n",
    "    print(Season)\n",
    "#     TeamList = []\n",
    "#     Teams = pd.DataFrame.from_dict(requests.get(url='https://statsapi.web.nhl.com/api/v1/teams?expand=season=' + Season).json())['teams']\n",
    "#     for Team in Teams:\n",
    "#         TeamList.append(Team['link'])\n",
    "    TeamList = list(range(1,55))\n",
    "    for Team in tqdm(TeamList):\n",
    "        try:\n",
    "            SourceData = pd.DataFrame.from_dict(requests.get(url='https://statsapi.web.nhl.com/api/v1/teams/' + str(Team) + '?expand=team.roster&season=' + str(Season)).json())['teams'][0]['roster']['roster']\n",
    "            for Player in SourceData:\n",
    "                CurrentPlayer = StringIO(\"\"\"ID;FullName;PosAbbreviation;Link;\n",
    "                \"\"\" +\n",
    "                                         str(Player['person']['id']) + \";\" +\n",
    "                                         Player['person']['fullName'] + \";\" +\n",
    "                                         Player['position']['abbreviation'] + \";\" +\n",
    "                                         Player['person']['link'])\n",
    "                CurrentPlayer = pd.read_csv(CurrentPlayer, sep = \";\")\n",
    "                \n",
    "                FullRoster = FullRoster.append(CurrentPlayer, ignore_index=True)\n",
    "        except:\n",
    "            print(\"Missing \" + str(Team))\n",
    "    \n",
    "print(FullRoster)"
   ]
  },
  {
   "cell_type": "code",
   "execution_count": 4,
   "metadata": {},
   "outputs": [
    {
     "name": "stdout",
     "output_type": "stream",
     "text": [
      "            ID           FullName PosAbbreviation                    Link  \\\n",
      "0      8444919      Tommy Albelin               D  /api/v1/people/8444919   \n",
      "1      8449654  Alexander Mogilny              RW  /api/v1/people/8449654   \n",
      "2      8456850           Ken Klee               D  /api/v1/people/8456850   \n",
      "3      8457191  Vladimir Malakhov               D  /api/v1/people/8457191   \n",
      "4      8458522  Richard Matvichuk               D  /api/v1/people/8458522   \n",
      "...        ...                ...             ...                     ...   \n",
      "15770  8476987      Jake Bischoff               D  /api/v1/people/8476987   \n",
      "15778  8478434     Keegan Kolesar              RW  /api/v1/people/8478434   \n",
      "15780  8479748       Gage Quinney               C  /api/v1/people/8479748   \n",
      "15781  8479980      Nicolas Hague               D  /api/v1/people/8479980   \n",
      "15782  8479996         Cody Glass               C  /api/v1/people/8479996   \n",
      "\n",
      "       Unnamed: 4  \n",
      "0             NaN  \n",
      "1             NaN  \n",
      "2             NaN  \n",
      "3             NaN  \n",
      "4             NaN  \n",
      "...           ...  \n",
      "15770         NaN  \n",
      "15778         NaN  \n",
      "15780         NaN  \n",
      "15781         NaN  \n",
      "15782         NaN  \n",
      "\n",
      "[3058 rows x 5 columns]\n"
     ]
    }
   ],
   "source": [
    "FRoster = FullRoster.drop_duplicates()\n",
    "FRoster.to_csv(\"Full_Roster.csv\")\n",
    "print(FRoster)\n",
    "\n",
    "FPlayerDetails = pd.DataFrame()"
   ]
  },
  {
   "cell_type": "code",
   "execution_count": 5,
   "metadata": {},
   "outputs": [
    {
     "data": {
      "application/vnd.jupyter.widget-view+json": {
       "model_id": "d99710225ce942f59d4ca053875c0fd3",
       "version_major": 2,
       "version_minor": 0
      },
      "text/plain": [
       "HBox(children=(HTML(value=''), FloatProgress(value=0.0, max=3058.0), HTML(value='')))"
      ]
     },
     "metadata": {},
     "output_type": "display_data"
    },
    {
     "name": "stdout",
     "output_type": "stream",
     "text": [
      "\n",
      "ID                               8448208\n",
      "Position                               R\n",
      "FullName                    Jaromir Jagr\n",
      "Link              /api/v1/people/8448208\n",
      "FirstName                        Jaromir\n",
      "LastName                            Jagr\n",
      "PrimaryNumber                         68\n",
      "BirthDate                     1972-02-15\n",
      "BirthCity                         Kladno\n",
      "BirthProvState                       NaN\n",
      "BirthCountry                         CZE\n",
      "Nationality                          CZE\n",
      "Height                             6' 3\"\n",
      "Weight                               230\n",
      "Active                             False\n",
      "Rookie                             False\n",
      "RosterStatus                           N\n",
      "Name: 73, dtype: object\n"
     ]
    }
   ],
   "source": [
    "intCounter = 0\n",
    "FPlayerDetails = pd.DataFrame()\n",
    "\n",
    "for playerLink in tqdm(FRoster['Link']):\n",
    "    SourceData = pd.DataFrame.from_dict(requests.get(url='https://statsapi.web.nhl.com' + playerLink).json()).to_dict()['people'][0]\n",
    "    try:\n",
    "        primaryNumber = str(SourceData['primaryNumber'])\n",
    "    except:\n",
    "        primaryNumber = \"0\"\n",
    "    try:\n",
    "        birthStateProvince = SourceData['birthStateProvince']\n",
    "    except: \n",
    "        birthStateProvince = \"NA\"\n",
    "       \n",
    "    CurrentPlayer = StringIO(\"\"\"ID;Position;FullName;Link;FirstName;LastName;PrimaryNumber;BirthDate;BirthCity;BirthProvState;BirthCountry;Nationality;Height;Weight;Active;Rookie;RosterStatus\n",
    "    \"\"\" +\n",
    "                    str(SourceData['id']) + \";\" +\n",
    "                    SourceData['primaryPosition']['code'] + \";\" +\n",
    "                    SourceData['fullName'] + \";\" +\n",
    "                    SourceData['link'] + \";\" +\n",
    "                    SourceData['firstName'] + \";\" +\n",
    "                    SourceData['lastName'] + \";\" +\n",
    "                    primaryNumber + \";\" +\n",
    "                    SourceData['birthDate'] + \";\" +\n",
    "                    SourceData['birthCity'] + \";\" +\n",
    "                    birthStateProvince + \";\" +\n",
    "                    SourceData['birthCountry'] + \";\" +\n",
    "                    SourceData['nationality'] + \";\" +\n",
    "                    SourceData['height'] + \";\" +\n",
    "                    str(SourceData['weight']) + \";\" +\n",
    "                    str(SourceData['active']) + \";\" +\n",
    "                    str(SourceData['rookie']) + \";\" +\n",
    "                    SourceData['rosterStatus'])\n",
    "                             \n",
    "    CurrentPlayer = pd.read_csv(CurrentPlayer, sep = \";\")\n",
    "    \n",
    "    FPlayerDetails = FPlayerDetails.append(CurrentPlayer, ignore_index=True)\n",
    "    \n",
    "    intCounter += 1\n",
    "    \n",
    "print(FPlayerDetails.loc[73])\n",
    "FPlayerDetails.to_csv(\"FPlayerDetails.csv\")\n"
   ]
  },
  {
   "cell_type": "code",
   "execution_count": 6,
   "metadata": {},
   "outputs": [],
   "source": [
    "GoalieRoster = FRoster.loc[FRoster['PosAbbreviation'] == 'G']\n",
    "SkaterRoster = FRoster.loc[FRoster['PosAbbreviation'] != 'G']\n",
    "\n",
    "SkaterRoster = SkaterRoster.reset_index()\n",
    "GoalieRoster = GoalieRoster.reset_index()\n",
    "\n",
    "FGoalieDetails = FPlayerDetails.loc[FPlayerDetails['Position'] == 'G']\n",
    "FSkaterDetails = FPlayerDetails.loc[FPlayerDetails['Position'] != 'G']\n",
    "\n",
    "FGoalieDetails = FGoalieDetails.reset_index()\n",
    "FSkaterDetails = FSkaterDetails.reset_index()\n",
    "\n",
    "FSkaterDetails.to_csv(\"FSkaterDetails.csv\")"
   ]
  },
  {
   "cell_type": "markdown",
   "metadata": {},
   "source": [
    "# Player Statistics Structured for Modelling"
   ]
  },
  {
   "cell_type": "code",
   "execution_count": 11,
   "metadata": {},
   "outputs": [
    {
     "data": {
      "application/vnd.jupyter.widget-view+json": {
       "model_id": "88dab4851fc94a3db825c29b4c8dfcfc",
       "version_major": 2,
       "version_minor": 0
      },
      "text/plain": [
       "HBox(children=(HTML(value=''), FloatProgress(value=0.0, max=15.0), HTML(value='')))"
      ]
     },
     "metadata": {},
     "output_type": "display_data"
    },
    {
     "data": {
      "application/vnd.jupyter.widget-view+json": {
       "model_id": "e85be9f9fc694dfabff033a498161f5a",
       "version_major": 2,
       "version_minor": 0
      },
      "text/plain": [
       "HBox(children=(HTML(value=''), FloatProgress(value=0.0, max=2760.0), HTML(value='')))"
      ]
     },
     "metadata": {},
     "output_type": "display_data"
    },
    {
     "name": "stdout",
     "output_type": "stream",
     "text": [
      "\n"
     ]
    },
    {
     "data": {
      "application/vnd.jupyter.widget-view+json": {
       "model_id": "f4369a041b4c44faa105f8410e29a0cd",
       "version_major": 2,
       "version_minor": 0
      },
      "text/plain": [
       "HBox(children=(HTML(value=''), FloatProgress(value=0.0, max=2760.0), HTML(value='')))"
      ]
     },
     "metadata": {},
     "output_type": "display_data"
    },
    {
     "name": "stdout",
     "output_type": "stream",
     "text": [
      "\n"
     ]
    },
    {
     "data": {
      "application/vnd.jupyter.widget-view+json": {
       "model_id": "8cec0562be9d467f8e5c6bbf12ce1d3f",
       "version_major": 2,
       "version_minor": 0
      },
      "text/plain": [
       "HBox(children=(HTML(value=''), FloatProgress(value=0.0, max=2760.0), HTML(value='')))"
      ]
     },
     "metadata": {},
     "output_type": "display_data"
    },
    {
     "name": "stdout",
     "output_type": "stream",
     "text": [
      "\n"
     ]
    },
    {
     "data": {
      "application/vnd.jupyter.widget-view+json": {
       "model_id": "f71261f010254039871cc89a3d779d80",
       "version_major": 2,
       "version_minor": 0
      },
      "text/plain": [
       "HBox(children=(HTML(value=''), FloatProgress(value=0.0, max=2760.0), HTML(value='')))"
      ]
     },
     "metadata": {},
     "output_type": "display_data"
    },
    {
     "name": "stdout",
     "output_type": "stream",
     "text": [
      "\n"
     ]
    },
    {
     "data": {
      "application/vnd.jupyter.widget-view+json": {
       "model_id": "0d0ab351f7014a61a5f72a9425cbb93f",
       "version_major": 2,
       "version_minor": 0
      },
      "text/plain": [
       "HBox(children=(HTML(value=''), FloatProgress(value=0.0, max=2760.0), HTML(value='')))"
      ]
     },
     "metadata": {},
     "output_type": "display_data"
    },
    {
     "name": "stdout",
     "output_type": "stream",
     "text": [
      "\n"
     ]
    },
    {
     "data": {
      "application/vnd.jupyter.widget-view+json": {
       "model_id": "686f0494cbf14c21b8c1e8effcc0b626",
       "version_major": 2,
       "version_minor": 0
      },
      "text/plain": [
       "HBox(children=(HTML(value=''), FloatProgress(value=0.0, max=2760.0), HTML(value='')))"
      ]
     },
     "metadata": {},
     "output_type": "display_data"
    },
    {
     "name": "stdout",
     "output_type": "stream",
     "text": [
      "\n"
     ]
    },
    {
     "data": {
      "application/vnd.jupyter.widget-view+json": {
       "model_id": "ad14f1aff52d4def9e4bef3163367b07",
       "version_major": 2,
       "version_minor": 0
      },
      "text/plain": [
       "HBox(children=(HTML(value=''), FloatProgress(value=0.0, max=2760.0), HTML(value='')))"
      ]
     },
     "metadata": {},
     "output_type": "display_data"
    },
    {
     "name": "stdout",
     "output_type": "stream",
     "text": [
      "\n"
     ]
    },
    {
     "data": {
      "application/vnd.jupyter.widget-view+json": {
       "model_id": "69dbd74415eb48e39a4103b464cf2b25",
       "version_major": 2,
       "version_minor": 0
      },
      "text/plain": [
       "HBox(children=(HTML(value=''), FloatProgress(value=0.0, max=2760.0), HTML(value='')))"
      ]
     },
     "metadata": {},
     "output_type": "display_data"
    },
    {
     "name": "stdout",
     "output_type": "stream",
     "text": [
      "\n"
     ]
    },
    {
     "data": {
      "application/vnd.jupyter.widget-view+json": {
       "model_id": "51022dd0475a4f8a8eaf63aa28e14300",
       "version_major": 2,
       "version_minor": 0
      },
      "text/plain": [
       "HBox(children=(HTML(value=''), FloatProgress(value=0.0, max=2760.0), HTML(value='')))"
      ]
     },
     "metadata": {},
     "output_type": "display_data"
    },
    {
     "name": "stdout",
     "output_type": "stream",
     "text": [
      "\n"
     ]
    },
    {
     "data": {
      "application/vnd.jupyter.widget-view+json": {
       "model_id": "281b2517f2e041bab6b95e6888955f50",
       "version_major": 2,
       "version_minor": 0
      },
      "text/plain": [
       "HBox(children=(HTML(value=''), FloatProgress(value=0.0, max=2760.0), HTML(value='')))"
      ]
     },
     "metadata": {},
     "output_type": "display_data"
    },
    {
     "name": "stdout",
     "output_type": "stream",
     "text": [
      "\n"
     ]
    },
    {
     "data": {
      "application/vnd.jupyter.widget-view+json": {
       "model_id": "be9fd1635ec04e44acb30c1b32b753e6",
       "version_major": 2,
       "version_minor": 0
      },
      "text/plain": [
       "HBox(children=(HTML(value=''), FloatProgress(value=0.0, max=2760.0), HTML(value='')))"
      ]
     },
     "metadata": {},
     "output_type": "display_data"
    },
    {
     "name": "stdout",
     "output_type": "stream",
     "text": [
      "\n"
     ]
    },
    {
     "data": {
      "application/vnd.jupyter.widget-view+json": {
       "model_id": "b15cdfeb9a6e45b5ad987e85f0f9db5b",
       "version_major": 2,
       "version_minor": 0
      },
      "text/plain": [
       "HBox(children=(HTML(value=''), FloatProgress(value=0.0, max=2760.0), HTML(value='')))"
      ]
     },
     "metadata": {},
     "output_type": "display_data"
    },
    {
     "name": "stdout",
     "output_type": "stream",
     "text": [
      "\n"
     ]
    },
    {
     "data": {
      "application/vnd.jupyter.widget-view+json": {
       "model_id": "5c6a67023aa642f7a8a46ac612cae6fd",
       "version_major": 2,
       "version_minor": 0
      },
      "text/plain": [
       "HBox(children=(HTML(value=''), FloatProgress(value=0.0, max=2760.0), HTML(value='')))"
      ]
     },
     "metadata": {},
     "output_type": "display_data"
    },
    {
     "name": "stdout",
     "output_type": "stream",
     "text": [
      "\n"
     ]
    },
    {
     "data": {
      "application/vnd.jupyter.widget-view+json": {
       "model_id": "9e82d3fab4c14eb0baabe2cd47db89cf",
       "version_major": 2,
       "version_minor": 0
      },
      "text/plain": [
       "HBox(children=(HTML(value=''), FloatProgress(value=0.0, max=2760.0), HTML(value='')))"
      ]
     },
     "metadata": {},
     "output_type": "display_data"
    },
    {
     "name": "stdout",
     "output_type": "stream",
     "text": [
      "\n"
     ]
    },
    {
     "data": {
      "application/vnd.jupyter.widget-view+json": {
       "model_id": "e65db2dc799d4a8d966f39fef90d3cfb",
       "version_major": 2,
       "version_minor": 0
      },
      "text/plain": [
       "HBox(children=(HTML(value=''), FloatProgress(value=0.0, max=2760.0), HTML(value='')))"
      ]
     },
     "metadata": {},
     "output_type": "display_data"
    },
    {
     "name": "stdout",
     "output_type": "stream",
     "text": [
      "\n",
      "\n",
      "           ID Position_x         FullName_x TOI20052006  A20052006  G20052006  \\\n",
      "0     8444919          D      Tommy Albelin      503:20        6.0        0.0   \n",
      "1     8449654         RW  Alexander Mogilny      549:19       13.0       12.0   \n",
      "2     8456850          D           Ken Klee     1393:01       12.0        3.0   \n",
      "3     8457191          D  Vladimir Malakhov      601:14        5.0        4.0   \n",
      "4     8458522          D  Richard Matvichuk     1129:41       10.0        1.0   \n",
      "...       ...        ...                ...         ...        ...        ...   \n",
      "2750  8476987        NaN                NaN         NaN        NaN        NaN   \n",
      "2751  8478434        NaN                NaN         NaN        NaN        NaN   \n",
      "2752  8479748        NaN                NaN         NaN        NaN        NaN   \n",
      "2753  8479980        NaN                NaN         NaN        NaN        NaN   \n",
      "2754  8479996        NaN                NaN         NaN        NaN        NaN   \n",
      "\n",
      "      P20052006  PIM20052006  Shots20052006  Games20052006  ...  SHP20192020  \\\n",
      "0           6.0          2.0           15.0           36.0  ...          NaN   \n",
      "1          25.0          6.0           93.0           34.0  ...          NaN   \n",
      "2          15.0         80.0           70.0           74.0  ...          NaN   \n",
      "3           9.0         26.0           43.0           29.0  ...          NaN   \n",
      "4          11.0         40.0           43.0           62.0  ...          NaN   \n",
      "...         ...          ...            ...            ...  ...          ...   \n",
      "2750        NaN          NaN            NaN            NaN  ...          0.0   \n",
      "2751        NaN          NaN            NaN            NaN  ...          0.0   \n",
      "2752        NaN          NaN            NaN            NaN  ...          0.0   \n",
      "2753        NaN          NaN            NaN            NaN  ...          0.0   \n",
      "2754        NaN          NaN            NaN            NaN  ...          0.0   \n",
      "\n",
      "      SHTOI20192020  Blocks20192020 PlusMinus20192020 Pts20192020  \\\n",
      "0               NaN             NaN               NaN         NaN   \n",
      "1               NaN             NaN               NaN         NaN   \n",
      "2               NaN             NaN               NaN         NaN   \n",
      "3               NaN             NaN               NaN         NaN   \n",
      "4               NaN             NaN               NaN         NaN   \n",
      "...             ...             ...               ...         ...   \n",
      "2750          02:21             8.0              -2.0         0.0   \n",
      "2751          00:00             0.0               0.0         0.0   \n",
      "2752          00:00             0.0              -1.0         1.0   \n",
      "2753          00:57            26.0               0.0        11.0   \n",
      "2754          01:01             6.0              -7.0        12.0   \n",
      "\n",
      "      Shifts20192020  TOIperGame20192020  EVTOIperGame20192020  \\\n",
      "0                NaN                 NaN                   NaN   \n",
      "1                NaN                 NaN                   NaN   \n",
      "2                NaN                 NaN                   NaN   \n",
      "3                NaN                 NaN                   NaN   \n",
      "4                NaN                 NaN                   NaN   \n",
      "...              ...                 ...                   ...   \n",
      "2750            75.0               15:36                 14:52   \n",
      "2751            15.0               12:06                 12:06   \n",
      "2752            42.0               09:42                 09:42   \n",
      "2753           802.0               16:05                 15:09   \n",
      "2754           627.0               13:21                 11:06   \n",
      "\n",
      "      SHTOIperGame20192020  PPTOIperGame20192020  \n",
      "0                      NaN                   NaN  \n",
      "1                      NaN                   NaN  \n",
      "2                      NaN                   NaN  \n",
      "3                      NaN                   NaN  \n",
      "4                      NaN                   NaN  \n",
      "...                    ...                   ...  \n",
      "2750                 00:35                 00:08  \n",
      "2751                 00:00                 00:00  \n",
      "2752                 00:00                 00:00  \n",
      "2753                 00:01                 00:54  \n",
      "2754                 00:01                 02:13  \n",
      "\n",
      "[2755 rows x 451 columns]\n"
     ]
    }
   ],
   "source": [
    "Seasons = ['20052006','20062007','20072008','20082009',\n",
    "           '20092010','20102011','20112012','20122013','20132014','20142015','20152016','20162017','20172018',\n",
    "           '20182019','20192020',]\n",
    "\n",
    "AllSkates = pd.DataFrame(columns=['ID'])\n",
    "# intCounter = 0\n",
    "for Season in tqdm(Seasons):\n",
    "    intCounter = 0\n",
    "    SkaterStatistics = pd.DataFrame()\n",
    "    for PlayerLink in tqdm(SkaterRoster['Link']):\n",
    "        SourceData = pd.DataFrame.from_dict(requests.get(url=\"https://statsapi.web.nhl.com\" + PlayerLink + \"/stats?stats=statsSingleSeason&season=\" + Season).json()).to_dict()['stats'][0]['splits']\n",
    "        # print(PlayerLink)\n",
    "        try:\n",
    "            SD = pd.DataFrame.from_dict(SourceData)['stat']\n",
    "            SD = SD.to_dict()[0]\n",
    "            CurrentPlayer = StringIO(\"ID;Position;FullName\" + ';TOI' + str(Season) + ';A' + str(Season) + ';G' + str(Season) + ';P' + str(Season) + ';PIM' + str(Season) + ';Shots' + str(Season) + ';Games' + str(Season) + ';Hits' + str(Season) + ';PPG' + str(Season) + ';PPP' + str(Season) + ';PPTOI' + str(Season) + ';EVTOI' + str(Season) + ';PIM2' + str(Season) + ';FaceOffPCT' + str(Season) + ';ShtPercent' + str(Season) + ';GWG' + str(Season) + ';OTG' + str(Season) + ';SHG' + str(Season) + ';SHP' + str(Season) + ';SHTOI' + str(Season) + ';Blocks' + str(Season) + ';PlusMinus' + str(Season) + ';Pts' + str(Season) + ';Shifts' + str(Season) + ';TOIperGame' + str(Season) + ';EVTOIperGame' + str(Season) + ';SHTOIperGame' + str(Season) + ';PPTOIperGame' + str(Season) + \"\"\"\n",
    "                                     \"\"\" + \n",
    "                                     str(SkaterRoster['ID'][intCounter]) + \";\" +\n",
    "                                     SkaterRoster['PosAbbreviation'][intCounter] + \";\" +\n",
    "                                     SkaterRoster['FullName'][intCounter] + \";\" +\n",
    "                                     str(SD['timeOnIce']) + \";\" +\n",
    "                                     str(SD['assists']) + \";\" +\n",
    "                                     str(SD['goals']) + \";\" +\n",
    "                                     str(SD['points']) + \";\" +\n",
    "                                     str(SD['pim']) + \";\" +\n",
    "                                     str(SD['shots']) + \";\" +\n",
    "                                     str(SD['games']) + \";\" +\n",
    "                                     str(SD['hits']) + \";\" +\n",
    "                                     str(SD['powerPlayGoals']) + \";\" +\n",
    "                                     str(SD['powerPlayPoints']) + \";\" +\n",
    "                                     str(SD['powerPlayTimeOnIce']) + \";\" +\n",
    "                                     str(SD['evenTimeOnIce']) + \";\" +\n",
    "                                     str(SD['penaltyMinutes']) + \";\" +\n",
    "                                     str(SD['faceOffPct']) + \";\" +\n",
    "                                     str(SD['shotPct']) + \";\" +\n",
    "                                     str(SD['gameWinningGoals']) + \";\" +\n",
    "                                     str(SD['overTimeGoals']) + \";\" +\n",
    "                                     str(SD['shortHandedGoals']) + \";\" +\n",
    "                                     str(SD['shortHandedPoints']) + \";\" +\n",
    "                                     str(SD['shortHandedTimeOnIce']) + \";\" +\n",
    "                                     str(SD['blocked']) + \";\" +\n",
    "                                     str(SD['plusMinus']) + \";\" +\n",
    "                                     str(SD['points']) + \";\" +\n",
    "                                     str(SD['shifts']) + \";\" +\n",
    "                                     str(SD['timeOnIcePerGame']) + \";\" +\n",
    "                                     str(SD['evenTimeOnIcePerGame']) + \";\" +\n",
    "                                     str(SD['shortHandedTimeOnIcePerGame']) + \";\" +\n",
    "                                     str(SD['powerPlayTimeOnIcePerGame']))\n",
    "            \n",
    "            CurrentPlayer = pd.read_csv(CurrentPlayer, sep = \";\")\n",
    "            \n",
    "            SkaterStatistics = SkaterStatistics.append(CurrentPlayer, ignore_index=True)\n",
    "            intCounter += 1\n",
    "        except:\n",
    "            # print(\"Missing Stats for Player \" + PlayerLink + \" \" + SkaterRoster['FullName'][intCounter])\n",
    "            intCounter += 1\n",
    "\n",
    "    AllSkates = AllSkates.merge(SkaterStatistics, on='ID', how='outer')\n",
    "print(AllSkates)\n"
   ]
  },
  {
   "cell_type": "markdown",
   "metadata": {},
   "source": [
    "# Full Player Statistics - Season-by-Season"
   ]
  },
  {
   "cell_type": "code",
   "execution_count": 8,
   "metadata": {},
   "outputs": [
    {
     "data": {
      "application/vnd.jupyter.widget-view+json": {
       "model_id": "8cdbec2948694b0bb0d5aea08805e22b",
       "version_major": 2,
       "version_minor": 0
      },
      "text/plain": [
       "HBox(children=(HTML(value=''), FloatProgress(value=0.0, max=15.0), HTML(value='')))"
      ]
     },
     "metadata": {},
     "output_type": "display_data"
    },
    {
     "data": {
      "application/vnd.jupyter.widget-view+json": {
       "model_id": "f4d792a0948e4d4b860be6675130863a",
       "version_major": 2,
       "version_minor": 0
      },
      "text/plain": [
       "HBox(children=(HTML(value=''), FloatProgress(value=0.0, max=2760.0), HTML(value='')))"
      ]
     },
     "metadata": {},
     "output_type": "display_data"
    },
    {
     "name": "stdout",
     "output_type": "stream",
     "text": [
      "\n"
     ]
    },
    {
     "data": {
      "application/vnd.jupyter.widget-view+json": {
       "model_id": "855c4c8c4b3a43f3bb82be17b8362d75",
       "version_major": 2,
       "version_minor": 0
      },
      "text/plain": [
       "HBox(children=(HTML(value=''), FloatProgress(value=0.0, max=2760.0), HTML(value='')))"
      ]
     },
     "metadata": {},
     "output_type": "display_data"
    },
    {
     "name": "stdout",
     "output_type": "stream",
     "text": [
      "\n"
     ]
    },
    {
     "data": {
      "application/vnd.jupyter.widget-view+json": {
       "model_id": "e16443c59387491d88ec8ef32eb443c5",
       "version_major": 2,
       "version_minor": 0
      },
      "text/plain": [
       "HBox(children=(HTML(value=''), FloatProgress(value=0.0, max=2760.0), HTML(value='')))"
      ]
     },
     "metadata": {},
     "output_type": "display_data"
    },
    {
     "name": "stdout",
     "output_type": "stream",
     "text": [
      "\n"
     ]
    },
    {
     "data": {
      "application/vnd.jupyter.widget-view+json": {
       "model_id": "3e7da30f849f4ccaac827a171dca1468",
       "version_major": 2,
       "version_minor": 0
      },
      "text/plain": [
       "HBox(children=(HTML(value=''), FloatProgress(value=0.0, max=2760.0), HTML(value='')))"
      ]
     },
     "metadata": {},
     "output_type": "display_data"
    },
    {
     "name": "stdout",
     "output_type": "stream",
     "text": [
      "\n"
     ]
    },
    {
     "data": {
      "application/vnd.jupyter.widget-view+json": {
       "model_id": "9ec324645f0c41cdb9c1f654015b8ff7",
       "version_major": 2,
       "version_minor": 0
      },
      "text/plain": [
       "HBox(children=(HTML(value=''), FloatProgress(value=0.0, max=2760.0), HTML(value='')))"
      ]
     },
     "metadata": {},
     "output_type": "display_data"
    },
    {
     "name": "stdout",
     "output_type": "stream",
     "text": [
      "\n"
     ]
    },
    {
     "data": {
      "application/vnd.jupyter.widget-view+json": {
       "model_id": "4c3cda11d68e47d5b37b76bf903825cc",
       "version_major": 2,
       "version_minor": 0
      },
      "text/plain": [
       "HBox(children=(HTML(value=''), FloatProgress(value=0.0, max=2760.0), HTML(value='')))"
      ]
     },
     "metadata": {},
     "output_type": "display_data"
    },
    {
     "name": "stdout",
     "output_type": "stream",
     "text": [
      "\n"
     ]
    },
    {
     "data": {
      "application/vnd.jupyter.widget-view+json": {
       "model_id": "96cefa2052234f91a4e11d209035122d",
       "version_major": 2,
       "version_minor": 0
      },
      "text/plain": [
       "HBox(children=(HTML(value=''), FloatProgress(value=0.0, max=2760.0), HTML(value='')))"
      ]
     },
     "metadata": {},
     "output_type": "display_data"
    },
    {
     "name": "stdout",
     "output_type": "stream",
     "text": [
      "\n"
     ]
    },
    {
     "data": {
      "application/vnd.jupyter.widget-view+json": {
       "model_id": "27aa7daaaae748c0a03fb358b08f171a",
       "version_major": 2,
       "version_minor": 0
      },
      "text/plain": [
       "HBox(children=(HTML(value=''), FloatProgress(value=0.0, max=2760.0), HTML(value='')))"
      ]
     },
     "metadata": {},
     "output_type": "display_data"
    },
    {
     "name": "stdout",
     "output_type": "stream",
     "text": [
      "\n"
     ]
    },
    {
     "data": {
      "application/vnd.jupyter.widget-view+json": {
       "model_id": "14277a6345d646eab01f67a05e8548fd",
       "version_major": 2,
       "version_minor": 0
      },
      "text/plain": [
       "HBox(children=(HTML(value=''), FloatProgress(value=0.0, max=2760.0), HTML(value='')))"
      ]
     },
     "metadata": {},
     "output_type": "display_data"
    },
    {
     "name": "stdout",
     "output_type": "stream",
     "text": [
      "\n"
     ]
    },
    {
     "data": {
      "application/vnd.jupyter.widget-view+json": {
       "model_id": "dbd5d3f16aae44f9a77c97a33c291783",
       "version_major": 2,
       "version_minor": 0
      },
      "text/plain": [
       "HBox(children=(HTML(value=''), FloatProgress(value=0.0, max=2760.0), HTML(value='')))"
      ]
     },
     "metadata": {},
     "output_type": "display_data"
    },
    {
     "name": "stdout",
     "output_type": "stream",
     "text": [
      "\n"
     ]
    },
    {
     "data": {
      "application/vnd.jupyter.widget-view+json": {
       "model_id": "88f21d62077e4e0bb900d90248d56533",
       "version_major": 2,
       "version_minor": 0
      },
      "text/plain": [
       "HBox(children=(HTML(value=''), FloatProgress(value=0.0, max=2760.0), HTML(value='')))"
      ]
     },
     "metadata": {},
     "output_type": "display_data"
    },
    {
     "name": "stdout",
     "output_type": "stream",
     "text": [
      "\n"
     ]
    },
    {
     "data": {
      "application/vnd.jupyter.widget-view+json": {
       "model_id": "13f13f042be94c6e9ef7091d9efcac41",
       "version_major": 2,
       "version_minor": 0
      },
      "text/plain": [
       "HBox(children=(HTML(value=''), FloatProgress(value=0.0, max=2760.0), HTML(value='')))"
      ]
     },
     "metadata": {},
     "output_type": "display_data"
    },
    {
     "name": "stdout",
     "output_type": "stream",
     "text": [
      "\n"
     ]
    },
    {
     "data": {
      "application/vnd.jupyter.widget-view+json": {
       "model_id": "4c4568a7e54b47c0b5120b4b5772a64c",
       "version_major": 2,
       "version_minor": 0
      },
      "text/plain": [
       "HBox(children=(HTML(value=''), FloatProgress(value=0.0, max=2760.0), HTML(value='')))"
      ]
     },
     "metadata": {},
     "output_type": "display_data"
    },
    {
     "name": "stdout",
     "output_type": "stream",
     "text": [
      "\n"
     ]
    },
    {
     "data": {
      "application/vnd.jupyter.widget-view+json": {
       "model_id": "18c33087fe2249b08654da4ee4bfd8d0",
       "version_major": 2,
       "version_minor": 0
      },
      "text/plain": [
       "HBox(children=(HTML(value=''), FloatProgress(value=0.0, max=2760.0), HTML(value='')))"
      ]
     },
     "metadata": {},
     "output_type": "display_data"
    },
    {
     "name": "stdout",
     "output_type": "stream",
     "text": [
      "\n"
     ]
    },
    {
     "data": {
      "application/vnd.jupyter.widget-view+json": {
       "model_id": "65dd44f89bac40b1ba23c0317d13398c",
       "version_major": 2,
       "version_minor": 0
      },
      "text/plain": [
       "HBox(children=(HTML(value=''), FloatProgress(value=0.0, max=2760.0), HTML(value='')))"
      ]
     },
     "metadata": {},
     "output_type": "display_data"
    },
    {
     "name": "stdout",
     "output_type": "stream",
     "text": [
      "\n",
      "\n",
      "          ID      Season Position           FullName      TOI     A     G  \\\n",
      "0    8444919  20052006.0        D      Tommy Albelin   503:20   6.0   0.0   \n",
      "1    8449654  20052006.0       RW  Alexander Mogilny   549:19  13.0  12.0   \n",
      "2    8456850  20052006.0        D           Ken Klee  1393:01  12.0   3.0   \n",
      "3    8457191  20052006.0        D  Vladimir Malakhov   601:14   5.0   4.0   \n",
      "4    8458522  20052006.0        D  Richard Matvichuk  1129:41  10.0   1.0   \n",
      "..       ...         ...      ...                ...      ...   ...   ...   \n",
      "878  8476987  20192020.0        D      Jake Bischoff    62:24   0.0   0.0   \n",
      "879  8478434  20192020.0       RW     Keegan Kolesar    12:06   0.0   0.0   \n",
      "880  8479748  20192020.0        C       Gage Quinney    29:08   1.0   0.0   \n",
      "881  8479980  20192020.0        D      Nicolas Hague   611:24  10.0   1.0   \n",
      "882  8479996  20192020.0        C         Cody Glass   521:03   7.0   5.0   \n",
      "\n",
      "        P   PIM  Shots  ...  SHP   SHTOI  Blocks  PlusMinus   Pts  Shifts  \\\n",
      "0     6.0   2.0   15.0  ...  0.0   18:26    34.0        4.0   6.0   714.0   \n",
      "1    25.0   6.0   93.0  ...  0.0   04:23     5.0       -7.0  25.0   683.0   \n",
      "2    15.0  80.0   70.0  ...  1.0  228:43   106.0       -4.0  15.0  1819.0   \n",
      "3     9.0  26.0   43.0  ...  0.0   87:28    25.0       -9.0   9.0   758.0   \n",
      "4    11.0  40.0   43.0  ...  0.0  171:10   127.0        2.0  11.0  1551.0   \n",
      "..    ...   ...    ...  ...  ...     ...     ...        ...   ...     ...   \n",
      "878   0.0   4.0    6.0  ...  0.0   02:21     8.0       -2.0   0.0    75.0   \n",
      "879   0.0   0.0    1.0  ...  0.0   00:00     0.0        0.0   0.0    15.0   \n",
      "880   1.0   0.0    2.0  ...  0.0   00:00     0.0       -1.0   1.0    42.0   \n",
      "881  11.0  32.0   54.0  ...  0.0   00:57    26.0        0.0  11.0   802.0   \n",
      "882  12.0   6.0   51.0  ...  0.0   01:01     6.0       -7.0  12.0   627.0   \n",
      "\n",
      "     TOIperGame  EVTOIperGame  SHTOIperGame  PPTOIperGame  \n",
      "0         13:58         12:48         00:30         00:39  \n",
      "1         16:09         11:38         00:07         04:22  \n",
      "2         18:49         13:49         03:05         01:55  \n",
      "3         20:43         13:08         03:00         04:34  \n",
      "4         18:13         15:09         02:45         00:17  \n",
      "..          ...           ...           ...           ...  \n",
      "878       15:36         14:52         00:35         00:08  \n",
      "879       12:06         12:06         00:00         00:00  \n",
      "880       09:42         09:42         00:00         00:00  \n",
      "881       16:05         15:09         00:01         00:54  \n",
      "882       13:21         11:06         00:01         02:13  \n",
      "\n",
      "[13201 rows x 32 columns]\n"
     ]
    }
   ],
   "source": [
    "Seasons = ['20052006','20062007','20072008','20082009',\n",
    "           '20092010','20102011','20112012','20122013','20132014','20142015','20152016','20162017','20172018',\n",
    "           '20182019','20192020',]\n",
    "\n",
    "AllSkatesStats = pd.DataFrame(columns=['ID'])\n",
    "# intCounter = 0\n",
    "for Season in tqdm(Seasons):\n",
    "    intCounter = 0\n",
    "    SkaterStatistics = pd.DataFrame()\n",
    "    for PlayerLink in tqdm(SkaterRoster['Link']):\n",
    "        SourceData = pd.DataFrame.from_dict(requests.get(url=\"https://statsapi.web.nhl.com\" + PlayerLink + \"/stats?stats=statsSingleSeason&season=\" + Season).json()).to_dict()['stats'][0]['splits']\n",
    "        # print(PlayerLink)\n",
    "        try:\n",
    "            SD = pd.DataFrame.from_dict(SourceData)['stat']\n",
    "            SD = SD.to_dict()[0]\n",
    "            CurrentPlayer = StringIO(\"\"\"ID;Season;Position;FullName;TOI;A;G;P;PIM;Shots;Games;Hits;PPG;PPP;PPTOI;EVTOI;PIM2;FaceOffPCT;ShtPercent;GWG;OTG;SHG;SHP;SHTOI;Blocks;PlusMinus;Pts;Shifts;TOIperGame;EVTOIperGame;SHTOIperGame;PPTOIperGame\n",
    "                                     \"\"\" + \n",
    "                                     str(SkaterRoster['ID'][intCounter]) + \";\" +\n",
    "                                     str(Season) + \";\" + \n",
    "                                     SkaterRoster['PosAbbreviation'][intCounter] + \";\" +\n",
    "                                     SkaterRoster['FullName'][intCounter] + \";\" +\n",
    "                                     str(SD['timeOnIce']) + \";\" +\n",
    "                                     str(SD['assists']) + \";\" +\n",
    "                                     str(SD['goals']) + \";\" +\n",
    "                                     str(SD['points']) + \";\" +\n",
    "                                     str(SD['pim']) + \";\" +\n",
    "                                     str(SD['shots']) + \";\" +\n",
    "                                     str(SD['games']) + \";\" +\n",
    "                                     str(SD['hits']) + \";\" +\n",
    "                                     str(SD['powerPlayGoals']) + \";\" +\n",
    "                                     str(SD['powerPlayPoints']) + \";\" +\n",
    "                                     str(SD['powerPlayTimeOnIce']) + \";\" +\n",
    "                                     str(SD['evenTimeOnIce']) + \";\" +\n",
    "                                     str(SD['penaltyMinutes']) + \";\" +\n",
    "                                     str(SD['faceOffPct']) + \";\" +\n",
    "                                     str(SD['shotPct']) + \";\" +\n",
    "                                     str(SD['gameWinningGoals']) + \";\" +\n",
    "                                     str(SD['overTimeGoals']) + \";\" +\n",
    "                                     str(SD['shortHandedGoals']) + \";\" +\n",
    "                                     str(SD['shortHandedPoints']) + \";\" +\n",
    "                                     str(SD['shortHandedTimeOnIce']) + \";\" +\n",
    "                                     str(SD['blocked']) + \";\" +\n",
    "                                     str(SD['plusMinus']) + \";\" +\n",
    "                                     str(SD['points']) + \";\" +\n",
    "                                     str(SD['shifts']) + \";\" +\n",
    "                                     str(SD['timeOnIcePerGame']) + \";\" +\n",
    "                                     str(SD['evenTimeOnIcePerGame']) + \";\" +\n",
    "                                     str(SD['shortHandedTimeOnIcePerGame']) + \";\" +\n",
    "                                     str(SD['powerPlayTimeOnIcePerGame']))\n",
    "            \n",
    "            CurrentPlayer = pd.read_csv(CurrentPlayer, sep = \";\")\n",
    "            \n",
    "            SkaterStatistics = SkaterStatistics.append(CurrentPlayer, ignore_index=True)\n",
    "            intCounter += 1\n",
    "        except:\n",
    "            # print(\"Missing Stats for Player \" + PlayerLink + \" \" + SkaterRoster['FullName'][intCounter])\n",
    "            intCounter += 1\n",
    "\n",
    "    AllSkatesStats = AllSkatesStats.append(SkaterStatistics)\n",
    "print(AllSkatesStats)"
   ]
  },
  {
   "cell_type": "code",
   "execution_count": 44,
   "metadata": {},
   "outputs": [
    {
     "name": "stdout",
     "output_type": "stream",
     "text": [
      "          ID    Season Position           FullName      TOI     A     G     P  \\\n",
      "0    8444919  20052006        D      Tommy Albelin   503:20   6.0   0.0   6.0   \n",
      "1    8449654  20052006       RW  Alexander Mogilny   549:19  13.0  12.0  25.0   \n",
      "2    8456850  20052006        D           Ken Klee  1393:01  12.0   3.0  15.0   \n",
      "3    8457191  20052006        D  Vladimir Malakhov   601:14   5.0   4.0   9.0   \n",
      "4    8458522  20052006        D  Richard Matvichuk  1129:41  10.0   1.0  11.0   \n",
      "..       ...       ...      ...                ...      ...   ...   ...   ...   \n",
      "878  8476987  20192020        D      Jake Bischoff    62:24   0.0   0.0   0.0   \n",
      "879  8478434  20192020       RW     Keegan Kolesar    12:06   0.0   0.0   0.0   \n",
      "880  8479748  20192020        C       Gage Quinney    29:08   1.0   0.0   1.0   \n",
      "881  8479980  20192020        D      Nicolas Hague   611:24  10.0   1.0  11.0   \n",
      "882  8479996  20192020        C         Cody Glass   521:03   7.0   5.0  12.0   \n",
      "\n",
      "      PIM  Shots  ...  SHP   SHTOI  Blocks  PlusMinus   Pts  Shifts  \\\n",
      "0     2.0   15.0  ...  0.0   18:26    34.0        4.0   6.0   714.0   \n",
      "1     6.0   93.0  ...  0.0   04:23     5.0       -7.0  25.0   683.0   \n",
      "2    80.0   70.0  ...  1.0  228:43   106.0       -4.0  15.0  1819.0   \n",
      "3    26.0   43.0  ...  0.0   87:28    25.0       -9.0   9.0   758.0   \n",
      "4    40.0   43.0  ...  0.0  171:10   127.0        2.0  11.0  1551.0   \n",
      "..    ...    ...  ...  ...     ...     ...        ...   ...     ...   \n",
      "878   4.0    6.0  ...  0.0   02:21     8.0       -2.0   0.0    75.0   \n",
      "879   0.0    1.0  ...  0.0   00:00     0.0        0.0   0.0    15.0   \n",
      "880   0.0    2.0  ...  0.0   00:00     0.0       -1.0   1.0    42.0   \n",
      "881  32.0   54.0  ...  0.0   00:57    26.0        0.0  11.0   802.0   \n",
      "882   6.0   51.0  ...  0.0   01:01     6.0       -7.0  12.0   627.0   \n",
      "\n",
      "     TOIperGame  EVTOIperGame  SHTOIperGame  PPTOIperGame  \n",
      "0         13:58         12:48         00:30         00:39  \n",
      "1         16:09         11:38         00:07         04:22  \n",
      "2         18:49         13:49         03:05         01:55  \n",
      "3         20:43         13:08         03:00         04:34  \n",
      "4         18:13         15:09         02:45         00:17  \n",
      "..          ...           ...           ...           ...  \n",
      "878       15:36         14:52         00:35         00:08  \n",
      "879       12:06         12:06         00:00         00:00  \n",
      "880       09:42         09:42         00:00         00:00  \n",
      "881       16:05         15:09         00:01         00:54  \n",
      "882       13:21         11:06         00:01         02:13  \n",
      "\n",
      "[13201 rows x 32 columns]\n"
     ]
    }
   ],
   "source": [
    "ASS = AllSkatesStats\n",
    "ASS['Season'] = ASS['Season'].apply(float)\n",
    "ASS.Season = ASS.Season.round(0)\n",
    "ASS['Season'] = ASS['Season'].apply(int)\n",
    "print(ASS)\n",
    "\n",
    "ASS.to_csv(\"SkaterSeasonStats.csv\")"
   ]
  },
  {
   "cell_type": "markdown",
   "metadata": {},
   "source": [
    "# Goalie Stats - Season by Season"
   ]
  },
  {
   "cell_type": "code",
   "execution_count": 11,
   "metadata": {},
   "outputs": [
    {
     "name": "stdout",
     "output_type": "stream",
     "text": [
      "0      /api/v1/people/8455710\n",
      "1      /api/v1/people/8466339\n",
      "2      /api/v1/people/8458075\n",
      "3      /api/v1/people/8468481\n",
      "4      /api/v1/people/8470584\n",
      "                ...          \n",
      "293    /api/v1/people/8479530\n",
      "294    /api/v1/people/8479979\n",
      "295    /api/v1/people/8478007\n",
      "296    /api/v1/people/8480162\n",
      "297    /api/v1/people/8478039\n",
      "Name: Link, Length: 298, dtype: object\n"
     ]
    }
   ],
   "source": [
    "print(GoalieRoster['Link'])"
   ]
  },
  {
   "cell_type": "code",
   "execution_count": null,
   "metadata": {},
   "outputs": [
    {
     "data": {
      "application/vnd.jupyter.widget-view+json": {
       "model_id": "f931fedd141944cd811d122ee90d782d",
       "version_major": 2,
       "version_minor": 0
      },
      "text/plain": [
       "HBox(children=(HTML(value=''), FloatProgress(value=0.0, max=15.0), HTML(value='')))"
      ]
     },
     "metadata": {},
     "output_type": "display_data"
    },
    {
     "data": {
      "application/vnd.jupyter.widget-view+json": {
       "model_id": "cccc71e661aa4b2cb3075fa8927724fa",
       "version_major": 2,
       "version_minor": 0
      },
      "text/plain": [
       "HBox(children=(HTML(value=''), FloatProgress(value=0.0, max=298.0), HTML(value='')))"
      ]
     },
     "metadata": {},
     "output_type": "display_data"
    },
    {
     "name": "stdout",
     "output_type": "stream",
     "text": [
      "\n"
     ]
    },
    {
     "data": {
      "application/vnd.jupyter.widget-view+json": {
       "model_id": "dcec0581538b43c79aa144402530fb3f",
       "version_major": 2,
       "version_minor": 0
      },
      "text/plain": [
       "HBox(children=(HTML(value=''), FloatProgress(value=0.0, max=298.0), HTML(value='')))"
      ]
     },
     "metadata": {},
     "output_type": "display_data"
    },
    {
     "name": "stdout",
     "output_type": "stream",
     "text": [
      "\n"
     ]
    },
    {
     "data": {
      "application/vnd.jupyter.widget-view+json": {
       "model_id": "88088247e6774c6aa5401ed8c5331010",
       "version_major": 2,
       "version_minor": 0
      },
      "text/plain": [
       "HBox(children=(HTML(value=''), FloatProgress(value=0.0, max=298.0), HTML(value='')))"
      ]
     },
     "metadata": {},
     "output_type": "display_data"
    },
    {
     "name": "stdout",
     "output_type": "stream",
     "text": [
      "\n"
     ]
    },
    {
     "data": {
      "application/vnd.jupyter.widget-view+json": {
       "model_id": "063571ef01694ab38036f1a978199f65",
       "version_major": 2,
       "version_minor": 0
      },
      "text/plain": [
       "HBox(children=(HTML(value=''), FloatProgress(value=0.0, max=298.0), HTML(value='')))"
      ]
     },
     "metadata": {},
     "output_type": "display_data"
    },
    {
     "name": "stdout",
     "output_type": "stream",
     "text": [
      "\n"
     ]
    },
    {
     "data": {
      "application/vnd.jupyter.widget-view+json": {
       "model_id": "2009083005b1472ca4df3067df9a00c2",
       "version_major": 2,
       "version_minor": 0
      },
      "text/plain": [
       "HBox(children=(HTML(value=''), FloatProgress(value=0.0, max=298.0), HTML(value='')))"
      ]
     },
     "metadata": {},
     "output_type": "display_data"
    },
    {
     "name": "stdout",
     "output_type": "stream",
     "text": [
      "\n"
     ]
    },
    {
     "data": {
      "application/vnd.jupyter.widget-view+json": {
       "model_id": "e1a13f0086b44e3cbc0c6b2a5cb7a67b",
       "version_major": 2,
       "version_minor": 0
      },
      "text/plain": [
       "HBox(children=(HTML(value=''), FloatProgress(value=0.0, max=298.0), HTML(value='')))"
      ]
     },
     "metadata": {},
     "output_type": "display_data"
    },
    {
     "name": "stdout",
     "output_type": "stream",
     "text": [
      "\n"
     ]
    },
    {
     "data": {
      "application/vnd.jupyter.widget-view+json": {
       "model_id": "a25087e8ebcc4cffaed3ba3a136b6d41",
       "version_major": 2,
       "version_minor": 0
      },
      "text/plain": [
       "HBox(children=(HTML(value=''), FloatProgress(value=0.0, max=298.0), HTML(value='')))"
      ]
     },
     "metadata": {},
     "output_type": "display_data"
    },
    {
     "name": "stdout",
     "output_type": "stream",
     "text": [
      "\n"
     ]
    },
    {
     "data": {
      "application/vnd.jupyter.widget-view+json": {
       "model_id": "92e0353aa98c494fb96ff28e1678a32f",
       "version_major": 2,
       "version_minor": 0
      },
      "text/plain": [
       "HBox(children=(HTML(value=''), FloatProgress(value=0.0, max=298.0), HTML(value='')))"
      ]
     },
     "metadata": {},
     "output_type": "display_data"
    },
    {
     "name": "stdout",
     "output_type": "stream",
     "text": [
      "\n"
     ]
    },
    {
     "data": {
      "application/vnd.jupyter.widget-view+json": {
       "model_id": "adc4941ac1ed4d9bab1faebbf264833b",
       "version_major": 2,
       "version_minor": 0
      },
      "text/plain": [
       "HBox(children=(HTML(value=''), FloatProgress(value=0.0, max=298.0), HTML(value='')))"
      ]
     },
     "metadata": {},
     "output_type": "display_data"
    },
    {
     "name": "stdout",
     "output_type": "stream",
     "text": [
      "\n"
     ]
    },
    {
     "data": {
      "application/vnd.jupyter.widget-view+json": {
       "model_id": "8125b82b45b94090a7b5301242fdcd7b",
       "version_major": 2,
       "version_minor": 0
      },
      "text/plain": [
       "HBox(children=(HTML(value=''), FloatProgress(value=0.0, max=298.0), HTML(value='')))"
      ]
     },
     "metadata": {},
     "output_type": "display_data"
    },
    {
     "name": "stdout",
     "output_type": "stream",
     "text": [
      "\n"
     ]
    },
    {
     "data": {
      "application/vnd.jupyter.widget-view+json": {
       "model_id": "dd5cf0a1535a40878c4a643776ebd1fd",
       "version_major": 2,
       "version_minor": 0
      },
      "text/plain": [
       "HBox(children=(HTML(value=''), FloatProgress(value=0.0, max=298.0), HTML(value='')))"
      ]
     },
     "metadata": {},
     "output_type": "display_data"
    },
    {
     "name": "stdout",
     "output_type": "stream",
     "text": [
      "\n"
     ]
    },
    {
     "data": {
      "application/vnd.jupyter.widget-view+json": {
       "model_id": "3f771a16ee4747ce9ae78aa5fd52d9a2",
       "version_major": 2,
       "version_minor": 0
      },
      "text/plain": [
       "HBox(children=(HTML(value=''), FloatProgress(value=0.0, max=298.0), HTML(value='')))"
      ]
     },
     "metadata": {},
     "output_type": "display_data"
    },
    {
     "name": "stdout",
     "output_type": "stream",
     "text": [
      "\n"
     ]
    },
    {
     "data": {
      "application/vnd.jupyter.widget-view+json": {
       "model_id": "d997f228016543b6868efa9cc2dcdf04",
       "version_major": 2,
       "version_minor": 0
      },
      "text/plain": [
       "HBox(children=(HTML(value=''), FloatProgress(value=0.0, max=298.0), HTML(value='')))"
      ]
     },
     "metadata": {},
     "output_type": "display_data"
    },
    {
     "name": "stdout",
     "output_type": "stream",
     "text": [
      "\n"
     ]
    },
    {
     "data": {
      "application/vnd.jupyter.widget-view+json": {
       "model_id": "50123645a8ca448a83c1acfb684e56c0",
       "version_major": 2,
       "version_minor": 0
      },
      "text/plain": [
       "HBox(children=(HTML(value=''), FloatProgress(value=0.0, max=298.0), HTML(value='')))"
      ]
     },
     "metadata": {},
     "output_type": "display_data"
    },
    {
     "name": "stdout",
     "output_type": "stream",
     "text": [
      "\n"
     ]
    },
    {
     "data": {
      "application/vnd.jupyter.widget-view+json": {
       "model_id": "21fba49da69a4382a0a9e833b6605f5d",
       "version_major": 2,
       "version_minor": 0
      },
      "text/plain": [
       "HBox(children=(HTML(value=''), FloatProgress(value=0.0, max=298.0), HTML(value='')))"
      ]
     },
     "metadata": {},
     "output_type": "display_data"
    }
   ],
   "source": [
    "Seasons = ['20052006','20062007','20072008','20082009',\n",
    "           '20092010','20102011','20112012','20122013','20132014','20142015','20152016','20162017','20172018',\n",
    "           '20182019','20192020',]\n",
    "# Seasons = ['20192020']\n",
    "\n",
    "GoalieStatistics = pd.DataFrame()\n",
    "\n",
    "AllGoalieStats = pd.DataFrame(columns=['ID'])\n",
    "# intCounter = 0\n",
    "for Season in tqdm(Seasons):\n",
    "    intCounter = 0\n",
    "    GoalieStatistics = pd.DataFrame()\n",
    "    for PlayerLink in tqdm(GoalieRoster['Link']):\n",
    "        SourceData = pd.DataFrame.from_dict(requests.get(url=\"https://statsapi.web.nhl.com\" + PlayerLink + \"/stats?stats=statsSingleSeason&season=\" + Season).json()).to_dict()['stats'][0]['splits']\n",
    "        # print(SourceData)\n",
    "        try:\n",
    "            SD = pd.DataFrame.from_dict(SourceData)\n",
    "            SD = SD.to_dict()['stat'][0]\n",
    "            \n",
    "            CurrentPlayer = StringIO(\"\"\"ID;Season;Position;FullName;TOI;OT;SO;W;L;Saves;PPSaves;SHSaves;EVSaves;SHShots;EVShots;PPShots;SvPct;GAA;G;GS;ShotsAgainst;GoalsAgainst;TOIperGame;PPSvPct;SHSvPct;EVSvPct\n",
    "            \"\"\" +\n",
    "                                     str(GoalieRoster['ID'][intCounter]) + \";\" +\n",
    "                                     str(Season) + \";\" + \n",
    "                                     GoalieRoster['PosAbbreviation'][intCounter] + \";\" +\n",
    "                                     GoalieRoster['FullName'][intCounter] + \";\" +\n",
    "#                                      GoalieRoster['Team'][intCounter] + \";\" +\n",
    "                                     str(SD['timeOnIce']) + \";\" +\n",
    "                                     str(SD['ot']) + \";\" +\n",
    "                                     str(SD['shutouts']) + \";\" +\n",
    "#                                      str(SD['ties']) + \";\" +\n",
    "                                     str(SD['wins']) + \";\" +\n",
    "                                     str(SD['losses']) + \";\" +\n",
    "                                     str(SD['saves']) + \";\" +\n",
    "                                     str(SD['powerPlaySaves']) + \";\" +\n",
    "                                     str(SD['shortHandedSaves']) + \";\" +\n",
    "                                     str(SD['evenSaves']) + \";\" +\n",
    "                                     str(SD['shortHandedShots']) + \";\" +\n",
    "                                     str(SD['evenShots']) + \";\" +\n",
    "                                     str(SD['powerPlayShots']) + \";\" +\n",
    "                                     str(SD['savePercentage']) + \";\" +\n",
    "                                     str(SD['goalAgainstAverage']) + \";\" +\n",
    "                                     str(SD['games']) + \";\" +\n",
    "                                     str(SD['gamesStarted']) + \";\" +\n",
    "                                     str(SD['shotsAgainst']) + \";\" +\n",
    "                                     str(SD['goalsAgainst']) + \";\" +\n",
    "                                     str(SD['timeOnIcePerGame']) + \";\" +\n",
    "                                     str(SD['powerPlaySavePercentage']) + \";\" +\n",
    "                                     str(SD['shortHandedSavePercentage']) + \";\" +\n",
    "                                     str(SD['evenStrengthSavePercentage']))\n",
    "            \n",
    "            CurrentPlayer = pd.read_csv(CurrentPlayer, sep = \";\")\n",
    "            \n",
    "            GoalieStatistics = GoalieStatistics.append(CurrentPlayer, ignore_index=True)\n",
    "#             print(\"Found\")\n",
    "            intCounter += 1\n",
    "        except:\n",
    "#             print(\"Missing Stats for Player \" + PlayerLink + \" \" + GoalieRoster['FullName'][intCounter])\n",
    "            intCounter += 1\n",
    "\n",
    "    AllGoalieStats = AllGoalieStats.append(GoalieStatistics)\n",
    "print(AllGoalieStats)\n",
    "\n"
   ]
  },
  {
   "cell_type": "code",
   "execution_count": null,
   "metadata": {},
   "outputs": [],
   "source": [
    "AGS = AllGoalieStats\n",
    "AGS['Season'] = AGS['Season'].apply(float)\n",
    "AGS.Season = AGS.Season.round(0)\n",
    "AGS['Season'] = AGS['Season'].apply(int)\n",
    "print(AGS)\n",
    "\n",
    "AGS.to_csv(\"GoalieSeasonStats.csv\")"
   ]
  },
  {
   "cell_type": "code",
   "execution_count": 12,
   "metadata": {},
   "outputs": [
    {
     "name": "stderr",
     "output_type": "stream",
     "text": [
      "2020-12-20 18:55:24.367 INFO    numexpr.utils: NumExpr defaulting to 8 threads.\n"
     ]
    },
    {
     "name": "stdout",
     "output_type": "stream",
     "text": [
      "           ID Position_x         FullName_x TOI20052006  A20052006  G20052006  \\\n",
      "0     8444919          D      Tommy Albelin      503:20        6.0        0.0   \n",
      "1     8449654         RW  Alexander Mogilny      549:19       13.0       12.0   \n",
      "2     8456850          D           Ken Klee     1393:01       12.0        3.0   \n",
      "3     8457191          D  Vladimir Malakhov      601:14        5.0        4.0   \n",
      "4     8458522          D  Richard Matvichuk     1129:41       10.0        1.0   \n",
      "...       ...        ...                ...         ...        ...        ...   \n",
      "2750  8476987        NaN                NaN         NaN        NaN        NaN   \n",
      "2751  8478434        NaN                NaN         NaN        NaN        NaN   \n",
      "2752  8479748        NaN                NaN         NaN        NaN        NaN   \n",
      "2753  8479980        NaN                NaN         NaN        NaN        NaN   \n",
      "2754  8479996        NaN                NaN         NaN        NaN        NaN   \n",
      "\n",
      "      P20052006  PIM20052006  Shots20052006  Games20052006  ...  SHP20192020  \\\n",
      "0           6.0          2.0           15.0           36.0  ...          NaN   \n",
      "1          25.0          6.0           93.0           34.0  ...          NaN   \n",
      "2          15.0         80.0           70.0           74.0  ...          NaN   \n",
      "3           9.0         26.0           43.0           29.0  ...          NaN   \n",
      "4          11.0         40.0           43.0           62.0  ...          NaN   \n",
      "...         ...          ...            ...            ...  ...          ...   \n",
      "2750        NaN          NaN            NaN            NaN  ...          0.0   \n",
      "2751        NaN          NaN            NaN            NaN  ...          0.0   \n",
      "2752        NaN          NaN            NaN            NaN  ...          0.0   \n",
      "2753        NaN          NaN            NaN            NaN  ...          0.0   \n",
      "2754        NaN          NaN            NaN            NaN  ...          0.0   \n",
      "\n",
      "      SHTOI20192020  Blocks20192020 PlusMinus20192020 Pts20192020  \\\n",
      "0               NaN             NaN               NaN         NaN   \n",
      "1               NaN             NaN               NaN         NaN   \n",
      "2               NaN             NaN               NaN         NaN   \n",
      "3               NaN             NaN               NaN         NaN   \n",
      "4               NaN             NaN               NaN         NaN   \n",
      "...             ...             ...               ...         ...   \n",
      "2750          02:21             8.0              -2.0         0.0   \n",
      "2751          00:00             0.0               0.0         0.0   \n",
      "2752          00:00             0.0              -1.0         1.0   \n",
      "2753          00:57            26.0               0.0        11.0   \n",
      "2754          01:01             6.0              -7.0        12.0   \n",
      "\n",
      "      Shifts20192020  TOIperGame20192020  EVTOIperGame20192020  \\\n",
      "0                NaN                 NaN                   NaN   \n",
      "1                NaN                 NaN                   NaN   \n",
      "2                NaN                 NaN                   NaN   \n",
      "3                NaN                 NaN                   NaN   \n",
      "4                NaN                 NaN                   NaN   \n",
      "...              ...                 ...                   ...   \n",
      "2750            75.0               15:36                 14:52   \n",
      "2751            15.0               12:06                 12:06   \n",
      "2752            42.0               09:42                 09:42   \n",
      "2753           802.0               16:05                 15:09   \n",
      "2754           627.0               13:21                 11:06   \n",
      "\n",
      "      SHTOIperGame20192020  PPTOIperGame20192020  \n",
      "0                      NaN                   NaN  \n",
      "1                      NaN                   NaN  \n",
      "2                      NaN                   NaN  \n",
      "3                      NaN                   NaN  \n",
      "4                      NaN                   NaN  \n",
      "...                    ...                   ...  \n",
      "2750                 00:35                 00:08  \n",
      "2751                 00:00                 00:00  \n",
      "2752                 00:00                 00:00  \n",
      "2753                 00:01                 00:54  \n",
      "2754                 00:01                 02:13  \n",
      "\n",
      "[2755 rows x 427 columns]\n",
      "      index       ID Position           FullName                    Link  \\\n",
      "0         0  8444919        D      Tommy Albelin  /api/v1/people/8444919   \n",
      "1         1  8449654        R  Alexander Mogilny  /api/v1/people/8449654   \n",
      "2         2  8456850        D           Ken Klee  /api/v1/people/8456850   \n",
      "3         3  8457191        D  Vladimir Malakhov  /api/v1/people/8457191   \n",
      "4         4  8458522        D  Richard Matvichuk  /api/v1/people/8458522   \n",
      "...     ...      ...      ...                ...                     ...   \n",
      "2755   3053  8476987        D      Jake Bischoff  /api/v1/people/8476987   \n",
      "2756   3054  8478434        R     Keegan Kolesar  /api/v1/people/8478434   \n",
      "2757   3055  8479748        C       Gage Quinney  /api/v1/people/8479748   \n",
      "2758   3056  8479980        D      Nicolas Hague  /api/v1/people/8479980   \n",
      "2759   3057  8479996        C         Cody Glass  /api/v1/people/8479996   \n",
      "\n",
      "      FirstName   LastName  PrimaryNumber   BirthDate      BirthCity  \\\n",
      "0         Tommy    Albelin              6  1964-05-21      Stockholm   \n",
      "1     Alexander    Mogilny             89  1969-02-18     Khabarovsk   \n",
      "2           Ken       Klee              2  1971-04-24   Indianapolis   \n",
      "3      Vladimir   Malakhov              2  1968-08-30  Sverdlovskurg   \n",
      "4       Richard  Matvichuk             24  1973-02-05       Edmonton   \n",
      "...         ...        ...            ...         ...            ...   \n",
      "2755       Jake   Bischoff             45  1994-07-25      Cambridge   \n",
      "2756     Keegan    Kolesar             55  1997-04-08        Brandon   \n",
      "2757       Gage    Quinney             72  1995-07-29      Las Vegas   \n",
      "2758    Nicolas      Hague             14  1998-12-05      Kitchener   \n",
      "2759       Cody      Glass              9  1999-04-01       Winnipeg   \n",
      "\n",
      "     BirthProvState BirthCountry Nationality  Height  Weight  Active  Rookie  \\\n",
      "0               NaN          SWE         SWE   6' 2\"     195   False   False   \n",
      "1               NaN          RUS         RUS   6' 0\"     210   False   False   \n",
      "2                IN          USA         USA   6' 1\"     210   False   False   \n",
      "3               NaN          RUS         RUS   6' 4\"     230   False   False   \n",
      "4                AB          CAN         CAN   6' 3\"     210   False   False   \n",
      "...             ...          ...         ...     ...     ...     ...     ...   \n",
      "2755             MN          USA         USA   6' 1\"     194    True    True   \n",
      "2756             MB          CAN         CAN   6' 2\"     227    True    True   \n",
      "2757             NV          USA         USA  5' 11\"     200    True    True   \n",
      "2758             ON          CAN         CAN   6' 6\"     221    True    True   \n",
      "2759             MB          CAN         CAN   6' 2\"     192    True    True   \n",
      "\n",
      "     RosterStatus  \n",
      "0               Y  \n",
      "1               N  \n",
      "2               Y  \n",
      "3               N  \n",
      "4               N  \n",
      "...           ...  \n",
      "2755            N  \n",
      "2756            N  \n",
      "2757            N  \n",
      "2758            N  \n",
      "2759            N  \n",
      "\n",
      "[2760 rows x 18 columns]\n"
     ]
    },
    {
     "name": "stderr",
     "output_type": "stream",
     "text": [
      "C:\\Users\\brett\\anaconda3\\envs\\NHLStatistics\\lib\\site-packages\\pandas\\core\\generic.py:2434: PerformanceWarning: \n",
      "your performance may suffer as PyTables will pickle object types that it cannot\n",
      "map directly to c-types [inferred_type->mixed,key->block1_values] [items->Index(['Position_x', 'FullName_x', 'TOI20052006', 'PPTOI20052006',\n",
      "       'EVTOI20052006', 'SHTOI20052006', 'TOIperGame20052006',\n",
      "       'EVTOIperGame20052006', 'SHTOIperGame20052006', 'PPTOIperGame20052006',\n",
      "       ...\n",
      "       'Position', 'FullName', 'TOI20192020', 'PPTOI20192020', 'EVTOI20192020',\n",
      "       'SHTOI20192020', 'TOIperGame20192020', 'EVTOIperGame20192020',\n",
      "       'SHTOIperGame20192020', 'PPTOIperGame20192020'],\n",
      "      dtype='object', length=126)]\n",
      "\n",
      "  pytables.to_hdf(\n",
      "C:\\Users\\brett\\anaconda3\\envs\\NHLStatistics\\lib\\site-packages\\pandas\\core\\generic.py:2434: PerformanceWarning: \n",
      "your performance may suffer as PyTables will pickle object types that it cannot\n",
      "map directly to c-types [inferred_type->mixed,key->block2_values] [items->Index(['Position', 'FullName', 'Link', 'FirstName', 'LastName', 'BirthDate',\n",
      "       'BirthCity', 'BirthProvState', 'BirthCountry', 'Nationality', 'Height',\n",
      "       'RosterStatus'],\n",
      "      dtype='object')]\n",
      "\n",
      "  pytables.to_hdf(\n"
     ]
    }
   ],
   "source": [
    "AS = pd.DataFrame(AllSkates)\n",
    "\n",
    "AS = AS.loc[:,~AS.columns.duplicated()]\n",
    "\n",
    "print(AS)\n",
    "print(FSkaterDetails)\n",
    "\n",
    "AS.to_hdf(\"AllSkaterStats.h5\", key = \"AllSkaterStatistics\")\n",
    "FSkaterDetails.to_hdf(\"AllSkaterDetails.h5\", key=\"AllSkaterDetails\")\n",
    "FSkaterDetails.to_csv(\"FullSkaterDetails.csv\")"
   ]
  },
  {
   "cell_type": "code",
   "execution_count": 13,
   "metadata": {},
   "outputs": [
    {
     "name": "stdout",
     "output_type": "stream",
     "text": [
      "      index       ID Position_x         FullName_x                    Link  \\\n",
      "0         0  8444919          D      Tommy Albelin  /api/v1/people/8444919   \n",
      "1         1  8449654          R  Alexander Mogilny  /api/v1/people/8449654   \n",
      "2         2  8456850          D           Ken Klee  /api/v1/people/8456850   \n",
      "3         3  8457191          D  Vladimir Malakhov  /api/v1/people/8457191   \n",
      "4         4  8458522          D  Richard Matvichuk  /api/v1/people/8458522   \n",
      "...     ...      ...        ...                ...                     ...   \n",
      "2755   3053  8476987          D      Jake Bischoff  /api/v1/people/8476987   \n",
      "2756   3054  8478434          R     Keegan Kolesar  /api/v1/people/8478434   \n",
      "2757   3055  8479748          C       Gage Quinney  /api/v1/people/8479748   \n",
      "2758   3056  8479980          D      Nicolas Hague  /api/v1/people/8479980   \n",
      "2759   3057  8479996          C         Cody Glass  /api/v1/people/8479996   \n",
      "\n",
      "      FirstName   LastName  PrimaryNumber   BirthDate      BirthCity  ...  \\\n",
      "0         Tommy    Albelin              6  1964-05-21      Stockholm  ...   \n",
      "1     Alexander    Mogilny             89  1969-02-18     Khabarovsk  ...   \n",
      "2           Ken       Klee              2  1971-04-24   Indianapolis  ...   \n",
      "3      Vladimir   Malakhov              2  1968-08-30  Sverdlovskurg  ...   \n",
      "4       Richard  Matvichuk             24  1973-02-05       Edmonton  ...   \n",
      "...         ...        ...            ...         ...            ...  ...   \n",
      "2755       Jake   Bischoff             45  1994-07-25      Cambridge  ...   \n",
      "2756     Keegan    Kolesar             55  1997-04-08        Brandon  ...   \n",
      "2757       Gage    Quinney             72  1995-07-29      Las Vegas  ...   \n",
      "2758    Nicolas      Hague             14  1998-12-05      Kitchener  ...   \n",
      "2759       Cody      Glass              9  1999-04-01       Winnipeg  ...   \n",
      "\n",
      "     SHP20192020 SHTOI20192020 Blocks20192020 PlusMinus20192020  Pts20192020  \\\n",
      "0            NaN           NaN            NaN               NaN          NaN   \n",
      "1            NaN           NaN            NaN               NaN          NaN   \n",
      "2            NaN           NaN            NaN               NaN          NaN   \n",
      "3            NaN           NaN            NaN               NaN          NaN   \n",
      "4            NaN           NaN            NaN               NaN          NaN   \n",
      "...          ...           ...            ...               ...          ...   \n",
      "2755         0.0         02:21            8.0              -2.0          0.0   \n",
      "2756         0.0         00:00            0.0               0.0          0.0   \n",
      "2757         0.0         00:00            0.0              -1.0          1.0   \n",
      "2758         0.0         00:57           26.0               0.0         11.0   \n",
      "2759         0.0         01:01            6.0              -7.0         12.0   \n",
      "\n",
      "      Shifts20192020  TOIperGame20192020 EVTOIperGame20192020  \\\n",
      "0                NaN                 NaN                  NaN   \n",
      "1                NaN                 NaN                  NaN   \n",
      "2                NaN                 NaN                  NaN   \n",
      "3                NaN                 NaN                  NaN   \n",
      "4                NaN                 NaN                  NaN   \n",
      "...              ...                 ...                  ...   \n",
      "2755            75.0               15:36                14:52   \n",
      "2756            15.0               12:06                12:06   \n",
      "2757            42.0               09:42                09:42   \n",
      "2758           802.0               16:05                15:09   \n",
      "2759           627.0               13:21                11:06   \n",
      "\n",
      "     SHTOIperGame20192020 PPTOIperGame20192020  \n",
      "0                     NaN                  NaN  \n",
      "1                     NaN                  NaN  \n",
      "2                     NaN                  NaN  \n",
      "3                     NaN                  NaN  \n",
      "4                     NaN                  NaN  \n",
      "...                   ...                  ...  \n",
      "2755                00:35                00:08  \n",
      "2756                00:00                00:00  \n",
      "2757                00:00                00:00  \n",
      "2758                00:01                00:54  \n",
      "2759                00:01                02:13  \n",
      "\n",
      "[2760 rows x 444 columns]\n"
     ]
    },
    {
     "name": "stderr",
     "output_type": "stream",
     "text": [
      "C:\\Users\\brett\\anaconda3\\envs\\NHLStatistics\\lib\\site-packages\\pandas\\core\\generic.py:2434: PerformanceWarning: \n",
      "your performance may suffer as PyTables will pickle object types that it cannot\n",
      "map directly to c-types [inferred_type->mixed,key->block1_values] [items->Index(['Position_x', 'FullName_x', 'Link', 'FirstName', 'LastName',\n",
      "       'BirthDate', 'BirthCity', 'BirthProvState', 'BirthCountry',\n",
      "       'Nationality',\n",
      "       ...\n",
      "       'SHTOIperGame20182019', 'PPTOIperGame20182019', 'TOI20192020',\n",
      "       'PPTOI20192020', 'EVTOI20192020', 'SHTOI20192020', 'TOIperGame20192020',\n",
      "       'EVTOIperGame20192020', 'SHTOIperGame20192020', 'PPTOIperGame20192020'],\n",
      "      dtype='object', length=134)]\n",
      "\n",
      "  pytables.to_hdf(\n"
     ]
    }
   ],
   "source": [
    "FullData = FSkaterDetails.merge(AS, on=\"ID\", how=\"outer\")\n",
    "FullData = FullData.drop_duplicates(subset=['ID'],ignore_index=True)\n",
    "print(FullData)\n",
    "\n",
    "FullData = FullData.loc[:,~FullData.columns.duplicated()]\n",
    "\n",
    "\n",
    "FullData.to_hdf(\"Complete Skater Data.hdf\", \"FullSkater\")\n",
    "FullData.to_csv(\"CompleteSkaterData.csv\")"
   ]
  },
  {
   "cell_type": "code",
   "execution_count": null,
   "metadata": {},
   "outputs": [],
   "source": []
  },
  {
   "cell_type": "code",
   "execution_count": null,
   "metadata": {},
   "outputs": [],
   "source": []
  },
  {
   "cell_type": "code",
   "execution_count": 14,
   "metadata": {},
   "outputs": [
    {
     "name": "stdout",
     "output_type": "stream",
     "text": [
      "0       1964\n",
      "1       1969\n",
      "2       1971\n",
      "3       1968\n",
      "4       1973\n",
      "        ... \n",
      "2755    1994\n",
      "2756    1997\n",
      "2757    1995\n",
      "2758    1998\n",
      "2759    1999\n",
      "Name: BirthDate, Length: 2760, dtype: int32\n",
      "0       54\n",
      "1       49\n",
      "2       47\n",
      "3       50\n",
      "4       45\n",
      "        ..\n",
      "2755    24\n",
      "2756    21\n",
      "2757    23\n",
      "2758    20\n",
      "2759    19\n",
      "Name: BirthDate, Length: 2760, dtype: int32\n"
     ]
    }
   ],
   "source": [
    "FullData['BirthDate'] = pd.to_datetime(FullData['BirthDate'], format = '%Y-%m-%d').dt.strftime('%Y').astype(int)\n",
    "\n",
    "print(FullData['BirthDate'])\n",
    "\n",
    "Test = 2018-FullData['BirthDate']\n",
    "print(Test)"
   ]
  },
  {
   "cell_type": "code",
   "execution_count": 15,
   "metadata": {},
   "outputs": [
    {
     "name": "stdout",
     "output_type": "stream",
     "text": [
      "2018\n",
      "     Target       ID Position             FullName                    Link  \\\n",
      "0      61.0  8470610        L          Zach Parise  /api/v1/people/8470610   \n",
      "1      33.0  8470604        C          Jeff Carter  /api/v1/people/8470604   \n",
      "2       9.0  8468498        D         Brooks Orpik  /api/v1/people/8468498   \n",
      "3     100.0  8471675        C        Sidney Crosby  /api/v1/people/8471675   \n",
      "4      51.0  8466138        C         Joe Thornton  /api/v1/people/8466138   \n",
      "..      ...      ...      ...                  ...                     ...   \n",
      "901     1.0  8480005        L  Kristian Vesalainen  /api/v1/people/8480005   \n",
      "902     1.0  8478047        L      Michael Bunting  /api/v1/people/8478047   \n",
      "903    18.0  8478856        R        Conor Garland  /api/v1/people/8478856   \n",
      "904     4.0  8480950        D      Ilya Lyubushkin  /api/v1/people/8480950   \n",
      "905     1.0  8481486        D        Jimmy Schuldt  /api/v1/people/8481486   \n",
      "\n",
      "    FirstName    LastName  Number  Age           City  ... SHP5Years  \\\n",
      "0        Zach      Parise      11   34    Minneapolis  ...       1.0   \n",
      "1        Jeff      Carter      77   33         London  ...       1.0   \n",
      "2      Brooks       Orpik      44   38  San Francisco  ...       0.0   \n",
      "3      Sidney      Crosby      87   31   Cole Harbour  ...       0.0   \n",
      "4         Joe    Thornton      97   39         London  ...       1.0   \n",
      "..        ...         ...     ...  ...            ...  ...       ...   \n",
      "901  Kristian  Vesalainen      93   19       Helsinki  ...       NaN   \n",
      "902   Michael     Bunting      58   23    Scarborough  ...       NaN   \n",
      "903     Conor     Garland      83   22       Scituate  ...       NaN   \n",
      "904      Ilya  Lyubushkin      46   24         Moscow  ...       NaN   \n",
      "905     Jimmy     Schuldt       4   23     Minnetonka  ...       NaN   \n",
      "\n",
      "    SHTOI5Years Blocks5Years PlusMinus5Years  Pts25Years  Shifts5Years  \\\n",
      "0         69:23         45.0            10.0        56.0        1674.0   \n",
      "1        108:46         29.0             8.0        50.0        1731.0   \n",
      "2        212:03        143.0            -3.0        13.0        1771.0   \n",
      "3         40:20         28.0            18.0       104.0        1917.0   \n",
      "4         28:05         34.0            20.0        76.0        2156.0   \n",
      "..          ...          ...             ...         ...           ...   \n",
      "901         NaN          NaN             NaN         NaN           NaN   \n",
      "902         NaN          NaN             NaN         NaN           NaN   \n",
      "903         NaN          NaN             NaN         NaN           NaN   \n",
      "904         NaN          NaN             NaN         NaN           NaN   \n",
      "905         NaN          NaN             NaN         NaN           NaN   \n",
      "\n",
      "     TOIperGame5Years  EVTOIperGame5Years  SHTOIperGame5Years  \\\n",
      "0               20:25               16:03               01:02   \n",
      "1               18:57               14:10               01:30   \n",
      "2               21:11               18:08               02:56   \n",
      "3               21:58               17:10               00:30   \n",
      "4               18:55               14:54               00:20   \n",
      "..                ...                 ...                 ...   \n",
      "901               NaN                 NaN                 NaN   \n",
      "902               NaN                 NaN                 NaN   \n",
      "903               NaN                 NaN                 NaN   \n",
      "904               NaN                 NaN                 NaN   \n",
      "905               NaN                 NaN                 NaN   \n",
      "\n",
      "     PPTOIperGame5Years  \n",
      "0                 03:20  \n",
      "1                 03:16  \n",
      "2                 00:06  \n",
      "3                 04:17  \n",
      "4                 03:40  \n",
      "..                  ...  \n",
      "901                 NaN  \n",
      "902                 NaN  \n",
      "903                 NaN  \n",
      "904                 NaN  \n",
      "905                 NaN  \n",
      "\n",
      "[906 rows x 150 columns]\n",
      "2017\n",
      "     Target       ID Position          FullName                    Link  \\\n",
      "0       7.0  8467407        R      Brian Gionta  /api/v1/people/8467407   \n",
      "1       2.0  8468542        D       Paul Martin  /api/v1/people/8468542   \n",
      "2      24.0  8470610        L       Zach Parise  /api/v1/people/8470610   \n",
      "3       7.0  8448208        R      Jaromir Jagr  /api/v1/people/8448208   \n",
      "4      12.0  8468575        C     Dominic Moore  /api/v1/people/8468575   \n",
      "..      ...      ...      ...               ...                     ...   \n",
      "885     0.0  8478447        R  Nicholas Merkley  /api/v1/people/8478447   \n",
      "886     0.0  8478476        D   Kyle Capobianco  /api/v1/people/8478476   \n",
      "887     3.0  8476617        R        Tomas Hyka  /api/v1/people/8476617   \n",
      "888     1.0  8479650        C  Vadim Shipachyov  /api/v1/people/8479650   \n",
      "889     0.0  8480727        D   Zach Whitecloud  /api/v1/people/8480727   \n",
      "\n",
      "    FirstName    LastName  Number  Age            City  ... SHP5Years  \\\n",
      "0       Brian      Gionta      12   38       Rochester  ...       0.0   \n",
      "1        Paul      Martin       7   36     Minneapolis  ...       0.0   \n",
      "2        Zach      Parise      11   33     Minneapolis  ...       0.0   \n",
      "3     Jaromir        Jagr      68   45          Kladno  ...       0.0   \n",
      "4     Dominic       Moore      20   37       Thornhill  ...       NaN   \n",
      "..        ...         ...     ...  ...             ...  ...       ...   \n",
      "885  Nicholas     Merkley      39   20         Calgary  ...       NaN   \n",
      "886      Kyle  Capobianco      75   20     Mississauga  ...       NaN   \n",
      "887     Tomas        Hyka      38   24  Mlada Boleslav  ...       NaN   \n",
      "888     Vadim  Shipachyov      87   30     Cherepovets  ...       NaN   \n",
      "889      Zach  Whitecloud       2   21         Brandon  ...       NaN   \n",
      "\n",
      "    SHTOI5Years Blocks5Years PlusMinus5Years  Pts25Years  Shifts5Years  \\\n",
      "0         34:12         23.0             3.0        26.0        1117.0   \n",
      "1        106:49         50.0            14.0        23.0         913.0   \n",
      "2         69:49         41.0             2.0        38.0        1258.0   \n",
      "3         01:34         10.0            -2.0        35.0         931.0   \n",
      "4           NaN          NaN             NaN         NaN           NaN   \n",
      "..          ...          ...             ...         ...           ...   \n",
      "885         NaN          NaN             NaN         NaN           NaN   \n",
      "886         NaN          NaN             NaN         NaN           NaN   \n",
      "887         NaN          NaN             NaN         NaN           NaN   \n",
      "888         NaN          NaN             NaN         NaN           NaN   \n",
      "889         NaN          NaN             NaN         NaN           NaN   \n",
      "\n",
      "     TOIperGame5Years  EVTOIperGame5Years  SHTOIperGame5Years  \\\n",
      "0               18:07               14:27               00:42   \n",
      "1               25:19               18:59               03:08   \n",
      "2               20:40               15:46               01:27   \n",
      "3               18:19               15:12               00:02   \n",
      "4                 NaN                 NaN                 NaN   \n",
      "..                ...                 ...                 ...   \n",
      "885               NaN                 NaN                 NaN   \n",
      "886               NaN                 NaN                 NaN   \n",
      "887               NaN                 NaN                 NaN   \n",
      "888               NaN                 NaN                 NaN   \n",
      "889               NaN                 NaN                 NaN   \n",
      "\n",
      "     PPTOIperGame5Years  \n",
      "0                 02:57  \n",
      "1                 03:11  \n",
      "2                 03:25  \n",
      "3                 03:05  \n",
      "4                   NaN  \n",
      "..                  ...  \n",
      "885                 NaN  \n",
      "886                 NaN  \n",
      "887                 NaN  \n",
      "888                 NaN  \n",
      "889                 NaN  \n",
      "\n",
      "[890 rows x 150 columns]\n",
      "2016\n",
      "     Target       ID Position           FullName                    Link  \\\n",
      "0      35.0  8467407        R       Brian Gionta  /api/v1/people/8467407   \n",
      "1      26.0  8468542        D        Paul Martin  /api/v1/people/8468542   \n",
      "2      42.0  8470610        L        Zach Parise  /api/v1/people/8470610   \n",
      "3      46.0  8448208        R       Jaromir Jagr  /api/v1/people/8448208   \n",
      "4       3.0  8465058        D    Michal Rozsival  /api/v1/people/8465058   \n",
      "..      ...      ...      ...                ...                     ...   \n",
      "883     3.0  8478432        R  Christian Fischer  /api/v1/people/8478432   \n",
      "884     1.0  8478440        C       Dylan Strome  /api/v1/people/8478440   \n",
      "885    12.0  8478474        L      Lawson Crouse  /api/v1/people/8478474   \n",
      "886     2.0  8479343        R     Clayton Keller  /api/v1/people/8479343   \n",
      "887    20.0  8479345        D     Jakob Chychrun  /api/v1/people/8479345   \n",
      "\n",
      "     FirstName  LastName  Number  Age          City  ... SHP5Years  \\\n",
      "0        Brian    Gionta      12   37     Rochester  ...       0.0   \n",
      "1         Paul    Martin       7   35   Minneapolis  ...       1.0   \n",
      "2         Zach    Parise      11   32   Minneapolis  ...       7.0   \n",
      "3      Jaromir      Jagr      68   44        Kladno  ...       0.0   \n",
      "4       Michal  Rozsival      32   38        Vlasim  ...       0.0   \n",
      "..         ...       ...     ...  ...           ...  ...       ...   \n",
      "883  Christian   Fischer      36   19       Chicago  ...       NaN   \n",
      "884      Dylan    Strome      17   19   Mississauga  ...       NaN   \n",
      "885     Lawson    Crouse      67   19   Mt. Brydges  ...       NaN   \n",
      "886    Clayton    Keller       9   18  Chesterfield  ...       NaN   \n",
      "887      Jakob  Chychrun       6   18    Boca Raton  ...       NaN   \n",
      "\n",
      "    SHTOI5Years Blocks5Years PlusMinus5Years  Pts25Years  Shifts5Years  \\\n",
      "0         64:38         13.0            -7.0        15.0         768.0   \n",
      "1        190:40        117.0             9.0        27.0        1922.0   \n",
      "2        160:08         39.0            -5.0        69.0        2117.0   \n",
      "3         01:10         12.0             5.0        54.0        1479.0   \n",
      "4        101:56         91.0             8.0        13.0        1275.0   \n",
      "..          ...          ...             ...         ...           ...   \n",
      "883         NaN          NaN             NaN         NaN           NaN   \n",
      "884         NaN          NaN             NaN         NaN           NaN   \n",
      "885         NaN          NaN             NaN         NaN           NaN   \n",
      "886         NaN          NaN             NaN         NaN           NaN   \n",
      "887         NaN          NaN             NaN         NaN           NaN   \n",
      "\n",
      "     TOIperGame5Years  EVTOIperGame5Years  SHTOIperGame5Years  \\\n",
      "0               19:26               14:26               02:05   \n",
      "1               23:00               18:33               02:36   \n",
      "2               21:29               16:05               01:57   \n",
      "3               16:20               13:04               00:00   \n",
      "4               19:19               17:22               01:53   \n",
      "..                ...                 ...                 ...   \n",
      "883               NaN                 NaN                 NaN   \n",
      "884               NaN                 NaN                 NaN   \n",
      "885               NaN                 NaN                 NaN   \n",
      "886               NaN                 NaN                 NaN   \n",
      "887               NaN                 NaN                 NaN   \n",
      "\n",
      "     PPTOIperGame5Years  \n",
      "0                 02:54  \n",
      "1                 01:49  \n",
      "2                 03:26  \n",
      "3                 03:15  \n",
      "4                 00:04  \n",
      "..                  ...  \n",
      "883                 NaN  \n",
      "884                 NaN  \n",
      "885                 NaN  \n",
      "886                 NaN  \n",
      "887                 NaN  \n",
      "\n",
      "[888 rows x 150 columns]\n",
      "2015\n",
      "     Target       ID Position         FullName                    Link  \\\n",
      "0       8.0  8460542        C     Patrik Elias  /api/v1/people/8460542   \n",
      "1       9.0  8467351        C      Scott Gomez  /api/v1/people/8467351   \n",
      "2      33.0  8467407        R     Brian Gionta  /api/v1/people/8467407   \n",
      "3      20.0  8468542        D      Paul Martin  /api/v1/people/8468542   \n",
      "4      53.0  8470610        L      Zach Parise  /api/v1/people/8470610   \n",
      "..      ...      ...      ...              ...                     ...   \n",
      "893    38.0  8477940        L   Nikolaj Ehlers  /api/v1/people/8477940   \n",
      "894     0.0  8478029        C     Chase De Leo  /api/v1/people/8478029   \n",
      "895     0.0  8479293        L    Brandon Tanev  /api/v1/people/8479293   \n",
      "896     1.0  8477460        C  Laurent Dauphin  /api/v1/people/8477460   \n",
      "897    52.0  8477503        C         Max Domi  /api/v1/people/8477503   \n",
      "\n",
      "    FirstName LastName  Number  Age         City  ... SHP5Years SHTOI5Years  \\\n",
      "0      Patrik    Elias      26   39       Trebic  ...       1.0      171:41   \n",
      "1       Scott    Gomez      23   36    Anchorage  ...       1.0       76:39   \n",
      "2       Brian   Gionta      12   36    Rochester  ...       2.0      158:37   \n",
      "3        Paul   Martin       7   34  Minneapolis  ...       1.0      211:23   \n",
      "4        Zach   Parise      11   31  Minneapolis  ...       0.0       11:40   \n",
      "..        ...      ...     ...  ...          ...  ...       ...         ...   \n",
      "893   Nikolaj   Ehlers      27   19      Aalborg  ...       NaN         NaN   \n",
      "894     Chase   De Leo      58   20    La Mirada  ...       NaN         NaN   \n",
      "895   Brandon    Tanev      13   24      Toronto  ...       NaN         NaN   \n",
      "896   Laurent  Dauphin      45   20   Repentigny  ...       NaN         NaN   \n",
      "897       Max     Domi      13   20     Winnipeg  ...       NaN         NaN   \n",
      "\n",
      "    Blocks5Years PlusMinus5Years  Pts25Years  Shifts5Years  TOIperGame5Years  \\\n",
      "0           25.0            -4.0        62.0        2085.0             18:38   \n",
      "1           24.0           -15.0        38.0        1791.0             18:33   \n",
      "2           31.0             3.0        46.0        2007.0             19:37   \n",
      "3          129.0             9.0        24.0        2053.0             23:21   \n",
      "4            6.0            -1.0         6.0         302.0             19:51   \n",
      "..           ...             ...         ...           ...               ...   \n",
      "893          NaN             NaN         NaN           NaN               NaN   \n",
      "894          NaN             NaN         NaN           NaN               NaN   \n",
      "895          NaN             NaN         NaN           NaN               NaN   \n",
      "896          NaN             NaN         NaN           NaN               NaN   \n",
      "897          NaN             NaN         NaN           NaN               NaN   \n",
      "\n",
      "     EVTOIperGame5Years  SHTOIperGame5Years  PPTOIperGame5Years  \n",
      "0                 13:46               02:07               02:45  \n",
      "1                 14:53               00:57               02:42  \n",
      "2                 14:47               01:56               02:53  \n",
      "3                 17:34               02:44               03:02  \n",
      "4                 15:28               00:53               03:28  \n",
      "..                  ...                 ...                 ...  \n",
      "893                 NaN                 NaN                 NaN  \n",
      "894                 NaN                 NaN                 NaN  \n",
      "895                 NaN                 NaN                 NaN  \n",
      "896                 NaN                 NaN                 NaN  \n",
      "897                 NaN                 NaN                 NaN  \n",
      "\n",
      "[898 rows x 150 columns]\n",
      "\n",
      "     Target       ID Position           FullName                    Link  \\\n",
      "0      34.0  8460542        C       Patrik Elias  /api/v1/people/8460542   \n",
      "1      34.0  8467351        C        Scott Gomez  /api/v1/people/8467351   \n",
      "2      35.0  8467407        R       Brian Gionta  /api/v1/people/8467407   \n",
      "3      20.0  8468542        D        Paul Martin  /api/v1/people/8468542   \n",
      "4      62.0  8470610        L        Zach Parise  /api/v1/people/8470610   \n",
      "..      ...      ...      ...                ...                     ...   \n",
      "877     1.0  8475996        C  Brendan Shinnimin  /api/v1/people/8475996   \n",
      "878    21.0  8476356        C      Tobias Rieder  /api/v1/people/8476356   \n",
      "879     0.0  8476868        C  Henrik Samuelsson  /api/v1/people/8476868   \n",
      "880     1.0  8476921        L   Jordan Martinook  /api/v1/people/8476921   \n",
      "881     0.0  8477715        C       Tyler Gaudet  /api/v1/people/8477715   \n",
      "\n",
      "    FirstName    LastName  Number  Age         City  ... SHP5Years  \\\n",
      "0      Patrik       Elias      26   38       Trebic  ...       1.0   \n",
      "1       Scott       Gomez      23   35    Anchorage  ...       0.0   \n",
      "2       Brian      Gionta      12   35    Rochester  ...       0.0   \n",
      "3        Paul      Martin       7   33  Minneapolis  ...       0.0   \n",
      "4        Zach      Parise      11   30  Minneapolis  ...       1.0   \n",
      "..        ...         ...     ...  ...          ...  ...       ...   \n",
      "877   Brendan   Shinnimin      39   23     Winnipeg  ...       NaN   \n",
      "878    Tobias      Rieder      13   21     Landshut  ...       NaN   \n",
      "879    Henrik  Samuelsson      55   20   Scottsdale  ...       NaN   \n",
      "880    Jordan   Martinook      48   22      Brandon  ...       NaN   \n",
      "881     Tyler      Gaudet      32   21     Hamilton  ...       NaN   \n",
      "\n",
      "    SHTOI5Years Blocks5Years PlusMinus5Years  Pts25Years  Shifts5Years  \\\n",
      "0         50:44         16.0            18.0        48.0        1392.0   \n",
      "1        158:38         34.0             1.0        59.0        2002.0   \n",
      "2        117:18         33.0             3.0        46.0        1603.0   \n",
      "3         33:49         22.0            10.0        11.0         628.0   \n",
      "4         44:54         34.0            24.0        82.0        2029.0   \n",
      "..          ...          ...             ...         ...           ...   \n",
      "877         NaN          NaN             NaN         NaN           NaN   \n",
      "878         NaN          NaN             NaN         NaN           NaN   \n",
      "879         NaN          NaN             NaN         NaN           NaN   \n",
      "880         NaN          NaN             NaN         NaN           NaN   \n",
      "881         NaN          NaN             NaN         NaN           NaN   \n",
      "\n",
      "     TOIperGame5Years  EVTOIperGame5Years  SHTOIperGame5Years  \\\n",
      "0               17:37               14:03               00:52   \n",
      "1               19:56               15:15               02:02   \n",
      "2               20:45               15:51               01:55   \n",
      "3               22:30               17:54               01:32   \n",
      "4               19:46               16:06               00:33   \n",
      "..                ...                 ...                 ...   \n",
      "877               NaN                 NaN                 NaN   \n",
      "878               NaN                 NaN                 NaN   \n",
      "879               NaN                 NaN                 NaN   \n",
      "880               NaN                 NaN                 NaN   \n",
      "881               NaN                 NaN                 NaN   \n",
      "\n",
      "     PPTOIperGame5Years  \n",
      "0                 02:41  \n",
      "1                 02:38  \n",
      "2                 02:58  \n",
      "3                 03:03  \n",
      "4                 03:06  \n",
      "..                  ...  \n",
      "877                 NaN  \n",
      "878                 NaN  \n",
      "879                 NaN  \n",
      "880                 NaN  \n",
      "881                 NaN  \n",
      "\n",
      "[882 rows x 150 columns]\n",
      "\n",
      "     Target       ID Position           FullName                    Link  \\\n",
      "0      34.0  8460542        C       Patrik Elias  /api/v1/people/8460542   \n",
      "1      34.0  8467351        C        Scott Gomez  /api/v1/people/8467351   \n",
      "2      35.0  8467407        R       Brian Gionta  /api/v1/people/8467407   \n",
      "3      20.0  8468542        D        Paul Martin  /api/v1/people/8468542   \n",
      "4      62.0  8470610        L        Zach Parise  /api/v1/people/8470610   \n",
      "..      ...      ...      ...                ...                     ...   \n",
      "877     1.0  8475996        C  Brendan Shinnimin  /api/v1/people/8475996   \n",
      "878    21.0  8476356        C      Tobias Rieder  /api/v1/people/8476356   \n",
      "879     0.0  8476868        C  Henrik Samuelsson  /api/v1/people/8476868   \n",
      "880     1.0  8476921        L   Jordan Martinook  /api/v1/people/8476921   \n",
      "881     0.0  8477715        C       Tyler Gaudet  /api/v1/people/8477715   \n",
      "\n",
      "    FirstName    LastName  Number  Age         City  ... SHP5Years  \\\n",
      "0      Patrik       Elias      26   37       Trebic  ...       5.0   \n",
      "1       Scott       Gomez      23   34    Anchorage  ...       1.0   \n",
      "2       Brian      Gionta      12   34    Rochester  ...       4.0   \n",
      "3        Paul      Martin       7   32  Minneapolis  ...       1.0   \n",
      "4        Zach      Parise      11   29  Minneapolis  ...       3.0   \n",
      "..        ...         ...     ...  ...          ...  ...       ...   \n",
      "877   Brendan   Shinnimin      39   22     Winnipeg  ...       NaN   \n",
      "878    Tobias      Rieder      13   20     Landshut  ...       NaN   \n",
      "879    Henrik  Samuelsson      55   19   Scottsdale  ...       NaN   \n",
      "880    Jordan   Martinook      48   21      Brandon  ...       NaN   \n",
      "881     Tyler      Gaudet      32   20     Hamilton  ...       NaN   \n",
      "\n",
      "    SHTOI5Years Blocks5Years PlusMinus5Years  Pts25Years  Shifts5Years  \\\n",
      "0        143:56         17.0            18.0        78.0        1738.0   \n",
      "1         94:39         23.0            -2.0        58.0        1977.0   \n",
      "2         80:53         28.0            12.0        60.0        1714.0   \n",
      "3        255:04         79.0            21.0        33.0        2003.0   \n",
      "4         29:10         17.0            30.0        94.0        1767.0   \n",
      "..          ...          ...             ...         ...           ...   \n",
      "877         NaN          NaN             NaN         NaN           NaN   \n",
      "878         NaN          NaN             NaN         NaN           NaN   \n",
      "879         NaN          NaN             NaN         NaN           NaN   \n",
      "880         NaN          NaN             NaN         NaN           NaN   \n",
      "881         NaN          NaN             NaN         NaN           NaN   \n",
      "\n",
      "     TOIperGame5Years  EVTOIperGame5Years  SHTOIperGame5Years  \\\n",
      "0               18:34               13:08               01:52   \n",
      "1               21:03               15:54               01:13   \n",
      "2               16:58               13:32               00:59   \n",
      "3               24:22               17:31               03:29   \n",
      "4               18:45               14:42               00:21   \n",
      "..                ...                 ...                 ...   \n",
      "877               NaN                 NaN                 NaN   \n",
      "878               NaN                 NaN                 NaN   \n",
      "879               NaN                 NaN                 NaN   \n",
      "880               NaN                 NaN                 NaN   \n",
      "881               NaN                 NaN                 NaN   \n",
      "\n",
      "     PPTOIperGame5Years  \n",
      "0                 03:34  \n",
      "1                 03:55  \n",
      "2                 02:25  \n",
      "3                 03:20  \n",
      "4                 03:41  \n",
      "..                  ...  \n",
      "877                 NaN  \n",
      "878                 NaN  \n",
      "879                 NaN  \n",
      "880                 NaN  \n",
      "881                 NaN  \n",
      "\n",
      "[882 rows x 150 columns]\n",
      "\n",
      "     Target       ID Position           FullName                    Link  \\\n",
      "0      34.0  8460542        C       Patrik Elias  /api/v1/people/8460542   \n",
      "1      34.0  8467351        C        Scott Gomez  /api/v1/people/8467351   \n",
      "2      35.0  8467407        R       Brian Gionta  /api/v1/people/8467407   \n",
      "3      20.0  8468542        D        Paul Martin  /api/v1/people/8468542   \n",
      "4      62.0  8470610        L        Zach Parise  /api/v1/people/8470610   \n",
      "..      ...      ...      ...                ...                     ...   \n",
      "877     1.0  8475996        C  Brendan Shinnimin  /api/v1/people/8475996   \n",
      "878    21.0  8476356        C      Tobias Rieder  /api/v1/people/8476356   \n",
      "879     0.0  8476868        C  Henrik Samuelsson  /api/v1/people/8476868   \n",
      "880     1.0  8476921        L   Jordan Martinook  /api/v1/people/8476921   \n",
      "881     0.0  8477715        C       Tyler Gaudet  /api/v1/people/8477715   \n",
      "\n",
      "    FirstName    LastName  Number  Age         City  ... SHP5Years  \\\n",
      "0      Patrik       Elias      26   36       Trebic  ...       2.0   \n",
      "1       Scott       Gomez      23   33    Anchorage  ...       1.0   \n",
      "2       Brian      Gionta      12   33    Rochester  ...       1.0   \n",
      "3        Paul      Martin       7   31  Minneapolis  ...       1.0   \n",
      "4        Zach      Parise      11   28  Minneapolis  ...       1.0   \n",
      "..        ...         ...     ...  ...          ...  ...       ...   \n",
      "877   Brendan   Shinnimin      39   21     Winnipeg  ...       NaN   \n",
      "878    Tobias      Rieder      13   19     Landshut  ...       NaN   \n",
      "879    Henrik  Samuelsson      55   18   Scottsdale  ...       NaN   \n",
      "880    Jordan   Martinook      48   20      Brandon  ...       NaN   \n",
      "881     Tyler      Gaudet      32   19     Hamilton  ...       NaN   \n",
      "\n",
      "    SHTOI5Years Blocks5Years PlusMinus5Years  Pts25Years  Shifts5Years  \\\n",
      "0        119:33         20.0            10.0        55.0        1777.0   \n",
      "1         65:42         24.0             3.0        70.0        1844.0   \n",
      "2         61:59         14.0             1.0        53.0        1870.0   \n",
      "3        241:43         76.0            20.0        32.0        1884.0   \n",
      "4         12:09         30.0            13.0        65.0        1775.0   \n",
      "..          ...          ...             ...         ...           ...   \n",
      "877         NaN          NaN             NaN         NaN           NaN   \n",
      "878         NaN          NaN             NaN         NaN           NaN   \n",
      "879         NaN          NaN             NaN         NaN           NaN   \n",
      "880         NaN          NaN             NaN         NaN           NaN   \n",
      "881         NaN          NaN             NaN         NaN           NaN   \n",
      "\n",
      "     TOIperGame5Years  EVTOIperGame5Years  SHTOIperGame5Years  \\\n",
      "0               18:28               13:15               01:36   \n",
      "1               19:53               14:47               00:48   \n",
      "2               18:16               14:01               00:45   \n",
      "3               23:53               16:45               03:18   \n",
      "4               18:03               14:14               00:09   \n",
      "..                ...                 ...                 ...   \n",
      "877               NaN                 NaN                 NaN   \n",
      "878               NaN                 NaN                 NaN   \n",
      "879               NaN                 NaN                 NaN   \n",
      "880               NaN                 NaN                 NaN   \n",
      "881               NaN                 NaN                 NaN   \n",
      "\n",
      "     PPTOIperGame5Years  \n",
      "0                 03:35  \n",
      "1                 04:17  \n",
      "2                 03:28  \n",
      "3                 03:48  \n",
      "4                 03:39  \n",
      "..                  ...  \n",
      "877                 NaN  \n",
      "878                 NaN  \n",
      "879                 NaN  \n",
      "880                 NaN  \n",
      "881                 NaN  \n",
      "\n",
      "[882 rows x 150 columns]\n",
      "\n"
     ]
    },
    {
     "name": "stdout",
     "output_type": "stream",
     "text": [
      "     Target       ID Position           FullName                    Link  \\\n",
      "0      34.0  8460542        C       Patrik Elias  /api/v1/people/8460542   \n",
      "1      34.0  8467351        C        Scott Gomez  /api/v1/people/8467351   \n",
      "2      35.0  8467407        R       Brian Gionta  /api/v1/people/8467407   \n",
      "3      20.0  8468542        D        Paul Martin  /api/v1/people/8468542   \n",
      "4      62.0  8470610        L        Zach Parise  /api/v1/people/8470610   \n",
      "..      ...      ...      ...                ...                     ...   \n",
      "877     1.0  8475996        C  Brendan Shinnimin  /api/v1/people/8475996   \n",
      "878    21.0  8476356        C      Tobias Rieder  /api/v1/people/8476356   \n",
      "879     0.0  8476868        C  Henrik Samuelsson  /api/v1/people/8476868   \n",
      "880     1.0  8476921        L   Jordan Martinook  /api/v1/people/8476921   \n",
      "881     0.0  8477715        C       Tyler Gaudet  /api/v1/people/8477715   \n",
      "\n",
      "    FirstName    LastName  Number  Age         City  ... SHP5Years  \\\n",
      "0      Patrik       Elias      26   35       Trebic  ...       0.0   \n",
      "1       Scott       Gomez      23   32    Anchorage  ...       0.0   \n",
      "2       Brian      Gionta      12   32    Rochester  ...       0.0   \n",
      "3        Paul      Martin       7   30  Minneapolis  ...       0.0   \n",
      "4        Zach      Parise      11   27  Minneapolis  ...       0.0   \n",
      "..        ...         ...     ...  ...          ...  ...       ...   \n",
      "877   Brendan   Shinnimin      39   20     Winnipeg  ...       NaN   \n",
      "878    Tobias      Rieder      13   18     Landshut  ...       NaN   \n",
      "879    Henrik  Samuelsson      55   17   Scottsdale  ...       NaN   \n",
      "880    Jordan   Martinook      48   19      Brandon  ...       NaN   \n",
      "881     Tyler      Gaudet      32   18     Hamilton  ...       NaN   \n",
      "\n",
      "    SHTOI5Years Blocks5Years PlusMinus5Years  Pts25Years  Shifts5Years  \\\n",
      "0         18:29         17.0             1.0        69.0        1716.0   \n",
      "1         02:39         17.0             7.0        60.0        1601.0   \n",
      "2         32:33         10.0            -3.0        45.0        1397.0   \n",
      "3        223:09        125.0            -9.0        26.0        2427.0   \n",
      "4         16:32         36.0            -3.0        62.0        1762.0   \n",
      "..          ...          ...             ...         ...           ...   \n",
      "877         NaN          NaN             NaN         NaN           NaN   \n",
      "878         NaN          NaN             NaN         NaN           NaN   \n",
      "879         NaN          NaN             NaN         NaN           NaN   \n",
      "880         NaN          NaN             NaN         NaN           NaN   \n",
      "881         NaN          NaN             NaN         NaN           NaN   \n",
      "\n",
      "     TOIperGame5Years  EVTOIperGame5Years  SHTOIperGame5Years  \\\n",
      "0               18:37               14:00               00:14   \n",
      "1               18:55               14:25               00:02   \n",
      "2               18:49               13:51               00:31   \n",
      "3               25:13               19:23               02:43   \n",
      "4               17:32               14:17               00:12   \n",
      "..                ...                 ...                 ...   \n",
      "877               NaN                 NaN                 NaN   \n",
      "878               NaN                 NaN                 NaN   \n",
      "879               NaN                 NaN                 NaN   \n",
      "880               NaN                 NaN                 NaN   \n",
      "881               NaN                 NaN                 NaN   \n",
      "\n",
      "     PPTOIperGame5Years  \n",
      "0                 04:21  \n",
      "1                 04:28  \n",
      "2                 04:26  \n",
      "3                 03:06  \n",
      "4                 03:02  \n",
      "..                  ...  \n",
      "877                 NaN  \n",
      "878                 NaN  \n",
      "879                 NaN  \n",
      "880                 NaN  \n",
      "881                 NaN  \n",
      "\n",
      "[882 rows x 150 columns]\n",
      "\n",
      "     Target       ID Position           FullName                    Link  \\\n",
      "0      34.0  8460542        C       Patrik Elias  /api/v1/people/8460542   \n",
      "1      34.0  8467351        C        Scott Gomez  /api/v1/people/8467351   \n",
      "2      35.0  8467407        R       Brian Gionta  /api/v1/people/8467407   \n",
      "3      20.0  8468542        D        Paul Martin  /api/v1/people/8468542   \n",
      "4      62.0  8470610        L        Zach Parise  /api/v1/people/8470610   \n",
      "..      ...      ...      ...                ...                     ...   \n",
      "877     1.0  8475996        C  Brendan Shinnimin  /api/v1/people/8475996   \n",
      "878    21.0  8476356        C      Tobias Rieder  /api/v1/people/8476356   \n",
      "879     0.0  8476868        C  Henrik Samuelsson  /api/v1/people/8476868   \n",
      "880     1.0  8476921        L   Jordan Martinook  /api/v1/people/8476921   \n",
      "881     0.0  8477715        C       Tyler Gaudet  /api/v1/people/8477715   \n",
      "\n",
      "    FirstName    LastName  Number  Age         City  ... SHP5Years  \\\n",
      "0      Patrik       Elias      26   34       Trebic  ...       0.0   \n",
      "1       Scott       Gomez      23   31    Anchorage  ...       0.0   \n",
      "2       Brian      Gionta      12   31    Rochester  ...       1.0   \n",
      "3        Paul      Martin       7   29  Minneapolis  ...       0.0   \n",
      "4        Zach      Parise      11   26  Minneapolis  ...       0.0   \n",
      "..        ...         ...     ...  ...          ...  ...       ...   \n",
      "877   Brendan   Shinnimin      39   19     Winnipeg  ...       NaN   \n",
      "878    Tobias      Rieder      13   17     Landshut  ...       NaN   \n",
      "879    Henrik  Samuelsson      55   16   Scottsdale  ...       NaN   \n",
      "880    Jordan   Martinook      48   18      Brandon  ...       NaN   \n",
      "881     Tyler      Gaudet      32   17     Hamilton  ...       NaN   \n",
      "\n",
      "    SHTOI5Years Blocks5Years PlusMinus5Years  Pts25Years  Shifts5Years  \\\n",
      "0         13:38          4.0            11.0        45.0         854.0   \n",
      "1         13:50         16.0             8.0        84.0        1867.0   \n",
      "2        122:49         17.0            18.0        89.0        2012.0   \n",
      "3        247:03         95.0             1.0        37.0        2315.0   \n",
      "4         02:38         22.0            -1.0        32.0        1426.0   \n",
      "..          ...          ...             ...         ...           ...   \n",
      "877         NaN          NaN             NaN         NaN           NaN   \n",
      "878         NaN          NaN             NaN         NaN           NaN   \n",
      "879         NaN          NaN             NaN         NaN           NaN   \n",
      "880         NaN          NaN             NaN         NaN           NaN   \n",
      "881         NaN          NaN             NaN         NaN           NaN   \n",
      "\n",
      "     TOIperGame5Years  EVTOIperGame5Years  SHTOIperGame5Years  \\\n",
      "0               18:34               13:34               00:21   \n",
      "1               18:46               13:32               00:10   \n",
      "2               19:49               13:18               01:29   \n",
      "3               23:37               16:27               03:05   \n",
      "4               13:08               10:40               00:01   \n",
      "..                ...                 ...                 ...   \n",
      "877               NaN                 NaN                 NaN   \n",
      "878               NaN                 NaN                 NaN   \n",
      "879               NaN                 NaN                 NaN   \n",
      "880               NaN                 NaN                 NaN   \n",
      "881               NaN                 NaN                 NaN   \n",
      "\n",
      "     PPTOIperGame5Years  \n",
      "0                 04:37  \n",
      "1                 05:04  \n",
      "2                 05:00  \n",
      "3                 04:04  \n",
      "4                 02:25  \n",
      "..                  ...  \n",
      "877                 NaN  \n",
      "878                 NaN  \n",
      "879                 NaN  \n",
      "880                 NaN  \n",
      "881                 NaN  \n",
      "\n",
      "[882 rows x 150 columns]\n"
     ]
    },
    {
     "name": "stderr",
     "output_type": "stream",
     "text": [
      "<ipython-input-15-e2cc2bcb5f93>:40: SettingWithCopyWarning: \n",
      "A value is trying to be set on a copy of a slice from a DataFrame.\n",
      "Try using .loc[row_indexer,col_indexer] = value instead\n",
      "\n",
      "See the caveats in the documentation: https://pandas.pydata.org/pandas-docs/stable/user_guide/indexing.html#returning-a-view-versus-a-copy\n",
      "  Data2018['BirthDate'] = 2018-Data2018['BirthDate']\n",
      "<ipython-input-15-e2cc2bcb5f93>:46: SettingWithCopyWarning: \n",
      "A value is trying to be set on a copy of a slice from a DataFrame.\n",
      "Try using .loc[row_indexer,col_indexer] = value instead\n",
      "\n",
      "See the caveats in the documentation: https://pandas.pydata.org/pandas-docs/stable/user_guide/indexing.html#returning-a-view-versus-a-copy\n",
      "  Data2017['BirthDate'] = 2017-Data2017['BirthDate']\n",
      "<ipython-input-15-e2cc2bcb5f93>:52: SettingWithCopyWarning: \n",
      "A value is trying to be set on a copy of a slice from a DataFrame.\n",
      "Try using .loc[row_indexer,col_indexer] = value instead\n",
      "\n",
      "See the caveats in the documentation: https://pandas.pydata.org/pandas-docs/stable/user_guide/indexing.html#returning-a-view-versus-a-copy\n",
      "  Data2016['BirthDate'] = 2016-Data2016['BirthDate']\n",
      "<ipython-input-15-e2cc2bcb5f93>:58: SettingWithCopyWarning: \n",
      "A value is trying to be set on a copy of a slice from a DataFrame.\n",
      "Try using .loc[row_indexer,col_indexer] = value instead\n",
      "\n",
      "See the caveats in the documentation: https://pandas.pydata.org/pandas-docs/stable/user_guide/indexing.html#returning-a-view-versus-a-copy\n",
      "  Data2015['BirthDate'] = 2015-Data2015['BirthDate']\n",
      "<ipython-input-15-e2cc2bcb5f93>:64: SettingWithCopyWarning: \n",
      "A value is trying to be set on a copy of a slice from a DataFrame.\n",
      "Try using .loc[row_indexer,col_indexer] = value instead\n",
      "\n",
      "See the caveats in the documentation: https://pandas.pydata.org/pandas-docs/stable/user_guide/indexing.html#returning-a-view-versus-a-copy\n",
      "  Data2014['BirthDate'] = 2014-Data2014['BirthDate']\n",
      "<ipython-input-15-e2cc2bcb5f93>:70: SettingWithCopyWarning: \n",
      "A value is trying to be set on a copy of a slice from a DataFrame.\n",
      "Try using .loc[row_indexer,col_indexer] = value instead\n",
      "\n",
      "See the caveats in the documentation: https://pandas.pydata.org/pandas-docs/stable/user_guide/indexing.html#returning-a-view-versus-a-copy\n",
      "  Data2013['BirthDate'] = 2013-Data2013['BirthDate']\n",
      "<ipython-input-15-e2cc2bcb5f93>:76: SettingWithCopyWarning: \n",
      "A value is trying to be set on a copy of a slice from a DataFrame.\n",
      "Try using .loc[row_indexer,col_indexer] = value instead\n",
      "\n",
      "See the caveats in the documentation: https://pandas.pydata.org/pandas-docs/stable/user_guide/indexing.html#returning-a-view-versus-a-copy\n",
      "  Data2012['BirthDate'] = 2012-Data2012['BirthDate']\n",
      "<ipython-input-15-e2cc2bcb5f93>:82: SettingWithCopyWarning: \n",
      "A value is trying to be set on a copy of a slice from a DataFrame.\n",
      "Try using .loc[row_indexer,col_indexer] = value instead\n",
      "\n",
      "See the caveats in the documentation: https://pandas.pydata.org/pandas-docs/stable/user_guide/indexing.html#returning-a-view-versus-a-copy\n",
      "  Data2011['BirthDate'] = 2011-Data2011['BirthDate']\n",
      "<ipython-input-15-e2cc2bcb5f93>:88: SettingWithCopyWarning: \n",
      "A value is trying to be set on a copy of a slice from a DataFrame.\n",
      "Try using .loc[row_indexer,col_indexer] = value instead\n",
      "\n",
      "See the caveats in the documentation: https://pandas.pydata.org/pandas-docs/stable/user_guide/indexing.html#returning-a-view-versus-a-copy\n",
      "  Data2010['BirthDate'] = 2010-Data2010['BirthDate']\n"
     ]
    }
   ],
   "source": [
    "pd.set_option('display.max_columns', 20)\n",
    "\n",
    "Details = ['Target','ID','Position','FullName','Link','FirstName','LastName','Number','Age','City','Province','Country','Nationality','Height','Weight']\n",
    "Stats = ['Assists','Goals','Points','PIMS','Shots','Games','Hits','PPG','PPP','PPTOI','ESTOI','PIM2','FOPct','ShtPct','GWG','OTG','SHG','SHP','SHTOI','Blocks','PlusMinus','Pts2','Shifts','TOIperGame','EVTOIperGame','SHTOIperGame','PPTOIperGame']\n",
    "\n",
    "\n",
    "# print(FullData.columns[0:15])    #Details\n",
    "# print(FullData.columns[19:46])   #2005-06 list(range(19,46))\n",
    "# print(FullData.columns[49:76])   #2006-07 list(range(49,76))\n",
    "# print(FullData.columns[77:104])  #2007-08 list(range(77,104))\n",
    "# print(FullData.columns[105:132]) #2008-09 list(range(105,132))\n",
    "# print(FullData.columns[133:160]) #2009-10 list(range(133,160))\n",
    "# print(FullData.columns[161:188]) #2010-11 list(range(161,188))\n",
    "# print(FullData.columns[189:216]) #2011-12 list(range(189,216))\n",
    "# print(FullData.columns[217:244]) #2012-13 list(range(217,244))\n",
    "# print(FullData.columns[245:272]) #2013-14\n",
    "# print(FullData.columns[273:300]) #2014-15\n",
    "# print(FullData.columns[301:328]) #2015-16\n",
    "# print(FullData.columns[329:356]) #2016-17\n",
    "# print(FullData.columns[357:384]) #2017-18\n",
    "# print(FullData.columns[385:412]) #2018-19\n",
    "# print(FullData.columns[413:440]) #2019-20\n",
    "\n",
    "NewColumnNames = (\n",
    "      pd.Series(Details).tolist() + \n",
    "      (pd.Series(Stats) + \"LastYear\").tolist() + \n",
    "      (pd.Series(Stats) + \"2Years\").tolist() + \n",
    "      (pd.Series(Stats) + \"3Years\").tolist() + \n",
    "      (pd.Series(Stats) + \"4Years\").tolist() + \n",
    "      (pd.Series(Stats) + \"5Years\").tolist()\n",
    "     )\n",
    "\n",
    "CompleteDataFrame = pd.DataFrame(columns = NewColumnNames)\n",
    "\n",
    "\n",
    "Data2018 = FullData.iloc[:,(list(range(387,388)) + list(range(1,15)) + \n",
    "      list(range(357,384)) + list(range(329,356)) +\n",
    "      list(range(301,328)) + list(range(273,300)) + \n",
    "      list(range(245,272)))]\n",
    "Data2018['BirthDate'] = 2018-Data2018['BirthDate']\n",
    "\n",
    "Data2017 = FullData.iloc[:,(list(range(359,360)) + list(range(1,15)) + \n",
    "      list(range(329,356)) + list(range(301,328)) + \n",
    "      list(range(273,300)) + list(range(245,272)) + \n",
    "      list(range(217,244)))]\n",
    "Data2017['BirthDate'] = 2017-Data2017['BirthDate']\n",
    "\n",
    "Data2016 = FullData.iloc[:,(list(range(331,332)) + list(range(1,15)) + \n",
    "      list(range(301,328)) + list(range(273,300)) + \n",
    "      list(range(245,272)) + list(range(217,244)) +\n",
    "      list(range(189,216)))]\n",
    "Data2016['BirthDate'] = 2016-Data2016['BirthDate']\n",
    "\n",
    "Data2015 = FullData.iloc[:,(list(range(303,304)) + list(range(1,15)) + \n",
    "      list(range(273,300)) + list(range(245,272)) + \n",
    "      list(range(217,244)) + list(range(189,216)) +\n",
    "      list(range(161,188)))]\n",
    "Data2015['BirthDate'] = 2015-Data2015['BirthDate']\n",
    "\n",
    "Data2014 = FullData.iloc[:,(list(range(275,276)) + list(range(1,15)) + \n",
    "      list(range(245,272)) + list(range(217,244)) + \n",
    "      list(range(189,216)) + list(range(161,188)) +\n",
    "      list(range(133,160)))]\n",
    "Data2014['BirthDate'] = 2014-Data2014['BirthDate']\n",
    "\n",
    "Data2013 = FullData.iloc[:,(list(range(275,276)) + list(range(1,15)) + \n",
    "      list(range(217,244)) + list(range(189,216)) +\n",
    "      list(range(161,188)) + list(range(133,160)) +\n",
    "      list(range(105,132)))]\n",
    "Data2013['BirthDate'] = 2013-Data2013['BirthDate']\n",
    "\n",
    "Data2012 = FullData.iloc[:,(list(range(275,276)) + list(range(1,15)) + \n",
    "      list(range(189,216)) + list(range(161,188)) + \n",
    "      list(range(133,160)) + list(range(105,132)) +\n",
    "      list(range(77,104)))]\n",
    "Data2012['BirthDate'] = 2012-Data2012['BirthDate']\n",
    "\n",
    "Data2011 = FullData.iloc[:,(list(range(275,276)) + list(range(1,15)) + \n",
    "      list(range(161,188)) + list(range(133,160)) +\n",
    "      list(range(105,132)) + list(range(77,104)) + \n",
    "      list(range(49,76)))]\n",
    "Data2011['BirthDate'] = 2011-Data2011['BirthDate']\n",
    "\n",
    "Data2010 = FullData.iloc[:,(list(range(275,276)) + list(range(1,15)) + \n",
    "      list(range(133,160)) + list(range(105,132)) +\n",
    "      list(range(77,104)) + list(range(49,76)) +\n",
    "      list(range(19,46)))]\n",
    "Data2010['BirthDate'] = 2010-Data2010['BirthDate']\n",
    "\n",
    "###### Convert BirthDate to Year, Subtract from Season Start - AGE\n",
    "###### Convert Height to cm\n",
    "\n",
    "print(\"2018\")\n",
    "Data2018.columns = NewColumnNames\n",
    "Data2018 = Data2018[Data2018['Target'].notna()].reset_index(drop = True)\n",
    "print(Data2018)\n",
    "print(\"2017\")\n",
    "Data2017.columns = NewColumnNames\n",
    "Data2017 = Data2017[Data2017['Target'].notna()].reset_index(drop = True)\n",
    "print(Data2017)\n",
    "print(\"2016\")\n",
    "Data2016.columns = NewColumnNames\n",
    "Data2016 = Data2016[Data2016['Target'].notna()].reset_index(drop = True)\n",
    "print(Data2016)\n",
    "print(\"2015\")\n",
    "Data2015.columns = NewColumnNames\n",
    "Data2015 = Data2015[Data2015['Target'].notna()].reset_index(drop = True)\n",
    "print(Data2015)\n",
    "print(\"\")\n",
    "Data2014.columns = NewColumnNames\n",
    "Data2014 = Data2014[Data2014['Target'].notna()].reset_index(drop = True)\n",
    "print(Data2014)\n",
    "print(\"\")\n",
    "Data2013.columns = NewColumnNames\n",
    "Data2013 = Data2013[Data2013['Target'].notna()].reset_index(drop = True)\n",
    "print(Data2013)\n",
    "print(\"\")\n",
    "Data2012.columns = NewColumnNames\n",
    "Data2012 = Data2012[Data2012['Target'].notna()].reset_index(drop = True)\n",
    "print(Data2012)\n",
    "print(\"\")\n",
    "Data2011.columns = NewColumnNames\n",
    "Data2011 = Data2011[Data2011['Target'].notna()].reset_index(drop = True)\n",
    "print(Data2011)\n",
    "print(\"\")\n",
    "Data2010.columns = NewColumnNames\n",
    "Data2010 = Data2010[Data2010['Target'].notna()].reset_index(drop = True)\n",
    "print(Data2010)\n"
   ]
  },
  {
   "cell_type": "code",
   "execution_count": 16,
   "metadata": {},
   "outputs": [
    {
     "name": "stdout",
     "output_type": "stream",
     "text": [
      "     Target Position Age Country  Height Weight  AssistsLastYear  \\\n",
      "0      34.0        C  34     CZE   6' 1\"    190             29.0   \n",
      "1      34.0        C  31     USA  5' 11\"    200             47.0   \n",
      "2      35.0        R  31     USA   5' 7\"    178             18.0   \n",
      "3      20.0        D  29     USA   6' 1\"    200              9.0   \n",
      "4      62.0        L  26     USA  5' 11\"    195             44.0   \n",
      "..      ...      ...  ..     ...     ...    ...              ...   \n",
      "901     1.0        L  19     FIN   6' 3\"    207              NaN   \n",
      "902     1.0        L  23     CAN  5' 11\"    197              NaN   \n",
      "903    18.0        R  22     USA  5' 10\"    165              NaN   \n",
      "904     4.0        D  24     RUS   6' 2\"    201              NaN   \n",
      "905     1.0        D  23     USA   6' 0\"    203              NaN   \n",
      "\n",
      "     GoalsLastYear  PointsLastYear  PIMSLastYear  ShotsLastYear  \\\n",
      "0             19.0            48.0          40.0          145.0   \n",
      "1             12.0            59.0          60.0          180.0   \n",
      "2             28.0            46.0          26.0          237.0   \n",
      "3              2.0            11.0           2.0           21.0   \n",
      "4             38.0            82.0          32.0          347.0   \n",
      "..             ...             ...           ...            ...   \n",
      "901            NaN             NaN           NaN            NaN   \n",
      "902            NaN             NaN           NaN            NaN   \n",
      "903            NaN             NaN           NaN            NaN   \n",
      "904            NaN             NaN           NaN            NaN   \n",
      "905            NaN             NaN           NaN            NaN   \n",
      "\n",
      "     GamesLastYear  HitsLastYear  PPGLastYear  PPPLastYear PPTOILastYear  \\\n",
      "0             58.0          30.0          3.0         11.0        156:22   \n",
      "1             78.0          30.0          5.0         19.0        206:05   \n",
      "2             61.0          36.0         10.0         16.0        181:23   \n",
      "3             22.0          23.0          1.0          2.0         67:11   \n",
      "4             81.0         108.0          9.0         26.0        251:53   \n",
      "..             ...           ...          ...          ...           ...   \n",
      "901            NaN           NaN          NaN          NaN           NaN   \n",
      "902            NaN           NaN          NaN          NaN           NaN   \n",
      "903            NaN           NaN          NaN          NaN           NaN   \n",
      "904            NaN           NaN          NaN          NaN           NaN   \n",
      "905            NaN           NaN          NaN          NaN           NaN   \n",
      "\n",
      "    ESTOILastYear  PIM2LastYear  FOPctLastYear  ShtPctLastYear  GWGLastYear  \\\n",
      "0          814:54          40.0          44.85           13.10          4.0   \n",
      "1         1190:14          60.0          50.76            6.67          1.0   \n",
      "2          967:05          26.0          53.84           11.81          3.0   \n",
      "3          394:00           2.0           0.00            9.52          0.0   \n",
      "4         1304:58          32.0          37.50           10.95          5.0   \n",
      "..            ...           ...            ...             ...          ...   \n",
      "901           NaN           NaN            NaN             NaN          NaN   \n",
      "902           NaN           NaN            NaN             NaN          NaN   \n",
      "903           NaN           NaN            NaN             NaN          NaN   \n",
      "904           NaN           NaN            NaN             NaN          NaN   \n",
      "905           NaN           NaN            NaN             NaN          NaN   \n",
      "\n",
      "     OTGLastYear  SHGLastYear  SHPLastYear SHTOILastYear  BlocksLastYear  \\\n",
      "0            0.0          1.0          1.0         50:44            16.0   \n",
      "1            0.0          0.0          0.0        158:38            34.0   \n",
      "2            1.0          0.0          0.0        117:18            33.0   \n",
      "3            0.0          0.0          0.0         33:49            22.0   \n",
      "4            1.0          1.0          1.0         44:54            34.0   \n",
      "..           ...          ...          ...           ...             ...   \n",
      "901          NaN          NaN          NaN           NaN             NaN   \n",
      "902          NaN          NaN          NaN           NaN             NaN   \n",
      "903          NaN          NaN          NaN           NaN             NaN   \n",
      "904          NaN          NaN          NaN           NaN             NaN   \n",
      "905          NaN          NaN          NaN           NaN             NaN   \n",
      "\n",
      "     PlusMinusLastYear  Pts2LastYear  ShiftsLastYear TOIperGameLastYear  \\\n",
      "0                 18.0          48.0          1392.0              17:37   \n",
      "1                  1.0          59.0          2002.0              19:56   \n",
      "2                  3.0          46.0          1603.0              20:45   \n",
      "3                 10.0          11.0           628.0              22:30   \n",
      "4                 24.0          82.0          2029.0              19:46   \n",
      "..                 ...           ...             ...                ...   \n",
      "901                NaN           NaN             NaN                NaN   \n",
      "902                NaN           NaN             NaN                NaN   \n",
      "903                NaN           NaN             NaN                NaN   \n",
      "904                NaN           NaN             NaN                NaN   \n",
      "905                NaN           NaN             NaN                NaN   \n",
      "\n",
      "    EVTOIperGameLastYear SHTOIperGameLastYear PPTOIperGameLastYear  \\\n",
      "0                  14:03                00:52                02:41   \n",
      "1                  15:15                02:02                02:38   \n",
      "2                  15:51                01:55                02:58   \n",
      "3                  17:54                01:32                03:03   \n",
      "4                  16:06                00:33                03:06   \n",
      "..                   ...                  ...                  ...   \n",
      "901                  NaN                  NaN                  NaN   \n",
      "902                  NaN                  NaN                  NaN   \n",
      "903                  NaN                  NaN                  NaN   \n",
      "904                  NaN                  NaN                  NaN   \n",
      "905                  NaN                  NaN                  NaN   \n",
      "\n",
      "     Assists2Years  Goals2Years  Points2Years  PIMS2Years  Shots2Years  \\\n",
      "0             47.0         31.0          78.0        32.0        247.0   \n",
      "1             42.0         16.0          58.0        60.0        271.0   \n",
      "2             40.0         20.0          60.0        32.0        248.0   \n",
      "3             28.0          5.0          33.0        36.0        107.0   \n",
      "4             49.0         45.0          94.0        24.0        364.0   \n",
      "..             ...          ...           ...         ...          ...   \n",
      "901            NaN          NaN           NaN         NaN          NaN   \n",
      "902            NaN          NaN           NaN         NaN          NaN   \n",
      "903            NaN          NaN           NaN         NaN          NaN   \n",
      "904            NaN          NaN           NaN         NaN          NaN   \n",
      "905            NaN          NaN           NaN         NaN          NaN   \n",
      "\n",
      "     Games2Years  Hits2Years  PPG2Years  PPP2Years PPTOI2Years ESTOI2Years  \\\n",
      "0           77.0        51.0       12.0       31.0      274:48     1011:27   \n",
      "1           77.0        61.0        3.0       17.0      302:32     1224:37   \n",
      "2           81.0        44.0        3.0       11.0      196:24     1097:05   \n",
      "3           73.0        40.0        2.0       18.0      244:07     1279:36   \n",
      "4           82.0        65.0       14.0       30.0      302:20     1206:36   \n",
      "..           ...         ...        ...        ...         ...         ...   \n",
      "901          NaN         NaN        NaN        NaN         NaN         NaN   \n",
      "902          NaN         NaN        NaN        NaN         NaN         NaN   \n",
      "903          NaN         NaN        NaN        NaN         NaN         NaN   \n",
      "904          NaN         NaN        NaN        NaN         NaN         NaN   \n",
      "905          NaN         NaN        NaN        NaN         NaN         NaN   \n",
      "\n",
      "     PIM22Years  FOPct2Years  ShtPct2Years  GWG2Years  OTG2Years  SHG2Years  \\\n",
      "0          32.0        29.88         12.55        6.0        1.0        2.0   \n",
      "1          60.0        52.36          5.90        7.0        1.0        1.0   \n",
      "2          32.0        38.63          8.06        1.0        0.0        3.0   \n",
      "3          36.0         0.00          4.67        1.0        0.0        0.0   \n",
      "4          24.0        44.62         12.36        8.0        3.0        0.0   \n",
      "..          ...          ...           ...        ...        ...        ...   \n",
      "901         NaN          NaN           NaN        NaN        NaN        NaN   \n",
      "902         NaN          NaN           NaN        NaN        NaN        NaN   \n",
      "903         NaN          NaN           NaN        NaN        NaN        NaN   \n",
      "904         NaN          NaN           NaN        NaN        NaN        NaN   \n",
      "905         NaN          NaN           NaN        NaN        NaN        NaN   \n",
      "\n",
      "     SHP2Years SHTOI2Years  Blocks2Years  PlusMinus2Years  Pts22Years  \\\n",
      "0          5.0      143:56          17.0             18.0        78.0   \n",
      "1          1.0       94:39          23.0             -2.0        58.0   \n",
      "2          4.0       80:53          28.0             12.0        60.0   \n",
      "3          1.0      255:04          79.0             21.0        33.0   \n",
      "4          3.0       29:10          17.0             30.0        94.0   \n",
      "..         ...         ...           ...              ...         ...   \n",
      "901        NaN         NaN           NaN              NaN         NaN   \n",
      "902        NaN         NaN           NaN              NaN         NaN   \n",
      "903        NaN         NaN           NaN              NaN         NaN   \n",
      "904        NaN         NaN           NaN              NaN         NaN   \n",
      "905        NaN         NaN           NaN              NaN         NaN   \n",
      "\n",
      "     Shifts2Years TOIperGame2Years EVTOIperGame2Years SHTOIperGame2Years  \\\n",
      "0          1738.0            18:34              13:08              01:52   \n",
      "1          1977.0            21:03              15:54              01:13   \n",
      "2          1714.0            16:58              13:32              00:59   \n",
      "3          2003.0            24:22              17:31              03:29   \n",
      "4          1767.0            18:45              14:42              00:21   \n",
      "..            ...              ...                ...                ...   \n",
      "901           NaN              NaN                NaN                NaN   \n",
      "902           NaN              NaN                NaN                NaN   \n",
      "903           NaN              NaN                NaN                NaN   \n",
      "904           NaN              NaN                NaN                NaN   \n",
      "905           NaN              NaN                NaN                NaN   \n",
      "\n",
      "    PPTOIperGame2Years  Assists3Years  Goals3Years  Points3Years  PIMS3Years  \\\n",
      "0                03:34           35.0         20.0          55.0        38.0   \n",
      "1                03:55           54.0         16.0          70.0        36.0   \n",
      "2                02:25           31.0         22.0          53.0        46.0   \n",
      "3                03:20           27.0          5.0          32.0        22.0   \n",
      "4                03:41           33.0         32.0          65.0        25.0   \n",
      "..                 ...            ...          ...           ...         ...   \n",
      "901                NaN            NaN          NaN           NaN         NaN   \n",
      "902                NaN            NaN          NaN           NaN         NaN   \n",
      "903                NaN            NaN          NaN           NaN         NaN   \n",
      "904                NaN            NaN          NaN           NaN         NaN   \n",
      "905                NaN            NaN          NaN           NaN         NaN   \n",
      "\n",
      "     Shots3Years  Games3Years  Hits3Years  PPG3Years  PPP3Years PPTOI3Years  \\\n",
      "0          263.0         74.0        51.0        7.0       19.0      265:47   \n",
      "1          242.0         81.0        48.0        7.0       29.0      347:12   \n",
      "2          257.0         82.0        52.0        8.0       21.0      285:23   \n",
      "3           93.0         73.0        52.0        2.0       14.0      277:50   \n",
      "4          266.0         81.0        76.0       10.0       23.0      296:37   \n",
      "..           ...          ...         ...        ...        ...         ...   \n",
      "901          NaN          NaN         NaN        NaN        NaN         NaN   \n",
      "902          NaN          NaN         NaN        NaN        NaN         NaN   \n",
      "903          NaN          NaN         NaN        NaN        NaN         NaN   \n",
      "904          NaN          NaN         NaN        NaN        NaN         NaN   \n",
      "905          NaN          NaN         NaN        NaN        NaN         NaN   \n",
      "\n",
      "    ESTOI3Years  PIM23Years  FOPct3Years  ShtPct3Years  GWG3Years  OTG3Years  \\\n",
      "0        981:13        38.0        45.61          7.60        8.0        3.0   \n",
      "1       1198:28        36.0        52.53          6.61        3.0        0.0   \n",
      "2       1150:39        46.0        54.54          8.56        4.0        1.0   \n",
      "3       1223:56        22.0         0.00          5.38        2.0        0.0   \n",
      "4       1153:59        25.0        48.07         12.03        8.0        2.0   \n",
      "..          ...         ...          ...           ...        ...        ...   \n",
      "901         NaN         NaN          NaN           NaN        NaN        NaN   \n",
      "902         NaN         NaN          NaN           NaN        NaN        NaN   \n",
      "903         NaN         NaN          NaN           NaN        NaN        NaN   \n",
      "904         NaN         NaN          NaN           NaN        NaN        NaN   \n",
      "905         NaN         NaN          NaN           NaN        NaN        NaN   \n",
      "\n",
      "     SHG3Years  SHP3Years SHTOI3Years  Blocks3Years  PlusMinus3Years  \\\n",
      "0          0.0        2.0      119:33          20.0             10.0   \n",
      "1          0.0        1.0       65:42          24.0              3.0   \n",
      "2          1.0        1.0       61:59          14.0              1.0   \n",
      "3          0.0        1.0      241:43          76.0             20.0   \n",
      "4          1.0        1.0       12:09          30.0             13.0   \n",
      "..         ...        ...         ...           ...              ...   \n",
      "901        NaN        NaN         NaN           NaN              NaN   \n",
      "902        NaN        NaN         NaN           NaN              NaN   \n",
      "903        NaN        NaN         NaN           NaN              NaN   \n",
      "904        NaN        NaN         NaN           NaN              NaN   \n",
      "905        NaN        NaN         NaN           NaN              NaN   \n",
      "\n",
      "     Pts23Years  Shifts3Years TOIperGame3Years EVTOIperGame3Years  \\\n",
      "0          55.0        1777.0            18:28              13:15   \n",
      "1          70.0        1844.0            19:53              14:47   \n",
      "2          53.0        1870.0            18:16              14:01   \n",
      "3          32.0        1884.0            23:53              16:45   \n",
      "4          65.0        1775.0            18:03              14:14   \n",
      "..          ...           ...              ...                ...   \n",
      "901         NaN           NaN              NaN                NaN   \n",
      "902         NaN           NaN              NaN                NaN   \n",
      "903         NaN           NaN              NaN                NaN   \n",
      "904         NaN           NaN              NaN                NaN   \n",
      "905         NaN           NaN              NaN                NaN   \n",
      "\n",
      "    SHTOIperGame3Years PPTOIperGame3Years  Assists4Years  Goals4Years  \\\n",
      "0                01:36              03:35           48.0         21.0   \n",
      "1                00:48              04:17           47.0         13.0   \n",
      "2                00:45              03:28           20.0         25.0   \n",
      "3                03:18              03:48           23.0          3.0   \n",
      "4                00:09              03:39           31.0         31.0   \n",
      "..                 ...                ...            ...          ...   \n",
      "901                NaN                NaN            NaN          NaN   \n",
      "902                NaN                NaN            NaN          NaN   \n",
      "903                NaN                NaN            NaN          NaN   \n",
      "904                NaN                NaN            NaN          NaN   \n",
      "905                NaN                NaN            NaN          NaN   \n",
      "\n",
      "     Points4Years  PIMS4Years  Shots4Years  Games4Years  Hits4Years  \\\n",
      "0            69.0        38.0        267.0         75.0        45.0   \n",
      "1            60.0        42.0        248.0         72.0        21.0   \n",
      "2            45.0        36.0        194.0         62.0        30.0   \n",
      "3            26.0        18.0         84.0         82.0        54.0   \n",
      "4            62.0        30.0        247.0         82.0        37.0   \n",
      "..            ...         ...          ...          ...         ...   \n",
      "901           NaN         NaN          NaN          NaN         NaN   \n",
      "902           NaN         NaN          NaN          NaN         NaN   \n",
      "903           NaN         NaN          NaN          NaN         NaN   \n",
      "904           NaN         NaN          NaN          NaN         NaN   \n",
      "905           NaN         NaN          NaN          NaN         NaN   \n",
      "\n",
      "     PPG4Years  PPP4Years PPTOI4Years ESTOI4Years  PIM24Years  FOPct4Years  \\\n",
      "0          8.0       31.0      326:47     1051:03        38.0        38.88   \n",
      "1          4.0       23.0      321:45     1038:30        42.0        52.15   \n",
      "2         11.0       18.0      275:29      859:04        36.0        38.71   \n",
      "3          1.0        6.0      254:28     1590:35        18.0         0.00   \n",
      "4          9.0       22.0      249:37     1171:47        30.0        44.23   \n",
      "..         ...        ...         ...         ...         ...          ...   \n",
      "901        NaN        NaN         NaN         NaN         NaN          NaN   \n",
      "902        NaN        NaN         NaN         NaN         NaN          NaN   \n",
      "903        NaN        NaN         NaN         NaN         NaN          NaN   \n",
      "904        NaN        NaN         NaN         NaN         NaN          NaN   \n",
      "905        NaN        NaN         NaN         NaN         NaN          NaN   \n",
      "\n",
      "     ShtPct4Years  GWG4Years  OTG4Years  SHG4Years  SHP4Years SHTOI4Years  \\\n",
      "0            7.87        5.0        1.0        0.0        0.0       18:29   \n",
      "1            5.24        1.0        1.0        0.0        0.0       02:39   \n",
      "2           12.89        4.0        0.0        0.0        0.0       32:33   \n",
      "3            3.57        0.0        0.0        0.0        0.0      223:09   \n",
      "4           12.55        7.0        0.0        0.0        0.0       16:32   \n",
      "..            ...        ...        ...        ...        ...         ...   \n",
      "901           NaN        NaN        NaN        NaN        NaN         NaN   \n",
      "902           NaN        NaN        NaN        NaN        NaN         NaN   \n",
      "903           NaN        NaN        NaN        NaN        NaN         NaN   \n",
      "904           NaN        NaN        NaN        NaN        NaN         NaN   \n",
      "905           NaN        NaN        NaN        NaN        NaN         NaN   \n",
      "\n",
      "     Blocks4Years  PlusMinus4Years  Pts24Years  Shifts4Years TOIperGame4Years  \\\n",
      "0            17.0              1.0        69.0        1716.0            18:37   \n",
      "1            17.0              7.0        60.0        1601.0            18:55   \n",
      "2            10.0             -3.0        45.0        1397.0            18:49   \n",
      "3           125.0             -9.0        26.0        2427.0            25:13   \n",
      "4            36.0             -3.0        62.0        1762.0            17:32   \n",
      "..            ...              ...         ...           ...              ...   \n",
      "901           NaN              NaN         NaN           NaN              NaN   \n",
      "902           NaN              NaN         NaN           NaN              NaN   \n",
      "903           NaN              NaN         NaN           NaN              NaN   \n",
      "904           NaN              NaN         NaN           NaN              NaN   \n",
      "905           NaN              NaN         NaN           NaN              NaN   \n",
      "\n",
      "    EVTOIperGame4Years SHTOIperGame4Years PPTOIperGame4Years  Assists5Years  \\\n",
      "0                14:00              00:14              04:21           29.0   \n",
      "1                14:25              00:02              04:28           51.0   \n",
      "2                13:51              00:31              04:26           41.0   \n",
      "3                19:23              02:43              03:06           32.0   \n",
      "4                14:17              00:12              03:02           18.0   \n",
      "..                 ...                ...                ...            ...   \n",
      "901                NaN                NaN                NaN            NaN   \n",
      "902                NaN                NaN                NaN            NaN   \n",
      "903                NaN                NaN                NaN            NaN   \n",
      "904                NaN                NaN                NaN            NaN   \n",
      "905                NaN                NaN                NaN            NaN   \n",
      "\n",
      "     Goals5Years  Points5Years  PIMS5Years  Shots5Years  Games5Years  \\\n",
      "0           16.0          45.0        20.0        142.0         38.0   \n",
      "1           33.0          84.0        42.0        244.0         82.0   \n",
      "2           48.0          89.0        46.0        291.0         82.0   \n",
      "3            5.0          37.0        32.0         97.0         80.0   \n",
      "4           14.0          32.0        28.0        133.0         81.0   \n",
      "..           ...           ...         ...          ...          ...   \n",
      "901          NaN           NaN         NaN          NaN          NaN   \n",
      "902          NaN           NaN         NaN          NaN          NaN   \n",
      "903          NaN           NaN         NaN          NaN          NaN   \n",
      "904          NaN           NaN         NaN          NaN          NaN   \n",
      "905          NaN           NaN         NaN          NaN          NaN   \n",
      "\n",
      "     Hits5Years  PPG5Years  PPP5Years PPTOI5Years ESTOI5Years  PIM25Years  \\\n",
      "0          22.0        6.0       21.0      175:53      516:03        20.0   \n",
      "1          20.0        9.0       33.0      416:00     1110:23        42.0   \n",
      "2          47.0       24.0       34.0      410:35     1091:53        46.0   \n",
      "3          34.0        3.0       20.0      325:45     1316:37        32.0   \n",
      "4          11.0        2.0       11.0      196:50      864:30        28.0   \n",
      "..          ...        ...        ...         ...         ...         ...   \n",
      "901         NaN        NaN        NaN         NaN         NaN         NaN   \n",
      "902         NaN        NaN        NaN         NaN         NaN         NaN   \n",
      "903         NaN        NaN        NaN         NaN         NaN         NaN   \n",
      "904         NaN        NaN        NaN         NaN         NaN         NaN   \n",
      "905         NaN        NaN        NaN         NaN         NaN         NaN   \n",
      "\n",
      "     FOPct5Years  ShtPct5Years  GWG5Years  OTG5Years  SHG5Years  SHP5Years  \\\n",
      "0          20.00         11.27        3.0        0.0        0.0        0.0   \n",
      "1          52.58         13.52        5.0        0.0        0.0        0.0   \n",
      "2          38.35         16.49       10.0        3.0        1.0        1.0   \n",
      "3           0.00          5.15        0.0        0.0        0.0        0.0   \n",
      "4          42.59         10.53        5.0        0.0        0.0        0.0   \n",
      "..           ...           ...        ...        ...        ...        ...   \n",
      "901          NaN           NaN        NaN        NaN        NaN        NaN   \n",
      "902          NaN           NaN        NaN        NaN        NaN        NaN   \n",
      "903          NaN           NaN        NaN        NaN        NaN        NaN   \n",
      "904          NaN           NaN        NaN        NaN        NaN        NaN   \n",
      "905          NaN           NaN        NaN        NaN        NaN        NaN   \n",
      "\n",
      "    SHTOI5Years  Blocks5Years  PlusMinus5Years  Pts25Years  Shifts5Years  \\\n",
      "0         13:38           4.0             11.0        45.0         854.0   \n",
      "1         13:50          16.0              8.0        84.0        1867.0   \n",
      "2        122:49          17.0             18.0        89.0        2012.0   \n",
      "3        247:03          95.0              1.0        37.0        2315.0   \n",
      "4         02:38          22.0             -1.0        32.0        1426.0   \n",
      "..          ...           ...              ...         ...           ...   \n",
      "901         NaN           NaN              NaN         NaN           NaN   \n",
      "902         NaN           NaN              NaN         NaN           NaN   \n",
      "903         NaN           NaN              NaN         NaN           NaN   \n",
      "904         NaN           NaN              NaN         NaN           NaN   \n",
      "905         NaN           NaN              NaN         NaN           NaN   \n",
      "\n",
      "    TOIperGame5Years EVTOIperGame5Years SHTOIperGame5Years PPTOIperGame5Years  \n",
      "0              18:34              13:34              00:21              04:37  \n",
      "1              18:46              13:32              00:10              05:04  \n",
      "2              19:49              13:18              01:29              05:00  \n",
      "3              23:37              16:27              03:05              04:04  \n",
      "4              13:08              10:40              00:01              02:25  \n",
      "..               ...                ...                ...                ...  \n",
      "901              NaN                NaN                NaN                NaN  \n",
      "902              NaN                NaN                NaN                NaN  \n",
      "903              NaN                NaN                NaN                NaN  \n",
      "904              NaN                NaN                NaN                NaN  \n",
      "905              NaN                NaN                NaN                NaN  \n",
      "\n",
      "[7992 rows x 141 columns]\n"
     ]
    }
   ],
   "source": [
    "pd.set_option('display.max_columns', None)\n",
    "\n",
    "CompleteDataFrame = pd.DataFrame(columns = NewColumnNames)\n",
    "\n",
    "CompleteDataFrame = CompleteDataFrame.append([Data2010,Data2011,Data2012,Data2013,Data2014,Data2015,Data2016,Data2017,Data2018])\n",
    "\n",
    "CompleteDataFrame = CompleteDataFrame.drop(columns = ['ID', 'FullName', 'Link', 'FirstName', 'LastName', 'Number', 'City','Province','Nationality'])\n",
    "\n",
    "\n",
    "print(CompleteDataFrame)\n"
   ]
  },
  {
   "cell_type": "code",
   "execution_count": 17,
   "metadata": {},
   "outputs": [
    {
     "data": {
      "text/plain": [
       "Target                float64\n",
       "Position               object\n",
       "Age                     int64\n",
       "Country                object\n",
       "Height                 object\n",
       "                       ...   \n",
       "Shifts5Years          float64\n",
       "TOIperGame5Years      float64\n",
       "EVTOIperGame5Years    float64\n",
       "SHTOIperGame5Years    float64\n",
       "PPTOIperGame5Years    float64\n",
       "Length: 141, dtype: object"
      ]
     },
     "execution_count": 17,
     "metadata": {},
     "output_type": "execute_result"
    }
   ],
   "source": [
    "pd.set_option(\"max_rows\", 50)\n",
    "CDF = CompleteDataFrame\n",
    "CDF = CDF.fillna(0)\n",
    "# CompleteDataFrame.dtypes\n",
    "\n",
    "# pd.to_datetime(FullData['BirthDate'], format = '%Y-%m-%d').dt.strftime('%Y').astype(int)\n",
    "\n",
    "CDF = CDF.replace({\":\":\".\"}, regex=True)\n",
    "# print(test)\n",
    "CDF['PPTOILastYear'] = CDF['PPTOILastYear'].astype(float)\n",
    "CDF['ESTOILastYear'] = CDF['ESTOILastYear'].astype(float)\n",
    "CDF['SHTOILastYear'] = CDF['SHTOILastYear'].astype(float)\n",
    "CDF['TOIperGameLastYear'] = CDF['TOIperGameLastYear'].astype(float)\n",
    "CDF['EVTOIperGameLastYear'] = CDF['EVTOIperGameLastYear'].astype(float)\n",
    "CDF['SHTOIperGameLastYear'] = CDF['SHTOIperGameLastYear'].astype(float)\n",
    "CDF['PPTOIperGameLastYear'] = CDF['PPTOIperGameLastYear'].astype(float)\n",
    "CDF['PPTOI2Years'] = CDF['PPTOI2Years'].astype(float)\n",
    "CDF['ESTOI2Years'] = CDF['ESTOI2Years'].astype(float)\n",
    "CDF['SHTOI2Years'] = CDF['SHTOI2Years'].astype(float)\n",
    "CDF['TOIperGame2Years'] = CDF['TOIperGame2Years'].astype(float)\n",
    "CDF['EVTOIperGame2Years'] = CDF['EVTOIperGame2Years'].astype(float)\n",
    "CDF['SHTOIperGame2Years'] = CDF['SHTOIperGame2Years'].astype(float)\n",
    "CDF['PPTOIperGame2Years'] = CDF['PPTOIperGame2Years'].astype(float)\n",
    "CDF['PPTOI3Years'] = CDF['PPTOI3Years'].astype(float)\n",
    "CDF['ESTOI3Years'] = CDF['ESTOI3Years'].astype(float)\n",
    "CDF['SHTOI3Years'] = CDF['SHTOI3Years'].astype(float)\n",
    "CDF['TOIperGame3Years'] = CDF['TOIperGame3Years'].astype(float)\n",
    "CDF['EVTOIperGame3Years'] = CDF['EVTOIperGame3Years'].astype(float)\n",
    "CDF['SHTOIperGame3Years'] = CDF['SHTOIperGame3Years'].astype(float)\n",
    "CDF['PPTOIperGame3Years'] = CDF['PPTOIperGame3Years'].astype(float)\n",
    "CDF['PPTOI4Years'] = CDF['PPTOI4Years'].astype(float)\n",
    "CDF['ESTOI4Years'] = CDF['ESTOI4Years'].astype(float)\n",
    "CDF['SHTOI4Years'] = CDF['SHTOI4Years'].astype(float)\n",
    "CDF['TOIperGame4Years'] = CDF['TOIperGame4Years'].astype(float)\n",
    "CDF['EVTOIperGame4Years'] = CDF['EVTOIperGame4Years'].astype(float)\n",
    "CDF['SHTOIperGame4Years'] = CDF['SHTOIperGame4Years'].astype(float)\n",
    "CDF['PPTOIperGame4Years'] = CDF['PPTOIperGame4Years'].astype(float)\n",
    "CDF['PPTOI5Years'] = CDF['PPTOI5Years'].astype(float)\n",
    "CDF['ESTOI5Years'] = CDF['ESTOI5Years'].astype(float)\n",
    "CDF['SHTOI5Years'] = CDF['SHTOI5Years'].astype(float)\n",
    "CDF['TOIperGame5Years'] = CDF['TOIperGame5Years'].astype(float)\n",
    "CDF['EVTOIperGame5Years'] = CDF['EVTOIperGame5Years'].astype(float)\n",
    "CDF['SHTOIperGame5Years'] = CDF['SHTOIperGame5Years'].astype(float)\n",
    "CDF['PPTOIperGame5Years'] = CDF['PPTOIperGame5Years'].astype(float)\n",
    "\n",
    "CDF.dtypes"
   ]
  },
  {
   "cell_type": "code",
   "execution_count": 18,
   "metadata": {},
   "outputs": [
    {
     "data": {
      "text/html": [
       "<div>\n",
       "<style scoped>\n",
       "    .dataframe tbody tr th:only-of-type {\n",
       "        vertical-align: middle;\n",
       "    }\n",
       "\n",
       "    .dataframe tbody tr th {\n",
       "        vertical-align: top;\n",
       "    }\n",
       "\n",
       "    .dataframe thead th {\n",
       "        text-align: right;\n",
       "    }\n",
       "</style>\n",
       "<table border=\"1\" class=\"dataframe\">\n",
       "  <thead>\n",
       "    <tr style=\"text-align: right;\">\n",
       "      <th></th>\n",
       "      <th>Target</th>\n",
       "      <th>Position</th>\n",
       "      <th>Age</th>\n",
       "      <th>Country</th>\n",
       "      <th>Height</th>\n",
       "      <th>Weight</th>\n",
       "      <th>AssistsLastYear</th>\n",
       "      <th>GoalsLastYear</th>\n",
       "      <th>PointsLastYear</th>\n",
       "      <th>PIMSLastYear</th>\n",
       "      <th>ShotsLastYear</th>\n",
       "      <th>GamesLastYear</th>\n",
       "      <th>HitsLastYear</th>\n",
       "      <th>PPGLastYear</th>\n",
       "      <th>PPPLastYear</th>\n",
       "      <th>PPTOILastYear</th>\n",
       "      <th>ESTOILastYear</th>\n",
       "      <th>PIM2LastYear</th>\n",
       "      <th>FOPctLastYear</th>\n",
       "      <th>ShtPctLastYear</th>\n",
       "      <th>GWGLastYear</th>\n",
       "      <th>OTGLastYear</th>\n",
       "      <th>SHGLastYear</th>\n",
       "      <th>SHPLastYear</th>\n",
       "      <th>SHTOILastYear</th>\n",
       "      <th>BlocksLastYear</th>\n",
       "      <th>PlusMinusLastYear</th>\n",
       "      <th>Pts2LastYear</th>\n",
       "      <th>ShiftsLastYear</th>\n",
       "      <th>TOIperGameLastYear</th>\n",
       "      <th>EVTOIperGameLastYear</th>\n",
       "      <th>SHTOIperGameLastYear</th>\n",
       "      <th>PPTOIperGameLastYear</th>\n",
       "      <th>Assists2Years</th>\n",
       "      <th>Goals2Years</th>\n",
       "      <th>Points2Years</th>\n",
       "      <th>PIMS2Years</th>\n",
       "      <th>Shots2Years</th>\n",
       "      <th>Games2Years</th>\n",
       "      <th>Hits2Years</th>\n",
       "      <th>PPG2Years</th>\n",
       "      <th>PPP2Years</th>\n",
       "      <th>PPTOI2Years</th>\n",
       "      <th>ESTOI2Years</th>\n",
       "      <th>PIM22Years</th>\n",
       "      <th>FOPct2Years</th>\n",
       "      <th>ShtPct2Years</th>\n",
       "      <th>GWG2Years</th>\n",
       "      <th>OTG2Years</th>\n",
       "      <th>SHG2Years</th>\n",
       "      <th>SHP2Years</th>\n",
       "      <th>SHTOI2Years</th>\n",
       "      <th>Blocks2Years</th>\n",
       "      <th>PlusMinus2Years</th>\n",
       "      <th>Pts22Years</th>\n",
       "      <th>Shifts2Years</th>\n",
       "      <th>TOIperGame2Years</th>\n",
       "      <th>EVTOIperGame2Years</th>\n",
       "      <th>SHTOIperGame2Years</th>\n",
       "      <th>PPTOIperGame2Years</th>\n",
       "      <th>Assists3Years</th>\n",
       "      <th>Goals3Years</th>\n",
       "      <th>Points3Years</th>\n",
       "      <th>PIMS3Years</th>\n",
       "      <th>Shots3Years</th>\n",
       "      <th>Games3Years</th>\n",
       "      <th>Hits3Years</th>\n",
       "      <th>PPG3Years</th>\n",
       "      <th>PPP3Years</th>\n",
       "      <th>PPTOI3Years</th>\n",
       "      <th>ESTOI3Years</th>\n",
       "      <th>PIM23Years</th>\n",
       "      <th>FOPct3Years</th>\n",
       "      <th>ShtPct3Years</th>\n",
       "      <th>GWG3Years</th>\n",
       "      <th>OTG3Years</th>\n",
       "      <th>SHG3Years</th>\n",
       "      <th>SHP3Years</th>\n",
       "      <th>SHTOI3Years</th>\n",
       "      <th>Blocks3Years</th>\n",
       "      <th>PlusMinus3Years</th>\n",
       "      <th>Pts23Years</th>\n",
       "      <th>Shifts3Years</th>\n",
       "      <th>TOIperGame3Years</th>\n",
       "      <th>EVTOIperGame3Years</th>\n",
       "      <th>SHTOIperGame3Years</th>\n",
       "      <th>PPTOIperGame3Years</th>\n",
       "      <th>Assists4Years</th>\n",
       "      <th>Goals4Years</th>\n",
       "      <th>Points4Years</th>\n",
       "      <th>PIMS4Years</th>\n",
       "      <th>Shots4Years</th>\n",
       "      <th>Games4Years</th>\n",
       "      <th>Hits4Years</th>\n",
       "      <th>PPG4Years</th>\n",
       "      <th>PPP4Years</th>\n",
       "      <th>PPTOI4Years</th>\n",
       "      <th>ESTOI4Years</th>\n",
       "      <th>PIM24Years</th>\n",
       "      <th>FOPct4Years</th>\n",
       "      <th>ShtPct4Years</th>\n",
       "      <th>GWG4Years</th>\n",
       "      <th>OTG4Years</th>\n",
       "      <th>SHG4Years</th>\n",
       "      <th>SHP4Years</th>\n",
       "      <th>SHTOI4Years</th>\n",
       "      <th>Blocks4Years</th>\n",
       "      <th>PlusMinus4Years</th>\n",
       "      <th>Pts24Years</th>\n",
       "      <th>Shifts4Years</th>\n",
       "      <th>TOIperGame4Years</th>\n",
       "      <th>EVTOIperGame4Years</th>\n",
       "      <th>SHTOIperGame4Years</th>\n",
       "      <th>PPTOIperGame4Years</th>\n",
       "      <th>Assists5Years</th>\n",
       "      <th>Goals5Years</th>\n",
       "      <th>Points5Years</th>\n",
       "      <th>PIMS5Years</th>\n",
       "      <th>Shots5Years</th>\n",
       "      <th>Games5Years</th>\n",
       "      <th>Hits5Years</th>\n",
       "      <th>PPG5Years</th>\n",
       "      <th>PPP5Years</th>\n",
       "      <th>PPTOI5Years</th>\n",
       "      <th>ESTOI5Years</th>\n",
       "      <th>PIM25Years</th>\n",
       "      <th>FOPct5Years</th>\n",
       "      <th>ShtPct5Years</th>\n",
       "      <th>GWG5Years</th>\n",
       "      <th>OTG5Years</th>\n",
       "      <th>SHG5Years</th>\n",
       "      <th>SHP5Years</th>\n",
       "      <th>SHTOI5Years</th>\n",
       "      <th>Blocks5Years</th>\n",
       "      <th>PlusMinus5Years</th>\n",
       "      <th>Pts25Years</th>\n",
       "      <th>Shifts5Years</th>\n",
       "      <th>TOIperGame5Years</th>\n",
       "      <th>EVTOIperGame5Years</th>\n",
       "      <th>SHTOIperGame5Years</th>\n",
       "      <th>PPTOIperGame5Years</th>\n",
       "    </tr>\n",
       "  </thead>\n",
       "  <tbody>\n",
       "    <tr>\n",
       "      <th>0</th>\n",
       "      <td>34.0</td>\n",
       "      <td>C</td>\n",
       "      <td>34</td>\n",
       "      <td>CZE</td>\n",
       "      <td>73.0</td>\n",
       "      <td>190</td>\n",
       "      <td>29.0</td>\n",
       "      <td>19.0</td>\n",
       "      <td>48.0</td>\n",
       "      <td>40.0</td>\n",
       "      <td>145.0</td>\n",
       "      <td>58.0</td>\n",
       "      <td>30.0</td>\n",
       "      <td>3.0</td>\n",
       "      <td>11.0</td>\n",
       "      <td>156.22</td>\n",
       "      <td>814.54</td>\n",
       "      <td>40.0</td>\n",
       "      <td>44.85</td>\n",
       "      <td>13.10</td>\n",
       "      <td>4.0</td>\n",
       "      <td>0.0</td>\n",
       "      <td>1.0</td>\n",
       "      <td>1.0</td>\n",
       "      <td>50.44</td>\n",
       "      <td>16.0</td>\n",
       "      <td>18.0</td>\n",
       "      <td>48.0</td>\n",
       "      <td>1392.0</td>\n",
       "      <td>17.37</td>\n",
       "      <td>14.03</td>\n",
       "      <td>0.52</td>\n",
       "      <td>2.41</td>\n",
       "      <td>47.0</td>\n",
       "      <td>31.0</td>\n",
       "      <td>78.0</td>\n",
       "      <td>32.0</td>\n",
       "      <td>247.0</td>\n",
       "      <td>77.0</td>\n",
       "      <td>51.0</td>\n",
       "      <td>12.0</td>\n",
       "      <td>31.0</td>\n",
       "      <td>274.48</td>\n",
       "      <td>1011.27</td>\n",
       "      <td>32.0</td>\n",
       "      <td>29.88</td>\n",
       "      <td>12.55</td>\n",
       "      <td>6.0</td>\n",
       "      <td>1.0</td>\n",
       "      <td>2.0</td>\n",
       "      <td>5.0</td>\n",
       "      <td>143.56</td>\n",
       "      <td>17.0</td>\n",
       "      <td>18.0</td>\n",
       "      <td>78.0</td>\n",
       "      <td>1738.0</td>\n",
       "      <td>18.34</td>\n",
       "      <td>13.08</td>\n",
       "      <td>1.52</td>\n",
       "      <td>3.34</td>\n",
       "      <td>35.0</td>\n",
       "      <td>20.0</td>\n",
       "      <td>55.0</td>\n",
       "      <td>38.0</td>\n",
       "      <td>263.0</td>\n",
       "      <td>74.0</td>\n",
       "      <td>51.0</td>\n",
       "      <td>7.0</td>\n",
       "      <td>19.0</td>\n",
       "      <td>265.47</td>\n",
       "      <td>981.13</td>\n",
       "      <td>38.0</td>\n",
       "      <td>45.61</td>\n",
       "      <td>7.60</td>\n",
       "      <td>8.0</td>\n",
       "      <td>3.0</td>\n",
       "      <td>0.0</td>\n",
       "      <td>2.0</td>\n",
       "      <td>119.33</td>\n",
       "      <td>20.0</td>\n",
       "      <td>10.0</td>\n",
       "      <td>55.0</td>\n",
       "      <td>1777.0</td>\n",
       "      <td>18.28</td>\n",
       "      <td>13.15</td>\n",
       "      <td>1.36</td>\n",
       "      <td>3.35</td>\n",
       "      <td>48.0</td>\n",
       "      <td>21.0</td>\n",
       "      <td>69.0</td>\n",
       "      <td>38.0</td>\n",
       "      <td>267.0</td>\n",
       "      <td>75.0</td>\n",
       "      <td>45.0</td>\n",
       "      <td>8.0</td>\n",
       "      <td>31.0</td>\n",
       "      <td>326.47</td>\n",
       "      <td>1051.03</td>\n",
       "      <td>38.0</td>\n",
       "      <td>38.88</td>\n",
       "      <td>7.87</td>\n",
       "      <td>5.0</td>\n",
       "      <td>1.0</td>\n",
       "      <td>0.0</td>\n",
       "      <td>0.0</td>\n",
       "      <td>18.29</td>\n",
       "      <td>17.0</td>\n",
       "      <td>1.0</td>\n",
       "      <td>69.0</td>\n",
       "      <td>1716.0</td>\n",
       "      <td>18.37</td>\n",
       "      <td>14.00</td>\n",
       "      <td>0.14</td>\n",
       "      <td>4.21</td>\n",
       "      <td>29.0</td>\n",
       "      <td>16.0</td>\n",
       "      <td>45.0</td>\n",
       "      <td>20.0</td>\n",
       "      <td>142.0</td>\n",
       "      <td>38.0</td>\n",
       "      <td>22.0</td>\n",
       "      <td>6.0</td>\n",
       "      <td>21.0</td>\n",
       "      <td>175.53</td>\n",
       "      <td>516.03</td>\n",
       "      <td>20.0</td>\n",
       "      <td>20.00</td>\n",
       "      <td>11.27</td>\n",
       "      <td>3.0</td>\n",
       "      <td>0.0</td>\n",
       "      <td>0.0</td>\n",
       "      <td>0.0</td>\n",
       "      <td>13.38</td>\n",
       "      <td>4.0</td>\n",
       "      <td>11.0</td>\n",
       "      <td>45.0</td>\n",
       "      <td>854.0</td>\n",
       "      <td>18.34</td>\n",
       "      <td>13.34</td>\n",
       "      <td>0.21</td>\n",
       "      <td>4.37</td>\n",
       "    </tr>\n",
       "    <tr>\n",
       "      <th>1</th>\n",
       "      <td>34.0</td>\n",
       "      <td>C</td>\n",
       "      <td>31</td>\n",
       "      <td>USA</td>\n",
       "      <td>71.0</td>\n",
       "      <td>200</td>\n",
       "      <td>47.0</td>\n",
       "      <td>12.0</td>\n",
       "      <td>59.0</td>\n",
       "      <td>60.0</td>\n",
       "      <td>180.0</td>\n",
       "      <td>78.0</td>\n",
       "      <td>30.0</td>\n",
       "      <td>5.0</td>\n",
       "      <td>19.0</td>\n",
       "      <td>206.05</td>\n",
       "      <td>1190.14</td>\n",
       "      <td>60.0</td>\n",
       "      <td>50.76</td>\n",
       "      <td>6.67</td>\n",
       "      <td>1.0</td>\n",
       "      <td>0.0</td>\n",
       "      <td>0.0</td>\n",
       "      <td>0.0</td>\n",
       "      <td>158.38</td>\n",
       "      <td>34.0</td>\n",
       "      <td>1.0</td>\n",
       "      <td>59.0</td>\n",
       "      <td>2002.0</td>\n",
       "      <td>19.56</td>\n",
       "      <td>15.15</td>\n",
       "      <td>2.02</td>\n",
       "      <td>2.38</td>\n",
       "      <td>42.0</td>\n",
       "      <td>16.0</td>\n",
       "      <td>58.0</td>\n",
       "      <td>60.0</td>\n",
       "      <td>271.0</td>\n",
       "      <td>77.0</td>\n",
       "      <td>61.0</td>\n",
       "      <td>3.0</td>\n",
       "      <td>17.0</td>\n",
       "      <td>302.32</td>\n",
       "      <td>1224.37</td>\n",
       "      <td>60.0</td>\n",
       "      <td>52.36</td>\n",
       "      <td>5.90</td>\n",
       "      <td>7.0</td>\n",
       "      <td>1.0</td>\n",
       "      <td>1.0</td>\n",
       "      <td>1.0</td>\n",
       "      <td>94.39</td>\n",
       "      <td>23.0</td>\n",
       "      <td>-2.0</td>\n",
       "      <td>58.0</td>\n",
       "      <td>1977.0</td>\n",
       "      <td>21.03</td>\n",
       "      <td>15.54</td>\n",
       "      <td>1.13</td>\n",
       "      <td>3.55</td>\n",
       "      <td>54.0</td>\n",
       "      <td>16.0</td>\n",
       "      <td>70.0</td>\n",
       "      <td>36.0</td>\n",
       "      <td>242.0</td>\n",
       "      <td>81.0</td>\n",
       "      <td>48.0</td>\n",
       "      <td>7.0</td>\n",
       "      <td>29.0</td>\n",
       "      <td>347.12</td>\n",
       "      <td>1198.28</td>\n",
       "      <td>36.0</td>\n",
       "      <td>52.53</td>\n",
       "      <td>6.61</td>\n",
       "      <td>3.0</td>\n",
       "      <td>0.0</td>\n",
       "      <td>0.0</td>\n",
       "      <td>1.0</td>\n",
       "      <td>65.42</td>\n",
       "      <td>24.0</td>\n",
       "      <td>3.0</td>\n",
       "      <td>70.0</td>\n",
       "      <td>1844.0</td>\n",
       "      <td>19.53</td>\n",
       "      <td>14.47</td>\n",
       "      <td>0.48</td>\n",
       "      <td>4.17</td>\n",
       "      <td>47.0</td>\n",
       "      <td>13.0</td>\n",
       "      <td>60.0</td>\n",
       "      <td>42.0</td>\n",
       "      <td>248.0</td>\n",
       "      <td>72.0</td>\n",
       "      <td>21.0</td>\n",
       "      <td>4.0</td>\n",
       "      <td>23.0</td>\n",
       "      <td>321.45</td>\n",
       "      <td>1038.30</td>\n",
       "      <td>42.0</td>\n",
       "      <td>52.15</td>\n",
       "      <td>5.24</td>\n",
       "      <td>1.0</td>\n",
       "      <td>1.0</td>\n",
       "      <td>0.0</td>\n",
       "      <td>0.0</td>\n",
       "      <td>2.39</td>\n",
       "      <td>17.0</td>\n",
       "      <td>7.0</td>\n",
       "      <td>60.0</td>\n",
       "      <td>1601.0</td>\n",
       "      <td>18.55</td>\n",
       "      <td>14.25</td>\n",
       "      <td>0.02</td>\n",
       "      <td>4.28</td>\n",
       "      <td>51.0</td>\n",
       "      <td>33.0</td>\n",
       "      <td>84.0</td>\n",
       "      <td>42.0</td>\n",
       "      <td>244.0</td>\n",
       "      <td>82.0</td>\n",
       "      <td>20.0</td>\n",
       "      <td>9.0</td>\n",
       "      <td>33.0</td>\n",
       "      <td>416.00</td>\n",
       "      <td>1110.23</td>\n",
       "      <td>42.0</td>\n",
       "      <td>52.58</td>\n",
       "      <td>13.52</td>\n",
       "      <td>5.0</td>\n",
       "      <td>0.0</td>\n",
       "      <td>0.0</td>\n",
       "      <td>0.0</td>\n",
       "      <td>13.50</td>\n",
       "      <td>16.0</td>\n",
       "      <td>8.0</td>\n",
       "      <td>84.0</td>\n",
       "      <td>1867.0</td>\n",
       "      <td>18.46</td>\n",
       "      <td>13.32</td>\n",
       "      <td>0.10</td>\n",
       "      <td>5.04</td>\n",
       "    </tr>\n",
       "    <tr>\n",
       "      <th>2</th>\n",
       "      <td>35.0</td>\n",
       "      <td>R</td>\n",
       "      <td>31</td>\n",
       "      <td>USA</td>\n",
       "      <td>67.0</td>\n",
       "      <td>178</td>\n",
       "      <td>18.0</td>\n",
       "      <td>28.0</td>\n",
       "      <td>46.0</td>\n",
       "      <td>26.0</td>\n",
       "      <td>237.0</td>\n",
       "      <td>61.0</td>\n",
       "      <td>36.0</td>\n",
       "      <td>10.0</td>\n",
       "      <td>16.0</td>\n",
       "      <td>181.23</td>\n",
       "      <td>967.05</td>\n",
       "      <td>26.0</td>\n",
       "      <td>53.84</td>\n",
       "      <td>11.81</td>\n",
       "      <td>3.0</td>\n",
       "      <td>1.0</td>\n",
       "      <td>0.0</td>\n",
       "      <td>0.0</td>\n",
       "      <td>117.18</td>\n",
       "      <td>33.0</td>\n",
       "      <td>3.0</td>\n",
       "      <td>46.0</td>\n",
       "      <td>1603.0</td>\n",
       "      <td>20.45</td>\n",
       "      <td>15.51</td>\n",
       "      <td>1.55</td>\n",
       "      <td>2.58</td>\n",
       "      <td>40.0</td>\n",
       "      <td>20.0</td>\n",
       "      <td>60.0</td>\n",
       "      <td>32.0</td>\n",
       "      <td>248.0</td>\n",
       "      <td>81.0</td>\n",
       "      <td>44.0</td>\n",
       "      <td>3.0</td>\n",
       "      <td>11.0</td>\n",
       "      <td>196.24</td>\n",
       "      <td>1097.05</td>\n",
       "      <td>32.0</td>\n",
       "      <td>38.63</td>\n",
       "      <td>8.06</td>\n",
       "      <td>1.0</td>\n",
       "      <td>0.0</td>\n",
       "      <td>3.0</td>\n",
       "      <td>4.0</td>\n",
       "      <td>80.53</td>\n",
       "      <td>28.0</td>\n",
       "      <td>12.0</td>\n",
       "      <td>60.0</td>\n",
       "      <td>1714.0</td>\n",
       "      <td>16.58</td>\n",
       "      <td>13.32</td>\n",
       "      <td>0.59</td>\n",
       "      <td>2.25</td>\n",
       "      <td>31.0</td>\n",
       "      <td>22.0</td>\n",
       "      <td>53.0</td>\n",
       "      <td>46.0</td>\n",
       "      <td>257.0</td>\n",
       "      <td>82.0</td>\n",
       "      <td>52.0</td>\n",
       "      <td>8.0</td>\n",
       "      <td>21.0</td>\n",
       "      <td>285.23</td>\n",
       "      <td>1150.39</td>\n",
       "      <td>46.0</td>\n",
       "      <td>54.54</td>\n",
       "      <td>8.56</td>\n",
       "      <td>4.0</td>\n",
       "      <td>1.0</td>\n",
       "      <td>1.0</td>\n",
       "      <td>1.0</td>\n",
       "      <td>61.59</td>\n",
       "      <td>14.0</td>\n",
       "      <td>1.0</td>\n",
       "      <td>53.0</td>\n",
       "      <td>1870.0</td>\n",
       "      <td>18.16</td>\n",
       "      <td>14.01</td>\n",
       "      <td>0.45</td>\n",
       "      <td>3.28</td>\n",
       "      <td>20.0</td>\n",
       "      <td>25.0</td>\n",
       "      <td>45.0</td>\n",
       "      <td>36.0</td>\n",
       "      <td>194.0</td>\n",
       "      <td>62.0</td>\n",
       "      <td>30.0</td>\n",
       "      <td>11.0</td>\n",
       "      <td>18.0</td>\n",
       "      <td>275.29</td>\n",
       "      <td>859.04</td>\n",
       "      <td>36.0</td>\n",
       "      <td>38.71</td>\n",
       "      <td>12.89</td>\n",
       "      <td>4.0</td>\n",
       "      <td>0.0</td>\n",
       "      <td>0.0</td>\n",
       "      <td>0.0</td>\n",
       "      <td>32.33</td>\n",
       "      <td>10.0</td>\n",
       "      <td>-3.0</td>\n",
       "      <td>45.0</td>\n",
       "      <td>1397.0</td>\n",
       "      <td>18.49</td>\n",
       "      <td>13.51</td>\n",
       "      <td>0.31</td>\n",
       "      <td>4.26</td>\n",
       "      <td>41.0</td>\n",
       "      <td>48.0</td>\n",
       "      <td>89.0</td>\n",
       "      <td>46.0</td>\n",
       "      <td>291.0</td>\n",
       "      <td>82.0</td>\n",
       "      <td>47.0</td>\n",
       "      <td>24.0</td>\n",
       "      <td>34.0</td>\n",
       "      <td>410.35</td>\n",
       "      <td>1091.53</td>\n",
       "      <td>46.0</td>\n",
       "      <td>38.35</td>\n",
       "      <td>16.49</td>\n",
       "      <td>10.0</td>\n",
       "      <td>3.0</td>\n",
       "      <td>1.0</td>\n",
       "      <td>1.0</td>\n",
       "      <td>122.49</td>\n",
       "      <td>17.0</td>\n",
       "      <td>18.0</td>\n",
       "      <td>89.0</td>\n",
       "      <td>2012.0</td>\n",
       "      <td>19.49</td>\n",
       "      <td>13.18</td>\n",
       "      <td>1.29</td>\n",
       "      <td>5.00</td>\n",
       "    </tr>\n",
       "    <tr>\n",
       "      <th>3</th>\n",
       "      <td>20.0</td>\n",
       "      <td>D</td>\n",
       "      <td>29</td>\n",
       "      <td>USA</td>\n",
       "      <td>73.0</td>\n",
       "      <td>200</td>\n",
       "      <td>9.0</td>\n",
       "      <td>2.0</td>\n",
       "      <td>11.0</td>\n",
       "      <td>2.0</td>\n",
       "      <td>21.0</td>\n",
       "      <td>22.0</td>\n",
       "      <td>23.0</td>\n",
       "      <td>1.0</td>\n",
       "      <td>2.0</td>\n",
       "      <td>67.11</td>\n",
       "      <td>394.00</td>\n",
       "      <td>2.0</td>\n",
       "      <td>0.00</td>\n",
       "      <td>9.52</td>\n",
       "      <td>0.0</td>\n",
       "      <td>0.0</td>\n",
       "      <td>0.0</td>\n",
       "      <td>0.0</td>\n",
       "      <td>33.49</td>\n",
       "      <td>22.0</td>\n",
       "      <td>10.0</td>\n",
       "      <td>11.0</td>\n",
       "      <td>628.0</td>\n",
       "      <td>22.30</td>\n",
       "      <td>17.54</td>\n",
       "      <td>1.32</td>\n",
       "      <td>3.03</td>\n",
       "      <td>28.0</td>\n",
       "      <td>5.0</td>\n",
       "      <td>33.0</td>\n",
       "      <td>36.0</td>\n",
       "      <td>107.0</td>\n",
       "      <td>73.0</td>\n",
       "      <td>40.0</td>\n",
       "      <td>2.0</td>\n",
       "      <td>18.0</td>\n",
       "      <td>244.07</td>\n",
       "      <td>1279.36</td>\n",
       "      <td>36.0</td>\n",
       "      <td>0.00</td>\n",
       "      <td>4.67</td>\n",
       "      <td>1.0</td>\n",
       "      <td>0.0</td>\n",
       "      <td>0.0</td>\n",
       "      <td>1.0</td>\n",
       "      <td>255.04</td>\n",
       "      <td>79.0</td>\n",
       "      <td>21.0</td>\n",
       "      <td>33.0</td>\n",
       "      <td>2003.0</td>\n",
       "      <td>24.22</td>\n",
       "      <td>17.31</td>\n",
       "      <td>3.29</td>\n",
       "      <td>3.20</td>\n",
       "      <td>27.0</td>\n",
       "      <td>5.0</td>\n",
       "      <td>32.0</td>\n",
       "      <td>22.0</td>\n",
       "      <td>93.0</td>\n",
       "      <td>73.0</td>\n",
       "      <td>52.0</td>\n",
       "      <td>2.0</td>\n",
       "      <td>14.0</td>\n",
       "      <td>277.50</td>\n",
       "      <td>1223.56</td>\n",
       "      <td>22.0</td>\n",
       "      <td>0.00</td>\n",
       "      <td>5.38</td>\n",
       "      <td>2.0</td>\n",
       "      <td>0.0</td>\n",
       "      <td>0.0</td>\n",
       "      <td>1.0</td>\n",
       "      <td>241.43</td>\n",
       "      <td>76.0</td>\n",
       "      <td>20.0</td>\n",
       "      <td>32.0</td>\n",
       "      <td>1884.0</td>\n",
       "      <td>23.53</td>\n",
       "      <td>16.45</td>\n",
       "      <td>3.18</td>\n",
       "      <td>3.48</td>\n",
       "      <td>23.0</td>\n",
       "      <td>3.0</td>\n",
       "      <td>26.0</td>\n",
       "      <td>18.0</td>\n",
       "      <td>84.0</td>\n",
       "      <td>82.0</td>\n",
       "      <td>54.0</td>\n",
       "      <td>1.0</td>\n",
       "      <td>6.0</td>\n",
       "      <td>254.28</td>\n",
       "      <td>1590.35</td>\n",
       "      <td>18.0</td>\n",
       "      <td>0.00</td>\n",
       "      <td>3.57</td>\n",
       "      <td>0.0</td>\n",
       "      <td>0.0</td>\n",
       "      <td>0.0</td>\n",
       "      <td>0.0</td>\n",
       "      <td>223.09</td>\n",
       "      <td>125.0</td>\n",
       "      <td>-9.0</td>\n",
       "      <td>26.0</td>\n",
       "      <td>2427.0</td>\n",
       "      <td>25.13</td>\n",
       "      <td>19.23</td>\n",
       "      <td>2.43</td>\n",
       "      <td>3.06</td>\n",
       "      <td>32.0</td>\n",
       "      <td>5.0</td>\n",
       "      <td>37.0</td>\n",
       "      <td>32.0</td>\n",
       "      <td>97.0</td>\n",
       "      <td>80.0</td>\n",
       "      <td>34.0</td>\n",
       "      <td>3.0</td>\n",
       "      <td>20.0</td>\n",
       "      <td>325.45</td>\n",
       "      <td>1316.37</td>\n",
       "      <td>32.0</td>\n",
       "      <td>0.00</td>\n",
       "      <td>5.15</td>\n",
       "      <td>0.0</td>\n",
       "      <td>0.0</td>\n",
       "      <td>0.0</td>\n",
       "      <td>0.0</td>\n",
       "      <td>247.03</td>\n",
       "      <td>95.0</td>\n",
       "      <td>1.0</td>\n",
       "      <td>37.0</td>\n",
       "      <td>2315.0</td>\n",
       "      <td>23.37</td>\n",
       "      <td>16.27</td>\n",
       "      <td>3.05</td>\n",
       "      <td>4.04</td>\n",
       "    </tr>\n",
       "    <tr>\n",
       "      <th>4</th>\n",
       "      <td>62.0</td>\n",
       "      <td>L</td>\n",
       "      <td>26</td>\n",
       "      <td>USA</td>\n",
       "      <td>71.0</td>\n",
       "      <td>195</td>\n",
       "      <td>44.0</td>\n",
       "      <td>38.0</td>\n",
       "      <td>82.0</td>\n",
       "      <td>32.0</td>\n",
       "      <td>347.0</td>\n",
       "      <td>81.0</td>\n",
       "      <td>108.0</td>\n",
       "      <td>9.0</td>\n",
       "      <td>26.0</td>\n",
       "      <td>251.53</td>\n",
       "      <td>1304.58</td>\n",
       "      <td>32.0</td>\n",
       "      <td>37.50</td>\n",
       "      <td>10.95</td>\n",
       "      <td>5.0</td>\n",
       "      <td>1.0</td>\n",
       "      <td>1.0</td>\n",
       "      <td>1.0</td>\n",
       "      <td>44.54</td>\n",
       "      <td>34.0</td>\n",
       "      <td>24.0</td>\n",
       "      <td>82.0</td>\n",
       "      <td>2029.0</td>\n",
       "      <td>19.46</td>\n",
       "      <td>16.06</td>\n",
       "      <td>0.33</td>\n",
       "      <td>3.06</td>\n",
       "      <td>49.0</td>\n",
       "      <td>45.0</td>\n",
       "      <td>94.0</td>\n",
       "      <td>24.0</td>\n",
       "      <td>364.0</td>\n",
       "      <td>82.0</td>\n",
       "      <td>65.0</td>\n",
       "      <td>14.0</td>\n",
       "      <td>30.0</td>\n",
       "      <td>302.20</td>\n",
       "      <td>1206.36</td>\n",
       "      <td>24.0</td>\n",
       "      <td>44.62</td>\n",
       "      <td>12.36</td>\n",
       "      <td>8.0</td>\n",
       "      <td>3.0</td>\n",
       "      <td>0.0</td>\n",
       "      <td>3.0</td>\n",
       "      <td>29.10</td>\n",
       "      <td>17.0</td>\n",
       "      <td>30.0</td>\n",
       "      <td>94.0</td>\n",
       "      <td>1767.0</td>\n",
       "      <td>18.45</td>\n",
       "      <td>14.42</td>\n",
       "      <td>0.21</td>\n",
       "      <td>3.41</td>\n",
       "      <td>33.0</td>\n",
       "      <td>32.0</td>\n",
       "      <td>65.0</td>\n",
       "      <td>25.0</td>\n",
       "      <td>266.0</td>\n",
       "      <td>81.0</td>\n",
       "      <td>76.0</td>\n",
       "      <td>10.0</td>\n",
       "      <td>23.0</td>\n",
       "      <td>296.37</td>\n",
       "      <td>1153.59</td>\n",
       "      <td>25.0</td>\n",
       "      <td>48.07</td>\n",
       "      <td>12.03</td>\n",
       "      <td>8.0</td>\n",
       "      <td>2.0</td>\n",
       "      <td>1.0</td>\n",
       "      <td>1.0</td>\n",
       "      <td>12.09</td>\n",
       "      <td>30.0</td>\n",
       "      <td>13.0</td>\n",
       "      <td>65.0</td>\n",
       "      <td>1775.0</td>\n",
       "      <td>18.03</td>\n",
       "      <td>14.14</td>\n",
       "      <td>0.09</td>\n",
       "      <td>3.39</td>\n",
       "      <td>31.0</td>\n",
       "      <td>31.0</td>\n",
       "      <td>62.0</td>\n",
       "      <td>30.0</td>\n",
       "      <td>247.0</td>\n",
       "      <td>82.0</td>\n",
       "      <td>37.0</td>\n",
       "      <td>9.0</td>\n",
       "      <td>22.0</td>\n",
       "      <td>249.37</td>\n",
       "      <td>1171.47</td>\n",
       "      <td>30.0</td>\n",
       "      <td>44.23</td>\n",
       "      <td>12.55</td>\n",
       "      <td>7.0</td>\n",
       "      <td>0.0</td>\n",
       "      <td>0.0</td>\n",
       "      <td>0.0</td>\n",
       "      <td>16.32</td>\n",
       "      <td>36.0</td>\n",
       "      <td>-3.0</td>\n",
       "      <td>62.0</td>\n",
       "      <td>1762.0</td>\n",
       "      <td>17.32</td>\n",
       "      <td>14.17</td>\n",
       "      <td>0.12</td>\n",
       "      <td>3.02</td>\n",
       "      <td>18.0</td>\n",
       "      <td>14.0</td>\n",
       "      <td>32.0</td>\n",
       "      <td>28.0</td>\n",
       "      <td>133.0</td>\n",
       "      <td>81.0</td>\n",
       "      <td>11.0</td>\n",
       "      <td>2.0</td>\n",
       "      <td>11.0</td>\n",
       "      <td>196.50</td>\n",
       "      <td>864.30</td>\n",
       "      <td>28.0</td>\n",
       "      <td>42.59</td>\n",
       "      <td>10.53</td>\n",
       "      <td>5.0</td>\n",
       "      <td>0.0</td>\n",
       "      <td>0.0</td>\n",
       "      <td>0.0</td>\n",
       "      <td>2.38</td>\n",
       "      <td>22.0</td>\n",
       "      <td>-1.0</td>\n",
       "      <td>32.0</td>\n",
       "      <td>1426.0</td>\n",
       "      <td>13.08</td>\n",
       "      <td>10.40</td>\n",
       "      <td>0.01</td>\n",
       "      <td>2.25</td>\n",
       "    </tr>\n",
       "    <tr>\n",
       "      <th>...</th>\n",
       "      <td>...</td>\n",
       "      <td>...</td>\n",
       "      <td>...</td>\n",
       "      <td>...</td>\n",
       "      <td>...</td>\n",
       "      <td>...</td>\n",
       "      <td>...</td>\n",
       "      <td>...</td>\n",
       "      <td>...</td>\n",
       "      <td>...</td>\n",
       "      <td>...</td>\n",
       "      <td>...</td>\n",
       "      <td>...</td>\n",
       "      <td>...</td>\n",
       "      <td>...</td>\n",
       "      <td>...</td>\n",
       "      <td>...</td>\n",
       "      <td>...</td>\n",
       "      <td>...</td>\n",
       "      <td>...</td>\n",
       "      <td>...</td>\n",
       "      <td>...</td>\n",
       "      <td>...</td>\n",
       "      <td>...</td>\n",
       "      <td>...</td>\n",
       "      <td>...</td>\n",
       "      <td>...</td>\n",
       "      <td>...</td>\n",
       "      <td>...</td>\n",
       "      <td>...</td>\n",
       "      <td>...</td>\n",
       "      <td>...</td>\n",
       "      <td>...</td>\n",
       "      <td>...</td>\n",
       "      <td>...</td>\n",
       "      <td>...</td>\n",
       "      <td>...</td>\n",
       "      <td>...</td>\n",
       "      <td>...</td>\n",
       "      <td>...</td>\n",
       "      <td>...</td>\n",
       "      <td>...</td>\n",
       "      <td>...</td>\n",
       "      <td>...</td>\n",
       "      <td>...</td>\n",
       "      <td>...</td>\n",
       "      <td>...</td>\n",
       "      <td>...</td>\n",
       "      <td>...</td>\n",
       "      <td>...</td>\n",
       "      <td>...</td>\n",
       "      <td>...</td>\n",
       "      <td>...</td>\n",
       "      <td>...</td>\n",
       "      <td>...</td>\n",
       "      <td>...</td>\n",
       "      <td>...</td>\n",
       "      <td>...</td>\n",
       "      <td>...</td>\n",
       "      <td>...</td>\n",
       "      <td>...</td>\n",
       "      <td>...</td>\n",
       "      <td>...</td>\n",
       "      <td>...</td>\n",
       "      <td>...</td>\n",
       "      <td>...</td>\n",
       "      <td>...</td>\n",
       "      <td>...</td>\n",
       "      <td>...</td>\n",
       "      <td>...</td>\n",
       "      <td>...</td>\n",
       "      <td>...</td>\n",
       "      <td>...</td>\n",
       "      <td>...</td>\n",
       "      <td>...</td>\n",
       "      <td>...</td>\n",
       "      <td>...</td>\n",
       "      <td>...</td>\n",
       "      <td>...</td>\n",
       "      <td>...</td>\n",
       "      <td>...</td>\n",
       "      <td>...</td>\n",
       "      <td>...</td>\n",
       "      <td>...</td>\n",
       "      <td>...</td>\n",
       "      <td>...</td>\n",
       "      <td>...</td>\n",
       "      <td>...</td>\n",
       "      <td>...</td>\n",
       "      <td>...</td>\n",
       "      <td>...</td>\n",
       "      <td>...</td>\n",
       "      <td>...</td>\n",
       "      <td>...</td>\n",
       "      <td>...</td>\n",
       "      <td>...</td>\n",
       "      <td>...</td>\n",
       "      <td>...</td>\n",
       "      <td>...</td>\n",
       "      <td>...</td>\n",
       "      <td>...</td>\n",
       "      <td>...</td>\n",
       "      <td>...</td>\n",
       "      <td>...</td>\n",
       "      <td>...</td>\n",
       "      <td>...</td>\n",
       "      <td>...</td>\n",
       "      <td>...</td>\n",
       "      <td>...</td>\n",
       "      <td>...</td>\n",
       "      <td>...</td>\n",
       "      <td>...</td>\n",
       "      <td>...</td>\n",
       "      <td>...</td>\n",
       "      <td>...</td>\n",
       "      <td>...</td>\n",
       "      <td>...</td>\n",
       "      <td>...</td>\n",
       "      <td>...</td>\n",
       "      <td>...</td>\n",
       "      <td>...</td>\n",
       "      <td>...</td>\n",
       "      <td>...</td>\n",
       "      <td>...</td>\n",
       "      <td>...</td>\n",
       "      <td>...</td>\n",
       "      <td>...</td>\n",
       "      <td>...</td>\n",
       "      <td>...</td>\n",
       "      <td>...</td>\n",
       "      <td>...</td>\n",
       "      <td>...</td>\n",
       "      <td>...</td>\n",
       "      <td>...</td>\n",
       "      <td>...</td>\n",
       "      <td>...</td>\n",
       "      <td>...</td>\n",
       "      <td>...</td>\n",
       "      <td>...</td>\n",
       "      <td>...</td>\n",
       "      <td>...</td>\n",
       "    </tr>\n",
       "    <tr>\n",
       "      <th>901</th>\n",
       "      <td>1.0</td>\n",
       "      <td>L</td>\n",
       "      <td>19</td>\n",
       "      <td>FIN</td>\n",
       "      <td>75.0</td>\n",
       "      <td>207</td>\n",
       "      <td>0.0</td>\n",
       "      <td>0.0</td>\n",
       "      <td>0.0</td>\n",
       "      <td>0.0</td>\n",
       "      <td>0.0</td>\n",
       "      <td>0.0</td>\n",
       "      <td>0.0</td>\n",
       "      <td>0.0</td>\n",
       "      <td>0.0</td>\n",
       "      <td>0.00</td>\n",
       "      <td>0.00</td>\n",
       "      <td>0.0</td>\n",
       "      <td>0.00</td>\n",
       "      <td>0.00</td>\n",
       "      <td>0.0</td>\n",
       "      <td>0.0</td>\n",
       "      <td>0.0</td>\n",
       "      <td>0.0</td>\n",
       "      <td>0.00</td>\n",
       "      <td>0.0</td>\n",
       "      <td>0.0</td>\n",
       "      <td>0.0</td>\n",
       "      <td>0.0</td>\n",
       "      <td>0.00</td>\n",
       "      <td>0.00</td>\n",
       "      <td>0.00</td>\n",
       "      <td>0.00</td>\n",
       "      <td>0.0</td>\n",
       "      <td>0.0</td>\n",
       "      <td>0.0</td>\n",
       "      <td>0.0</td>\n",
       "      <td>0.0</td>\n",
       "      <td>0.0</td>\n",
       "      <td>0.0</td>\n",
       "      <td>0.0</td>\n",
       "      <td>0.0</td>\n",
       "      <td>0.00</td>\n",
       "      <td>0.00</td>\n",
       "      <td>0.0</td>\n",
       "      <td>0.00</td>\n",
       "      <td>0.00</td>\n",
       "      <td>0.0</td>\n",
       "      <td>0.0</td>\n",
       "      <td>0.0</td>\n",
       "      <td>0.0</td>\n",
       "      <td>0.00</td>\n",
       "      <td>0.0</td>\n",
       "      <td>0.0</td>\n",
       "      <td>0.0</td>\n",
       "      <td>0.0</td>\n",
       "      <td>0.00</td>\n",
       "      <td>0.00</td>\n",
       "      <td>0.00</td>\n",
       "      <td>0.00</td>\n",
       "      <td>0.0</td>\n",
       "      <td>0.0</td>\n",
       "      <td>0.0</td>\n",
       "      <td>0.0</td>\n",
       "      <td>0.0</td>\n",
       "      <td>0.0</td>\n",
       "      <td>0.0</td>\n",
       "      <td>0.0</td>\n",
       "      <td>0.0</td>\n",
       "      <td>0.00</td>\n",
       "      <td>0.00</td>\n",
       "      <td>0.0</td>\n",
       "      <td>0.00</td>\n",
       "      <td>0.00</td>\n",
       "      <td>0.0</td>\n",
       "      <td>0.0</td>\n",
       "      <td>0.0</td>\n",
       "      <td>0.0</td>\n",
       "      <td>0.00</td>\n",
       "      <td>0.0</td>\n",
       "      <td>0.0</td>\n",
       "      <td>0.0</td>\n",
       "      <td>0.0</td>\n",
       "      <td>0.00</td>\n",
       "      <td>0.00</td>\n",
       "      <td>0.00</td>\n",
       "      <td>0.00</td>\n",
       "      <td>0.0</td>\n",
       "      <td>0.0</td>\n",
       "      <td>0.0</td>\n",
       "      <td>0.0</td>\n",
       "      <td>0.0</td>\n",
       "      <td>0.0</td>\n",
       "      <td>0.0</td>\n",
       "      <td>0.0</td>\n",
       "      <td>0.0</td>\n",
       "      <td>0.00</td>\n",
       "      <td>0.00</td>\n",
       "      <td>0.0</td>\n",
       "      <td>0.00</td>\n",
       "      <td>0.00</td>\n",
       "      <td>0.0</td>\n",
       "      <td>0.0</td>\n",
       "      <td>0.0</td>\n",
       "      <td>0.0</td>\n",
       "      <td>0.00</td>\n",
       "      <td>0.0</td>\n",
       "      <td>0.0</td>\n",
       "      <td>0.0</td>\n",
       "      <td>0.0</td>\n",
       "      <td>0.00</td>\n",
       "      <td>0.00</td>\n",
       "      <td>0.00</td>\n",
       "      <td>0.00</td>\n",
       "      <td>0.0</td>\n",
       "      <td>0.0</td>\n",
       "      <td>0.0</td>\n",
       "      <td>0.0</td>\n",
       "      <td>0.0</td>\n",
       "      <td>0.0</td>\n",
       "      <td>0.0</td>\n",
       "      <td>0.0</td>\n",
       "      <td>0.0</td>\n",
       "      <td>0.00</td>\n",
       "      <td>0.00</td>\n",
       "      <td>0.0</td>\n",
       "      <td>0.00</td>\n",
       "      <td>0.00</td>\n",
       "      <td>0.0</td>\n",
       "      <td>0.0</td>\n",
       "      <td>0.0</td>\n",
       "      <td>0.0</td>\n",
       "      <td>0.00</td>\n",
       "      <td>0.0</td>\n",
       "      <td>0.0</td>\n",
       "      <td>0.0</td>\n",
       "      <td>0.0</td>\n",
       "      <td>0.00</td>\n",
       "      <td>0.00</td>\n",
       "      <td>0.00</td>\n",
       "      <td>0.00</td>\n",
       "    </tr>\n",
       "    <tr>\n",
       "      <th>902</th>\n",
       "      <td>1.0</td>\n",
       "      <td>L</td>\n",
       "      <td>23</td>\n",
       "      <td>CAN</td>\n",
       "      <td>71.0</td>\n",
       "      <td>197</td>\n",
       "      <td>0.0</td>\n",
       "      <td>0.0</td>\n",
       "      <td>0.0</td>\n",
       "      <td>0.0</td>\n",
       "      <td>0.0</td>\n",
       "      <td>0.0</td>\n",
       "      <td>0.0</td>\n",
       "      <td>0.0</td>\n",
       "      <td>0.0</td>\n",
       "      <td>0.00</td>\n",
       "      <td>0.00</td>\n",
       "      <td>0.0</td>\n",
       "      <td>0.00</td>\n",
       "      <td>0.00</td>\n",
       "      <td>0.0</td>\n",
       "      <td>0.0</td>\n",
       "      <td>0.0</td>\n",
       "      <td>0.0</td>\n",
       "      <td>0.00</td>\n",
       "      <td>0.0</td>\n",
       "      <td>0.0</td>\n",
       "      <td>0.0</td>\n",
       "      <td>0.0</td>\n",
       "      <td>0.00</td>\n",
       "      <td>0.00</td>\n",
       "      <td>0.00</td>\n",
       "      <td>0.00</td>\n",
       "      <td>0.0</td>\n",
       "      <td>0.0</td>\n",
       "      <td>0.0</td>\n",
       "      <td>0.0</td>\n",
       "      <td>0.0</td>\n",
       "      <td>0.0</td>\n",
       "      <td>0.0</td>\n",
       "      <td>0.0</td>\n",
       "      <td>0.0</td>\n",
       "      <td>0.00</td>\n",
       "      <td>0.00</td>\n",
       "      <td>0.0</td>\n",
       "      <td>0.00</td>\n",
       "      <td>0.00</td>\n",
       "      <td>0.0</td>\n",
       "      <td>0.0</td>\n",
       "      <td>0.0</td>\n",
       "      <td>0.0</td>\n",
       "      <td>0.00</td>\n",
       "      <td>0.0</td>\n",
       "      <td>0.0</td>\n",
       "      <td>0.0</td>\n",
       "      <td>0.0</td>\n",
       "      <td>0.00</td>\n",
       "      <td>0.00</td>\n",
       "      <td>0.00</td>\n",
       "      <td>0.00</td>\n",
       "      <td>0.0</td>\n",
       "      <td>0.0</td>\n",
       "      <td>0.0</td>\n",
       "      <td>0.0</td>\n",
       "      <td>0.0</td>\n",
       "      <td>0.0</td>\n",
       "      <td>0.0</td>\n",
       "      <td>0.0</td>\n",
       "      <td>0.0</td>\n",
       "      <td>0.00</td>\n",
       "      <td>0.00</td>\n",
       "      <td>0.0</td>\n",
       "      <td>0.00</td>\n",
       "      <td>0.00</td>\n",
       "      <td>0.0</td>\n",
       "      <td>0.0</td>\n",
       "      <td>0.0</td>\n",
       "      <td>0.0</td>\n",
       "      <td>0.00</td>\n",
       "      <td>0.0</td>\n",
       "      <td>0.0</td>\n",
       "      <td>0.0</td>\n",
       "      <td>0.0</td>\n",
       "      <td>0.00</td>\n",
       "      <td>0.00</td>\n",
       "      <td>0.00</td>\n",
       "      <td>0.00</td>\n",
       "      <td>0.0</td>\n",
       "      <td>0.0</td>\n",
       "      <td>0.0</td>\n",
       "      <td>0.0</td>\n",
       "      <td>0.0</td>\n",
       "      <td>0.0</td>\n",
       "      <td>0.0</td>\n",
       "      <td>0.0</td>\n",
       "      <td>0.0</td>\n",
       "      <td>0.00</td>\n",
       "      <td>0.00</td>\n",
       "      <td>0.0</td>\n",
       "      <td>0.00</td>\n",
       "      <td>0.00</td>\n",
       "      <td>0.0</td>\n",
       "      <td>0.0</td>\n",
       "      <td>0.0</td>\n",
       "      <td>0.0</td>\n",
       "      <td>0.00</td>\n",
       "      <td>0.0</td>\n",
       "      <td>0.0</td>\n",
       "      <td>0.0</td>\n",
       "      <td>0.0</td>\n",
       "      <td>0.00</td>\n",
       "      <td>0.00</td>\n",
       "      <td>0.00</td>\n",
       "      <td>0.00</td>\n",
       "      <td>0.0</td>\n",
       "      <td>0.0</td>\n",
       "      <td>0.0</td>\n",
       "      <td>0.0</td>\n",
       "      <td>0.0</td>\n",
       "      <td>0.0</td>\n",
       "      <td>0.0</td>\n",
       "      <td>0.0</td>\n",
       "      <td>0.0</td>\n",
       "      <td>0.00</td>\n",
       "      <td>0.00</td>\n",
       "      <td>0.0</td>\n",
       "      <td>0.00</td>\n",
       "      <td>0.00</td>\n",
       "      <td>0.0</td>\n",
       "      <td>0.0</td>\n",
       "      <td>0.0</td>\n",
       "      <td>0.0</td>\n",
       "      <td>0.00</td>\n",
       "      <td>0.0</td>\n",
       "      <td>0.0</td>\n",
       "      <td>0.0</td>\n",
       "      <td>0.0</td>\n",
       "      <td>0.00</td>\n",
       "      <td>0.00</td>\n",
       "      <td>0.00</td>\n",
       "      <td>0.00</td>\n",
       "    </tr>\n",
       "    <tr>\n",
       "      <th>903</th>\n",
       "      <td>18.0</td>\n",
       "      <td>R</td>\n",
       "      <td>22</td>\n",
       "      <td>USA</td>\n",
       "      <td>70.0</td>\n",
       "      <td>165</td>\n",
       "      <td>0.0</td>\n",
       "      <td>0.0</td>\n",
       "      <td>0.0</td>\n",
       "      <td>0.0</td>\n",
       "      <td>0.0</td>\n",
       "      <td>0.0</td>\n",
       "      <td>0.0</td>\n",
       "      <td>0.0</td>\n",
       "      <td>0.0</td>\n",
       "      <td>0.00</td>\n",
       "      <td>0.00</td>\n",
       "      <td>0.0</td>\n",
       "      <td>0.00</td>\n",
       "      <td>0.00</td>\n",
       "      <td>0.0</td>\n",
       "      <td>0.0</td>\n",
       "      <td>0.0</td>\n",
       "      <td>0.0</td>\n",
       "      <td>0.00</td>\n",
       "      <td>0.0</td>\n",
       "      <td>0.0</td>\n",
       "      <td>0.0</td>\n",
       "      <td>0.0</td>\n",
       "      <td>0.00</td>\n",
       "      <td>0.00</td>\n",
       "      <td>0.00</td>\n",
       "      <td>0.00</td>\n",
       "      <td>0.0</td>\n",
       "      <td>0.0</td>\n",
       "      <td>0.0</td>\n",
       "      <td>0.0</td>\n",
       "      <td>0.0</td>\n",
       "      <td>0.0</td>\n",
       "      <td>0.0</td>\n",
       "      <td>0.0</td>\n",
       "      <td>0.0</td>\n",
       "      <td>0.00</td>\n",
       "      <td>0.00</td>\n",
       "      <td>0.0</td>\n",
       "      <td>0.00</td>\n",
       "      <td>0.00</td>\n",
       "      <td>0.0</td>\n",
       "      <td>0.0</td>\n",
       "      <td>0.0</td>\n",
       "      <td>0.0</td>\n",
       "      <td>0.00</td>\n",
       "      <td>0.0</td>\n",
       "      <td>0.0</td>\n",
       "      <td>0.0</td>\n",
       "      <td>0.0</td>\n",
       "      <td>0.00</td>\n",
       "      <td>0.00</td>\n",
       "      <td>0.00</td>\n",
       "      <td>0.00</td>\n",
       "      <td>0.0</td>\n",
       "      <td>0.0</td>\n",
       "      <td>0.0</td>\n",
       "      <td>0.0</td>\n",
       "      <td>0.0</td>\n",
       "      <td>0.0</td>\n",
       "      <td>0.0</td>\n",
       "      <td>0.0</td>\n",
       "      <td>0.0</td>\n",
       "      <td>0.00</td>\n",
       "      <td>0.00</td>\n",
       "      <td>0.0</td>\n",
       "      <td>0.00</td>\n",
       "      <td>0.00</td>\n",
       "      <td>0.0</td>\n",
       "      <td>0.0</td>\n",
       "      <td>0.0</td>\n",
       "      <td>0.0</td>\n",
       "      <td>0.00</td>\n",
       "      <td>0.0</td>\n",
       "      <td>0.0</td>\n",
       "      <td>0.0</td>\n",
       "      <td>0.0</td>\n",
       "      <td>0.00</td>\n",
       "      <td>0.00</td>\n",
       "      <td>0.00</td>\n",
       "      <td>0.00</td>\n",
       "      <td>0.0</td>\n",
       "      <td>0.0</td>\n",
       "      <td>0.0</td>\n",
       "      <td>0.0</td>\n",
       "      <td>0.0</td>\n",
       "      <td>0.0</td>\n",
       "      <td>0.0</td>\n",
       "      <td>0.0</td>\n",
       "      <td>0.0</td>\n",
       "      <td>0.00</td>\n",
       "      <td>0.00</td>\n",
       "      <td>0.0</td>\n",
       "      <td>0.00</td>\n",
       "      <td>0.00</td>\n",
       "      <td>0.0</td>\n",
       "      <td>0.0</td>\n",
       "      <td>0.0</td>\n",
       "      <td>0.0</td>\n",
       "      <td>0.00</td>\n",
       "      <td>0.0</td>\n",
       "      <td>0.0</td>\n",
       "      <td>0.0</td>\n",
       "      <td>0.0</td>\n",
       "      <td>0.00</td>\n",
       "      <td>0.00</td>\n",
       "      <td>0.00</td>\n",
       "      <td>0.00</td>\n",
       "      <td>0.0</td>\n",
       "      <td>0.0</td>\n",
       "      <td>0.0</td>\n",
       "      <td>0.0</td>\n",
       "      <td>0.0</td>\n",
       "      <td>0.0</td>\n",
       "      <td>0.0</td>\n",
       "      <td>0.0</td>\n",
       "      <td>0.0</td>\n",
       "      <td>0.00</td>\n",
       "      <td>0.00</td>\n",
       "      <td>0.0</td>\n",
       "      <td>0.00</td>\n",
       "      <td>0.00</td>\n",
       "      <td>0.0</td>\n",
       "      <td>0.0</td>\n",
       "      <td>0.0</td>\n",
       "      <td>0.0</td>\n",
       "      <td>0.00</td>\n",
       "      <td>0.0</td>\n",
       "      <td>0.0</td>\n",
       "      <td>0.0</td>\n",
       "      <td>0.0</td>\n",
       "      <td>0.00</td>\n",
       "      <td>0.00</td>\n",
       "      <td>0.00</td>\n",
       "      <td>0.00</td>\n",
       "    </tr>\n",
       "    <tr>\n",
       "      <th>904</th>\n",
       "      <td>4.0</td>\n",
       "      <td>D</td>\n",
       "      <td>24</td>\n",
       "      <td>RUS</td>\n",
       "      <td>74.0</td>\n",
       "      <td>201</td>\n",
       "      <td>0.0</td>\n",
       "      <td>0.0</td>\n",
       "      <td>0.0</td>\n",
       "      <td>0.0</td>\n",
       "      <td>0.0</td>\n",
       "      <td>0.0</td>\n",
       "      <td>0.0</td>\n",
       "      <td>0.0</td>\n",
       "      <td>0.0</td>\n",
       "      <td>0.00</td>\n",
       "      <td>0.00</td>\n",
       "      <td>0.0</td>\n",
       "      <td>0.00</td>\n",
       "      <td>0.00</td>\n",
       "      <td>0.0</td>\n",
       "      <td>0.0</td>\n",
       "      <td>0.0</td>\n",
       "      <td>0.0</td>\n",
       "      <td>0.00</td>\n",
       "      <td>0.0</td>\n",
       "      <td>0.0</td>\n",
       "      <td>0.0</td>\n",
       "      <td>0.0</td>\n",
       "      <td>0.00</td>\n",
       "      <td>0.00</td>\n",
       "      <td>0.00</td>\n",
       "      <td>0.00</td>\n",
       "      <td>0.0</td>\n",
       "      <td>0.0</td>\n",
       "      <td>0.0</td>\n",
       "      <td>0.0</td>\n",
       "      <td>0.0</td>\n",
       "      <td>0.0</td>\n",
       "      <td>0.0</td>\n",
       "      <td>0.0</td>\n",
       "      <td>0.0</td>\n",
       "      <td>0.00</td>\n",
       "      <td>0.00</td>\n",
       "      <td>0.0</td>\n",
       "      <td>0.00</td>\n",
       "      <td>0.00</td>\n",
       "      <td>0.0</td>\n",
       "      <td>0.0</td>\n",
       "      <td>0.0</td>\n",
       "      <td>0.0</td>\n",
       "      <td>0.00</td>\n",
       "      <td>0.0</td>\n",
       "      <td>0.0</td>\n",
       "      <td>0.0</td>\n",
       "      <td>0.0</td>\n",
       "      <td>0.00</td>\n",
       "      <td>0.00</td>\n",
       "      <td>0.00</td>\n",
       "      <td>0.00</td>\n",
       "      <td>0.0</td>\n",
       "      <td>0.0</td>\n",
       "      <td>0.0</td>\n",
       "      <td>0.0</td>\n",
       "      <td>0.0</td>\n",
       "      <td>0.0</td>\n",
       "      <td>0.0</td>\n",
       "      <td>0.0</td>\n",
       "      <td>0.0</td>\n",
       "      <td>0.00</td>\n",
       "      <td>0.00</td>\n",
       "      <td>0.0</td>\n",
       "      <td>0.00</td>\n",
       "      <td>0.00</td>\n",
       "      <td>0.0</td>\n",
       "      <td>0.0</td>\n",
       "      <td>0.0</td>\n",
       "      <td>0.0</td>\n",
       "      <td>0.00</td>\n",
       "      <td>0.0</td>\n",
       "      <td>0.0</td>\n",
       "      <td>0.0</td>\n",
       "      <td>0.0</td>\n",
       "      <td>0.00</td>\n",
       "      <td>0.00</td>\n",
       "      <td>0.00</td>\n",
       "      <td>0.00</td>\n",
       "      <td>0.0</td>\n",
       "      <td>0.0</td>\n",
       "      <td>0.0</td>\n",
       "      <td>0.0</td>\n",
       "      <td>0.0</td>\n",
       "      <td>0.0</td>\n",
       "      <td>0.0</td>\n",
       "      <td>0.0</td>\n",
       "      <td>0.0</td>\n",
       "      <td>0.00</td>\n",
       "      <td>0.00</td>\n",
       "      <td>0.0</td>\n",
       "      <td>0.00</td>\n",
       "      <td>0.00</td>\n",
       "      <td>0.0</td>\n",
       "      <td>0.0</td>\n",
       "      <td>0.0</td>\n",
       "      <td>0.0</td>\n",
       "      <td>0.00</td>\n",
       "      <td>0.0</td>\n",
       "      <td>0.0</td>\n",
       "      <td>0.0</td>\n",
       "      <td>0.0</td>\n",
       "      <td>0.00</td>\n",
       "      <td>0.00</td>\n",
       "      <td>0.00</td>\n",
       "      <td>0.00</td>\n",
       "      <td>0.0</td>\n",
       "      <td>0.0</td>\n",
       "      <td>0.0</td>\n",
       "      <td>0.0</td>\n",
       "      <td>0.0</td>\n",
       "      <td>0.0</td>\n",
       "      <td>0.0</td>\n",
       "      <td>0.0</td>\n",
       "      <td>0.0</td>\n",
       "      <td>0.00</td>\n",
       "      <td>0.00</td>\n",
       "      <td>0.0</td>\n",
       "      <td>0.00</td>\n",
       "      <td>0.00</td>\n",
       "      <td>0.0</td>\n",
       "      <td>0.0</td>\n",
       "      <td>0.0</td>\n",
       "      <td>0.0</td>\n",
       "      <td>0.00</td>\n",
       "      <td>0.0</td>\n",
       "      <td>0.0</td>\n",
       "      <td>0.0</td>\n",
       "      <td>0.0</td>\n",
       "      <td>0.00</td>\n",
       "      <td>0.00</td>\n",
       "      <td>0.00</td>\n",
       "      <td>0.00</td>\n",
       "    </tr>\n",
       "    <tr>\n",
       "      <th>905</th>\n",
       "      <td>1.0</td>\n",
       "      <td>D</td>\n",
       "      <td>23</td>\n",
       "      <td>USA</td>\n",
       "      <td>72.0</td>\n",
       "      <td>203</td>\n",
       "      <td>0.0</td>\n",
       "      <td>0.0</td>\n",
       "      <td>0.0</td>\n",
       "      <td>0.0</td>\n",
       "      <td>0.0</td>\n",
       "      <td>0.0</td>\n",
       "      <td>0.0</td>\n",
       "      <td>0.0</td>\n",
       "      <td>0.0</td>\n",
       "      <td>0.00</td>\n",
       "      <td>0.00</td>\n",
       "      <td>0.0</td>\n",
       "      <td>0.00</td>\n",
       "      <td>0.00</td>\n",
       "      <td>0.0</td>\n",
       "      <td>0.0</td>\n",
       "      <td>0.0</td>\n",
       "      <td>0.0</td>\n",
       "      <td>0.00</td>\n",
       "      <td>0.0</td>\n",
       "      <td>0.0</td>\n",
       "      <td>0.0</td>\n",
       "      <td>0.0</td>\n",
       "      <td>0.00</td>\n",
       "      <td>0.00</td>\n",
       "      <td>0.00</td>\n",
       "      <td>0.00</td>\n",
       "      <td>0.0</td>\n",
       "      <td>0.0</td>\n",
       "      <td>0.0</td>\n",
       "      <td>0.0</td>\n",
       "      <td>0.0</td>\n",
       "      <td>0.0</td>\n",
       "      <td>0.0</td>\n",
       "      <td>0.0</td>\n",
       "      <td>0.0</td>\n",
       "      <td>0.00</td>\n",
       "      <td>0.00</td>\n",
       "      <td>0.0</td>\n",
       "      <td>0.00</td>\n",
       "      <td>0.00</td>\n",
       "      <td>0.0</td>\n",
       "      <td>0.0</td>\n",
       "      <td>0.0</td>\n",
       "      <td>0.0</td>\n",
       "      <td>0.00</td>\n",
       "      <td>0.0</td>\n",
       "      <td>0.0</td>\n",
       "      <td>0.0</td>\n",
       "      <td>0.0</td>\n",
       "      <td>0.00</td>\n",
       "      <td>0.00</td>\n",
       "      <td>0.00</td>\n",
       "      <td>0.00</td>\n",
       "      <td>0.0</td>\n",
       "      <td>0.0</td>\n",
       "      <td>0.0</td>\n",
       "      <td>0.0</td>\n",
       "      <td>0.0</td>\n",
       "      <td>0.0</td>\n",
       "      <td>0.0</td>\n",
       "      <td>0.0</td>\n",
       "      <td>0.0</td>\n",
       "      <td>0.00</td>\n",
       "      <td>0.00</td>\n",
       "      <td>0.0</td>\n",
       "      <td>0.00</td>\n",
       "      <td>0.00</td>\n",
       "      <td>0.0</td>\n",
       "      <td>0.0</td>\n",
       "      <td>0.0</td>\n",
       "      <td>0.0</td>\n",
       "      <td>0.00</td>\n",
       "      <td>0.0</td>\n",
       "      <td>0.0</td>\n",
       "      <td>0.0</td>\n",
       "      <td>0.0</td>\n",
       "      <td>0.00</td>\n",
       "      <td>0.00</td>\n",
       "      <td>0.00</td>\n",
       "      <td>0.00</td>\n",
       "      <td>0.0</td>\n",
       "      <td>0.0</td>\n",
       "      <td>0.0</td>\n",
       "      <td>0.0</td>\n",
       "      <td>0.0</td>\n",
       "      <td>0.0</td>\n",
       "      <td>0.0</td>\n",
       "      <td>0.0</td>\n",
       "      <td>0.0</td>\n",
       "      <td>0.00</td>\n",
       "      <td>0.00</td>\n",
       "      <td>0.0</td>\n",
       "      <td>0.00</td>\n",
       "      <td>0.00</td>\n",
       "      <td>0.0</td>\n",
       "      <td>0.0</td>\n",
       "      <td>0.0</td>\n",
       "      <td>0.0</td>\n",
       "      <td>0.00</td>\n",
       "      <td>0.0</td>\n",
       "      <td>0.0</td>\n",
       "      <td>0.0</td>\n",
       "      <td>0.0</td>\n",
       "      <td>0.00</td>\n",
       "      <td>0.00</td>\n",
       "      <td>0.00</td>\n",
       "      <td>0.00</td>\n",
       "      <td>0.0</td>\n",
       "      <td>0.0</td>\n",
       "      <td>0.0</td>\n",
       "      <td>0.0</td>\n",
       "      <td>0.0</td>\n",
       "      <td>0.0</td>\n",
       "      <td>0.0</td>\n",
       "      <td>0.0</td>\n",
       "      <td>0.0</td>\n",
       "      <td>0.00</td>\n",
       "      <td>0.00</td>\n",
       "      <td>0.0</td>\n",
       "      <td>0.00</td>\n",
       "      <td>0.00</td>\n",
       "      <td>0.0</td>\n",
       "      <td>0.0</td>\n",
       "      <td>0.0</td>\n",
       "      <td>0.0</td>\n",
       "      <td>0.00</td>\n",
       "      <td>0.0</td>\n",
       "      <td>0.0</td>\n",
       "      <td>0.0</td>\n",
       "      <td>0.0</td>\n",
       "      <td>0.00</td>\n",
       "      <td>0.00</td>\n",
       "      <td>0.00</td>\n",
       "      <td>0.00</td>\n",
       "    </tr>\n",
       "  </tbody>\n",
       "</table>\n",
       "<p>7992 rows × 141 columns</p>\n",
       "</div>"
      ],
      "text/plain": [
       "     Target Position  Age Country  Height  Weight  AssistsLastYear  \\\n",
       "0      34.0        C   34     CZE    73.0     190             29.0   \n",
       "1      34.0        C   31     USA    71.0     200             47.0   \n",
       "2      35.0        R   31     USA    67.0     178             18.0   \n",
       "3      20.0        D   29     USA    73.0     200              9.0   \n",
       "4      62.0        L   26     USA    71.0     195             44.0   \n",
       "..      ...      ...  ...     ...     ...     ...              ...   \n",
       "901     1.0        L   19     FIN    75.0     207              0.0   \n",
       "902     1.0        L   23     CAN    71.0     197              0.0   \n",
       "903    18.0        R   22     USA    70.0     165              0.0   \n",
       "904     4.0        D   24     RUS    74.0     201              0.0   \n",
       "905     1.0        D   23     USA    72.0     203              0.0   \n",
       "\n",
       "     GoalsLastYear  PointsLastYear  PIMSLastYear  ShotsLastYear  \\\n",
       "0             19.0            48.0          40.0          145.0   \n",
       "1             12.0            59.0          60.0          180.0   \n",
       "2             28.0            46.0          26.0          237.0   \n",
       "3              2.0            11.0           2.0           21.0   \n",
       "4             38.0            82.0          32.0          347.0   \n",
       "..             ...             ...           ...            ...   \n",
       "901            0.0             0.0           0.0            0.0   \n",
       "902            0.0             0.0           0.0            0.0   \n",
       "903            0.0             0.0           0.0            0.0   \n",
       "904            0.0             0.0           0.0            0.0   \n",
       "905            0.0             0.0           0.0            0.0   \n",
       "\n",
       "     GamesLastYear  HitsLastYear  PPGLastYear  PPPLastYear  PPTOILastYear  \\\n",
       "0             58.0          30.0          3.0         11.0         156.22   \n",
       "1             78.0          30.0          5.0         19.0         206.05   \n",
       "2             61.0          36.0         10.0         16.0         181.23   \n",
       "3             22.0          23.0          1.0          2.0          67.11   \n",
       "4             81.0         108.0          9.0         26.0         251.53   \n",
       "..             ...           ...          ...          ...            ...   \n",
       "901            0.0           0.0          0.0          0.0           0.00   \n",
       "902            0.0           0.0          0.0          0.0           0.00   \n",
       "903            0.0           0.0          0.0          0.0           0.00   \n",
       "904            0.0           0.0          0.0          0.0           0.00   \n",
       "905            0.0           0.0          0.0          0.0           0.00   \n",
       "\n",
       "     ESTOILastYear  PIM2LastYear  FOPctLastYear  ShtPctLastYear  GWGLastYear  \\\n",
       "0           814.54          40.0          44.85           13.10          4.0   \n",
       "1          1190.14          60.0          50.76            6.67          1.0   \n",
       "2           967.05          26.0          53.84           11.81          3.0   \n",
       "3           394.00           2.0           0.00            9.52          0.0   \n",
       "4          1304.58          32.0          37.50           10.95          5.0   \n",
       "..             ...           ...            ...             ...          ...   \n",
       "901           0.00           0.0           0.00            0.00          0.0   \n",
       "902           0.00           0.0           0.00            0.00          0.0   \n",
       "903           0.00           0.0           0.00            0.00          0.0   \n",
       "904           0.00           0.0           0.00            0.00          0.0   \n",
       "905           0.00           0.0           0.00            0.00          0.0   \n",
       "\n",
       "     OTGLastYear  SHGLastYear  SHPLastYear  SHTOILastYear  BlocksLastYear  \\\n",
       "0            0.0          1.0          1.0          50.44            16.0   \n",
       "1            0.0          0.0          0.0         158.38            34.0   \n",
       "2            1.0          0.0          0.0         117.18            33.0   \n",
       "3            0.0          0.0          0.0          33.49            22.0   \n",
       "4            1.0          1.0          1.0          44.54            34.0   \n",
       "..           ...          ...          ...            ...             ...   \n",
       "901          0.0          0.0          0.0           0.00             0.0   \n",
       "902          0.0          0.0          0.0           0.00             0.0   \n",
       "903          0.0          0.0          0.0           0.00             0.0   \n",
       "904          0.0          0.0          0.0           0.00             0.0   \n",
       "905          0.0          0.0          0.0           0.00             0.0   \n",
       "\n",
       "     PlusMinusLastYear  Pts2LastYear  ShiftsLastYear  TOIperGameLastYear  \\\n",
       "0                 18.0          48.0          1392.0               17.37   \n",
       "1                  1.0          59.0          2002.0               19.56   \n",
       "2                  3.0          46.0          1603.0               20.45   \n",
       "3                 10.0          11.0           628.0               22.30   \n",
       "4                 24.0          82.0          2029.0               19.46   \n",
       "..                 ...           ...             ...                 ...   \n",
       "901                0.0           0.0             0.0                0.00   \n",
       "902                0.0           0.0             0.0                0.00   \n",
       "903                0.0           0.0             0.0                0.00   \n",
       "904                0.0           0.0             0.0                0.00   \n",
       "905                0.0           0.0             0.0                0.00   \n",
       "\n",
       "     EVTOIperGameLastYear  SHTOIperGameLastYear  PPTOIperGameLastYear  \\\n",
       "0                   14.03                  0.52                  2.41   \n",
       "1                   15.15                  2.02                  2.38   \n",
       "2                   15.51                  1.55                  2.58   \n",
       "3                   17.54                  1.32                  3.03   \n",
       "4                   16.06                  0.33                  3.06   \n",
       "..                    ...                   ...                   ...   \n",
       "901                  0.00                  0.00                  0.00   \n",
       "902                  0.00                  0.00                  0.00   \n",
       "903                  0.00                  0.00                  0.00   \n",
       "904                  0.00                  0.00                  0.00   \n",
       "905                  0.00                  0.00                  0.00   \n",
       "\n",
       "     Assists2Years  Goals2Years  Points2Years  PIMS2Years  Shots2Years  \\\n",
       "0             47.0         31.0          78.0        32.0        247.0   \n",
       "1             42.0         16.0          58.0        60.0        271.0   \n",
       "2             40.0         20.0          60.0        32.0        248.0   \n",
       "3             28.0          5.0          33.0        36.0        107.0   \n",
       "4             49.0         45.0          94.0        24.0        364.0   \n",
       "..             ...          ...           ...         ...          ...   \n",
       "901            0.0          0.0           0.0         0.0          0.0   \n",
       "902            0.0          0.0           0.0         0.0          0.0   \n",
       "903            0.0          0.0           0.0         0.0          0.0   \n",
       "904            0.0          0.0           0.0         0.0          0.0   \n",
       "905            0.0          0.0           0.0         0.0          0.0   \n",
       "\n",
       "     Games2Years  Hits2Years  PPG2Years  PPP2Years  PPTOI2Years  ESTOI2Years  \\\n",
       "0           77.0        51.0       12.0       31.0       274.48      1011.27   \n",
       "1           77.0        61.0        3.0       17.0       302.32      1224.37   \n",
       "2           81.0        44.0        3.0       11.0       196.24      1097.05   \n",
       "3           73.0        40.0        2.0       18.0       244.07      1279.36   \n",
       "4           82.0        65.0       14.0       30.0       302.20      1206.36   \n",
       "..           ...         ...        ...        ...          ...          ...   \n",
       "901          0.0         0.0        0.0        0.0         0.00         0.00   \n",
       "902          0.0         0.0        0.0        0.0         0.00         0.00   \n",
       "903          0.0         0.0        0.0        0.0         0.00         0.00   \n",
       "904          0.0         0.0        0.0        0.0         0.00         0.00   \n",
       "905          0.0         0.0        0.0        0.0         0.00         0.00   \n",
       "\n",
       "     PIM22Years  FOPct2Years  ShtPct2Years  GWG2Years  OTG2Years  SHG2Years  \\\n",
       "0          32.0        29.88         12.55        6.0        1.0        2.0   \n",
       "1          60.0        52.36          5.90        7.0        1.0        1.0   \n",
       "2          32.0        38.63          8.06        1.0        0.0        3.0   \n",
       "3          36.0         0.00          4.67        1.0        0.0        0.0   \n",
       "4          24.0        44.62         12.36        8.0        3.0        0.0   \n",
       "..          ...          ...           ...        ...        ...        ...   \n",
       "901         0.0         0.00          0.00        0.0        0.0        0.0   \n",
       "902         0.0         0.00          0.00        0.0        0.0        0.0   \n",
       "903         0.0         0.00          0.00        0.0        0.0        0.0   \n",
       "904         0.0         0.00          0.00        0.0        0.0        0.0   \n",
       "905         0.0         0.00          0.00        0.0        0.0        0.0   \n",
       "\n",
       "     SHP2Years  SHTOI2Years  Blocks2Years  PlusMinus2Years  Pts22Years  \\\n",
       "0          5.0       143.56          17.0             18.0        78.0   \n",
       "1          1.0        94.39          23.0             -2.0        58.0   \n",
       "2          4.0        80.53          28.0             12.0        60.0   \n",
       "3          1.0       255.04          79.0             21.0        33.0   \n",
       "4          3.0        29.10          17.0             30.0        94.0   \n",
       "..         ...          ...           ...              ...         ...   \n",
       "901        0.0         0.00           0.0              0.0         0.0   \n",
       "902        0.0         0.00           0.0              0.0         0.0   \n",
       "903        0.0         0.00           0.0              0.0         0.0   \n",
       "904        0.0         0.00           0.0              0.0         0.0   \n",
       "905        0.0         0.00           0.0              0.0         0.0   \n",
       "\n",
       "     Shifts2Years  TOIperGame2Years  EVTOIperGame2Years  SHTOIperGame2Years  \\\n",
       "0          1738.0             18.34               13.08                1.52   \n",
       "1          1977.0             21.03               15.54                1.13   \n",
       "2          1714.0             16.58               13.32                0.59   \n",
       "3          2003.0             24.22               17.31                3.29   \n",
       "4          1767.0             18.45               14.42                0.21   \n",
       "..            ...               ...                 ...                 ...   \n",
       "901           0.0              0.00                0.00                0.00   \n",
       "902           0.0              0.00                0.00                0.00   \n",
       "903           0.0              0.00                0.00                0.00   \n",
       "904           0.0              0.00                0.00                0.00   \n",
       "905           0.0              0.00                0.00                0.00   \n",
       "\n",
       "     PPTOIperGame2Years  Assists3Years  Goals3Years  Points3Years  PIMS3Years  \\\n",
       "0                  3.34           35.0         20.0          55.0        38.0   \n",
       "1                  3.55           54.0         16.0          70.0        36.0   \n",
       "2                  2.25           31.0         22.0          53.0        46.0   \n",
       "3                  3.20           27.0          5.0          32.0        22.0   \n",
       "4                  3.41           33.0         32.0          65.0        25.0   \n",
       "..                  ...            ...          ...           ...         ...   \n",
       "901                0.00            0.0          0.0           0.0         0.0   \n",
       "902                0.00            0.0          0.0           0.0         0.0   \n",
       "903                0.00            0.0          0.0           0.0         0.0   \n",
       "904                0.00            0.0          0.0           0.0         0.0   \n",
       "905                0.00            0.0          0.0           0.0         0.0   \n",
       "\n",
       "     Shots3Years  Games3Years  Hits3Years  PPG3Years  PPP3Years  PPTOI3Years  \\\n",
       "0          263.0         74.0        51.0        7.0       19.0       265.47   \n",
       "1          242.0         81.0        48.0        7.0       29.0       347.12   \n",
       "2          257.0         82.0        52.0        8.0       21.0       285.23   \n",
       "3           93.0         73.0        52.0        2.0       14.0       277.50   \n",
       "4          266.0         81.0        76.0       10.0       23.0       296.37   \n",
       "..           ...          ...         ...        ...        ...          ...   \n",
       "901          0.0          0.0         0.0        0.0        0.0         0.00   \n",
       "902          0.0          0.0         0.0        0.0        0.0         0.00   \n",
       "903          0.0          0.0         0.0        0.0        0.0         0.00   \n",
       "904          0.0          0.0         0.0        0.0        0.0         0.00   \n",
       "905          0.0          0.0         0.0        0.0        0.0         0.00   \n",
       "\n",
       "     ESTOI3Years  PIM23Years  FOPct3Years  ShtPct3Years  GWG3Years  OTG3Years  \\\n",
       "0         981.13        38.0        45.61          7.60        8.0        3.0   \n",
       "1        1198.28        36.0        52.53          6.61        3.0        0.0   \n",
       "2        1150.39        46.0        54.54          8.56        4.0        1.0   \n",
       "3        1223.56        22.0         0.00          5.38        2.0        0.0   \n",
       "4        1153.59        25.0        48.07         12.03        8.0        2.0   \n",
       "..           ...         ...          ...           ...        ...        ...   \n",
       "901         0.00         0.0         0.00          0.00        0.0        0.0   \n",
       "902         0.00         0.0         0.00          0.00        0.0        0.0   \n",
       "903         0.00         0.0         0.00          0.00        0.0        0.0   \n",
       "904         0.00         0.0         0.00          0.00        0.0        0.0   \n",
       "905         0.00         0.0         0.00          0.00        0.0        0.0   \n",
       "\n",
       "     SHG3Years  SHP3Years  SHTOI3Years  Blocks3Years  PlusMinus3Years  \\\n",
       "0          0.0        2.0       119.33          20.0             10.0   \n",
       "1          0.0        1.0        65.42          24.0              3.0   \n",
       "2          1.0        1.0        61.59          14.0              1.0   \n",
       "3          0.0        1.0       241.43          76.0             20.0   \n",
       "4          1.0        1.0        12.09          30.0             13.0   \n",
       "..         ...        ...          ...           ...              ...   \n",
       "901        0.0        0.0         0.00           0.0              0.0   \n",
       "902        0.0        0.0         0.00           0.0              0.0   \n",
       "903        0.0        0.0         0.00           0.0              0.0   \n",
       "904        0.0        0.0         0.00           0.0              0.0   \n",
       "905        0.0        0.0         0.00           0.0              0.0   \n",
       "\n",
       "     Pts23Years  Shifts3Years  TOIperGame3Years  EVTOIperGame3Years  \\\n",
       "0          55.0        1777.0             18.28               13.15   \n",
       "1          70.0        1844.0             19.53               14.47   \n",
       "2          53.0        1870.0             18.16               14.01   \n",
       "3          32.0        1884.0             23.53               16.45   \n",
       "4          65.0        1775.0             18.03               14.14   \n",
       "..          ...           ...               ...                 ...   \n",
       "901         0.0           0.0              0.00                0.00   \n",
       "902         0.0           0.0              0.00                0.00   \n",
       "903         0.0           0.0              0.00                0.00   \n",
       "904         0.0           0.0              0.00                0.00   \n",
       "905         0.0           0.0              0.00                0.00   \n",
       "\n",
       "     SHTOIperGame3Years  PPTOIperGame3Years  Assists4Years  Goals4Years  \\\n",
       "0                  1.36                3.35           48.0         21.0   \n",
       "1                  0.48                4.17           47.0         13.0   \n",
       "2                  0.45                3.28           20.0         25.0   \n",
       "3                  3.18                3.48           23.0          3.0   \n",
       "4                  0.09                3.39           31.0         31.0   \n",
       "..                  ...                 ...            ...          ...   \n",
       "901                0.00                0.00            0.0          0.0   \n",
       "902                0.00                0.00            0.0          0.0   \n",
       "903                0.00                0.00            0.0          0.0   \n",
       "904                0.00                0.00            0.0          0.0   \n",
       "905                0.00                0.00            0.0          0.0   \n",
       "\n",
       "     Points4Years  PIMS4Years  Shots4Years  Games4Years  Hits4Years  \\\n",
       "0            69.0        38.0        267.0         75.0        45.0   \n",
       "1            60.0        42.0        248.0         72.0        21.0   \n",
       "2            45.0        36.0        194.0         62.0        30.0   \n",
       "3            26.0        18.0         84.0         82.0        54.0   \n",
       "4            62.0        30.0        247.0         82.0        37.0   \n",
       "..            ...         ...          ...          ...         ...   \n",
       "901           0.0         0.0          0.0          0.0         0.0   \n",
       "902           0.0         0.0          0.0          0.0         0.0   \n",
       "903           0.0         0.0          0.0          0.0         0.0   \n",
       "904           0.0         0.0          0.0          0.0         0.0   \n",
       "905           0.0         0.0          0.0          0.0         0.0   \n",
       "\n",
       "     PPG4Years  PPP4Years  PPTOI4Years  ESTOI4Years  PIM24Years  FOPct4Years  \\\n",
       "0          8.0       31.0       326.47      1051.03        38.0        38.88   \n",
       "1          4.0       23.0       321.45      1038.30        42.0        52.15   \n",
       "2         11.0       18.0       275.29       859.04        36.0        38.71   \n",
       "3          1.0        6.0       254.28      1590.35        18.0         0.00   \n",
       "4          9.0       22.0       249.37      1171.47        30.0        44.23   \n",
       "..         ...        ...          ...          ...         ...          ...   \n",
       "901        0.0        0.0         0.00         0.00         0.0         0.00   \n",
       "902        0.0        0.0         0.00         0.00         0.0         0.00   \n",
       "903        0.0        0.0         0.00         0.00         0.0         0.00   \n",
       "904        0.0        0.0         0.00         0.00         0.0         0.00   \n",
       "905        0.0        0.0         0.00         0.00         0.0         0.00   \n",
       "\n",
       "     ShtPct4Years  GWG4Years  OTG4Years  SHG4Years  SHP4Years  SHTOI4Years  \\\n",
       "0            7.87        5.0        1.0        0.0        0.0        18.29   \n",
       "1            5.24        1.0        1.0        0.0        0.0         2.39   \n",
       "2           12.89        4.0        0.0        0.0        0.0        32.33   \n",
       "3            3.57        0.0        0.0        0.0        0.0       223.09   \n",
       "4           12.55        7.0        0.0        0.0        0.0        16.32   \n",
       "..            ...        ...        ...        ...        ...          ...   \n",
       "901          0.00        0.0        0.0        0.0        0.0         0.00   \n",
       "902          0.00        0.0        0.0        0.0        0.0         0.00   \n",
       "903          0.00        0.0        0.0        0.0        0.0         0.00   \n",
       "904          0.00        0.0        0.0        0.0        0.0         0.00   \n",
       "905          0.00        0.0        0.0        0.0        0.0         0.00   \n",
       "\n",
       "     Blocks4Years  PlusMinus4Years  Pts24Years  Shifts4Years  \\\n",
       "0            17.0              1.0        69.0        1716.0   \n",
       "1            17.0              7.0        60.0        1601.0   \n",
       "2            10.0             -3.0        45.0        1397.0   \n",
       "3           125.0             -9.0        26.0        2427.0   \n",
       "4            36.0             -3.0        62.0        1762.0   \n",
       "..            ...              ...         ...           ...   \n",
       "901           0.0              0.0         0.0           0.0   \n",
       "902           0.0              0.0         0.0           0.0   \n",
       "903           0.0              0.0         0.0           0.0   \n",
       "904           0.0              0.0         0.0           0.0   \n",
       "905           0.0              0.0         0.0           0.0   \n",
       "\n",
       "     TOIperGame4Years  EVTOIperGame4Years  SHTOIperGame4Years  \\\n",
       "0               18.37               14.00                0.14   \n",
       "1               18.55               14.25                0.02   \n",
       "2               18.49               13.51                0.31   \n",
       "3               25.13               19.23                2.43   \n",
       "4               17.32               14.17                0.12   \n",
       "..                ...                 ...                 ...   \n",
       "901              0.00                0.00                0.00   \n",
       "902              0.00                0.00                0.00   \n",
       "903              0.00                0.00                0.00   \n",
       "904              0.00                0.00                0.00   \n",
       "905              0.00                0.00                0.00   \n",
       "\n",
       "     PPTOIperGame4Years  Assists5Years  Goals5Years  Points5Years  PIMS5Years  \\\n",
       "0                  4.21           29.0         16.0          45.0        20.0   \n",
       "1                  4.28           51.0         33.0          84.0        42.0   \n",
       "2                  4.26           41.0         48.0          89.0        46.0   \n",
       "3                  3.06           32.0          5.0          37.0        32.0   \n",
       "4                  3.02           18.0         14.0          32.0        28.0   \n",
       "..                  ...            ...          ...           ...         ...   \n",
       "901                0.00            0.0          0.0           0.0         0.0   \n",
       "902                0.00            0.0          0.0           0.0         0.0   \n",
       "903                0.00            0.0          0.0           0.0         0.0   \n",
       "904                0.00            0.0          0.0           0.0         0.0   \n",
       "905                0.00            0.0          0.0           0.0         0.0   \n",
       "\n",
       "     Shots5Years  Games5Years  Hits5Years  PPG5Years  PPP5Years  PPTOI5Years  \\\n",
       "0          142.0         38.0        22.0        6.0       21.0       175.53   \n",
       "1          244.0         82.0        20.0        9.0       33.0       416.00   \n",
       "2          291.0         82.0        47.0       24.0       34.0       410.35   \n",
       "3           97.0         80.0        34.0        3.0       20.0       325.45   \n",
       "4          133.0         81.0        11.0        2.0       11.0       196.50   \n",
       "..           ...          ...         ...        ...        ...          ...   \n",
       "901          0.0          0.0         0.0        0.0        0.0         0.00   \n",
       "902          0.0          0.0         0.0        0.0        0.0         0.00   \n",
       "903          0.0          0.0         0.0        0.0        0.0         0.00   \n",
       "904          0.0          0.0         0.0        0.0        0.0         0.00   \n",
       "905          0.0          0.0         0.0        0.0        0.0         0.00   \n",
       "\n",
       "     ESTOI5Years  PIM25Years  FOPct5Years  ShtPct5Years  GWG5Years  OTG5Years  \\\n",
       "0         516.03        20.0        20.00         11.27        3.0        0.0   \n",
       "1        1110.23        42.0        52.58         13.52        5.0        0.0   \n",
       "2        1091.53        46.0        38.35         16.49       10.0        3.0   \n",
       "3        1316.37        32.0         0.00          5.15        0.0        0.0   \n",
       "4         864.30        28.0        42.59         10.53        5.0        0.0   \n",
       "..           ...         ...          ...           ...        ...        ...   \n",
       "901         0.00         0.0         0.00          0.00        0.0        0.0   \n",
       "902         0.00         0.0         0.00          0.00        0.0        0.0   \n",
       "903         0.00         0.0         0.00          0.00        0.0        0.0   \n",
       "904         0.00         0.0         0.00          0.00        0.0        0.0   \n",
       "905         0.00         0.0         0.00          0.00        0.0        0.0   \n",
       "\n",
       "     SHG5Years  SHP5Years  SHTOI5Years  Blocks5Years  PlusMinus5Years  \\\n",
       "0          0.0        0.0        13.38           4.0             11.0   \n",
       "1          0.0        0.0        13.50          16.0              8.0   \n",
       "2          1.0        1.0       122.49          17.0             18.0   \n",
       "3          0.0        0.0       247.03          95.0              1.0   \n",
       "4          0.0        0.0         2.38          22.0             -1.0   \n",
       "..         ...        ...          ...           ...              ...   \n",
       "901        0.0        0.0         0.00           0.0              0.0   \n",
       "902        0.0        0.0         0.00           0.0              0.0   \n",
       "903        0.0        0.0         0.00           0.0              0.0   \n",
       "904        0.0        0.0         0.00           0.0              0.0   \n",
       "905        0.0        0.0         0.00           0.0              0.0   \n",
       "\n",
       "     Pts25Years  Shifts5Years  TOIperGame5Years  EVTOIperGame5Years  \\\n",
       "0          45.0         854.0             18.34               13.34   \n",
       "1          84.0        1867.0             18.46               13.32   \n",
       "2          89.0        2012.0             19.49               13.18   \n",
       "3          37.0        2315.0             23.37               16.27   \n",
       "4          32.0        1426.0             13.08               10.40   \n",
       "..          ...           ...               ...                 ...   \n",
       "901         0.0           0.0              0.00                0.00   \n",
       "902         0.0           0.0              0.00                0.00   \n",
       "903         0.0           0.0              0.00                0.00   \n",
       "904         0.0           0.0              0.00                0.00   \n",
       "905         0.0           0.0              0.00                0.00   \n",
       "\n",
       "     SHTOIperGame5Years  PPTOIperGame5Years  \n",
       "0                  0.21                4.37  \n",
       "1                  0.10                5.04  \n",
       "2                  1.29                5.00  \n",
       "3                  3.05                4.04  \n",
       "4                  0.01                2.25  \n",
       "..                  ...                 ...  \n",
       "901                0.00                0.00  \n",
       "902                0.00                0.00  \n",
       "903                0.00                0.00  \n",
       "904                0.00                0.00  \n",
       "905                0.00                0.00  \n",
       "\n",
       "[7992 rows x 141 columns]"
      ]
     },
     "execution_count": 18,
     "metadata": {},
     "output_type": "execute_result"
    }
   ],
   "source": [
    "CDF2 = CDF\n",
    "\n",
    "def parse_ht(ht):\n",
    "    # format: 7' 0.0\"\n",
    "    ht_ = ht.split(\"' \")\n",
    "    ft_ = float(ht_[0])\n",
    "    in_ = float(ht_[1].replace(\"\\\"\",\"\"))\n",
    "    return (12*ft_) + in_\n",
    "\n",
    "CDF2['Height'] = (CDF2[\"Height\"].apply(lambda x:parse_ht(x)))\n",
    "\n",
    "CDF2"
   ]
  },
  {
   "cell_type": "code",
   "execution_count": 21,
   "metadata": {},
   "outputs": [
    {
     "data": {
      "text/plain": [
       "['Target',\n",
       " 'Position',\n",
       " 'Age',\n",
       " 'Country',\n",
       " 'Height',\n",
       " 'Weight',\n",
       " 'AssistsLastYear',\n",
       " 'GoalsLastYear',\n",
       " 'PointsLastYear',\n",
       " 'PIMSLastYear',\n",
       " 'ShotsLastYear',\n",
       " 'GamesLastYear',\n",
       " 'HitsLastYear',\n",
       " 'PPGLastYear',\n",
       " 'PPPLastYear',\n",
       " 'PPTOILastYear',\n",
       " 'ESTOILastYear',\n",
       " 'PIM2LastYear',\n",
       " 'FOPctLastYear',\n",
       " 'ShtPctLastYear',\n",
       " 'GWGLastYear',\n",
       " 'OTGLastYear',\n",
       " 'SHGLastYear',\n",
       " 'SHPLastYear',\n",
       " 'SHTOILastYear',\n",
       " 'BlocksLastYear',\n",
       " 'PlusMinusLastYear',\n",
       " 'Pts2LastYear',\n",
       " 'ShiftsLastYear',\n",
       " 'TOIperGameLastYear',\n",
       " 'EVTOIperGameLastYear',\n",
       " 'SHTOIperGameLastYear',\n",
       " 'PPTOIperGameLastYear',\n",
       " 'Assists2Years',\n",
       " 'Goals2Years',\n",
       " 'Points2Years',\n",
       " 'PIMS2Years',\n",
       " 'Shots2Years',\n",
       " 'Games2Years',\n",
       " 'Hits2Years',\n",
       " 'PPG2Years',\n",
       " 'PPP2Years',\n",
       " 'PPTOI2Years',\n",
       " 'ESTOI2Years',\n",
       " 'PIM22Years',\n",
       " 'FOPct2Years',\n",
       " 'ShtPct2Years',\n",
       " 'GWG2Years',\n",
       " 'OTG2Years',\n",
       " 'SHG2Years',\n",
       " 'SHP2Years',\n",
       " 'SHTOI2Years',\n",
       " 'Blocks2Years',\n",
       " 'PlusMinus2Years',\n",
       " 'Pts22Years',\n",
       " 'Shifts2Years',\n",
       " 'TOIperGame2Years',\n",
       " 'EVTOIperGame2Years',\n",
       " 'SHTOIperGame2Years',\n",
       " 'PPTOIperGame2Years',\n",
       " 'Assists3Years',\n",
       " 'Goals3Years',\n",
       " 'Points3Years',\n",
       " 'PIMS3Years',\n",
       " 'Shots3Years',\n",
       " 'Games3Years',\n",
       " 'Hits3Years',\n",
       " 'PPG3Years',\n",
       " 'PPP3Years',\n",
       " 'PPTOI3Years',\n",
       " 'ESTOI3Years',\n",
       " 'PIM23Years',\n",
       " 'FOPct3Years',\n",
       " 'ShtPct3Years',\n",
       " 'GWG3Years',\n",
       " 'OTG3Years',\n",
       " 'SHG3Years',\n",
       " 'SHP3Years',\n",
       " 'SHTOI3Years',\n",
       " 'Blocks3Years',\n",
       " 'PlusMinus3Years',\n",
       " 'Pts23Years',\n",
       " 'Shifts3Years',\n",
       " 'TOIperGame3Years',\n",
       " 'EVTOIperGame3Years',\n",
       " 'SHTOIperGame3Years',\n",
       " 'PPTOIperGame3Years',\n",
       " 'Assists4Years',\n",
       " 'Goals4Years',\n",
       " 'Points4Years',\n",
       " 'PIMS4Years',\n",
       " 'Shots4Years',\n",
       " 'Games4Years',\n",
       " 'Hits4Years',\n",
       " 'PPG4Years',\n",
       " 'PPP4Years',\n",
       " 'PPTOI4Years',\n",
       " 'ESTOI4Years',\n",
       " 'PIM24Years',\n",
       " 'FOPct4Years',\n",
       " 'ShtPct4Years',\n",
       " 'GWG4Years',\n",
       " 'OTG4Years',\n",
       " 'SHG4Years',\n",
       " 'SHP4Years',\n",
       " 'SHTOI4Years',\n",
       " 'Blocks4Years',\n",
       " 'PlusMinus4Years',\n",
       " 'Pts24Years',\n",
       " 'Shifts4Years',\n",
       " 'TOIperGame4Years',\n",
       " 'EVTOIperGame4Years',\n",
       " 'SHTOIperGame4Years',\n",
       " 'PPTOIperGame4Years',\n",
       " 'Assists5Years',\n",
       " 'Goals5Years',\n",
       " 'Points5Years',\n",
       " 'PIMS5Years',\n",
       " 'Shots5Years',\n",
       " 'Games5Years',\n",
       " 'Hits5Years',\n",
       " 'PPG5Years',\n",
       " 'PPP5Years',\n",
       " 'PPTOI5Years',\n",
       " 'ESTOI5Years',\n",
       " 'PIM25Years',\n",
       " 'FOPct5Years',\n",
       " 'ShtPct5Years',\n",
       " 'GWG5Years',\n",
       " 'OTG5Years',\n",
       " 'SHG5Years',\n",
       " 'SHP5Years',\n",
       " 'SHTOI5Years',\n",
       " 'Blocks5Years',\n",
       " 'PlusMinus5Years',\n",
       " 'Pts25Years',\n",
       " 'Shifts5Years',\n",
       " 'TOIperGame5Years',\n",
       " 'EVTOIperGame5Years',\n",
       " 'SHTOIperGame5Years',\n",
       " 'PPTOIperGame5Years']"
      ]
     },
     "metadata": {},
     "output_type": "display_data"
    }
   ],
   "source": [
    "# conda install -c anaconda keras-gpu\n",
    "with pd.option_context('display.max_rows', None, 'display.max_columns', None): \n",
    "    display(list(CDF2.columns))\n",
    "    \n",
    "    \n",
    "CDF2.to_csv(\"Pre_Model_Dataframe.csv\")"
   ]
  },
  {
   "cell_type": "code",
   "execution_count": 20,
   "metadata": {},
   "outputs": [
    {
     "ename": "ModuleNotFoundError",
     "evalue": "No module named 'keras_pandas'",
     "output_type": "error",
     "traceback": [
      "\u001b[1;31m---------------------------------------------------------------------------\u001b[0m",
      "\u001b[1;31mModuleNotFoundError\u001b[0m                       Traceback (most recent call last)",
      "\u001b[1;32m<ipython-input-20-2c8555f7563a>\u001b[0m in \u001b[0;36m<module>\u001b[1;34m\u001b[0m\n\u001b[0;32m      4\u001b[0m \u001b[1;32mfrom\u001b[0m \u001b[0mkeras\u001b[0m\u001b[1;33m.\u001b[0m\u001b[0mlayers\u001b[0m \u001b[1;32mimport\u001b[0m \u001b[0mDense\u001b[0m\u001b[1;33m\u001b[0m\u001b[1;33m\u001b[0m\u001b[0m\n\u001b[0;32m      5\u001b[0m \u001b[1;33m\u001b[0m\u001b[0m\n\u001b[1;32m----> 6\u001b[1;33m \u001b[1;32mfrom\u001b[0m \u001b[0mkeras_pandas\u001b[0m\u001b[1;33m.\u001b[0m\u001b[0mAutomater\u001b[0m \u001b[1;32mimport\u001b[0m \u001b[0mAutomater\u001b[0m\u001b[1;33m\u001b[0m\u001b[1;33m\u001b[0m\u001b[0m\n\u001b[0m\u001b[0;32m      7\u001b[0m \u001b[1;33m\u001b[0m\u001b[0m\n\u001b[0;32m      8\u001b[0m \u001b[0mcategorical_vars\u001b[0m \u001b[1;33m=\u001b[0m \u001b[1;33m[\u001b[0m\u001b[1;34m'Position'\u001b[0m\u001b[1;33m,\u001b[0m\u001b[1;34m'Country'\u001b[0m\u001b[1;33m]\u001b[0m\u001b[1;33m\u001b[0m\u001b[1;33m\u001b[0m\u001b[0m\n",
      "\u001b[1;31mModuleNotFoundError\u001b[0m: No module named 'keras_pandas'"
     ]
    }
   ],
   "source": [
    "# FinalDataframe = CDF2\n",
    "\n",
    "# from keras import Model\n",
    "# from keras.layers import Dense\n",
    "\n",
    "# from keras_pandas.Automater import Automater\n",
    "\n",
    "# categorical_vars = ['Position','Country']\n",
    "# numerical_vars = ['Age','Height','Weight','AssistsLastYear','GoalsLastYear', 'PointsLastYear', 'PIMSLastYear',\n",
    "#                   'ShotsLastYear', 'GamesLastYear', 'HitsLastYear', 'PPGLastYear', 'PPPLastYear', 'PPTOILastYear',\n",
    "#                   'ESTOILastYear', 'PIM2LastYear', 'FOPctLastYear', 'ShtPctLastYear', 'GWGLastYear', 'OTGLastYear',\n",
    "#                   'SHGLastYear', 'SHPLastYear', 'SHTOILastYear', 'BlocksLastYear', 'PlusMinusLastYear', 'Pts2LastYear',\n",
    "#                   'ShiftsLastYear', 'TOIperGameLastYear', 'EVTOIperGameLastYear', 'SHTOIperGameLastYear',\n",
    "#                   'PPTOIperGameLastYear', 'Assists2Years', 'Goals2Years', 'Points2Years', 'PIMS2Years', 'Shots2Years',\n",
    "#                   'Games2Years', 'Hits2Years', 'PPG2Years', 'PPP2Years', 'PPTOI2Years', 'ESTOI2Years', 'PIM22Years',\n",
    "#                   'FOPct2Years', 'ShtPct2Years', 'GWG2Years', 'OTG2Years', 'SHG2Years', 'SHP2Years', 'SHTOI2Years',\n",
    "#                   'Blocks2Years', 'PlusMinus2Years', 'Pts22Years', 'Shifts2Years', 'TOIperGame2Years', 'EVTOIperGame2Years',\n",
    "#                   'SHTOIperGame2Years', 'PPTOIperGame2Years', 'Assists3Years', 'Goals3Years', 'Points3Years', 'PIMS3Years',\n",
    "#                   'Shots3Years', 'Games3Years', 'Hits3Years', 'PPG3Years', 'PPP3Years', 'PPTOI3Years', 'ESTOI3Years',\n",
    "#                   'PIM23Years', 'FOPct3Years', 'ShtPct3Years', 'GWG3Years', 'OTG3Years', 'SHG3Years', 'SHP3Years',\n",
    "#                   'SHTOI3Years', 'Blocks3Years', 'PlusMinus3Years', 'Pts23Years', 'Shifts3Years', 'TOIperGame3Years',\n",
    "#                   'EVTOIperGame3Years', 'SHTOIperGame3Years', 'PPTOIperGame3Years', 'Assists4Years', 'Goals4Years',\n",
    "#                   'Points4Years', 'PIMS4Years', 'Shots4Years', 'Games4Years', 'Hits4Years', 'PPG4Years', 'PPP4Years',\n",
    "#                   'PPTOI4Years', 'ESTOI4Years', 'PIM24Years', 'FOPct4Years', 'ShtPct4Years', 'GWG4Years', 'OTG4Years',\n",
    "#                   'SHG4Years', 'SHP4Years', 'SHTOI4Years', 'Blocks4Years', 'PlusMinus4Years', 'Pts24Years', 'Shifts4Years',\n",
    "#                   'TOIperGame4Years', 'EVTOIperGame4Years', 'SHTOIperGame4Years', 'PPTOIperGame4Years', 'Assists5Years',\n",
    "#                   'Goals5Years', 'Points5Years', 'PIMS5Years', 'Shots5Years', 'Games5Years', 'Hits5Years', 'PPG5Years',\n",
    "#                   'PPP5Years', 'PPTOI5Years', 'ESTOI5Years', 'PIM25Years', 'FOPct5Years', 'ShtPct5Years', 'GWG5Years',\n",
    "#                   'OTG5Years', 'SHG5Years', 'SHP5Years', 'SHTOI5Years', 'Blocks5Years', 'PlusMinus5Years', 'Pts25Years', \n",
    "#                   'Shifts5Years', 'TOIperGame5Years', 'EVTOIperGame5Years', 'SHTOIperGame5Years', 'PPTOIperGame5Years']\n",
    "\n",
    "# auto = Automater(categorical_vars=categorical_vars, numerical_vars=numerical_vars, text_vars=text_vars,\n",
    "#  response_var='Target')\n",
    "# X, y = auto.fit_transform(observations)\n",
    "\n",
    "# x = auto.input_nub\n",
    "# x = Dense(256)(x)\n",
    "# x = Dense(256, activation='relu')(x)\n",
    "# x = Dense(256, activation='relu')(x)\n",
    "# x = Dense(128, activate='relu')(x)\n",
    "# x = Dense(128)(x)\n",
    "\n",
    "# x = auto.output_nub(x)\n",
    "\n",
    "# model = Model(inputs=auto.input_layers, outputs=x)\n",
    "# model.compile(optimizer='Adam', loss='sparse_categorical_crossentropy', metrics=['accuracy'])\n",
    "\n",
    "# # Train model\n",
    "# model.fit(X, y, epochs=4, validation_split=.2)"
   ]
  },
  {
   "cell_type": "code",
   "execution_count": null,
   "metadata": {},
   "outputs": [],
   "source": [
    "# from keras.models import Sequential\n",
    "# from keras.layers import Dense\n",
    "# from keras.models import load_model\n",
    "# from keras.layers import Dropout\n",
    "# from keras.wrappers.scikit_learn import KerasClassifier\n",
    "# from keras.constraints import maxnorm\n",
    "# from keras.optimizers import SGD\n",
    "# from sklearn.model_selection import StratifiedKFold\n",
    "# from sklearn.model_selection import cross_val_score\n",
    "# from sklearn.preprocessing import LabelEncoder\n",
    "# from sklearn.model_selection import StratifiedKFold\n",
    "# from sklearn.preprocessing import StandardScaler\n",
    "# from sklearn.pipeline import Pipeline\n",
    "# from sklearn.model_selection import train_test_split\n",
    "# from pandas_profiling import ProfileReport\n",
    "# from plotnine import *\n",
    "# import keras\n",
    "# import argparse\n",
    "# import numpy as np\n",
    "# import tensorflow as tf\n",
    "# import h5py\n",
    "# import pandas as pd\n",
    "# import pyreadr\n",
    "# import matplotlib.pyplot as plt\n",
    "# %matplotlib inline\n",
    "# import seaborn as sns\n",
    "# from sklearn.metrics import r2_score\n",
    "# import rpy2.robjects as ro\n",
    "# from rpy2.robjects import pandas2ri\n",
    "# from rpy2.robjects.conversion import localconverter\n",
    "# from keras.callbacks import EarlyStopping\n",
    "# from keras.callbacks import ModelCheckpoint\n",
    "# from keras.callbacks import LearningRateScheduler\n",
    "# from keras.callbacks import TensorBoard\n",
    "# from keras import layers\n",
    "# from plotnine import *\n",
    "# import statistics\n",
    "# from scipy.stats import ttest_ind\n",
    "# import scipy as sp\n",
    "# pandas2ri.activate()\n",
    "# # import csv"
   ]
  },
  {
   "cell_type": "code",
   "execution_count": null,
   "metadata": {},
   "outputs": [],
   "source": [
    "# pip install pandas_profiling\n"
   ]
  },
  {
   "cell_type": "code",
   "execution_count": 26,
   "metadata": {},
   "outputs": [],
   "source": [
    "\n",
    "\n",
    "Goals = pd.read_hdf(\"Goals.h5\", key = 'Goals')\n",
    "Hits = pd.read_hdf(\"Hits.h5\", key = \"Hits\")\n",
    "Missed_Shots = pd.read_hdf(\"Missed.h5\", key = \"Missed_Shots\")\n",
    "Shots = pd.read_hdf(\"Shots.h5\", key = \"Shots\")\n",
    "Penalties = pd.read_hdf(\"Penalties.h5\", key = \"Penalties\")\n",
    "\n",
    "SeasonDetails = pd.read_hdf(\"AllSeasonDetails.h5\", key = \"SeasonDetails\")\n",
    "SkaterStatistics = pd.read_hdf(\"SkaterStats.h5\", key = \"SkaterStatistics\")\n",
    "GoalieStatistics = pd.read_hdf(\"GoalieStats.h5\", key = \"GoalieStatistics\")\n",
    "FullRoster = pd.read_hdf(\"NHLRoster.h5\", key = \"FullRoster\")\n",
    "PlayerDetails = pd.read_hdf(\"PlayerDetails.h5\", key = \"PlayerDetails\")\n",
    "\n",
    "\n",
    "Goals.to_csv(\"Goals.csv\")\n",
    "Hits.to_csv(\"Hits.csv\")\n",
    "Missed_Shots.to_csv(\"Missed.csv\")\n",
    "Shots.to_csv(\"Shots.csv\")\n",
    "Penalties.to_csv(\"Penalties.csv\")\n",
    "\n",
    "SeasonDetails.to_csv(\"AllSeasonDetails.csv\")\n",
    "SkaterStatistics.to_csv(\"SkaterStats.csv\")\n",
    "GoalieStatistics.to_csv(\"GoalieStats.csv\")\n",
    "FullRoster.to_csv(\"NHLRoster.csv\")\n",
    "PlayerDetails.to_csv(\"PlayerDetails.csv\")"
   ]
  }
 ],
 "metadata": {
  "kernelspec": {
   "display_name": "Python 3",
   "language": "python",
   "name": "python3"
  },
  "language_info": {
   "codemirror_mode": {
    "name": "ipython",
    "version": 3
   },
   "file_extension": ".py",
   "mimetype": "text/x-python",
   "name": "python",
   "nbconvert_exporter": "python",
   "pygments_lexer": "ipython3",
   "version": "3.8.5"
  }
 },
 "nbformat": 4,
 "nbformat_minor": 4
}
